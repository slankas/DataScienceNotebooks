{
 "cells": [
  {
   "cell_type": "markdown",
   "metadata": {},
   "source": [
    "# Summarization"
   ]
  },
  {
   "cell_type": "code",
   "execution_count": 1,
   "metadata": {},
   "outputs": [],
   "source": [
    "import requests\n",
    "from bs4 import BeautifulSoup\n",
    "import os.path\n",
    "from dateutil import parser\n",
    "import pandas as pd\n",
    "import numpy as np"
   ]
  },
  {
   "cell_type": "code",
   "execution_count": 2,
   "metadata": {},
   "outputs": [],
   "source": [
    "def download_article(url):\n",
    "    # check if article already there\n",
    "    filename = url.split(\"/\")[-1] + \".html\"\n",
    "    filename = f\"./\" + filename\n",
    "    if not os.path.isfile(filename):\n",
    "        r = requests.get(url)\n",
    "        with open(filename, \"w+\") as f:\n",
    "            f.write(r.text)\n",
    "    return filename"
   ]
  },
  {
   "cell_type": "code",
   "execution_count": 3,
   "metadata": {},
   "outputs": [],
   "source": [
    "def parse_article(article_file):\n",
    "    with open(article_file, \"r\") as f:\n",
    "        html = f.read()\n",
    "    r = {}\n",
    "    soup = BeautifulSoup(html, 'html.parser')\n",
    "    #r['id'] = soup.select_one(\"div.StandardArticle_inner-container\")['id']\n",
    "    r['url'] = soup.find(\"link\", {'rel': 'canonical'})['href']\n",
    "    r['headline'] = soup.h1.text\n",
    "    #r['section'] = soup.select_one(\"div.ArticleHeader_channel a\").text\n",
    "    \n",
    "    r['text'] = soup.select_one(\"div.ArticleBodyWrapper\").text\n",
    "    r['authors'] = [a.text \n",
    "                    for a in soup.select(\"div.BylineBar_first-container.ArticleHeader_byline-bar\\\n",
    "                                          div.BylineBar_byline span\")]\n",
    "    r['time'] = soup.find(\"meta\", { 'property': \"og:article:published_time\"})['content']\n",
    "    return r"
   ]
  },
  {
   "cell_type": "code",
   "execution_count": 4,
   "metadata": {},
   "outputs": [
    {
     "name": "stdout",
     "output_type": "stream",
     "text": [
      "Article Published on '2018-03-15T11:37:01Z'\n",
      "\"By Eric Auchard, Stephen Nellis4 Min ReadLONDON/SAN FRANCISCO (Reuters) - U.S. President Donald Trump has blocked microchip maker Broadcom Ltd's AVGO.O $117 billion takeover of rival Qualcomm QCOM.O amid concerns that it would give China the upper hand in the next generation of mobile communications, or 5G.A 5G sign is seen at the Mobile World Congress in Barcelona, Spain February 28, 2018. REU...d 4G wireless and looks set to top the list of patent holders heading into the 5G cycle.Huawei, Nokia, Ericsson and others are also vying to amass 5G patents, which has helped spur complex cross-licensing agreements like the deal struck late last year Nokia and Huawei around handsets.Editing by Kim Miyoung in Singapore and Jason Neely in LondonOur Standards: The Thomson Reuters Trust Principles.\"\n"
     ]
    }
   ],
   "source": [
    "import reprlib\n",
    "r = reprlib.Repr()\n",
    "r.maxstring = 800\n",
    "\n",
    "url1 = \"https://www.reuters.com/article/us-qualcomm-m-a-broadcom-5g/what-is-5g-and-who-are-the-major-players-idUSKCN1GR1IN\"\n",
    "article_name1 = download_article(url1)\n",
    "article1 = parse_article(article_name1)\n",
    "print ('Article Published on', r.repr(article1['time']))\n",
    "print (r.repr(article1['text']))"
   ]
  },
  {
   "cell_type": "markdown",
   "metadata": {},
   "source": [
    "## Identifying Important Words with TF-IDF Values"
   ]
  },
  {
   "cell_type": "code",
   "execution_count": 5,
   "metadata": {},
   "outputs": [],
   "source": [
    "from sklearn.feature_extraction.text import TfidfVectorizer\n",
    "from nltk import tokenize\n",
    "\n",
    "sentences = tokenize.sent_tokenize(article1['text'])\n",
    "tfidfVectorizer = TfidfVectorizer()\n",
    "words_tfidf = tfidfVectorizer.fit_transform(sentences)"
   ]
  },
  {
   "cell_type": "code",
   "execution_count": 6,
   "metadata": {},
   "outputs": [
    {
     "name": "stdout",
     "output_type": "stream",
     "text": [
      "REUTERS/Yves HermanBelow are some facts about 5G and major players.WHAT IS 5G?5G networks, now in the final testing stage, will rely on denser arrays of small antennas and the cloud to offer data speeds up to 50 or 100 times faster than current 4G networks and serve as critical infrastructure for a range of industries.Deals to start building mass-market 5G networks are still largely a year away, but by 2025, 1.2 billion people are set to have access to 5G networks - a third of them in China, according to the global wireless trade group GSMA.Moving to new networks promises to enable new mobile services and even whole new business models, but could pose challenges for countries and industries unprepared to invest in the transition.Unlike the upgrades of cellular standards 2G in the early 1990s, 3G around the millennium and 4G in 2010, 5G standards will deliver not just faster phone and computer data but also help connect up cars, machines, cargo and crop equipment.WHY IS THE U.S.\n",
      "WORRIED?The Committee on Foreign Investment in the United States (CFIUS), which vets acquisitions of U.S. corporations by foreign companies, said the Broadcom takeover risked weakening Qualcomm, which would boost China over the United States in the 5G race.Slideshow ( 2 images )Acquiring Qualcomm would represent the jewel in the crown of Broadcom’s portfolio of communications chips, which supply wi-fi, power management, video and other features in smartphones alongside Qualcomm’s core baseband chips - radio modems that wirelessly connect phones to networks.The concern is that a takeover by Singapore-based Broadcom could see the firm cut research and development spending by Qualcomm or hive off strategically important parts of the company to other buyers, including in China, U.S. officials and analysts have said.5G promises to open up the clubby world of telecom equipment by creating openings for a far wider range of players in hardware, software and semiconductors, many of them from Asia, increasing the dependence of Silicon Valley on foreign players.MAJOR PLAYERSBefore the new technology becomes a reality for consumers, two transitions need to take place.Mobile operators have to upgrade their networks with 5G gear made by the likes of Huawei [HWT.UL] and ZTE 0000630.SZ of China, Sweden's Ericsson ERICb.ST and Finland's Nokia NOKIA.HE.\n",
      "Its dominant position in 5G comes from its mastery of two areas: getting its patents adopted in what are known as standards and then selling the chip designs that work with those standards.The standards are set by a global body to ensure all phones work across different mobile networks, and whoever’s essential patents end up making it into the standard stands to reap huge royalty licensing revenue streams.Qualcomm has landed a number of these foundational patents, which means that both handset makers and telecommunications gear makers will have to pay it licensing fees.\n"
     ]
    }
   ],
   "source": [
    "# Parameter to specify number of summary sentences required\n",
    "num_summary_sentence = 3\n",
    "\n",
    "# Sort the sentences in descending order by the sum of TF-IDF values\n",
    "sent_sum = words_tfidf.sum(axis=1)\n",
    "important_sent = np.argsort(sent_sum, axis=0)[::-1]\n",
    "\n",
    "# Print three most important sentences in the order they appear in the article\n",
    "for i in range(0, len(sentences)):\n",
    "    if i in important_sent[:num_summary_sentence]:\n",
    "        print (sentences[i])"
   ]
  },
  {
   "cell_type": "code",
   "execution_count": 7,
   "metadata": {},
   "outputs": [],
   "source": [
    "from sklearn.feature_extraction.text import TfidfVectorizer\n",
    "from nltk import tokenize\n",
    "\n",
    "def tfidf_summary(text, num_summary_sentence):\n",
    "    summary_sentence = []\n",
    "    sentences = tokenize.sent_tokenize(text)\n",
    "    tfidfVectorizer = TfidfVectorizer()\n",
    "    words_tfidf = tfidfVectorizer.fit_transform(sentences)\n",
    "    sentence_sum = words_tfidf.sum(axis=1)\n",
    "    important_sentences = np.argsort(sentence_sum, axis=0)[::-1]\n",
    "    for i in range(0, len(sentences)):\n",
    "        if i in important_sentences[:num_summary_sentence]:\n",
    "            summary_sentence.append(sentences[i])\n",
    "    return summary_sentence"
   ]
  },
  {
   "cell_type": "markdown",
   "metadata": {},
   "source": [
    "## LSA"
   ]
  },
  {
   "cell_type": "code",
   "execution_count": 8,
   "metadata": {},
   "outputs": [
    {
     "name": "stdout",
     "output_type": "stream",
     "text": [
      "By Eric Auchard, Stephen Nellis4 Min ReadLONDON/SAN FRANCISCO (Reuters) - U.S. President Donald Trump has blocked microchip maker Broadcom Ltd's AVGO.O $117 billion takeover of rival Qualcomm QCOM.O amid concerns that it would give China the upper hand in the next generation of mobile communications, or 5G.A 5G sign is seen at the Mobile World Congress in Barcelona, Spain February 28, 2018.\n",
      "WORRIED?The Committee on Foreign Investment in the United States (CFIUS), which vets acquisitions of U.S. corporations by foreign companies, said the Broadcom takeover risked weakening Qualcomm, which would boost China over the United States in the 5G race.Slideshow ( 2 images )Acquiring Qualcomm would represent the jewel in the crown of Broadcom’s portfolio of communications chips, which supply wi-fi, power management, video and other features in smartphones alongside Qualcomm’s core baseband chips - radio modems that wirelessly connect phones to networks.The concern is that a takeover by Singapore-based Broadcom could see the firm cut research and development spending by Qualcomm or hive off strategically important parts of the company to other buyers, including in China, U.S. officials and analysts have said.5G promises to open up the clubby world of telecom equipment by creating openings for a far wider range of players in hardware, software and semiconductors, many of them from Asia, increasing the dependence of Silicon Valley on foreign players.MAJOR PLAYERSBefore the new technology becomes a reality for consumers, two transitions need to take place.Mobile operators have to upgrade their networks with 5G gear made by the likes of Huawei [HWT.UL] and ZTE 0000630.SZ of China, Sweden's Ericsson ERICb.ST and Finland's Nokia NOKIA.HE.\n",
      "It dominated standards setting in 3G and 4G wireless and looks set to top the list of patent holders heading into the 5G cycle.Huawei, Nokia, Ericsson and others are also vying to amass 5G patents, which has helped spur complex cross-licensing agreements like the deal struck late last year Nokia and Huawei around handsets.Editing by Kim Miyoung in Singapore and Jason Neely in LondonOur Standards: The Thomson Reuters Trust Principles.\n"
     ]
    }
   ],
   "source": [
    "\n",
    "from sumy.parsers.plaintext import PlaintextParser\n",
    "from sumy.nlp.tokenizers import Tokenizer\n",
    "from sumy.nlp.stemmers import Stemmer\n",
    "from sumy.utils import get_stop_words\n",
    "\n",
    "from sumy.summarizers.lsa import LsaSummarizer\n",
    "\n",
    "LANGUAGE = \"english\"\n",
    "stemmer = Stemmer(LANGUAGE)\n",
    "\n",
    "parser = PlaintextParser.from_string(article1['text'], Tokenizer(LANGUAGE))\n",
    "summarizer = LsaSummarizer(stemmer)\n",
    "summarizer.stop_words = get_stop_words(LANGUAGE)\n",
    "\n",
    "for sentence in summarizer(parser.document, num_summary_sentence):\n",
    "    print (str(sentence))"
   ]
  },
  {
   "cell_type": "code",
   "execution_count": 9,
   "metadata": {},
   "outputs": [],
   "source": [
    "def lsa_summary(text, num_summary_sentence):\n",
    "    summary_sentence = []\n",
    "    LANGUAGE = \"english\"\n",
    "    stemmer = Stemmer(LANGUAGE)\n",
    "    parser = PlaintextParser.from_string(text, Tokenizer(LANGUAGE))\n",
    "    summarizer = LsaSummarizer(stemmer)\n",
    "    summarizer.stop_words = get_stop_words(LANGUAGE)\n",
    "    for sentence in summarizer(parser.document, num_summary_sentence):\n",
    "        summary_sentence.append(str(sentence))\n",
    "    return summary_sentence"
   ]
  },
  {
   "cell_type": "code",
   "execution_count": 10,
   "metadata": {},
   "outputs": [
    {
     "name": "stdout",
     "output_type": "stream",
     "text": [
      "Article Published '2018-03-15T11:37:01Z'\n",
      "'By Saqib Iqbal Ahmed7 Min ReadNEW YORK A protracted trade war between China and the United States, the world’s largest economies, and a deteriorating global growth outlook has left investors apprehensive about the end to the longest expansion in American history.FILE PHOTO: Ships and shipping containers are pictured at the port of Long Beach in Long Beach, California, U.S., January 30, 2019.   ...roughton wrote in the June Cass Freight Index report.12. MISERY INDEXThe so-called Misery Index adds together the unemployment rate and the inflation rate. It typically rises during recessions and sometimes prior to downturns. It has slipped lower in 2019 and does not look very miserable.Reporting by Saqib Iqbal Ahmed; Editing by Chizu NomiyamaOur Standards: The Thomson Reuters Trust Principles.'\n"
     ]
    }
   ],
   "source": [
    "r.maxstring = 800\n",
    "url2 = \"https://www.reuters.com/article/us-usa-economy-watchlist-graphic/predicting-the-next-u-s-recession-idUSKCN1V31JE\"\n",
    "article_name2 = download_article(url2)\n",
    "article2 = parse_article(article_name2)\n",
    "print ('Article Published', r.repr(article1['time']))\n",
    "print (r.repr(article2['text']))"
   ]
  },
  {
   "cell_type": "code",
   "execution_count": 11,
   "metadata": {},
   "outputs": [
    {
     "name": "stdout",
     "output_type": "stream",
     "text": [
      "REUTERS/Mike BlakeThe recent rise in U.S.-China trade war tensions has brought forward the next U.S. recession, according to a majority of economists polled by Reuters who now expect the Federal Reserve to cut rates again in September and once more next year.Trade tensions have pulled corporate confidence and global growth to multi-year lows and U.S. President Donald Trump’s announcement of more tariffs have raised downside risks significantly, Morgan Stanley analysts said in a recent note.Morgan Stanley forecast that if the U.S. lifts tariffs on all imports from China to 25 percent for 4-6 months and China takes countermeasures, the U.S. would be in recession in three quarters.Goldman Sachs Group said on Sunday that fears of the U.S.-China trade war leading to a recession are increasing and that Goldman no longer expects a trade deal between the world’s two largest economies before the 2020 U.S. presidential election.Global markets remain on edge with trade-related headlines spurring big moves in either direction.\n",
      "Currently the U.S. unemployment rate is near a 50-year low.“Although job gains have slowed this year, they continue to signal an above-trend economy,” economists at BofA Merrill Lynch Global Research said in a recent note.Claims will be watched over the coming weeks for signs that deteriorating trade relations between the United States and China, which have dimmed the economy’s outlook and roiled financial markets, were spilling over to the labor market.3.\n",
      "However, it is still worth watching, especially if it shows a tendency to drop well below the 50 level for an extended period of time.ISM said its index of national factory activity slipped to 51.2 last month, the lowest reading since August 2016, as U.S. manufacturing activity slowed to a near three-year low in July and hiring at factories shifted into lower gear, suggesting a further loss of momentum in economic growth early in the third quarter.“The slowdown in manufacturing activity likely reflects, in part, the tariffs that went into effect over the course of last year,” economists at BofA Merrill Lynch Global Research said in a note on Friday.9.\n"
     ]
    }
   ],
   "source": [
    "\n",
    "summary_sentence = tfidf_summary(article2['text'], num_summary_sentence)\n",
    "for sentence in summary_sentence:\n",
    "    print (sentence)"
   ]
  },
  {
   "cell_type": "code",
   "execution_count": 12,
   "metadata": {},
   "outputs": [
    {
     "name": "stdout",
     "output_type": "stream",
     "text": [
      "By Saqib Iqbal Ahmed7 Min ReadNEW YORK A protracted trade war between China and the United States, the world’s largest economies, and a deteriorating global growth outlook has left investors apprehensive about the end to the longest expansion in American history.FILE PHOTO: Ships and shipping containers are pictured at the port of Long Beach in Long Beach, California, U.S., January 30, 2019.\n",
      "REUTERS/Mike BlakeThe recent rise in U.S.-China trade war tensions has brought forward the next U.S. recession, according to a majority of economists polled by Reuters who now expect the Federal Reserve to cut rates again in September and once more next year.Trade tensions have pulled corporate confidence and global growth to multi-year lows and U.S. President Donald Trump’s announcement of more tariffs have raised downside risks significantly, Morgan Stanley analysts said in a recent note.Morgan Stanley forecast that if the U.S. lifts tariffs on all imports from China to 25 percent for 4-6 months and China takes countermeasures, the U.S. would be in recession in three quarters.Goldman Sachs Group said on Sunday that fears of the U.S.-China trade war leading to a recession are increasing and that Goldman no longer expects a trade deal between the world’s two largest economies before the 2020 U.S. presidential election.Global markets remain on edge with trade-related headlines spurring big moves in either direction.\n",
      "U.S. homebuilding fell for a second straight month in June and permits dropped to a two-year low, suggesting the housing market continued to struggle despite lower mortgage rates.8.\n"
     ]
    }
   ],
   "source": [
    "summary_sentence = lsa_summary(article2['text'], num_summary_sentence)\n",
    "for sentence in summary_sentence:\n",
    "    print (sentence)"
   ]
  },
  {
   "cell_type": "code",
   "execution_count": 13,
   "metadata": {},
   "outputs": [],
   "source": [
    "## Text Rank"
   ]
  },
  {
   "cell_type": "code",
   "execution_count": 14,
   "metadata": {},
   "outputs": [
    {
     "name": "stdout",
     "output_type": "stream",
     "text": [
      "REUTERS/Mike BlakeThe recent rise in U.S.-China trade war tensions has brought forward the next U.S. recession, according to a majority of economists polled by Reuters who now expect the Federal Reserve to cut rates again in September and once more next year.Trade tensions have pulled corporate confidence and global growth to multi-year lows and U.S. President Donald Trump’s announcement of more tariffs have raised downside risks significantly, Morgan Stanley analysts said in a recent note.Morgan Stanley forecast that if the U.S. lifts tariffs on all imports from China to 25 percent for 4-6 months and China takes countermeasures, the U.S. would be in recession in three quarters.Goldman Sachs Group said on Sunday that fears of the U.S.-China trade war leading to a recession are increasing and that Goldman no longer expects a trade deal between the world’s two largest economies before the 2020 U.S. presidential election.Global markets remain on edge with trade-related headlines spurring big moves in either direction.\n",
      "When the spread between the yield on the 3-month Treasury bill and that of the 10-year Treasury note slips below zero, as it did earlier this year, it points to investors accepting a lower yield for locking money up for a longer period of time.As recession signals go, this so-called inversion in the yield curve has a solid track record as a predictor of recessions.\n",
      "Currently the U.S. unemployment rate is near a 50-year low.“Although job gains have slowed this year, they continue to signal an above-trend economy,” economists at BofA Merrill Lynch Global Research said in a recent note.Claims will be watched over the coming weeks for signs that deteriorating trade relations between the United States and China, which have dimmed the economy’s outlook and roiled financial markets, were spilling over to the labor market.3.\n"
     ]
    }
   ],
   "source": [
    "from sumy.summarizers.text_rank import TextRankSummarizer\n",
    "\n",
    "parser = PlaintextParser.from_string(article2['text'], Tokenizer(LANGUAGE))\n",
    "summarizer = TextRankSummarizer(stemmer)\n",
    "summarizer.stop_words = get_stop_words(LANGUAGE)\n",
    "\n",
    "for sentence in summarizer(parser.document, num_summary_sentence):\n",
    "    print (str(sentence))"
   ]
  },
  {
   "cell_type": "code",
   "execution_count": 15,
   "metadata": {},
   "outputs": [],
   "source": [
    "def textrank_summary(text, num_summary_sentence):\n",
    "    summary_sentence = []\n",
    "    LANGUAGE = \"english\"\n",
    "    stemmer = Stemmer(LANGUAGE)\n",
    "    parser = PlaintextParser.from_string(text, Tokenizer(LANGUAGE))\n",
    "    summarizer = TextRankSummarizer(stemmer)\n",
    "    summarizer.stop_words = get_stop_words(LANGUAGE)\n",
    "    for sentence in summarizer(parser.document, num_summary_sentence):\n",
    "        summary_sentence.append(str(sentence))\n",
    "    return summary_sentence"
   ]
  },
  {
   "cell_type": "code",
   "execution_count": 16,
   "metadata": {},
   "outputs": [
    {
     "name": "stdout",
     "output_type": "stream",
     "text": [
      "REUTERS/Yves HermanBelow are some facts about 5G and major players.WHAT IS 5G?5G networks, now in the final testing stage, will rely on denser arrays of small antennas and the cloud to offer data speeds up to 50 or 100 times faster than current 4G networks and serve as critical infrastructure for a range of industries.Deals to start building mass-market 5G networks are still largely a year away, but by 2025, 1.2 billion people are set to have access to 5G networks - a third of them in China, according to the global wireless trade group GSMA.Moving to new networks promises to enable new mobile services and even whole new business models, but could pose challenges for countries and industries unprepared to invest in the transition.Unlike the upgrades of cellular standards 2G in the early 1990s, 3G around the millennium and 4G in 2010, 5G standards will deliver not just faster phone and computer data but also help connect up cars, machines, cargo and crop equipment.WHY IS THE U.S.\n",
      "WORRIED?The Committee on Foreign Investment in the United States (CFIUS), which vets acquisitions of U.S. corporations by foreign companies, said the Broadcom takeover risked weakening Qualcomm, which would boost China over the United States in the 5G race.Slideshow ( 2 images )Acquiring Qualcomm would represent the jewel in the crown of Broadcom’s portfolio of communications chips, which supply wi-fi, power management, video and other features in smartphones alongside Qualcomm’s core baseband chips - radio modems that wirelessly connect phones to networks.The concern is that a takeover by Singapore-based Broadcom could see the firm cut research and development spending by Qualcomm or hive off strategically important parts of the company to other buyers, including in China, U.S. officials and analysts have said.5G promises to open up the clubby world of telecom equipment by creating openings for a far wider range of players in hardware, software and semiconductors, many of them from Asia, increasing the dependence of Silicon Valley on foreign players.MAJOR PLAYERSBefore the new technology becomes a reality for consumers, two transitions need to take place.Mobile operators have to upgrade their networks with 5G gear made by the likes of Huawei [HWT.UL] and ZTE 0000630.SZ of China, Sweden's Ericsson ERICb.ST and Finland's Nokia NOKIA.HE.\n",
      "Its dominant position in 5G comes from its mastery of two areas: getting its patents adopted in what are known as standards and then selling the chip designs that work with those standards.The standards are set by a global body to ensure all phones work across different mobile networks, and whoever’s essential patents end up making it into the standard stands to reap huge royalty licensing revenue streams.Qualcomm has landed a number of these foundational patents, which means that both handset makers and telecommunications gear makers will have to pay it licensing fees.\n"
     ]
    }
   ],
   "source": [
    "parser = PlaintextParser.from_string(article1['text'], Tokenizer(LANGUAGE))\n",
    "summarizer = TextRankSummarizer(stemmer)\n",
    "summarizer.stop_words = get_stop_words(LANGUAGE)\n",
    "\n",
    "for sentence in summarizer(parser.document, num_summary_sentence):\n",
    "    print (str(sentence))"
   ]
  },
  {
   "cell_type": "code",
   "execution_count": null,
   "metadata": {},
   "outputs": [],
   "source": []
  },
  {
   "cell_type": "markdown",
   "metadata": {},
   "source": [
    "### use a longer page from wikipedia\n",
    "https://en.wikipedia.org/wiki/Mongol_invasion_of_Europe"
   ]
  },
  {
   "cell_type": "code",
   "execution_count": 17,
   "metadata": {},
   "outputs": [],
   "source": [
    "import wikipediaapi\n",
    "\n",
    "wiki_wiki = wikipediaapi.Wikipedia(\n",
    "        language='en',\n",
    "        extract_format=wikipediaapi.ExtractFormat.WIKI\n",
    ")"
   ]
  },
  {
   "cell_type": "code",
   "execution_count": 18,
   "metadata": {},
   "outputs": [],
   "source": [
    "r.maxstring = 500"
   ]
  },
  {
   "cell_type": "code",
   "execution_count": 19,
   "metadata": {},
   "outputs": [
    {
     "name": "stdout",
     "output_type": "stream",
     "text": [
      "'From the 1220s into the 1240s, the Mongols conquered Volga Bulgaria, Cumania, Alania, and the Kievan Rus\\' federation. They launched a two-pronged invasion of fragmented Poland, culminating in the Battle of Legnica (9 April 1241), and the Kingdom ...Citations\\nSources\\nSverdrup, Carl (2010). \"Numbers in Mongol Warfare\". Journal of Medieval Military History. Boydell Press. 8: 109–17 [p. 115]. ISBN 978-1-84383-596-7.\\n\\nFurther reading\\nExternal links\\nThe Islamic World to 1600: The Golden Horde'\n"
     ]
    }
   ],
   "source": [
    "# https://en.wikipedia.org/wiki/Mongol_invasion_of_Europe\n",
    "p_wiki = wiki_wiki.page('Mongol_invasion_of_Europe')\n",
    "print (r.repr(p_wiki.text))\n",
    "r.maxstring = 200"
   ]
  },
  {
   "cell_type": "code",
   "execution_count": 20,
   "metadata": {},
   "outputs": [
    {
     "name": "stdout",
     "output_type": "stream",
     "text": [
      "European tactics against Mongols The traditional European method of warfare of melee combat between knights ended in catastrophe when it was deployed against the Mongol forces as the Mongols were able to keep a distance and advance with superior numbers.\n",
      "Austrian knights under Duke Frederick also fared better in fighting the Mongol invasion in Vienna.King Béla IV hired the help of the Knights of St. John, as well as training his own better-armed local knights, in preparation for the Second Mongol invasion of Hungary.\n",
      "After the division of the Mongol Empire into four fragments, when the Golden Horde attempted the next invasion of Hungary, Hungary had increased their proportion of knights (led by Ladislaus IV of Hungary) and they quickly defeated the main Golden Horde Army in the hills of western Transylvania.By this time as well, many Eastern and Central European countries had ended their hostilities with one another and united to finally drive out the remnants of the Golden Horde.\n",
      "An analysis of tree rings there found that Hungary had cold wet weather in early 1242, which likely turned Hungary's central plain into a huge swamp; so, lacking pastures for their horses, the Mongols would have had to fall back to Rus' in search of better grasslands.Regardless of their reasons, the Mongols had completely withdrawn from Central Europe by mid-1242, though they still launched military operations in the west at this time, most notably the 1241–1243 Mongol invasion of Anatolia.\n",
      "They have sometimes been collectively referred to as \"the second Mongol invasion of Europe\", \"the second Tatar-Mongol invasion of central and south-eastern Europe\", or \"the second Mongol invasion of central Europe.\"\n"
     ]
    }
   ],
   "source": [
    "num_summary_sentence = 5\n",
    "summary_sentence = textrank_summary(p_wiki.text, num_summary_sentence)\n",
    "\n",
    "for sentence in summary_sentence:\n",
    "    print (sentence)"
   ]
  },
  {
   "cell_type": "code",
   "execution_count": 21,
   "metadata": {},
   "outputs": [
    {
     "name": "stdout",
     "output_type": "stream",
     "text": [
      "But while the Mongols claimed control of Hungary, they could not occupy fortified cities such as Fehérvár, Veszprém, Tihany, Győr, Pannonhalma, Moson, Sopron, Vasvár, Újhely, Zala, Léka, Pozsony , Nyitra, Komárom, Fülek and Abaújvár.\n",
      "Using similar tactics during their campaigns in previous Eastern and Central European countries, the Mongols first launched small squadrons to attack isolated settlements in the outskirts of Vienna in an attempt to instill fear and panic among the populace.\n",
      "John Andrew Boyle asserts, based on the orthography, that Rashid Al-Din's account of the withdrawal from central Europe was taken verbatim from Mongolian records.Another theory is that weather data preserved in tree rings points to a series of warm, dry summers in the region until 1242.\n",
      "In addition to calling a council to depose the Holy Roman Emperor, Pope Gregory IX and his successor Innocent IV excommunicated Frederick four times and labeled him the Antichrist.In the 1240s the efforts of Christendom were already divided between five Crusades, only one of which was aimed against the Mongols.\n",
      "The outcome could not have contrasted more sharply with the 1241 invasion, mostly due to the reforms of Béla IV, which included advances in military tactics and, most importantly, the widespread building of stone castles, both responses to the defeat of the Hungarian Kingdom in 1241.\n"
     ]
    }
   ],
   "source": [
    "summary_sentence = lsa_summary(p_wiki.text, num_summary_sentence)\n",
    "for sentence in summary_sentence:\n",
    "    print (sentence)"
   ]
  },
  {
   "cell_type": "markdown",
   "metadata": {},
   "source": [
    "## Keyphrase Extraction\n",
    "http://bdewilde.github.io/blog/2014/09/23/intro-to-automatic-keyphrase-extraction/"
   ]
  },
  {
   "cell_type": "code",
   "execution_count": 22,
   "metadata": {},
   "outputs": [],
   "source": [
    "def extract_candidate_words(text, good_tags=set(['JJ','JJR','JJS','NN','NNP','NNS','NNPS'])):\n",
    "    import itertools, nltk, string\n",
    "\n",
    "    # exclude candidates that are stop words or entirely punctuation\n",
    "    punct = set(string.punctuation)\n",
    "    stop_words = set(nltk.corpus.stopwords.words('english'))\n",
    "    # tokenize and POS-tag words\n",
    "    tagged_words = itertools.chain.from_iterable(nltk.pos_tag_sents(nltk.word_tokenize(sent)\n",
    "                                                                    for sent in nltk.sent_tokenize(text)))\n",
    "    # filter on certain POS tags and lowercase all words\n",
    "    candidates = [word.lower() for word, tag in tagged_words\n",
    "                  if tag in good_tags and word.lower() not in stop_words\n",
    "                  and not all(char in punct for char in word)]\n",
    "\n",
    "    return candidates"
   ]
  },
  {
   "cell_type": "code",
   "execution_count": 23,
   "metadata": {},
   "outputs": [],
   "source": [
    "def score_keyphrases_by_textrank(text, percentKeywords=0.05, maxKeywords=-1):\n",
    "    from itertools import takewhile, tee\n",
    "    from nltk.stem import WordNetLemmatizer\n",
    "  \n",
    "    import networkx, nltk\n",
    "    \n",
    "    lemmatizer = WordNetLemmatizer()\n",
    "    \n",
    "    # tokenize for all words, and extract *candidate* words\n",
    "    words = [lemmatizer.lemmatize(word.lower())\n",
    "             for sent in nltk.sent_tokenize(text)\n",
    "             for word in nltk.word_tokenize(sent)]\n",
    "    candidates = extract_candidate_words(text)\n",
    "    # build graph, each node is a unique candidate\n",
    "    graph = networkx.Graph()\n",
    "    graph.add_nodes_from(set(candidates))\n",
    "    # iterate over word-pairs, add unweighted edges into graph\n",
    "    def pairwise(iterable):\n",
    "        \"\"\"s -> (s0,s1), (s1,s2), (s2, s3), ...\"\"\"\n",
    "        a, b = tee(iterable)\n",
    "        next(b, None)\n",
    "        return zip(a, b)\n",
    "    for w1, w2 in pairwise(candidates):\n",
    "        if w2:\n",
    "            graph.add_edge(*sorted([w1, w2]))\n",
    "    # score nodes using default pagerank algorithm, sort by score, keep top percentKeywords\n",
    "    ranks = networkx.pagerank(graph)\n",
    "    if 0 < percentKeywords < 1:\n",
    "        percentKeywordsMaxIdx = int(round(len(candidates) * percentKeywords))\n",
    "    else:\n",
    "        percentKeywordsMaxIdx = int(round(len(candidates) * 0.05))\n",
    "    if (maxKeywords > 0):\n",
    "        percentKeywordsMaxIdx = int(min(maxKeywords,percentKeywordsMaxIdx))\n",
    "\n",
    "    word_ranks = {word_rank[0]: word_rank[1]\n",
    "                  for word_rank in sorted(ranks.items(), key=lambda x: x[1], reverse=True)[:percentKeywordsMaxIdx]}\n",
    "    keywords = set(word_ranks.keys())\n",
    "    # merge keywords into keyphrases\n",
    "    keyphrases = {}\n",
    "    j = 0\n",
    "    for i, word in enumerate(words):\n",
    "        if i < j:\n",
    "            continue\n",
    "        if word in keywords:\n",
    "            kp_words = list(takewhile(lambda x: x in keywords, words[i:i+10]))\n",
    "            avg_pagerank = sum(word_ranks[w] for w in kp_words) / float(len(kp_words))\n",
    "            keyphrases[' '.join(kp_words)] = avg_pagerank\n",
    "            # counter as hackish way to ensure merged keyphrases are non-overlapping\n",
    "            j = i + len(kp_words)\n",
    "\n",
    "    return sorted(keyphrases.items(), key=lambda x: x[1], reverse=True)"
   ]
  },
  {
   "cell_type": "code",
   "execution_count": 24,
   "metadata": {},
   "outputs": [],
   "source": [
    "keyphrases = score_keyphrases_by_textrank(p_wiki.text)"
   ]
  },
  {
   "cell_type": "code",
   "execution_count": 25,
   "metadata": {},
   "outputs": [
    {
     "name": "stdout",
     "output_type": "stream",
     "text": [
      "mongol 0.016150487885470466\n",
      "mongol invasion 0.013752261605560345\n",
      "hungary 0.011659983337687415\n",
      "mongol army 0.011578439619307185\n",
      "invasion 0.011354035325650224\n",
      "mongol horde 0.01000066561653279\n",
      "second mongol invasion 0.009940985266502436\n",
      "initial mongol invasion 0.009744002777358514\n",
      "mongol cavalry 0.009677683828152324\n",
      "many mongol 0.009568505518781568\n",
      "mongol force 0.009560873509507416\n",
      "mongol empire 0.009538399833783965\n",
      "mongol attack 0.009511712236370103\n",
      "mongol siege 0.009348026217491924\n",
      "main mongol 0.009122350233135406\n",
      "mongol warfare 0.009062384765429999\n",
      "mongol withdrawal 0.008974719162112607\n",
      "mongol raid 0.008822035866017446\n",
      "europe 0.00840321496285209\n",
      "mongolian invasion 0.007171855243815183\n",
      "invasion force 0.0071626472295972955\n",
      "khan 0.0070175102858553474\n",
      "army 0.0070063913531439054\n",
      "nomadic mongol cavalry 0.006949971917667504\n",
      "invasion north 0.006877310900002988\n",
      "second invasion 0.00683623395701842\n",
      "northern hungary 0.006554301411010627\n",
      "batu khan 0.006549424011681147\n",
      "initial invasion 0.0065407602233025375\n",
      "nomadic invasion 0.006424291711174043\n",
      "batu 0.006081337737506947\n",
      "hungarian army 0.006017780460090681\n",
      "nogai khan 0.0057557718211190545\n",
      "central europe 0.005531310674536383\n",
      "western europe 0.005491730685292602\n",
      "berke khan 0.0053905894400369655\n",
      "european 0.005201509168978382\n",
      "great khan 0.0051546649409390365\n",
      "hungarian 0.005029169567037456\n",
      "eastern europe 0.005003461964203945\n",
      "mongolian army 0.004998033257562023\n",
      "western european army 0.004929382309951801\n",
      "western army 0.00479331888043851\n",
      "second army 0.0046624119707652616\n",
      "polish army 0.004583517026772296\n",
      "main army 0.004550301966972125\n",
      "hungarian king 0.004499801382400035\n",
      "nogai 0.004494033356382761\n",
      "battle 0.0044876545482800765\n",
      "ögedei khan 0.004469106108299788\n",
      "poland 0.004403816549915917\n",
      "bulgarian army 0.0043479308132702565\n",
      "genoese army 0.004282803291399561\n",
      "european kingdom 0.0042778983220145275\n",
      "nomadic army 0.0042504697249208835\n",
      "main golden horde army 0.004247424027120129\n",
      "güyük khan 0.004225745234627914\n",
      "hulagu khan 0.004215293090275348\n",
      "hungarian kingdom 0.004191728521044064\n",
      "great hungarian 0.004160494581530091\n",
      "new great khan 0.004101885558523538\n",
      "many european 0.004094016160535525\n",
      "european force 0.004086384151261373\n",
      "great khan ögedei 0.004076677270874101\n",
      "golden 0.004038248826941147\n",
      "hungarian force 0.004000214350290911\n",
      "king 0.003970433197762613\n",
      "golden horde 0.003944546087268132\n",
      "horde 0.0038508433475951164\n",
      "king béla 0.0037827660442194553\n",
      "berke 0.003763668594218583\n",
      "king béla iv 0.003690612746000842\n",
      "béla 0.003595098890676297\n",
      "béla iv 0.003550702520119956\n",
      "iv 0.0035063061495636152\n",
      "early hungarian 0.0034455047929106094\n",
      "eastern european 0.0034026090672670904\n",
      "central european country 0.003371423335621722\n",
      "kingdom 0.0033542874750506733\n",
      "cousin hulagu khan 0.003335825871484455\n",
      "great 0.003291819596022726\n",
      "force béla 0.0032831790121103316\n",
      "cavalry 0.003204879770834182\n",
      "golden horde raid 0.0031275586737002296\n",
      "defeat 0.003068002089223969\n",
      "western european ruler 0.0030615526518498874\n",
      "ii 0.0030131718460023244\n",
      "mongolian 0.002989675161980141\n",
      "many 0.0029865231520926684\n",
      "mongolian force 0.0029804671477622535\n",
      "force 0.002971259133544366\n",
      "empire 0.0029263117820974628\n",
      "attack 0.002872936587269741\n",
      "subutai 0.002833417473537772\n",
      "cuman king 0.0027775713911108416\n",
      "crusade 0.0027719775387569953\n",
      "river 0.002752220288187398\n",
      "small mongolian 0.002743695692589806\n",
      "small force 0.0027344876783719184\n",
      "central 0.0026594063862206752\n",
      "small crusade 0.002634846880978233\n",
      "great khanate 0.002623136452637097\n",
      "bulgaria 0.002617574601927528\n",
      "polish defeat 0.002614322394812328\n",
      "western 0.0025802464077331146\n",
      "many polish 0.0025735829262466775\n",
      "time 0.00256944965772053\n",
      "son 0.002568789400671408\n",
      "siege 0.002545564549513383\n",
      "main force 0.002532735857172356\n",
      "river march 0.002507497971424533\n",
      "croatia 0.0025022713095866267\n",
      "small 0.0024977162231994707\n",
      "population 0.0024520947580797627\n",
      "north 0.002400586474355753\n",
      "attack bohemia 0.002358916049736433\n",
      "much 0.0023271299583683914\n",
      "death 0.002326204716664971\n",
      "second 0.002318432588386617\n",
      "second bulgarian empire 0.0023114048812935624\n",
      "many eastern 0.0022951160588242335\n",
      "frederick ii 0.0022802253998058294\n",
      "central column 0.0022723031645197926\n",
      "mohi river 0.00226938633200076\n",
      "march 0.0022627756546616676\n",
      "able 0.002255184526467803\n",
      "country 0.0022533544516661103\n",
      "mongolian raid 0.002241629504272283\n",
      "northern force 0.002209939308939102\n",
      "polish 0.0021606427004006866\n",
      "turkic 0.0021593789683137204\n",
      "main 0.0020942125808003456\n",
      "city 0.002076967050845216\n",
      "raid bulgaria 0.002055579224245976\n",
      "help 0.002049152296226821\n",
      "local 0.0020458698909825677\n",
      "talabuga 0.0020292328301194764\n",
      "new 0.00199632679369254\n",
      "duke 0.001995808569748821\n",
      "much resistance 0.001993984493909592\n",
      "town 0.0019825369534157023\n",
      "leadership 0.001980951649906788\n",
      "warfare 0.001974281645389532\n",
      "khanate 0.001954453309251468\n",
      "ögedei 0.0019207019307442286\n",
      "column 0.0018851999428189095\n",
      "early 0.001861840018783763\n",
      "men 0.0018556234524955734\n",
      "local resistance 0.0018533544602166799\n",
      "turkic people 0.0018457645455660179\n",
      "bohemia 0.0018448955122031246\n",
      "michael 0.0018211634242988573\n",
      "withdrawal 0.0017989504387547497\n",
      "mongolia 0.0017952118901198983\n",
      "vienna 0.0017908535882693057\n",
      "mohi 0.001786552375814122\n",
      "john 0.0017733708077932247\n",
      "duke frederick 0.0017715437616790779\n",
      "latter 0.0017614472801978157\n",
      "gunpowder 0.0017542623818290364\n",
      "weather 0.0017508169664269553\n",
      "historian john 0.0017493778197336242\n",
      "nomadic warfare 0.001734414871043697\n",
      "initial 0.001727485120954851\n",
      "historian 0.0017253848316740234\n",
      "bulgarian 0.0016894702733966083\n",
      "december 0.0016640031857426134\n",
      "resistance 0.001660839029450792\n",
      "large 0.0016558682424039617\n",
      "dalmatia 0.0016500100094836124\n",
      "military 0.0016211725288814624\n",
      "initial raid 0.0016105344837596377\n",
      "kadan 0.0016086371823143886\n",
      "eastern 0.0016037089655557989\n",
      "austrian 0.001603689326245104\n",
      "large number 0.001602721050385877\n",
      "moravia 0.0015930838209481954\n",
      "cuman 0.0015847095844590696\n",
      "danube 0.0015790677780382685\n",
      "cousin 0.0015768914339026698\n",
      "due 0.0015741743316370624\n",
      "holy 0.0015674933473258177\n",
      "genoese 0.0015592152296552157\n",
      "number 0.0015495738583677925\n",
      "frederick 0.0015472789536093347\n",
      "eastern austria 0.0015456003549872204\n",
      "people 0.0015321501228183155\n",
      "cumans 0.001530269835892513\n",
      "kraków 0.0015107713435656082\n",
      "raid 0.0014935838465644246\n",
      "way 0.0014922109370695735\n",
      "austria 0.0014874917444186418\n",
      "zagreb 0.0014837431902081533\n",
      "china 0.0014793368261065123\n",
      "contemporary 0.0014674295605443752\n",
      "kiev 0.001462443280539708\n",
      "northern 0.0014486194843338382\n",
      "güyük 0.0014339801834004802\n",
      "century 0.00143042390830702\n",
      "hulagu 0.0014130758946953486\n",
      "ruler 0.001402902378838166\n"
     ]
    }
   ],
   "source": [
    "for keyphrase in keyphrases:\n",
    "    print (keyphrase[0], keyphrase[1])"
   ]
  },
  {
   "cell_type": "code",
   "execution_count": null,
   "metadata": {},
   "outputs": [],
   "source": []
  }
 ],
 "metadata": {
  "kernelspec": {
   "display_name": "Python 3",
   "language": "python",
   "name": "python3"
  },
  "language_info": {
   "codemirror_mode": {
    "name": "ipython",
    "version": 3
   },
   "file_extension": ".py",
   "mimetype": "text/x-python",
   "name": "python",
   "nbconvert_exporter": "python",
   "pygments_lexer": "ipython3",
   "version": "3.8.5"
  }
 },
 "nbformat": 4,
 "nbformat_minor": 4
}
