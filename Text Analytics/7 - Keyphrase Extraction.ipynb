{
 "cells": [
  {
   "cell_type": "markdown",
   "metadata": {},
   "source": [
    "# Keyphrase Extraction"
   ]
  },
  {
   "cell_type": "code",
   "execution_count": 1,
   "metadata": {},
   "outputs": [],
   "source": [
    "import requests\n",
    "from bs4 import BeautifulSoup\n",
    "import os.path\n",
    "from dateutil import parser\n",
    "import pandas as pd\n",
    "import numpy as np"
   ]
  },
  {
   "cell_type": "markdown",
   "metadata": {},
   "source": [
    "### Wikipedia as a data source\n",
    "https://en.wikipedia.org/wiki/GameStop"
   ]
  },
  {
   "cell_type": "code",
   "execution_count": 2,
   "metadata": {},
   "outputs": [],
   "source": [
    "import wikipediaapi\n",
    "\n",
    "wiki_wiki = wikipediaapi.Wikipedia(\n",
    "        language='en',\n",
    "        extract_format=wikipediaapi.ExtractFormat.WIKI\n",
    ")"
   ]
  },
  {
   "cell_type": "code",
   "execution_count": null,
   "metadata": {},
   "outputs": [],
   "source": []
  },
  {
   "cell_type": "code",
   "execution_count": 3,
   "metadata": {},
   "outputs": [
    {
     "name": "stdout",
     "output_type": "stream",
     "text": [
      "GameStop Corp. is an American video game, consumer electronics, and gaming merchandise retailer. The company is headquartered in Grapevine, Texas (a suburb of Dallas), and is the largest video game retailer worldwide. As of January 30, 2021, the company operated 4,816 stores including 3,192 in the United States, 253 in Canada, 417 in Australia and New Zealand and 954 in Europe under the GameStop, EB Games, EB Games Australia, Micromania-Zing, ThinkGeek and Zing Pop Culture brands. The company was founded in Dallas in 1984 as Babbage's, and took on its current name in 1999. \n",
      "The company's performance declined during the mid-late 2010s due to the shift of video game sales to online shopping and downloads and failed investments by GameStop in smartphone retail. In 2021 however, the company's stock price skyrocketed due to a short squeeze orchestrated by users of the Internet forum r/wallstreetbets. The company received significant media attention during January and February 2021 due to the volatility of its stock price and the GameStop short squeeze. The company is now ranked 521st on the Fortune 500. In addition to retail stores, GameStop owns and publishes Game Informer, a video game magazine and in Australia runs Zing Marketplace an e-commerce retro gaming and pop culture marketplace that facilitates consumer-to-consumer sales.\n",
      "\n",
      "History\n",
      "Babbage's (1984–1994)\n",
      "GameStop traces its roots to Babbage's, a Dallas, Texas-based software retailer founded in 1984 by former Harvard Business School classmates James McCurry and Gary M. Kusin. The company was named after Charles Babbage and opened its first store in Dallas's NorthPark Center with the help of Ross Perot, an early investor in the company. The company quickly began to focus on video game sales for the then-dominant Atari 2600. Babbage's began selling Nintendo games in 1987. Babbage's became a public company via an initial public offering in 1988. By 1991, video games accounted for two-thirds of Babbage's sales.\n",
      "\n",
      "NeoStar Retail Group (1994–1996)\n",
      "Babbage's merged with Software Etc., an Edina, Minnesota-based retailer that specialized in personal computing software, to create NeoStar Retail Group in 1994. The merger was structured as a stock swap, where shareholders of Babbage's and Software Etc. received shares of NeoStar, a newly formed holding company. Babbage's and Software Etc. continued to operate as independent subsidiaries of NeoStar and retained their respective senior management teams. Babbage's founder and chairman James McCurry became chairman of NeoStar, while Babbage's president Gary Kusin and Software Etc. President Daniel DeMatteo retained their respective titles. Software Etc. chairman Leonard Riggio became chairman of NeoStar's executive committee.Gary Kusin resigned as president of Babbage's in February 1995 to start a cosmetics company. Daniel DeMatteo, formerly president of Software Etc., assumed Kusin's duties and was promoted to president and chief operating officer of NeoStar. NeoStar chairman James McCurry was also appointed to the newly created position of NeoStar CEO. The company relocated from its headquarters in Dallas to Grapevine later that year.NeoStar merged its Babbage's and Software Etc. units into a single organization in May 1996 amid declining sales. Company president Daniel DeMatteo also resigned, and NeoStar chairman and CEO James McCurry assumed the title of president. In September of that year, after NeoStar was unable to secure the credit necessary to purchase inventory necessary for the holiday season, the company filed for Chapter 11 bankruptcy and appointed Thomas G. Plaskett chairman while James McCurry remained company chief executive and president.The leadership changes were not enough and in November 1996 the assets of NeoStar were purchased for $58.5 million by Leonard Riggio, a founder of Software Etc. and chairman and principal stockholder of Barnes & Noble. Electronics Boutique had also bid to purchase NeoStar, but the judge presiding over NeoStar's bankruptcy accepted Riggio's bid because it kept open 108 stores more than Electronics Boutique's bid would have. Approximately 200 retail stores were not included in the transaction and were subsequently closed.\n",
      "\n",
      "Babbage's Etc. (1996–1999)\n",
      "Following his purchase of NeoStar's assets, Leonard Riggio dissolved the holding company and created a new holding company named Babbage's Etc. He appointed Richard \"Dick\" Fontaine, previously Software Etc.'s chief executive during its expansion in the late 1980s and early 1990s, as Babbage Etc.'s chief executive. Daniel DeMatteo, previously the president of both Software Etc. and NeoStar, became company president and COO. Three years later, in 1999, Babbage's Etc. launched its GameStop brand with 30 stores in strip malls. The company also launched gamestop.com, a website that allowed consumers to purchase video games online. GameStop.com was promoted in Babbage's and Software Etc. stores.\n",
      "\n",
      "Barnes & Noble Booksellers (1999–2004)\n",
      "In October 1999, Barnes & Noble Booksellers purchased Babbage's Etc. for $215 million. Because Babbage's Etc. was principally owned by Leonard Riggio, who was also Barnes & Noble's chairman and principal shareholder, a special committee of independent directors of Barnes & Noble Booksellers evaluated and signed off on the deal. A few months later, in May 2000, Barnes & Noble acquired Funco, the owner of Eden Prairie, Minnesota-based video game retailer FuncoLand, for $160 million. Babbage's Etc., which had been previously operating as a direct subsidiary of Barnes & Noble, became a wholly owned subsidiary of Funco. With its acquisition of Funco, Barnes & Noble also acquired Game Informer, a video game magazine that was first published in 1991. Funco was renamed GameStop, Inc. in December 2000 in anticipation of holding an initial public offering for the company.In February 2002, the company once again became a public company via an initial public offering. Barnes & Noble retained control over the newly public company with 67% of outstanding shares and 95% of voting shares. Barnes & Noble retained control over GameStop until October 2004, when it distributed its 59% stake in GameStop to stakeholders of Barnes & Noble, making it an independent company.\n",
      "\n",
      "GameStop's successful years (2004–2016)\n",
      "GameStop acquired EB Games (formerly Electronics Boutique) in 2005 for $1.44 billion. The acquisition expanded GameStop's operations into Europe, Canada, Australia, and New Zealand. Two years later, in 2007, GameStop acquired Rhino Video Games from Blockbuster LLC for an undisclosed amount. Rhino Video Games operated 70 video game stores throughout the Southeastern United States.GameStop founded MovieStop in 2004 as a standalone store that focused on new and used movies. More than 42 locations were opened, which typically adjoined or were adjacent to GameStop locations. GameStop spun off MovieStop to private owners in 2012. In November 2014, Draw Another Circle LLC, a company controlled by merchandising executive Joel Weinshanker that also owns Hastings Entertainment, purchased MovieStop. The chain shuttered in 2016.In April 2008, GameStop acquired Free Record Shop's 49 Norwegian stores. Daniel DeMatteo replaced Richard Fontaine as GameStop CEO in August 2008. DeMatteo had served as company COO since 1996. Fontaine, who had been GameStop chairman and CEO since 1996, remained the company's chairman. J. Paul Raines, formerly executive vice president of Home Depot, became company COO in September. In October 2008, GameStop acquired Micromania, a French video-game retailer, for $700 million. GameStop, which had previously owned no stores in France, now had 332 French video-game stores. In November 2009, it acquired a majority stake in Jolt Online Gaming, an Irish browser game studio. Jolt closed in 2012.\n",
      "\n",
      "J. Paul Raines became GameStop CEO in June 2010. He replaced Daniel DeMatteo who was named executive chairman of the company. Under his leadership, in 2012, GameStop's digital revenue grew from $190 million in 2011 to more than $600 million in 2012.In 2010, GameStop acquired Kongregate, a San Francisco-based website for browser-based games. In 2017, it was sold for $55 million.In 2011, GameStop acquired Spawn Labs and Impulse in separate transactions. Spawn Labs was a developer of technology that allowed users to play video games that were run remotely on machines in data centers rather than their personal computer or console. Impulse was a digital distribution and multiplayer video game platform acquired from Stardock, and renamed GameStop PC Downloads. Under the ownership of GameStop, the service was redesigned and sold games that use other platforms such as Steam while also selling games that use its own proprietary DRM solution, Impulse:Reactor. GameStop shut down both PC Downloads and Spawn Labs in 2014.In 2012, GameStop acquired BuyMyTronics, a Denver-based online market place for consumer electronics.In October 2012 at Grapevine Mills in Dallas, GameStop introduced GameStop Kids, a  pop-up retail concept. The brand, which had 80 locations in shopping malls during the Christmas and holiday season, focused on children's products, and carried only games rated \"Everyone\" by the ESRB, along with merchandise of popular franchises aimed towards the demographic.In October 2012, GameStop acquired a 49.9% ownership interest in Simply Mac, a Salt Lake City-based Apple authorized reseller and repairer founded in 2006. GameStop acquired the remaining 50.1% of ownership in November 2013. GameStop tried to target areas for potential new Simply Mac locations in smaller markets that did not have an existing Apple Store within a reasonable driving distance. In January 2017, GameStop closed many Simply Mac locations. The chain had as many as 70 locations at the time of the announcement. In 2019, GameStop divested Simply Mac; at that time it had 43 stores.In November 2013, GameStop acquired Spring Mobile, a Salt Lake City-based retailer of AT&T-branded wireless services. It acquired 163 RadioShack locations in February 2015. In July 2015, it acquired Geeknet. All GameStop stores in Puerto Rico were shut at the end of March 2016, citing increased rates of government taxes. On August 3, 2016, GameStop acquired 507 AT&T store chains in plans to diversify into new businesses and less dependent on the video game market.\n",
      "\n",
      "Decline (2016–present)\n",
      "Changes in market conditions\n",
      "The market for physical game media has been in a state of decline due to downloadable games on services such as Xbox Live, PlayStation Network, Nintendo eShop, and Steam. This has resulted in a decline in sales at GameStop. In 2017, GameStop reported a 16.4% drop in sales for the 2016 holiday season, but expressed optimism in its non-physical gaming businesses.In February 2017, it was revealed that GameStop enforced, on all of its retail employees, a program known as Circle of Life. The policy itself was made to ensure that each employee would allow a certain percentage of their sales to pre-orders, rewards cards, used games, or have a customer trade in a game. Upon revelation of the policy, many current and former GameStop employees revealed stories of how the policy has led to them lying to customers. Many more claimed that the policy had led to poor working conditions and emotional distress. Later that month, GameStop reformed the program to solely focus on the store as a whole instead of the previous individual employee basis, though still maintaining a heavy emphasis on the individuals' performance to maintain strong store metrics.\n",
      "\n",
      "Financial losses\n",
      "Shares of GameStop stock fell 16% in 2016. On February 28, 2017, shares dropped an additional 8% following Microsoft's announcement of its Xbox Game Pass service. Following these reports, GameStop announced it would close over 150 stores in 2017 and expand its non-gaming business. On the same day, however, GameStop said it planned to open 65 new Technology Brand stores and 35 Collectibles stores due to a 44% and 28% increase in sales, respectively. GameStop's total revenue fell 7.6% to $3.06 billion in the quarter ended February 2, 2018.Business Insider described GameStop's investment in Spring Mobile as a failure, with estimates that the company spent $1.5 billion on acquisitions on Spring Mobile and store locations, but only gained $700 million from the sale of Spring Mobile to Prime Communications in 2018, leaving them $800 million in debt.In late June 2018, GameStop confirmed talks of a possible sale, with Sycamore Partners, a private equity firm, the most likely buyer, with a target deal expected by February 2019. However, on January 29, 2019, GameStop reported it had stopped looking for a buyer for the company, due to a \"lack of available financing on terms that would be commercially acceptable to a prospective acquirer\", and was looking for other actions to help re-establish its financial ground. Shares dropped 27% to a 14-year low immediately following this announcement.The financial results for 2018 showed the biggest loss in GameStop company history. For the 52-week period ending on February 2, 2019, GameStop reported a record-breaking net loss of $673 million. This was a change from the net profit of $34.7 million in the previous year. The net sales for fiscal year 2018 were down 3% year-on-year to $8.29 billion. The company also eliminated its dividend.In December 2021, GameStop posted a larger-than-expected loss in the fiscal third quarter, and investors are waiting to hear how the ailing company plans to restructure its operations and entice gamers back. In extended trade, shares plummeted.\n",
      "\n",
      "Management changes\n",
      "After being on medical leave since November 2017 due to reoccurrence of a brain tumor, J. Paul Raines resigned from GameStop on January 31, 2018, and died on March 4, 2018. DeMatteo, GameStop's executive chairman stepped in as interim chief executive officer. On February 6, 2018, the company announced Michael K. Mauler as CEO and member of the board of directors. On May 11, 2018, Mauler resigned due to \"personal reasons\" and chairman Dan DeMatteo was named interim CEO. Mauler did not take any severance package or separation benefits. On May 31, 2018, GameStop named Shane Kim as interim CEO. Kim was replaced by George Sherman in March 2019. On March 12, 2020, it was announced that a group of shareholders including Hestia Capital Partners LP and Permit Capital Enterprise Fund LP sent a \"threat\" letter to the Grapevine, Texas, company's board, urging it to appoint a stockholder representative as a director.\n",
      "\n",
      "Turnaround efforts\n",
      "In July 2019, GameStop partnered with an outside design firm, R/GA, to put forth plans to revamp stores to focus on competitive gaming and retrogaming, and to introduce new ways for customers to try games before buying them. Each concept store is expected to be mutually exclusive.\n",
      "\n",
      "A leaked email revealed on July 31, 2019, indicated that 50 employees, including district and regional managers, would be laid off as a result of reorganization efforts. In August 2019, GameStop laid off over 120 people, including about half of the staff of Game Informer, as part of its \"GameStop Reboot initiative\".In August 2019, Michael Burry's investment firm Scion Asset Management sent a letter to GameStop executives urging the company to engage in a $238 million stock buyback. The letter also revealed that Scion owned approximately 2,750,000 shares, or about 3.05% of GameStop. The stock price of GameStop, which had been in steady decline in share price since late January 2019, spiked roughly 20% after Burry revealed that he was buying the stock in an interview with Barron's. In the interview, Burry explained that both Sony and Microsoft would enter the next console generation with a physical disc drive and therefore likely extend the longevity of GameStop. He also noted that the company's balance sheet was in good condition. In December 2019, GameStop announced that it spent $178.6 million to buy 34.6 million shares, or 34% of the shares outstanding, at an average price of $5.14 per share. In May 2020, Burry lowered his stake in GameStop.After reporting that it had missed analysts' expectations during the 2nd quarter of the fiscal year 2019 ending August 2019, as reported in September 2019, GameStop announced that it was planning to close about 180–200 underperforming stores of the 5,700 it had worldwide in the short term, along with developing metrics to evaluate other potential closures over the next two years. In March 2020, four members of GameStop's Board of Directors - Dan DeMatteo, Gerald Szczepanski, Larry Zilavy, and Steve Koonin - stepped down and were replaced by Reggie Fils-Aimé, Bill Simon and J.K. Symancyk as part of the company's effort to turn around the business.\n",
      "\n",
      "COVID-19 pandemic\n",
      "Government efforts to slow the spread of COVID-19 required GameStop to close the physical operation of all of its 3,500 stores from roughly March to May 2020, though not without some controversy in the early stages. Throughout this time, it continued with online and curbside sales. Sherman and the board of directors took a 50% pay cut while other executives took a 30% cut to offset losses. While digital sales grew by 519%, its retail dropped by more than 30% in the same period from the prior year, and the chain reported a US$165 million loss in contrast to a US$6.8 million for the same quarter in 2019. However, with the Xbox Series X and PlayStation 5 still planned for release in the latter part of 2020, Sherman expected to be able to recover from these losses.In mid-March 2020, GameStop faced criticism for its response to the COVID-19 pandemic in North America, with employees and social media users accusing the company of placing its business ahead of the safety of its staff and customers, in order to capitalize on an influx of video game purchases and related products for entertainment during the pandemic and related lockdowns. GameStop stated that it would suspend in-store events (including midnight launches) and the use of demo stations, perform additional cleaning, and structure lines and limit store capacity to enforce physical distancing. To prevent enlarged crowds for two high-profile video game releases on March 20 — Animal Crossing: New Horizons and Doom Eternal, GameStop announced that it would begin selling Doom Eternal in its stores a day ahead of its official release date.Polygon reported on March 17 that several stores in the San Francisco area had remained open, seemingly in violation of a stay-at-home order issued by Bay Area counties that restricts non-essential business. Several employees told Polygon and Vice that they did not receive additional cleaning supplies that were to be provided by corporate, requiring them to purchase them on their own and request reimbursement.A memo obtained by Kotaku on March 19 indicated that GameStop saw itself as an essential business because some of its technology products are relevant to enhancing remote work, required in many cases during the pandemic. GameStop reiterated the safety measures that it had put in place, and also announced that it would reduce store hours and suspend all trade-ins until at least March 29, 2020, and offer curbside pickup. An employee of a GameStop store in Athens, Georgia (which was shut down on March 20 by order of the police to comply with a similar order in Athens-Clark County) disputed the argument, saying that the high-end, gaming-oriented peripherals (such as keyboards and mice) sold at GameStop were not necessarily essential for remote work, and that cheaper alternatives were readily available at stores allowed to remain open, such as Walmart.California had announced a state-wide stay-at-home order on March 19; while GameStop had originally stated to its stores it was an essential retail business, by March 20 GameStop instead decided to close down its California branches, while keeping most other nationwide stores open. Following similar stay-at-home orders in New York and Illinois over the following days, GameStop announced that it would close all locations effective March 22, with selected locations continuing to offer contact-free curbside pickup (where an employee, wearing either gloves or a bag over their hands, would slip the customer's order through the front door, remaining behind the glass) and home delivery. In early April 2020, a location in Dorchester, Boston received a nuisance citation by local police, who deemed the curbside pickup a violation of the Massachusetts stay-at-home order. GameStop subsequently ceased offering curbside pickup in the state.\n",
      "\n",
      "GameStop's Canadian subsidiary EB Games faced similar criticism on March 20 as well, as morning lineups for the new Animal Crossing and Doom games at a Toronto location induced large public gatherings discouraged by officials. The city's public health chief Eileen de Villa stated that the gathering did not \"line up with what we expect from those in our community who are interested in protecting and strengthening our community\". Mayor John Tory accused the company of \"plac[ing] commerce above the public interest\", while Premier of Ontario Doug Ford stated that \"everyone in this province has a responsibility to make sure we protect each other and I am very, very disappointed in the store owner that would do this\". EB Games later announced that it would close all Canadian stores on March 21.On October 8, 2020, GameStop announced an agreement with Microsoft to migrate backend systems to Microsoft 365 platforms including Dynamics 365, also including in-store usage of Microsoft Surface products by employees. It was later reported that this agreement would also include revenue sharing on all digital game purchases for Xbox Series X and S for each product sold by the retailer, although the exact percentage of this share was not disclosed.\n",
      "\n",
      "January 2021 short squeeze\n",
      "In January 2021, a short squeeze resulted in a 1,500% increase in GameStop's share price over the course of two weeks, reaching an all-time intraday high of US$483.00 as of January 29, 2021, on the New York Stock Exchange. This effect was mainly attributed to a coordinated effort by the Reddit community r/wallstreetbets, a subreddit dedicated to stocks with high market risk. A surge in the stock price in extended-hours trading occurred after Elon Musk made a post on Twitter that included \"Gamestonk!\" (in reference to r/wallstreetbets) and a link to the community. Matt Levine has compared the situation to the 2012 \"short squeeze\" that the SEC charged Philip Falcone with.In February 2021, GameStop announced that its finance chief Jim Bell, appointed in June 2019, would leave the company on March 26, 2021. Though no official reason was given for Bell's departure, the company said that it did not have to do with a disagreement with the company or its operations.In April 2021, George Sherman announced that he will step down as CEO of GameStop by July 31, 2021. Also in April 2021, Ryan Cohen, founder of Chewy and a large GameStop shareholder, was named chairman, effective in June 2021. On June 9, 2021, GameStop appointed former Amazon executives Matt Furlong and Mike Recupero as CEO and CFO respectively. Furlong took over the position of CEO from Sherman on June 21, 2021.\n",
      "\n",
      "NFT platform\n",
      "On May 26, 2021, GameStop announced that it is working on a non-fungible token (NFT) platform creating a token that is based on blockchain Ethereum technology. Business Insider reported that \"GameStop is building an NFT platform as part of an ambitious plan to transform itself into the Amazon of gaming.\"\n",
      "\n",
      "Operations\n",
      "As of January 30, 2021, the company operated 4,816 stores including 3,192 in the United States, 253 in Canada, 417 in Australia and 954 in Europe.\n",
      "\n",
      "Game Informer\n",
      "Game Informer is a magazine owned by GameStop, Inc. and primarily sold through subscriptions which can be purchased at GameStop locations. A subscription to the magazine is included for members of GameStop's PowerUp Rewards Pro loyalty program.\n",
      "\n",
      "Trade-ins\n",
      "GameStop provides its customers either cash or trade credit in exchange for customers' unwanted video games, accessories, and tech. The used video game trade-ins have twice the gross margins of new video game sales. Some video game developers and publishers have criticized GameStop for its practices, as they receive no share of the revenue from the sale of used games. GameStop responded to these criticisms in 2009 by stating that 70% of store credit generated by game trade ins was used to purchase new rather than used games, generating close to $2 billion in annual revenue.\n",
      "\n",
      "GameStop TV\n",
      "GameStop TV is the in-store television network run internally by GameStop, with non-endemic sales in partnership with Playwire Media. GameStop TV features programming targeted to consumers shopping in GameStop stores. Each month brings content segments about upcoming video game releases, exclusive developer interviews, and product demonstrations.\n",
      "\n",
      "Pre-order bonuses\n",
      "Game publishers obtain more pre-orders by including exclusive in-game or physical bonuses, available only if the player pre-ordered the game. Bonuses typically include extras such as exclusive characters, weapons, and maps. For example, GameStop included an additional avatar costume for Call of Duty: Black Ops when it was released in November 2010, and a pictorial Art-Folio for Metroid: Other M. Soundtracks, artbooks, plushies, figurines, posters, and T-shirts have also been special bonuses.\n",
      "\n",
      "GameTrust Games\n",
      "In January 2016, GameStop announced a partnership with Insomniac Games with its 2016 title Song of the Deep. GameStop executive Mark Stanley said the concept was to help the chain have more direct communication with players, and would expect to expand out to other similar distribution deals with other developers if this one succeeds. In April 2016, GameStop created the GameTrust Games publishing division to serve as a publisher for mid-sized developers. In April 2016, GameTrust Games announced it was working with Ready At Dawn, Tequila Works, and Frozenbyte to prepare more titles.\n",
      "\n",
      "See also\n",
      "Play N Trade\n",
      "GameCrazy\n",
      "\n",
      "References\n",
      "External links\n",
      "Official website\n",
      "Business data for GameStop Corp.:\n"
     ]
    }
   ],
   "source": [
    "# https://en.wikipedia.org/wiki/Mongol_invasion_of_Europe\n",
    "p_wiki = wiki_wiki.page('GameStop')\n",
    "print (p_wiki.text)\n"
   ]
  },
  {
   "cell_type": "markdown",
   "metadata": {},
   "source": [
    "## Keyphrase Extraction\n",
    "http://bdewilde.github.io/blog/2014/09/23/intro-to-automatic-keyphrase-extraction/"
   ]
  },
  {
   "cell_type": "code",
   "execution_count": 4,
   "metadata": {},
   "outputs": [],
   "source": [
    "def extract_candidate_words(text, good_tags=set(['JJ','JJR','JJS','NN','NNP','NNS','NNPS'])):\n",
    "    import itertools, nltk, string\n",
    "\n",
    "    # exclude candidates that are stop words or entirely punctuation\n",
    "    punct = set(string.punctuation)\n",
    "    stop_words = set(nltk.corpus.stopwords.words('english'))\n",
    "    # tokenize and POS-tag words\n",
    "    tagged_words = itertools.chain.from_iterable(nltk.pos_tag_sents(nltk.word_tokenize(sent)\n",
    "                                                                    for sent in nltk.sent_tokenize(text)))\n",
    "    # filter on certain POS tags and lowercase all words\n",
    "    candidates = [word.lower() for word, tag in tagged_words\n",
    "                  if tag in good_tags and word.lower() not in stop_words\n",
    "                  and not all(char in punct for char in word)]\n",
    "\n",
    "    return candidates"
   ]
  },
  {
   "cell_type": "code",
   "execution_count": 5,
   "metadata": {},
   "outputs": [],
   "source": [
    "def score_keyphrases_by_textrank(text, percentKeywords=0.05, maxKeywords=-1):\n",
    "    from itertools import takewhile, tee\n",
    "    from nltk.stem import WordNetLemmatizer\n",
    "  \n",
    "    import networkx, nltk\n",
    "    \n",
    "    lemmatizer = WordNetLemmatizer()\n",
    "    \n",
    "    # tokenize for all words, and extract *candidate* words\n",
    "    words = [lemmatizer.lemmatize(word.lower())\n",
    "             for sent in nltk.sent_tokenize(text)\n",
    "             for word in nltk.word_tokenize(sent)]\n",
    "    candidates = extract_candidate_words(text)\n",
    "    # build graph, each node is a unique candidate\n",
    "    graph = networkx.Graph()\n",
    "    graph.add_nodes_from(set(candidates))\n",
    "    # iterate over word-pairs, add unweighted edges into graph\n",
    "    def pairwise(iterable):\n",
    "        \"\"\"s -> (s0,s1), (s1,s2), (s2, s3), ...\"\"\"\n",
    "        a, b = tee(iterable)\n",
    "        next(b, None)\n",
    "        return zip(a, b)\n",
    "    for w1, w2 in pairwise(candidates):\n",
    "        if w2:\n",
    "            graph.add_edge(*sorted([w1, w2]))\n",
    "    # score nodes using default pagerank algorithm, sort by score, keep top percentKeywords\n",
    "    ranks = networkx.pagerank(graph)\n",
    "    if 0 < percentKeywords < 1:\n",
    "        percentKeywordsMaxIdx = int(round(len(candidates) * percentKeywords))\n",
    "    else:\n",
    "        percentKeywordsMaxIdx = int(round(len(candidates) * 0.05))\n",
    "    if (maxKeywords > 0):\n",
    "        percentKeywordsMaxIdx = int(min(maxKeywords,percentKeywordsMaxIdx))\n",
    "\n",
    "    word_ranks = {word_rank[0]: word_rank[1]\n",
    "                  for word_rank in sorted(ranks.items(), key=lambda x: x[1], reverse=True)[:percentKeywordsMaxIdx]}\n",
    "    keywords = set(word_ranks.keys())\n",
    "    # merge keywords into keyphrases\n",
    "    keyphrases = {}\n",
    "    j = 0\n",
    "    for i, word in enumerate(words):\n",
    "        if i < j:\n",
    "            continue\n",
    "        if word in keywords:\n",
    "            kp_words = list(takewhile(lambda x: x in keywords, words[i:i+10]))\n",
    "            avg_pagerank = sum(word_ranks[w] for w in kp_words) / float(len(kp_words))\n",
    "            keyphrases[' '.join(kp_words)] = avg_pagerank\n",
    "            # counter as hackish way to ensure merged keyphrases are non-overlapping\n",
    "            j = i + len(kp_words)\n",
    "\n",
    "    return sorted(keyphrases.items(), key=lambda x: x[1], reverse=True)"
   ]
  },
  {
   "cell_type": "code",
   "execution_count": 6,
   "metadata": {},
   "outputs": [],
   "source": [
    "keyphrases = score_keyphrases_by_textrank(p_wiki.text,0.01)"
   ]
  },
  {
   "cell_type": "code",
   "execution_count": 7,
   "metadata": {},
   "outputs": [
    {
     "name": "stdout",
     "output_type": "stream",
     "text": [
      "gamestop 0.03776213050237676\n",
      "gamestop company 0.027921758604550824\n",
      "gamestop store 0.02236003681664294\n",
      "gamestop chairman 0.02124046013745743\n",
      "company 0.01808138670672488\n",
      "game 0.007732813690265353\n",
      "babbage 0.007505791895491477\n",
      "march 0.007180009623425898\n",
      "store 0.006957943130909118\n",
      "video game store 0.006697646343757228\n",
      "video game 0.006567497950181282\n",
      "new video game 0.0064743995163550755\n",
      "new 0.006288202648702662\n",
      "neostar 0.005848345567265955\n",
      "video game retailer 0.005719021623155195\n",
      "store due 0.00557331002463594\n",
      "new business 0.005286391211012499\n",
      "neostar chairman 0.005283567669902027\n",
      "chairman 0.004718789772538099\n",
      "february 0.0044437721915037325\n",
      "business 0.004284579773322336\n",
      "due 0.004188676918362761\n",
      "retailer 0.004022068969103022\n",
      "january 0.003940766126619485\n"
     ]
    }
   ],
   "source": [
    "for keyphrase in keyphrases:\n",
    "    print (keyphrase[0], keyphrase[1])"
   ]
  },
  {
   "cell_type": "code",
   "execution_count": 8,
   "metadata": {},
   "outputs": [],
   "source": [
    "newsArticle = u\"\"\"\n",
    "AMC, Other Meme Stocks Turn Options Market Upside Down\n",
    "Flurry of activity in meme-stock options underscores investors’ fear of missing out on surges\n",
    "\n",
    "Traders last week spent $11.6 billion on options contracts tied to AMC.\n",
    "By Gunjan Banerji\n",
    "June 8, 2021 5:30 am ET\n",
    "\n",
    "The meteoric rally in meme stocks such as AMC Entertainment Holdings Inc. AMC +4.67% and GameStop Corp. GME +16.52% has unleashed a burst of options trading, upending traditional dynamics in the market for stock bets.\n",
    "\n",
    "The rush into the stocks coincided with frenzied trading for options—contracts that allow investors to bet on price moves in stocks or protect their portfolios. The once-obscure corner of the market has boomed this year like never before, with many new investors trying their hands during the pandemic shutdowns.\n",
    "\n",
    "The complicated contracts can be risky to use but have mushroomed into a feature of the meme mania this year. Some individual investors have said that they are drawn to the thrill of options trading, happy to take on higher risks for the prospect of big payouts. They have used the bets to turbocharge their positions, eager to ride the relentless momentum in stocks like GameStop and AMC.\n",
    "\n",
    "Call options, which allow investors the right to purchase stocks at a set price in the future, have recorded particularly heavy trading. Internet traders and others have favored them for making bullish bets in pursuit of mammoth gains. Their relatively low cost—with just one contract covering 100 shares—has lured many into the market, with activity rising to a fever pitch in recent sessions.\n",
    "\n",
    "Traders last week spent $11.6 billion on options contracts tied to AMC, more than on the SPDR S&P 500 ETF Trust, Invesco QQQ Trust and Tesla Inc. combined, according to Cboe Global Markets data. Options on those stocks are typically among the market’s most popular.\n",
    "\n",
    "The recent activity in meme stock options underscores investors’ fear of missing out on the surges. Many traders were positioning for even greater gains in AMC shares. The stock soared 83% last week, surpassing its record hit six years ago. Some of the most popular options contracts on AMC have been bullish calls pegged to shares jumping to $145 or $100.\n",
    "\n",
    "The stock surged another 15% Monday to start the week and settled at $55, bringing gains for the year to 2494%. Other retail favorites such as GameStop, BlackBerry Ltd. and Koss Corp. also rallied.\n",
    "\n",
    "“The perceived risk is not that AMC is going to go down to $10. The risk that everybody is worried about is AMC going up to $1000,” said Henry Schwartz, head of product intelligence at Cboe Global Markets. “It does kind of challenge all the normal assumptions that especially professionals tend to make.”\n",
    "\n",
    "The options-trading activity at times can stoke bigger moves in the shares themselves, traders say, exacerbating swings. The intense activity in meme stocks has also overturned dynamics within the world of options and volatility trading.\n",
    "\n",
    "Market volatility is a key input to pricing options. The higher the volatility, the pricier options can be: If a stock is recording more extreme swings, that increases the chances the options will pay out. Implied volatility, a measure of how turbulent traders expect stocks to be over a given time frame, typically drops as stocks go up,and climbs when they fall.\n",
    "\n",
    "Some of the meme stocks have defied those expectations. As AMC share prices hit a record last week, implied volatility for the stock jumped to the highest level in around four months, according to Susquehanna Financial Group. Meanwhile, expected swings in GameStop and BlackBerry hit the highest levels in months—even as the stocks surged.\n",
    "\n",
    "“If the market crashed tomorrow, would things get quieter or they’d go crazy? Well, they’d get more crazy, that spooks everybody,” Mr. Schwartz said. “What happens in these meme stocks is they also get much more volatile when the stocks go up.”\n",
    "\n",
    "And typically, investors pay more to protect themselves from stock declines than they do for bullish wagers. That hasn’t been the case at times in meme stocks and a handful of other bets over the past year, like some special-purpose acquisition companies, analysts said.\n",
    "\n",
    "“These traditional relationships between volatility and stocks have been turned on their heads in meme stocks,” said Chris Murphy, co-head of derivatives strategy at Susquehanna.\n",
    "\"\"\""
   ]
  },
  {
   "cell_type": "code",
   "execution_count": 9,
   "metadata": {},
   "outputs": [
    {
     "name": "stdout",
     "output_type": "stream",
     "text": [
      "amc 0.026848854944986993\n",
      "market 0.01962557833692728\n",
      "market volatility 0.018226449906846014\n",
      "volatility 0.01682732147676475\n",
      "stock 0.016513564914189503\n",
      "meme stock 0.016460878822269313\n",
      "meme 0.016408192730349123\n",
      "volatility trading 0.014992205392970567\n",
      "activity 0.014058117158663045\n",
      "trading 0.013157089309176388\n",
      "year 0.012474610692923296\n",
      "gamestop 0.010878518109953075\n"
     ]
    }
   ],
   "source": [
    "keyphrases = score_keyphrases_by_textrank(newsArticle,0.05)\n",
    "for keyphrase in keyphrases:\n",
    "    print (keyphrase[0], keyphrase[1])"
   ]
  },
  {
   "cell_type": "code",
   "execution_count": 10,
   "metadata": {},
   "outputs": [],
   "source": [
    "from textacy import *\n",
    "import textacy.ke\n",
    "\n",
    "en = textacy.load_spacy_lang(\"en_core_web_sm\", disable=(\"parser\",))\n",
    "doc = textacy.make_spacy_doc(newsArticle, lang=en)"
   ]
  },
  {
   "cell_type": "code",
   "execution_count": 11,
   "metadata": {},
   "outputs": [
    {
     "name": "stdout",
     "output_type": "stream",
     "text": [
      "SGRank output:  ['Cboe Global Markets', 'trader last week', 'AMC', 'stock', 'meme stock', 'stock option', 'option contract', 'option trading', 'market', 'investor']\n"
     ]
    }
   ],
   "source": [
    "print(\"SGRank output: \", [kps for kps, weights in \n",
    "textacy.ke.sgrank(doc)])"
   ]
  }
 ],
 "metadata": {
  "kernelspec": {
   "display_name": "Python 3",
   "language": "python",
   "name": "python3"
  },
  "language_info": {
   "codemirror_mode": {
    "name": "ipython",
    "version": 3
   },
   "file_extension": ".py",
   "mimetype": "text/x-python",
   "name": "python",
   "nbconvert_exporter": "python",
   "pygments_lexer": "ipython3",
   "version": "3.8.5"
  }
 },
 "nbformat": 4,
 "nbformat_minor": 4
}
