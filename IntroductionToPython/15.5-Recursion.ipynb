{
 "cells": [
  {
   "cell_type": "markdown",
   "id": "96dd2ee0",
   "metadata": {},
   "source": [
    "<div class=\"pagebreak\"></div>\n",
    "\n",
    "# Recursion\n",
    "Recursion is a special type of problem in which the solution is often defined in terms of the solution itself. A recursive solution continually solves smaller and smaller instances of itself, until it reaches a base case.\n",
    "\n",
    "From a practical point of view with programming,  a recursive function is any function that calls itself.  Indirect recursion also exists when one or more functions may be called prior to the call back to itself.  Recursive solutions will have cycles (loops) within the call graph.\n",
    "\n",
    "That last paragraph brings back the concept of repetition.  Revisiting Python's loop statements (`while` and `for`), both had methods to be able to stop the loop somehow.  `while` had a condition check before we began the each iteration of the loop.  `for` has an implicit end to iteration once the sequence completes. Similarly, for recursive functions, we need to define a base case that allows the repetition to stop.  This will be the simplest case of the problem itself: \n",
    "* for cases where we have a number that number will be 0 or 1.\n",
    "* for data structures(lists, dictionaries, sets, etc.), when that structure is empty or has no members of a particular type"
   ]
  },
  {
   "cell_type": "markdown",
   "id": "2ed16bbe",
   "metadata": {},
   "source": [
    "Before you run the following code block, what do you think occurs?  \n",
    "\n",
    "Go ahead and run it now.  Seriously.  Your computer won't crash."
   ]
  },
  {
   "cell_type": "code",
   "execution_count": null,
   "id": "d3333606",
   "metadata": {},
   "outputs": [],
   "source": [
    "def say_hello():\n",
    "    print(\"hello\")\n",
    "    say_hello()\n",
    "    \n",
    "say_hello()"
   ]
  },
  {
   "cell_type": "markdown",
   "id": "f11138f0",
   "metadata": {},
   "source": [
    "You should have seen `hello` printed a large number of times followed by an error condition at the bottom of the output:\n",
    "```\n",
    "RecursionError: maximum recursion depth exceeded while calling a Python object\n",
    "```\n",
    "As a program makes function calls, Python must add a \"stack frame\" to keep track of the current function as well as all of its predecessors. This stack frame allows the interpreter to keep track of local namespaces for each function call.  Prior to creating another \"stack frame\", the interpreter checks how many instances have been created - how many function calls have been made without corresponding return or exit from the function.  If that number is beyond a certain threshold, then the Python interpreter assumes that a logic error occurs, stops execution, and reports the recursion error.  This \"depth' is configurable.  Java maintains a separate memory space and will have a memory error when the stack space is exhausted.  The C and C++ standards do not specify a limit and this will be based upon the environment (operating system, other libraries, etc.) in which the program runs.\n",
    "\n",
    "As mentioned, we need to define the base case. For printing a message, we can keep track of how many times the message has been printed and then stop when we reach that number.  The examples here will show both keeping track of a decreasing count as well as an increasing count.  By convention(and \"solving a smaller instances of itself\"), programmers write recursive functions with decreasing values. Of course, we could just use a `for` loop with a `range()` to do this."
   ]
  },
  {
   "cell_type": "code",
   "execution_count": null,
   "id": "f2d4617c",
   "metadata": {},
   "outputs": [],
   "source": [
    "def say_hello_increasing(count, max_count):\n",
    "    if (count == max_count):\n",
    "        return\n",
    "    say_hello_increasing(count + 1, max_count)\n",
    "    print('hello')\n",
    "    \n",
    "say_hello_increasing(0,5)"
   ]
  },
  {
   "cell_type": "code",
   "execution_count": null,
   "id": "02dd0c73",
   "metadata": {},
   "outputs": [],
   "source": [
    "def say_hello_decreasing(count):\n",
    "    if (count == 0):\n",
    "        return\n",
    "    print(\"hello\")\n",
    "    say_hello_decreasing(count - 1)\n",
    "    \n",
    "say_hello_decreasing(5)"
   ]
  },
  {
   "cell_type": "markdown",
   "id": "8a73a09e",
   "metadata": {},
   "source": [
    "Notice that the later function is also less complex in that we did not need to track of the maximum number of messages to print.  Our initial call implicitly defines this value.\n",
    "\n",
    "[View say hello decreasing on pythontutor.com](https://pythontutor.com/render.html#code=def%20say_hello_decreasing%28count%29%3A%0A%20%20%20%20if%20%28count%20%3D%3D%200%29%3A%0A%20%20%20%20%20%20%20%20return%0A%20%20%20%20print%28%22hello%22%29%0A%20%20%20%20say_hello_decreasing%28count%20-%201%29%0A%20%20%20%20%0Asay_hello_decreasing%285%29&cumulative=false&curInstr=0&heapPrimitives=false&mode=display&origin=opt-frontend.js&py=3&rawInputLstJSON=%5B%5D&textReferences=false)"
   ]
  },
  {
   "cell_type": "markdown",
   "id": "d0df00d7",
   "metadata": {},
   "source": [
    "## Defensive Programming\n",
    "Defensive programming is the practice of writing code such that it will continue to function correctly even though the code is being used in a manner that was not originally intended or imagined.  It's also being able to reduce the number of potential problems by using slightly different logic that still meets the original intent.\n",
    "\n",
    "As mentioned, Python is a dynamically, strongly typed language. By dynamic, the types are determined at runtime. By strongly typed, the interpreter enforces the types that variables and expressions have.  (In contrast, C, C++, and Java are statically typed.  C is considered weakly typed as type checking is not strongly enforced - there's an assumption programmers now what they are doing. C++ has much stronger type checking during the compilation process and is considered strongly typed.  Java has both static checks during compilation as well as runtime checks. [Ada](https://en.wikipedia.org/wiki/Ada_(programming_language) is most likely the strongest-typed language.\n",
    "\n",
    "As one of the effects of being dynamic typed, it is possible to use different types than what the programmer originally intended as long as the operations or methods called on that type are supported by the type itself.  \n",
    "\n",
    "What happens if we made this function call - `say_hello_decreasing(5.5)`?  How many messages will appear?  Let's try..."
   ]
  },
  {
   "cell_type": "code",
   "execution_count": null,
   "id": "0f161b54",
   "metadata": {},
   "outputs": [],
   "source": [
    "say_hello_decreasing(5.5)"
   ]
  },
  {
   "cell_type": "markdown",
   "id": "fca8b078",
   "metadata": {},
   "source": [
    "oops....\n",
    "\n",
    "Since `say_hello_decreasing()` had an equality check against zero, that condition never evaluated to `True` and the base condition was \"blown through\" ...\n",
    "\n",
    "We can modify that our condition to be more \"forgiving\" and, hence, prevent potential mishaps"
   ]
  },
  {
   "cell_type": "code",
   "execution_count": null,
   "id": "db012a3a",
   "metadata": {},
   "outputs": [],
   "source": [
    "def say_hello_defensive(count):\n",
    "    if (count <= 0):\n",
    "        return\n",
    "    print(\"hello\")\n",
    "    say_hello_defensive(count - 1)\n",
    "    \n",
    "say_hello_defensive(5)"
   ]
  },
  {
   "cell_type": "markdown",
   "id": "443e449d",
   "metadata": {},
   "source": [
    "A slightly different, but equivalent version.  Two differences: \n",
    "1) The function performs some activity first.\n",
    "2) Function checks for the base case before making the recursive call."
   ]
  },
  {
   "cell_type": "code",
   "execution_count": null,
   "id": "d8cac5ff",
   "metadata": {},
   "outputs": [],
   "source": [
    "def say_hello_defensive_alternate(count):\n",
    "    print(\"hello\")\n",
    "    if (count > 0):\n",
    "        say_hello_defensive_alternate(count - 1)\n",
    "    \n",
    "say_hello_defensive_alternate(5)"
   ]
  },
  {
   "cell_type": "markdown",
   "id": "a2b903e0",
   "metadata": {},
   "source": [
    "Which approach is better?  As with just about any answer with consulting, it depends. For this case, the second function will always print at least one message.  What behavior is desired?"
   ]
  },
  {
   "cell_type": "markdown",
   "id": "4d12bcfe",
   "metadata": {},
   "source": [
    "## Example: Summing a List\n",
    "While recursion is not an optimal way to sum a list (a `for` loop is more appropriate, but using the built-in function `sum` is the best approach), programmers can use recursion for this task.\n",
    "\n",
    "So to approach a recursive solution, let's revisit the seven steps and work through some sample cases by hand first.\n",
    "\n",
    "The sum of an empty list is 0.  Sum of a list with just one element is that element itself.  We can't have a negative length for a list.\n",
    "\n",
    "So how about a list of 4 number: $[a, b, c, d]$?\n",
    "\n",
    "$sum = a + b + c + d $\n",
    "\n",
    "Applying associativity, what are some of the different possibilities?\n",
    "\n",
    "$sum = a + b + (c + d) $<br>\n",
    "$sum = a + (b + c + d) $<br>\n",
    "$sum = (a + b) + (c + d) $<br>\n",
    "$sum = (a + b + c) + d $<br>\n",
    "$sum = (a + b ) + c + d $\n",
    "\n",
    "The second and fourth possibilities might be a good pattern for us.  Take the second - so the sum equals the first number $a$ plus the rest of the list $[b,c,d]$  We've just created a smaller instance.  Now, the sum of $[b,c,d] = b + c + d = b + (c + d)$\n",
    "\n",
    "Now let's write pseudocode for this:\n",
    "<pre>\n",
    "    input: list of numbers\n",
    "    output: sum\n",
    "    algorithm:\n",
    "      function sum_list(list)\n",
    "         if length(list) = 0, return 0\n",
    "         else if length(list) = 1, return the first element (list[0])\n",
    "         else return list[0] + sum of the rest of the list\n",
    "</pre>\n",
    "\n",
    "Anything to generalize?  The condition for the list only have one element could be expressed as the first number plus an empty list.  That simplifies our logic at the slight cost of an extra function call.\n",
    "\n",
    "Walk through a couple of sample lists manually to see how our approach works:  []   [5]   [1,2]  [1,2,3]\n",
    "\n",
    "Time to translate the pseudocode to Python.  Remember how to slice lists?"
   ]
  },
  {
   "cell_type": "code",
   "execution_count": null,
   "id": "b075487b",
   "metadata": {},
   "outputs": [],
   "source": [
    "def sum_list(list_to_sum):\n",
    "    if len(list_to_sum) == 0:\n",
    "        return 0\n",
    "    return list_to_sum[0] + sum_list(list_to_sum[1:])\n",
    "\n",
    "print(\"[]:\", sum_list([]))\n",
    "print(\"[5]:\", sum_list([5]))\n",
    "print(\"[1,2,3]:\", sum_list([1,2,3]))\n",
    "print(\"[1,2,3,4,5,6,7,8,9,10]:\", sum_list([1,2,3,4,5,6,7,8,9,10]))"
   ]
  },
  {
   "cell_type": "markdown",
   "id": "d32256b4",
   "metadata": {},
   "source": [
    "[View on PythonTutor](https://pythontutor.com/render.html#code=def%20sum_list%28list_to_sum%29%3A%0A%20%20%20%20if%20len%28list_to_sum%29%20%3D%3D%200%3A%0A%20%20%20%20%20%20%20%20return%200%0A%20%20%20%20%0A%20%20%20%20current_value%20%3D%20list_to_sum%5B0%5D%0A%20%20%20%20recursive_value%20%3D%20sum_list%28list_to_sum%5B1%3A%5D%29%0A%20%20%20%20result%20%3D%20current_value%20%2B%20recursive_value%0A%20%20%20%20return%20result%0A%0Aprint%28%22%5B1,2,3%5D%3A%22,%20sum_list%28%5B1,2,3%5D%29%29&cumulative=false&curInstr=0&heapPrimitives=nevernest&mode=display&origin=opt-frontend.js&py=3&rawInputLstJSON=%5B%5D&textReferences=false)  Note: Intermediary variables were added to this example to demonstrate the program's state as shown below."
   ]
  },
  {
   "cell_type": "code",
   "execution_count": null,
   "id": "48d4ed64",
   "metadata": {},
   "outputs": [],
   "source": [
    "def sum_list(list_to_sum):\n",
    "    if len(list_to_sum) == 0:\n",
    "        return 0\n",
    "    \n",
    "    current_value = list_to_sum[0]\n",
    "    recursive_value = sum_list(list_to_sum[1:])\n",
    "    result = current_value + recursive_value\n",
    "    return result"
   ]
  },
  {
   "cell_type": "markdown",
   "id": "9a6ef8a6",
   "metadata": {},
   "source": [
    "Adding intermediary variables like this may help while debugging. By separating and making explicit the different steps, it becomes easier to analyze.  Using a debugger, programmers can step through each line of code and follow the changes made to the variables.  The variable names provide additional context as well."
   ]
  },
  {
   "cell_type": "markdown",
   "id": "5335c165",
   "metadata": {},
   "source": [
    "## Case Study: Recursive Directory Listings"
   ]
  },
  {
   "cell_type": "markdown",
   "id": "c542557f",
   "metadata": {},
   "source": [
    "In a previous notebook, we learned the basic operations to perform directory and file operations.\n",
    "\n",
    "One common task with filesystems is to list all of the files within a particularly directory, including any subdirectories, as well as any subdirectories those may have, then subdirectories within those subdirectories, and then ...  \n",
    "\n",
    "As your starting to see, it's getting a bit complex - a priori, we don't know the depth of the directory structure .  Nor do we want to special case this - remember we are after generalized solutions.\n",
    "\n",
    "Solving this for just the initial directory is simply just listing the contents of that directory.  However, as we iterate through that list, we need to ask ourselves what do we to do for each file?\n",
    "- file: just print the name\n",
    "- directory: print the name, and then print the contents of that directory.\n",
    "\n",
    "Ah,  we've just defined the solution in terms of itself.  Now what's the base case?  Directory empty?  Sure, but there's no guarantee that an empty directory won't exist?  When do we stop making function calls?  When a directory doesn't contain any more subdirectories.  In this situation, an explicit base condition does not exist, but rather the base condition occurs implicitly based on the contents of the directory."
   ]
  },
  {
   "cell_type": "code",
   "execution_count": null,
   "id": "28c30f97",
   "metadata": {},
   "outputs": [],
   "source": [
    "import os\n",
    "\n",
    "def walk_directory(directory_name):\n",
    "    files = os.listdir(directory_name)\n",
    "    for file in files:\n",
    "        print(file)\n",
    "        test_filename = os.path.join(directory_name,file)\n",
    "        if (os.path.isdir(test_filename)):\n",
    "            walk_directory(test_filename)\n",
    "        \n",
    "walk_directory(\".\")\n"
   ]
  },
  {
   "cell_type": "markdown",
   "id": "af08a1e2",
   "metadata": {},
   "source": [
    "## Recursion Notes\n",
    "\n",
    "Recursive functions can be categorized into _head recursion_ and _tail recursion_.  \n",
    "\n",
    "For _head recursion_, the recursive call comes first, then any other processing in the function. `say_hello_increasing()` is an example of head recursion.  Note that we had the base condition check first, though.  If we had put the recursive call first, then a stack overflow error would have occurred as the condition for calling the function never changed.\n",
    "\n",
    "In _tail recursion_, the function's processing comes first followed by the recursive call.  `walk_directory()` is an example of tail recursion.\n",
    "\n",
    "Often, we may want to initiate a recursive call, but first perform one or more of the follow items as part of that process:\n",
    "- validate parameters\n",
    "- initialize any parameters or auxiliary variables. Often, we may want to keep track of the stack depth ourselves\n",
    "- handle any exceptions and errors. (we'll be covering these soon)\n",
    "\n",
    "For these situations, use _wrapper functions_ that can perform these tasks.\n",
    "\n",
    "For Python, we can nest functions within other functions.  By doing this, we prevent code outside of our function calling the nested functions.  In other languages like Java and C++, we can make the actual recursive function private to prevent direct calls.\n"
   ]
  },
  {
   "cell_type": "code",
   "execution_count": null,
   "id": "11bd2927",
   "metadata": {},
   "outputs": [],
   "source": [
    "def say_hello(num_times):\n",
    "    def say_hello_increasing(count, max_count):\n",
    "        if (count == max_count):\n",
    "            return\n",
    "        say_hello_increasing(count + 1, max_count)\n",
    "        print('hello')\n",
    "        \n",
    "    say_hello_increasing(0, num_times)\n",
    "    \n",
    "\n",
    "\n",
    "say_hello(5)"
   ]
  },
  {
   "cell_type": "markdown",
   "id": "48646229",
   "metadata": {},
   "source": [
    "Notice that the inner function `say_hello_increasing()` needed to be defined first.  Try re-writing the code such that th function definition occurs last.  What error occurred?"
   ]
  },
  {
   "cell_type": "markdown",
   "id": "38a6f92d",
   "metadata": {},
   "source": [
    "[![Relevant XKCD Cartoon](images/relevantXKCD.png)](https://thomaspark.co/2017/01/relevant-xkcd/)\n",
    "<br>\n",
    "<small>Credit: https://thomaspark.co/2017/01/relevant-xkcd/</small>"
   ]
  },
  {
   "cell_type": "markdown",
   "id": "f526e19b",
   "metadata": {},
   "source": [
    "## Exercises:\n",
    "1. Write a function with the signature factorial(n) to compute the [factorial](https://en.wikipedia.org/wiki/Factorial) of that number using recursion. This problem is the probably the most used example to introduce recursion. We are leaving this as an exercise to the reader (literally and figuratively).\n",
    "2. Write a recursive function to compute the nth [Fibonacci number](https://en.wikipedia.org/wiki/Fibonacci_number).  This function should have the signature `fibonacci(n)`  This is the other standard example often used for recursion.  Again, it's an exercise for the reader.\n",
    "3. Sum a list. However, an element may be a number, list or a string.  Strings should be ignored.  To test if a variable is a string, use `type(variable_name) is str`, to test if a variable is a list, use `type(variable_name) is list`\n",
    "4. Implement a modified version of the Linux command-line program tree as a recursive function.  Below is the output.  In this example, we called it with the current directory.  Files and directories should be listed in alphabetical order.  The number in parenthesis is the size of the file in bytes.  At the bottom of the output, is the number of directories and files underneath the directory that started the recursion. i.e., the initial directory is not included.  The final number is the total number of bytes allocated to the entire structure, including the initial directory.  The starting point to your code should be `tree(directory_name)`.  You can assume there will always be multiples files and directories. i.e., you do not have to special case the plurals for this problem.  You should show all files (including hidden files - those that start with a period.  Implementation note: to be able to reference a variable defined by outer function within a nested function use the `nonlocal` keyword.  This functions similarly to the `global` keyword used when discussing namespaces.\n",
    "\n",
    "<pre>\n",
    ".\n",
    "├── 00-Preliminaries.ipynb (456,333)\n",
    "├── 01-Introduction.ipynb (799,312)\n",
    "├── answers\n",
    "│   ├── 02-Answers (23,333)\n",
    "│   ├── 03-Answers (76,566)\n",
    "├── data\n",
    "│   ├── PakistanSuicideAttacks.csv (264,320)\n",
    "│   ├── djia_returns_1886_2022.csv (56,203)\n",
    "│   └── state_populations.txt (25,850)\n",
    "├── images\n",
    "│   ├── ifElifStatement.png (45,045) \n",
    "│   ├── ifElseStatement.png (47,334)\n",
    "\n",
    "3 directories, 9 files\n",
    "2,345,333 bytes\n",
    "<pre>"
   ]
  },
  {
   "cell_type": "code",
   "execution_count": null,
   "id": "60e71ebf",
   "metadata": {},
   "outputs": [],
   "source": []
  }
 ],
 "metadata": {
  "kernelspec": {
   "display_name": "Python 3 (ipykernel)",
   "language": "python",
   "name": "python3"
  },
  "language_info": {
   "codemirror_mode": {
    "name": "ipython",
    "version": 3
   },
   "file_extension": ".py",
   "mimetype": "text/x-python",
   "name": "python",
   "nbconvert_exporter": "python",
   "pygments_lexer": "ipython3",
   "version": "3.10.4"
  }
 },
 "nbformat": 4,
 "nbformat_minor": 5
}
