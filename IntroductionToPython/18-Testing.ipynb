{
 "cells": [
  {
   "cell_type": "markdown",
   "id": "c16c55ab",
   "metadata": {},
   "source": [
    "# Testing\n",
    "\n",
    "Intro\n",
    "\n",
    "discuss fitting into the software develpment process\n",
    "\n",
    "\n",
    "\n",
    "Jessica's notes:\n",
    "What is testing?\n",
    "• Testing is the process of finding software faults\n",
    "– Fault: “an incorrect step, process, or data definition in a program”4\n",
    "• Testing: “the dynamic verification of the behavior of a program on a finite set of test cases, suitably selected from the usually infinite executions domain, against the expected behavior”5\n",
    "• Test cases uncover failure by finding where the actual behavior of a program deviates from the expected behavior.\n",
    "• Investigation of failures uncovering faults.\n",
    "4IEEE, “ISO/IEC 24765:2009 Systems and Software Engineering Vocabulary,” 2009.\n",
    "5ISO/IEC TR 19759:2005 Software Engineering – Guide to the Software Engineering Body of Knowledge (SWEBOK)\n",
    "\n",
    "\n",
    "\n",
    "\n",
    "testing from another iSO standard.  I kinda of like this one becuase its more inclusive, but at the lack of specificity...\n",
    "\n",
    "set of activities conducted to facilitate discovery and/or evaluation of properties of one or more test items\n",
    "https://www.iso.org/obp/ui/#iso:std:iso-iec-ieee:29119:-1:ed-1:v1:en"
   ]
  },
  {
   "cell_type": "markdown",
   "id": "0e655ab1",
   "metadata": {},
   "source": [
    "## Objectives\n",
    "* Understand the importance of testing\n",
    "* Developing effective test cases\n",
    "* Automating test case execution"
   ]
  },
  {
   "cell_type": "markdown",
   "id": "b8a91051",
   "metadata": {},
   "source": [
    "## Introduction to Testing\n",
    "\n",
    "- Catch errors as soon as possible\n",
    "- Boehm's curve\n",
    "\n",
    "==\n",
    "Jessica's notes\n",
    "Why test?\n",
    "Testing increases confidence that your program works correctly and meets the customer requirements or expectations\n",
    "• Better scores on assignments\n",
    "• Save companies millions, if not billions, of dollars\n",
    "• Maintain customer’s confidence in company\n",
    "\n",
    "====\n",
    "\n",
    "\n",
    "Yes, initially, you can get away with manually testing your software as your write code.  (And in some ways, this is necessary - build a little, test that those parts work, and build some more.  Rinse, Lather, Repeat.). However, eventually you will have significant maintainability issues.\n",
    "\n",
    "Prior to the early 2000's, most software and system testing was a manual process.  Individuals wrote test scripts that were then executed.  Some unit test cases were built, but largely executed manually.  Since then, testing has been become automated (although not universally).  \n",
    "\n",
    "Several advantages to automated testing:\n",
    "1. Cost-savings.  These test cases can be run repetitively.  Yes, a higher upfront costs exists to develop test cases, but that's more of a one time expense.  Over the lifetime of a project, these test cases can now be executed thousands at time.\n",
    "2. Faster development timeframes.  As enhancements are made to system, existing test cases can be executed to ensure the existing functionality still works.  (regression testing)\n",
    "3. Immediate feedback\n",
    "4. automation of test cases development.  Fuzzing - https://owasp.org/www-community/Fuzzing\n",
    "5. Automated testing is to foundation to continuous integration, continuous delivery, and other modern [DevOps practices](https://about.gitlab.com/topics/devops/).\n",
    "6. Oh...  by the way, the automated grading of your program submissions - that's all unit tests."
   ]
  },
  {
   "cell_type": "code",
   "execution_count": null,
   "id": "ec6b7a1b",
   "metadata": {},
   "outputs": [],
   "source": []
  },
  {
   "cell_type": "code",
   "execution_count": null,
   "id": "425fb224",
   "metadata": {},
   "outputs": [],
   "source": [
    "## Test Case: High Altitude cooking. \n",
    "\n",
    "100 C\n",
    "for every 152.4m increase, boiling point decrease .5 c\n"
   ]
  },
  {
   "cell_type": "code",
   "execution_count": null,
   "id": "e1aabc78",
   "metadata": {},
   "outputs": [],
   "source": []
  },
  {
   "cell_type": "code",
   "execution_count": null,
   "id": "ea3e3223",
   "metadata": {},
   "outputs": [],
   "source": [
    "## what is a test case  ...\n",
    "Test Case Information\n",
    "• Unique Identifier\n",
    "• Test Inputs\n",
    "• Expected Results\n",
    "• Actual Results"
   ]
  },
  {
   "cell_type": "code",
   "execution_count": null,
   "id": "eeb53010",
   "metadata": {},
   "outputs": [],
   "source": []
  },
  {
   "cell_type": "code",
   "execution_count": null,
   "id": "25da62dd",
   "metadata": {
    "scrolled": true
   },
   "outputs": [],
   "source": [
    "Other packages to explore\n",
    "https://docs.pytest.org/\n",
    "https://hypothesis.readthedocs.io/"
   ]
  },
  {
   "cell_type": "code",
   "execution_count": null,
   "id": "71093c6f",
   "metadata": {},
   "outputs": [],
   "source": []
  },
  {
   "cell_type": "code",
   "execution_count": null,
   "id": "2f40bbc1",
   "metadata": {},
   "outputs": [],
   "source": []
  },
  {
   "cell_type": "markdown",
   "id": "ce6dcb42",
   "metadata": {},
   "source": [
    "Reword all of the following and bring in more - testing strategy / developing test cases\n",
    "\n",
    "1. Think about size. When a test involves a collection such as a list, string, dictionary, or file, you need to do the following:\n",
    "  1. Test the empty collection.\n",
    "  2. Test a collection with one item in it.\n",
    "  3. Test a general case with several items.\n",
    "  4. Test the smallest interesting case, such as sorting a list containing two values.\n",
    "\n",
    "2. Think about dichotomies. A dichotomy is a contrast between two things. Examples of dichotomies are empty/full, even/odd, positive/negative, and alphabetic/nonalphabetic. If a function deals with two or more different categories or situations, make sure you test all of them.\n",
    "3. Think about boundaries. If a function behaves differently around a particular boundary or threshold, test exactly that boundary case.\n",
    "4. Think about order. If a function behaves differently when values appear in different orders, identify those orders and test each one of them. For the sorting example mentioned earlier, you’ll want one test case where the items are in order and one where they are not.\n",
    "\n",
    "\n",
    "\n"
   ]
  },
  {
   "cell_type": "code",
   "execution_count": null,
   "id": "d8d3ab6d",
   "metadata": {},
   "outputs": [],
   "source": [
    "test Equivalence Classes\n",
    "• Input/output space is broken into different equivalence classes\n",
    "• Each equivalence class is tested\n",
    "• Tests are written to include “middle” input values from each of the possible classes – One test may consider multiple equivalence classes\n",
    "– One for each type of input/output\n",
    "• A test focuses on one equivalence class, but other values are needed for a full test. Those other values should be ”middle” values.\n",
    "• Helps further test requirements by considering groups of inputs/outputs\n"
   ]
  },
  {
   "cell_type": "code",
   "execution_count": null,
   "id": "7a63b99a",
   "metadata": {},
   "outputs": [],
   "source": [
    "Test Boundary Values\n",
    "Programmers tend to make mistakes at boundaries\n",
    "Want to test program boundaries and values to either side of the boundary\n",
    "\n",
    "(smallest, largest, change from negative to positive)\n"
   ]
  },
  {
   "cell_type": "code",
   "execution_count": null,
   "id": "935ae525",
   "metadata": {},
   "outputs": [],
   "source": [
    "Testing Strategies\n",
    "• Test Requirements\n",
    "• Test Equivalence Classes • Test Boundary Values\n",
    "• Test All Paths\n",
    "• Test Exceptions"
   ]
  },
  {
   "cell_type": "code",
   "execution_count": null,
   "id": "17f969ba",
   "metadata": {},
   "outputs": [],
   "source": [
    "code coverage\n",
    "- function/method\n",
    "- statement\n",
    "- edge\n",
    "- branch\n",
    "- condition. (predicate coverage)\n",
    "\n"
   ]
  },
  {
   "cell_type": "code",
   "execution_count": null,
   "id": "12186a72",
   "metadata": {},
   "outputs": [],
   "source": [
    "How much to test?\n",
    "Brooks’ Rule of Thumb for Scheduling a Software Project6\n",
    "• 1/3 design\n",
    "• 1/6 coding\n",
    "• 1/2 testing\n",
    "– 1/4 component testing (unit testing) – 1/4 system testing\n",
    "Testing Early and Often\n",
    "• Test early: start testing as soon as parts are implemented\n",
    "• Test often: running tests at every reasonable opportunity\n",
    "CSC116 Lecture Notes: Dr. Jessica Young Schmidt\n",
    "  6F. P. Brooks, Jr., The Mythical Man-Month: Essays on Software Engineering, Anniversary Edition, Boston: Addison-Wesley, 1995.\n"
   ]
  },
  {
   "cell_type": "code",
   "execution_count": null,
   "id": "5c793a15",
   "metadata": {},
   "outputs": [],
   "source": []
  },
  {
   "cell_type": "code",
   "execution_count": null,
   "id": "0a57d07f",
   "metadata": {},
   "outputs": [],
   "source": []
  },
  {
   "cell_type": "code",
   "execution_count": null,
   "id": "d227d6ea",
   "metadata": {},
   "outputs": [],
   "source": []
  },
  {
   "cell_type": "code",
   "execution_count": null,
   "id": "efeb8728",
   "metadata": {},
   "outputs": [],
   "source": []
  }
 ],
 "metadata": {
  "kernelspec": {
   "display_name": "Python 3 (ipykernel)",
   "language": "python",
   "name": "python3"
  },
  "language_info": {
   "codemirror_mode": {
    "name": "ipython",
    "version": 3
   },
   "file_extension": ".py",
   "mimetype": "text/x-python",
   "name": "python",
   "nbconvert_exporter": "python",
   "pygments_lexer": "ipython3",
   "version": "3.10.4"
  }
 },
 "nbformat": 4,
 "nbformat_minor": 5
}
