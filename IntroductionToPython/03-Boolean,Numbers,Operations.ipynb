{
 "cells": [
  {
   "cell_type": "markdown",
   "id": "9da29614-ae27-4326-8e99-61aa95666451",
   "metadata": {},
   "source": [
    "<div class=\"pagebreak\"></div>\n",
    "\n",
    "# Booleans, Numbers and Operations\n",
    "\n",
    "This notebook introduces three of the simpler data types within Python: Booleans, ints, and floats. As ints and floats are presented, the notebook shows various operations to combine different variables and literals in order to form an expression.\n",
    "\n",
    "Expressions are simply any combination of one or more literals(constants), variables, functions, and operators. \n",
    "\n",
    "Throughout this notebook, practice changing the values and re-running the cells to see what happens."
   ]
  },
  {
   "cell_type": "markdown",
   "id": "c1a139e4",
   "metadata": {},
   "source": [
    "## Booleans"
   ]
  },
  {
   "cell_type": "markdown",
   "id": "080a793f",
   "metadata": {},
   "source": [
    "Boolean is the simplest data type in Python as the only possible values are ```True``` and ```False```.  However, Boolean values are widely used throughout most programming languages.  We can create variables to hold one of these values directly, but will also implicitly use this type as the result of conditional expressions to evaluate whether or not something is `True` or `False`.  Typically, these results will be used in control (`if`) and loop (`while`) statements.\n",
    "\n",
    "Use Python's built-in function ```bool()``` to convert other data types to Boolean.  Any non-zero value will be considered ```True``` and any zero / empty value will be considered ```False```.\n",
    "\n",
    "Side Note: While it looks awkward to capitalize Boolean, the capitalization is typically performed to honor [George Boole ](https://en.wikipedia.org/wiki/George_Boole) who invented algebraic logic in the mid 19th century."
   ]
  },
  {
   "cell_type": "markdown",
   "id": "1231dbba",
   "metadata": {},
   "source": [
    "The following expressions evaluate to ```True```:"
   ]
  },
  {
   "cell_type": "code",
   "execution_count": null,
   "id": "9536e52b",
   "metadata": {},
   "outputs": [],
   "source": [
    "True\n",
    "bool(True)\n",
    "bool(100)\n",
    "bool(-100)\n",
    "bool(10.0)\n",
    "bool(\"George Boole\")"
   ]
  },
  {
   "cell_type": "markdown",
   "id": "afdf9cd2",
   "metadata": {},
   "source": [
    "The following expressions evaluate to ```False```:"
   ]
  },
  {
   "cell_type": "code",
   "execution_count": null,
   "id": "2a91b168",
   "metadata": {},
   "outputs": [],
   "source": [
    "False\n",
    "bool(False)\n",
    "bool(0)\n",
    "bool(0.0)\n",
    "bool(\"\")"
   ]
  },
  {
   "cell_type": "markdown",
   "id": "9244d2ff",
   "metadata": {},
   "source": [
    "## Integers\n",
    "Integers ($ \\mathbb{Z} $) are whole numbers - they do not have any fractional value or contain a decimal point.  \n",
    "\n",
    "Typically, we write these as a sequence of digits (the characters from 0 to 9).  We can add underscores (\"```_```\") to improve readability.  However, we can not start an integer value with a 0 followed by other digits. ```0``` is valid of course."
   ]
  },
  {
   "cell_type": "code",
   "execution_count": null,
   "id": "b590e761",
   "metadata": {},
   "outputs": [],
   "source": [
    "1892"
   ]
  },
  {
   "cell_type": "code",
   "execution_count": null,
   "id": "27ef29e4",
   "metadata": {},
   "outputs": [],
   "source": [
    "0"
   ]
  },
  {
   "cell_type": "code",
   "execution_count": null,
   "id": "c88e22c8",
   "metadata": {},
   "outputs": [],
   "source": [
    "1_000_000"
   ]
  },
  {
   "cell_type": "code",
   "execution_count": null,
   "id": "dbfd64e1",
   "metadata": {},
   "outputs": [],
   "source": [
    "012    # causes a \"SyntaxError\""
   ]
  },
  {
   "cell_type": "markdown",
   "id": "15de060e",
   "metadata": {},
   "source": [
    "### Compilation Issues\n",
    "\n",
    "In the previous cell, the Python interpreter raised a \"SyntaxError\" which is a compilation issue while converting the program text into a symbolic representation that can then be executed.  Before, we have also seen runtime errors that occur as our program executes.  We can identify those in python with the presence of \"Traceback\" report in the error message that shows the list of function calls that led to the error.  We'll discuss the different error types and how to handle these errors robustly in a later module."
   ]
  },
  {
   "cell_type": "markdown",
   "id": "76352701",
   "metadata": {},
   "source": [
    "### Integer Bases\n",
    "Integers are generally represented in programs as base 10 (decimal) numbers.  The *base* is the number of digits that a system of counting uses to represent numbers.  \n",
    "\n",
    "Behind the scenes, computers utilize sequences of bits (zeros and ones) to represent values - even for items other than integers.  As humans, we rely upon abstractions to make sense of those sequences -whether it is a number, text, images, videos, sound, etc.  \n",
    "\n",
    "For integers, besides decimal, three base representations are often used within computer programs: binary, octal, and hexadecimal.\n",
    "\n",
    "For Python, we can express literal integers in these three bases in addition to decimal by using specific prefixes:\n",
    "- 0b or 0B for *binary* (base 2).  Digits: 0, 1\n",
    "- 0o or 0O for *octal* (base 8).  Digits: 0,1,2,3,4,5,6,7\n",
    "- 0x or 0X for *hexadecimal* (base 16).  Often this is shortened to \"hex\".  Digits: 0,1,2,3,4,5,6,7,8,9,a,b,c,d,e,f\n",
    "\n",
    "These prefixes are the reason why we can not start integer values with 0 and then some other series of digits. As part of the process of translating program text to something that can be executed, a tokenizer \"chunks\" up terms of program text.  The Python tokenizer has the ability to correctly determine the chucks for 0 and 0xFF, but not for 01."
   ]
  },
  {
   "cell_type": "markdown",
   "id": "5cba782e",
   "metadata": {},
   "source": [
    "In the following cell, we show the sequence of ```10``` using four different bases."
   ]
  },
  {
   "cell_type": "code",
   "execution_count": 3,
   "id": "d7b02f78",
   "metadata": {},
   "outputs": [
    {
     "name": "stdout",
     "output_type": "stream",
     "text": [
      "10\n",
      "2\n",
      "8\n",
      "16\n"
     ]
    }
   ],
   "source": [
    "print(10)\n",
    "print(0b10)\n",
    "print(0o10)\n",
    "print(0x10)"
   ]
  },
  {
   "cell_type": "markdown",
   "id": "bb284d04",
   "metadata": {},
   "source": [
    "And now the value of 42 represented with four different bases"
   ]
  },
  {
   "cell_type": "code",
   "execution_count": 2,
   "id": "531c238d",
   "metadata": {},
   "outputs": [
    {
     "name": "stdout",
     "output_type": "stream",
     "text": [
      "42\n",
      "42\n",
      "42\n",
      "42\n"
     ]
    }
   ],
   "source": [
    "print(42)\n",
    "print(0b101010)\n",
    "print(0o52)\n",
    "print(0x2A)"
   ]
  },
  {
   "cell_type": "markdown",
   "id": "f5d934f3",
   "metadata": {},
   "source": [
    "Hexadecimal characters cab be both lower and upper case.\n",
    "\n",
    "We can convert integer values to the other bases with `bin()`, `oct()`, and `hex()`."
   ]
  },
  {
   "cell_type": "code",
   "execution_count": null,
   "id": "517c938e",
   "metadata": {},
   "outputs": [],
   "source": [
    "x=42\n",
    "print(bin(x))\n",
    "print(oct(x))\n",
    "print(hex(x))"
   ]
  },
  {
   "cell_type": "markdown",
   "id": "f424ae1c",
   "metadata": {},
   "source": [
    "### Integer operations\n",
    "Python offers the standard arithmetic operators, as well as a couple of special operators to support division\n",
    " "
   ]
  },
  {
   "cell_type": "markdown",
   "id": "04b8ea7e-c268-4869-a663-66cd8d0e3f99",
   "metadata": {},
   "source": [
    "Python operation | Arithmetic<br>operator | Example | Result\n",
    ":-------- | :-------- | :-------- | :-----\n",
    "Addition| + | 5 + 2| 7\n",
    "Subtraction| –| 12 - 5  | 7\n",
    "Multiplication| * | 3 * 4  | 12 \n",
    "True division| / | 16 / 5  |  3.2\n",
    "Floor division| // | 16 // 5  |  3\n",
    "Remainder (modulo)| % | 16 % 5  | 1\n",
    "Exponentiation| ** |  2 ** 10  | 1024"
   ]
  },
  {
   "cell_type": "markdown",
   "id": "d45f17bf",
   "metadata": {},
   "source": [
    "Addition, subtraction, and multiplication are straightforward as you expect and you can include as many numbers and operators as needed:"
   ]
  },
  {
   "cell_type": "code",
   "execution_count": null,
   "id": "3d498709",
   "metadata": {},
   "outputs": [],
   "source": [
    "print(5 + 2)\n",
    "print(12 - 5)\n",
    "print(1 + 2  + 3 + 4 + 5 + 6 + 7 + 8 + 9 + 10)\n",
    "print(3 * 4)\n",
    "print(2 * 2 * 2)"
   ]
  },
  {
   "cell_type": "markdown",
   "id": "ba9f6350",
   "metadata": {},
   "source": [
    "Division has two distinct operators:\n",
    "- True division ```/```, which always returns a floating point number, even if the number is divisible without any remainder\n",
    "- Floor division ```//```, which always returns an integer and drops any remainder."
   ]
  },
  {
   "cell_type": "code",
   "execution_count": null,
   "id": "46a864de",
   "metadata": {},
   "outputs": [],
   "source": [
    "print(5 / 2)\n",
    "print(4 / 2)\n",
    "print(type(4 / 2))\n",
    "print(5 // 2)"
   ]
  },
  {
   "cell_type": "markdown",
   "id": "f9581582",
   "metadata": {},
   "source": [
    "```%``` produces the remainder of a division operation"
   ]
  },
  {
   "cell_type": "code",
   "execution_count": null,
   "id": "1b48e5ba",
   "metadata": {},
   "outputs": [],
   "source": [
    "print(5 % 2)"
   ]
  },
  {
   "cell_type": "markdown",
   "id": "fb555213",
   "metadata": {},
   "source": [
    "It is possible to produce both the quotient and remainder at the same time with ```divmod()```.  This returns a two-item tuple - we will look at tuples in a later notebook. "
   ]
  },
  {
   "cell_type": "code",
   "execution_count": null,
   "id": "db33d47a",
   "metadata": {},
   "outputs": [],
   "source": [
    "divmod(16, 5)"
   ]
  },
  {
   "cell_type": "markdown",
   "id": "6b1e50a8",
   "metadata": {},
   "source": [
    "Divison by zero is not allowed.  The Python interpreter will raise a ```ZeroDivisionError```."
   ]
  },
  {
   "cell_type": "code",
   "execution_count": null,
   "id": "ebf5fa6b",
   "metadata": {},
   "outputs": [],
   "source": [
    "6 / 0"
   ]
  },
  {
   "cell_type": "markdown",
   "id": "20a107af",
   "metadata": {},
   "source": [
    "```**``` indicates exponention, which raises one value to a power of another\n",
    "\n",
    "$5^2 = 25$"
   ]
  },
  {
   "cell_type": "code",
   "execution_count": null,
   "id": "be23a47f",
   "metadata": {},
   "outputs": [],
   "source": [
    "5**2"
   ]
  },
  {
   "cell_type": "markdown",
   "id": "0ae5ef24",
   "metadata": {},
   "source": [
    "### Precedence\n",
    "Python follows the standard rules for precedence: (PEMDAS)\n",
    "1. Parenthesis\n",
    "2. Exponent\n",
    "3. Multiplication or division\n",
    "4. Addition or subtraction \n",
    "\n",
    "If there's any confusion, use parenthesis to make your code readable.  Confusing expressions are for social media arguments, not computer programs that have to be maintained."
   ]
  },
  {
   "cell_type": "code",
   "execution_count": null,
   "id": "534b3c8a",
   "metadata": {},
   "outputs": [],
   "source": [
    "2 + 2 * 4"
   ]
  },
  {
   "cell_type": "code",
   "execution_count": null,
   "id": "544aa9b9",
   "metadata": {},
   "outputs": [],
   "source": [
    "(2 + 2) * 4"
   ]
  },
  {
   "cell_type": "code",
   "execution_count": null,
   "id": "97d208f4",
   "metadata": {},
   "outputs": [],
   "source": [
    "10 * (10 + 1) / 2"
   ]
  },
  {
   "cell_type": "markdown",
   "id": "a0e18ef6",
   "metadata": {},
   "source": [
    "### Example: Temperature Conversion\n",
    "\n",
    "Quite often, we will use a formula to carry out special operations such as converting Fahrenheit numbers to Celsius.\n",
    "$ (F - 32) * 5/9 = C $\n",
    "\n",
    "However, in Python and other computing languages, assignments are made to a variable on the right side of equation."
   ]
  },
  {
   "cell_type": "code",
   "execution_count": null,
   "id": "e0f7ad85",
   "metadata": {},
   "outputs": [],
   "source": [
    "f = 77\n",
    "c = (f - 32) * (5 / 9)\n",
    "print(c)"
   ]
  },
  {
   "cell_type": "markdown",
   "id": "4892c926",
   "metadata": {},
   "source": [
    "Notice that final type of the value was a float due to the true division operator."
   ]
  },
  {
   "cell_type": "markdown",
   "id": "c4119e80",
   "metadata": {},
   "source": [
    "*Brain teaser:*  Four fours is a puzzle to see how many different numbers you can produce using four fours with an expression.\n",
    "\n",
    "For example: `print(\"4 + 4 - 4 - 4:\", 4 + 4 - 4 - 4)` prints `4 + 4 - 4 - 4: 0`\n",
    "\n",
    "How many numbers can you produce?  Put additional statements in the cell below with your answers."
   ]
  },
  {
   "cell_type": "code",
   "execution_count": null,
   "id": "25ff3151",
   "metadata": {},
   "outputs": [],
   "source": [
    "print(\"4 + 4 - 4 - 4:\", 4 + 4 - 4 - 4)\n",
    "print(\"4 // 4 - 4 + 4:\", 4 // 4 - 4 + 4)\n",
    "# Produce more numbers here\n"
   ]
  },
  {
   "cell_type": "markdown",
   "id": "265f8199",
   "metadata": {},
   "source": [
    "## Floats\n",
    "Floating point numbers (floats) are roughly the set of real numbers (($ \\mathbb{R} $) - numbers that have decimal points.  (We use \"roughly\" as not all numbers in the space can be precisely defined due to how these numbers are represented in computers - see below for more details.)\n",
    "\n",
    "Examples:"
   ]
  },
  {
   "cell_type": "code",
   "execution_count": null,
   "id": "98d5b7e4",
   "metadata": {},
   "outputs": [],
   "source": [
    "10.\n"
   ]
  },
  {
   "cell_type": "code",
   "execution_count": null,
   "id": "e2f1ab82",
   "metadata": {},
   "outputs": [],
   "source": [
    "10.0"
   ]
  },
  {
   "cell_type": "code",
   "execution_count": null,
   "id": "5c1bc9ff",
   "metadata": {},
   "outputs": [],
   "source": [
    "010.0"
   ]
  },
  {
   "cell_type": "markdown",
   "id": "231b7909",
   "metadata": {},
   "source": [
    "Floating point numbers can also be represented in exponential/scientific notation:"
   ]
  },
  {
   "cell_type": "code",
   "execution_count": null,
   "id": "66242eba",
   "metadata": {},
   "outputs": [],
   "source": [
    "10e0"
   ]
  },
  {
   "cell_type": "code",
   "execution_count": null,
   "id": "a2afba5f",
   "metadata": {},
   "outputs": [],
   "source": [
    "10e2"
   ]
  },
  {
   "cell_type": "code",
   "execution_count": null,
   "id": "57b7efb2",
   "metadata": {},
   "outputs": [],
   "source": [
    "10e-1"
   ]
  },
  {
   "cell_type": "markdown",
   "id": "e8b6e89d",
   "metadata": {},
   "source": [
    "As with integers, we can use underscores ```_``` to separate digits for clarity."
   ]
  },
  {
   "cell_type": "code",
   "execution_count": null,
   "id": "b131c179",
   "metadata": {},
   "outputs": [],
   "source": [
    "1_000_000.023_123"
   ]
  },
  {
   "cell_type": "markdown",
   "id": "d4706852",
   "metadata": {},
   "source": [
    "Operators and precedence rules are the same for floats as they are for ints.  The biggest difference is floor division ```//``` which returns a float."
   ]
  },
  {
   "cell_type": "code",
   "execution_count": null,
   "id": "64049331",
   "metadata": {},
   "outputs": [],
   "source": [
    "10 // 2"
   ]
  },
  {
   "cell_type": "code",
   "execution_count": null,
   "id": "57911495",
   "metadata": {},
   "outputs": [],
   "source": [
    "10.0 // 2.0"
   ]
  },
  {
   "cell_type": "markdown",
   "id": "9e5d753f",
   "metadata": {},
   "source": [
    "You can mix and match float and int types in operations.  The result of any operation that contains at least one float or true division operator will be a float."
   ]
  },
  {
   "cell_type": "code",
   "execution_count": null,
   "id": "9299498c",
   "metadata": {},
   "outputs": [],
   "source": [
    "5 + 10 + 25.3"
   ]
  },
  {
   "cell_type": "markdown",
   "id": "ebffa87f",
   "metadata": {},
   "source": [
    "### Compound Interest\n",
    "\n",
    "A basic financial concept is looking at the addition of interest to a principal amount after a certain period of time (e.g., one year).  $ amount = principal + (principal * rate) $"
   ]
  },
  {
   "cell_type": "code",
   "execution_count": null,
   "id": "df447076",
   "metadata": {},
   "outputs": [],
   "source": [
    "principal = 1000\n",
    "rate = 0.075\n",
    "amount = principal + (principal * rate)\n",
    "print(amount)"
   ]
  },
  {
   "cell_type": "markdown",
   "id": "9218d4c0",
   "metadata": {},
   "source": [
    "### Representation\n",
    "As with most other programming languages, Python uses [IEEE Standard 754-2008](https://ieeexplore.ieee.org/document/4610935) for floating point representation and arithmetic.\n",
    "\n",
    "The Python tutorial discusses some of the [issues and limitations of float point arithmetic](https://docs.python.org/3/tutorial/floatingpoint.html).  As discussed with integers, the underlying numbers behind the representation are binary. This means that only fractions that involve powers of 2 are represented exactly. Other fractions produce infinitely repeating significands.\n",
    "\n",
    "\n",
    "From a financial technical perspective, it's imperative that we use exact representations for our numbers. Python provides the [decimal](https://docs.python.org/3/library/decimal.html) class that we can use in our financial applications that we build. We demonstrate a basic usage of this class below and will have a separate module covering this in more detail.\n",
    "\n",
    "Examples of incomplete representation:"
   ]
  },
  {
   "cell_type": "code",
   "execution_count": null,
   "id": "bf5361a0",
   "metadata": {},
   "outputs": [],
   "source": [
    "(80 - 32) * (5 / 9)"
   ]
  },
  {
   "cell_type": "code",
   "execution_count": null,
   "id": "7d953f08",
   "metadata": {},
   "outputs": [],
   "source": [
    "print (1.1 + 2.2)"
   ]
  },
  {
   "cell_type": "code",
   "execution_count": null,
   "id": "cf7e3489",
   "metadata": {},
   "outputs": [],
   "source": [
    "from decimal import *\n",
    "print (Decimal(\"1.10\") + Decimal(\"2.20\"))"
   ]
  },
  {
   "cell_type": "markdown",
   "id": "5dc64abf",
   "metadata": {},
   "source": [
    "## Type Conversions\n",
    "Python provides several built-in methods to convert values among integer, float, and string datatypes.  \n",
    "\n",
    "```int()```  converts a string or a float to an integral value. The string must be a valid int value otherwise a ValueError occurs.  With floats, the decimal portion is truncated (not rounded)."
   ]
  },
  {
   "cell_type": "code",
   "execution_count": 5,
   "id": "48de5a45",
   "metadata": {},
   "outputs": [
    {
     "name": "stdout",
     "output_type": "stream",
     "text": [
      "5\n"
     ]
    },
    {
     "data": {
      "text/plain": [
       "int"
      ]
     },
     "execution_count": 5,
     "metadata": {},
     "output_type": "execute_result"
    }
   ],
   "source": [
    "x = int(5.75)\n",
    "print(x)\n",
    "type(x)\n"
   ]
  },
  {
   "cell_type": "code",
   "execution_count": 6,
   "id": "3e243c6b",
   "metadata": {},
   "outputs": [
    {
     "name": "stdout",
     "output_type": "stream",
     "text": [
      "1842\n"
     ]
    }
   ],
   "source": [
    "x = int(\"1842\")\n",
    "print(x)"
   ]
  },
  {
   "cell_type": "code",
   "execution_count": 4,
   "id": "edc19ee6",
   "metadata": {},
   "outputs": [
    {
     "ename": "ValueError",
     "evalue": "invalid literal for int() with base 10: '25.734'",
     "output_type": "error",
     "traceback": [
      "\u001b[0;31m---------------------------------------------------------------------------\u001b[0m",
      "\u001b[0;31mValueError\u001b[0m                                Traceback (most recent call last)",
      "Input \u001b[0;32mIn [4]\u001b[0m, in \u001b[0;36m<cell line: 1>\u001b[0;34m()\u001b[0m\n\u001b[0;32m----> 1\u001b[0m x \u001b[38;5;241m=\u001b[39m \u001b[38;5;28;43mint\u001b[39;49m\u001b[43m(\u001b[49m\u001b[38;5;124;43m\"\u001b[39;49m\u001b[38;5;124;43m25.734\u001b[39;49m\u001b[38;5;124;43m\"\u001b[39;49m\u001b[43m)\u001b[49m\n\u001b[1;32m      2\u001b[0m \u001b[38;5;28mprint\u001b[39m(x)\n",
      "\u001b[0;31mValueError\u001b[0m: invalid literal for int() with base 10: '25.734'"
     ]
    }
   ],
   "source": [
    "x = int(\"25.234\")   ## Raises a ValueError\n",
    "print(x)"
   ]
  },
  {
   "cell_type": "markdown",
   "id": "c1ce69f1",
   "metadata": {},
   "source": [
    "`int()` also provide an optional argument to specify the base of the number to convert."
   ]
  },
  {
   "cell_type": "code",
   "execution_count": null,
   "id": "54ea65ea",
   "metadata": {},
   "outputs": [],
   "source": [
    "x = int(\"110\",2)\n",
    "print(x)"
   ]
  },
  {
   "cell_type": "markdown",
   "id": "91904f9a",
   "metadata": {},
   "source": [
    "And if you are a fan of Andy Weir's [Project Hail Mary](https://www.andyweirauthor.com/books/project-hail-mary-hc/project-hail-mary-el), you can even use base-6 (senary) numbers:"
   ]
  },
  {
   "cell_type": "code",
   "execution_count": null,
   "id": "e06b1fa7",
   "metadata": {},
   "outputs": [],
   "source": [
    "int (\"42\",6)"
   ]
  },
  {
   "cell_type": "markdown",
   "id": "79ec1407",
   "metadata": {},
   "source": [
    "Somewhat unbelievably, Python does not offer a built in function to convert integer values to strings with adhoc bases besides 2,8, and 16.  We'll leave writing that function as an exercise for the reader in a later notebook."
   ]
  },
  {
   "cell_type": "markdown",
   "id": "d49f2512",
   "metadata": {},
   "source": [
    "Unlike integer literals, with string conversions, integer values can start with leading zeros. This is possible because the string representations for the `int()` function do not include base prefix such as `0x0F` or `0b01`. As such the parsing is more straight forward since bases have to be explicitly given as another function argument (or by default, in the case of base 10)."
   ]
  },
  {
   "cell_type": "code",
   "execution_count": null,
   "id": "e4ab47a4",
   "metadata": {},
   "outputs": [],
   "source": [
    "x = int(\"0024\")\n",
    "print(x)"
   ]
  },
  {
   "cell_type": "code",
   "execution_count": null,
   "id": "0321df6b",
   "metadata": {},
   "outputs": [],
   "source": [
    "# the following will produce a \"ValueError\" - bases must be explicitly provided if not decimal/base 10\n",
    "x = int(\"0x0F\")"
   ]
  },
  {
   "cell_type": "markdown",
   "id": "62102839",
   "metadata": {},
   "source": [
    "Python does allow for the base prefixes (`0b`,`0o`,`0x`) to optionally be used if the appropriate base is supplied."
   ]
  },
  {
   "cell_type": "code",
   "execution_count": null,
   "id": "b5e3c35b",
   "metadata": {},
   "outputs": [],
   "source": [
    "x = int(\"0F\",16)\n",
    "print(x)\n",
    "x = int(\"0x0F\",16)\n",
    "print(x)"
   ]
  },
  {
   "cell_type": "markdown",
   "id": "d37f95c6",
   "metadata": {},
   "source": [
    "```float()``` converts an integral value or string to a float value. The string must be a valid float value otherwise a ValueError occurs."
   ]
  },
  {
   "cell_type": "code",
   "execution_count": null,
   "id": "13b36f82",
   "metadata": {},
   "outputs": [],
   "source": [
    "x = float(5)\n",
    "print(x)\n",
    "type(x)"
   ]
  },
  {
   "cell_type": "code",
   "execution_count": null,
   "id": "baf91d93",
   "metadata": {},
   "outputs": [],
   "source": [
    "x = float(\"25.234\")\n",
    "print(x)"
   ]
  },
  {
   "cell_type": "code",
   "execution_count": 7,
   "id": "b027054d",
   "metadata": {},
   "outputs": [
    {
     "ename": "ValueError",
     "evalue": "could not convert string to float: 'alphastring'",
     "output_type": "error",
     "traceback": [
      "\u001b[0;31m---------------------------------------------------------------------------\u001b[0m",
      "\u001b[0;31mValueError\u001b[0m                                Traceback (most recent call last)",
      "Input \u001b[0;32mIn [7]\u001b[0m, in \u001b[0;36m<cell line: 1>\u001b[0;34m()\u001b[0m\n\u001b[0;32m----> 1\u001b[0m x \u001b[38;5;241m=\u001b[39m \u001b[38;5;28;43mfloat\u001b[39;49m\u001b[43m(\u001b[49m\u001b[38;5;124;43m\"\u001b[39;49m\u001b[38;5;124;43malphastring\u001b[39;49m\u001b[38;5;124;43m\"\u001b[39;49m\u001b[43m)\u001b[49m\n",
      "\u001b[0;31mValueError\u001b[0m: could not convert string to float: 'alphastring'"
     ]
    }
   ],
   "source": [
    "x = float(\"alphastring\")   # Raises a ValueError"
   ]
  },
  {
   "cell_type": "markdown",
   "id": "635d6fb4",
   "metadata": {},
   "source": [
    "## Minimum and Maximum values\n",
    "\n",
    "Theoretically, Python 3 no longer has any minimum or maximum values for integers.  Python 2, which has been sunset, used 32-bit or 64-bit representations for integers and did have limits.  Practically, a limit exists as to how large integers can be for the interpreter to handle based upon the CPU speed and memory."
   ]
  },
  {
   "cell_type": "code",
   "execution_count": 9,
   "id": "2b01b38e",
   "metadata": {},
   "outputs": [
    {
     "name": "stdout",
     "output_type": "stream",
     "text": [
      "179769313486231590772930519078902473361797697894230657273430081157732675805500963132708477322407536021120113879871393357658789768814416622492847430639474124377767893424865485276302219601246094119453082952085005768838150682342462881473913110540827237163350510684586298239947245938479716304835356329624224137216\n",
      "1025\n"
     ]
    }
   ],
   "source": [
    "x = 2**1024\n",
    "print(x)\n",
    "print(x.bit_length())"
   ]
  },
  {
   "cell_type": "markdown",
   "id": "11c65a40",
   "metadata": {},
   "source": [
    "However, for floating point numbers, Python does have upper and lower limits. You can see those limits by executing the following block:"
   ]
  },
  {
   "cell_type": "code",
   "execution_count": null,
   "id": "0a91a826",
   "metadata": {},
   "outputs": [],
   "source": [
    "import sys\n",
    "sys.float_info"
   ]
  },
  {
   "cell_type": "code",
   "execution_count": 8,
   "id": "e8380ccb",
   "metadata": {},
   "outputs": [
    {
     "ename": "OverflowError",
     "evalue": "(34, 'Result too large')",
     "output_type": "error",
     "traceback": [
      "\u001b[0;31m---------------------------------------------------------------------------\u001b[0m",
      "\u001b[0;31mOverflowError\u001b[0m                             Traceback (most recent call last)",
      "Input \u001b[0;32mIn [8]\u001b[0m, in \u001b[0;36m<cell line: 1>\u001b[0;34m()\u001b[0m\n\u001b[0;32m----> 1\u001b[0m x \u001b[38;5;241m=\u001b[39m \u001b[38;5;241;43m2.0\u001b[39;49m\u001b[38;5;241;43m*\u001b[39;49m\u001b[38;5;241;43m*\u001b[39;49m\u001b[38;5;241;43m1024\u001b[39;49m\n\u001b[1;32m      2\u001b[0m \u001b[38;5;28mprint\u001b[39m(x)\n",
      "\u001b[0;31mOverflowError\u001b[0m: (34, 'Result too large')"
     ]
    }
   ],
   "source": [
    "x = 2.0**1024   # raises an overflow error\n",
    "print(x)"
   ]
  },
  {
   "cell_type": "markdown",
   "id": "546bdc53",
   "metadata": {},
   "source": [
    "## Shorthand Assignments\n",
    "As with many other programming languages, Python provides shorthand assignments for operations:\n",
    "\n",
    "Operation | Shorthand | Meaning \n",
    ":-------- | :-------- | :-------- \n",
    "Addition|  x += 2 | x = x +2\n",
    "Subtraction| x -= y | x = x - y\n",
    "Multiplication| x *=3 | x = x * 3 \n",
    "True division|  x /=2 | x = x / 2\n",
    "Floor division| x //= y | x = x // y\n",
    "Remainder (modulo)| x %= 2 | x %= 2\n",
    "Exponentiation| x **= 5 |  x = x**5 \n",
    "\n",
    "Python does not support the unary increment / decrement operators such as `x++` or `x--`."
   ]
  },
  {
   "cell_type": "code",
   "execution_count": null,
   "id": "e8c9fe25",
   "metadata": {},
   "outputs": [],
   "source": [
    "y = 10\n",
    "y **= 2\n",
    "y"
   ]
  },
  {
   "cell_type": "code",
   "execution_count": null,
   "id": "24c6ca57",
   "metadata": {},
   "outputs": [],
   "source": [
    "y %= 75\n",
    "y"
   ]
  },
  {
   "cell_type": "markdown",
   "id": "1c4fe616",
   "metadata": {},
   "source": [
    "## Exercises\n",
    "1. Write python code to convert 100 degrees Celsius to Fahrenheit.\n",
    "2. An internet coffee shop sells coffee for \\\\$12.85 per pound.  The shipping cost is \\\\$3.25 per pound plus a flat handling fee of \\\\$2.50 per order.  Using a variable of `coffee_lbs` write a python statement that will compute the order    cost and assign to a variable of `cost`.  Then print that variable to the console.\n",
    "3. Lookup the formula for [periodic compounding](https://en.wikipedia.org/wiki/Compound_interest#Periodic_compounding). Write a snippet of python code that you can use to set the variables to apply the compounding formula.  This should be similar to the Fahrenheit conversion above with a few more variables.  You should have the following variables with P, r, n, and t where \n",
    "    - A is the final amount\n",
    "    - P is the original principal sum\n",
    "    - r is the nominal annual interest rate\n",
    "    - n is the compounding frequency\n",
    "    - t is the overall length of time the interest is applied (expressed using the same time units as r, usually years).\n",
    "\n",
    "4. How would you find the additional information for decimal class(type) within Python?  \n",
    "5. How would you find the additional information for decimal class(type) on the web?  \n",
    "\n",
    "As a reminder, within Jupyter notebooks, we can also add `?` after variable or type name to get help. Try in cell below:"
   ]
  },
  {
   "cell_type": "code",
   "execution_count": null,
   "id": "af66934a",
   "metadata": {},
   "outputs": [],
   "source": []
  }
 ],
 "metadata": {
  "kernelspec": {
   "display_name": "Python 3 (ipykernel)",
   "language": "python",
   "name": "python3"
  },
  "language_info": {
   "codemirror_mode": {
    "name": "ipython",
    "version": 3
   },
   "file_extension": ".py",
   "mimetype": "text/x-python",
   "name": "python",
   "nbconvert_exporter": "python",
   "pygments_lexer": "ipython3",
   "version": "3.10.4"
  },
  "vscode": {
   "interpreter": {
    "hash": "aee8b7b246df8f9039afb4144a1f6fd8d2ca17a180786b69acc140d282b71a49"
   }
  }
 },
 "nbformat": 4,
 "nbformat_minor": 5
}
