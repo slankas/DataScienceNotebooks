{
 "cells": [
  {
   "cell_type": "markdown",
   "id": "2a9e5064-29d2-46e8-bb82-9e44025186cd",
   "metadata": {},
   "source": [
    "<div class=\"pagebreak\"></div>\n",
    "\n",
    "# Classes and Objects\n",
    "As we mentioned earlier, everything in Python is an object. Objects are a special data structure that contains state (data/properties) and behavior (code/methods). Objects represent a unique, specific instance of something - typically what we think of as a \"noun\". The state models the attributes of that \"thing\", and the methods define the behavior and how it interacts with other \"things\" (objects).\n",
    "\n",
    "This notebook series started with imperative programming - just sequences of statements to execute. As we brought in functions - organized code blocks, reusing code to perform a task - we morphed into procedural programming. Procedural decomposition involves dividing a larger action into smaller actions. We used procedural decomposition to avoid code repetition where the same task was performed in multiple places in the same code file and reusing functions through importing modules. We also used procedural decomposition to provide structure. By treating several tiny steps as a unit, we abstracted that functionality and made it easier to remember and use.\n",
    "\n",
    "Object-oriented programming is a style of programming focused on objects. We create objects and tell them to do stuff by calling functions that belong to those objects. We typically refer to those object functions as methods. When two objects interact by calling methods and receiving return values, you may hear this called passing messages. The sending message is the method name and the associated arguments. The response message is the return value(s). With object-oriented programming, We reason about a program as a set of interacting objects rather than a set of actions(procedural programming).\n",
    "\n",
    "Objects are instances of a class.  A class describes a type of object we might create.  Classes correspond to nouns - for example, a general category of something like a bank account or a stock.  Classes then define the fields (state) that the object will have.  They also define the behavior by defining methods within the class definition. Methods declarations are just function definitions within a class declaration. A class forms a blueprint from which we create objects.\n",
    "\n",
    "While we can organize data and functions into modules, we can only have one instance of that module. With classes, we can have virtually unlimited instances (objects), each with potentially different attributes but common behavior. "
   ]
  },
  {
   "cell_type": "markdown",
   "id": "5530debd",
   "metadata": {},
   "source": [
    "## Defining a Class\n",
    "For Python, a class is the code containing the data attributes and methods for a group of similar objects.\n",
    "\n",
    "A simple class:"
   ]
  },
  {
   "cell_type": "code",
   "execution_count": null,
   "id": "856368b9-4fcd-4198-8742-40627f56187d",
   "metadata": {
    "tags": []
   },
   "outputs": [],
   "source": [
    "class BankAccount:\n",
    "    \"\"\"Bank Account represents different accounts a customer may have within the system.\"\"\"\n",
    "    pass"
   ]
  },
  {
   "cell_type": "markdown",
   "id": "30cf94eb",
   "metadata": {},
   "source": [
    "That code block has now defined a new class that serves as a type.  A few things to note:\n",
    "* Just as \"def\" signifies we are defining a function, \"class\" signifies we are creating a class.\n",
    "* Rather than using all underscores with underscores to separate words, Python uses \"CamelCase\" as the naming convention for class names. \n",
    "* As a class needs some content, the `pass` keyword instructs the Python interpreter to do nothing for that statement. `pass` is a _null_ statement.  In this particular situation, since a docstring was defined, `pass` is unnecessary, but the following code will fail:"
   ]
  },
  {
   "cell_type": "code",
   "execution_count": null,
   "id": "74a92b44",
   "metadata": {},
   "outputs": [],
   "source": [
    "class EmptyAccount:              # Raises SyntaxError: incomplete input"
   ]
  },
  {
   "cell_type": "markdown",
   "id": "69a06a40",
   "metadata": {},
   "source": [
    "We define a docstring to provide information to others (and ourselves a year later) to summarize the class purpose and behavior.  "
   ]
  },
  {
   "cell_type": "code",
   "execution_count": null,
   "id": "ff87f9f1",
   "metadata": {},
   "outputs": [],
   "source": [
    "help(BankAccount)"
   ]
  },
  {
   "cell_type": "markdown",
   "id": "30ba5881",
   "metadata": {},
   "source": [
    "## Initializing an Object\n",
    "We can create new objects of the class `BankAccount` with"
   ]
  },
  {
   "cell_type": "code",
   "execution_count": null,
   "id": "a4b35dcd",
   "metadata": {},
   "outputs": [],
   "source": [
    "account = BankAccount()"
   ]
  },
  {
   "cell_type": "markdown",
   "id": "a8393c12",
   "metadata": {},
   "source": [
    "`account` is an object of the type BankAccount:"
   ]
  },
  {
   "cell_type": "code",
   "execution_count": null,
   "id": "f594d2b0",
   "metadata": {},
   "outputs": [],
   "source": [
    "print(type(account))"
   ]
  },
  {
   "cell_type": "markdown",
   "id": "79eb93f5",
   "metadata": {},
   "source": [
    "With the current definition for BankAccount, we have created a new type and can instantiate new objects.  However, these objects have no defined behavior or state.\n",
    "\n",
    "Python allows us to assign methods and attributes dynamically to an object, but that does not change the class definition.\n",
    "\n",
    "So, for example, we can add state to an object."
   ]
  },
  {
   "cell_type": "code",
   "execution_count": null,
   "id": "9e58a2b5",
   "metadata": {},
   "outputs": [],
   "source": [
    "account.name='Checking Account'\n",
    "account.balance = 1_000_000.00\n",
    "\n",
    "print(\"{:s}: ${:,.2f}\".format(account.name,account.balance))"
   ]
  },
  {
   "cell_type": "markdown",
   "id": "16d5e09f",
   "metadata": {},
   "source": [
    "We can also define and assign a function to the object.  However, that function can not easily access any member state variables."
   ]
  },
  {
   "cell_type": "code",
   "execution_count": null,
   "id": "e8c02a59",
   "metadata": {},
   "outputs": [],
   "source": [
    "def print_information():\n",
    "    print(\"some output\")\n",
    "    \n",
    "account.show_information = print_information   # using \"show\" is intential\n",
    "\n",
    "account.show_information()"
   ]
  },
  {
   "cell_type": "markdown",
   "id": "6c81ba2a",
   "metadata": {},
   "source": [
    "In the previous block, we declared a function.  We then set `account.show_information` to reference that function definition.  (Functions are a particular type of object in Python).  Finally, we called the function.  \n",
    "\n",
    "The above code also has an issue in that we only created the state and behavior for just the object account. Therefore, if we create another object from BankAccount, the resulting object will be empty as the class definition for BankAccount is currently empty. I.e., we have a blank blueprint."
   ]
  },
  {
   "cell_type": "code",
   "execution_count": null,
   "id": "2a1f0ed2",
   "metadata": {},
   "outputs": [],
   "source": [
    "another_account = BankAccount()\n",
    "print(type(another_account))\n",
    "print(another_account.name)"
   ]
  },
  {
   "cell_type": "markdown",
   "id": "d31ef83f",
   "metadata": {},
   "source": [
    "As we define a class, we need to define the state and behavior that objects of that class possess."
   ]
  },
  {
   "cell_type": "code",
   "execution_count": null,
   "id": "ded0d0ed",
   "metadata": {},
   "outputs": [],
   "source": [
    "class BankAccount:\n",
    "    \"\"\"Bank Account represents different accounts a customer may have within the system.\"\"\"\n",
    "    balance = 0.0\n",
    "    \n",
    "    def __init__(self, account_number, customer_id):\n",
    "        self.account_number = account_number\n",
    "        self.customer_id = customer_id\n",
    "        \n",
    "    def show_information(self):\n",
    "        print(\"Account #{:d}: ${:,.2f}\".format(self.account_number,self.balance))\n",
    "        "
   ]
  },
  {
   "cell_type": "markdown",
   "id": "a42ec8ca",
   "metadata": {},
   "source": [
    "Now, if we try to create an object of BankAccount, we will need to pass two arguments. <br>(The following code block demonstrates the error if we do not.)"
   ]
  },
  {
   "cell_type": "code",
   "execution_count": null,
   "id": "0b8c3ae5",
   "metadata": {},
   "outputs": [],
   "source": [
    "account = BankAccount()             # Raises a type error"
   ]
  },
  {
   "cell_type": "code",
   "execution_count": null,
   "id": "a4f1f59c",
   "metadata": {},
   "outputs": [],
   "source": [
    "account = BankAccount(5345239,1223)\n",
    "account.show_information()"
   ]
  },
  {
   "cell_type": "markdown",
   "id": "4d833355",
   "metadata": {},
   "source": [
    "The revised class definition of BankAccount shows several concepts:\n",
    "\n",
    "First, we assigned a class attribute `balance` to BankAccount. Any created objects will automatically contain these class attributes with the currently assigned value. We can use a class attribute as a default value. Other uses of class attributes include storing class constants (e.g., the value of pi in a math class), and tracking data across all the instances (number of objects created, list of objects created, etc.)   While not a recommended practice, programmers can also add attributes to a class after it has been defined<sup>1</sup>.\n",
    "\n",
    "Second, we added an initializer method<sup>2</sup> `__init__()`. Within Python, we use initializer methods to establish a new object's state properly. As a general rule, an \"initialized\" object should be in a \"good\" state such that objects can use it. \n",
    "\n",
    "This initializer defines two object attributes(state): account_number and customer_id.\n",
    "\n",
    "One of the odd things to highlight with the initializer method is the first parameter, `self`.  Due to the design of the Python language, the first parameter to any object's method must be a reference to the object itself. By convention, programmers use the name `self` for this reference<sup>3</sup>. It is impossible to pass this argument explicitly - Python automatically supplies the reference to methods when the methods are defined as part of a class and using the <i>object</i>.<i>method</i>() call syntax<sup>4</sup>.\n",
    "\n",
    "Finally, we define another method, `show_information()`, that prints an object's account number and current balance."
   ]
  },
  {
   "cell_type": "markdown",
   "id": "ea2c5ee2",
   "metadata": {},
   "source": [
    "With a statement such as  `account = BankAccount(5345239,1223)`, a series of actions occurs:\n",
    "The Python interpreter \n",
    "1. looks up the definition of the `BankAccount` class;\n",
    "2. creates a new object;\n",
    "3. calls the new object's `__init__()` method passing two arguments;\n",
    "4. stores the values for account_number and customer_id in the object (i.e., they are now attributes of the object);\n",
    "5. returns the new object'; and\n",
    "6. assigns the reference of the new object to the variable `account`."
   ]
  },
  {
   "cell_type": "markdown",
   "id": "743df1f7",
   "metadata": {},
   "source": [
    "## Attributes\n",
    "Attributes are fundamental to object-oriented programming. By defining attributes, we encapsulate that data and the code that operates upon that data into a single object.\n",
    "\n",
    "![](images/ClassAttributesMethods.png)\n",
    "\n",
    "Typically in object-oriented programming, we also use information hiding - an object's ability to hide its implementation details from code outside the object. As the above diagram shows, external code should indirectly access the object's state by calling the object's methods. By hiding these data attributes(state), we gain several advantages:\n",
    "\n",
    "By hiding these data attributes(state), we gain a number of advantages:\n",
    "1. It simplifies the ability for external code/objects to work with the object as they don't need to understand the implementation details.\n",
    "2. The implementation details can be changed within the class and not affect external code.\n",
    "3. Protect attributes protected against accidental changes and corruption.\n",
    "4. Can validate changes to attributes. For example, should a negative balance be allowed? What should occur if the balance becomes negative?"
   ]
  },
  {
   "cell_type": "markdown",
   "id": "2ded7be6",
   "metadata": {},
   "source": [
    "### Direct Access\n",
    "Unfortunately, Python does not strictly enforce information hiding.  Other languages define accessibility modifiers to attributes and methods which limit what other objects can directly access those methods.  With the above definition of BankAccount, you can get and set attribute values directly:"
   ]
  },
  {
   "cell_type": "code",
   "execution_count": null,
   "id": "0523f5b1",
   "metadata": {},
   "outputs": [],
   "source": [
    "account = BankAccount(5345239,1223)\n",
    "print(\"Account Number:\", account.account_number)\n",
    "print(\"Customer:\", account.customer_id)\n",
    "print(\"Balance:\", account.balance)\n",
    "account.balance = -10000    ## uh, oh ..\n",
    "print(\"Balance:\", account.balance)"
   ]
  },
  {
   "cell_type": "markdown",
   "id": "eb15a8da",
   "metadata": {},
   "source": [
    "### Properties: Getters & Setters\n",
    "While programmers can use obfuscated names (e.g., adding a prefix like 'hidden_') to identify that other objects should not directly use an attribute, the Pythonic solution is to use properties."
   ]
  },
  {
   "cell_type": "code",
   "execution_count": null,
   "id": "b937bdb1",
   "metadata": {},
   "outputs": [],
   "source": [
    "class BankAccount:\n",
    "    \"\"\"Bank Account represents different accounts a customer may have within the system.\"\"\"\n",
    "    hidden_balance = 0.0  # must change name otherwise a recursive overflow error occurs\n",
    "    \n",
    "    def __init__(self, account_number, customer_id):\n",
    "        self.hidden_account_number = account_number\n",
    "        self.hidden_customer_id = customer_id\n",
    "        \n",
    "    def show_information(self):\n",
    "        print(\"Account #{:d}: ${:,.2f}\".format(self.hiddent_account_number,self.hidden_balance))\n",
    "        \n",
    "    def get_balance(self):\n",
    "        return self.hidden_balance\n",
    "    \n",
    "    def set_balance(self, new_balance):\n",
    "        self.hidden_balance = new_balance\n",
    "        \n",
    "    # Establishes ability to directly access \"balance\" to get a value and set a new value\n",
    "    balance = property(get_balance,set_balance)\n",
    "    \n",
    "    # Note: not defining attributes for account_number and customer_id to save space\n"
   ]
  },
  {
   "cell_type": "code",
   "execution_count": null,
   "id": "1b65ad6c",
   "metadata": {},
   "outputs": [],
   "source": [
    "b = BankAccount(12,2)\n",
    "b.balance = 100.0\n",
    "print(b.balance)"
   ]
  },
  {
   "cell_type": "markdown",
   "id": "a8ee9da2",
   "metadata": {},
   "source": [
    "We can also use decorators (discussed in a later notebook) rather than calling `property()` directly."
   ]
  },
  {
   "cell_type": "code",
   "execution_count": null,
   "id": "4a04e435",
   "metadata": {},
   "outputs": [],
   "source": [
    "class BankAccount:\n",
    "    \"\"\"Bank Account represents different accounts a customer may have within the system.\"\"\"\n",
    "    hidden_balance = 0.0  # must change name otherwise a recursive overflow error occurs\n",
    "    \n",
    "    def __init__(self, account_number, customer_id):\n",
    "        self.hidden_account_number = account_number\n",
    "        self.hidden_customer_id = customer_id\n",
    "        \n",
    "    def show_information(self):\n",
    "        print(\"Account #{:d}: ${:,.2f}\".format(self.hiddent_account_number,self.hidden_balance))\n",
    "    \n",
    "    @property\n",
    "    def balance(self):\n",
    "        return self.hidden_balance\n",
    "    \n",
    "    @balance.setter\n",
    "    def balance(self, new_balance):\n",
    "        self.hidden_balance = new_balance\n"
   ]
  },
  {
   "cell_type": "code",
   "execution_count": null,
   "id": "2f7f4c5e",
   "metadata": {},
   "outputs": [],
   "source": [
    "b = BankAccount(12,2)\n",
    "b.balance = 100.0\n",
    "print(b.balance)"
   ]
  },
  {
   "cell_type": "markdown",
   "id": "a496a5df",
   "metadata": {},
   "source": [
    "As an exercise, you may want to add print statements to the methods to see that they are called - or step through the code with a debugger. \n",
    "\n",
    "You can also use these decorators to create properties for computed values."
   ]
  },
  {
   "cell_type": "code",
   "execution_count": null,
   "id": "40c30600",
   "metadata": {},
   "outputs": [],
   "source": [
    "class BankAccount:\n",
    "    \"\"\"Bank Account represents different accounts a customer may have within the system.\"\"\"\n",
    "    hidden_balance = 0.0  # must change name otherwise a recursive overflow error occurs\n",
    "    \n",
    "    def __init__(self, account_number, customer_id):\n",
    "        self.hidden_account_number = account_number\n",
    "        self.hidden_customer_id = customer_id\n",
    "        \n",
    "    def show_information(self):\n",
    "        print(\"Account #{:d}: ${:,.2f}\".format(self.hidden_account_number,self.hidden_balance))\n",
    "    \n",
    "    @property\n",
    "    def balance(self):\n",
    "        return self.hidden_balance\n",
    "    \n",
    "    @balance.setter\n",
    "    def balance(self, new_balance):\n",
    "        self.hidden_balance = new_balance\n",
    "        \n",
    "    @property\n",
    "    def is_overdrafted(self):\n",
    "        return self.hidden_balance < 0;"
   ]
  },
  {
   "cell_type": "code",
   "execution_count": null,
   "id": "84dc356b",
   "metadata": {},
   "outputs": [],
   "source": [
    "b = BankAccount(12,2)\n",
    "b.balance = -100.0\n",
    "print(b.balance)\n",
    "print(b.is_overdrafted)"
   ]
  },
  {
   "cell_type": "markdown",
   "id": "b46840eb",
   "metadata": {},
   "source": [
    "As `is_overdrafted` does not have a setter, you can not set the value from outside of the object - this is a convenient mechanism for read-only attributes."
   ]
  },
  {
   "cell_type": "markdown",
   "id": "d0004050",
   "metadata": {},
   "source": [
    "### Name Mangling\n",
    "Python implements a naming convention for attributes that should be private by beginning those attributes with two underscores `__`.  Note: this naming convention does not make the attribute completely private - Python mangles the attribute name to make it a conscious act to access the attribute directly<sup>5</sup>."
   ]
  },
  {
   "cell_type": "code",
   "execution_count": null,
   "id": "0e6de822",
   "metadata": {},
   "outputs": [],
   "source": [
    "class BankAccount:\n",
    "    \"\"\"Bank Account represents different accounts a customer may have within the system.\"\"\"\n",
    "    __balance = 0.0  # must change name otherwise a recursive overflow error occurs\n",
    "    \n",
    "    def __init__(self, account_number, customer_id):\n",
    "        self.__account_number = account_number\n",
    "        self.__customer_id = customer_id\n",
    "        \n",
    "    def show_information(self):\n",
    "        print(\"Account #{:d}: ${:,.2f}\".format(self.__account_number,self.__balance))\n",
    "    \n",
    "    @property\n",
    "    def balance(self):\n",
    "        return self.__balance\n",
    "    \n",
    "    @balance.setter\n",
    "    def balance(self, new_balance):\n",
    "        self.__balance = new_balance\n",
    "        \n",
    "    @property\n",
    "    def is_overdrafted(self):\n",
    "        return self.__balance < 0;\n",
    "\n"
   ]
  },
  {
   "cell_type": "code",
   "execution_count": null,
   "id": "660d1d23",
   "metadata": {},
   "outputs": [],
   "source": [
    "b = BankAccount(12,2)\n",
    "b.balance = -100.0\n",
    "print(b.balance)\n",
    "print(b.is_overdrafted)\n",
    "\n",
    "print(b._BankAccount__balance)  #mangled name.  Python adds _ClassName as a prefix\n",
    "print(b.__balance)              #will cause an Attribute error"
   ]
  },
  {
   "cell_type": "markdown",
   "id": "e09b085e",
   "metadata": {},
   "source": [
    "## Methods\n",
    "Python contains several different method types related to classes.\n",
    "\n",
    "### Instance Methods\n",
    "If a decorator (@staticmethod or @classmethod) does not exist, then the method is an instance method.  Every method shown so far has been of this type.  Usually, the first parameter of instance methods is named `self`. When calling the method, Python automatically passes that reference (to the object itself). While you will not receive an error message when you define a method without the \"self\" parameter, a runtime error will occur when you try to call the method"
   ]
  },
  {
   "cell_type": "code",
   "execution_count": null,
   "id": "b708d526",
   "metadata": {},
   "outputs": [],
   "source": [
    "class Test:\n",
    "    def method():\n",
    "        return \"test\"\n",
    "a=Test()\n",
    "a.method()    # causes runtime erorr.  How do you fix this?  Correct the code and re-run"
   ]
  },
  {
   "cell_type": "markdown",
   "id": "2e765990",
   "metadata": {},
   "source": [
    "### Class Methods\n",
    "In contrast to instance methods, class methods are called against the class as a whole and are used to access or modify any class state. \n",
    "\n",
    "To create a class method, we must explicitly use the `@classmethod` decorator; otherwise, Python will treat it as an instance method."
   ]
  },
  {
   "cell_type": "code",
   "execution_count": null,
   "id": "62f57ebb",
   "metadata": {},
   "outputs": [],
   "source": [
    "class Student:\n",
    "    school_name = \"Acme University\"\n",
    "    \n",
    "    def __init__(self,name,student_id):\n",
    "        self.__name = name\n",
    "        self.__student_id = student_id\n",
    "    \n",
    "    @classmethod\n",
    "    def update_school(cls,name):\n",
    "        cls.school_name = name    # can also use Student.school_name = name"
   ]
  },
  {
   "cell_type": "code",
   "execution_count": null,
   "id": "1c42ae40",
   "metadata": {},
   "outputs": [],
   "source": [
    "a = Student('John',1)\n",
    "print(a.school_name)\n",
    "b = Student('Steve',2)\n",
    "b.school_name = 'Greeks R Us'\n",
    "Student.update_school('The University of Acme')\n",
    "print(a.school_name)\n",
    "print(b.school_name)"
   ]
  },
  {
   "cell_type": "markdown",
   "id": "80ba7c64",
   "metadata": {},
   "source": [
    "Notice that the class attribute change in line 5 affected 'a' but not 'b'. So changing the class value will not be seen in objects where we have already changed that attribute.  The following code block demonstrates this as well."
   ]
  },
  {
   "cell_type": "code",
   "execution_count": null,
   "id": "23aec513",
   "metadata": {},
   "outputs": [],
   "source": [
    "class A:\n",
    "    count = 0\n",
    "    def __init__(self):\n",
    "        A.count += 1\n",
    "    @classmethod\n",
    "    def show_count(cls):\n",
    "        print(\"Created {:d} objects of this type\".format(cls.count))\n",
    "x = A()\n",
    "y = A()\n",
    "y.count = 0\n",
    "z = A()\n",
    "A.show_count()\n",
    "print(\"x:\",x.count)\n",
    "print(\"y:\",y.count)\n",
    "print(\"z:\",z.count)"
   ]
  },
  {
   "cell_type": "markdown",
   "id": "c2f670a3",
   "metadata": {},
   "source": [
    "### Static Methods\n",
    "Static methods are commonly utility methods that perform a related task to the class but do not access class or instance attributes. i.e., Static methods perform their work in isolation. To declare a static method, use the `@staticmethod` decorator without any `self` or `cls` parameter.  If we need to reference one of those parameters, we should define an instance or a class method."
   ]
  },
  {
   "cell_type": "code",
   "execution_count": null,
   "id": "ab29ee35",
   "metadata": {},
   "outputs": [],
   "source": [
    "class School:\n",
    "    @staticmethod\n",
    "    def show_tagline():\n",
    "        print(\"Acme University is where your dreams come true...\")\n",
    "School.show_tagline()"
   ]
  },
  {
   "cell_type": "markdown",
   "id": "f5fce22f",
   "metadata": {},
   "source": [
    "### Magic Methods\n",
    "Also referred to as dunder (double underscore) methods, Python defines special methods that start and end with double underscores to provide additional capabilities to objects.\n",
    "\n",
    "In this notebook, we have used one such method `__init__` to initialize newly created objects. Behind the scenes, the Python interpreter automatically calls this method. We have also indirectly used these magic methods by calling built-in functions and comparison operators. Behind the scenes, the Python interpreter calls the appropriate magic method, such as `__eq__` for the equality operator. As another example, the with statement automatically calls `__enter__` and `__exit__`.\n",
    "\n",
    "As necessary, implement these methods in your code.\n",
    "\n",
    "The Python documentation has a page for [special method names](https://docs.python.org/3/reference/datamodel.html#special-method-names). Rafe Kettler has also written an in-depth guide on [magic methods](https://web.archive.org/web/20220609164500/https://rszalski.github.io/magicmethods/)\n",
    "\n",
    "Two specific magic methods to implement:\n",
    "\n",
    "#### \\_\\_str\\_\\_\n",
    "`__str__` is a magic method that defines the behavior when the str() method is called with your object to convert it to a human-readable string representation \n",
    "\n",
    "#### \\_\\_repr\\_\\_\n",
    "From the [Python documentation](https://docs.python.org/3/reference/datamodel.html#basic-customization) - \n",
    "> Called by the repr() built-in function to compute the “official” string representation of an object. If at all possible, this should look like a valid Python expression that could be used to recreate an object with the same value (given an appropriate environment). If this is not possible, a string of the form <...some useful description...> should be returned. The return value must be a string object. If a class defines \\_\\_repr\\_\\_() but not \\_\\_str\\_\\_(), then \\_\\_repr\\_\\_() is also used when an “informal” string representation of instances of that class is required.\n",
    ">\n",
    ">This is typically used for debugging, so it is important that the representation is information-rich and unambiguous.\n",
    "\n",
    "The BankAccount class with these two methods defined: (We removed `show_information` as `__str__` provides the same functionality.)"
   ]
  },
  {
   "cell_type": "code",
   "execution_count": null,
   "id": "777cfd5b",
   "metadata": {},
   "outputs": [],
   "source": [
    "class BankAccount:\n",
    "    \"\"\"Bank Account represents different accounts a customer may have within the system.\"\"\"\n",
    "    __balance = 0.0  # must change name otherwise a recursive overflow error occurs\n",
    "    \n",
    "    def __init__(self, account_number, customer_id):\n",
    "        self.__account_number = account_number\n",
    "        self.__customer_id = customer_id\n",
    "        \n",
    "    def __str__(self):\n",
    "        return \"Bank Account #{:d}, Customer: {:d}, ${:,.2f}\".format(self.__account_number, \n",
    "                                                                     self.__customer_id,\n",
    "                                                                     self.__balance)\n",
    "    \n",
    "    def __repr__(self):\n",
    "        return str(self.__dict__)\n",
    "    \n",
    "    @property\n",
    "    def balance(self):\n",
    "        return self.__balance\n",
    "    \n",
    "    @balance.setter\n",
    "    def balance(self, new_balance):\n",
    "        self.__balance = new_balance\n",
    "        \n",
    "    @property\n",
    "    def is_overdrafted(self):\n",
    "        return self.__balance < 0;    \n",
    "    "
   ]
  },
  {
   "cell_type": "code",
   "execution_count": null,
   "id": "19a65f0e",
   "metadata": {},
   "outputs": [],
   "source": [
    "account = BankAccount(99874,223)\n",
    "print(account)      # __str__ is implicitly called \n",
    "account             # the jupyter environment returns the __repr__ value here"
   ]
  },
  {
   "cell_type": "markdown",
   "id": "0b796de5",
   "metadata": {},
   "source": [
    "### Method Overloading\n",
    "Unlike many other languages, Python does not support method overloading - the ability to define multiple methods with the same name but different parameters.\n",
    "\n",
    "As soon as the second method with the first name is defined, the Python interpreter overwrites the namespace dictionary with the new method definition. \n",
    "\n",
    "While this seems to be a significant shortcoming, Python's flexibility with default parameters and the ability to pass a variable number of arguments with the `*args` parameter reduce the need for the capability.\n",
    "\n",
    "Proper method overloading requires the language to be able to discriminate between types both at compile-time and runtime.  As a dynamically typed language, Python does not directly have this capability. With Python, though, we can provide a similar capability if the need arises through a \"multiple dispatch\" technique. With this approach, the interpreter differentiates among multiple methods at runtime based on the current argument types. \n",
    "\n",
    "Martin Heinz provides a good explanation on his [blog](https://martinheinz.dev/blog/50).  [\\[PDF version\\]](resources/python_overloading.pdf)"
   ]
  },
  {
   "cell_type": "markdown",
   "id": "732184c3",
   "metadata": {},
   "source": [
    "### Method Name Mangling\n",
    "As with attribute names, method names can also be mangled to indicate to other programmers that they are meant for internal use within the class."
   ]
  },
  {
   "cell_type": "code",
   "execution_count": null,
   "id": "e5ce544b",
   "metadata": {},
   "outputs": [],
   "source": [
    "class MangledDemo:\n",
    "    def __mangle(self):\n",
    "        return \"mangled!\"\n",
    "a=MangledDemo()\n",
    "a._MangledDemo__mangle()"
   ]
  },
  {
   "cell_type": "markdown",
   "id": "5e91f666",
   "metadata": {},
   "source": [
    "## Naming Conventions\n",
    "Python employs several naming conventions to help guide programmers in creating method and attribute names:\n",
    "\n",
    "From [Python naming conventions](https://peps.python.org/pep-0008/#naming-conventions)\n",
    "<quote>\n",
    "> In addition, the following special forms using leading or trailing underscores are recognized (these can generally be combined with any case convention):\n",
    ">\n",
    "> * \\_single_leading_underscore: weak \"internal use\" indicator. E.g. from M import * does not import objects whose name starts with an underscore.\n",
    ">\n",
    "> * single_trailing_underscore\\_: used by convention to avoid conflicts with a Python keyword, e.g.,  Tkinter.Toplevel(master, class_='ClassName')\n",
    "> \n",
    "> * \\_\\_double_leading_underscore: when naming attributes or methods, invokes name mangling (inside class FooBar, \\_\\_boo becomes \\_FooBar\\_\\_boo; see below).\n",
    ">\n",
    "> * \\_\\_double_leading_and_trailing_underscore\\_\\_: \"magic\" objects or attributes that live in user-controlled namespaces. E.g. \\_\\_init\\_\\_,  \\_\\_import\\_\\_ or \\_\\_file\\_\\_. Never invent such names; only use them as documented.\n",
    "\n"
   ]
  },
  {
   "cell_type": "markdown",
   "id": "3eb49dc2",
   "metadata": {},
   "source": [
    "## Terminology Review\n",
    "A _class_ is a set of objects that share the same set of attributes (the names and types, not necessarily values) and common behavior. More practically, we can view a _class_ as the code that specifies the attributes and methods for this set of objects. A _class_ serves as a blueprint when creating objects. Programmers can use the terms class, type, and data type interchangeably.\n",
    "\n",
    "An _object_ is an instance of a class that contains attributes (state) and methods\n",
    "(behavior). State, attribute, and property are used interchangeably. An object's members consist of both the attributes and the methods.\n",
    "\n",
    "\n",
    "_Functions_ and _methods_ are largely the same.  However, _methods_ must be declared within the context of a class.  Functions can be accessed independent of an object. _Methods_ require an object or class reference. _Routine_ may refer to _functions_ or _methods_.\n",
    "\n",
    "A _message_ is simply a method call on an object.  This historical usage has declined over the past twenty years due to the emergence of distributed systems and the application of that term (message) to send information back and forth among independent processes. "
   ]
  },
  {
   "cell_type": "markdown",
   "id": "65cee580",
   "metadata": {},
   "source": [
    "## Discussion\n",
    "So why do I need objects when I have lists, dictionaries, and functions? Technically, you do not. But how do you prevent yourself or others from making mistakes? What if you were tracking stocks, and somehow the price became negative? Is someone giving away shares? Using an initializer or property setter can help prevent such mistakes.\n",
    "\n",
    "A future notebook will cover object-oriented principles and design approaches in more detail. "
   ]
  },
  {
   "cell_type": "markdown",
   "id": "9e418043",
   "metadata": {},
   "source": [
    "## Exercises\n",
    "1. Implement a class to model a book in this exercise.  The class `Book` has the properties: name, authors, publisher, list_price, num_units_sold, and total_sales\n",
    "    ```\n",
    "    fowler_book = Book(\"Refactoring: Improving the Design of Existing Code\",[\"Martin Fowler\"], \"Addison Wesley\", 39.95, 4_023_342, 120_000_000.00)\n",
    "    gof_book = Book(\"Design Patterns: Elements of Reusable Object-Oriented Software\",\n",
    "                    [\"Erich Gamma\",\"Richard Helm\",\"Ralph Johnson\",\"John Vlissides\"], \"Addison Wesley\", 45.95,\n",
    "                    5_123_423, 224_234_954.00)\n",
    "    c_book = Book(\"The C Programming Language\", [\"Brian W. Kernighan\", \"Dennis M. Ritchie\"], \"Prentice Hall\", 60.30, 9_343_123, 433_231_924.00)\n",
    "    ```\n",
    "  1. Define the class Book with an initializer to store the 6 defined properties..  Property names should start with `__`. You should use the decorator for properties (@property and @_name_.setter) in methods to get and set data.  The only attributes that need setters are for `list_price`, `num_units_sold` and `total_sales`.\n",
    "  2. Create dunder methods to override eq, ge, gt,le,lt.  Use the comparison of the name for these methods\n",
    "  3. Define a \\_\\_str\\_\\_ method to produce a bibliographic  reference.\n",
    "  4. Create a \\_\\_repr\\_\\_ method that prints out the attributes as a dictionary literal.\n",
    "  5. Create a property method that computes the average unit sold price\n",
    "\n",
    "2. Define a class Bookshelf that holds a collection of books. Implement the following behavior:\n",
    "   1. add_book(book).  Adds a book to the bookshelf\n",
    "   2. remove_book_by_title(title).  Removes a book based upon its title.\n",
    "   3. find_most_expensive_book(). Returns the most expensive book.\n",
    "   \n",
    "3. Implement a class named `MyClock24` that represents a 24-hour hour clock.  Objects of this class should have three instance properties: hour, minute, and second.  (Note: this does not require that you have to track the clock state with three variables, only that you have to expose / implement those three properties to get and set the time. Using the information hiding principle, a class should decide its implementation. )  The following behavior needs to be implemented:\n",
    "   - a `tick()` method that advances the clock one second. \n",
    "   - a \\_\\_str\\_\\_ method that prints the time in this format: HH:MM:SS\n",
    "   - a \\_\\_repr\\_\\_ method that prints out the hour, minute, and second attributes as a dictionary literal.\n",
    "   - Override the dunder methods for  eq, ge, gt,le,lt.  Use the comparison of the full time for these methods.\n",
    "   - Override the dunder methods for add, sub to add and substract times\n",
    "   - Note: If the time becomes > 23:59:59, then the time should roll over to the next day as appropriate. "
   ]
  },
  {
   "cell_type": "markdown",
   "id": "58b01337",
   "metadata": {},
   "source": [
    "## Notes\n",
    "1. This is another example of Python expecting programmers to play nice together/be \"fully grown adults\". For example, we can add a new class attribute to BankAcount to track sign-up bonuses.  Any new objects instantiated from BankAccount will now have this attribute, while existing objects will not.\n",
    "<pre>\n",
    "BankAccount.signup_bonus = 50.0\n",
    "new_account = BankAccount(32315,543)\n",
    "print(\"new account\", new_account.signup_bonus)\n",
    "print(\"account\", account.signup_bonus)\n",
    "</pre>\n",
    "From a code maintenance perspective, tracking such ad-hoc attribute additions and changes becomes difficult.  Additionally, the value of these class attributes can be changed.  The class and any new objects will see the new value, while existing objects will be unchanged.\n",
    "\n",
    "\n",
    "2. Within Python, two steps are necessary to create an object:\n",
    "   1. Create a new, uninitialized object.\n",
    "   2. Initialize the object for use.\n",
    "   \n",
    "   Python performs these two steps with `__new__` and `__init__`, respectively.  Except for  creating immutable types, you generally won't need to implement `__new__`.  Other object-oriented languages, such as C++ and Java, combine these two steps into one with a constructor.\n",
    "\n",
    "\n",
    "3. Continue to use the name `self` for this purpose; other programmers will expect this convention.  Using a different name, while legal, will confuse those who have to maintain your code.  This may even be you, many months or years later.  Other programming languages such as C++ and Java use the keyword `this` and implicitly make the self-reference available.\n",
    "\n",
    "\n",
    "4. It is possible to explicitly pass the object reference when we use the class as part of the method call:\n",
    "    <pre>\n",
    "    BankAccount.show_information(account)\n",
    "    Account #5345239: $0.00</pre>\n",
    "    This behavior demonstrates some of the inner workings of Python and how the language evolved. `account.show_information()` is a shortcut for the code above.  Removing this behavior would be a difficult undertaking as any Python code using classes would be affected.\n",
    "\n",
    "\n",
    "5. Again, another example of playing nice together.  The mungling pattern `_ClassName__AttributeName` is well known, and the updated names can still be easily discovered with `dir()`"
   ]
  }
 ],
 "metadata": {
  "kernelspec": {
   "display_name": "Python 3 (ipykernel)",
   "language": "python",
   "name": "python3"
  },
  "language_info": {
   "codemirror_mode": {
    "name": "ipython",
    "version": 3
   },
   "file_extension": ".py",
   "mimetype": "text/x-python",
   "name": "python",
   "nbconvert_exporter": "python",
   "pygments_lexer": "ipython3",
   "version": "3.10.4"
  }
 },
 "nbformat": 4,
 "nbformat_minor": 5
}
