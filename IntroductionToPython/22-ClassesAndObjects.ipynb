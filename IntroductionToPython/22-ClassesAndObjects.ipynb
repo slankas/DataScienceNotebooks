{
 "cells": [
  {
   "cell_type": "markdown",
   "id": "2a9e5064-29d2-46e8-bb82-9e44025186cd",
   "metadata": {},
   "source": [
    "# Classes and Objects\n",
    "\n",
    "As we mentioned earlier, everything in Python is an object.  Objects are a special data structure that contains state (data / properties) and behavior (code / methods).  Objects represent a unique, specific instance of something - typically what we think of as a \"noun\".  The state models the attributes of that \"thing\" and the methods define the behavior and how it interacts with other \"things\" (objects).\n",
    "\n",
    "We started the class with imperative programming - just sequences of statements to execute.  As we brought in functions - organized code blocks, reusing code to perform a task, we morphed into procedural programming. Object oriented programming is a style of programming focused upon objects.  We create objects and tell them to do stuff by calling methods.  \n",
    "\n",
    "Objects are instances of a class.  A class describes a type of object we might create.  Classes correspond to nouns - for example , a general category of something like a bank account or a stock.  Classes then define the fields (state) that the object will have.  They also define the behavior by defining methods within the class definition - these are just function definitions.  A class becomes a blueprint from which we create objects.\n",
    "\n",
    "While modules allowed us to organize data and function, we can ever only have once instance of that module.  With classes, we can have a virtually unlimited of instances (objects), each with their own potentially different attribute, but common behavior. "
   ]
  },
  {
   "cell_type": "markdown",
   "id": "5530debd",
   "metadata": {},
   "source": [
    "## Defining a Class\n",
    "Practically speaking, a class is the code the data attributes and methods for a group of similar objects.\n",
    "\n",
    "A simple class:"
   ]
  },
  {
   "cell_type": "code",
   "execution_count": 5,
   "id": "856368b9-4fcd-4198-8742-40627f56187d",
   "metadata": {
    "tags": []
   },
   "outputs": [],
   "source": [
    "class BankAccount:\n",
    "    \"\"\"Bank Account represents different accounts a customer may have within the system.\"\"\"\n",
    "    pass"
   ]
  },
  {
   "cell_type": "markdown",
   "id": "30cf94eb",
   "metadata": {},
   "source": [
    "This has now defined a new class that serves as a type.  A few things to note:\n",
    "\n",
    "Just as \"def\" signifies we are defining a function, \"class\" signifies we are creating a class.\n",
    "\n",
    "Rather than using all underscores with underscores to separate words, Python uses \"CamelCase\" as the naming convention for class names. \n",
    "\n",
    "As class needs some content, we use the `pass` keyword to instruct the Python interpreter to do nothing for that statement. `pass` is a _null_ statement.  In this particular situation, since a docstring was defined, `pass` is unnecessary, but the follow code will fail:"
   ]
  },
  {
   "cell_type": "code",
   "execution_count": 13,
   "id": "74a92b44",
   "metadata": {},
   "outputs": [],
   "source": [
    "class EmptyAccount:"
   ]
  },
  {
   "cell_type": "markdown",
   "id": "69a06a40",
   "metadata": {},
   "source": [
    "We defined a docstring to provide information to others (and ourselves a year later) to summarize the class purpose and behavior.  "
   ]
  },
  {
   "cell_type": "code",
   "execution_count": 6,
   "id": "ff87f9f1",
   "metadata": {},
   "outputs": [
    {
     "name": "stdout",
     "output_type": "stream",
     "text": [
      "Help on class BankAccount in module __main__:\n",
      "\n",
      "class BankAccount(builtins.object)\n",
      " |  Bank Account represents different accounts a customer may have within the system.\n",
      " |  \n",
      " |  Data descriptors defined here:\n",
      " |  \n",
      " |  __dict__\n",
      " |      dictionary for instance variables (if defined)\n",
      " |  \n",
      " |  __weakref__\n",
      " |      list of weak references to the object (if defined)\n",
      "\n"
     ]
    }
   ],
   "source": [
    "help(BankAccount)"
   ]
  },
  {
   "cell_type": "markdown",
   "id": "30ba5881",
   "metadata": {},
   "source": [
    "## Initializing an Object\n",
    "We can create new objects of the class `BankAccount` with"
   ]
  },
  {
   "cell_type": "code",
   "execution_count": 3,
   "id": "a4b35dcd",
   "metadata": {},
   "outputs": [
    {
     "name": "stdout",
     "output_type": "stream",
     "text": [
      "<class '__main__.BankAccount'>\n"
     ]
    }
   ],
   "source": [
    "account = BankAccount()"
   ]
  },
  {
   "cell_type": "markdown",
   "id": "a8393c12",
   "metadata": {},
   "source": [
    "And we can see that it has its own type:"
   ]
  },
  {
   "cell_type": "code",
   "execution_count": 4,
   "id": "f594d2b0",
   "metadata": {},
   "outputs": [
    {
     "name": "stdout",
     "output_type": "stream",
     "text": [
      "<class '__main__.BankAccount'>\n"
     ]
    }
   ],
   "source": [
    "print(type(account))"
   ]
  },
  {
   "cell_type": "markdown",
   "id": "232b9472",
   "metadata": {},
   "source": [
    "Python allows us to dynamiclaly assign methods and attributes to an object, but that doesn't change the class definition\n",
    "\n",
    "shwo example by modifing account and then creating another account object but doesn't have anything...."
   ]
  },
  {
   "cell_type": "markdown",
   "id": "f78ecba4",
   "metadata": {},
   "source": [
    "Within Python, two steps are necessary to create an object:\n",
    "    1) Create a new, uniitilized object.\n",
    "    2) Initialize the object for use.\n",
    "Python performes these two steps with `__new__` and `__init__`, respectively.  With the exception of creating your own immutable types, you generally won't need to implement `__new__`.  Other object-oriented languages sucha as C++ and Java combine these two steps into one.\n",
    "\n",
    "As a general rule, once an object has been initialized, it should be in a \"good\" state such that objects can use it."
   ]
  },
  {
   "cell_type": "markdown",
   "id": "50006f21",
   "metadata": {},
   "source": []
  },
  {
   "cell_type": "code",
   "execution_count": null,
   "id": "5555962c",
   "metadata": {},
   "outputs": [],
   "source": [
    "bankAccount(accountNumber, customer, balance, transactions).  Savings, checking, moneymarket\n",
    "\n",
    "transaction (id, status, datetime)\n",
    "- deposit :  check cash ach           checking: routing, account#, check#\n",
    "- withdrawels - check / ATM\n",
    "- transfers (source, dest, amount)\n",
    "\n",
    "\n"
   ]
  },
  {
   "cell_type": "code",
   "execution_count": null,
   "id": "8e1c53bb",
   "metadata": {},
   "outputs": [],
   "source": []
  },
  {
   "cell_type": "code",
   "execution_count": null,
   "id": "8d8a0557",
   "metadata": {},
   "outputs": [],
   "source": [
    "Methods\n",
    "Initialization"
   ]
  },
  {
   "cell_type": "markdown",
   "id": "a424fd5b",
   "metadata": {},
   "source": [
    "as we initialize an object, the following occurs:\n",
    "-\n",
    "-\n",
    "-"
   ]
  },
  {
   "cell_type": "code",
   "execution_count": null,
   "id": "62ede928",
   "metadata": {},
   "outputs": [],
   "source": []
  },
  {
   "cell_type": "markdown",
   "id": "61377584",
   "metadata": {},
   "source": [
    "## Attributes\n",
    "\n",
    "### Direct Access\n",
    "\n",
    "### Getters & Setters\n",
    "\n",
    "### Properties\n",
    "\n",
    "### Properties for Computed Values\n",
    "\n",
    "### Name Mangling for privacy"
   ]
  },
  {
   "cell_type": "code",
   "execution_count": 8,
   "id": "021e82db",
   "metadata": {},
   "outputs": [],
   "source": [
    "class Duck:\n",
    "    def __init__(self, input_name):\n",
    "        self.__name = input_name\n",
    "    \n",
    "    @property\n",
    "    def name(self):\n",
    "        print('inside the getter')\n",
    "        return self.__name\n",
    "    \n",
    "    @name.setter\n",
    "    def name (self, input_name):\n",
    "        print('inset the setter')\n",
    "        self.__name = input_name\n",
    "        "
   ]
  },
  {
   "cell_type": "code",
   "execution_count": 9,
   "id": "4034c95b",
   "metadata": {},
   "outputs": [],
   "source": [
    "class Car():\n",
    "    pass\n",
    "class Yugo(Car,Duck):\n",
    "    pass\n"
   ]
  },
  {
   "cell_type": "code",
   "execution_count": 11,
   "id": "75e988a2",
   "metadata": {},
   "outputs": [
    {
     "data": {
      "text/plain": [
       "(__main__.Car, __main__.Duck)"
      ]
     },
     "execution_count": 11,
     "metadata": {},
     "output_type": "execute_result"
    }
   ],
   "source": [
    "Yugo(\"stuff\").__class__.__bases__"
   ]
  },
  {
   "cell_type": "markdown",
   "id": "d953ada7",
   "metadata": {},
   "source": [
    "In python, evething enventually has object as its \"root\" node / paretn in the inheritance hierarchy.  Similar to java.lang.Object in java"
   ]
  },
  {
   "cell_type": "code",
   "execution_count": 15,
   "id": "f01d82be",
   "metadata": {},
   "outputs": [],
   "source": [
    "fowl = Duck('Howard')"
   ]
  },
  {
   "cell_type": "code",
   "execution_count": 16,
   "id": "c4cc0135",
   "metadata": {},
   "outputs": [
    {
     "name": "stdout",
     "output_type": "stream",
     "text": [
      "inside the getter\n"
     ]
    },
    {
     "data": {
      "text/plain": [
       "'Howard'"
      ]
     },
     "execution_count": 16,
     "metadata": {},
     "output_type": "execute_result"
    }
   ],
   "source": [
    "fowl.name"
   ]
  },
  {
   "cell_type": "code",
   "execution_count": 17,
   "id": "fa1da814",
   "metadata": {},
   "outputs": [
    {
     "name": "stdout",
     "output_type": "stream",
     "text": [
      "inset the setter\n"
     ]
    }
   ],
   "source": [
    "fowl.name ='Donnie Boy'"
   ]
  },
  {
   "cell_type": "code",
   "execution_count": 18,
   "id": "812b0a51",
   "metadata": {},
   "outputs": [
    {
     "ename": "AttributeError",
     "evalue": "'Duck' object has no attribute '__name'",
     "output_type": "error",
     "traceback": [
      "\u001b[0;31m---------------------------------------------------------------------------\u001b[0m",
      "\u001b[0;31mAttributeError\u001b[0m                            Traceback (most recent call last)",
      "Input \u001b[0;32mIn [18]\u001b[0m, in \u001b[0;36m<cell line: 1>\u001b[0;34m()\u001b[0m\n\u001b[0;32m----> 1\u001b[0m \u001b[43mfowl\u001b[49m\u001b[38;5;241;43m.\u001b[39;49m\u001b[43m__name\u001b[49m\n",
      "\u001b[0;31mAttributeError\u001b[0m: 'Duck' object has no attribute '__name'"
     ]
    }
   ],
   "source": [
    "fowl.__name"
   ]
  },
  {
   "cell_type": "code",
   "execution_count": null,
   "id": "f6bec0b9",
   "metadata": {},
   "outputs": [],
   "source": [
    "dir(fowl)"
   ]
  },
  {
   "cell_type": "code",
   "execution_count": 20,
   "id": "43123725",
   "metadata": {},
   "outputs": [
    {
     "data": {
      "text/plain": [
       "'Donnie Boy'"
      ]
     },
     "execution_count": 20,
     "metadata": {},
     "output_type": "execute_result"
    }
   ],
   "source": [
    "fowl._Duck__name"
   ]
  },
  {
   "cell_type": "code",
   "execution_count": 21,
   "id": "06ec36d7",
   "metadata": {},
   "outputs": [
    {
     "name": "stdout",
     "output_type": "stream",
     "text": [
      "inside the getter\n"
     ]
    },
    {
     "data": {
      "text/plain": [
       "'Outrageous!'"
      ]
     },
     "execution_count": 21,
     "metadata": {},
     "output_type": "execute_result"
    }
   ],
   "source": [
    "fowl._Duck__name = 'Outrageous!'\n",
    "fowl.name"
   ]
  },
  {
   "cell_type": "markdown",
   "id": "ae50a20f",
   "metadata": {},
   "source": [
    "## Static Methods and properties\n",
    "\n",
    "## dunder  / Magic methods"
   ]
  },
  {
   "cell_type": "code",
   "execution_count": 24,
   "id": "b710c9f0",
   "metadata": {},
   "outputs": [
    {
     "data": {
      "text/plain": [
       "int"
      ]
     },
     "execution_count": 24,
     "metadata": {},
     "output_type": "execute_result"
    }
   ],
   "source": [
    "type(5)"
   ]
  },
  {
   "cell_type": "code",
   "execution_count": null,
   "id": "53aea014",
   "metadata": {},
   "outputs": [],
   "source": []
  },
  {
   "cell_type": "markdown",
   "id": "9aad1ccb",
   "metadata": {},
   "source": [
    "Why does python need the \"self\".  This comes back to how it works behind the seens."
   ]
  },
  {
   "cell_type": "code",
   "execution_count": 3,
   "id": "a57a3dc3",
   "metadata": {},
   "outputs": [
    {
     "data": {
      "text/plain": [
       "'space'"
      ]
     },
     "execution_count": 3,
     "metadata": {},
     "output_type": "execute_result"
    }
   ],
   "source": [
    "s = \" space \"\n",
    "str.strip(s)"
   ]
  },
  {
   "cell_type": "code",
   "execution_count": null,
   "id": "2d66f7fd",
   "metadata": {},
   "outputs": [],
   "source": [
    "## Terminology Review\n",
    "clas/type/data type - can be viewed interchangeably\n",
    "\n",
    "object / instance\n",
    "\n",
    "state/attributs/properies  - data that an object contains\n",
    "\n",
    "function / method"
   ]
  },
  {
   "cell_type": "code",
   "execution_count": null,
   "id": "b9bf381b",
   "metadata": {},
   "outputs": [],
   "source": []
  },
  {
   "cell_type": "markdown",
   "id": "65cee580",
   "metadata": {},
   "source": [
    "So why do I need objects when I have lists, dictionaries, and functions?  Technically, you don't.  But how do you prevent yourself or others from making mistakes?  What if you were tracking stocks and somehow the price became negative?  Is someone giving away shares?  Using an initializer or setting can help prevent mistaks.  We'll also take about some fo the OO principles in an upbcoming chapter.. "
   ]
  },
  {
   "cell_type": "markdown",
   "id": "9e418043",
   "metadata": {},
   "source": [
    "## Exercises\n",
    "You will need to implement a class to model a book in this exercise.  The book has the properties: name, authors, publisher, list_price, num_units_sold, and total_sales\n",
    "\n",
    "```\n",
    "fowler_book = Book(\"Refactoring: Improving the Design of Existing Code\",[\"Martin Foweler\"], \"Addison Wesley\", 39.95, 4_023_342, 120_000_000.00)\n",
    "gof_book = Book(\"Design Patterns: Elements of Reusable Object-Oriented Software\",\n",
    "                [\"Erich Gamma\",\"Richard Helm\",\"Ralph Johnson\",\"John Vlissides\"], \"Addison Wesley\", 45.95,\n",
    "                5_123_423, 224_234_954.00)\n",
    "c_book = Book(\"The C Programming Language\", [\"Brian W. Kernighan\", \"Dennis M. Ritchie\"], \"Prentice Hall\", 60.30, 9_343_123, 433_231_924.00)\n",
    "```\n",
    "a. define the class Book with an initializer to store the 6 defined properties..  Property names should starte with __\n",
    "b. Create dunder methods to override eq, ge, gt,le,lt.  Use the comparion of the name for these methods\n",
    "c. Define a __str__ method that bascially is a bibilogrphy reference.\n",
    "d. create a __repr__ method that does this..\n",
    "e. create a property method that computes the average unit sold price\n",
    "\n",
    "bookshelf- holds a collection of books"
   ]
  },
  {
   "cell_type": "code",
   "execution_count": null,
   "id": "1e16d45c",
   "metadata": {},
   "outputs": [],
   "source": []
  }
 ],
 "metadata": {
  "kernelspec": {
   "display_name": "Python 3 (ipykernel)",
   "language": "python",
   "name": "python3"
  },
  "language_info": {
   "codemirror_mode": {
    "name": "ipython",
    "version": 3
   },
   "file_extension": ".py",
   "mimetype": "text/x-python",
   "name": "python",
   "nbconvert_exporter": "python",
   "pygments_lexer": "ipython3",
   "version": "3.10.4"
  }
 },
 "nbformat": 4,
 "nbformat_minor": 5
}
