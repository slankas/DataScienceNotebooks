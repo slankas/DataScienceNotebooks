{
 "cells": [
  {
   "cell_type": "markdown",
   "id": "4ce2bc41",
   "metadata": {},
   "source": [
    "# Iteration\n",
    "In previous notebooks, we discussed control statements (e.g., `if`) to make decisions on which block of code to execute. In this notebook, we will examine two Python statements to execute a given code blocks multiple times.  \n",
    "\n",
    "Fortunately for us, computers do not tire or complain of doing the same thing time and time again.\n",
    "\n",
    "## Looping with while\n",
    "The while loop is a relatively simple looping mechanism that allows us to repeat a code block as long as the condition for the while statment remains.\n",
    "\n",
    "Suppose you are a fan of _Getting Things Done_ and you maintain a list a current \"to do items\" when you are at your computer.  A psuedo-code example for processing that list might look like - \n",
    "```\n",
    "while todo_list is not empty\n",
    "  - remove the first \"todo\" from the list\n",
    "  - process the \"todo\"\n",
    "```\n",
    "So the condition in this is example is \"todo_list is not empty\".  In Python, we could simply use ```while todo_list:``` as todo_list evaluates to ```True``` if it has one or more entries and to `False` if it has zero entries.  Within each iteration of the loop, we remove an item from list - so hopefully we will eventually finish that list.\n",
    "\n",
    "The while loop has the following syntax:\n",
    "```\n",
    "while condition:\n",
    "    block\n",
    "```\n",
    "If the condition evaluates to `True`, then the statements in the block are executed.  After the block is execute, the entire statment repeats with evaluating the condition.  This repeats infinitely until the condition evaluates to `False` or the block causes the flow of control to break out of the while statement.\n",
    "![](images/whileStatment.png)\n",
    "\n",
    "Here's a simple example that counts from 1 to 5:"
   ]
  },
  {
   "cell_type": "code",
   "execution_count": null,
   "id": "3d3902c3",
   "metadata": {},
   "outputs": [],
   "source": [
    "i = 1\n",
    "while i < 6:\n",
    "    print(i)\n",
    "    i = i + 1"
   ]
  },
  {
   "cell_type": "markdown",
   "id": "73e763b1",
   "metadata": {},
   "source": [
    "As with the `if` statement, the condition is any expression that can be evaluated to `True` or `False`. So as we've now seen, this includes numbers, strings, lists, and tuples.\n",
    "\n",
    "## Break and Continue\n",
    "As with many other programming languages, Python continues two statements that can affect the sequence of the looping from within the block (as opposed to just the condition\n",
    "\n",
    "With the **break** statement, execution immediately exits the block and execution proceeds with the statement after the loop.\n",
    "\n",
    "In the following example, we add a check that if i is divisble by 3, we exit the loop immediately"
   ]
  },
  {
   "cell_type": "code",
   "execution_count": null,
   "id": "deba3687",
   "metadata": {},
   "outputs": [],
   "source": [
    "i = 1\n",
    "while i < 6:\n",
    "    if (i %3 == 0): break\n",
    "    print(i)\n",
    "    i = i + 1\n",
    "print (\"After the while loop\")"
   ]
  },
  {
   "cell_type": "markdown",
   "id": "b11b0c7b",
   "metadata": {},
   "source": [
    "Rather than exiting the loop immediately, the **continue** statement exits the current loop, but resumes with executing the condition."
   ]
  },
  {
   "cell_type": "code",
   "execution_count": null,
   "id": "ccc7b8fb",
   "metadata": {},
   "outputs": [],
   "source": [
    "i = 1\n",
    "while i < 6:\n",
    "    if (i %2 == 0): \n",
    "        i = i +1\n",
    "        continue\n",
    "    else:\n",
    "        print(i)\n",
    "        i = i +1\n",
    "    \n",
    "print (\"After the while loop\")"
   ]
  },
  {
   "cell_type": "markdown",
   "id": "7f2514a8",
   "metadata": {},
   "source": [
    "In the above loop, we had to change how we updated the variable _i_ as compared to the prior example.  If we had not changed the value for i before the continue statement, the program would have executed forever as the condition would have never changed."
   ]
  },
  {
   "cell_type": "markdown",
   "id": "c7b52942",
   "metadata": {},
   "source": [
    "## While Example: Fibonacci Series\n",
    "The following code fragment prints out the first series of numbers of a [Fibonacci series](https://en.wikipedia.org/wiki/Fibonacci_number).\n",
    "\n",
    "Source: [Python Tutorial](https://docs.python.org/3/tutorial/introduction.html#first-steps-towards-programming)"
   ]
  },
  {
   "cell_type": "code",
   "execution_count": null,
   "id": "7e0f0752",
   "metadata": {},
   "outputs": [],
   "source": [
    "a, b = 0, 1\n",
    "while a < 20:\n",
    "    print (a,end=', ')\n",
    "    a, b = b, a + b\n",
    "print (a)"
   ]
  },
  {
   "cell_type": "markdown",
   "id": "fe6d1338",
   "metadata": {},
   "source": [
    "There's several interesting things present in these five lines of code:\n",
    "- lines 1 and 4 both demonstrate parallel (multiple) assignment.  The expressions on the right side of the assignment statement ```=``` are evaluated left to right.  After all of the expressions have been evaluated, the result of each expression is then assigned to the correspondig varaible on the left hand side.\n",
    "- We show a ```while``` loop, which executes as long as the condition (```a < 20```) remains true.  \n",
    "- This loop is an example of a _fence post loop_.  Notice in the loop we print a number followed by a comma.  However, we don't want the last number printed to have a comma, and hence, treat it specially outside of the loop.  That last statement is the closing \"post\" in a fence line.\n",
    "\n",
    "There are many different ways to solve the fencepost loop issue.  We can also choose to special case the first \"post\".  Also notice that final ```print()``` statement in these examples prints the newline character. "
   ]
  },
  {
   "cell_type": "code",
   "execution_count": null,
   "id": "bb84b095",
   "metadata": {},
   "outputs": [],
   "source": [
    "a, b = 0, 1\n",
    "print (a, end='')\n",
    "while a < 20:\n",
    "    print (\",\",b,end='')\n",
    "    a, b = b, a + b\n",
    "print ()"
   ]
  },
  {
   "cell_type": "markdown",
   "id": "c16b936e",
   "metadata": {},
   "source": [
    "## The for loop\n",
    "Python's for loop differs from the for loops in other languages such a C, although it is roughly comparable to Java's for each loop.\n",
    "\n",
    "With this looping statement, we iterate over the items of an iterable - the sequences we have seen so for (string, list, and tuple) are iterables. \n",
    "\n",
    "The for loop has to following syntax:\n",
    "```\n",
    "for variable in iterable:\n",
    "    block\n",
    "```"
   ]
  },
  {
   "cell_type": "code",
   "execution_count": null,
   "id": "78c18eb4",
   "metadata": {},
   "outputs": [],
   "source": [
    "acc_schools = [\"Duke\", \"Notre Dame\", \"UNC\", \"NCSU\", \"Wake Forest\", \"Clemson\"]\n",
    "for school in acc_schools:\n",
    "    print(school)"
   ]
  },
  {
   "cell_type": "markdown",
   "id": "09891c97",
   "metadata": {},
   "source": [
    "As with the while loop, the break and continue statements can be used within for statements."
   ]
  },
  {
   "cell_type": "markdown",
   "id": "a47e70dc",
   "metadata": {},
   "source": [
    "## Else - Was break used?\n",
    "Fairly unique to Python, the `else` statement can be added to the end of both while and for loops.  The else block will only be called if the break statement was not called.\n",
    "\n",
    "A typical use case for this is searching for a particular item in a list.  The loop would break as soon as the item is found.  However, if the item is not found, then their might be something else that needs to be executed."
   ]
  },
  {
   "cell_type": "code",
   "execution_count": null,
   "id": "b42426c4",
   "metadata": {},
   "outputs": [],
   "source": [
    "acc_schools = [\"Duke\", \"Notre Dame\", \"UNC\", \"NCSU\", \"Wake Forest\", \"Clemson\"]\n",
    "for school in acc_schools:\n",
    "    if school == \"Wake Forest\":\n",
    "        break\n",
    "    print(\"searching\")\n",
    "else:\n",
    "    print(\"Not found - break was not called\")"
   ]
  },
  {
   "cell_type": "code",
   "execution_count": null,
   "id": "6c77ba4b",
   "metadata": {},
   "outputs": [],
   "source": [
    "acc_schools = [\"Duke\", \"Notre Dame\", \"UNC\", \"NCSU\", \"Wake Forest\", \"Clemson\"]\n",
    "for school in acc_schools:\n",
    "    if school == \"Miami\":\n",
    "        break\n",
    "    print(\"searching\")\n",
    "else:\n",
    "    print(\"Not found - break was not called\")"
   ]
  },
  {
   "cell_type": "code",
   "execution_count": null,
   "id": "762fde31",
   "metadata": {},
   "outputs": [],
   "source": [
    "x = 1\n",
    "while x < 3:\n",
    "    print(x)\n",
    "    x = x + 1\n",
    "    if x % 5 == 0:\n",
    "        break\n",
    "else:\n",
    "    print(\"else - the loop ended after the condition x < 3 evaluated to False, break was not called\")"
   ]
  },
  {
   "cell_type": "markdown",
   "id": "db25c1b7",
   "metadata": {},
   "source": [
    "## Generating Number Sequences: range()\n",
    "Python offers a built-in function `range` to generate a stream of numbers.  We use `range()` in a similarly to how we used slices:   range(_start_,_stop_,_step).\n",
    "\n",
    "Only _stop_ is required.  If _start_ is omitted, the range starts at 0.  The range ends just before the value of stop.  Step has a default value of 1, but we can use any nonzero integer."
   ]
  },
  {
   "cell_type": "code",
   "execution_count": null,
   "id": "5808fef7",
   "metadata": {},
   "outputs": [],
   "source": [
    "for x in range(0,4):\n",
    "    print(x)"
   ]
  },
  {
   "cell_type": "code",
   "execution_count": null,
   "id": "326f2bdb",
   "metadata": {},
   "outputs": [],
   "source": [
    "for x in range (4,0,-1):\n",
    "    print(x)"
   ]
  },
  {
   "cell_type": "markdown",
   "id": "15492e66",
   "metadata": {},
   "source": [
    "Using the above code,  use `range()` with just a stop number."
   ]
  },
  {
   "cell_type": "markdown",
   "id": "f51c950f",
   "metadata": {},
   "source": [
    "From a space perspective, the numbers are not actually produced until that number is needed - this allows us to create arbitrarily large ranges. However, if you create a list immediately from a range, then all of the numbers are generated and stored in that list."
   ]
  },
  {
   "cell_type": "code",
   "execution_count": null,
   "id": "0e304eb4",
   "metadata": {},
   "outputs": [],
   "source": [
    "list(range(1,11))"
   ]
  },
  {
   "cell_type": "markdown",
   "id": "201b81de",
   "metadata": {},
   "source": [
    "## Indexes and Values with the for loop\n",
    "Generally speaking, it is bad practice to explicitly use an index variable to iterate through a squence.  However, use cases do exist where the programmer needs both the index and value of an item while looping. For this, we can use the built-in function `enumerate()` to wrap the iterable in a for loop."
   ]
  },
  {
   "cell_type": "code",
   "execution_count": null,
   "id": "fae3d4ca",
   "metadata": {},
   "outputs": [],
   "source": [
    "acc_schools = [\"Duke\", \"Notre Dame\", \"UNC\", \"NCSU\", \"Wake Forest\", \"Clemson\"]\n",
    "for idx, school in enumerate(acc_schools):\n",
    "    print(f\"{idx}: {school}\")"
   ]
  },
  {
   "cell_type": "markdown",
   "id": "a97bc1b3",
   "metadata": {},
   "source": [
    "## Exercises\n",
    "1. Given this list of closing stock prices, create functions to compute the mean, median, and standard deviation.  Assume that we have a sample, but you can also write your function to make this an optional flag.\n",
    "```\n",
    "stock_prices = [ 123.75, 124.38, 121.78, 123.24, 122.41, 121.78, 127.88, 127.81, 128.70, 131.88]\n",
    "```\n",
    "2. Generate a range that produces the following number 10,12,14,16,18, and 20.\n",
    "3. Create a guessing game.  Generate a random number between 1 and 100.  Have the user guess.  Print a message if the guess is too high, too low, or correct.  Repeat the user guessing until the correct answer is guessed.  Print the number of guesses.  You can use the following code to create the random number:<br>\n",
    "```\n",
    "import random\n",
    "number = random.randint(1, 100)\n",
    "```\n",
    "\n",
    "4. Produce a compound interest chart for for 10 years using 1 to 15%.  The x-axis should be the interest with the y-axis being the years.  The numbers should be right justified.  Assume $100.00 is the initial principle.\n",
    "5. Read two strings from the user.  The first string is a text block.  The second string is a character, series of characters, or word to find within each word of the text block.  You should split the first string by whitespace and then keep only those words that contain the second string.  Join the remaining words together into a string, separated by a comma.\n",
    "6. Given the following lists, generated random sentences by combining random words from each list in this order: _article noun verb preposition artice noun_.<br>\n",
    "```\n",
    "article = [\"the\", \"a\", \"one\", \"some\", \"any\"]\n",
    "noun = [\"boy\", \"girl\", \"dog\", \"town\", \"car\"]\n",
    "verb = [\"drove\", \"jumped\", \"ran\", \"walked\", \"skipped\"]\n",
    "preposition = [\"to\", \"from\", \"over\", \"under\", \"on\"]\n",
    "```\n",
    "The first word of the sentence should be capitalized and the sentence should end with a period. You can get a random element from a list with the following code: (the import statement only needs to occur once)<br>\n",
    "```\n",
    "import random\n",
    "random.choice(noun)\n",
    "```\n",
    "How would you repeat this 5 times?\n",
    "\n"
   ]
  }
 ],
 "metadata": {
  "kernelspec": {
   "display_name": "Python 3 (ipykernel)",
   "language": "python",
   "name": "python3"
  },
  "language_info": {
   "codemirror_mode": {
    "name": "ipython",
    "version": 3
   },
   "file_extension": ".py",
   "mimetype": "text/x-python",
   "name": "python",
   "nbconvert_exporter": "python",
   "pygments_lexer": "ipython3",
   "version": "3.8.10"
  }
 },
 "nbformat": 4,
 "nbformat_minor": 5
}
