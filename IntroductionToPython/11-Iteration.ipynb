{
 "cells": [
  {
   "cell_type": "markdown",
   "id": "4f041c94",
   "metadata": {},
   "source": [
    "<div class=\"pagebreak\"></div>\n",
    "\n",
    "# Iteration\n",
    "In previous notebooks, we discussed control statements (e.g., `if`) to decide which block of code to execute. \n",
    "\n",
    "From a structured programming point of view, three basic building blocks exist to construct algorithms:\n",
    "- sequence (executing statements one after another)\n",
    "- selection (making decisions, control statements, `if`)\n",
    "- iteration (repeatedly executing parts of a program - also known as repetition)\n",
    "\n",
    "This notebook examines the last basic building block - iteration.\n",
    "\n",
    "Fortunately for us, computers do not tire or complain about doing the same thing time and time again. Many programming tasks are naturally repetitive. For example, suppose we did not know the formula for compounding interest. In that case, we could execute the base calculation (adding the interest earned to the principal) a specific number of times. Painfully tedious for us, just something else for a computer to do.\n",
    "\n",
    "Returning to the Seven Steps, we looked for ways to generalize our algorithm in the third step.  Finding repetitive patterns or behavior is another tool in this process.\n",
    "\n",
    "Generally speaking, two basic types of iteration exist:\n",
    "1. _Indefinite_:  a code block repeats as long a particular condition is true\n",
    "2. _Definite_: a code block repeats a fixed number of times.\n",
    "\n",
    "In this notebook, we will examine the `while` statement as that is how Python implements the first type and then the `for` loop which roughly implements the second type."
   ]
  },
  {
   "cell_type": "markdown",
   "id": "4ce2bc41",
   "metadata": {},
   "source": [
    "## Looping with while\n",
    "The while loop is a relatively simple looping mechanism that allows us to repeat a code block as long as the condition for the while statement remains `True`.\n",
    "\n",
    "Suppose you are a fan of _Getting Things Done_ and maintain a list of current \"to-do items\" while at your computer. A pseudocode example for processing that list might look like this - \n",
    "```\n",
    "while todo_list is not empty\n",
    "  - remove the first \"todo\" from the list\n",
    "  - process the \"todo\"\n",
    "```\n",
    "So the condition in this example is \"todo_list is not empty\".  In Python, we can state `while todo_list:` as todo_list evaluates to `True` if it has one or more entries and to `False` if it has zero entries.  Within each iteration of the loop, we remove an item from the list - hopefully, we will eventually finish that list.\n",
    "\n",
    "The while loop has the following syntax:\n",
    "```\n",
    "while condition:\n",
    "    block\n",
    "```\n",
    "If the condition evaluates to `True`, then the statements in the block execute. After the block executes, the entire statement repeats with evaluating the condition. This process repeats until the condition evaluates to `False` or the block causes the control flow to break out of the `while` statement.\n",
    "\n",
    "![](images/whileStatment.png)\n",
    "\n",
    "Printing the numbers from 1 to 5:"
   ]
  },
  {
   "cell_type": "code",
   "execution_count": null,
   "id": "3d3902c3",
   "metadata": {},
   "outputs": [],
   "source": [
    "i = 1\n",
    "while i < 6:\n",
    "    print(i)\n",
    "    i = i + 1"
   ]
  },
  {
   "cell_type": "markdown",
   "id": "73e763b1",
   "metadata": {},
   "source": [
    "As with the `if` statement, the condition is any expression that evaluates to `True` or `False`. In addition to Boolean values, this includes numbers, strings, lists, and tuples.\n",
    "\n",
    "## Break and Continue\n",
    "As with many other programming languages, Python has two statements that can affect the loop execution from within the block (as opposed to just the while condition).\n",
    "\n",
    "With the `break` statement, execution immediately exits the block, and execution proceeds with the statement after the loop.\n",
    "\n",
    "In the following example, we add a check that if i is divisible by 3, we exit the loop immediately."
   ]
  },
  {
   "cell_type": "code",
   "execution_count": null,
   "id": "deba3687",
   "metadata": {},
   "outputs": [],
   "source": [
    "i = 1\n",
    "while i < 6:\n",
    "    if (i % 3 == 0): \n",
    "        break\n",
    "    else:\n",
    "        print(i)\n",
    "        i = i + 1\n",
    "print (\"After the while loop\")"
   ]
  },
  {
   "cell_type": "markdown",
   "id": "b11b0c7b",
   "metadata": {},
   "source": [
    "[View execution on PythonTutor](https://pythontutor.com/render.html#code=i%20%3D%201%0Awhile%20i%20%3C%206%3A%0A%20%20%20%20if%20%28i%20%25%203%20%3D%3D%200%29%3A%20%0A%20%20%20%20%20%20%20%20break%0A%20%20%20%20else%3A%0A%20%20%20%20%20%20%20%20print%28i%29%0A%20%20%20%20%20%20%20%20i%20%3D%20i%20%2B%201%0Aprint%20%28%22After%20the%20while%20loop%22%29&cumulative=false&curInstr=0&heapPrimitives=nevernest&mode=display&origin=opt-frontend.js&py=3&rawInputLstJSON=%5B%5D&textReferences=false)\n",
    "\n",
    "Rather than exiting the loop immediately, the `continue` statement stops the current loop but moves the control flow to evaluate the condition at the top of the loop."
   ]
  },
  {
   "cell_type": "code",
   "execution_count": null,
   "id": "ccc7b8fb",
   "metadata": {},
   "outputs": [],
   "source": [
    "i = 1\n",
    "while i < 6:\n",
    "    if (i % 2 == 0): \n",
    "        i = i +1\n",
    "        continue\n",
    "    else:\n",
    "        print(i)\n",
    "        i = i +1\n",
    "    \n",
    "print (\"After the while loop\")"
   ]
  },
  {
   "cell_type": "markdown",
   "id": "7f2514a8",
   "metadata": {},
   "source": [
    "[View execution on PythonTutor](https://pythontutor.com/render.html#code=i%20%3D%201%0Awhile%20i%20%3C%206%3A%0A%20%20%20%20if%20%28i%20%25%202%20%3D%3D%200%29%3A%20%0A%20%20%20%20%20%20%20%20i%20%3D%20i%20%2B1%0A%20%20%20%20%20%20%20%20continue%0A%20%20%20%20else%3A%0A%20%20%20%20%20%20%20%20print%28i%29%0A%20%20%20%20%20%20%20%20i%20%3D%20i%20%2B1%0A%20%20%20%20%0Aprint%20%28%22After%20the%20while%20loop%22%29&cumulative=false&curInstr=0&heapPrimitives=nevernest&mode=display&origin=opt-frontend.js&py=3&rawInputLstJSON=%5B%5D&textReferences=false)\n",
    "\n",
    "In the above loop, we had to change the update of the variable _i_ compared to the previous example. If we had not changed the value for `i` before the `continue` statement, the program would execute forever as the condition would have never changed.  See what happens when you run this next code block.  You can stop the execution by clicking the stop button."
   ]
  },
  {
   "cell_type": "code",
   "execution_count": null,
   "id": "651c37b7",
   "metadata": {},
   "outputs": [],
   "source": [
    "i = 1\n",
    "while i < 6:\n",
    "    if (i % 2 == 0): \n",
    "        continue\n",
    "    else:\n",
    "        print(i)\n",
    "        i = i +1\n",
    "    \n",
    "print (\"After the while loop\")"
   ]
  },
  {
   "cell_type": "markdown",
   "id": "8c4798d5",
   "metadata": {},
   "source": [
    "To avoid infinite loops such as the above, the statements within the `while` block should occur such that the test condition eventually evaluates to `False`."
   ]
  },
  {
   "cell_type": "markdown",
   "id": "c7b52942",
   "metadata": {},
   "source": [
    "## While Example: Fibonacci Series\n",
    "The following code fragment prints out the first nine numbers of a [Fibonacci series](https://en.wikipedia.org/wiki/Fibonacci_number) starting at zero.\n",
    "\n",
    "Source: [Python Tutorial](https://docs.python.org/3/tutorial/introduction.html#first-steps-towards-programming)"
   ]
  },
  {
   "cell_type": "code",
   "execution_count": null,
   "id": "7e0f0752",
   "metadata": {},
   "outputs": [],
   "source": [
    "a, b = 0, 1\n",
    "while a < 20:\n",
    "    print (a,end=', ')\n",
    "    a, b = b, a + b\n",
    "print (a)"
   ]
  },
  {
   "cell_type": "markdown",
   "id": "fe6d1338",
   "metadata": {},
   "source": [
    "Several interesting details are present in these five lines of code:\n",
    "- Lines 1 and 4 both demonstrate parallel (multiple) assignment.  The expressions on the right side of the assignment statement ```=``` are evaluated left to right. After evaluating the expressions, the interpreter assigns each expression's result to the corresponding variable on the left-hand side.\n",
    "- We show a ```while``` loop, which executes as long as the condition (```a < 20```) evaluates to `True`.  \n",
    "- Notice that the final `print()` statement prints the newline character.\n",
    "- This loop is an example of a _fencepost loop_. Within the loop, we print a number followed by a comma. However, we do not want the last number printed to have a comma. Therefore, we treat the last iteration differently and print the value outside the loop. That last statement is the closing \"post\" in a fence line.\n",
    "\n",
    "![](images/fencepost.png)\n",
    "\n",
    "Many different approaches exist to solve the fencepost loop issue. For example, we can choose to special case the first \"post\" (loop) rather than the last. We can also add an `if` statement to print the separator after the first occurrence in the loop."
   ]
  },
  {
   "cell_type": "code",
   "execution_count": null,
   "id": "bb84b095",
   "metadata": {},
   "outputs": [],
   "source": [
    "a, b = 0, 1\n",
    "print (a, end='')\n",
    "while a < 20:\n",
    "    print (\",\",b,end='')\n",
    "    a, b = b, a + b\n",
    "print ()"
   ]
  },
  {
   "cell_type": "code",
   "execution_count": null,
   "id": "4875a40e",
   "metadata": {},
   "outputs": [],
   "source": [
    "a, b = 0, 1\n",
    "while a < 22:  # logic change to show \"21\"\n",
    "    if (a >0):\n",
    "        print (', ',end='')\n",
    "    print (a,end='')\n",
    "    a, b = b, a + b\n",
    "print()"
   ]
  },
  {
   "cell_type": "markdown",
   "id": "f8455ac1",
   "metadata": {},
   "source": [
    "## The Infinite While Loop\n",
    "A relatively common iteration pattern is to loop forever. In Python, such loops would have this pattern:\n",
    "<pre>\n",
    "while True:\n",
    "    <i>do something interesting</i>\n",
    "</pre>\n",
    "\n",
    "For a web server, the pseudocode for the application may look something like this -\n",
    "<pre><i>\n",
    "    initialize system\n",
    "    loop forever\n",
    "        wait for url request\n",
    "        process url request\n",
    "</i></pre>\n",
    "A game engine may have an overall control structure, such as -\n",
    "<pre><i>\n",
    "    initialize game\n",
    "    loop forever\n",
    "        process any received user input\n",
    "        status = update game state\n",
    "        if status equals \"stop\", break out of loop\n",
    "        draw game state \n",
    "    process end of game\n",
    "</i></pre>"
   ]
  },
  {
   "cell_type": "markdown",
   "id": "ad2122d8",
   "metadata": {},
   "source": [
    "<div style=\"border: 3px solid black;padding: 10px; border-radius: 10px;\">\n",
    "From a design point of view, this pseudocode exemplifies a top-down design approach.  Most of the steps don't have enough detail to convert directly to code.  When this occurs, we then need to look at breaking down the statements into more specific tasks until the translation to code becomes straightforward.\n",
    "<br><br>\n",
    "For the webserver, <i>initialize system</i> might become\n",
    "<i><pre>\n",
    "read configuration file\n",
    "establish logging\n",
    "create server socket to listen for requests\n",
    "</pre></i>\n",
    "</div>"
   ]
  },
  {
   "cell_type": "markdown",
   "id": "19a79c07",
   "metadata": {},
   "source": [
    "### Loop and a half problem\n",
    "Another common occurrence with while loops is the \"loop and a half\" problem. In these cases, we need to perform some processing for an indeterminate number of iterations.\n",
    "\n",
    "Example: Continually read grades from a user until they enter a negative value which signifies they have finished entering grades. (The negative value operates as a sentinel, a distinct value to mark the end of a series of inputs or values. Sentinels need to be distinctive from expected values in the series.) \n",
    "\n",
    "One approach would be to read the first input before entering the loop:"
   ]
  },
  {
   "cell_type": "code",
   "execution_count": null,
   "id": "2f044606",
   "metadata": {},
   "outputs": [],
   "source": [
    "total = 0\n",
    "num_entries = 0\n",
    "\n",
    "grade = int(input(\"Enter a grade: \"))\n",
    "while grade > 0:\n",
    "    total += grade\n",
    "    num_entries += 1\n",
    "    grade = int(input(\"Enter a grade: \"))\n",
    "\n",
    "if num_entries > 0:\n",
    "    print(\"Average:\",total/num_entries)\n",
    "else:\n",
    "    print(\"no grades entered\")"
   ]
  },
  {
   "cell_type": "markdown",
   "id": "ebefd2aa",
   "metadata": {},
   "source": [
    "The downside to the above solution is that we have repeated code outside and inside the loop to enter grades. This example is relatively straightforward, but what if this repeated code was more complex? What happens when it needs to be changed? What if the programmer only changed the repeated code in one location?\n",
    "\n",
    "An alternate approach is to use a \"loop and a half structure\". This structure breaks out of the loop halfway when a particular condition occurs."
   ]
  },
  {
   "cell_type": "code",
   "execution_count": null,
   "id": "43072d8a",
   "metadata": {},
   "outputs": [],
   "source": [
    "total = 0\n",
    "num_entries = 0\n",
    "\n",
    "while True:\n",
    "    grade = int(input(\"Enter a grade: \"))\n",
    "    if grade < 0:\n",
    "        break\n",
    "    total += grade\n",
    "    num_entries += 1\n",
    "\n",
    "if num_entries > 0:\n",
    "    print(\"Average:\",total/num_entries)\n",
    "else:\n",
    "    print(\"no grades entered\")"
   ]
  },
  {
   "cell_type": "markdown",
   "id": "c16b936e",
   "metadata": {},
   "source": [
    "## The for loop\n",
    "Python's for loop differs from the for loops in other languages such as C, although it is roughly comparable to Java's for each loop.\n",
    "\n",
    "With this looping statement, we iterate over the items of an iterable - the sequences we have seen (string, list, and tuple) are iterables. \n",
    "\n",
    "The for loop has the following syntax:\n",
    "```\n",
    "for variable in iterable:\n",
    "    block\n",
    "```"
   ]
  },
  {
   "cell_type": "code",
   "execution_count": null,
   "id": "78c18eb4",
   "metadata": {},
   "outputs": [],
   "source": [
    "acc_schools = [\"Duke\", \"Notre Dame\", \"UNC\", \"NCSU\", \"Wake Forest\", \"Clemson\"]\n",
    "for school in acc_schools:\n",
    "    print(school)"
   ]
  },
  {
   "cell_type": "markdown",
   "id": "09891c97",
   "metadata": {},
   "source": [
    "As with the `while` loop, the `for` loop can contain `break` and `continue` statements"
   ]
  },
  {
   "cell_type": "markdown",
   "id": "a47e70dc",
   "metadata": {},
   "source": [
    "## Else - Was break used?\n",
    "Somewhat unique to Python, programmers can use the `else` statement at the end of both `while` and `for` loops. The `else` code block only executes if the loop executes \"normally\", i.e., a `break` statement did not stop the loop.\n",
    "\n",
    "A typical use case for the else clause occurs when searching for a particular item in a list. The loop breaks (exits) when an item is found. However, if the item is not found, then some additional logic might need to be executed."
   ]
  },
  {
   "cell_type": "code",
   "execution_count": null,
   "id": "b42426c4",
   "metadata": {},
   "outputs": [],
   "source": [
    "acc_schools = [\"Duke\", \"Notre Dame\", \"UNC\", \"NCSU\", \"Wake Forest\", \"Clemson\"]\n",
    "for school in acc_schools:\n",
    "    if school == \"Wake Forest\":\n",
    "        break\n",
    "    print(\"compared against\", school)\n",
    "else:\n",
    "    print(\"Not found - break was not called\")"
   ]
  },
  {
   "cell_type": "code",
   "execution_count": null,
   "id": "6c77ba4b",
   "metadata": {},
   "outputs": [],
   "source": [
    "acc_schools = [\"Duke\", \"Notre Dame\", \"UNC\", \"NCSU\", \"Wake Forest\", \"Clemson\"]\n",
    "for school in acc_schools:\n",
    "    if school == \"Miami\":\n",
    "        break\n",
    "    print(\"compared against\",school)\n",
    "else:\n",
    "    print(\"Not found - break was not called\")"
   ]
  },
  {
   "cell_type": "code",
   "execution_count": null,
   "id": "762fde31",
   "metadata": {},
   "outputs": [],
   "source": [
    "x = 1\n",
    "while x < 3:\n",
    "    print(x)\n",
    "    x = x + 1\n",
    "    if x % 5 == 0:\n",
    "        break\n",
    "else:\n",
    "    print(\"else - the loop ended after the condition x < 3 evaluated to False, break was not called\")"
   ]
  },
  {
   "cell_type": "markdown",
   "id": "db25c1b7",
   "metadata": {},
   "source": [
    "## Generating Number Sequences: range()\n",
    "Python offers a built-in function `range` to generate a stream of numbers.  We call `range()` similarly to how we used slices:  <code>range(<i>start</i>, <i>stop</i>, <i>step</i>)</code>.\n",
    "\n",
    "Only the _stop_ parameter is required.  If the _start_ parameter is not present, the range starts at 0.  The range ends just before the value of _stop_.  The _step_ parameter has a default value of 1, but we can use any nonzero integer."
   ]
  },
  {
   "cell_type": "code",
   "execution_count": null,
   "id": "5808fef7",
   "metadata": {},
   "outputs": [],
   "source": [
    "for x in range(0, 4):\n",
    "    print(x)"
   ]
  },
  {
   "cell_type": "code",
   "execution_count": null,
   "id": "326f2bdb",
   "metadata": {},
   "outputs": [],
   "source": [
    "for x in range(4, 0, -1):\n",
    "    print(x)"
   ]
  },
  {
   "cell_type": "markdown",
   "id": "6502332c",
   "metadata": {},
   "source": [
    "Using the above code,  use `range()` with just a stop number."
   ]
  },
  {
   "cell_type": "code",
   "execution_count": null,
   "id": "74cb0520",
   "metadata": {},
   "outputs": [],
   "source": [
    "# put in  a just a stop number \n",
    "for x in range():  \n",
    "    print(x)"
   ]
  },
  {
   "cell_type": "markdown",
   "id": "15492e66",
   "metadata": {},
   "source": [
    "Try some more examples yourself:"
   ]
  },
  {
   "cell_type": "code",
   "execution_count": null,
   "id": "e8c9e2d9",
   "metadata": {},
   "outputs": [],
   "source": [
    "# Enter a range from 10 to 0, skipping by 2's\n",
    "for x in range():\n",
    "    print(x)\n",
    "\n",
    "# Enter a ranger from 1 to 30, skipping by 3's\n",
    "for x in range ():\n",
    "    print(x)"
   ]
  },
  {
   "cell_type": "markdown",
   "id": "f51c950f",
   "metadata": {},
   "source": [
    "From a space perspective, the interpreter does not produce the numbers from the `range()` function until needed, allowing us to create arbitrarily large series. However, if you make a list from a range, all the numbers are generated and stored in that list."
   ]
  },
  {
   "cell_type": "code",
   "execution_count": null,
   "id": "0e304eb4",
   "metadata": {},
   "outputs": [],
   "source": [
    "list(range(1,11))"
   ]
  },
  {
   "cell_type": "markdown",
   "id": "201b81de",
   "metadata": {},
   "source": [
    "## Indexes and Values with the for loop\n",
    "Generally speaking, it is an inferior practice to explicitly use an index variable to iterate through a sequence. However, use cases exist where the programmer needs both the index and value of an item while looping. We can use the built-in function `enumerate()` to wrap the iterable to use a `for` loop."
   ]
  },
  {
   "cell_type": "code",
   "execution_count": null,
   "id": "fae3d4ca",
   "metadata": {},
   "outputs": [],
   "source": [
    "acc_schools = [\"Duke\", \"Notre Dame\", \"UNC\", \"NCSU\", \"Wake Forest\", \"Clemson\"]\n",
    "for idx, school in enumerate(acc_schools):\n",
    "    print(\"{}: {}\".format(idx,school))"
   ]
  },
  {
   "cell_type": "markdown",
   "id": "622467a0",
   "metadata": {},
   "source": [
    "## Case Study: Revisiting the Systematic Investment Plan\n",
    "In the notebook on Basic Input and Output, we explored developing and writing the corresponding code to find the future value of a systematic investment plan. In that case, we assumed we could use an existing and well-known formula. However, what if we decided to perform the calculations manually? At the time, we did not have any mechanisms to repeat code. For example, if we had one hundred payments, we would have had one hundred statements, each adding a payment and the corresponding interest earned. However, with the iteration statements in this notebook, a Python script could easily do that work.\n",
    "\n",
    "Problem: Write a function called future_value_sytematic_investment that computes the future value of a SIP for a given payment, annual interest rate, number of payments, and the number of periods per year.\n",
    "\n",
    "We will repeat the Seven Steps design process:[1]\n",
    "![](images/sevensteps.png)"
   ]
  },
  {
   "cell_type": "markdown",
   "id": "300569aa",
   "metadata": {},
   "source": [
    "Manually perform do this for 3 periods, assuming 10% interest rate per period, and $100 per payment.\n",
    "<pre>\n",
    "iteration 1: total = payment \n",
    "iteration 2: total = payment + previous total + previous total * interest\n",
    "iteration 3: total = payment + previous total + previous total * interest\n",
    "</pre>\n",
    "Hmmm.... looks like our iteration stays pretty much the same, but can we make the first one look like the others?\n",
    "<pre>\n",
    "iteration 0: total = 0 \n",
    "iteration 1: total = payment + previous total + previous total * interest  \n",
    "             (Note: The previous total = 0, so total = payment as before\n",
    "iteration 2: total = payment + previous total + previous total * interest\n",
    "iteration 3: total = payment + previous total + previous total * interest\n",
    "</pre>\n",
    "We can also factor out the previous total in each iteration:\n",
    "<pre>\n",
    "total = payment + previous total * (1 + interest)\n",
    "</pre>"
   ]
  },
  {
   "cell_type": "markdown",
   "id": "b3980577",
   "metadata": {},
   "source": [
    "Now, how will this work for different values? We probably will still have overflow errors for large interest rates.  However, we no longer are doing any division, so a 0% interest rate is no longer a problem.  Negative interest rates smaller than -1 may cause issues. The number of periods per year needs to be more than 0.\n",
    "\n",
    "<pre>\n",
    "inputs: payment amount, annual interest rate, total payments, periods per year\n",
    "output: future value\n",
    "algorithm:\n",
    "    periodic rate = annual interest rate / periods per year\n",
    "    result = 0\n",
    "    for total payments:\n",
    "        result = payment + result  * (1+periodic rate)\n",
    "    return result   \n",
    "</pre>\n",
    "\n",
    "\n",
    "Let's move on to coding:"
   ]
  },
  {
   "cell_type": "code",
   "execution_count": null,
   "id": "5c02d78f",
   "metadata": {},
   "outputs": [],
   "source": [
    "def future_value_sytematic_investment(payment_amount, annual_interest_rate, \n",
    "                                     num_payments, num_periods_per_year):\n",
    "    periodic_interest_rate = annual_interest_rate / num_periods_per_year\n",
    "    result = 0\n",
    "    for x in range(num_payments):\n",
    "        result = payment + result * (1+periodic_interest_rate)\n",
    "        print result\n",
    "    return result\n",
    "\n",
    "fv = future_value_sytematic_investment(100,10,5,1)\n",
    "print(\"Future value: ${:,.2}\".format(fv))"
   ]
  },
  {
   "cell_type": "markdown",
   "id": "70cc3fd4",
   "metadata": {},
   "source": [
    "Sigh, the intermediate printing caused an error—another reason to use debuggers."
   ]
  },
  {
   "cell_type": "code",
   "execution_count": null,
   "id": "3d779225",
   "metadata": {},
   "outputs": [],
   "source": [
    "def future_value_sytematic_investment(payment, annual_interest_rate, \n",
    "                                     num_payments, num_periods_per_year):\n",
    "    periodic_interest_rate = annual_interest_rate / num_periods_per_year\n",
    "    result = 0\n",
    "    for x in range(num_payments):\n",
    "        result = payment + result * (1+periodic_interest_rate)\n",
    "        print(result)\n",
    "    return result\n",
    "\n",
    "fv = future_value_sytematic_investment(100,.10,5,1)\n",
    "print(\"Future value: ${:,.2f}\".format(fv))"
   ]
  },
  {
   "cell_type": "code",
   "execution_count": null,
   "id": "339e5e7a",
   "metadata": {},
   "outputs": [],
   "source": [
    "print(\"Future value: ${:,.2f}\".format(future_value_sytematic_investment(100,.1,5,12)))"
   ]
  },
  {
   "cell_type": "code",
   "execution_count": null,
   "id": "4d96d620",
   "metadata": {},
   "outputs": [],
   "source": [
    "print(\"Future value: ${:,.2f}\".format(future_value_sytematic_investment(100,-5,5,1)))"
   ]
  },
  {
   "cell_type": "markdown",
   "id": "b1ec7888",
   "metadata": {},
   "source": [
    "Hopefully, the losses will not be too significant as large negative numbers are problematic. We learn methods to make our code more robust in a few notebooks.\n",
    "\n",
    "Now, we need to go back and clean up our function to remove that test print statement. We should also add docstrings to provide help on this function."
   ]
  },
  {
   "cell_type": "code",
   "execution_count": null,
   "id": "43596d06",
   "metadata": {},
   "outputs": [],
   "source": [
    "def future_value_sytematic_investment(payment, annual_interest_rate, \n",
    "                                     num_payments, num_periods_per_year):\n",
    "    \"\"\"Computes the future value of a systematic investment plan\n",
    "\n",
    "    Args:\n",
    "      payment: How much money is put into the plan each period?\n",
    "      annual_interest_rate: What is the assumed interest rate for the plan?\n",
    "      num_payments: How many payments will the investor make in total?\n",
    "      num_periods_per_year: How many payments/periods are there in a year\n",
    "\n",
    "    Returns:\n",
    "      future value of the investment\n",
    "    \"\"\"\n",
    "    periodic_interest_rate = annual_interest_rate / num_periods_per_year\n",
    "    result = 0\n",
    "    for x in range(num_payments):\n",
    "        result = payment + result * (1+periodic_interest_rate)\n",
    "    return result"
   ]
  },
  {
   "cell_type": "code",
   "execution_count": null,
   "id": "f3d546ef",
   "metadata": {},
   "outputs": [],
   "source": [
    "print(\"Future value: ${:,.2f}\".format(future_value_sytematic_investment(100,0.07,360,12)))"
   ]
  },
  {
   "cell_type": "markdown",
   "id": "41d9c648",
   "metadata": {},
   "source": [
    "## Case Study: Monte Carlo Simulation\n",
    "A common approach to determine whether or not an investment strategy will produce sufficient funds for retirement is to use a [Monte Carlo Simulation](https://en.wikipedia.org/wiki/Monte_Carlo_method) of investment returns.  \n",
    "\n",
    "We can apply this method to our `future_value_systematic_investment()` function. However, we can randomly select return values rather than assuming a fixed interest rate.  One possibility would be to select a random historical return of the DJIA. Another possibility is to use random numbers from a Gaussian distribution defined with a given mean and standard deviation.  \n",
    "\n",
    "Let's modify our future value function to use a random interest rate annually. We will also simplify our method by only using one interest rate per year.\n",
    "\n",
    "Jotting down some notes, we now have inputs: payment, num_payments, rate_mean, rate_stdev\n",
    "<br>The process appears the same, except the periodic_interest rate is now a random value.\n",
    "\n",
    "We need to see if we can make this process even more generic. How have other people produced these calculations? In some situations, they assume an initial principal for the investment. So let's add that too, but make this an optional parameter, defaulting the amount to 0."
   ]
  },
  {
   "cell_type": "code",
   "execution_count": null,
   "id": "1535a2ef",
   "metadata": {},
   "outputs": [],
   "source": [
    "import random"
   ]
  },
  {
   "cell_type": "code",
   "execution_count": null,
   "id": "efa27578",
   "metadata": {},
   "outputs": [],
   "source": [
    "def future_value_sytematic_investment_random(payment, num_payments, rate_mean, rate_stdev,\n",
    "                                            initial_principal = 0.0):\n",
    "    \"\"\"Computes the future value of a systematic investment plan, but use random \n",
    "       interest rates from a gaussian distribution.\n",
    "\n",
    "    Args:\n",
    "      payment: How much money is put into the plan annually?\n",
    "      num_payments: How many payments will the investor make in total?\n",
    "      rate_mean: assumed mean of the interest rate\n",
    "      rate_stdev: assumed standard deviation for the interest rate\n",
    "      initial_principal: what is the initial amount (value) in the account? Defaults to 0\n",
    "\n",
    "    Returns:\n",
    "      future value of the investment\n",
    "    \"\"\"\n",
    "    result = initial_principal\n",
    "    for x in range(num_payments):\n",
    "        interest_rate = random.gauss(rate_mean, rate_stdev)\n",
    "        result = payment + result * (1+interest_rate)\n",
    "    return result"
   ]
  },
  {
   "cell_type": "code",
   "execution_count": null,
   "id": "f6446810",
   "metadata": {},
   "outputs": [],
   "source": [
    "print(\"Future value: ${:,.2f}\".format(future_value_sytematic_investment_random(1200,30,0.07,.2)))"
   ]
  },
  {
   "cell_type": "markdown",
   "id": "c4529c2e",
   "metadata": {},
   "source": [
    "We will get many different answers as we run the above cell multiple times. Some will be larger than the \\\\$121,000 we computed before, and other results smaller. So we cannot just take the number we like the best.\n",
    "\n",
    "So to properly perform this simulation, we repeat this experiment thousands of times and then analyze the results."
   ]
  },
  {
   "cell_type": "code",
   "execution_count": null,
   "id": "fadf0993",
   "metadata": {},
   "outputs": [],
   "source": [
    "results = []\n",
    "for x in range(10000):\n",
    "    results.append(future_value_sytematic_investment_random(1200,30,0.07,.2))"
   ]
  },
  {
   "cell_type": "code",
   "execution_count": null,
   "id": "60fffa76",
   "metadata": {},
   "outputs": [],
   "source": [
    "mean = sum(results)/len(results)\n",
    "print(mean)"
   ]
  },
  {
   "cell_type": "code",
   "execution_count": null,
   "id": "6d2a9306",
   "metadata": {},
   "outputs": [],
   "source": [
    "returns_sorted= sorted(results)\n",
    "\n",
    "median = returns_sorted[len(returns_sorted)//2] if len(returns_sorted)%2 == 1 else (returns_sorted[len(returns_sorted)//2] + returns_sorted[1 +len(returns_sorted)//2])/2\n",
    "print(median)"
   ]
  },
  {
   "cell_type": "markdown",
   "id": "6331fbf6",
   "metadata": {},
   "source": [
    "### Visualize Results\n",
    "We use a visualization library, [seaborn](https://seaborn.pydata.org/), to see the distribution of future values and the [empirical cumulative distribution](https://en.wikipedia.org/wiki/Empirical_distribution_function)."
   ]
  },
  {
   "cell_type": "code",
   "execution_count": null,
   "id": "e5294156",
   "metadata": {},
   "outputs": [],
   "source": [
    "import seaborn as sns\n",
    "\n",
    "# Establish size and style attributes for the visualizations\n",
    "sns.set(rc={'figure.figsize':(20,10)})\n",
    "sns.set_style('white')"
   ]
  },
  {
   "cell_type": "code",
   "execution_count": null,
   "id": "735a8c28",
   "metadata": {},
   "outputs": [],
   "source": [
    "axes = sns.histplot(results,bins=50)\n",
    "axes.ticklabel_format(style='plain', axis='x',useOffset=False)\n",
    "axes.set(xlabel='Future value', ylabel='Count', title='Systematic Investment Plan Distribution')"
   ]
  },
  {
   "cell_type": "code",
   "execution_count": null,
   "id": "03f5b5ab",
   "metadata": {},
   "outputs": [],
   "source": [
    "axes = sns.histplot(results,bins=100)\n",
    "axes.ticklabel_format(style='plain', axis='x',useOffset=False)\n",
    "axes.set(xlabel='Future value', ylabel='Count', title='Systematic Investment Plan Distribution')\n",
    "axes.axvline(mean)        # draw a vertical bar for the mean\n",
    "axes.axvline(median,linestyle='--')  # vertical bar for the median, dashed\n",
    "axes.set_xlim(0, 500000)  # Distribution is long-tailed,  lets chop off those rare values"
   ]
  },
  {
   "cell_type": "code",
   "execution_count": null,
   "id": "a891be67",
   "metadata": {
    "scrolled": false
   },
   "outputs": [],
   "source": [
    "axes = sns.ecdfplot(results)\n",
    "axes.ticklabel_format(style='plain', axis='x',useOffset=False)\n",
    "axes.set(xlabel='Future value',\n",
    "         title='Cumulative Distribution Function: Future Value of a Systematic Investment Plane')\n",
    "axes.axvline(mean)        # draw a vertical bar for the mean\n",
    "axes.axvline(median,linestyle='--')  # vertical bar for our median, dashed line\n",
    "axes.set_xlim(0, 200000)  # limit to focus on the lower returns"
   ]
  },
  {
   "cell_type": "markdown",
   "id": "f66cd858",
   "metadata": {},
   "source": [
    "## Exercises\n",
    "1. Write a function greater_than_x that takes two parameters: a list and a number.  The function should return a new list consisting of any entries in the list greater than the number.  Assume all entries in the list are numbers.\n",
    "2. Given this list of closing stock prices, create functions to compute the mean, median, and standard deviation.  Assume we have a sample, but you can also write your function to make this an optional flag.\n",
    "```\n",
    "stock_prices = [ 123.75, 124.38, 121.78, 123.24, 122.41, 121.78, 127.88, 127.81, 128.70, 131.88]\n",
    "```\n",
    "3. Generate a range that produces the following numbers: 10, 12, 14, 16, 18, and 20.\n",
    "4. Create a guessing game.  Generate a random number between 1 and 100.  Have the user guess.  Print a message if the guess is too high, too low, or correct. Repeat until the user guesses the number. Print the number of guesses.  You can use the following code to create the random number:<br>\n",
    "```\n",
    "import random\n",
    "number = random.randint(1, 100)\n",
    "```\n",
    "\n",
    "5. Produce a compound interest chart for ten years using 1 to 15% for the interest rate.  The x-axis should be the interest rate, with the y-axis being the years.  Right justify the numbers.  Assume $100.00 is the initial principle.\n",
    "6. Read two strings from the user.  The first string is a text block.  The second string is a character, series of characters, or a word to find within each word of the text block.  Split the first string by whitespace and then keep only those words that contain the second string.  Join the remaining words together into a string, separated by a comma.\n",
    "7. Given the following lists, generated random sentences by combining random words from each list in this order: _article noun verb preposition article noun_.<br>\n",
    "```\n",
    "article = [\"the\", \"a\", \"one\", \"some\", \"any\"]\n",
    "noun = [\"boy\", \"girl\", \"dog\", \"town\", \"car\"]\n",
    "verb = [\"drove\", \"jumped\", \"ran\", \"walked\", \"skipped\"]\n",
    "preposition = [\"to\", \"from\", \"over\", \"under\", \"on\"]\n",
    "```\n",
    "Capitalize the first word of the sentence and place a period at the end of the sentence. You can get a random element from a list with the following code: (the import statement only needs to occur once)<br>\n",
    "```\n",
    "import random\n",
    "random.choice(noun)\n",
    "```\n",
    "How would you repeat this five times?\n",
    "\n",
    "8. Write a function that converts an integer to a string with a specific base.<br>\n",
    "   `def convert_int_to_base(i, base=10):`"
   ]
  },
  {
   "cell_type": "markdown",
   "id": "4abfeac6",
   "metadata": {},
   "source": [
    "## References\n",
    "[1] Andrew D. Hilton, Genevieve M. Lipp, and Susan H. Rodger. 2019. _Translation from Problem to Code in Seven Steps_. In Proceedings of the ACM Conference on Global Computing Education (CompEd '19). Association for Computing Machinery, New York, NY, USA, 78–84. https://doi-org.prox.lib.ncsu.edu/10.1145/3300115.3309508"
   ]
  },
  {
   "cell_type": "code",
   "execution_count": null,
   "id": "81e36e87",
   "metadata": {},
   "outputs": [],
   "source": []
  }
 ],
 "metadata": {
  "kernelspec": {
   "display_name": "Python 3 (ipykernel)",
   "language": "python",
   "name": "python3"
  },
  "language_info": {
   "codemirror_mode": {
    "name": "ipython",
    "version": 3
   },
   "file_extension": ".py",
   "mimetype": "text/x-python",
   "name": "python",
   "nbconvert_exporter": "python",
   "pygments_lexer": "ipython3",
   "version": "3.10.4"
  }
 },
 "nbformat": 4,
 "nbformat_minor": 5
}
