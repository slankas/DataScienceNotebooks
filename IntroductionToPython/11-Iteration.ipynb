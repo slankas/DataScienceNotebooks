{
 "cells": [
  {
   "cell_type": "markdown",
   "id": "4f041c94",
   "metadata": {},
   "source": [
    "<div class=\"pagebreak\"></div>\n",
    "\n",
    "# Iteration\n",
    "In previous notebooks, we discussed control statements (e.g., `if`) to make decisions on which block of code to execute. \n",
    "\n",
    "From a structured programming point of view, three basic building blocks exist to construct algorithms:\n",
    "- sequence (executing statements one after another)\n",
    "- selection (making decisions, control statements, `if`)\n",
    "- iteration (repeatedly executing parts of a program - also known as repetition)\n",
    "\n",
    "This notebooks examines the last basic building block - iteration.\n",
    "\n",
    "Fortunately for us, computers do not tire or complain of doing the same thing time and time again.  Many programming tasks are naturally repetitive.  For example, if we did not know the formula for compounding interest, we could simply execute the base calculation (adding the interest earned to the principal) a given number of times.  Painfully boring for us, just something else for a computer to do.\n",
    "\n",
    "Going back to the Seven Steps, in the third step, we looked for ways to generalize our algorithm.  Finding repetitive patterns or behavior is another tool in this process.\n",
    "\n",
    "Generally speaking, two basic types of iteration exist:\n",
    "1. loop continues to be run as long a certain condition is true\n",
    "2. Set of instructions is repeated a fix number of times.\n",
    "\n",
    "In this notebook, we will examine `while` statement as that is how Python implements the first type and then the `for` loop which roughly implements the second type."
   ]
  },
  {
   "cell_type": "markdown",
   "id": "4ce2bc41",
   "metadata": {},
   "source": [
    "## Looping with while\n",
    "The while loop is a relatively simple looping mechanism that allows us to repeat a code block as long as the condition for the while statement remains `True`.\n",
    "\n",
    "Suppose you are a fan of _Getting Things Done_ and you maintain a list a current \"to do items\" while you are at your computer.  A pseudocode example for processing that list might look like - \n",
    "```\n",
    "while todo_list is not empty\n",
    "  - remove the first \"todo\" from the list\n",
    "  - process the \"todo\"\n",
    "```\n",
    "So the condition in this example is \"todo_list is not empty\".  In Python, we could simply use ```while todo_list:``` as todo_list evaluates to ```True``` if it has one or more entries and to `False` if it has zero entries.  Within each iteration of the loop, we remove an item from the list - so hopefully we will eventually finish that list.\n",
    "\n",
    "The while loop has the following syntax:\n",
    "```\n",
    "while condition:\n",
    "    block\n",
    "```\n",
    "If the condition evaluates to `True`, then the statements in the block are executed.  After the block executes, the entire statement repeats with evaluating the condition.  This repeats indefinitely until the condition evaluates to `False` or the block causes the flow of control to break out of the while statement.\n",
    "\n",
    "![](images/whileStatment.png)\n",
    "\n",
    "Here's a simple example that counts from 1 to 5:"
   ]
  },
  {
   "cell_type": "code",
   "execution_count": null,
   "id": "3d3902c3",
   "metadata": {},
   "outputs": [],
   "source": [
    "i = 1\n",
    "while i < 6:\n",
    "    print(i)\n",
    "    i = i + 1"
   ]
  },
  {
   "cell_type": "markdown",
   "id": "73e763b1",
   "metadata": {},
   "source": [
    "As with the `if` statement, the condition is any expression that evaluates to `True` or `False`. As these notebooks have shown, this includes numbers, strings, lists, and tuples.\n",
    "\n",
    "## Break and Continue\n",
    "As with many other programming languages, Python has two statements that can affect the execution of the loop from within the block (as opposed to just the while condition).\n",
    "\n",
    "With the `break` statement, execution immediately exits the block and execution proceeds with the statement after the loop.\n",
    "\n",
    "In the following example, we add a check that if i is divisible by 3, we exit the loop immediately."
   ]
  },
  {
   "cell_type": "code",
   "execution_count": null,
   "id": "deba3687",
   "metadata": {},
   "outputs": [],
   "source": [
    "i = 1\n",
    "while i < 6:\n",
    "    if (i % 3 == 0): \n",
    "        break\n",
    "    else:\n",
    "        print(i)\n",
    "        i = i + 1\n",
    "print (\"After the while loop\")"
   ]
  },
  {
   "cell_type": "markdown",
   "id": "b11b0c7b",
   "metadata": {},
   "source": [
    "Rather than exiting the loop immediately, the `continue` statement exits the current loop, but resumes with executing the condition at the top of the loop."
   ]
  },
  {
   "cell_type": "code",
   "execution_count": null,
   "id": "ccc7b8fb",
   "metadata": {},
   "outputs": [],
   "source": [
    "i = 1\n",
    "while i < 6:\n",
    "    if (i % 2 == 0): \n",
    "        i = i +1\n",
    "        continue\n",
    "    else:\n",
    "        print(i)\n",
    "        i = i +1\n",
    "    \n",
    "print (\"After the while loop\")"
   ]
  },
  {
   "cell_type": "markdown",
   "id": "7f2514a8",
   "metadata": {},
   "source": [
    "In the above loop, we had to change how we updated the variable _i_ as compared to the prior example.  If we had not changed the value for i before the continue statement, the program would have executed forever as the condition would have never changed.  See what happens when you execute this next code block.  You can stop the execution by clicking the stop button."
   ]
  },
  {
   "cell_type": "code",
   "execution_count": null,
   "id": "651c37b7",
   "metadata": {},
   "outputs": [],
   "source": [
    "i = 1\n",
    "while i < 6:\n",
    "    if (i % 2 == 0): \n",
    "        continue\n",
    "    else:\n",
    "        print(i)\n",
    "        i = i +1\n",
    "    \n",
    "print (\"After the while loop\")"
   ]
  },
  {
   "cell_type": "markdown",
   "id": "8c4798d5",
   "metadata": {},
   "source": [
    "To avoid infinite loops such as the above, the statements within the `while` block should occur such that the test condition eventually evaluates to `False`."
   ]
  },
  {
   "cell_type": "markdown",
   "id": "c7b52942",
   "metadata": {},
   "source": [
    "## While Example: Fibonacci Series\n",
    "The following code fragment prints out the first nine numbers of a [Fibonacci series](https://en.wikipedia.org/wiki/Fibonacci_number) starting at zero.\n",
    "\n",
    "Source: [Python Tutorial](https://docs.python.org/3/tutorial/introduction.html#first-steps-towards-programming)"
   ]
  },
  {
   "cell_type": "code",
   "execution_count": 1,
   "id": "7e0f0752",
   "metadata": {},
   "outputs": [
    {
     "name": "stdout",
     "output_type": "stream",
     "text": [
      "0, 1, 1, 2, 3, 5, 8, 13, 21\n"
     ]
    }
   ],
   "source": [
    "a, b = 0, 1\n",
    "while a < 20:\n",
    "    print (a,end=', ')\n",
    "    a, b = b, a + b\n",
    "print (a)"
   ]
  },
  {
   "cell_type": "markdown",
   "id": "fe6d1338",
   "metadata": {},
   "source": [
    "There's several interesting things present in these five lines of code:\n",
    "- Lines 1 and 4 both demonstrate parallel (multiple) assignment.  The expressions on the right side of the assignment statement ```=``` are evaluated left to right.  After all of the expressions have been evaluated, the result of each expression is then assigned to the corresponding variable on the left hand side.\n",
    "- We show a ```while``` loop, which executes as long as the condition (```a < 20```) remains true.  \n",
    "- Notice that final ```print()``` statement in these examples prints the newline character. \n",
    "- This loop is an example of a _fencepost loop_.  Notice in the loop we print a number followed by a comma.  However, we don't want the last number printed to have a comma, and hence, treat it specially outside of the loop.  That last statement is the closing \"post\" in a fence line.\n",
    "\n",
    "![](images/fencepost.png)\n",
    "\n",
    "Many different approaches exist to solve the fencepost loop issue.  We can choose to special case the first \"post\". We can also add an `if` statement to print the separator after the first occurrence in the loop."
   ]
  },
  {
   "cell_type": "code",
   "execution_count": null,
   "id": "bb84b095",
   "metadata": {},
   "outputs": [],
   "source": [
    "a, b = 0, 1\n",
    "print (a, end='')\n",
    "while a < 20:\n",
    "    print (\",\",b,end='')\n",
    "    a, b = b, a + b\n",
    "print ()"
   ]
  },
  {
   "cell_type": "code",
   "execution_count": null,
   "id": "4875a40e",
   "metadata": {},
   "outputs": [],
   "source": [
    "a, b = 0, 1\n",
    "while a < 22:  # logic change to show \"21\"\n",
    "    if (a >0):\n",
    "        print (', ',end='')\n",
    "    print (a,end='')\n",
    "    a, b = b, a + b\n",
    "print()"
   ]
  },
  {
   "cell_type": "markdown",
   "id": "f8455ac1",
   "metadata": {},
   "source": [
    "## The Infinite While Loop\n",
    "A relative common pattern in iteration is too loop forever.  In Python, is would look something like\n",
    "<pre>\n",
    "while True:\n",
    "    <i>do something interesting</i>\n",
    "</pre>\n",
    "\n",
    "For a web server, the pseudocode for the application may look something like -\n",
    "<i><pre>\n",
    "    initialize system\n",
    "    loop forever\n",
    "        wait for url request\n",
    "        process url request\n",
    "</pre></i>\n",
    "A game engine may have an overall control such as \n",
    "<i><pre>\n",
    "    initialize game\n",
    "    loop forever\n",
    "        process any received user input\n",
    "        status = update game state\n",
    "        if status equals \"stop\", break out of loop\n",
    "        draw game state \n",
    "    process end of game\n",
    "</pre></i>"
   ]
  },
  {
   "cell_type": "markdown",
   "id": "ad2122d8",
   "metadata": {},
   "source": [
    "<div style=\"border: 3px solid black;padding: 10px; border-radius: 10px;\">\n",
    "From a design point of view, this pseudocode exemplifies a top-down design approach.  Most of the steps don't have enough detail to convert directly to code.  When this occurs, we then need to look at breaking down the statements into more specific tasks until the translation to code becomes straightforward.\n",
    "<br><br>\n",
    "For the webserver, <i>initialize system</i> might become\n",
    "<i><pre>\n",
    "read configuration file\n",
    "establish logging\n",
    "create server socket to listen for requests\n",
    "</pre></i>\n",
    "</div>"
   ]
  },
  {
   "cell_type": "markdown",
   "id": "19a79c07",
   "metadata": {},
   "source": [
    "### Loop and a half problem\n",
    "Another common occurrence with while loops is the \"loop and a half\" problem.  In these cases, we need to perform some processing for an indeterminate number of iterations.\n",
    "\n",
    "Example: Continually read grades from a user until they enter a negative value which signifies they are done entering grades. (The negative value functions as a sentinel, which is a special value to mark the end of series of inputs or values. Sentinels need to be distinctive from regular values in the series.)\n",
    "\n",
    "One approach would be to read the first input before entering the loop:"
   ]
  },
  {
   "cell_type": "code",
   "execution_count": null,
   "id": "2f044606",
   "metadata": {},
   "outputs": [],
   "source": [
    "total = 0\n",
    "num_entries = 0\n",
    "\n",
    "grade = int(input(\"Enter a grade: \"))\n",
    "while grade > 0:\n",
    "    total += grade\n",
    "    num_entries += 1\n",
    "    grade = int(input(\"Enter a grade: \"))\n",
    "\n",
    "if num_entries > 0:\n",
    "    print(\"Average:\",total/num_entries)\n",
    "else:\n",
    "    print(\"no grades entered\")"
   ]
  },
  {
   "cell_type": "markdown",
   "id": "ebefd2aa",
   "metadata": {},
   "source": [
    "The downside to the above solution is that we have repeated code outside and inside the loop to enter grades. This example is relatively straightforward, but what if this repeated code was more complex? What happens when it needs to be changed?  What if it was only changed in one location?  \n",
    "\n",
    "An alternate approach is to use a \"loop and a half structure\". This structure breaks out of the loop halfway when a particular condition is reached."
   ]
  },
  {
   "cell_type": "code",
   "execution_count": null,
   "id": "43072d8a",
   "metadata": {},
   "outputs": [],
   "source": [
    "total = 0\n",
    "num_entries = 0\n",
    "\n",
    "while True:\n",
    "    grade = int(input(\"Enter a grade: \"))\n",
    "    if grade < 0:\n",
    "        break\n",
    "    total += grade\n",
    "    num_entries += 1\n",
    "\n",
    "if num_entries > 0:\n",
    "    print(\"Average:\",total/num_entries)\n",
    "else:\n",
    "    print(\"no grades entered\")"
   ]
  },
  {
   "cell_type": "markdown",
   "id": "c16b936e",
   "metadata": {},
   "source": [
    "## The for loop\n",
    "Python's for loop differs from the for loops in other languages such a C, although it is roughly comparable to Java's for each loop.\n",
    "\n",
    "With this looping statement, we iterate over the items of an iterable - the sequences we have seen (string, list, and tuple) are iterables. \n",
    "\n",
    "The for loop has the following syntax:\n",
    "```\n",
    "for variable in iterable:\n",
    "    block\n",
    "```"
   ]
  },
  {
   "cell_type": "code",
   "execution_count": null,
   "id": "78c18eb4",
   "metadata": {},
   "outputs": [],
   "source": [
    "acc_schools = [\"Duke\", \"Notre Dame\", \"UNC\", \"NCSU\", \"Wake Forest\", \"Clemson\"]\n",
    "for school in acc_schools:\n",
    "    print(school)"
   ]
  },
  {
   "cell_type": "markdown",
   "id": "09891c97",
   "metadata": {},
   "source": [
    "As with the while loop, the break and continue statements can be used within for statements."
   ]
  },
  {
   "cell_type": "markdown",
   "id": "a47e70dc",
   "metadata": {},
   "source": [
    "## Else - Was break used?\n",
    "Fairly unique to Python, the `else` statement can be added to the end of both while and for loops.  The else block will only be called if the break statement was not called.\n",
    "\n",
    "A typical use case for the else clause is searching for a particular item in a list.  The loop would break as soon as the item is found.  However, if the item is not found, then there might be something else that needs to be executed."
   ]
  },
  {
   "cell_type": "code",
   "execution_count": null,
   "id": "b42426c4",
   "metadata": {},
   "outputs": [],
   "source": [
    "acc_schools = [\"Duke\", \"Notre Dame\", \"UNC\", \"NCSU\", \"Wake Forest\", \"Clemson\"]\n",
    "for school in acc_schools:\n",
    "    if school == \"Wake Forest\":\n",
    "        break\n",
    "    print(\"searching\")\n",
    "else:\n",
    "    print(\"Not found - break was not called\")"
   ]
  },
  {
   "cell_type": "code",
   "execution_count": null,
   "id": "6c77ba4b",
   "metadata": {},
   "outputs": [],
   "source": [
    "acc_schools = [\"Duke\", \"Notre Dame\", \"UNC\", \"NCSU\", \"Wake Forest\", \"Clemson\"]\n",
    "for school in acc_schools:\n",
    "    if school == \"Miami\":\n",
    "        break\n",
    "    print(\"searching\")\n",
    "else:\n",
    "    print(\"Not found - break was not called\")"
   ]
  },
  {
   "cell_type": "code",
   "execution_count": null,
   "id": "762fde31",
   "metadata": {},
   "outputs": [],
   "source": [
    "x = 1\n",
    "while x < 3:\n",
    "    print(x)\n",
    "    x = x + 1\n",
    "    if x % 5 == 0:\n",
    "        break\n",
    "else:\n",
    "    print(\"else - the loop ended after the condition x < 3 evaluated to False, break was not called\")"
   ]
  },
  {
   "cell_type": "markdown",
   "id": "db25c1b7",
   "metadata": {},
   "source": [
    "## Generating Number Sequences: range()\n",
    "Python offers a built-in function `range` to generate a stream of numbers.  We call `range()` in a similarly manner as how we used slices:  <code>range(<i>start</i>, <i>stop</i>, <i>step</i>)</code>.\n",
    "\n",
    "Only _stop_ is required.  If _start_ is omitted, the range starts at 0.  The range ends just before the value of stop.  Step has a default value of 1, but we can use any nonzero integer."
   ]
  },
  {
   "cell_type": "code",
   "execution_count": null,
   "id": "5808fef7",
   "metadata": {},
   "outputs": [],
   "source": [
    "for x in range(0, 4):\n",
    "    print(x)"
   ]
  },
  {
   "cell_type": "code",
   "execution_count": null,
   "id": "326f2bdb",
   "metadata": {},
   "outputs": [],
   "source": [
    "for x in range(4, 0, -1):\n",
    "    print(x)"
   ]
  },
  {
   "cell_type": "markdown",
   "id": "15492e66",
   "metadata": {},
   "source": [
    "Using the above code,  use `range()` with just a stop number.\n",
    "\n",
    "Try some more examples yourself:"
   ]
  },
  {
   "cell_type": "code",
   "execution_count": null,
   "id": "e8c9e2d9",
   "metadata": {},
   "outputs": [],
   "source": [
    "# Enter a range from 10 to 0, skipping by 2's\n",
    "for x in range():\n",
    "    print(x)\n",
    "\n",
    "# Enter a ranger from 1 to 30, skipping by 3's\n",
    "for x in range ():\n",
    "    print(x)"
   ]
  },
  {
   "cell_type": "markdown",
   "id": "f51c950f",
   "metadata": {},
   "source": [
    "From a space perspective, the numbers are not actually produced until that number is needed - this allows us to create arbitrarily large ranges. However, if you create a list immediately from a range, then all of the numbers are generated and stored in that list."
   ]
  },
  {
   "cell_type": "code",
   "execution_count": null,
   "id": "0e304eb4",
   "metadata": {},
   "outputs": [],
   "source": [
    "list(range(1,11))"
   ]
  },
  {
   "cell_type": "markdown",
   "id": "201b81de",
   "metadata": {},
   "source": [
    "## Indexes and Values with the for loop\n",
    "Generally speaking, it is bad practice to explicitly use an index variable to iterate through a squence.  However, use cases do exist where the programmer needs both the index and value of an item while looping. For this, we can use the built-in function `enumerate()` to wrap the iterable in a for loop."
   ]
  },
  {
   "cell_type": "code",
   "execution_count": 2,
   "id": "fae3d4ca",
   "metadata": {},
   "outputs": [
    {
     "name": "stdout",
     "output_type": "stream",
     "text": [
      "0: Duke\n",
      "1: Notre Dame\n",
      "2: UNC\n",
      "3: NCSU\n",
      "4: Wake Forest\n",
      "5: Clemson\n"
     ]
    }
   ],
   "source": [
    "acc_schools = [\"Duke\", \"Notre Dame\", \"UNC\", \"NCSU\", \"Wake Forest\", \"Clemson\"]\n",
    "for idx, school in enumerate(acc_schools):\n",
    "    print(\"{}: {}\".format(idx,school))"
   ]
  },
  {
   "cell_type": "markdown",
   "id": "622467a0",
   "metadata": {},
   "source": [
    "## Case Study: Revisiting the Systematic Investment Plan\n",
    "In the notebook on Basic Input and Output, we explored developing and writing the corresponding code to find the future value of a systematic investment Plan.  In that case, we assumed we could use an existing and well-known formula.  However, what if we decided to perform the calculations manually?  At the time, we did not have any mechanisms to repeat code.  If we had a 100 payments, we would have had a 100 statements, each one adding a payment and the corresponding interest earned. However, with the iteration statements in this notebook, a Python script could easily do that work.\n",
    "\n",
    "Problem: Write a function called future_value_sytematic_investment that computes the future value of a SIP for a given payment, annual interest rate, number of payments, and the number of periods per year.\n",
    "\n",
    "Let's repeat the Seven Steps design process:[1]\n",
    "![](images/sevensteps.png)"
   ]
  },
  {
   "cell_type": "markdown",
   "id": "300569aa",
   "metadata": {},
   "source": [
    "So let's manully do this for 3 periods, assuming 10% interest rate per period, and $100 per payment.\n",
    "<pre>\n",
    "iteration 1: total = payment \n",
    "iteration 2: total = payment + previous total + previous total * interest\n",
    "iteration 3: total = payment + previous total + previous total * interest\n",
    "</pre>\n",
    "hmmm.... looks like our iteration states are pretty much the same, but can we make the first one look like the others?\n",
    "<pre>\n",
    "iteration 0: total = 0 \n",
    "iteration 1: total = payment + previous total + previous total * interest  \n",
    "             (Note: The previous total = 0, so total = payment as before\n",
    "iteration 2: total = payment + previous total + previous total * interest\n",
    "iteration 3: total = payment + previous total + previous total * interest\n",
    "</pre>\n",
    "We can also factor out the previous total in each iteration:\n",
    "<pre>\n",
    "total = payment + previous total * (1 + interest)\n",
    "</pre>"
   ]
  },
  {
   "cell_type": "markdown",
   "id": "b3980577",
   "metadata": {},
   "source": [
    "Now, how will this work for different values? We probably will still have overflow errors for large interest rates.  However, we no longer are doing any division, so a 0% interest rate is no longer a problem.  Negative interest rates smaller than -1 may cause issues. The number of periods per year needs to more more than 0.\n",
    "\n",
    "<pre>\n",
    "inputs: payment amount, annual interest rate, total payments, periods per year\n",
    "output: future value\n",
    "algorithm:\n",
    "    periodic rate = annual interest rate / periods per year\n",
    "    result = 0\n",
    "    for total payments:\n",
    "        result = payment + result  * (1+periodic rate)\n",
    "    return result   \n",
    "</pre>\n",
    "\n",
    "\n",
    "Let's move on to coding:"
   ]
  },
  {
   "cell_type": "code",
   "execution_count": null,
   "id": "5c02d78f",
   "metadata": {},
   "outputs": [],
   "source": [
    "def future_value_sytematic_investment(payment_amount, annual_interest_rate, \n",
    "                                     num_payments, num_periods_per_year):\n",
    "    periodic_interest_rate = annual_interest_rate / num_periods_per_year\n",
    "    result = 0\n",
    "    for x in range(num_payments):\n",
    "        result = payment + result * (1+periodic_interest_rate)\n",
    "        print result\n",
    "    return result\n",
    "\n",
    "fv = future_value_sytematic_investment(100,10,5,1)\n",
    "print(\"Future value: ${:,.2}\".format(fv))"
   ]
  },
  {
   "cell_type": "markdown",
   "id": "70cc3fd4",
   "metadata": {},
   "source": [
    "sigh ... our intermediate printing caused an error.  This is why debuggers are a good thing ..."
   ]
  },
  {
   "cell_type": "code",
   "execution_count": null,
   "id": "3d779225",
   "metadata": {},
   "outputs": [],
   "source": [
    "def future_value_sytematic_investment(payment, annual_interest_rate, \n",
    "                                     num_payments, num_periods_per_year):\n",
    "    periodic_interest_rate = annual_interest_rate / num_periods_per_year\n",
    "    result = 0\n",
    "    for x in range(num_payments):\n",
    "        result = payment + result * (1+periodic_interest_rate)\n",
    "        print(result)\n",
    "    return result\n",
    "\n",
    "fv = future_value_sytematic_investment(100,.10,5,1)\n",
    "print(\"Future value: ${:,.2f}\".format(fv))"
   ]
  },
  {
   "cell_type": "code",
   "execution_count": null,
   "id": "339e5e7a",
   "metadata": {},
   "outputs": [],
   "source": [
    "print(\"Future value: ${:,.2f}\".format(future_value_sytematic_investment(100,.1,5,12)))"
   ]
  },
  {
   "cell_type": "code",
   "execution_count": null,
   "id": "4d96d620",
   "metadata": {},
   "outputs": [],
   "source": [
    "print(\"Future value: ${:,.2f}\".format(future_value_sytematic_investment(100,-5,5,1)))"
   ]
  },
  {
   "cell_type": "markdown",
   "id": "b1ec7888",
   "metadata": {},
   "source": [
    "Well, hopefully, the losses won't be too great as large negative numbers are problematic. We'll learn some methods to make our code more robust in a few notebooks. \n",
    "\n",
    "Now, we need to go back and clean up our function to remove that test print statement. We should also add docstrings to provide help on this function."
   ]
  },
  {
   "cell_type": "code",
   "execution_count": null,
   "id": "43596d06",
   "metadata": {},
   "outputs": [],
   "source": [
    "def future_value_sytematic_investment(payment, annual_interest_rate, \n",
    "                                     num_payments, num_periods_per_year):\n",
    "    \"\"\"Computes the future value of a systematic investment plan\n",
    "\n",
    "    Args:\n",
    "      payment: How much money is put into the plan each period?\n",
    "      annual_interest_rate: What is the assumed interest rate for the plan?\n",
    "      num_payments: How many payments will the investor make in total?\n",
    "      num_periods_per_year: How many payments/periods are there in a year\n",
    "\n",
    "    Returns:\n",
    "      future value of the investment\n",
    "    \"\"\"\n",
    "    periodic_interest_rate = annual_interest_rate / num_periods_per_year\n",
    "    result = 0\n",
    "    for x in range(num_payments):\n",
    "        result = payment + result * (1+periodic_interest_rate)\n",
    "    return result"
   ]
  },
  {
   "cell_type": "code",
   "execution_count": null,
   "id": "f3d546ef",
   "metadata": {},
   "outputs": [],
   "source": [
    "print(\"Future value: ${:,.2f}\".format(future_value_sytematic_investment(100,0.07,360,12)))"
   ]
  },
  {
   "cell_type": "markdown",
   "id": "41d9c648",
   "metadata": {},
   "source": [
    "## Case Study: Monte Carlo Simulation\n",
    "A common approach to determine whether or not an investment strategy will produce sufficient funds for retirement is to use a [Monte Carlo Simulation](https://en.wikipedia.org/wiki/Monte_Carlo_method) of investment returns.  \n",
    "\n",
    "We can apply this method to our `future_value_systematic_investment()` function.  However, rather than assuming a fixed interest rate, we can random select return values.  One possibility would be to select a random historical return of the DJIA. Another possibility is to use random numbers from a Gaussian distribution defined with a given mean and standard deviation.  \n",
    "\n",
    "Let's look at modifying our future value method to instead use a random interest rate annually.  We will also simplify our method such that we only use one interest rate per year.\n",
    "\n",
    "Jotting down some notes, we now have inputs: payment, num_payments, rate_mean, rate_stdev\n",
    "<br>Process looks to be the same, except periodic_interest rate is now a random value.\n",
    "\n",
    "We need to look if we can make this process even more generic. How have other people produced these calculations?  In some situations, they assume an initial principal.  Let's add that too, but we can make this an optional parameter, defaulting the amount to 0."
   ]
  },
  {
   "cell_type": "code",
   "execution_count": 3,
   "id": "1535a2ef",
   "metadata": {},
   "outputs": [],
   "source": [
    "import random"
   ]
  },
  {
   "cell_type": "code",
   "execution_count": 4,
   "id": "efa27578",
   "metadata": {},
   "outputs": [],
   "source": [
    "def future_value_sytematic_investment_random(payment, num_payments, rate_mean, rate_stdev,\n",
    "                                            initial_principal = 0.0):\n",
    "    \"\"\"Computes the future value of a systematic investment plan, but use random \n",
    "       interest rates from a gaussian distribution.\n",
    "\n",
    "    Args:\n",
    "      payment: How much money is put into the plan annually?\n",
    "      num_payments: How many payments will the investor make in total?\n",
    "      rate_mean: assumed mean of the interest rate\n",
    "      rate_stdev: assumed standard deviation for the interest rate\n",
    "      initial_principal: what is the initial amount (value) in the account? Defaults to 0\n",
    "\n",
    "    Returns:\n",
    "      future value of the investment\n",
    "    \"\"\"\n",
    "    result = initial_principal\n",
    "    for x in range(num_payments):\n",
    "        interest_rate = random.gauss(rate_mean, rate_stdev)\n",
    "        result = payment + result * (1+interest_rate)\n",
    "    return result"
   ]
  },
  {
   "cell_type": "code",
   "execution_count": 5,
   "id": "f6446810",
   "metadata": {},
   "outputs": [
    {
     "name": "stdout",
     "output_type": "stream",
     "text": [
      "Future value: $46,894.82\n"
     ]
    }
   ],
   "source": [
    "print(\"Future value: ${:,.2f}\".format(future_value_sytematic_investment_random(1200,30,0.07,.2)))"
   ]
  },
  {
   "cell_type": "markdown",
   "id": "c4529c2e",
   "metadata": {},
   "source": [
    "As we run the above cell multiple times, we will get a wide number of different answers.  Some will be larger than the \\$121,000 we computed before, other results smaller.  We can't just simply take the number we like the best. \n",
    "\n",
    "So to properly perform this simulation, we need to perform this experiment thousands of times and then analyze the results."
   ]
  },
  {
   "cell_type": "code",
   "execution_count": 6,
   "id": "fadf0993",
   "metadata": {},
   "outputs": [],
   "source": [
    "results = []\n",
    "for x in range(10000):\n",
    "    results.append(future_value_sytematic_investment_random(1200,30,0.07,.2))"
   ]
  },
  {
   "cell_type": "code",
   "execution_count": 7,
   "id": "60fffa76",
   "metadata": {},
   "outputs": [
    {
     "name": "stdout",
     "output_type": "stream",
     "text": [
      "112743.96273552651\n"
     ]
    }
   ],
   "source": [
    "mean = sum(results)/len(results)\n",
    "print(mean)"
   ]
  },
  {
   "cell_type": "code",
   "execution_count": 8,
   "id": "6d2a9306",
   "metadata": {},
   "outputs": [
    {
     "name": "stdout",
     "output_type": "stream",
     "text": [
      "85237.28353448064\n"
     ]
    }
   ],
   "source": [
    "returns_sorted= sorted(results)\n",
    "\n",
    "median = returns_sorted[len(returns_sorted)//2] if len(returns_sorted)%2 == 1 else (returns_sorted[len(returns_sorted)//2] + returns_sorted[1 +len(returns_sorted)//2])/2\n",
    "print(median)"
   ]
  },
  {
   "cell_type": "markdown",
   "id": "6331fbf6",
   "metadata": {},
   "source": [
    "### Visualize Results\n",
    "Here we'll bring in a visualization library, [seaborn](https://seaborn.pydata.org/), to see the distribution of future values as well as the empirical cumulative distribution."
   ]
  },
  {
   "cell_type": "code",
   "execution_count": 9,
   "id": "735a8c28",
   "metadata": {},
   "outputs": [
    {
     "data": {
      "text/plain": [
       "[Text(0.5, 0, 'Future value'), Text(0, 0.5, 'Count')]"
      ]
     },
     "execution_count": 9,
     "metadata": {},
     "output_type": "execute_result"
    },
    {
     "data": {
      "image/png": "[encoded data removed]",
      "text/plain": [
       "<Figure size 432x288 with 1 Axes>"
      ]
     },
     "metadata": {
      "needs_background": "light"
     },
     "output_type": "display_data"
    }
   ],
   "source": [
    "import seaborn as sns\n",
    "\n",
    "sns.set(rc={'figure.figsize':(20,10)})\n",
    "sns.set_style('white')\n",
    "axes = sns.histplot(results,bins=50)\n",
    "axes.set_title(\"Systematic Investment Plan Distribution\")\n",
    "axes.ticklabel_format(style='plain', axis='x',useOffset=False)\n",
    "axes.set(xlabel='Future value', ylabel='Count')"
   ]
  },
  {
   "cell_type": "code",
   "execution_count": 10,
   "id": "03f5b5ab",
   "metadata": {},
   "outputs": [
    {
     "data": {
      "text/plain": [
       "(0.0, 500000.0)"
      ]
     },
     "execution_count": 10,
     "metadata": {},
     "output_type": "execute_result"
    },
    {
     "data": {
      "image/png": "[encoded data removed]",
      "text/plain": [
       "<Figure size 432x288 with 1 Axes>"
      ]
     },
     "metadata": {
      "needs_background": "light"
     },
     "output_type": "display_data"
    }
   ],
   "source": [
    "axes = sns.histplot(results,bins=100)\n",
    "axes.set_title(\"Systematic Investment Plan Distribution\")\n",
    "axes.ticklabel_format(style='plain', axis='x',useOffset=False)\n",
    "axes.set(xlabel='Future value', ylabel='Count')\n",
    "axes.axvline(mean)        # draw a vertical bar for the mean\n",
    "axes.axvline(median,linestyle='--')  # vertical bar for the median, dashed\n",
    "axes.set_xlim(0, 500000)  # Distribution is long-tailed,  lets chop off those rare values"
   ]
  },
  {
   "cell_type": "code",
   "execution_count": 11,
   "id": "a891be67",
   "metadata": {},
   "outputs": [
    {
     "data": {
      "text/plain": [
       "(0.0, 200000.0)"
      ]
     },
     "execution_count": 11,
     "metadata": {},
     "output_type": "execute_result"
    },
    {
     "data": {
      "image/png": "[encoded data removed]",
      "text/plain": [
       "<Figure size 432x288 with 1 Axes>"
      ]
     },
     "metadata": {
      "needs_background": "light"
     },
     "output_type": "display_data"
    }
   ],
   "source": [
    "axes = sns.ecdfplot(results)\n",
    "axes.set_title(\"Cumulative Distribution Function: Future Value of a Systematic Investment Plane\")\n",
    "axes.ticklabel_format(style='plain', axis='x',useOffset=False)\n",
    "axes.set(xlabel='Future value')\n",
    "axes.axvline(mean)        # draw a vertical bar for the mean\n",
    "axes.axvline(median,linestyle='--')  # vertical bar for our median, dashed line\n",
    "axes.set_xlim(0, 200000)  # limit to focus on the lower returns"
   ]
  },
  {
   "cell_type": "markdown",
   "id": "f66cd858",
   "metadata": {},
   "source": [
    "## Exercises\n",
    "1. Write a function greater_than_x that takes two parameters: a list and a number.  The function should return a new list consisting of any entries in the list greater than the number.  Assume all entries in the list are numbers.\n",
    "2. Given this list of closing stock prices, create functions to compute the mean, median, and standard deviation.  Assume that we have a sample, but you can also write your function to make this an optional flag.\n",
    "```\n",
    "stock_prices = [ 123.75, 124.38, 121.78, 123.24, 122.41, 121.78, 127.88, 127.81, 128.70, 131.88]\n",
    "```\n",
    "3. Generate a range that produces the following number 10,12,14,16,18, and 20.\n",
    "4. Create a guessing game.  Generate a random number between 1 and 100.  Have the user guess.  Print a message if the guess is too high, too low, or correct.  Repeat the user guessing until the correct answer is guessed.  Print the number of guesses.  You can use the following code to create the random number:<br>\n",
    "```\n",
    "import random\n",
    "number = random.randint(1, 100)\n",
    "```\n",
    "\n",
    "5. Produce a compound interest chart for for 10 years using 1 to 15%.  The x-axis should be the interest with the y-axis being the years.  The numbers should be right justified.  Assume $100.00 is the initial principle.\n",
    "6. Read two strings from the user.  The first string is a text block.  The second string is a character, series of characters, or word to find within each word of the text block.  You should split the first string by whitespace and then keep only those words that contain the second string.  Join the remaining words together into a string, separated by a comma.\n",
    "7. Given the following lists, generated random sentences by combining random words from each list in this order: _article noun verb preposition artice noun_.<br>\n",
    "```\n",
    "article = [\"the\", \"a\", \"one\", \"some\", \"any\"]\n",
    "noun = [\"boy\", \"girl\", \"dog\", \"town\", \"car\"]\n",
    "verb = [\"drove\", \"jumped\", \"ran\", \"walked\", \"skipped\"]\n",
    "preposition = [\"to\", \"from\", \"over\", \"under\", \"on\"]\n",
    "```\n",
    "The first word of the sentence should be capitalized and the sentence should end with a period. You can get a random element from a list with the following code: (the import statement only needs to occur once)<br>\n",
    "```\n",
    "import random\n",
    "random.choice(noun)\n",
    "```\n",
    "How would you repeat this 5 times?\n",
    "\n",
    "8. Write a function that converts an integer to a string with a specific base.<br>\n",
    "   `def convert_int_to_base(i, base=10):`"
   ]
  },
  {
   "cell_type": "markdown",
   "id": "4abfeac6",
   "metadata": {},
   "source": [
    "## References\n",
    "[1] Andrew D. Hilton, Genevieve M. Lipp, and Susan H. Rodger. 2019. _Translation from Problem to Code in Seven Steps_. In Proceedings of the ACM Conference on Global Computing Education (CompEd '19). Association for Computing Machinery, New York, NY, USA, 78–84. https://doi-org.prox.lib.ncsu.edu/10.1145/3300115.3309508"
   ]
  },
  {
   "cell_type": "code",
   "execution_count": null,
   "id": "81e36e87",
   "metadata": {},
   "outputs": [],
   "source": []
  }
 ],
 "metadata": {
  "kernelspec": {
   "display_name": "Python 3 (ipykernel)",
   "language": "python",
   "name": "python3"
  },
  "language_info": {
   "codemirror_mode": {
    "name": "ipython",
    "version": 3
   },
   "file_extension": ".py",
   "mimetype": "text/x-python",
   "name": "python",
   "nbconvert_exporter": "python",
   "pygments_lexer": "ipython3",
   "version": "3.10.4"
  }
 },
 "nbformat": 4,
 "nbformat_minor": 5
}
