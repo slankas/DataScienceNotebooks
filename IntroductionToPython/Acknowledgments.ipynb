{
 "cells": [
  {
   "cell_type": "markdown",
   "id": "5f42db20",
   "metadata": {},
   "source": [
    "# Acknowledgments\n",
    "\n",
    "Many individuals have contributed to those notebooks.  Many have been the teachers and my co-workers throughout the years that have helped guide my career.\n",
    "\n",
    "Specifically, the follow individual's have provided input through their course materials that have shaped these notebooks:\n",
    "- Suzanne Balik, North Carolina State University\n",
    "- Drew Hilton, Duke University\n",
    "- Jimmie Lenz, Duke University\n",
    "- Patrick Morrison, Duke University\n",
    "- Jessica Schmidt, North Carolina State Univerity\n"
   ]
  },
  {
   "cell_type": "code",
   "execution_count": null,
   "id": "5d90d912",
   "metadata": {},
   "outputs": [],
   "source": []
  }
 ],
 "metadata": {
  "kernelspec": {
   "display_name": "Python 3 (ipykernel)",
   "language": "python",
   "name": "python3"
  },
  "language_info": {
   "codemirror_mode": {
    "name": "ipython",
    "version": 3
   },
   "file_extension": ".py",
   "mimetype": "text/x-python",
   "name": "python",
   "nbconvert_exporter": "python",
   "pygments_lexer": "ipython3",
   "version": "3.10.4"
  }
 },
 "nbformat": 4,
 "nbformat_minor": 5
}
