{
 "cells": [
  {
   "cell_type": "markdown",
   "id": "3b317941",
   "metadata": {},
   "source": [
    "<div class=\"pagebreak\"></div>\n",
    "\n",
    "# Debugging Strategies\n",
    "\n"
   ]
  },
  {
   "cell_type": "markdown",
   "id": "7fb8b0f2",
   "metadata": {},
   "source": [
    "Debugging is the process of fixing issues found in your code. These issues belong to different error categories: syntactic, runtime, and semantic.\n",
    "\n",
    "_Syntactic errors_ occur when we do not follow the formal grammar defined by the programming language. For example, we forget to include parenthesis around calls to a function."
   ]
  },
  {
   "cell_type": "code",
   "execution_count": 2,
   "id": "458ba6f7",
   "metadata": {},
   "outputs": [
    {
     "ename": "SyntaxError",
     "evalue": "Missing parentheses in call to 'print'. Did you mean print(...)? (1189891764.py, line 1)",
     "output_type": "error",
     "traceback": [
      "\u001b[0;36m  Input \u001b[0;32mIn [2]\u001b[0;36m\u001b[0m\n\u001b[0;31m    print \"This causes a syntax\" error..\u001b[0m\n\u001b[0m    ^\u001b[0m\n\u001b[0;31mSyntaxError\u001b[0m\u001b[0;31m:\u001b[0m Missing parentheses in call to 'print'. Did you mean print(...)?\n"
     ]
    }
   ],
   "source": [
    "print \"This causes a syntax\" error.."
   ]
  },
  {
   "cell_type": "markdown",
   "id": "8d58447d",
   "metadata": {},
   "source": [
    "These issues are generally the easiest to solve. The interpreter immediately stops the program execution and reports the error. Fix the code block and re-execute."
   ]
  },
  {
   "cell_type": "code",
   "execution_count": null,
   "id": "9ca3316b",
   "metadata": {},
   "outputs": [],
   "source": [
    "print(\"Now this code runs correctly.\")"
   ]
  },
  {
   "cell_type": "markdown",
   "id": "b3706d61",
   "metadata": {},
   "source": [
    "_Runtime errors_ occur when the Python interpreter executes legally syntactic code, but there is some issue with the code, and the interpreter cannot continue normal execution. Examples of runtime errors include not defining variables before use and division by zero. The interpreter indicates these errors with the presence of a “Traceback” - statement sequences and function calls that led to the error. These errors may or may not be easy to fix. Sometimes the variable not being defined is just a typo. Other times, we need to see how the particular condition that led to that error arose.\n",
    "\n",
    "_Semantic errors_ (_logic errors_) occur when the program executes without issues but produces the wrong result. These issues usually arise due to a logical mistake. Completely understanding all of the different possible inputs a program may process and how our code reacts to those inputs can be challenging. Our minds can only track so many possibilities simultaneously. Other times we may be using code or services that others developed; that code may react in unexpected ways."
   ]
  },
  {
   "cell_type": "markdown",
   "id": "3ec563f6",
   "metadata": {},
   "source": [
    "As you find and fix issues, several strategies exist:\n",
    "\n",
    "**Replicate:** In more complex situations, replicating a particular issue can be a challenge in and of itself. However, replication is an essential task. Once you replicate an issue, you can understand the inputs and other ancillary factors that led to the problem.\n",
    "\n",
    "**Read:** Read your source code. Walk through it mentally.  Does the code execute the way you intended? \n",
    "\n",
    "**Run:** Execute your code. Step through your code with a debugger or add print statements to the code to print the program's current state. Experiment with running slightly different code versions to see what occurs. This strategy is not to randomly try random things (e.g., throwing something at a wall until it sticks) but rather to systematically investigate an issue.\n",
    "\n",
    "**Reflect:** Reflect on the issue.  What is the interpreter telling you?  How could the code and inputs cause the issue?  If you recently made a change, did that change have any impact? With this strategy, you should develop \"educated guesses\" about what may be the cause. Then look to see how you can test to validate or eliminate those possibilities.\n",
    "\n",
    "**\"Ask a Friend\":** Try explaining your code and issues to a fellow student or coworker. Sometimes, this process lets you find the issue on your own in a moment of \"oh duh, that is what happened\". If not, the other person may have some good ideas to investigate.\n",
    "\n",
    "**Pause:** Sometimes, the best approach is to step back. Grab a beverage and take a break.  \n",
    "\n",
    "**Research:** Do you have enough problem domain knowledge to understand the problem and implement a solution?\n",
    "\n",
    "**Step Back:** If you have a prior code version, revert to that. Or maybe delete recently added code. Get back to a working program. Then re-think the problem. Take some notes. Then add code back into, testing as you proceed.\n",
    "\n",
    "Unfortunately, no magical solution exists to make someone an expert debugger - it takes experience. One of the choices made in these notebooks has been demonstrating software issues(defects) that can arise. By seeing these issues and correcting these issues, you are more prepared to handle issues in your code."
   ]
  },
  {
   "cell_type": "markdown",
   "id": "b7b94ecf",
   "metadata": {},
   "source": [
    "The term debugging dates back to 1878 with a letter Thomas Edison wrote to Theodore Puskas[2]:\n",
    ">\n",
    ">Bugs' -- as such little faults and difficulties are called -- show themselves and months of intense watching, study and labor are requisite before commercial success or failure is certainly reached.\n",
    ">\n",
    " \n",
    "In 1947, operators found a moth trapped in a relay in the Mark II Computer at Harvard University:<br>\n",
    "![](images/mothMarkII_1947.jpeg)\n",
    "<br>Caption: The First \"Computer Bug\" [Source](https://www.history.navy.mil/our-collections/photography/numerical-list-of-images/nhhc-series/nh-series/NH-96000/NH-96566-KN.html)\n"
   ]
  }
 ],
 "metadata": {
  "kernelspec": {
   "display_name": "Python 3 (ipykernel)",
   "language": "python",
   "name": "python3"
  },
  "language_info": {
   "codemirror_mode": {
    "name": "ipython",
    "version": 3
   },
   "file_extension": ".py",
   "mimetype": "text/x-python",
   "name": "python",
   "nbconvert_exporter": "python",
   "pygments_lexer": "ipython3",
   "version": "3.10.4"
  }
 },
 "nbformat": 4,
 "nbformat_minor": 5
}
