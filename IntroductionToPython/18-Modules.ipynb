{
 "cells": [
  {
   "cell_type": "markdown",
   "id": "ac0f08c8",
   "metadata": {},
   "source": [
    "<div class=\"pagebreak\"></div>\n",
    "\n",
    "# Modules\n",
    "Except for existing classes and functions we have used, a single file could easily fit any of the programs in these notebooks so far. However, most software projects are not as little as these examples and exercises. Fortunately, Python provides capabilities to organize code into multiple files.\n",
    "\n",
    "Just as functions provide abstractions for a series of steps that perform a task, a module creates an abstraction of a group of related variables(data), functions, and classes. Modules are a crucial component for code reuse encapsulating functionality. "
   ]
  },
  {
   "cell_type": "markdown",
   "id": "9554ee4a",
   "metadata": {},
   "source": [
    "## Using Modules\n",
    "To use a module, use the following statement\n",
    "<code>import <i>moduleName</i></code> where moduleName is the name of an existing Python file (but without the .py extension) or a directory."
   ]
  },
  {
   "cell_type": "code",
   "execution_count": null,
   "id": "a95666b5",
   "metadata": {},
   "outputs": [],
   "source": [
    "import statistics\n",
    "\n",
    "statistics.stdev([10,5,12,3,6,4,11,4,8,5,6,7,8,6,5,6,7])"
   ]
  },
  {
   "cell_type": "markdown",
   "id": "acd5ac2d",
   "metadata": {},
   "source": [
    "You can also rename a module as you import it. Renaming provides an alternate alias to refer to the module in the code."
   ]
  },
  {
   "cell_type": "code",
   "execution_count": null,
   "id": "34dc7b81",
   "metadata": {},
   "outputs": [],
   "source": [
    "import statistics as stat\n",
    "\n",
    "stat.stdev([10,5,12,3,6,4,11,4,8,5,6,7,8,6,5,6,7])"
   ]
  },
  {
   "cell_type": "markdown",
   "id": "e7010cdb",
   "metadata": {},
   "source": [
    "Why rename imported modules?\n",
    "- avoid duplicate names\n",
    "- mnemonic\n",
    "- follow convention (Example: `import pandas as pd`)\n",
    "- minimize typing\n",
    "\n",
    "You can also import specific items from a module: \n",
    "<code>\n",
    "    from <i>moduleName</i> import <i>name</i>\n",
    "</code>"
   ]
  },
  {
   "cell_type": "code",
   "execution_count": null,
   "id": "d8019ae7",
   "metadata": {},
   "outputs": [],
   "source": [
    "from statistics import mean\n",
    "\n",
    "mean([10,5,12,3,6,4,11,4,8,5,6,7,8,6,5,6,7])"
   ]
  },
  {
   "cell_type": "markdown",
   "id": "8164d4f4",
   "metadata": {},
   "source": [
    "To list all modules currently installed (including built-in modules):"
   ]
  },
  {
   "cell_type": "code",
   "execution_count": null,
   "id": "b8bfd98e",
   "metadata": {},
   "outputs": [],
   "source": [
    "help('modules')"
   ]
  },
  {
   "cell_type": "markdown",
   "id": "7d05680c",
   "metadata": {},
   "source": [
    "To see the help documentation for a specific module, pass it as a string to help"
   ]
  },
  {
   "cell_type": "code",
   "execution_count": null,
   "id": "d537eb5f",
   "metadata": {},
   "outputs": [],
   "source": [
    "help('numpy')"
   ]
  },
  {
   "cell_type": "markdown",
   "id": "0f53812c",
   "metadata": {},
   "source": [
    "## Packages \n",
    "Python organizes modules by subdirectories into _packages_. The directory names form a hierarchy of names.\n",
    "\n",
    "Before Python 3.3, developers had to create a file named `__init__.py` in a directory for the interpreter to consider the directory a Python package. `__init__.py` is typically empty but can contain any initialization code for the package. Without the `__init__.py` file, the package is considered an [implicit namespace package](https://peps.python.org/pep-0420/). The technical details between packages and implicit namespace packages are irrelevant for most use cases, However, issues generally arise when the same package name appears in more than one location in the search path (see the section below - \"How Import Works\").\n",
    "\n",
    "[View more details](https://web.archive.org/web/20220605062021/http://python-notes.curiousefficiency.org/en/latest/python_concepts/import_traps.html).  \n",
    "\n",
    "Note: the last two links are for informational purposes only.\n",
    "\n",
    "The use of ` __init__.py` is a common interview question.\n",
    "\n",
    "Typically, programmers use the terms \"modules\" and \"packages\" interchangeably."
   ]
  },
  {
   "cell_type": "markdown",
   "id": "442dabfc",
   "metadata": {},
   "source": [
    "### Installing other Modules\n",
    "The de facto way to install additional modules and packages is to use [pip](https://docs.python.org/3/installing/index.html). \n",
    "\n",
    "Technically you can use the 'pip' command to install packages: <pre>pip install <i>packageName</i></pre>\n",
    "However, the recommended approach is to start the Python interpreter and use the module name as the command line argument:\n",
    "<pre>\n",
    "    python -m pip install <i>packageName</i>\n",
    "</pre>\n",
    "Using the `python` executable ensures the package installs into the correct environment. \n",
    "\n",
    "Similarly, for Jupyter Notebooks:\n",
    "<pre>\n",
    "    import sys\n",
    "    !{sys.executable} -m pip install <i>packageName</i>\n",
    "</pre>\n",
    "For notebooks, you may have seen\n",
    "<pre>!pip install <i>packageName</i></pre>\n",
    "However, this will install the package into the environment from which Jupyter started, not the current environment.\n",
    "\n",
    "You should ensure the current Python environment has the packages `setuptools` and `wheel` installed when using pip. <code>wheel</code> can install compatible, pre-built packages into your environment if compatible. <code>setuptools</code> helps to handle the installation of other packages from source code. The following code block ensures that the current environment has the most recent versions of these three packages installed. "
   ]
  },
  {
   "cell_type": "code",
   "execution_count": null,
   "id": "01a3b1d9",
   "metadata": {},
   "outputs": [],
   "source": [
    "import sys\n",
    "!{sys.executable} -m pip install --upgrade pip setuptools wheel"
   ]
  },
  {
   "cell_type": "markdown",
   "id": "44f6294e",
   "metadata": {},
   "source": [
    "<div style=\"border: 3px solid black;padding: 10px; border-radius: 10px;\">\n",
    "<b>Security Note</b>\n",
    "    \n",
    "Software supply chain has become one of the more easy to exploit avenues for compromising software security.  Often, developers will include dependencies in their code without validating those dependencies first.\n",
    "    \n",
    "Possible ways to mitigate this attack vector:\n",
    "<ul>\n",
    "    <li> Use trusted, well known components\n",
    "    <li> Scan dependencies for known vulnerabilities\n",
    "    <li> Practice defense in depth. While you may not be to prevent the software issue, can you minimize the damage?\n",
    "    <li> Use a trusted source for components.    \n",
    "</ul>\n",
    "<a href='https://web.archive.org/web/20220606152124/https://blog.gitguardian.com/supply-chain-attack-6-steps-to-harden-your-supply-chain/'>Supply Chain Attacks</a>    \n",
    "       \n",
    "Regarding a trusted source, Google announced in May 2022 that they would provide a new Google Cloud Service, \"Assured Open Source Software\", distributing components curated by the company.  <a href='https://cloud.google.com/blog/products/identity-security/introducing-assured-open-source-software-service'>https://cloud.google.com/blog/products/identity-security/introducing-assured-open-source-software-service</a>     \n",
    "\n",
    "</div>"
   ]
  },
  {
   "cell_type": "markdown",
   "id": "838ef17f",
   "metadata": {},
   "source": [
    "### Commonly Used Modules / Packages\n",
    "The following table contains a list of commonly used modules and a brief description.  \n",
    "Modules with a URL containing \"python.org\" belong to Python’s standard library. When installing Python, the process installs these modules as part of the overall environment.  [Python Standard Library](https://docs.python.org/3/library/)\n",
    "\n",
    "Package Name | Description | Import<br>Alias | URL\n",
    ":-----------|:----|:---|:------\n",
    "datetime | Supplies classes to represent and manipulate date and times| dt|https://docs.python.org/3/library/datetime.html\n",
    "json | Exposes APIs to load, parse, and write [JSON Objects](https://datatracker.ietf.org/doc/html/rfc7159.html). | |https://docs.python.org/3/library/json.html\n",
    "math | Variety of math functions for floats and integers | | https://docs.python.org/3/library/math.html\n",
    "matplotlib|  Comprehensive visualization library | mpl | https://matplotlib.org\n",
    "numpy  | Foundational package for scientific computing.  Supports multidimensional arrays and matrices| np | https://numpy.org\n",
    "pandas | Data analysis and manipulation tool. Core library to perform data science in Python | pd| https://pandas.pydata.org\n",
    "os | Provides access to common operating system functions. | | https://docs.python.org/3/library/os.html\n",
    "random | Implements random number generation for various distributions | |https://docs.python.org/3/library/random.html\n",
    "scipy  | Contains algorithms for optimization, integration, interpolation, eigenvalue problems, algebraic equations, differential equations, statistics, and many other classes of problems| | https://scipy.org \n",
    "seaborn | Visualization library built on top of matplotlib that provides attractive and informative statistical graphics |sns | https://seaborn.pydata.org\n",
    "statistics | Provides functions to calculate common statistics || https://docs.python.org/3/library/statistics.html\n",
    "sys | Provides access to variables and functions used by the Python interpreter | |https://docs.python.org/3/library/sys.html\n",
    "unittest | Automated testing framework || https://docs.python.org/3/library/sys.html\n",
    "\n",
    "The \"Import Alias\" column contains the conventional alias used for this package/module during an import."
   ]
  },
  {
   "cell_type": "markdown",
   "id": "61e7e776",
   "metadata": {},
   "source": [
    "## Developing and Using  Modules\n",
    "At the very simplest level, a module is just a text file that contains python code. \n",
    "\n",
    "For example, we could create a statistics module. The code below exists in a file \"mystatistics.py\".\n",
    "<div style=\"border: 3px solid black;padding: 10px; border-radius: 10px;\">\n",
    "<code>\n",
    "\"\"\"mystatistics provides implementations of common descriptive statistical functions\n",
    "   - min\n",
    "   - max\n",
    "   - range\n",
    "   - mean\n",
    "   - median\n",
    "   - variance\n",
    "   - std_dev\n",
    "    \n",
    "   Each funtion takes a single list.  All contents of that should be a float or an integer\n",
    "\"\"\"\n",
    "\n",
    "def min(l):\n",
    "    \"\"\" returns the minimum value in the list.  Raises a ValueError if empty\"\"\"\n",
    "    if l:\n",
    "        s_list = sorted(l)\n",
    "        return s_list[0]\n",
    "    else:\n",
    "        raise ValueError(\"list empty\")\n",
    "\n",
    "def max(l):\n",
    "    \"\"\" returns the maximum value in the list.  Raises a ValueError if empty\"\"\"\n",
    "    if l:\n",
    "        s_list = sorted(l)\n",
    "        return s_list[-1]\n",
    "    else:\n",
    "        raise ValueError(\"list empty\")\n",
    "        \n",
    "def range(l):\n",
    "    \"\"\" returns the difference between the minimum and maximum value in the list.  Raises a ValueError if empty\"\"\"\n",
    "    if l:\n",
    "        s_list = sorted(l)\n",
    "        return s_list[-1] - s_list[0]\n",
    "    else:\n",
    "        raise ValueError(\"list empty\")\n",
    "        \n",
    "        \n",
    "def mean(l):\n",
    "    \"\"\"computes the mean of the list\"\"\"\n",
    "    if l:\n",
    "        return sum(l)/len(l)\n",
    "    else:\n",
    "        raise ValueError(\"list empty\")\n",
    "\n",
    "def median(l):\n",
    "    \"\"\"Finds the median value of the list\"\"\"\n",
    "    if l:\n",
    "        s_list = sorted(l)\n",
    "        return s_list[len(s_list)//2] if len(s_list)%2 == 1 else (s_list[len(s_list)//2 - 1] +s_list[len(s_list)//2])/2\n",
    "    else:\n",
    "        raise ValueError(\"list empty\")\n",
    "    \n",
    "def variance(l):\n",
    "    \"\"\"Calculates the population variance for the list\"\"\"\n",
    "    m   = mean(l)\n",
    "    dif = 0\n",
    "    for x in l:\n",
    "        dif += (m-x)**2\n",
    "    return dif/len(l)\n",
    "\n",
    "def std_dev(l):\n",
    "    \"\"\"Calculates the population standard deviation for list\"\"\"\n",
    "    return variance(l)**.5\n",
    "\n",
    "if \\_\\_name\\_\\_ == \"\\_\\_main\\_\\_\":\n",
    "    test_list = [10,12,14]\n",
    "    print(\"Min:\", min(test_list))\n",
    "    print(\"Max:\", max(test_list))\n",
    "    print(\"Range:\", range(test_list))\n",
    "    print(\"Mean:\", mean(test_list))\n",
    "    print(\"Median:\", median(test_list))\n",
    "    print(\"Variance:\", variance(test_list))\n",
    "    print(\"Std Dev:\", std_dev(test_list))\n",
    "</code>\n",
    "</div>"
   ]
  },
  {
   "cell_type": "markdown",
   "id": "72b09924",
   "metadata": {},
   "source": [
    "We can now use this module by importing it and then using the functions defined within it."
   ]
  },
  {
   "cell_type": "code",
   "execution_count": null,
   "id": "bde8bcac",
   "metadata": {},
   "outputs": [],
   "source": [
    "import mystatistics\n",
    "\n",
    "test_list = [10,12,14]\n",
    "print(\"Std Dev:\",  mystatistics.std_dev(test_list))"
   ]
  },
  {
   "cell_type": "markdown",
   "id": "4c097cba",
   "metadata": {},
   "source": [
    "## How Import Works\n",
    "When the Python interpreter executes the <code>import <i>moduleName</i></code> statement, it first checks to see if it has previously imported that module. If not, the interpreter searches a list of directories for a file named <i>moduleName</i>.py or a directory with that name.  This search list is available in a Python variable `sys.path` and is composed of the following sources:\n",
    "- the current working directory\n",
    "- the PYTHONPATH environment variable\n",
    "- an installation-dependent list of directories (created at install time or when creating a virtual environment)"
   ]
  },
  {
   "cell_type": "code",
   "execution_count": null,
   "id": "5652d41d",
   "metadata": {},
   "outputs": [],
   "source": [
    "import sys\n",
    "print(sys.path)"
   ]
  },
  {
   "cell_type": "markdown",
   "id": "02f75e7c",
   "metadata": {},
   "source": [
    "Next, the Python interpreter binds the search results to a name in the current local scope. This binding allows us to reference the module name, alias, or specific import item within our code. The following code shows that the length of the local namespace has grown by one from the import of the PI variable:"
   ]
  },
  {
   "cell_type": "code",
   "execution_count": null,
   "id": "659cae15",
   "metadata": {},
   "outputs": [],
   "source": [
    "print(\"Local namespace size:\",len(locals()))\n",
    "from math import pi\n",
    "print(\"Local namespace size (after import of PI):\",len(locals()))"
   ]
  },
  {
   "cell_type": "markdown",
   "id": "6bdcf0dd",
   "metadata": {},
   "source": [
    "Then the Python interpreter executes the code within the <i>moduleName</i>.py name. The execution creates any classes or functions defined within the file and runs any statements not contained within a class or function declaration. The latter is essential to allow the module to perform any necessary initialization steps before use. \n",
    "\n",
    "The following code checks if the file started from the command line (through a command such as <code>python <i>moduleName</i>.py</code>. \n",
    "<pre>\n",
    "if __name__ == \"__main__\":\n",
    "    <i>statements</i>\n",
    "</pre>\n",
    "If it has, then the statements for that block will execute. This check enables the module to run as a main program, but if imported by other programs, skip that code block. A large number of Python files contain this common boilerplate code: <code>if \\_\\_name\\_\\_ == \"\\_\\_main\\_\\_\":</code>. In some ways, the code is equivalent to the main method in C, C++, and Java."
   ]
  },
  {
   "cell_type": "markdown",
   "id": "28d66ac2",
   "metadata": {},
   "source": [
    "## Module Docstrings\n",
    "To help other developers properly use your modules, you should use a docstring at the top of the file.  The docstring should list the purpose of the module and then list the classes, functions, exceptions, and any other items exported by the module with a quick summary of each. [Docstring conventions](https://peps.python.org/pep-0257/#multi-line-docstrings)\n"
   ]
  },
  {
   "cell_type": "markdown",
   "id": "d385a0d3",
   "metadata": {},
   "source": [
    "## Best Practices\n",
    "Although developers can configure modules to [only export specific](https://docs.python.org/3/tutorial/modules.html#importing-from-a-package) items when another programmer uses <code>from <i>module</i> import *</code>, it is still considered bad practice. This statement imports all of the module’s objects into your local namespace, making it difficult to determine what’s what. While typing <code><i>module.</i></code> is a bit more tedious, it makes your code clear where an object originated.\n",
    "\n",
    "As you create modules, you should only group things that logically belong together.  Simply because you wrote two functions does not necessarily mean they should be within the same module.  Quite often, \"utility\" packages violate this principle.\n",
    "\n",
    "While you can distribute modules and packages by simply providing the source code to others, you should 'package\" these: [Overview of Packaging for Python](https://packaging.python.org/en/latest/overview/) [Tutorial](https://packaging.python.org/en/latest/tutorials/packaging-projects/)\n",
    "\n",
    "The Python interpreter will only load a module once into your program - even if the code imports the module in multiple locations. Thus any changes to that module can be seen by other code that uses that module. As with anything else with Python (or any programming language), such functionality can be beneficial or a curse. Unsurprisingly, programming languages expect developers to not behave maliciously, such as in this code:"
   ]
  },
  {
   "cell_type": "code",
   "execution_count": null,
   "id": "642ac897",
   "metadata": {},
   "outputs": [],
   "source": [
    "import statistics\n",
    "\n",
    "def bad_programmer(l):\n",
    "    import random\n",
    "    return random.random()\n",
    "\n",
    "statistics.stdev = bad_programmer\n",
    "\n",
    "my_list = [10,5,12,3,6,4,11,4,8,5,6,7,8,6,5,6,7]\n",
    "print(\"Std dev:\",statistics.stdev(my_list))\n",
    "print(\"Std dev:\",statistics.stdev(my_list))\n",
    "# good luck tracking down that one!"
   ]
  },
  {
   "cell_type": "markdown",
   "id": "68683cce",
   "metadata": {},
   "source": [
    "## Exercises\n",
    "TODO\n"
   ]
  },
  {
   "cell_type": "code",
   "execution_count": null,
   "id": "8d8c737c",
   "metadata": {},
   "outputs": [],
   "source": []
  }
 ],
 "metadata": {
  "kernelspec": {
   "display_name": "Python 3 (ipykernel)",
   "language": "python",
   "name": "python3"
  },
  "language_info": {
   "codemirror_mode": {
    "name": "ipython",
    "version": 3
   },
   "file_extension": ".py",
   "mimetype": "text/x-python",
   "name": "python",
   "nbconvert_exporter": "python",
   "pygments_lexer": "ipython3",
   "version": "3.10.4"
  }
 },
 "nbformat": 4,
 "nbformat_minor": 5
}
