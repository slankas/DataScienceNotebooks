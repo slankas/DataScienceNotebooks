{
 "cells": [
  {
   "cell_type": "markdown",
   "id": "83a93765",
   "metadata": {},
   "source": [
    "# Control Statements\n",
    "So far, we have seen some basic programs and uses of data, but we have not had to make any decisions to decide what code to execute or to repeat the execution of certain lines of code.\n",
    "\n",
    "In this notebook, we will see how to use an `if` statement to execute different blocks of based upon some a conditional expression that evaluates to a Boolean (`True` or `False`)."
   ]
  },
  {
   "cell_type": "markdown",
   "id": "663d7b2e",
   "metadata": {},
   "source": [
    "## if statement\n",
    "We use the `if` statement to execute a block of code when a certain condition is true.  Here's the basic syntax:\n",
    "```\n",
    "if condition:\n",
    "    block\n",
    "```\n",
    "If the condition evaluates to `True`, then the statements in the block are executed.  \n",
    "\n",
    "Below, we present a [flowchart](https://en.wikipedia.org/wiki/Flowchart) to represent the execution of an `if` statement.  Flowcharts can help you visualize and understand a process. As such, we use flowcharts to show the overview of different Python statements.  Initially, you may want to draw flowcharts to help you understand a problem or a program, but generally speaking they are too cumbersome to use regularly.\n",
    "- Ovals or rounded rectangles are used to indicate the beginning or end of a program . *terminal*\n",
    "- Rectangles are used to represent one or more operations that occur in sequence. *process*\n",
    "- Diamonds represent a condition operation to choose which path a program or process will follow. *decision*\n",
    "- Arrows represent the process's (or program's) order of operation.  Labels may indicate decision paths.  *flowline*\n",
    "- Parallelograms (not shown) represent the process of data input and output.\n",
    "As necessary, you can augment these diagrams with whatever notes, variable changes, etc. to help document a given process."
   ]
  },
  {
   "cell_type": "markdown",
   "id": "0eaeee34",
   "metadata": {},
   "source": [
    "![](images/ifStatement.png)"
   ]
  },
  {
   "cell_type": "code",
   "execution_count": null,
   "id": "823ec3f6",
   "metadata": {},
   "outputs": [],
   "source": [
    "age = input(\"What is your age?\")\n",
    "if int(age) >= 16:\n",
    "    print(\"You are old enough to drive in most US states.\")"
   ]
  },
  {
   "cell_type": "markdown",
   "id": "1092393d",
   "metadata": {},
   "source": [
    "In the above example, `int(age) > = 16` is the conditional expression that's evaluated.  With Python, this is any expression that can evaluate to  `True` or `False`.  In an earlier notebook, we presented that any numeric value that is nonzero is `True` and and zero value is `False`. For strings, any non-empty string is `True` and an empty string is `False`.  Of course, we can use Boolean variables as well."
   ]
  },
  {
   "cell_type": "code",
   "execution_count": null,
   "id": "c1a1d608",
   "metadata": {},
   "outputs": [],
   "source": [
    "team_won = True\n",
    "if team_won:\n",
    "    print (\"Let's celebrate\")"
   ]
  },
  {
   "cell_type": "code",
   "execution_count": null,
   "id": "afc9bb33",
   "metadata": {},
   "outputs": [],
   "source": [
    "if 0:\n",
    "    print(\"nothing to see here\")"
   ]
  },
  {
   "cell_type": "code",
   "execution_count": null,
   "id": "91917643",
   "metadata": {},
   "outputs": [],
   "source": [
    "if -1:\n",
    "    print(\"Hey - I'm here\")"
   ]
  },
  {
   "cell_type": "code",
   "execution_count": null,
   "id": "f90d036b",
   "metadata": {},
   "outputs": [],
   "source": [
    "if \"message\":\n",
    "    print(\"Hey - I was true.\")"
   ]
  },
  {
   "cell_type": "code",
   "execution_count": null,
   "id": "43868dd1",
   "metadata": {},
   "outputs": [],
   "source": [
    "if \"\":\n",
    "    print(\"I was empty, but you can't see me!\")"
   ]
  },
  {
   "cell_type": "markdown",
   "id": "4775d0a1",
   "metadata": {},
   "source": [
    "## Comparison Operators\n",
    "Sometimes, using a single value is sufficient for an `if` statement. Python, though, offers a number conditional operators that we can use - \n",
    "\n",
    "| Comparison Operator | Example | Meaning |\n",
    "| :---- | :---- | :---- |\n",
    "| `>` | `x > y` | `x` is greater than `y`\n",
    "| `<` | `x < y` | `x` is less than `y`\n",
    "| `>=` | `x >= y` | `x` is greater than or equal to `y`\n",
    "| `<=` | `x <= y` | `x` is less than or equal to `y`\n",
    "| `==` | `x == y` | `x` is equal to `y`\n",
    "| `!=` | `x != y` | `x` is not equal to `y`"
   ]
  },
  {
   "cell_type": "code",
   "execution_count": null,
   "id": "3f1bd064",
   "metadata": {},
   "outputs": [],
   "source": [
    "print( 4 > 5)\n",
    "print( 10 > 5)\n",
    "print( 5 <= 6)\n",
    "print( \"hello\" == \"hel\"+\"lo\")  # Use string concatenation to create \"hello\""
   ]
  },
  {
   "cell_type": "markdown",
   "id": "5fc8a9c7",
   "metadata": {},
   "source": [
    "In all of the above code examples, the print statements after the `if` statements form the \"true-block\" as shown in the basic syntax and the flowchart.  These code blocks can be any number of statements, including additional, nested `if` statements.\n",
    "\n",
    "# if else statement\n",
    "In addition to executing the true block, Python allows for an optional `else` block that executes if the condition evaluates to `False`.\n",
    "\n",
    "\n",
    "![](images/ifElseStatement.png)"
   ]
  },
  {
   "cell_type": "code",
   "execution_count": null,
   "id": "1f438e89",
   "metadata": {},
   "outputs": [],
   "source": [
    "age = 15\n",
    "if age >= 16:\n",
    "    print(\"You can drive!\")\n",
    "    print(\"You need a license first, though...\")\n",
    "else:\n",
    "    print(\"You are not old enough to drive.\")\n",
    "    print(\"You will need to wait until you are 16.\")"
   ]
  },
  {
   "cell_type": "markdown",
   "id": "712c0fe4",
   "metadata": {},
   "source": [
    "In Python, indention determines the code blocks that execute for the `if` statement.  The Python convention is to use four spaces.  However, you can use any amount of spaces that you like as long as you are consistent with the spacing.  Avoid using tabs or mixing tabs and spaces - this will lead to consistency issues.  \n",
    "\n",
    "As you write programs, you'll need to make sure your code blocks are properly indented -"
   ]
  },
  {
   "cell_type": "code",
   "execution_count": null,
   "id": "cc215c0d",
   "metadata": {},
   "outputs": [],
   "source": [
    "age = 17\n",
    "if age >= 16:\n",
    "    print(\"You can drive!\")\n",
    "else:\n",
    "    print(\"You are not old enough to drive.\")\n",
    "print(\"You will need to wait until you are 16.\")  #oops, didn't indent this properly"
   ]
  },
  {
   "cell_type": "markdown",
   "id": "8a41a7af",
   "metadata": {},
   "source": [
    "## if elif statement\n",
    "If you have several conditions that you need to be evaluated at once, you can use an `if elif` statement. As with the `if` statment, you can have an option `else` portion at the the end of the statement. \n",
    "\n",
    "![](images/ifElifStatement.png)"
   ]
  },
  {
   "cell_type": "code",
   "execution_count": null,
   "id": "a5abb79b",
   "metadata": {},
   "outputs": [],
   "source": [
    "grade = int(input(\"What was your score on the test?\"))\n",
    "if grade >= 90:\n",
    "    print(\"A\")\n",
    "elif grade >= 80:\n",
    "    print(\"B\")\n",
    "elif grade >= 70:\n",
    "    print(\"C\")\n",
    "elif grade >= 60:\n",
    "    print(\"D\")\n",
    "else:\n",
    "    print(\"F\") "
   ]
  },
  {
   "cell_type": "markdown",
   "id": "9b498901",
   "metadata": {},
   "source": [
    "Python does evaluate these if clauses in the order that they are listed.  What will the following code produce?"
   ]
  },
  {
   "cell_type": "code",
   "execution_count": null,
   "id": "8fa0492a",
   "metadata": {},
   "outputs": [],
   "source": [
    "grade = 90\n",
    "if grade >= 70:\n",
    "    print(\"C\")\n",
    "elif grade >= 80:\n",
    "    print(\"B\")\n",
    "elif grade >= 90:\n",
    "    print(\"A\")\n",
    "elif grade >= 60:\n",
    "    print(\"D\")\n",
    "else:\n",
    "    print(\"F\") "
   ]
  },
  {
   "cell_type": "markdown",
   "id": "44a9fa43",
   "metadata": {},
   "source": [
    "If you forget the colon at the end of any of these expressions, the Python interpretor will print \"SyntaxError\"."
   ]
  },
  {
   "cell_type": "code",
   "execution_count": null,
   "id": "934736ed",
   "metadata": {},
   "outputs": [],
   "source": [
    "if True\n",
    "    print(\"Message\")"
   ]
  },
  {
   "cell_type": "markdown",
   "id": "9780531a",
   "metadata": {},
   "source": [
    "## Boolean Operators\n",
    "Python offers three Boolean (logical) operators.\n",
    "\n",
    "### And\n",
    "The `and` operator joins two conditional epxressions and ensures that both conditional expressions are `True` for the \"true block\" to execute. If either of the conditions is `False`, then the entire `and` expression if `False`."
   ]
  },
  {
   "cell_type": "code",
   "execution_count": null,
   "id": "709e7f76",
   "metadata": {},
   "outputs": [],
   "source": [
    "age = 21\n",
    "gender = \"Male\"\n",
    "if gender == \"Male\" and age < 25:\n",
    "    print (\"You will need to take out a loan to buy car insurance!\")\n",
    "else:\n",
    "    print (\"Maybe car insurance won't be too expensive for you...\")"
   ]
  },
  {
   "cell_type": "markdown",
   "id": "3cf9ed86",
   "metadata": {},
   "source": [
    "Practice running the above code block with different values for age and gender.\n",
    "\n",
    "### Or\n",
    "The `or` operator also joins two conditional expressions but as long as long as at least one of the expressions is `True`.  Only if both expressions are `False` will the expression evalute to `False`."
   ]
  },
  {
   "cell_type": "code",
   "execution_count": null,
   "id": "1ee0d6d4",
   "metadata": {},
   "outputs": [],
   "source": [
    "outlook = \"overcast\"\n",
    "humidity = \"low\"\n",
    "if outlook == \"sunny\" or humidity == \"low\":\n",
    "    print(\"Play golf!\")"
   ]
  },
  {
   "cell_type": "markdown",
   "id": "0dbf0ee6",
   "metadata": {},
   "source": [
    "### Not\n",
    "The `not` operator (aka \"logical complement\", \"negation\") reverses the value of a Boolean.  That is, `False` becomes `True` and `Truth` becomes `False`."
   ]
  },
  {
   "cell_type": "code",
   "execution_count": null,
   "id": "9ece4d28",
   "metadata": {},
   "outputs": [],
   "source": [
    "a = 10\n",
    "if not (a > 15):\n",
    "    print (\"I'm here\")"
   ]
  },
  {
   "cell_type": "markdown",
   "id": "4daa59c9",
   "metadata": {},
   "source": [
    "_Your world has just turned upside down._\n",
    "\n",
    "![](images/pirates_black_pearl_upside_down.jpg)"
   ]
  },
  {
   "cell_type": "markdown",
   "id": "34c8a108",
   "metadata": {},
   "source": [
    "## Short-Circuit Evaluation\n",
    "As with most other programming languages, the `and` and `or` operators utilize [short-circuit evaluation](https://en.wikipedia.org/wiki/Short-circuit_evaluation) - once Python can determine the outcome of a Boolean expression, the interpreter no longer needs to continue evaluation.\n",
    "\n",
    "For `and`, if the first expression evaluates to `False`, the second expression will not be evaluated as the  result of the operator will always be `False`. \n",
    "\n",
    "For `or`, if the first expression evaluates to `True`, the second expression will not be evaluated as the result of the operator will always be `True`.\n",
    "\n",
    "Note: `def` lets us define user created functions which will be covered in the next notebook."
   ]
  },
  {
   "cell_type": "code",
   "execution_count": null,
   "id": "119a9517",
   "metadata": {},
   "outputs": [],
   "source": [
    "def expr(num, result):\n",
    "    print ('Expression', num, result)\n",
    "    return result\n",
    "\n",
    "if expr(1,False) and expr(2,True):\n",
    "    print (\"expr #1 was True\\n\")\n",
    "else:\n",
    "    print (\"expr #1 was false\\n\")\n",
    "    \n",
    "if expr(1,True) or expr(2,True):\n",
    "    print (\"expr #2 was True\\n\")\n",
    "else:\n",
    "    print (\"expr #2 was false\\n\")\n",
    "    \n",
    "if expr(1,False) or expr(2,True):\n",
    "    print (\"expr #3 was True\\n\")\n",
    "else:\n",
    "    print (\"If #3 was false\\n\")   \n",
    "    \n",
    "while expr(1,True) or expr(2,True):\n",
    "    print (\"in loop\\n\")\n",
    "    break;\n",
    "    "
   ]
  },
  {
   "cell_type": "markdown",
   "id": "d7e4a823",
   "metadata": {},
   "source": [
    "Additionally, the result of a logical expression is not always `True` or `False`.  In the following, Python returns the last value evaluated."
   ]
  },
  {
   "cell_type": "code",
   "execution_count": null,
   "id": "c7b5e26e",
   "metadata": {},
   "outputs": [],
   "source": [
    "a = 0\n",
    "b = 3\n",
    "x = b or a\n",
    "print(x)"
   ]
  },
  {
   "cell_type": "markdown",
   "id": "bfcf7fd0",
   "metadata": {},
   "source": [
    "If you need a boolean result, then force the conversion to boolean with the built-in function `bool()`"
   ]
  },
  {
   "cell_type": "code",
   "execution_count": null,
   "id": "7fa22ce1",
   "metadata": {},
   "outputs": [],
   "source": [
    "print(bool(b or a))"
   ]
  },
  {
   "cell_type": "markdown",
   "id": "34ceec4c",
   "metadata": {},
   "source": [
    "Here's an example where the behavior would useful:\n",
    "```\n",
    "key = load_secret_key() or 'randomStringValue'\n",
    "```\n",
    "The Python interpreter will try to load secret key from some configuration using the function `load_secret_key()`. If that functions doesn't return a valid value, then key will be assigned the string `'randomStringValue'`."
   ]
  },
  {
   "cell_type": "markdown",
   "id": "ddc3f9a8",
   "metadata": {},
   "source": [
    "Multiple `and` and `or` clauses can be used in the same expression.  Use parenthesis to ensure the correct order of operations / logical meaning."
   ]
  },
  {
   "cell_type": "code",
   "execution_count": null,
   "id": "981f74ff",
   "metadata": {},
   "outputs": [],
   "source": [
    "def expr(num, result):\n",
    "    print ('Expression', num, result)\n",
    "    return result\n",
    "\n",
    "print (expr(1,True) and (expr(2,False) or expr(3,True)))"
   ]
  },
  {
   "cell_type": "markdown",
   "id": "edcf25c0",
   "metadata": {},
   "source": [
    "### Chaining Comparison Operators\n",
    "Python is one of the few mainstream programming langauges that allow operators to be chained."
   ]
  },
  {
   "cell_type": "code",
   "execution_count": null,
   "id": "cff90290",
   "metadata": {},
   "outputs": [],
   "source": [
    "x= 10 \n",
    "5 <= x <= 20"
   ]
  },
  {
   "cell_type": "code",
   "execution_count": null,
   "id": "6e830f34",
   "metadata": {},
   "outputs": [],
   "source": [
    "x = 10\n",
    "y = 12\n",
    "1 <= y <= x <= 20"
   ]
  },
  {
   "cell_type": "markdown",
   "id": "b8cbd14e",
   "metadata": {},
   "source": [
    "Note that these can be rewritten with an `and` operator."
   ]
  },
  {
   "cell_type": "code",
   "execution_count": null,
   "id": "07307602",
   "metadata": {},
   "outputs": [],
   "source": [
    "x = 10\n",
    "5 <= x and x <= 20"
   ]
  },
  {
   "cell_type": "code",
   "execution_count": null,
   "id": "460b0548",
   "metadata": {},
   "outputs": [],
   "source": [
    "x = 10\n",
    "y = 12\n",
    "1 <= y and y <= x and x <= 20"
   ]
  },
  {
   "cell_type": "markdown",
   "id": "e578330c",
   "metadata": {},
   "source": [
    "## Footnote\n",
    "Historically, in Python, a group of statements that are executed together is called a \"suite\".  However, most other programming languages and even the [Python Grammer Specification](https://docs.python.org/3/reference/grammar.html) refer to this as a block.  We will use the term \"block\" for this class."
   ]
  },
  {
   "cell_type": "markdown",
   "id": "2667f27f",
   "metadata": {},
   "source": [
    "## Exercises"
   ]
  },
  {
   "cell_type": "markdown",
   "id": "21525bf3",
   "metadata": {},
   "source": [
    "Exercise 1: Paycheck\n",
    "\n",
    "Write a program that computes the a simple weekly paycheck for an individual.\n",
    "The user should be prompted for the number of hours worked, and the payrate.\n",
    "If the user works over 40 hours, the hours over 40 hours should be paid at 1.5 times the hourly rate.\n",
    "Print the initial total.  Of course, the government taxes employee's pay.  Asusme this tax rate is 20%.  Print the amount withheld for taxes.  Then print the net amount to be paid to the individual."
   ]
  },
  {
   "cell_type": "markdown",
   "id": "c53ac97a",
   "metadata": {},
   "source": [
    "Exercise 2: Stock Gain (or loss)\n",
    "\n",
    "Write a program that allows the user two successive closing prices for a stock.  Compute the the daily percentage gain or loss. If the gain was positive, print the message \"The stock price increased by\" and the percentage increase.\n",
    "If the gain was negative, print the message \"The stock price decreased by and the percentage decrease.\n",
    "Otherwise, print \"No change to the stock price.\""
   ]
  },
  {
   "cell_type": "markdown",
   "id": "5836a6af",
   "metadata": {},
   "source": [
    "Exercise 3: Failed short-circuit evaluation?\n",
    "\n",
    "In the following code block, why does it appear the short-circuit evaluation is not being followed? and the result is true?"
   ]
  },
  {
   "cell_type": "code",
   "execution_count": null,
   "id": "02f9262e",
   "metadata": {},
   "outputs": [],
   "source": [
    "def test(num, result):\n",
    "    print ('Expression', num, result)\n",
    "    return result\n",
    "\n",
    "print (test(1,\"False\") and test(2,\"True\"))"
   ]
  }
 ],
 "metadata": {
  "kernelspec": {
   "display_name": "Python 3 (ipykernel)",
   "language": "python",
   "name": "python3"
  },
  "language_info": {
   "codemirror_mode": {
    "name": "ipython",
    "version": 3
   },
   "file_extension": ".py",
   "mimetype": "text/x-python",
   "name": "python",
   "nbconvert_exporter": "python",
   "pygments_lexer": "ipython3",
   "version": "3.8.10"
  }
 },
 "nbformat": 4,
 "nbformat_minor": 5
}
