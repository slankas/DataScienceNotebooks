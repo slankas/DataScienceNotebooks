{
 "cells": [
  {
   "cell_type": "markdown",
   "id": "3b317941",
   "metadata": {},
   "source": [
    "# Basic Input and Output\n",
    "Programs that don't alter their input based upon any type of input are really quite boring - they'll just keep doing the same thing, time and time again.  A program's usefulness increases exponentially with the input the code can receive and process.\n",
    "\n",
    "With the exception of the code presented in first module, we have not received any input.  If we need to change the behavior of the program, we have had to change the program.  \n",
    "\n",
    "In this Python notebook, we'll present a basic mechanism to get input from the console (aka the user's keyboard). From a technical standpoint, this is considered \"standard input\" / \"stdin\", which we'll examine later in this course."
   ]
  },
  {
   "cell_type": "markdown",
   "id": "659cc084",
   "metadata": {},
   "source": [
    "## Input\n",
    "As programs often require users to provide data, we can get input from the user through using Python's built-in function ```input()```.     \n",
    "\n",
    "[Python documentation for input](https://docs.python.org/3/library/functions.html#input)\n",
    "\n",
    "```input()``` takes an optional argument, which is the prompt to the user and this is written to standard output without a trailing newline.  ```input()``` will pause the program execution and wait for the user to enter a value and then type the enter key.  The return character is stripped from the result.  The result is of type string.\n",
    "\n"
   ]
  },
  {
   "cell_type": "code",
   "execution_count": null,
   "id": "bffc7c05",
   "metadata": {},
   "outputs": [],
   "source": [
    "print(\"Hello, my name is Hal 9000.\")\n",
    "name = input(\"What is your name?\")\n",
    "print(\"It is nice to meet you,\", name)"
   ]
  },
  {
   "cell_type": "code",
   "execution_count": null,
   "id": "7faffdfd",
   "metadata": {},
   "outputs": [],
   "source": [
    "print(\"Enter two numbers to add (try 1968 and 2001):\")\n",
    "num_1 = input(\"first number: \")\n",
    "num_2 = input(\"second number: \")\n",
    "print(num_1 + num_2)"
   ]
  },
  {
   "cell_type": "markdown",
   "id": "91907181",
   "metadata": {},
   "source": [
    "whoa...   That wasn't the result we expected.  I thought adding 1968 and 2001 would be 3969....\n",
    "\n",
    "_Remember_, ```input()``` always returns a string.  To use the input value as a number value, we need to convert it using ```int()``` or ```float()``` as presented in the previous notebook."
   ]
  },
  {
   "cell_type": "code",
   "execution_count": null,
   "id": "858864e6",
   "metadata": {},
   "outputs": [],
   "source": [
    "print(\"Enter two numbers to add:\")\n",
    "string_1 = input(\"first number: \")\n",
    "num_1 = int(string_1)\n",
    "num_2 = int(input(\"second number: \"))\n",
    "print(num_1 + num_2)"
   ]
  },
  {
   "cell_type": "markdown",
   "id": "aba64685",
   "metadata": {},
   "source": [
    "Much better.  \n",
    "\n",
    "One thing to notice is that in the first input value, we first assigned the value to a variable containing a string, and then converted that to another variable containing an int.  For the second input value, we directly converted the input string to an integer without using an intermediary value.  \n",
    "\n",
    "Beginners might find the first pattern more comforting as one can see more explicitly what occurs (and it's also a little easier when debugging programs to see values.  We'll discuss debugging when we discuss IDEs (specifically Visual Code).  However, most advanced programmers will tend to use the second pattern as the code is shorter.\n",
    "\n",
    "Now what happen's if we ask the user to enter a number, but they enter a string instead?"
   ]
  },
  {
   "cell_type": "code",
   "execution_count": null,
   "id": "139fa83c",
   "metadata": {},
   "outputs": [],
   "source": [
    "year = int(input(\"Enter the year your were born: \"))"
   ]
  },
  {
   "cell_type": "markdown",
   "id": "ec115a53",
   "metadata": {},
   "source": [
    "As we saw, in the previous notebook, we receive a \"ValueError\".  In later modules, we learn how to proved more robust error handling mechanisms."
   ]
  },
  {
   "cell_type": "markdown",
   "id": "c28a1ac3",
   "metadata": {},
   "source": [
    "## Output\n",
    "The primary method we use to print output to the console for a user to see is through the ```print()``` method."
   ]
  },
  {
   "cell_type": "code",
   "execution_count": null,
   "id": "58557dbd",
   "metadata": {},
   "outputs": [],
   "source": [
    "help(print)"
   ]
  },
  {
   "cell_type": "markdown",
   "id": "2e04b83a",
   "metadata": {},
   "source": [
    "While all our examples with ```print()``` have used a single argument, we can pass multiple variables and literal values to the function.  Additional, we can override defaults for the separator value used between passed values, the string appended after the last value, where the output goes (sys.stdout) and whether or not flush - forcibly make the stream write the passed output values."
   ]
  },
  {
   "cell_type": "code",
   "execution_count": null,
   "id": "5ddcb552",
   "metadata": {},
   "outputs": [],
   "source": [
    "print(1,2,3,4,5,sep=':')"
   ]
  },
  {
   "cell_type": "markdown",
   "id": "abbefa29",
   "metadata": {},
   "source": [
    "## Readability\n",
    "Programmers use a number of different conventions to improve code readability.  You have already seen how descriptive variable names can make their purpose clear.\n",
    "\n",
    "### Docstrings\n",
    "Docstrings are strings contained within triple double quotes.  Ideally, these should be written for all public modules, functions, classes, and methods.  We'll also use them at the top of each script file to explain to that script's purpose. \n",
    "[Documentation Strings](https://peps.python.org/pep-0008/#documentation-strings)\n",
    "\n",
    "```\"\"\"Provides a simple mortgage calculator to compute the payment for a 30-year fixed mortgage\"\"\"```\n",
    "\n",
    "IDEs, other programming environments, and Python's ```help()``` function use the contents of these docstrings.\n",
    "\n",
    "### Comments\n",
    "As with most other programming languages, Python allows comments in be placed in comments. \n",
    "\n",
    "Comments start with a ```#``` and go to the end of the line.  Python ignores the anything in a comments.\n",
    "\n",
    "Use comments to \n",
    "- explain code\n",
    "- make code more readable\n",
    "- clarifying constants\n",
    "- prevent executing lines (place a ```#``` before any code in the line) while manually testing code\n",
    "- as a placemarker for a \"To Do\" item\n"
   ]
  },
  {
   "cell_type": "code",
   "execution_count": null,
   "id": "e2793f6b",
   "metadata": {},
   "outputs": [],
   "source": [
    "seconds_per_day = 86400   #  60 seconds/minute * 60 minutes/hour * 24 hours/day\n",
    "\n",
    "# Demonstrates that the type returned by input() is a string\n",
    "# Try using 1968 and 2001.  While we might expect 3969 to be return 19682001 will be printed\n",
    "print(\"Enter two numbers to add:\")\n",
    "num_1 = input(\"first number: \")\n",
    "num_2 = input(\"second number: \")\n",
    "print(num_1 + num_2)\n",
    "print(type(num_1))"
   ]
  },
  {
   "cell_type": "markdown",
   "id": "ff8673c3",
   "metadata": {},
   "source": [
    "[Best Practices for Writing Code Comments](https://stackoverflow.blog/2021/12/23/best-practices-for-writing-code-comments/)"
   ]
  },
  {
   "cell_type": "markdown",
   "id": "3e8db136",
   "metadata": {},
   "source": [
    "### Whitespace\n",
    "To separate logical blocks of code, you can use blank lines, which Python ignores.  Additionally, you can use space characters before and after operators, keywords, and variables to make code easier to read.\n",
    "\n",
    "### Splitting Lengthy Statements\n",
    "[By convention](https://peps.python.org/pep-0008/#maximum-line-length), the maximum length for python lines of code is 79 characters. This allows for several files to be opened side by side as well as using code review tools that present two versions in adjacent comments.  Some teams may chose to adopt a longer standard.\n",
    "\n",
    "To spread a length statement over several lines, end each line that needs to be continued with a ```\\```.\n",
    "\n",
    "Function and method calls can also be split after the commas in the arguments."
   ]
  },
  {
   "cell_type": "code",
   "execution_count": null,
   "id": "4944d0c2",
   "metadata": {},
   "outputs": [],
   "source": [
    "sum_of_numbers = 1 + \\\n",
    "                 2 + \\\n",
    "                 3 + \\\n",
    "                 4 + \\\n",
    "                 5\n",
    "print(\"Here is the sum of numbers -\",\n",
    "      sum_of_numbers)\n",
    "\n"
   ]
  },
  {
   "cell_type": "markdown",
   "id": "283daca7",
   "metadata": {},
   "source": [
    "## Exercises\n",
    "1) What's wrong with this code?\n",
    "```\n",
    "interest_rate = input(\"Enter an interest rate\")\n",
    "print(\"On 1000 dollars, you will owe \", 1000 * interest_rate)\n",
    "```\n",
    "\n",
    "2) Using the formula for compound interest.  Have the user enter the initial principal, interest rate, and number of years.  Assume the interest is compounded monthly."
   ]
  },
  {
   "cell_type": "markdown",
   "id": "6a63a86e",
   "metadata": {},
   "source": [
    "3) Write a program to determine the monthly payment for a 30 year mortgage for an initial principal amount and interest rate that the user specifies.\n",
    "\n",
    "$ A = P \\times \\dfrac{r(1+r)^n}{(1+r)^n - 1} $  \n",
    "\n",
    "- $A$ is the periodic amortization payment\n",
    "- $P$ is the principal amount borrowed\n",
    "- $r$ is the rate of interest expressed as a fraction; for a monthly payment, take the (Annual Rate)/12\n",
    "- $n$ is the number of payments; for monthly payments over 30 years, 12 months x 30 years = 360 payments.\n",
    "\n",
    "[Formula](https://en.wikipedia.org/wiki/Mortgage_loan#Principal_and_interest)"
   ]
  }
 ],
 "metadata": {
  "kernelspec": {
   "display_name": "Python 3 (ipykernel)",
   "language": "python",
   "name": "python3"
  },
  "language_info": {
   "codemirror_mode": {
    "name": "ipython",
    "version": 3
   },
   "file_extension": ".py",
   "mimetype": "text/x-python",
   "name": "python",
   "nbconvert_exporter": "python",
   "pygments_lexer": "ipython3",
   "version": "3.8.10"
  }
 },
 "nbformat": 4,
 "nbformat_minor": 5
}
