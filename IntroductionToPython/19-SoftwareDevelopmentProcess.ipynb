{
 "cells": [
  {
   "cell_type": "markdown",
   "id": "ac6a9b7a",
   "metadata": {},
   "source": [
    "# Software Development Process\n",
    "The notebook examines the broader picture as to how software is built.\n",
    "\n",
    "The prototypical software development lifecycle model is the [Waterfall Model](https://en.wikipedia.org/wiki/Waterfall_model).\n",
    "\n",
    "![](images/sw_lifecycle.png)\n",
    "<br>\n",
    "This model divides up the process into distinct phases:\n",
    "- _Requirements_: Understand and document what needs to built to meet a customer's need.\n",
    "- _Design_: Determine how to best build the system.  Exploratory code may written to perform research.\n",
    "- _Code and Implementation_: Build the system.\n",
    "- _Test_: Ensure both that the system meets the specification as documented (verification) and that the system meets the customer's needs (validation).\n",
    "- _Maintenance and Operations_: Deploy the system for production. Perform fixes and add enhancements as necessary.\n",
    "\n",
    "Originally, the waterfall method followed a sequential process where each phase was completed and verified\n",
    "so that the phase's outcomes (deliverables) would serve as inputs into the next phase. For all be the \n",
    "most well-defined projects (i.e., projects that have unambiguous requirements with customers unlikely \n",
    "to change the project's scope), this method has proven problematic from two primary perspectives: \n",
    "1. Customers have difficulty in clearly defining their requirements and they may not completely know what they actually even want.  Further, they often have difficulty communicating their needs.\n",
    "2. Developers invariably will make mistakes during the development process. Our methodology should help find and correct those mistakes as soon as possible.\n",
    "\n",
    "Within project management circles, a well-known cartoon ([https://www.businessballs.com/amusement-stress-relief/tree-swing-cartoon-pictures-early-versions/](swing history)) demonstrates these pitfalls:\n",
    "![](images/pm_swing.jpeg)\n",
    "<br>Source: <a href='https://web.archive.org/web/20150317164453/http://projectcartoon.com/cartoon/2'>https://web.archive.org/web/20150317164453/http://projectcartoon.com/cartoon/2</a>"
   ]
  },
  {
   "cell_type": "markdown",
   "id": "b25af343",
   "metadata": {},
   "source": [
    "One problem that the \"swing cartoon\" misses is the lack of [design thinking](https://web.archive.org/web/20220611101350/https://www.nngroup.com/articles/design-thinking/). A design thinking framework starts with understanding and empathizing with the users. In the cartoon, the customer described a solution - the customer did not describe their problems or opportunities.  \n",
    "\n",
    "Other development methods ([agile](https://en.wikipedia.org/wiki/Agile_software_development), [iterative](https://en.wikipedia.org/wiki/Iterative_and_incremental_development), and [spiral](https://en.wikipedia.org/wiki/Spiral_model)) contain the same activities as the waterfall method, but look to repeatedly perform them to incrementally build a software project. These methods strive to minimize the issues of the waterfall process by having more customer input and feedback as well as shorter development cycles to verify and validate the work being performed.\n",
    "\n",
    "Verification and validation are standard terms within the software engineering community.  Quite often, verification is referred to as \"building the product right\" while validation means \"building the right product\". That nuanced description can be quite confusing.  Validation ensures our customer needs have been met.  Verification checks that our work is being built to the defined specification.\n",
    "\n",
    "This notebook will focus on verification of the code we have been developing - primarily this involves unit testing of the code we write."
   ]
  },
  {
   "cell_type": "markdown",
   "id": "c16c55ab",
   "metadata": {},
   "source": [
    "From _The Guide to the Software Engineering Body of Knowledge_[1]:\n",
    "> Software testing consists of the _dynamic_ verification that a program provides \n",
    "> _expected_ behaviors on a _finite_ set of test cases, suitably _selected_ from the usually \n",
    "> infinite execution domain.\n",
    "\n",
    "The guide then breaks down these italicized words:\n",
    "- _Dynamic_: We execute the program on select inputs\n",
    "- _Expected_: We observe the expected outputs of the program and decide if the test was successful or not.\n",
    "- _Finite_: Even the most simplest of programs can have so many different input values that exhaustive testing is infeasible. As such, testing needs to be conducted on a subset of the possible tests.\n",
    "- _Selected_: Selecting different test cases can led to different levels of effectiveness of those test cases.  As such we must seek to create the correct set of test cases to effective evaluate our programs. \n",
    "\n",
    "This notebook will walk through developing test cases that can be run on an automated basis. Our overarching goal is two-fold:\n",
    "1. Deliver high-quality products to our customers\n",
    "2. Reduce costs as much as possible.\n",
    "\n",
    "The follow graphic demonstrates how mistakes are made and progress during the development process.  Mistakes are not just made during development phase, they can also be made during the other phases as well. Our task is to identify and correct those mistakes as soon as possible.  \n",
    "\n",
    "![](images/faultProgression.png)\n",
    "\n",
    "Latent defects can be extremely dangerous - one way they manifest themselves as zero-day defects that could allow others to illicitly access systems.\n",
    "\n",
    "The following chart shows the relative cost of finding defects at different points in the development process.\n",
    "\n",
    "![](images/defectCost.jpeg)\n",
    "\n",
    "Source: http://www.ambysoft.com/essays/whyAgileWorksFeedback.html\n",
    "\n"
   ]
  },
  {
   "cell_type": "markdown",
   "id": "815b5f81",
   "metadata": {},
   "source": [
    "## References\n",
    "[1] P. Bourque and R.E. Fairley, eds., _Guide to the Software Engineering Body of Knowledge, Version 3.0_, 2014. IEEE Computer Society, www.swebok.org\n"
   ]
  }
 ],
 "metadata": {
  "kernelspec": {
   "display_name": "Python 3 (ipykernel)",
   "language": "python",
   "name": "python3"
  },
  "language_info": {
   "codemirror_mode": {
    "name": "ipython",
    "version": 3
   },
   "file_extension": ".py",
   "mimetype": "text/x-python",
   "name": "python",
   "nbconvert_exporter": "python",
   "pygments_lexer": "ipython3",
   "version": "3.10.4"
  }
 },
 "nbformat": 4,
 "nbformat_minor": 5
}
