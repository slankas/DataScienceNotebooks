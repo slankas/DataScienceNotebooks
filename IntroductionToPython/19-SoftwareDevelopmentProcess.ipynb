{
 "cells": [
  {
   "cell_type": "markdown",
   "id": "ac6a9b7a",
   "metadata": {},
   "source": [
    "# Software Development Process\n",
    "The notebook examines the broader picture of how developers and teams build software.\n",
    "\n",
    "The prototypical software development lifecycle model is the [Waterfall Model](https://en.wikipedia.org/wiki/Waterfall_model).\n",
    "\n",
    "![](images/sw_lifecycle.png)\n",
    "<br>\n",
    "This model divides up the process into distinct phases:\n",
    "- _Requirements_: Identify, understand, and document customer needs in order to build the right product.\n",
    "- _Design_: Determine how to build the system appropriately. Developers may write exploratory code to research the most effective techniques.\n",
    "- _Code and Implementation_: Build the system.\n",
    "- _Test_: Ensure that the system meets the specification as documented (verification) and that the system meets the customer's needs (validation).\n",
    "- _Maintenance and Operations_: Deploy the system for production. Perform fixes and add enhancements as necessary.\n",
    "\n",
    "Initially, the waterfall model followed a sequential process where each phase was completed and verified so that the phase's outcomes (deliverables) would serve as inputs into the next phase. However, for all but the most well-defined projects (i.e., projects that have unambiguous requirements with customers unlikely to change the project's scope), this method has proven problematic from two primary perspectives:\n",
    "1. Customers have difficulty clearly defining their requirements and may not completely know what they actually want. Further, they often have difficulty communicating their needs.\n",
    "2. Developers invariably will make mistakes during the development process. Our methodology should help find and correct those mistakes as soon as possible.\n",
    "\n",
    "Within project management circles, a well-known cartoon ([swing history](https://www.businessballs.com/amusement-stress-relief/tree-swing-cartoon-pictures-early-versions/)) demonstrates these pitfalls:\n",
    "![](images/pm_swing.jpeg)\n",
    "<br>Source: <a href='https://web.archive.org/web/20150317164453/http://projectcartoon.com/cartoon/2'>https://web.archive.org/web/20150317164453/http://projectcartoon.com/cartoon/2</a>"
   ]
  },
  {
   "cell_type": "markdown",
   "id": "b25af343",
   "metadata": {},
   "source": [
    "One problem that the \"swing cartoon\" misses is the lack of [design thinking](https://web.archive.org/web/20220611101350/https://www.nngroup.com/articles/design-thinking/). A design thinking framework starts with understanding and empathizing with the users. In the cartoon, the customer described a solution - the customer did not describe their problems or opportunities.  \n",
    "\n",
    "Other development models ([agile](https://en.wikipedia.org/wiki/Agile_software_development), [iterative](https://en.wikipedia.org/wiki/Iterative_and_incremental_development), and [spiral](https://en.wikipedia.org/wiki/Spiral_model)) contain the same activities as the waterfall model but repeatedly perform them incrementally to build a software project. These models strive to minimize the issues of the waterfall process by increasing customer input and feedback as well as having shorter development cycles to verify and validate the work performed.\n",
    "\n",
    "Verification and validation are standard terms within the software engineering community.  Quite often, verification is referred to as \"building the product right\" while validation means \"building the right product\". Unfortunately, that nuanced description can be somewhat confusing. With validation, we ensure that the product meets the customer's needs. With verification, we check that the product was built to the defined specification."
   ]
  },
  {
   "cell_type": "markdown",
   "id": "c16c55ab",
   "metadata": {},
   "source": [
    "From _The Guide to the Software Engineering Body of Knowledge_[1]:\n",
    "> Software testing consists of the _dynamic_ verification that a program provides \n",
    "> _expected_ behaviors on a _finite_ set of test cases, suitably _selected_ from the usually \n",
    "> infinite execution domain.\n",
    "\n",
    "The guide then breaks down these italicized words:\n",
    "- _Dynamic_: We execute the program on select inputs\n",
    "- _Expected_: We observe the expected outputs of the program and decide if the test was successful or not.\n",
    "- _Finite_: Even the simplest of programs can have so many input values that exhaustive testing is infeasible. As such, we can only perform testing on a subset of the possible tests.\n",
    "- _Selected_: Selecting different test cases can have different levels of effectiveness. As such, we must seek to create the correct set of test cases to evaluate our programs effectively (minimize time and effort). \n",
    "\n",
    "Defects will occur in software systems.  Our goal is to both minimize their occurences and reduce the time between when they appear and then subsequently discovered. \n",
    "\n",
    "![](images/faultProgression.png)\n",
    "\n",
    "Latent defects can be extremely dangerous - one way they manifest themselves as zero-day defects that could allow others to access systems illicitly.\n",
    "\n",
    "The following chart shows the relative cost of fixing defects and how long it took to find them at various points in the development lifecycle.\n",
    "\n",
    "![](images/defectCost.jpeg)\n",
    "\n",
    "Source: http://www.ambysoft.com/essays/whyAgileWorksFeedback.html\n",
    "\n"
   ]
  },
  {
   "cell_type": "markdown",
   "id": "815b5f81",
   "metadata": {},
   "source": [
    "## References\n",
    "[1] P. Bourque and R.E. Fairley, eds., _Guide to the Software Engineering Body of Knowledge, Version 3.0_, 2014. IEEE Computer Society, www.swebok.org\n"
   ]
  },
  {
   "cell_type": "code",
   "execution_count": null,
   "id": "810bca55",
   "metadata": {},
   "outputs": [],
   "source": []
  }
 ],
 "metadata": {
  "kernelspec": {
   "display_name": "Python 3 (ipykernel)",
   "language": "python",
   "name": "python3"
  },
  "language_info": {
   "codemirror_mode": {
    "name": "ipython",
    "version": 3
   },
   "file_extension": ".py",
   "mimetype": "text/x-python",
   "name": "python",
   "nbconvert_exporter": "python",
   "pygments_lexer": "ipython3",
   "version": "3.10.4"
  }
 },
 "nbformat": 4,
 "nbformat_minor": 5
}
