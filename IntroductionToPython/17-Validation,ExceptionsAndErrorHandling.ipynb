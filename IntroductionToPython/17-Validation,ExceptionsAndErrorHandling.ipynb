{
 "cells": [
  {
   "cell_type": "markdown",
   "id": "384b41cc",
   "metadata": {},
   "source": [
    "<div class=\"pagebreak\"></div>\n",
    "\n",
    "# Validation, Exceptions, and Error Handling\n",
    "*aka Developing Robust Code*"
   ]
  },
  {
   "cell_type": "markdown",
   "id": "c236f319",
   "metadata": {},
   "source": [
    "So far, in our code, we have followed the \"happy\" path where everything works, and we assume our input values are correct. If something went wrong, we either re-ran our code (e.g., the user entered an incorrect input value) or made a code fix and re-ran the code.\n",
    "\n",
    "Software needs to be reliable and robust. That means that it needs to prevent errors when possible, detect situations when errors do occur, and then recover from errors when possible.\n",
    "\n",
    "Throughout these notebooks, we have seen many errors and their associated messages, sometimes intentionally, sometimes accidentally, and sometimes just incorrect logic (semantic errors).\n"
   ]
  },
  {
   "cell_type": "markdown",
   "id": "9c9958db",
   "metadata": {},
   "source": [
    "Now we need to make a few decisions:\n",
    "1. When do we want to validate input? \n",
    "2. How do we want to validate input?\n",
    "3. How do we want to prevent errors?\n",
    "4. How do we want to react and recover from errors?\n",
    "\n",
    "No obvious, fixed solutions exist for these questions.  As with many things with system design, the answers will depend upon the context.\n",
    "\n",
    "For scripts that we write for ourselves, ignoring errors may be acceptable in some circumstances. However, we must ensure our code performs robustly for code or results that others use.\n",
    "\n",
    "Input validation depends upon the source, the potential harm of using the data unchecked, and the ability of the exception handling to detect and handle the message. Nevertheless, input validation, while often annoying and time-consuming, is the best way to produce robust code with minimal security flaws.\n",
    "\n",
    "\n",
    "Our programs should validate any data received from external sources. Validation includes checking -\n",
    "- that data falls within allowable(expected) ranges \n",
    "- that the system can handle numeric values. While Python does not limit integers' size, the language does for floats. If you are using a database system to persist data, most likely, that system will have more stringent limits.\n",
    "- for strings, we need to look at their length as well as any patterns that data might represent (e.g., Visa and Master credit cards have a format of NNNN NNNN NNNN NNNN where N is a digit from 0 to 9.)\n",
    "- malformed input designed to perform an injection attack when the data is used without proper validation or escaping [see `html.escape()`](https://docs.python.org/3/library/html.html).\n",
    "\n",
    "You should consider checking the values of input parameters to functions and methods."
   ]
  },
  {
   "cell_type": "markdown",
   "id": "96ba23d3",
   "metadata": {},
   "source": [
    "<div style=\"border: 3px solid black;padding: 10px; border-radius: 10px;\">\n",
    "    <b>Software Security Flaws</b><br>\n",
    "    The <a href=\"https://owasp.org\">Open Web Application Security Project</a> has run an awareness project over the past 20 years to identify the top security issues facing developers in web applications. Examining these security categories \n",
    "    <a href='https://web.archive.org/web/20220511193851/https://www.hahwul.com/cullinan/history-of-owasp-top-10/'>over time</a>, many are directly related to the lack of input validation or sanitization (the process of removing illegal characters from input or replacing potential dangerous character sequences with safe ones): Buffer Overflow, Cross-Site Request Forgery (CSRF), Cross Site Scripting (XSS), Injection, Injection Flaws, Server-Side Request Forgery, Unvalidated Input, and Unvalidated Redirects. The project has now combined most of these issues into the \"injection\" category.\n",
    "    <p>Python contains two potentially dangerous built-in functions: <code>eval()</code> and <code>exec()</code>.\n",
    "<code>eval()</code> evaluates a string assuming it is an expression. Remember - a function \n",
    "call is an expression!. <code>exec()</code> executes the contents of the string as if it \n",
    "represents one or more Python statements.  While legitimate use cases exist for both functions,\n",
    "developers must use extreme care to ensure that any string values passed to these functions \n",
    " are safe to execute.\n",
    "    <p>As an example, create a code cell and execute the following:\n",
    "    <pre>eval('exec(\"import os; print(os.listdir(\\'.\\'))\")')\n",
    "    </pre>\n",
    "    Listing a directory's contents seems innocuous, but the results could give valuable information to an attacker.  And if\n",
    "    someone could execute that code, they could execute far more malicious code.\n",
    "</div>"
   ]
  },
  {
   "cell_type": "markdown",
   "id": "0e0ff176",
   "metadata": {},
   "source": [
    "<p>\n",
    "As we detect errors, we also need to determine who is responsible for recovering from the error as well as how to react and recover. Are these activities performed within the current routine/function? Or passed back up the caller stack? How is the user informed? How does this differ among programs deployed as command-line tools, local GUIs, and web applications?"
   ]
  },
  {
   "cell_type": "markdown",
   "id": "66a1eb46",
   "metadata": {},
   "source": [
    "A phrase long used in computer science has been \"garbage in, garbage out\". Input quality directly influences output quality (results). Therefore, use unvalidated data at your own peril. "
   ]
  },
  {
   "cell_type": "markdown",
   "id": "75cf499a",
   "metadata": {},
   "source": [
    "## Revisiting User Input\n",
    "In this below code snippet from the [Iteration Notebook](11-Iteration.ipynb), the user enters grades until they are complete, which they signify by entering a negative number. We had already added some error checking to see if the user entered at least one grade before calculating the average - this prevented a division by zero. However, what occurs if they enter a value that's not an integer? Let's try -"
   ]
  },
  {
   "cell_type": "code",
   "execution_count": null,
   "id": "3438fc8c",
   "metadata": {},
   "outputs": [],
   "source": [
    "total = 0\n",
    "num_entries = 0\n",
    "\n",
    "while True:\n",
    "    grade = int(input(\"Enter a grade: \"))\n",
    "    if grade < 0:\n",
    "        break\n",
    "    total += grade\n",
    "    num_entries += 1\n",
    "\n",
    "if num_entries > 0:\n",
    "    print(\"Average:\",total/num_entries)\n",
    "else:\n",
    "    print(\"no grades entered\")"
   ]
  },
  {
   "cell_type": "markdown",
   "id": "f7e87cf9",
   "metadata": {},
   "source": [
    "Whether you entered a string literal or a float literal, you should have received a \"ValueError\" that occurs when Python attempts to convert the string return value from input into an integer.  \n",
    "\n",
    "Another error that could have occurred if we ran this script from a shell session is an \"EOFError\" if the input stream was closed (e.g., the user typed ctrl+d). Within Jupyter, it is not possible to replicate this issue - the environment does not provide any mechanism to close the input stream."
   ]
  },
  {
   "cell_type": "markdown",
   "id": "ad67ac6b",
   "metadata": {},
   "source": [
    "Several possibilities exist to validate that a string does represent an integer.\n",
    "\n",
    "One possibility is to create some custom logic to ensure that each character in the string is a valid digit between 0 and 9. This option needs a check that the leading character could be a negative sign. With this approach, we would want to create a function such that other parts of our code (or even other programs) could reuse this logic.\n",
    "\n",
    "When possible, though, we should try to reuse code. Are there any methods in Python's [string class](https://docs.python.org/3/library/stdtypes.html#string-methods)?  Looking at that documentation, several possibilities may exist: `isdecimal()`, `isdigit()`, and `isnumerical()`.\n",
    "\n",
    "`isdecimal()` returns true as long as the string is composed of any character in the ['Unicode General Category ND' ](https://www.fileformat.info/info/unicode/category/Nd/list.htm)."
   ]
  },
  {
   "cell_type": "code",
   "execution_count": null,
   "id": "d1e09571",
   "metadata": {},
   "outputs": [],
   "source": [
    "test_strings = ['65536','00123','-2','0.124','life42','42life','\\u00BD','\\u1C43','\\u2460']\n",
    "for s in test_strings:\n",
    "    print(\"{:>10}\".format(s), s.isdecimal(),)"
   ]
  },
  {
   "cell_type": "markdown",
   "id": "3f245fe9",
   "metadata": {},
   "source": [
    "This method does well, although it cannot handle a negative number. We could still deal with that, though, by stripping the leading `-`."
   ]
  },
  {
   "cell_type": "markdown",
   "id": "fc24c3e8",
   "metadata": {},
   "source": [
    "`isdigit()` still does not handle negative numbers.  It also accepts numbers that are not base 10, such as ①."
   ]
  },
  {
   "cell_type": "code",
   "execution_count": null,
   "id": "6eb5c8ad",
   "metadata": {},
   "outputs": [],
   "source": [
    "for s in test_strings:\n",
    "    print(\"{:>10}\".format(s), s.isdigit())"
   ]
  },
  {
   "cell_type": "code",
   "execution_count": null,
   "id": "b817e20e",
   "metadata": {},
   "outputs": [],
   "source": [
    "int('\\u2460')"
   ]
  },
  {
   "cell_type": "markdown",
   "id": "785c559e",
   "metadata": {},
   "source": [
    "`isnumeric()` is even further away from the right solution. The function accepts anything that can represent a number - including fractions.  And, no, it does not handle negative numbers. "
   ]
  },
  {
   "cell_type": "code",
   "execution_count": null,
   "id": "07fc32eb",
   "metadata": {},
   "outputs": [],
   "source": [
    "for s in test_strings:\n",
    "    print(\"{:>10}\".format(s), s.isnumeric())"
   ]
  },
  {
   "cell_type": "markdown",
   "id": "7508e11d",
   "metadata": {},
   "source": [
    "Another possibility covered in a later notebook is to use a regular expression. Through a powerful notational grammar, regular expressions can find simple and complex text patterns.\n",
    "\n",
    "For this situation (to test if a string represents an integer), we will use the regular expression `^[-+]?[\\d]+$`. The expression works as follows:\n",
    "- `^` means to match the start of the string\n",
    "- `[+-]` is a character class consisting of either the plus `+` sign or the minus `-` sign.\n",
    "- `?` makes that previous character optional\n",
    "- `[\\d]` matches any numeric decimal character (similar to `isdecimal()`.  This match includes characters from 0 to 9 and the equivalent characters in other language writing systems.\n",
    "- `+` means that previous character (or any member of the character class [0-9] must be present one or more times. i.e., at least once \n",
    "- `$` means to match the end of the string\n",
    "\n",
    "From this regular expression, we can see that when we convert a string to an integer, we can have an arbitrary number of leading zeros. However, as demonstrated earlier, the `int()` function can parse leading zeros while the Python interpreter cannot parse integer literals (values embedded in the program) with leading zeros."
   ]
  },
  {
   "cell_type": "code",
   "execution_count": null,
   "id": "7d594f0c",
   "metadata": {},
   "outputs": [],
   "source": [
    "import re\n",
    "for s in test_strings:\n",
    "    print(\"{:>10}\".format(s), bool(re.match(r\"^[-+]?[\\d]+$\",s)))"
   ]
  },
  {
   "cell_type": "markdown",
   "id": "f99756aa",
   "metadata": {},
   "source": [
    "The final solution to examine goes back to that pesky `ValueError`.  Fortunately, Python allows us to capture and handle these types of errors."
   ]
  },
  {
   "cell_type": "markdown",
   "id": "b56a04ee",
   "metadata": {},
   "source": [
    "## Exceptions\n",
    "An exception is an error that occurs as a program executes, causing the normal execution sequence to stop processing and for control to pass to the nearest block designated to handle that type of error. The Python interpreter will print a traceback (stack trace) and stop the program if no such handler is present.  \n",
    "\n",
    "Another way to define an exception is an error that prevents a program from continuing normal execution."
   ]
  },
  {
   "cell_type": "markdown",
   "id": "d3151dee",
   "metadata": {},
   "source": [
    "### Handling Errors\n",
    "Python provides the `try except` statement to handle errors.  The `try` block contains code in which an error may occur.  The `except` block provides the necessary error handling. However, you may still need more code outside the except block to recover from the error appropriately."
   ]
  },
  {
   "cell_type": "code",
   "execution_count": null,
   "id": "5bf120cb",
   "metadata": {},
   "outputs": [],
   "source": [
    "try:\n",
    "    s = \"hello\"\n",
    "    i = int(s)\n",
    "except:\n",
    "    print(\"'{:s}' is not a valid number.\".format(s))"
   ]
  },
  {
   "cell_type": "markdown",
   "id": "0b7f0608",
   "metadata": {},
   "source": [
    "With no other details on the `except` line, that `except` block is a catch-all for any error type.\n",
    "\n",
    "For the grade average example, we need to determine what type of action to take when the user enters a string that is not an integer.  Ideally, we want the user to be able to recover from any inadvertent mistakes.  We also need a mechanism to allow the user to indicate they have finished  entering data - typically accomplished through a [sentinel value](https://en.wikipedia.org/wiki/Sentinel_value).  Our initial sentinel value was any negative number, but was that the most appropriate choice?\n",
    "\n",
    "Rather than starting from our existing, let's revisit the pseudocode for this process:\n",
    "<pre><i>\n",
    "    set running total to 0\n",
    "    set number of grade entries to 0\n",
    "    while the user has more grade entries:\n",
    "        read next grade\n",
    "        add grade to running total\n",
    "        increment number of entries by 1\n",
    "    if there's at least one grade entry\n",
    "        compute and display average\n",
    "    otherwise\n",
    "        state no grades entered\n",
    "</i></pre>\n",
    "We have a straightforward conversion for most of the pseudocode except for the loop. Let's expand that -\n",
    "<pre><i>\n",
    "    ...\n",
    "    while true:\n",
    "        read next grade\n",
    "        if sentinel entered, exit loop\n",
    "        if valid grade (an integer)\n",
    "            add grade to running total\n",
    "            increment number of entries by 1\n",
    "        else \n",
    "            display error message\n",
    "    ...\n",
    "</i></pre>\n",
    "\n",
    "Now, convert the pseudocode to Python code.  Since we are changing our logic, rather than relying upon a negative integer for the sentinel, let's use the string \"q\"."
   ]
  },
  {
   "cell_type": "code",
   "execution_count": null,
   "id": "e8b343db",
   "metadata": {},
   "outputs": [],
   "source": [
    "total = 0\n",
    "num_entries = 0\n",
    "\n",
    "while True:\n",
    "    grade = input(\"Enter a grade('q' to quit): \")\n",
    "    if grade == 'q':\n",
    "        break\n",
    "    try:\n",
    "        grade = int(grade)\n",
    "        total += grade\n",
    "        num_entries += 1\n",
    "    except:\n",
    "        print(\"Invalid grade entered: \",grade)\n",
    "\n",
    "if num_entries > 0:\n",
    "    print(\"Average:\",total/num_entries)\n",
    "else:\n",
    "    print(\"no grades entered\")"
   ]
  },
  {
   "cell_type": "markdown",
   "id": "3dad4a11",
   "metadata": {},
   "source": [
    "### Handle by Type\n",
    "\n",
    "The `except` clause with just the keyword itself catches all errors by default. However, in certain circumstances, our code may only want to handle a specific error, making it the caller's responsibility to handle (or not!) any other errors that may exist.\n",
    "\n",
    "For example, what a file contained the grades, one entry per line, and we had this code to compute averages:\n",
    "<pre>\n",
    "with open(\"test.txt\") as f:\n",
    "    total = 0\n",
    "    num_entries = 0\n",
    "    for line in f:\n",
    "        total += int(line)\n",
    "        num_entries += 1\n",
    "    print(total/num_entries)\n",
    "</pre>"
   ]
  },
  {
   "cell_type": "markdown",
   "id": "f1d3b931",
   "metadata": {},
   "source": [
    "What errors may occur?\n",
    "- The file does not exist\n",
    "- The file uses a different encoding\n",
    "- The file contains data other than integers\n",
    "- The file is empty\n",
    "\n",
    "Now, we need to determine how to handle these different errors.\n",
    "\n",
    "Python provides the capability to handle a specific error by specifying that error type after the `except`.  [View Python's Built-in Exceptions](https://docs.python.org/3/library/exceptions.html)\n",
    "\n",
    "As you can see below, Python allows for multiple `except` blocks for each `try` statement. Once an `except` block executes for a `try` statement, the interpreter skips checking the remaining `except` blocks. Because of this logic, it is also necessary to list `except` blocks in order of most specific to the most general.\n",
    "\n",
    "Python allows us to specify a variable name after the exception. By referencing the exception object, we can query the exception's state (it is just an object) to access additional details.\n",
    "\n",
    "The following code block contains several errors.  While the comments provide the corrections, you should run the code first.  Then fix the associated error. Repeat until the average is printed.   Finally, remove the inner most try/except handling to see how the code reacts.  What occurred?"
   ]
  },
  {
   "cell_type": "code",
   "execution_count": null,
   "id": "bf66721b",
   "metadata": {},
   "outputs": [],
   "source": [
    "filename = \"data/grade.txt\"       # Correct filename is data/grades.txt\n",
    "try:\n",
    "    with open(file_name) as f:    # Variable name has not been defined\n",
    "        total = 0\n",
    "        num_entries = 0\n",
    "        line_count = 0\n",
    "        for line in f:\n",
    "            line_count += 1\n",
    "            try:\n",
    "                total += int(line)\n",
    "                num_entries += 1\n",
    "            except ValueError:\n",
    "                print(\"Bad integer value on line {:d}: {:s}\".format(line_count,line))\n",
    "        print(\"Average: {:.2f}\".format(total/num_entries))\n",
    "except FileNotFoundError as file_error:\n",
    "    # show additional attributes for \"FileNotFoundError\"\n",
    "    print(file_error.filename)\n",
    "    print(file_error.errno)\n",
    "    print(file_error.strerror)\n",
    "    print(\"Unable to find:\", filename)\n",
    "except Exception as err:\n",
    "    print(\"Unknown error:\", err)    # this prints the excpetion's default error message\n",
    "    print(\"Error Type:\", type(err))"
   ]
  },
  {
   "cell_type": "markdown",
   "id": "4f8ef193",
   "metadata": {},
   "source": [
    "Programmers can specify multiple exceptions with the same except block:\n",
    "<pre>\n",
    "filename = \"data/grade.txt\"       # Correct filename is data/grades.txt\n",
    "try:\n",
    "    ...\n",
    "except (FileNotFoundError, IOError) as os_error:\n",
    "    # Handle OS related errors in this block\n",
    "    ...\n",
    "except Exception as err:\n",
    "    # Handle other errors in this block\n",
    "    ...\n",
    "</pre>"
   ]
  },
  {
   "cell_type": "markdown",
   "id": "90051081",
   "metadata": {},
   "source": [
    "### `else` clause\n",
    "The `try`/`except` statement can have an optional `else` clause which only executes if no exceptions occurred:\n",
    "\n",
    "<pre>\n",
    "try:\n",
    "    <i>statement</i>\n",
    "    <i>statement</i>\n",
    "    <i>...</i>\n",
    "except <i>ExceptionName</i>:\n",
    "    <i>statement</i>\n",
    "    <i>statement</i>\n",
    "    <i>...</i>\n",
    "else:\n",
    "    <i>statement</i>\n",
    "    <i>statement</i>\n",
    "    <i>...</i>\n",
    "</pre>\n",
    "\n",
    "The `else` clause must come after the `except` clause(s)."
   ]
  },
  {
   "cell_type": "markdown",
   "id": "41520885",
   "metadata": {},
   "source": [
    "### `finally` clause\n",
    "Additionally, the `try`/`except` statement can have an optional `finally` clause which \n",
    "excecutes after the try block, the except block(s), and any `else` block. I.e., the\n",
    "`finally` clause executes as the last item of a `try`/`except` statement.  The purpose is to\n",
    "perform any necessary cleanup operations.  Code in the `finally` clause always executes.\n",
    "\n",
    "<pre>\n",
    "try:\n",
    "    <i>statement</i>\n",
    "    <i>statement</i>\n",
    "    <i>...</i>\n",
    "except <i>ExceptionName</i>:\n",
    "    <i>statement</i>\n",
    "    <i>statement</i>\n",
    "    <i>...</i>\n",
    "finally:\n",
    "    <i>statement</i>\n",
    "    <i>statement</i>\n",
    "    <i>...</i>\n",
    "</pre>"
   ]
  },
  {
   "cell_type": "markdown",
   "id": "9f8d86cb",
   "metadata": {},
   "source": [
    "### Raising Exceptions\n",
    "With Python, we can force a specified exception to occur through the `raise` statement:"
   ]
  },
  {
   "cell_type": "code",
   "execution_count": null,
   "id": "c2aed464",
   "metadata": {},
   "outputs": [],
   "source": [
    "raise NameError(\"code initiated exception\")"
   ]
  },
  {
   "cell_type": "markdown",
   "id": "ebbb063b",
   "metadata": {},
   "source": [
    "We can catch these exception ourselves as well as re-raise them (any type of an exception can be re-raised). By re-raising an exception, we can perform some initial error handling and then delegate the rest of the error handling to the caller."
   ]
  },
  {
   "cell_type": "code",
   "execution_count": null,
   "id": "ebe729ac",
   "metadata": {},
   "outputs": [],
   "source": [
    "try:\n",
    "    raise NameError(\"code initiated exception\")\n",
    "except NameError as ne:\n",
    "    print(\"Our raised exception:\",ne)\n",
    "    raise ne"
   ]
  },
  {
   "cell_type": "markdown",
   "id": "4c238fa2",
   "metadata": {},
   "source": [
    "### Creating Exceptions\n",
    "While Python contains many [built-in exception types](https://docs.python.org/3/library/exceptions.html) that we can utilize, we can also define new exception types more specific to the situations that may arise in our programs.\n",
    "\n",
    "The built-in exceptions are classes within Python - to define our own, we need to define a class that inherits from one of those built-in exception types.  (We cover the details of classes and inherits in a few notebooks.)\n",
    "\n",
    "The following code block creates a new exception type called `MyException`.  The `pass` statement implies that the class is empty and will use the state and behavior of the parent class (`Exception`).  "
   ]
  },
  {
   "cell_type": "code",
   "execution_count": null,
   "id": "6e255a65",
   "metadata": {},
   "outputs": [],
   "source": [
    "class MyException(Exception):\n",
    "    pass"
   ]
  },
  {
   "cell_type": "markdown",
   "id": "d426d55c",
   "metadata": {},
   "source": [
    "Based on some condition in our program, we could raise and catch this new exception type. \n",
    "\n",
    "Note: The code does not have to catch the exception immediately.  This example catches `MyException` immediately to demonstrate the capability."
   ]
  },
  {
   "cell_type": "code",
   "execution_count": null,
   "id": "e291f05c",
   "metadata": {},
   "outputs": [],
   "source": [
    "try:\n",
    "    raise MyException('panic')\n",
    "except MyException as exc:\n",
    "    print(exc)"
   ]
  },
  {
   "cell_type": "markdown",
   "id": "b4cc53d4",
   "metadata": {},
   "source": [
    "### Stack Traces\n",
    "When a program does not catch an exception, the Python interpreter produces the stack trace (Traceback) of the function/method calls that led to the issue. It is also possible to programmatically process stack traces in code. For example, when the following code executes:\n",
    "\n",
    "When the following code executes:\n",
    "<pre>\n",
    "def a():\n",
    "    print (\"called\")\n",
    "    raise Exception(\"Showing something that happened\")\n",
    "    \n",
    "def b():\n",
    "    # some processing\n",
    "    a()\n",
    "    # more processing\n",
    "    \n",
    "print(\"starting\")\n",
    "b()\n",
    "print(\"complete\")\n",
    "</pre>\n",
    "It produces the following result:\n",
    "<pre>\n",
    "starting\n",
    "called\n",
    "---------------------------------------------------------------------------\n",
    "Exception                                 Traceback (most recent call last)\n",
    "Input In [14], in &lt;cell line: 11&gt;()\n",
    "      8     # more processing\n",
    "     10 print(\"starting\")\n",
    "---> 11 b()\n",
    "     12 print(\"complete\")\n",
    "\n",
    "Input In [14], in b()\n",
    "      5 def b():\n",
    "      6     # some processing\n",
    "----> 7     a()\n",
    "\n",
    "Input In [14], in a()\n",
    "      1 def a():\n",
    "      2     print (\"called\")\n",
    "----> 3     raise Exception(\"Showing something that happened\")\n",
    "\n",
    "Exception: Showing something that happened\n",
    "</pre>"
   ]
  },
  {
   "cell_type": "markdown",
   "id": "5c755263",
   "metadata": {},
   "source": [
    "The very bottom of the code shows the line where an exception occurs.  We can see the function name `a` and the lines immediately before the exception.  We can then move upwards in the output to see the function that called `a` and so forth to the top.  Similarly, we can start at the top.  On line 11, our initial code routine called the function `b`.  Then on line 7, `b` called function `a`. Then, on line 3 within `a`, an exception occurred.\n",
    "\n",
    "Following the code through these stack traces (tracebacks) is essential to understanding why exceptions occurred and then developing code to prevent these issues."
   ]
  },
  {
   "cell_type": "markdown",
   "id": "54ed9820",
   "metadata": {},
   "source": [
    "### Exception Best Practices\n",
    "\n",
    "As with any other programming technique, exceptions can be used wisely and abused.\n",
    "\n",
    "Ideally, we should add exception handling anywhere an exception may occur. Nevertheless, we must catch and handle exceptions to resolve the underlying conditions. You should not just \"use an exception to pass the buck\". Instead, determine the best place to handle the error. Sometimes this will be as close to the error as possible, other times it will be where the data was entered that eventually let to the exception. For exceptions caused by input data (e.g., a user entered the wrong file name), then the exception needs to be resolved in a way that the user can correct the issue - this may be several calls up the stack.\n",
    "\n",
    "Also, for production code, we may want to include a default handler at the very top of our processing code to catch possible errors. With a default handler, we can log these errors for future investigation.  Similarly, in processing loops for web applications, we may want to have a handle for the entry points. This handler can provide a more appropriate error message to the user and log unhandled exceptions."
   ]
  },
  {
   "cell_type": "markdown",
   "id": "149f81f1",
   "metadata": {},
   "source": [
    "Exceptions can notify other parts of the program to handle errors.\n",
    "\n",
    "Throw exceptions only for truly exceptional conditions.  If some other coding practice (validating input) can detect the condition, use that.  For example, if we are computing the average of numbers in a list, we can check that the list is not empty to prevent a division by zero error.\n",
    "\n",
    "When creating the exception, include all of the necessary details. For example, for an index out of bounds error with a list, you could document what variable held the list, the current size, and the requested index that was out of bounds. By having all these details, programmers can more easily debug the situation to determine what went wrong and then create more robust code to prevent future problems.\n",
    "\n",
    "Avoid empty `except` blocks. Suppose the situation can handle the exception without any special processing. In that case, log the error message and comment on why no error handling was present. "
   ]
  },
  {
   "cell_type": "markdown",
   "id": "626a2018",
   "metadata": {},
   "source": [
    "## Error Handling Techniques\n",
    "This section summarizes many different techniques to handle errors. The right approach differs based on the current situation.  It may be appropriate to use several of these techniques in combination. [1]\n",
    "\n",
    "Whatever mechanism(s) you utilize, document the error handling approach within function, module, or class by placing the information into docstrings. "
   ]
  },
  {
   "cell_type": "markdown",
   "id": "8adb6481",
   "metadata": {},
   "source": [
    "### Return or use a neutral /default value\n",
    "One possibility is to return a value known to be harmless or devoid of meaning. For numbers, a numeric result might be zero. For strings, an empty string. For collections, return an empty collection.\n",
    "\n",
    "Within routines, if a parameter is invalid, it may be better to default to a particular value or action. For example, a video game could show a default background color and let the operation continue. "
   ]
  },
  {
   "cell_type": "markdown",
   "id": "93465494",
   "metadata": {},
   "source": [
    "### Substitute the next piece of data\n",
    "If processing a stream or file of data, skip invalid records and return the next legitimate record. Often, we will combine this technique with \"log the error\"."
   ]
  },
  {
   "cell_type": "markdown",
   "id": "6059a11a",
   "metadata": {},
   "source": [
    "### Substitute the previous data value\n",
    "Again, if processing a stream of data, such as temperature or heart rate, and you do not receive a valid value, one possibility is to return the most recent legitimate value.\n",
    "\n",
    "However, you may also need to keep track of successive errors and raise a warning when a certain threshold (count) has passed."
   ]
  },
  {
   "cell_type": "markdown",
   "id": "686f986f",
   "metadata": {},
   "source": [
    "### Substitute the closest legal value / Interpolate\n",
    "In other cases, when processing data, you could choose to return the closest legal value. Or, if you have a piece of missing data, interpolate between the values immediately before and after.\n",
    "\n",
    "If you are measuring radiation levels, this may not be the best idea - [Chernobyl Disaster](https://en.wikipedia.org/wiki/Chernobyl_disaster). The Geiger counters on-site at the time of the accident could only report radiation levels up to a certain amount. Unfortunately, the actual radiation levels far exceeded that amount."
   ]
  },
  {
   "cell_type": "markdown",
   "id": "55dac604",
   "metadata": {},
   "source": [
    "### Log the error\n",
    "You can log the error to a file when your program detects incorrect data and then continue processing. Often, you will want to use this method in conjunction with one of the other listed methods.\n",
    "\n",
    "As you log data, consider any potential harm that data may cause. For example, was the data rejected because it could lead to an injection attack? Could the data leak sensitive or private information?"
   ]
  },
  {
   "cell_type": "markdown",
   "id": "6818d848",
   "metadata": {},
   "source": [
    "### Return an error code\n",
    "Rather than the routine trying to handle an error itself, the routine can report an error and let the routine's callers determine how to best respond to the situation. Several ways exist to perform this notification:\n",
    "- return an error status as the function's return value.\n",
    "- raise an exception\n",
    "- set a status variable"
   ]
  },
  {
   "cell_type": "markdown",
   "id": "3f50ef62",
   "metadata": {},
   "source": [
    "### Call an error-processing routine/class\n",
    "In this approach, programmers centralize error handling in a global function or class. By centralizing, the responsibility to handle errors only exists within one location. The primary advantage is that it becomes easier to investigate issues and debug problems. The downside to this approach is that the entire system becomes tethered to this capability."
   ]
  },
  {
   "cell_type": "markdown",
   "id": "3ef87e5c",
   "metadata": {},
   "source": [
    "### Display an error message\n",
    "When an error occurs, alert the user to what happened, why it happened, and how to proceed.\n",
    "\n",
    "<p>\n",
    "<div style=\"border: 3px solid black;padding: 10px; border-radius: 10px;\">\n",
    "<b>Error messages</b><p>\n",
    "Providing well-crafted and helpful error messages is essential to any modern computer system. However, developers often fail to achieve that goal. For instance, Jupyter Lab produced the following error message::\n",
    "<pre>\n",
    "Launcher Error Cannot read properties of undefined (reading 'path')\n",
    "Error Invalid response: 400 Bad Request\n",
    "</pre>\n",
    "Not helpful to say the least. \n",
    "    \n",
    "Good error messages need to be - \n",
    "- Explicit and visible. At an absolute minimum, users must know that something has gone awry.  That email lost in the Internet?  Good luck just finding that it has disappeared.\n",
    "- Human readable. Avoid obscure codes and abbreviations.  It may be necessary to include a code to provide support, but that should come at the end of the message.\n",
    "- Polite phrasing. Please do not blame the user or imply that they did something wrong.\n",
    "- Accurate  description.  What exactly was the problem? In some security situations, such details may be inappropriate to provide.\n",
    "- Advice.  Provide constructive advice on how to fix the problem or how to proceed with the next action.  \n",
    "\n",
    "[Guidelines for Error Messages](https://web.archive.org/web/20220616061138/https://xd.adobe.com/ideas/process/information-architecture/error-message-design-ux/)    \n",
    "</div>"
   ]
  },
  {
   "cell_type": "markdown",
   "id": "a68e6fc8",
   "metadata": {},
   "source": [
    "### Be Situational\n",
    "Error handling is not a one-size fits all approach. Instead, choose the appropriate mechanism for the current situation.\n",
    "\n",
    "While this approach provides flexibility, it may create risk in systems requiring certain robustness or safety levels."
   ]
  },
  {
   "cell_type": "markdown",
   "id": "9d1a69d5",
   "metadata": {},
   "source": [
    "### Shut down\n",
    "Depending upon the situation, the best approach may be to generate an error log message and shut down the system immediately. For example, if you have software that controls radiation doses to patients as part of chemotherapy treatment, what should occur if an error situation arises? Using one of the techniques listed here for imputing data is not safe. The only safe alternative is to shut down until someone can appropriately investigate and resolve the situation.\n",
    "\n",
    "[Therac-25](https://en.wikipedia.org/wiki/Therac-25) is an often used example of this situation. Unfortunately, this radiation therapy machine killed several patients due to software issues. Nancy Leveson has written an [extensive paper](resources/therac25.pdf) on this situation."
   ]
  },
  {
   "cell_type": "markdown",
   "id": "03de5399",
   "metadata": {},
   "source": [
    "## Checking Parameter Values\n",
    "At the start of these notebooks, we presented the documentation to produce as we create an algorithm to solve a problem:\n",
    "- Inputs to the routine\n",
    "- Outputs from the routine\n",
    "- Pseudocode (steps in the routine)\n",
    "\n",
    "Often, these inputs are a function's parameters. As such, we should verify that these parameters meet the expected values. If the parameters are incorrect, we need to follow one or more of the error handling techniques.\n",
    "\n",
    "For example, what issues may occur in the following method to compute the average of a list of values?"
   ]
  },
  {
   "cell_type": "code",
   "execution_count": null,
   "id": "c02f0a1e",
   "metadata": {},
   "outputs": [],
   "source": [
    "def compute_average(l):\n",
    "    return sum(l)/len(l)"
   ]
  },
  {
   "cell_type": "markdown",
   "id": "3ede97dd",
   "metadata": {},
   "source": [
    "What happens if the data is not numeric?  What happens if we pass an empty list?"
   ]
  },
  {
   "cell_type": "code",
   "execution_count": null,
   "id": "b66d814a",
   "metadata": {},
   "outputs": [],
   "source": [
    "compute_average([100,90,80,\"c\"])     # raises type error, can not use '+' on numbers and strings"
   ]
  },
  {
   "cell_type": "code",
   "execution_count": null,
   "id": "66588929",
   "metadata": {},
   "outputs": [],
   "source": [
    "compute_average([])          # raises division by zero error"
   ]
  },
  {
   "cell_type": "markdown",
   "id": "7203c59a",
   "metadata": {},
   "source": [
    "## Preconditions, Postconditions, Invariants, and Assertions\n",
    "While this section title seems long, it is ultimately the same underlying principle at work in different ways - checking if a condition holds or not. \n",
    "\n",
    "Building on top of the documentation for an algorithm, we can add two items: _preconditions_ to the routine and _postconditions_ of the routine.\n",
    "\n",
    "_Preconditions_ are conditions guaranteed to be true before the routine. These conditions\n",
    "include such things as inputs in appropriate ranges and files initialized and ready for\n",
    "input/output. _Preconditions_ are the client code’s obligations to the routine that it \n",
    "calls. For example, if we create a shape such as a circle or a square, the radius or \n",
    "side length must be a nonnegative number. As we write code, we should check that these\n",
    "preconditions hold. If not, an appropriate error handling technique is needed, such as\n",
    "logging the issue, returning an error code, or raising an exception.\n",
    "\n",
    "_Postconditions_ are the conditions(items) guaranteed to be true before control returns to the caller. These conditions are the routine’s/class’s obligations to the code that uses it. For example, if a routine adds an element to a list, a postcondition is that the list is not empty. Or, more strongly, the length of a list is one more than the length of that list when the routine started.\n",
    "\n",
    "_Invariants_ are a set of conditions(assumptions) that must always hold true during the life of a program (or, more narrowly, by the life of an object). You can consider this to be a combined precondition and postcondition - it must be valid before and after a call to a method. However, while executing a routine that changes the relevant state/attributes for the condition, the invariant may not necessarily be true. Invariants should hold during the object’s lifetime - from the end of its constructor to the end of its destructor. (We will present the object's lifcycle  in a few notebooks.) As an example, the radius of a circle must always be nonnegative. We also apply the term invariant to a sequence of operations. In this user, the invariant is the set of conditions that remain true during these operations.\n",
    "\n",
    "_Assertions_ are a series of statements used during development that allows a program to check itself as it runs. Think of an assertion as a statement of fact<sup>[*](https://www.lexico.com/en/definition/assertion)</sup>. As such, if an assertion fails, our assumption is incorrect, or the code produces an incorrect value. We use _assertions_ as sanity checks that conditions hold true and to document assumptions we have made in the code explicitly. Primarily, we use _assertions_ as a development/debugging tool - it is possible to turn off these checks completely. Do not use assert statements for necessary checks (data validation, authorization). However, as we will see in a couple of notebooks, we will also use assertions for our tests."
   ]
  },
  {
   "cell_type": "markdown",
   "id": "cff38e24",
   "metadata": {},
   "source": [
    "### Assertion Example\n",
    "Suppose we build an online stock market system and need to compute the purchase price of a stock. As part of the business rules, the company can offer incentives such as a discount on the transaction cost for special promotions such as new customer enticement.\n",
    "<pre>\n",
    "def compute_charge(num_shares, price_per_share, commission_charge, bonus_offer):\n",
    "    amount = num_shares * price_per_share + commission_charge - bonus_offer\n",
    "    return amount\n",
    "</pre>\n",
    "However, what happens if `bonus_offer > num_shares * price_per_share + commission_charge`? Do we owe the client money due to the client buying stocks?  In this situation, we need an assertion that the amount is positive.  We could also add another assertion that the `amount` is less than or equal to the <code>num_shares * price_per_share + commission_charge</code>. (This covers negative values passed in `bonus_offer`.)"
   ]
  },
  {
   "cell_type": "code",
   "execution_count": null,
   "id": "dc40790f",
   "metadata": {},
   "outputs": [],
   "source": [
    "def compute_charge(num_shares, price_per_share, commission_charge, bonus_offer):\n",
    "    amount = num_shares * price_per_share + commission_charge - bonus_offer\n",
    "    assert 0 <= amount <= num_shares * price_per_share + commission_charge\n",
    "    return amount"
   ]
  },
  {
   "cell_type": "code",
   "execution_count": null,
   "id": "72408632",
   "metadata": {},
   "outputs": [],
   "source": [
    "compute_charge(100, 10.00, 7.95, 200.00)"
   ]
  },
  {
   "cell_type": "code",
   "execution_count": null,
   "id": "5a4093d9",
   "metadata": {},
   "outputs": [],
   "source": [
    "compute_charge(100, 10.00, 7.95, -200.00)  # Will raise an AssertionError as the bonus offer is negative"
   ]
  },
  {
   "cell_type": "code",
   "execution_count": null,
   "id": "10df1093",
   "metadata": {},
   "outputs": [],
   "source": [
    "compute_charge(100, 10.00, 7.95, 1500.00)  # raises an assertion error as amount < 0"
   ]
  },
  {
   "cell_type": "markdown",
   "id": "d2a5bb85",
   "metadata": {},
   "source": [
    "Fixing the last condition requires a check to be added to compute_charge that prevents a negative. For a negative bonus offer, we could choose among several different possibilities. We could add validation for each of the function's parameters. We could also simply not choose to perform any validation as the call came from within our program."
   ]
  },
  {
   "cell_type": "code",
   "execution_count": null,
   "id": "eb3ba44e",
   "metadata": {},
   "outputs": [],
   "source": [
    "def compute_charge(num_shares, price_per_share, commission_charge, bonus_offer):\n",
    "    if bonus_offer < 0:\n",
    "        raise ValueError(\"bonus_offer cannot be negative\")\n",
    "    amount = num_shares * price_per_share + commission_charge - bonus_offer\n",
    "    if amount < 0:\n",
    "        amount = 0\n",
    "    assert 0 <= amount <= num_shares * price_per_share + commission_charge\n",
    "    return amount"
   ]
  },
  {
   "cell_type": "code",
   "execution_count": null,
   "id": "d4be2817",
   "metadata": {},
   "outputs": [],
   "source": [
    "compute_charge(100, 10.00, 7.95, 1500.00) "
   ]
  },
  {
   "cell_type": "markdown",
   "id": "d3a669b8",
   "metadata": {},
   "source": [
    "### Assertion Syntax\n",
    "The assert syntax follows this format:\n",
    "<pre>\n",
    "    assert <i>expression</i>[, <i>message</i>]\n",
    "</pre>\n",
    "At a minimum, assert needs an expression that evaluates to True or False. The second portion is optional and provides an error message if the assertion fails.\n",
    "\n",
    "Assertions are an underutilized tool in many programmers’ arsenals. By documenting assumptions, asserts can help programmers identify situations that violate those assumptions. Pay careful attention, though, when using assertions - they are not a mechanism for detecting run-time errors, as they can be globally disabled through the Python interpreter. Also, do not use asserts to implement application functionality (e.g., data validation)."
   ]
  },
  {
   "cell_type": "markdown",
   "id": "e2818360",
   "metadata": {},
   "source": [
    "## Discussion\n",
    "Programmers should strive to develop robust programs that can continue to operate in a safe state when issues do arise. If an executing program can not be put back into a safe state after an error, then the program must stop itself safely.\n",
    "\n",
    "Trade-offs exist with the amount of error handling code added to our programs. In some cases, too much can be as much of a curse as too little. However, data validation is absolutely critical when it comes to validating external inputs into our systems - especially in online applications."
   ]
  },
  {
   "cell_type": "markdown",
   "id": "8f88bedc",
   "metadata": {},
   "source": [
    "## Exercises\n",
    "1. Rewrite the compute_average routine to handle non-numeric data, and an empty list is passed. Your function docstring should describe the applied error handling approach(es)."
   ]
  },
  {
   "cell_type": "markdown",
   "id": "92afd53c",
   "metadata": {},
   "source": [
    "## References\n",
    "1. Steve McConnell. 2004. _Code Complete_, Second Edition. Microsoft Press, USA. [O'Reilly](https://learning.oreilly.com/library/view/code-complete-2nd/0735619670/)\n"
   ]
  }
 ],
 "metadata": {
  "kernelspec": {
   "display_name": "Python 3 (ipykernel)",
   "language": "python",
   "name": "python3"
  },
  "language_info": {
   "codemirror_mode": {
    "name": "ipython",
    "version": 3
   },
   "file_extension": ".py",
   "mimetype": "text/x-python",
   "name": "python",
   "nbconvert_exporter": "python",
   "pygments_lexer": "ipython3",
   "version": "3.10.4"
  }
 },
 "nbformat": 4,
 "nbformat_minor": 5
}
