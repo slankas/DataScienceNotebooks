{
 "cells": [
  {
   "cell_type": "markdown",
   "id": "384b41cc",
   "metadata": {},
   "source": [
    "# Validation, Exceptions, and Error Handling\n",
    "*aka Developing Robust Code*\n",
    "\n"
   ]
  },
  {
   "cell_type": "markdown",
   "id": "c236f319",
   "metadata": {},
   "source": [
    "So far in our code, we have followed the \"happy\" path through our code where everything just works and we assume that our input values are correct.  If something went wrong, we either re-ran our code (e.g., bad input value from the user) or made a code fix and then re-ran the code.\n",
    "\n",
    "Software needs to be reliable and robust. That means that it needs to prevent errors when possible, detect situations when errors do occur, and then recover from errors as appropriate.  \n",
    "\n",
    "Throughout these notebooks, we have seen many errors and their associated messages - sometimes intentionally, sometimes accidentally, and sometimes just incorrect logic (semantic errors)."
   ]
  },
  {
   "cell_type": "markdown",
   "id": "9c9958db",
   "metadata": {},
   "source": [
    "Now we need to make a few decisions:\n",
    "1. How do we want to validate input?\n",
    "2. How do we want to prevent errors?\n",
    "3. How do we want to react and recover from errors?\n",
    "\n",
    "There are no clear, fixed solutions for these questions.  As with many things with system design, the answers will depend upon the context.\n",
    "\n",
    "For scripts that we write for ourselves, ignoring errors may be fine in some circumstances.  However, if for code or results that will be used by others, we do need to ensure our code performs in a robust manner.  \n",
    "\n",
    "Input validation depends upon the source, potential harm of using the data unchecked, and the ability for the exception handling to detect and handle the message.  Input validation, while often times annoying and time-consuming, is the best way to produce robust code that has a minimal amount of security flaw."
   ]
  },
  {
   "cell_type": "markdown",
   "id": "96ba23d3",
   "metadata": {},
   "source": [
    "<div style=\"border: 3px solid black;padding: 10px; border-radius: 10px;\">\n",
    "    <b>Software Security Flaws</b><br>\n",
    "    The <a href=\"https://owasp.org\">Open Web Application Security Project</a> has run an awareness project over the past \n",
    "    20 years to identify the top security issues facing developers in web applications.  Looking through the\n",
    "    <a href='https://web.archive.org/web/20220511193851/https://www.hahwul.com/cullinan/history-of-owasp-top-10/'>\n",
    "        history</a>\n",
    "    of these categories, many are directly related to the lack of input validation or sanitization (sanitization is\n",
    "    the process of removing illegal characters from input or replacing potential dangerous character sequences\n",
    "    with safe ones): Buffer Overflow, Cross Site Request Forgery (CSRF), Cross Site Scripting (XSS), \n",
    "    Injection, Injection Flaws, Server-Side Request Forgery, Unvalidated Input, and Unvalidated Redirects.\n",
    "    Most of these now have been put into the \"injection\" category.\n",
    "    <p> Two potentially dangerous built-in functions are <code>eval()</code> and <code>exec()</code>.\n",
    "        <code>eval()</code> evaluates a string assume it's an expression. Remember - a function call is an\n",
    "        expression!. <code>exec()</code> executes the contents of the string as if it represents one or \n",
    "        more Python statements.  While legitimate use cases exist for both of theses functions, extreme care\n",
    "        taken to ensure any string values passed to these functions are safe to execute.\n",
    "    <p>As an example, create a code cell and run the following:\n",
    "    <pre>eval('exec(\"import os; print(os.listdir(\\'.\\'))\")')\n",
    "    </pre>\n",
    "    Listing a directory's contents seems innocuous, but it could give valuable information to an attacker.  And if\n",
    "    someone could execute that code, they more than likely could execute far more malicious code.\n",
    "</div>"
   ]
  },
  {
   "cell_type": "markdown",
   "id": "0e0ff176",
   "metadata": {},
   "source": [
    "As we detect errors, we also need to determine who is responsible for recovering from the error?  Is it performed within the current routine / function?  or passed back up the caller stack?  How is the user informed?  How does this differ among command-line tools, local GUIs, and web applications?"
   ]
  },
  {
   "cell_type": "markdown",
   "id": "75cf499a",
   "metadata": {},
   "source": [
    "## Revisiting User Input\n",
    "In this below code snippet from the [Iteration Notebook](11-Iteration.ipynb), the user is asked to enter grades until they are complete with a negative number.  We had already added some error checking to see if the user entered at least one grade before calculating the average - this prevented a division by zero.  However, what occurs if they enter a value that's not an integer?  Let's try ..."
   ]
  },
  {
   "cell_type": "code",
   "execution_count": null,
   "id": "3438fc8c",
   "metadata": {},
   "outputs": [],
   "source": [
    "total = 0\n",
    "num_entries = 0\n",
    "\n",
    "while True:\n",
    "    grade = int(input(\"Enter a grade: \"))\n",
    "    if grade < 0:\n",
    "        break\n",
    "    total += grade\n",
    "    num_entries += 1\n",
    "\n",
    "if num_entries > 0:\n",
    "    print(\"Average:\",total/num_entries)\n",
    "else:\n",
    "    print(\"no grades entered\")"
   ]
  },
  {
   "cell_type": "markdown",
   "id": "f7e87cf9",
   "metadata": {},
   "source": [
    "Whether you entered a string literal or a float literal, you should have received a \"ValueError\" that occurs when Python attempts to convert the string return value from input into an integer.  \n",
    "\n",
    "Another error that could have occurred if we were running this script from a shell session if \"EOFError\" if the input stream was closed (e.g., through the user typing ctrl+d). You may need to run this code from the command-line rather than a Juypter notebook to receive this error."
   ]
  },
  {
   "cell_type": "markdown",
   "id": "ad67ac6b",
   "metadata": {},
   "source": [
    "First let's look at different possibilities to validate that a string actually does represent an integer.\n",
    "\n",
    "One possibility is to create some custom logic to ensure that each character in the string is a valid digit between 0 and 9. We'd probably need to handle having a check as well that leading character could be a negative sign. If\n",
    "we chose this approach, we would want to create a function such that other parts of our code (or even other programs) could re-use this logic.\n",
    "\n",
    "When possible, though, we should try to reuse code. Are there any methods in Python's [string class](https://docs.python.org/3/library/stdtypes.html#string-methods)?  Looking at that documentation, several possibilities may exist: `isdecimal()`, `isdigit()`, and `isnumerical()`.  However, reading the documentation, there's some interesting particulars for each of these:\n",
    "\n",
    "`isdecimal()` returns true as long as the string is composed of any character in the ['Unicode General Category ND' ](https://www.fileformat.info/info/unicode/category/Nd/list.htm)."
   ]
  },
  {
   "cell_type": "code",
   "execution_count": null,
   "id": "d1e09571",
   "metadata": {},
   "outputs": [],
   "source": [
    "test_strings = ['65536','00123','-2','0.124','life42','42life','\\u00BD','\\u1C43','\\u2460']\n",
    "for s in test_strings:\n",
    "    print(\"{:>10}\".format(s), s.isdecimal(),)"
   ]
  },
  {
   "cell_type": "markdown",
   "id": "3f245fe9",
   "metadata": {},
   "source": [
    "Overall, that does pretty well - although it can't handle a negative number.  We could still deal with that, though, by stripping the leading `-`."
   ]
  },
  {
   "cell_type": "markdown",
   "id": "fc24c3e8",
   "metadata": {},
   "source": [
    "`isdigit()` still doesn't handle negative numbers.  It also accepts numbers that are not base 10 such as ①."
   ]
  },
  {
   "cell_type": "code",
   "execution_count": null,
   "id": "6eb5c8ad",
   "metadata": {},
   "outputs": [],
   "source": [
    "for s in test_strings:\n",
    "    print(\"{:>10}\".format(s), s.isdigit())"
   ]
  },
  {
   "cell_type": "code",
   "execution_count": null,
   "id": "b817e20e",
   "metadata": {},
   "outputs": [],
   "source": [
    "int('\\u2460')"
   ]
  },
  {
   "cell_type": "markdown",
   "id": "785c559e",
   "metadata": {},
   "source": [
    "`isnumeric()` is even further away from the right solution. The function accepts just about anything that can represent a number - including fractions.  And, no, it does not handle negative numbers. "
   ]
  },
  {
   "cell_type": "code",
   "execution_count": null,
   "id": "07fc32eb",
   "metadata": {},
   "outputs": [],
   "source": [
    "for s in test_strings:\n",
    "    print(\"{:>10}\".format(s), s.isnumeric())"
   ]
  },
  {
   "cell_type": "markdown",
   "id": "7508e11d",
   "metadata": {},
   "source": [
    "Another possibility covered in a later notebook is to use a regular expression. Through a powerful notational grammar, regular expressions can find both simple and complex patterns in text.\n",
    "\n",
    "For this situation (to test if a string can be converted to an integer), we will use the regular expression `^[-+]?[\\d]+$`. Here's a brief description as to how the expression works:\n",
    "- `^` means to match the start of the string\n",
    "- `[+-]` is a character class consisting of either the plus `+` sign or the minus `-` sign.\n",
    "- `?` makes that previous character optional\n",
    "- `[\\d]` matches any numeric decimal character (similar to `isdecimal()`.  This includes the characters from 0 to 9 as well as those characters for other language writing systems.\n",
    "- `+` means that previous character (or any member of the character class [0-9] must be present one or more times. i.e., at least once \n",
    "- `$` means to match the end of the string\n",
    "\n",
    "One downside to this expression is the inability to handle decimal numbers written in non-arabic numerals.\n",
    "\n",
    "From this regular expression, we can see when we convert a string to an integer, we can have an arbitrary number of leading zeros. However, for integer literals, leading zeros are not possible."
   ]
  },
  {
   "cell_type": "code",
   "execution_count": null,
   "id": "7d594f0c",
   "metadata": {},
   "outputs": [],
   "source": [
    "import re\n",
    "for s in test_strings:\n",
    "    print(\"{:>10}\".format(s), bool(re.match(r\"^[-+]?[\\d]+$\",s)))"
   ]
  },
  {
   "cell_type": "markdown",
   "id": "f99756aa",
   "metadata": {},
   "source": [
    "The final solution to examine goes back to that pesky `ValueError`.  Fortunately, Python allows use to capture and handle these types of errors."
   ]
  },
  {
   "cell_type": "markdown",
   "id": "b56a04ee",
   "metadata": {},
   "source": [
    "## Exceptions\n",
    "An exception is an error that occurs as a program executes, causing the normal execution sequence to stop processing and for control to pass to the nearest block designated to handle that type of an error. By default, if no such handle is present, the Python interpreter will print a stack trace and stop the program.\n",
    "\n"
   ]
  },
  {
   "cell_type": "markdown",
   "id": "d3151dee",
   "metadata": {},
   "source": [
    "### Handling Errors\n",
    "Python provides the `try except` statement to handle errors.  The `try` block is used to contain code in which an error may occur.  The `except` block provides the necessary error handling.  (You may still need more code outside of the except block to appropriately recover from the error."
   ]
  },
  {
   "cell_type": "code",
   "execution_count": null,
   "id": "5bf120cb",
   "metadata": {},
   "outputs": [],
   "source": [
    "try:\n",
    "    s = \"hello\"\n",
    "    i = int(s)\n",
    "except:\n",
    "    print(\"'{:s}' is not a valid number.\".format(s))"
   ]
  },
  {
   "cell_type": "markdown",
   "id": "0b7f0608",
   "metadata": {},
   "source": [
    "With no other details on the `except` line, that `except` block is a catch all for any error type.\n",
    "\n",
    "Now, let's revisit the grade average example. We need to determine what type of action to take when the user enters a string that is not an integer.  Ideally, we want the user to be able to recover from any inadvertent mistakes.  We also need a mechanism to allow the user to indicate they are done entering data - typically accomplished through a [sentinel value](https://en.wikipedia.org/wiki/Sentinel_value).  \n",
    "\n",
    "Rather than starting from our existing, let's revisit the pseudocode for this process:\n",
    "<i><pre>\n",
    "    set running total to 0\n",
    "    set number of grade entries to 0\n",
    "    while the user has more grade entries:\n",
    "        read next grade\n",
    "        add grade to running total\n",
    "        increment number of entries by 1\n",
    "    if there's at least one grade entry\n",
    "        compute and display average\n",
    "    otherwise\n",
    "        state no grades entered\n",
    "</pre></i>\n",
    "For most of this we have a straight-forward conversion, except for the loop.  Let's expand that -\n",
    "<i><pre>\n",
    "    ...\n",
    "    while true:\n",
    "        read next grade\n",
    "        if sentinel entered, exit loop\n",
    "        if valid grade (an integer)\n",
    "            add grade to running total\n",
    "            increment number of entries by 1\n",
    "        else \n",
    "            display error message\n",
    "    ...\n",
    "</pre></i>\n",
    "\n",
    "Now, converting this to code.  (Note: since we are changing our logic, rather than relying upon a negative integer for the sentinel, let's use the string \"q\".)"
   ]
  },
  {
   "cell_type": "code",
   "execution_count": null,
   "id": "e8b343db",
   "metadata": {},
   "outputs": [],
   "source": [
    "total = 0\n",
    "num_entries = 0\n",
    "\n",
    "while True:\n",
    "    grade = input(\"Enter a grade('q to quit'): \")\n",
    "    if grade == 'q':\n",
    "        break\n",
    "    try:\n",
    "        grade = int(grade)\n",
    "        total += grade\n",
    "        num_entries += 1\n",
    "    except:\n",
    "        print(\"Invalid grade entered: \",grade)\n",
    "\n",
    "if num_entries > 0:\n",
    "    print(\"Average:\",total/num_entries)\n",
    "else:\n",
    "    print(\"no grades entered\")"
   ]
  },
  {
   "cell_type": "markdown",
   "id": "3dad4a11",
   "metadata": {},
   "source": [
    "### Handle by Type\n",
    "\n",
    "The `except` clause with just the keyword itself catches all errors by default.  In certain circumstances, our code may only want to handle a specific error, making it the caller's responsibility to handle (or not!) any other others that may exist.\n",
    "\n",
    "For example, what if our grades where contained in a file, one per line and we had this code to compute averages:\n",
    "<pre>\n",
    "with open(\"test.txt\") as f:\n",
    "    total = 0\n",
    "    num_entries = 0\n",
    "    for line in f:\n",
    "        total += int(line)\n",
    "        num_entries += 1\n",
    "    print(total/num_entries)\n",
    "</pre>"
   ]
  },
  {
   "cell_type": "markdown",
   "id": "f1d3b931",
   "metadata": {},
   "source": [
    "What errors can possibly occur?\n",
    "- File does not exist\n",
    "- File uses a different encoding\n",
    "- File contains data other than integers\n",
    "- File is empty\n",
    "\n",
    "Now, we need to determine how do we want to handle these different errors.\n",
    "\n",
    "Python provides the capability to handle a specific error by specifying the specific error type after the `except`.  [View Python's Built-in Exceptions](https://docs.python.org/3/library/exceptions.html)\n",
    "\n",
    "As you can see below, Python allows for multiple `except` blocks for each try.  Once a specific error has been handled for a `try`, the remaining `except` blocks are skipped. Because of this logic, it is also necessary to list `except` blocks in order of most specific to most generally.\n",
    "\n",
    "Python allows us to specify a variable name after the exception. By being able to reference the exception object, we can query the exception's state (it is just an object after all) to get additional details.\n",
    "\n",
    "The following code block contains several errors.  While the comments provide the corrections, you should run the code first.  Then fix the associated error. Repeat until the average is printed.   Finally, remove the inner most try/except handling to see how the code reacts.  What occurred?"
   ]
  },
  {
   "cell_type": "code",
   "execution_count": null,
   "id": "bf66721b",
   "metadata": {},
   "outputs": [],
   "source": [
    "filename = \"data/grade.txt\"       # Correct filename is data/grades.txt\n",
    "try:\n",
    "    with open(file_name) as f:    # Variable name has not been defined\n",
    "        total = 0\n",
    "        num_entries = 0\n",
    "        line_count = 0\n",
    "        for line in f:\n",
    "            line_count += 1\n",
    "            try:\n",
    "                total += int(line)\n",
    "                num_entries += 1\n",
    "            except ValueError:\n",
    "                print(\"Bad integer value on line {:d}: {:s}\".format(line_count,line))\n",
    "        print(\"Average: {:.2f}\".format(total/num_entries))\n",
    "except FileNotFoundError as file_error:\n",
    "    # show additional attributes for \"FileNotFoundError\"\n",
    "    print(file_error.filename)\n",
    "    print(file_error.errno)\n",
    "    print(file_error.strerror)\n",
    "    print(\"Unable to find:\", filename)\n",
    "except Exception as err:\n",
    "    print(\"Unknown error:\", err)    # this prints the excpetion's default error message\n",
    "    print(\"Error Type:\", type(err))"
   ]
  },
  {
   "cell_type": "markdown",
   "id": "4f8ef193",
   "metadata": {},
   "source": [
    "Python allows for multiple exceptions to be handled with the same except block:\n",
    "<pre>\n",
    "filename = \"data/grade.txt\"       # Correct filename is data/grades.txt\n",
    "try:\n",
    "    ...\n",
    "except (FileNotFoundError, IOError) as os_error:\n",
    "    # Handle OS related errors in this block\n",
    "    ...\n",
    "except Exception as err:\n",
    "    # Handle other errors in this block\n",
    "    ...\n",
    "</pre>"
   ]
  },
  {
   "cell_type": "markdown",
   "id": "90051081",
   "metadata": {},
   "source": [
    "### `else` clause\n",
    "The `try`/`except` statement can have an optional `else` clause which only executes if no exceptions were raised:\n",
    "\n",
    "<pre>\n",
    "try:\n",
    "    <i>statement</i>\n",
    "    <i>statement</i>\n",
    "    <i>...</i>\n",
    "except <i>ExceptionName</i>:\n",
    "    <i>statement</i>\n",
    "    <i>statement</i>\n",
    "    <i>...</i>\n",
    "else:\n",
    "    <i>statement</i>\n",
    "    <i>statement</i>\n",
    "    <i>...</i>\n",
    "</pre>\n",
    "\n",
    "The `else` clause must come after the `except` clause(s)."
   ]
  },
  {
   "cell_type": "markdown",
   "id": "41520885",
   "metadata": {},
   "source": [
    "### `finally` clause\n",
    "Additionally, the `try`/`except` statement can have an optional `finally` clause which excecutes the try block, the except block(s), and any `else` block. I.e., the `finally` clause executes as the last item of a `try`/`except` statement.  The purpose is to perform any necessary cleanup operations.  Code in the `finally` clause will always execute.\n",
    "\n",
    "<pre>\n",
    "try:\n",
    "    <i>statement</i>\n",
    "    <i>statement</i>\n",
    "    <i>...</i>\n",
    "except <i>ExceptionName</i>:\n",
    "    <i>statement</i>\n",
    "    <i>statement</i>\n",
    "    <i>...</i>\n",
    "finally:\n",
    "    <i>statement</i>\n",
    "    <i>statement</i>\n",
    "    <i>...</i>\n",
    "</pre>"
   ]
  },
  {
   "cell_type": "markdown",
   "id": "9f8d86cb",
   "metadata": {},
   "source": [
    "### Raising Exceptions\n",
    "With Python, we can force a specified exception to occur through the `raise` statement:"
   ]
  },
  {
   "cell_type": "code",
   "execution_count": null,
   "id": "c2aed464",
   "metadata": {},
   "outputs": [],
   "source": [
    "raise NameError(\"code initiated exception\")"
   ]
  },
  {
   "cell_type": "markdown",
   "id": "ebbb063b",
   "metadata": {},
   "source": [
    "We can catch these exception ourselves as well as re-raise them.  We can also re-raise built-in exceptions"
   ]
  },
  {
   "cell_type": "code",
   "execution_count": null,
   "id": "ebe729ac",
   "metadata": {},
   "outputs": [],
   "source": [
    "try:\n",
    "    raise NameError(\"code initiated exception\")\n",
    "except NameError as ne:\n",
    "    print(\"Our raised exception:\",ne)\n",
    "    raise ne"
   ]
  },
  {
   "cell_type": "markdown",
   "id": "4c238fa2",
   "metadata": {},
   "source": [
    "### Creating our Own Exceptions\n",
    "TODO\n",
    "can create our own exceptions (getting ahead our ourselves before we discuss creating custom classes)"
   ]
  },
  {
   "cell_type": "markdown",
   "id": "b4cc53d4",
   "metadata": {},
   "source": [
    "### stack traces\n",
    "TODO\n",
    "need to reead and follow"
   ]
  },
  {
   "cell_type": "markdown",
   "id": "e2a6ed70",
   "metadata": {},
   "source": [
    "### Exception Best Practices\n",
    "TODO\n",
    "- add eception handling anywhere an exception might occur\n",
    "- at the very highest levle, may want one\n",
    "- within a server procesisng loop (e.g. webserver) don't show error messages to the users.  \n",
    "- log these things"
   ]
  },
  {
   "cell_type": "code",
   "execution_count": null,
   "id": "47ef3a7a",
   "metadata": {},
   "outputs": [],
   "source": []
  },
  {
   "cell_type": "code",
   "execution_count": null,
   "id": "3aa213cc",
   "metadata": {},
   "outputs": [],
   "source": [
    "## error messages\n",
    "\n",
    "One of the things we do need to do is to be kind to our user community ...\n",
    "\n",
    "\n",
    "Launcher Error Cannot read properties of undefined (reading 'path')\n",
    "Error Invalid response: 400 Bad Request"
   ]
  },
  {
   "cell_type": "markdown",
   "id": "03de5399",
   "metadata": {},
   "source": [
    "## Checking Parameter Values\n",
    "\n",
    "TODO - Reword all of the following\n",
    "\n",
    "We want to verify that parameter values meet pre-conditions for our method, where a pre-condition is a condition that must be true before a method executes in order to guarantee that the method can execute properly.\n",
    "If pre-conditions are not meet, we will throw an exception, which will halt method execution and provide user with an error message.\n",
    "Throwing an exception:\n",
    "• Syntax Template throw <exception>;\n",
    "• Exceptions are objects, so we must construct them throw new IllegalArgumentException(); • Can include message to the user throw new IllegalArgumentException(\"message\");\n",
    "    \n",
    "    \n",
    "example radius of a circle must be >0.    "
   ]
  },
  {
   "cell_type": "markdown",
   "id": "e2818360",
   "metadata": {},
   "source": [
    "## Discussion ...\n",
    "\n",
    "The check of num_entries is the right thing to have - its a simple check and the corresponding try "
   ]
  },
  {
   "cell_type": "markdown",
   "id": "8f88bedc",
   "metadata": {},
   "source": [
    "## Exercises\n"
   ]
  }
 ],
 "metadata": {
  "kernelspec": {
   "display_name": "Python 3 (ipykernel)",
   "language": "python",
   "name": "python3"
  },
  "language_info": {
   "codemirror_mode": {
    "name": "ipython",
    "version": 3
   },
   "file_extension": ".py",
   "mimetype": "text/x-python",
   "name": "python",
   "nbconvert_exporter": "python",
   "pygments_lexer": "ipython3",
   "version": "3.10.4"
  }
 },
 "nbformat": 4,
 "nbformat_minor": 5
}
