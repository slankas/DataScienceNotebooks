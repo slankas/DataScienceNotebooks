{
 "cells": [
  {
   "cell_type": "markdown",
   "id": "384b41cc",
   "metadata": {},
   "source": [
    "# Validation, Exceptions, and Error Handling\n",
    "*aka Developing Robust Code*\n",
    "\n"
   ]
  },
  {
   "cell_type": "markdown",
   "id": "0e0ff176",
   "metadata": {},
   "source": [
    "So far in our code, we have followed the \"happy\" path through our code where everything just works and we assume that our input values are correct.  If something went wrong, we either re-ran our code (e.g., bad input value from the user) or made a code fix and then re-ran the code.\n",
    "\n",
    "Software needs to be reliable and robust. That means that it needs to prevent errors when possible, detect situations when errors do occur, and then recover from errors as appropriate.  \n",
    "\n",
    "THroughout these notebooks, we have seen many errors and their associated messages - sometimes intentionally, sometimes accidentally, and sometimes just incorrect logic (semantic errors).\n",
    "\n",
    "\n",
    "Now we need to make a few decisions:\n",
    "1. How do we want to validate input?\n",
    "2. How do we want to prevent errors?\n",
    "3. How do we want to react and recover from errors?\n",
    "\n",
    "There are no clear, fixed solutions for these questions.  As with many things with system design, the answers will depend upon the context.\n",
    "\n",
    "For scripts that we write for ourselves, ignoring errors may be fine in some circumstances.  However, if for code or results that will be used by others, we do need to ensure our code performs in a robust manner.  \n",
    "\n",
    "Input validation depends upon the source, potential harm of using the data unchecked, and the ability for the exception handling to detect and handle the message.  Input validation, while often times annoying and time-consuming, is the best way to produce robust code that has a minimal amount of security flaw.  DISCUSS THE OWASP TOP TEN\n",
    "\n",
    "As we detect errors, we also need to determine who is responsible for recovering from the error?  Is it performed within the current routine / function?  or passed back up the caller stack?  How is the user informed?  How does this differ among command-line tools, local GUIs, and web applications."
   ]
  },
  {
   "cell_type": "markdown",
   "id": "75cf499a",
   "metadata": {},
   "source": [
    "## Revisiting User Input\n",
    "In this below code snippet from the Iteration Notebook, the user is asked to enter grades until they are complete with a negative number.  We had already added some error checking to see if the user entered at least one grade before marking themselves complete.  However, what occurs if they enter a value that's not an integer?  Let's try ..."
   ]
  },
  {
   "cell_type": "code",
   "execution_count": null,
   "id": "3438fc8c",
   "metadata": {},
   "outputs": [],
   "source": [
    "total = 0\n",
    "num_entries = 0\n",
    "\n",
    "while True:\n",
    "    grade = int(input(\"Enter a grade: \"))\n",
    "    if grade < 0:\n",
    "        break\n",
    "    total += grade\n",
    "    num_entries += 1\n",
    "\n",
    "if num_entries > 0:\n",
    "    print(\"Average:\",total/num_entries)\n",
    "else:\n",
    "    print(\"no grades entered\")"
   ]
  },
  {
   "cell_type": "markdown",
   "id": "f7e87cf9",
   "metadata": {},
   "source": [
    "Whether you entered a string literal or a float literal, you should have received a \"ValueError\" that occurs when Python attempts to convert the string return value from input into an integer.  \n",
    "\n",
    "Another error that could have occurred if we were running this script from a shell session if \"EOFError\" if the input stream was closed (e.g., through the user typing ctrl+d).\n"
   ]
  }
 ],
 "metadata": {
  "kernelspec": {
   "display_name": "Python 3 (ipykernel)",
   "language": "python",
   "name": "python3"
  },
  "language_info": {
   "codemirror_mode": {
    "name": "ipython",
    "version": 3
   },
   "file_extension": ".py",
   "mimetype": "text/x-python",
   "name": "python",
   "nbconvert_exporter": "python",
   "pygments_lexer": "ipython3",
   "version": "3.10.4"
  }
 },
 "nbformat": 4,
 "nbformat_minor": 5
}
