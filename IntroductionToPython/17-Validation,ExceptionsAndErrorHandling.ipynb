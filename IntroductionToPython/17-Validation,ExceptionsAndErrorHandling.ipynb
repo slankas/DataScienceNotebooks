{
 "cells": [
  {
   "cell_type": "markdown",
   "id": "384b41cc",
   "metadata": {},
   "source": [
    "<div class=\"pagebreak\"></div>\n",
    "\n",
    "# Validation, Exceptions, and Error Handling\n",
    "*aka Developing Robust Code*\n",
    "\n"
   ]
  },
  {
   "cell_type": "markdown",
   "id": "c236f319",
   "metadata": {},
   "source": [
    "So far in our code, we have followed the \"happy\" path where everything just works and we assume our input values are correct.  If something went wrong, we either re-ran our code (e.g., bad input value from the user) or made a code fix and then re-ran the code.\n",
    "\n",
    "Software needs to be reliable and robust. That means that it needs to prevent errors when possible, detect situations when errors do occur, and then recover from errors when possible.  \n",
    "\n",
    "Throughout these notebooks, we have seen many errors and their associated messages - sometimes intentionally, sometimes accidentally, and sometimes just incorrect logic (semantic errors)."
   ]
  },
  {
   "cell_type": "markdown",
   "id": "9c9958db",
   "metadata": {},
   "source": [
    "Now we need to make a few decisions:\n",
    "1. When do we want to validate input? \n",
    "2. How do we want to validate input?\n",
    "3. How do we want to prevent errors?\n",
    "4. How do we want to react and recover from errors?\n",
    "\n",
    "No clear, fixed solutions exist for these questions.  As with many things with system design, the answers will depend upon the context.\n",
    "\n",
    "For scripts that we write for ourselves, ignoring errors may be fine in some circumstances.  However, for code or results used by others, we do need to ensure our code performs in a robust manner.  \n",
    "\n",
    "Input validation depends upon the source, potential harm of using the data unchecked, and the ability for the exception handling to detect and handle the message.  Input validation, while often times annoying and time-consuming, is the best way to produce robust code that has a minimal amount of security flaws.  \n",
    "\n",
    "Any data received from external sources should be be validated. This includes checking -\n",
    "- data falls within allowable(expected) ranges\n",
    "- numeric values can be represented within the system. While Python does not have limits on the size of integers, the language does for floats.  If you are using a database system to persist data, most likely that system will have more stringent limits. \n",
    "- for strings, we need to look at their length as well as any patterns that data might represent (e.g., Visa and Master credit cards are expected to be in the format of NNNN NNNN NNNN NNNN where N is a digit from 0 to 9.)\n",
    "- malformed input designed to perform an injection attack when the data is used without proper validation or escaping [see html escape](https://docs.python.org/3/library/html.html).\n",
    "\n",
    "You should consider checking the values of input parameters to functions and methods."
   ]
  },
  {
   "cell_type": "markdown",
   "id": "96ba23d3",
   "metadata": {},
   "source": [
    "<div style=\"border: 3px solid black;padding: 10px; border-radius: 10px;\">\n",
    "    <b>Software Security Flaws</b><br>\n",
    "    The <a href=\"https://owasp.org\">Open Web Application Security Project</a> has run an awareness project over the past \n",
    "    20 years to identify the top security issues facing developers in web applications.  Looking through the\n",
    "    <a href='https://web.archive.org/web/20220511193851/https://www.hahwul.com/cullinan/history-of-owasp-top-10/'>\n",
    "        history</a>\n",
    "    of these categories, many are directly related to the lack of input validation or sanitization (process of removing illegal characters from input or replacing potential dangerous character sequences\n",
    "    with safe ones): Buffer Overflow, Cross Site Request Forgery (CSRF), Cross Site Scripting (XSS), \n",
    "    Injection, Injection Flaws, Server-Side Request Forgery, Unvalidated Input, and Unvalidated Redirects.\n",
    "    Most of these now have been put into the \"injection\" category.\n",
    "    <p> Two potentially dangerous built-in functions in Python are <code>eval()</code> and <code>exec()</code>.\n",
    "        <code>eval()</code> evaluates a string assuming it is an expression. Remember - a function call is an\n",
    "        expression!. <code>exec()</code> executes the contents of the string as if it represents one or \n",
    "        more Python statements.  While legitimate use cases exist for both of theses functions, extreme care\n",
    "        taken to ensure any string values passed to these functions are safe to execute.\n",
    "    <p>As an example, create a code cell and execute the following:\n",
    "    <pre>eval('exec(\"import os; print(os.listdir(\\'.\\'))\")')\n",
    "    </pre>\n",
    "    Listing a directory's contents seems innocuous, but the results could give valuable information to an attacker.  And if\n",
    "    someone could execute that code, they more than likely could execute far more malicious code.\n",
    "</div>"
   ]
  },
  {
   "cell_type": "markdown",
   "id": "0e0ff176",
   "metadata": {},
   "source": [
    "<p>\n",
    "As we detect errors, we also need to determine who is responsible for recovering from the error as well as how to react and recover.  Is it performed within the current routine / function?  Or passed back up the caller stack?  How is the user informed?  How does this differ among programs deployed as command-line tools, local GUIs, and web applications?"
   ]
  },
  {
   "cell_type": "markdown",
   "id": "66a1eb46",
   "metadata": {},
   "source": [
    "A phrase long used in computer science has been \"garbage in, garbage out\".  The quality of work that can be performed (i.e., the results or output) is directly related to the quality of input. Use unvalidated data at your own peril."
   ]
  },
  {
   "cell_type": "markdown",
   "id": "75cf499a",
   "metadata": {},
   "source": [
    "## Revisiting User Input\n",
    "In this below code snippet from the [Iteration Notebook](11-Iteration.ipynb), the user is asked to enter grades until they are complete with a negative number.  We had already added some error checking to see if the user entered at least one grade before calculating the average - this prevented a division by zero.  However, what occurs if they enter a value that's not an integer?  Let's try ..."
   ]
  },
  {
   "cell_type": "code",
   "execution_count": null,
   "id": "3438fc8c",
   "metadata": {},
   "outputs": [],
   "source": [
    "total = 0\n",
    "num_entries = 0\n",
    "\n",
    "while True:\n",
    "    grade = int(input(\"Enter a grade: \"))\n",
    "    if grade < 0:\n",
    "        break\n",
    "    total += grade\n",
    "    num_entries += 1\n",
    "\n",
    "if num_entries > 0:\n",
    "    print(\"Average:\",total/num_entries)\n",
    "else:\n",
    "    print(\"no grades entered\")"
   ]
  },
  {
   "cell_type": "markdown",
   "id": "f7e87cf9",
   "metadata": {},
   "source": [
    "Whether you entered a string literal or a float literal, you should have received a \"ValueError\" that occurs when Python attempts to convert the string return value from input into an integer.  \n",
    "\n",
    "Another error that could have occurred if we ran this script from a shell session is an \"EOFError\" if the input stream was closed (e.g., the user typed ctrl+d). Within Jupyter, it is not possible to replicate this issue - the environment does not provide any mechanism to close the input stream."
   ]
  },
  {
   "cell_type": "markdown",
   "id": "ad67ac6b",
   "metadata": {},
   "source": [
    "Several possibilities exist to validate that a string actually does represent an integer.\n",
    "\n",
    "One possibility is to create some custom logic to ensure that each character in the string is a valid digit between 0 and 9. This option needs a check that leading character could be a negative sign. With  this approach, we would want to create a function such that other parts of our code (or even other programs) could re-use this logic.\n",
    "\n",
    "When possible, though, we should try to reuse code. Are there any methods in Python's [string class](https://docs.python.org/3/library/stdtypes.html#string-methods)?  Looking at that documentation, several possibilities may exist: `isdecimal()`, `isdigit()`, and `isnumerical()`.\n",
    "\n",
    "`isdecimal()` returns true as long as the string is composed of any character in the ['Unicode General Category ND' ](https://www.fileformat.info/info/unicode/category/Nd/list.htm)."
   ]
  },
  {
   "cell_type": "code",
   "execution_count": null,
   "id": "d1e09571",
   "metadata": {},
   "outputs": [],
   "source": [
    "test_strings = ['65536','00123','-2','0.124','life42','42life','\\u00BD','\\u1C43','\\u2460']\n",
    "for s in test_strings:\n",
    "    print(\"{:>10}\".format(s), s.isdecimal(),)"
   ]
  },
  {
   "cell_type": "markdown",
   "id": "3f245fe9",
   "metadata": {},
   "source": [
    "Overall, this method does pretty well - although it can't handle a negative number.  We could still deal with that, though, by stripping the leading `-`."
   ]
  },
  {
   "cell_type": "markdown",
   "id": "fc24c3e8",
   "metadata": {},
   "source": [
    "`isdigit()` still doesn't handle negative numbers.  It also accepts numbers that are not base 10 such as ①."
   ]
  },
  {
   "cell_type": "code",
   "execution_count": null,
   "id": "6eb5c8ad",
   "metadata": {},
   "outputs": [],
   "source": [
    "for s in test_strings:\n",
    "    print(\"{:>10}\".format(s), s.isdigit())"
   ]
  },
  {
   "cell_type": "code",
   "execution_count": null,
   "id": "b817e20e",
   "metadata": {},
   "outputs": [],
   "source": [
    "int('\\u2460')"
   ]
  },
  {
   "cell_type": "markdown",
   "id": "785c559e",
   "metadata": {},
   "source": [
    "`isnumeric()` is even further away from the right solution. The function accepts just about anything that can represent a number - including fractions.  And, no, it does not handle negative numbers. "
   ]
  },
  {
   "cell_type": "code",
   "execution_count": null,
   "id": "07fc32eb",
   "metadata": {},
   "outputs": [],
   "source": [
    "for s in test_strings:\n",
    "    print(\"{:>10}\".format(s), s.isnumeric())"
   ]
  },
  {
   "cell_type": "markdown",
   "id": "7508e11d",
   "metadata": {},
   "source": [
    "Another possibility covered in a later notebook is to use a regular expression. Through a powerful notational grammar, regular expressions can find both simple and complex patterns in text.\n",
    "\n",
    "For this situation (to test if a string can be converted to an integer), we will use the regular expression `^[-+]?[\\d]+$`. Here's a brief description as to how the expression works:\n",
    "- `^` means to match the start of the string\n",
    "- `[+-]` is a character class consisting of either the plus `+` sign or the minus `-` sign.\n",
    "- `?` makes that previous character optional\n",
    "- `[\\d]` matches any numeric decimal character (similar to `isdecimal()`.  This includes the characters from 0 to 9 as well as those characters for other language writing systems.\n",
    "- `+` means that previous character (or any member of the character class [0-9] must be present one or more times. i.e., at least once \n",
    "- `$` means to match the end of the string\n",
    "\n",
    "From this regular expression, we can see when we convert a string to an integer, we can have an arbitrary number of leading zeros. As demonstrated earlier the `int()` function can parse leading zeros while the Python interpreter cannot parse integer literals (values embedded in th program) with leading zeros."
   ]
  },
  {
   "cell_type": "code",
   "execution_count": null,
   "id": "7d594f0c",
   "metadata": {},
   "outputs": [],
   "source": [
    "import re\n",
    "for s in test_strings:\n",
    "    print(\"{:>10}\".format(s), bool(re.match(r\"^[-+]?[\\d]+$\",s)))"
   ]
  },
  {
   "cell_type": "markdown",
   "id": "f99756aa",
   "metadata": {},
   "source": [
    "The final solution to examine goes back to that pesky `ValueError`.  Fortunately, Python allows use to capture and handle these types of errors."
   ]
  },
  {
   "cell_type": "markdown",
   "id": "b56a04ee",
   "metadata": {},
   "source": [
    "## Exceptions\n",
    "An exception is an error that occurs as a program executes, causing the normal execution sequence to stop processing and for control to pass to the nearest block designated to handle that type of an error. By default, if no such handle is present, the Python interpreter will print a traceback (stack trace) and stop the program.  \n",
    "\n",
    "Another way to define an exception is an error that prevents a program from continuing normal execution."
   ]
  },
  {
   "cell_type": "markdown",
   "id": "d3151dee",
   "metadata": {},
   "source": [
    "### Handling Errors\n",
    "Python provides the `try except` statement to handle errors.  The `try` block is used to contain code in which an error may occur.  The `except` block provides the necessary error handling.  You may still need more code outside of the except block to appropriately recover from the error."
   ]
  },
  {
   "cell_type": "code",
   "execution_count": null,
   "id": "5bf120cb",
   "metadata": {},
   "outputs": [],
   "source": [
    "try:\n",
    "    s = \"hello\"\n",
    "    i = int(s)\n",
    "except:\n",
    "    print(\"'{:s}' is not a valid number.\".format(s))"
   ]
  },
  {
   "cell_type": "markdown",
   "id": "0b7f0608",
   "metadata": {},
   "source": [
    "With no other details on the `except` line, that `except` block is a catch all for any error type.\n",
    "\n",
    "For the grade average example, we need to determine what type of action to take when the user enters a string that is not an integer.  Ideally, we want the user to be able to recover from any inadvertent mistakes.  We also need a mechanism to allow the user to indicate they are done entering data - typically accomplished through a [sentinel value](https://en.wikipedia.org/wiki/Sentinel_value).  Our initial sentinel value was any negative number, but was that the most appropriate choice?\n",
    "\n",
    "Rather than starting from our existing, let's revisit the pseudocode for this process:\n",
    "<pre><i>\n",
    "    set running total to 0\n",
    "    set number of grade entries to 0\n",
    "    while the user has more grade entries:\n",
    "        read next grade\n",
    "        add grade to running total\n",
    "        increment number of entries by 1\n",
    "    if there's at least one grade entry\n",
    "        compute and display average\n",
    "    otherwise\n",
    "        state no grades entered\n",
    "</i></pre>\n",
    "For most of this we have a straight-forward conversion, except for the loop.  Let's expand that -\n",
    "<pre><i>\n",
    "    ...\n",
    "    while true:\n",
    "        read next grade\n",
    "        if sentinel entered, exit loop\n",
    "        if valid grade (an integer)\n",
    "            add grade to running total\n",
    "            increment number of entries by 1\n",
    "        else \n",
    "            display error message\n",
    "    ...\n",
    "</i></pre>\n",
    "\n",
    "Now, convert the pseudocode to Pythoncode.  Since we are changing our logic, rather than relying upon a negative integer for the sentinel, let's use the string \"q\""
   ]
  },
  {
   "cell_type": "code",
   "execution_count": null,
   "id": "e8b343db",
   "metadata": {},
   "outputs": [],
   "source": [
    "total = 0\n",
    "num_entries = 0\n",
    "\n",
    "while True:\n",
    "    grade = input(\"Enter a grade('q to quit'): \")\n",
    "    if grade == 'q':\n",
    "        break\n",
    "    try:\n",
    "        grade = int(grade)\n",
    "        total += grade\n",
    "        num_entries += 1\n",
    "    except:\n",
    "        print(\"Invalid grade entered: \",grade)\n",
    "\n",
    "if num_entries > 0:\n",
    "    print(\"Average:\",total/num_entries)\n",
    "else:\n",
    "    print(\"no grades entered\")"
   ]
  },
  {
   "cell_type": "markdown",
   "id": "3dad4a11",
   "metadata": {},
   "source": [
    "### Handle by Type\n",
    "\n",
    "The `except` clause with just the keyword itself catches all errors by default.  In certain circumstances, our code may only want to handle a specific error, making it the caller's responsibility to handle (or not!) any other others that may exist.\n",
    "\n",
    "For example, what if our grades where contained in a file, one per line and we had this code to compute averages:\n",
    "<pre>\n",
    "with open(\"test.txt\") as f:\n",
    "    total = 0\n",
    "    num_entries = 0\n",
    "    for line in f:\n",
    "        total += int(line)\n",
    "        num_entries += 1\n",
    "    print(total/num_entries)\n",
    "</pre>"
   ]
  },
  {
   "cell_type": "markdown",
   "id": "f1d3b931",
   "metadata": {},
   "source": [
    "What errors can possibly occur?\n",
    "- File does not exist\n",
    "- File uses a different encoding\n",
    "- File contains data other than integers\n",
    "- File is empty\n",
    "\n",
    "Now, we need to determine how to handle these different errors.\n",
    "\n",
    "Python provides the capability to handle a specific error by specifying the specific error type after the `except`.  [View Python's Built-in Exceptions](https://docs.python.org/3/library/exceptions.html)\n",
    "\n",
    "As you can see below, Python allows for multiple `except` blocks for each try.  Once a specific error has been handled for a `try`, the remaining `except` blocks are skipped. Because of this logic, it is also necessary to list `except` blocks in order of most specific to most generally.\n",
    "\n",
    "Python allows us to specify a variable name after the exception. By being able to reference the exception object, we can query the exception's state (it is just an object after all) to get additional details.\n",
    "\n",
    "The following code block contains several errors.  While the comments provide the corrections, you should run the code first.  Then fix the associated error. Repeat until the average is printed.   Finally, remove the inner most try/except handling to see how the code reacts.  What occurred?"
   ]
  },
  {
   "cell_type": "code",
   "execution_count": null,
   "id": "bf66721b",
   "metadata": {},
   "outputs": [],
   "source": [
    "filename = \"data/grade.txt\"       # Correct filename is data/grades.txt\n",
    "try:\n",
    "    with open(file_name) as f:    # Variable name has not been defined\n",
    "        total = 0\n",
    "        num_entries = 0\n",
    "        line_count = 0\n",
    "        for line in f:\n",
    "            line_count += 1\n",
    "            try:\n",
    "                total += int(line)\n",
    "                num_entries += 1\n",
    "            except ValueError:\n",
    "                print(\"Bad integer value on line {:d}: {:s}\".format(line_count,line))\n",
    "        print(\"Average: {:.2f}\".format(total/num_entries))\n",
    "except FileNotFoundError as file_error:\n",
    "    # show additional attributes for \"FileNotFoundError\"\n",
    "    print(file_error.filename)\n",
    "    print(file_error.errno)\n",
    "    print(file_error.strerror)\n",
    "    print(\"Unable to find:\", filename)\n",
    "except Exception as err:\n",
    "    print(\"Unknown error:\", err)    # this prints the excpetion's default error message\n",
    "    print(\"Error Type:\", type(err))"
   ]
  },
  {
   "cell_type": "markdown",
   "id": "4f8ef193",
   "metadata": {},
   "source": [
    "Python allows for multiple exceptions to be handled with the same except block:\n",
    "<pre>\n",
    "filename = \"data/grade.txt\"       # Correct filename is data/grades.txt\n",
    "try:\n",
    "    ...\n",
    "except (FileNotFoundError, IOError) as os_error:\n",
    "    # Handle OS related errors in this block\n",
    "    ...\n",
    "except Exception as err:\n",
    "    # Handle other errors in this block\n",
    "    ...\n",
    "</pre>"
   ]
  },
  {
   "cell_type": "markdown",
   "id": "90051081",
   "metadata": {},
   "source": [
    "### `else` clause\n",
    "The `try`/`except` statement can have an optional `else` clause which only executes if no exceptions were raised:\n",
    "\n",
    "<pre>\n",
    "try:\n",
    "    <i>statement</i>\n",
    "    <i>statement</i>\n",
    "    <i>...</i>\n",
    "except <i>ExceptionName</i>:\n",
    "    <i>statement</i>\n",
    "    <i>statement</i>\n",
    "    <i>...</i>\n",
    "else:\n",
    "    <i>statement</i>\n",
    "    <i>statement</i>\n",
    "    <i>...</i>\n",
    "</pre>\n",
    "\n",
    "The `else` clause must come after the `except` clause(s)."
   ]
  },
  {
   "cell_type": "markdown",
   "id": "41520885",
   "metadata": {},
   "source": [
    "### `finally` clause\n",
    "Additionally, the `try`/`except` statement can have an optional `finally` clause which excecutes the try block, the except block(s), and any `else` block. I.e., the `finally` clause executes as the last item of a `try`/`except` statement.  The purpose is to perform any necessary cleanup operations.  Code in the `finally` clause will always execute.\n",
    "\n",
    "<pre>\n",
    "try:\n",
    "    <i>statement</i>\n",
    "    <i>statement</i>\n",
    "    <i>...</i>\n",
    "except <i>ExceptionName</i>:\n",
    "    <i>statement</i>\n",
    "    <i>statement</i>\n",
    "    <i>...</i>\n",
    "finally:\n",
    "    <i>statement</i>\n",
    "    <i>statement</i>\n",
    "    <i>...</i>\n",
    "</pre>"
   ]
  },
  {
   "cell_type": "markdown",
   "id": "9f8d86cb",
   "metadata": {},
   "source": [
    "### Raising Exceptions\n",
    "With Python, we can force a specified exception to occur through the `raise` statement:"
   ]
  },
  {
   "cell_type": "code",
   "execution_count": null,
   "id": "c2aed464",
   "metadata": {},
   "outputs": [],
   "source": [
    "raise NameError(\"code initiated exception\")"
   ]
  },
  {
   "cell_type": "markdown",
   "id": "ebbb063b",
   "metadata": {},
   "source": [
    "We can catch these exception ourselves as well as re-raise them (any type of an exception can be re-raised).  The re-raise always us to perform some error handling and then delegate the rest to the caller."
   ]
  },
  {
   "cell_type": "code",
   "execution_count": null,
   "id": "ebe729ac",
   "metadata": {},
   "outputs": [],
   "source": [
    "try:\n",
    "    raise NameError(\"code initiated exception\")\n",
    "except NameError as ne:\n",
    "    print(\"Our raised exception:\",ne)\n",
    "    raise ne"
   ]
  },
  {
   "cell_type": "markdown",
   "id": "4c238fa2",
   "metadata": {},
   "source": [
    "### Creating our Own Exceptions\n",
    "While Python has a number of [built-in exception types](https://docs.python.org/3/library/exceptions.html) that we can use for our own purposes, we can also define our own exception types that are more specific for the situations that may arise in our programs. \n",
    "\n",
    "The built-in exceptions are classes within Python - to define our our own, we need to define a class that inherits from one of those built-in exception types.  (We'll cover the details of classes and inherits in a few notebooks.)\n",
    "\n",
    "The follow code creates a new exception type called `MyException`.  The `pass` statement implies that the class is empty and will use the state and behavior of the parent class (`Exception`).  "
   ]
  },
  {
   "cell_type": "code",
   "execution_count": null,
   "id": "6e255a65",
   "metadata": {},
   "outputs": [],
   "source": [
    "class MyException(Exception):\n",
    "    pass"
   ]
  },
  {
   "cell_type": "markdown",
   "id": "d426d55c",
   "metadata": {},
   "source": [
    "Based upon some condition in our program, we could then raise and catch this new exception type. Note: The code does not have to immediately catch the exception.  This example just catches `MyException` immediately to demonstrate the capability."
   ]
  },
  {
   "cell_type": "code",
   "execution_count": null,
   "id": "e291f05c",
   "metadata": {},
   "outputs": [],
   "source": [
    "try:\n",
    "    raise MyException('panic')\n",
    "except MyException as exc:\n",
    "    print(exc)"
   ]
  },
  {
   "cell_type": "markdown",
   "id": "b4cc53d4",
   "metadata": {},
   "source": [
    "### Stack Traces\n",
    "By default, when an exception is not caught, Python produces the stack trace (Traceback) of the function/methods calls that led to the issue. It is also possible to programmatically process stack traces in code.\n",
    "\n",
    "When the following code executes:\n",
    "<pre>\n",
    "def a():\n",
    "    print (\"called\")\n",
    "    raise Exception(\"Showing something that happened\")\n",
    "    \n",
    "def b():\n",
    "    # some processing\n",
    "    a()\n",
    "    # more processing\n",
    "    \n",
    "print(\"starting\")\n",
    "b()\n",
    "print(\"complete\")\n",
    "</pre>\n",
    "The following result is produced:\n",
    "<pre>\n",
    "starting\n",
    "called\n",
    "---------------------------------------------------------------------------\n",
    "Exception                                 Traceback (most recent call last)\n",
    "Input In [14], in &lt;cell line: 11&gt;()\n",
    "      8     # more processing\n",
    "     10 print(\"starting\")\n",
    "---> 11 b()\n",
    "     12 print(\"complete\")\n",
    "\n",
    "Input In [14], in b()\n",
    "      5 def b():\n",
    "      6     # some processing\n",
    "----> 7     a()\n",
    "\n",
    "Input In [14], in a()\n",
    "      1 def a():\n",
    "      2     print (\"called\")\n",
    "----> 3     raise Exception(\"Showing something that happened\")\n",
    "\n",
    "Exception: Showing something that happened\n",
    "</pre>"
   ]
  },
  {
   "cell_type": "markdown",
   "id": "5c755263",
   "metadata": {},
   "source": [
    "The very bottom of the code shows the line where an exception occurs.  We can see the function name `a` and then the lines immediately before the exception.  We can then move upwards in the output to see which function called that one and so forth to the top.  Similarly, we can start at the top.  On line 11, our initial code routine called the function `b`.  Then on line 7, the function `a` was called within `b`.  Then on line 3 within `a` an exception occurred.\n",
    "\n",
    "Being able to follow the code through these stack traces (tracebacks) is essential to being able to understand why exceptions occurred and then to develop code to prevent these issues."
   ]
  },
  {
   "cell_type": "markdown",
   "id": "54ed9820",
   "metadata": {},
   "source": [
    "### Exception Best Practices\n",
    "\n",
    "As with any other programming technique, exceptions can be both used wisely and mis-abused.\n",
    "\n",
    "Ideally, we should add exception handling anywhere an exception may occur.  However, we will want to catch/handle those exceptions at an appropriate location such that the condition causing the error can be corrected.  You should not just \"use an exception to pass the buck\".  Determine the best place to handle the error.  Sometimes this will be as close to the error as possible, other times it will be where the data was entered that eventually let to the exception. For exceptions caused by input data (e.g., a user entered the wrong file name), then the exception needs to be resolved in a way that the user can correct the issue - this may be several calls up the stack.\n",
    "\n",
    "Also, for production code, we may want to include a default handler at the very top of our processing code to catch any errors that may happen.  This allows us to log these errors for future investigation.  Similarly, in processing loops for web applications, we may want to have a handle for an entry points. This allows us to provide a more appropriate error message to the user as well as to appropriately log unhandled exceptions."
   ]
  },
  {
   "cell_type": "markdown",
   "id": "149f81f1",
   "metadata": {},
   "source": [
    "Exceptions can notify other parts of the program about errors that should not be ignored.\n",
    "\n",
    "Throw exceptions only for conditions that are truly exceptional.  If some other coding practice (validating input) can detect the condition, use that.  For example, if we are computing the average of numbers in a list, we can check that the list is not empty to prevent the division by zero error.\n",
    "\n",
    "When creating the exception, include all of the necessary details.  For index out of bounds with a list, you could document what variable held the list, the current size, and the requested index that was out of bounds.  By having all of these details, programmerss can more easily debug the situation to determine what went wrong and then create more robust code to prevent the situation in the future.\n",
    "\n",
    "Avoid empty `except` blocks.  If the situation can handle the exception without any special processing, then you should probably log the error message and then provide a comments as to why no error handling was present."
   ]
  },
  {
   "cell_type": "markdown",
   "id": "626a2018",
   "metadata": {},
   "source": [
    "## Error Handling Techniques\n",
    "This section summarizes many different techniques to handle errors. The right approach differs based upon the current situation.  It may be appropriate to use several of these techniques in combination. [1]\n",
    "\n",
    "Whatever mechanism(s) utilized, document the error handling approach within function, module, or class by placing the information into docstrings. "
   ]
  },
  {
   "cell_type": "markdown",
   "id": "8adb6481",
   "metadata": {},
   "source": [
    "### Return or use a neutral /default value\n",
    "One possibility is simple to return a value that's known to be harmless or devoid of meaning.  For numbers, a numeric result might be zero.  For strings, an empty string.  For collections, return an empty collection.\n",
    "\n",
    "Within routines, if a parameter is invalid, it may be better to default to a particular value or action.  A video game could just show a default background color and let the operation continue. "
   ]
  },
  {
   "cell_type": "markdown",
   "id": "93465494",
   "metadata": {},
   "source": [
    "### Substitute the next piece of data\n",
    "If you processing a stream or file of data, skip invalid records and just return the next legitimate record. This will often be combined with \"log the error\"."
   ]
  },
  {
   "cell_type": "markdown",
   "id": "6059a11a",
   "metadata": {},
   "source": [
    "### Substitute the previous data value\n",
    "Again, if you are processing a stream of data, such a temperature measurement or heart rate, and you do not receive a valid value, one possibility is to return the most recent legitimate value.\n",
    "\n",
    "However, you may also need to keep track of the number of successive errors and raise an alarm when a certain threshold has passed. "
   ]
  },
  {
   "cell_type": "markdown",
   "id": "686f986f",
   "metadata": {},
   "source": [
    "### Substitute the closest legal value / Interpolate\n",
    "In other cases when processing data, you could choose to return the closest legal value.  Or if you have a piece of missing data, interpolate between the values immediately before and after.\n",
    "\n",
    "If you are measuring radiation levels, this may not be the best idea - [Chernobyl Disaster](https://en.wikipedia.org/wiki/Chernobyl_disaster).  The Geiger counters initially used could only report radiation levels up to a certain amount.  The values after the accident far exceeded that limit. "
   ]
  },
  {
   "cell_type": "markdown",
   "id": "55dac604",
   "metadata": {},
   "source": [
    "### Log the error\n",
    "When your program detects bad data, you could choose to log the error to a file and then continue processing.  Often, you will want to use this method in conjunction with one of the other methods listed here.\n",
    "\n",
    "As you log data, consider any potential harm that data may cause.  Was it rejected because it could lead to an injection attack?  Could the data leak sensitive or private information?"
   ]
  },
  {
   "cell_type": "markdown",
   "id": "6818d848",
   "metadata": {},
   "source": [
    "### Return an error code\n",
    "Rather than the routine trying to handle the error itself, the routine can report an error has occured and let the routine's callers determine how to best respond to the situation.  Several ways exist to perform this notification:\n",
    "- return an error status as the function's return value.\n",
    "- raise an exception\n",
    "- set a status variable"
   ]
  },
  {
   "cell_type": "markdown",
   "id": "3f50ef62",
   "metadata": {},
   "source": [
    "### Call an error-processing routine/class\n",
    "In this approach, error handling is centralized in a global function or class.  By centralizing, the responsibility to handle errors only exists within one location. The primary advantage is that it becomes easier to investigate issues and debug problems.  The downside to this approach is that the entire system becomes tethered to this capability."
   ]
  },
  {
   "cell_type": "markdown",
   "id": "3ef87e5c",
   "metadata": {},
   "source": [
    "### Display an error error message\n",
    "When an error occurs, alert the user to what occurred, why it occurred, and how to proceed.\n",
    "\n",
    "<p>\n",
    "<div style=\"border: 3px solid black;padding: 10px; border-radius: 10px;\">\n",
    "<b>Error messages</b><p>\n",
    "Providing well-crafted and useful error messages is essential to any modern computer system.  However, that goal is not always achieved.  For instance, Jupyter Lab produced the following error message::\n",
    "<pre>\n",
    "Launcher Error Cannot read properties of undefined (reading 'path')\n",
    "Error Invalid response: 400 Bad Request\n",
    "</pre>\n",
    "Not useful to say the least. \n",
    "    \n",
    "Good error messages need to be - \n",
    "- Explicit and visible. At absolute minimum, users need to aware that something has gone awry.  That email lost in the Internet?  Good luck just finding that it has disappeared ...\n",
    "- Human readable. Avoid obscure codes and abbreviations.  It may be necessary to include a code to provide support, but that should come at the end of the message.\n",
    "- Polite phrasing. Don't blame the user or imply that they did something wrong.\n",
    "- Precise description.  What exactly was the problem? In some security situations, such details may be inappropriate to provide.\n",
    "- Advice.  Provide constructive advice on how to fix the problem or proceed with the next action.  \n",
    "\n",
    "[Guidelines for Error Messages](https://web.archive.org/web/20220616061138/https://xd.adobe.com/ideas/process/information-architecture/error-message-design-ux/)    \n",
    "</div>"
   ]
  },
  {
   "cell_type": "markdown",
   "id": "a68e6fc8",
   "metadata": {},
   "source": [
    "### Be Situational\n",
    "Error handling is not a one-size fits all approach.  Choose the appropriate mechanism for the current situation.  \n",
    "\n",
    "While this approach provides flexibility, it may create risk in systems that require certain levels of robustness or safety."
   ]
  },
  {
   "cell_type": "markdown",
   "id": "9d1a69d5",
   "metadata": {},
   "source": [
    "### Shut down\n",
    "Depending upon the situation, the best approach may be to generate an error log message and shut down immediately.  If you have software that controls radiation doses to patients as part of a chemotherapy treatment, what should occur if an error situation arises?  It is not safe to use one of the techniques listed here for imputing data.  The only safe alternative is to shut down until the situation can be appropriately resolved.\n",
    "\n",
    "[Therac-25](https://en.wikipedia.org/wiki/Therac-25) is an often used example for this situation.  This was a radiation therapy machine that killed several patients due to software issues.   Nancy Leveson has written an [extensive paper](resources/therac25.pdf) on this situation.\n"
   ]
  },
  {
   "cell_type": "markdown",
   "id": "03de5399",
   "metadata": {},
   "source": [
    "## Checking Parameter Values\n",
    "At the start of these notebooks, we presented the documentation that should be produced as we create an algorithm to solve a problem:  \n",
    "- Inputs to the routine\n",
    "- Outputs from the routine\n",
    "- Pseudocode (steps in the routine)\n",
    "\n",
    "These inputs can be thought of as parameters to a function.  As such, we should verify that these parameters meet the expected values.  If the parameters are incorrect then we need to follow one or more of the error handling techniques.\n",
    "\n",
    "For example in this following method to compute the average of a list of values, what issues may occur?"
   ]
  },
  {
   "cell_type": "code",
   "execution_count": null,
   "id": "c02f0a1e",
   "metadata": {},
   "outputs": [],
   "source": [
    "def compute_average(l):\n",
    "    return sum(l)/len(l)"
   ]
  },
  {
   "cell_type": "markdown",
   "id": "3ede97dd",
   "metadata": {},
   "source": [
    "What happens if the data is not numeric?  What happens if we pass an empty list?\n",
    "<pre>\n",
    "compute_average([100,90,80,\"c\"])\n",
    "compute_average([])\n",
    "</pre>\n"
   ]
  },
  {
   "cell_type": "markdown",
   "id": "e2818360",
   "metadata": {},
   "source": [
    "## Discussion\n",
    "Programmers should strive to develop robust programs that can continue to operate in a safe state when issues do arise.  If an executing program back into a safe state after an error, then the program needs to safely stop itself..\n",
    "\n",
    "Trade-offs exists with the amount of error handling code added to our programs.  In some cases, too much can be as much of a curse as too little.  However, when it comes to validating external inputs into our systems - especially in online applications - data validation is absolutely critical."
   ]
  },
  {
   "cell_type": "markdown",
   "id": "8f88bedc",
   "metadata": {},
   "source": [
    "## Exercises\n",
    "1. Rewrite the compute_average routine to better handle non-numeric data as well as if the empty list is not defined.  Your function docstring should describe the applied error handling approach(es)."
   ]
  },
  {
   "cell_type": "markdown",
   "id": "92afd53c",
   "metadata": {},
   "source": [
    "## References\n",
    "1. Steve McConnell. 2004. _Code Complete_, Second Edition. Microsoft Press, USA. [O'Reilly](https://learning.oreilly.com/library/view/code-complete-2nd/0735619670/)\n"
   ]
  },
  {
   "cell_type": "code",
   "execution_count": null,
   "id": "cc372561",
   "metadata": {},
   "outputs": [],
   "source": []
  }
 ],
 "metadata": {
  "kernelspec": {
   "display_name": "Python 3 (ipykernel)",
   "language": "python",
   "name": "python3"
  },
  "language_info": {
   "codemirror_mode": {
    "name": "ipython",
    "version": 3
   },
   "file_extension": ".py",
   "mimetype": "text/x-python",
   "name": "python",
   "nbconvert_exporter": "python",
   "pygments_lexer": "ipython3",
   "version": "3.10.4"
  }
 },
 "nbformat": 4,
 "nbformat_minor": 5
}
