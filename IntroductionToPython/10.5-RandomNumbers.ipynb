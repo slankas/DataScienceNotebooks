{
 "cells": [
  {
   "cell_type": "markdown",
   "id": "23a3b208",
   "metadata": {},
   "source": [
    "<div class=\"pagebreak\"></div>\n",
    "\n",
    "# Random Numbers\n",
    "\n",
    "Many different programming tasks require random numbers:\n",
    "- Games\n",
    "  - Dice rolls\n",
    "  - Card shuffling\n",
    "  - Video games\n",
    "- Educational programs\n",
    "  - flash cards (e.g, vocabulary)\n",
    "  - tests (randomize question order and answer order)\n",
    "- Simulations\n",
    "- Statistical analysis (pick random samples)\n",
    "- Cryptography(generate keys, help encrypt data, salting hashes)\n",
    "\n",
    "<div style=\"border: 3px solid black;padding: 10px; border-radius: 10px;\">\n",
    "<b>Fun fact:</b> Players could beat the original Pac-Man game through following specific <a hrerf='https://tedium.co/2019/11/19/pac-man-patterns-history/'>patterns</a> across the game board.  The ghosts follow a very specific algorithm when chasing the player(Pac-Man).  As a response, <a href='https://en.wikipedia.org/wiki/Ms._Pac-Man'>Ms. Pac-Man</a> makes a few random decisions at the start of each round and during the first reversal to prevent the use of patterns.\n",
    "<p>\n",
    "<table>\n",
    "    <tr style=\"background-color: white;font-size: 14px;\"><td width=140><img src='images/pacman256.png' alt=\"pac-man level 256 overflow issue\" width=120></td>\n",
    "        <td style='text-align: left; vertical-align: text-top'>\n",
    "Pac-Man also has another interesting issue when the player reaches level 256 - the screen becomes split with a jumbled mess. This was caused by the game using an 8-bit slot to hold the game level. At level 256, that value wraps around to 0 and the program didn't handle the overflow issue properly.  Back in 1980, memory was still a premium and every bit mattered.  Decisions like this came to haunt the software development community with the <a href='https://en.wikipedia.org/wiki/Year_2000_problem'>Year 2000 Problem</a>. Overflow issues still exist depending upon the data types used, the program language, and the deployed environments.\n",
    "            <p>&nbsp;</p><small>Source: <a href='https://pacman.fandom.com/wiki/Map_256_Glitch'>https://pacman.fandom.com/wiki/Map_256_Glitch</a></small>\n",
    "        </td>\n",
    "    </tr>\n",
    "    </table>\n",
    "</div>"
   ]
  },
  {
   "cell_type": "markdown",
   "id": "37dc4d30",
   "metadata": {},
   "source": [
    "## Using Random Numbers in Python\n",
    "To create random numbers within Python, you'll need to import the `random` module from Python's standard library.\n",
    "<pre>\n",
    "    import random\n",
    "</pre>\n",
    "Once the import has executed, you can use a number of different functions in the [random](https://docs.python.org/3/library/random.html) module to generate random numbers for different types (integers , floats), select random values from sequences, or generaate a random number based upon a specific distribution(e.g., Gaussian). View the Python documentation to see more methods than what is contained in this notebook."
   ]
  },
  {
   "cell_type": "code",
   "execution_count": null,
   "id": "d95cb691",
   "metadata": {},
   "outputs": [],
   "source": [
    "import random"
   ]
  },
  {
   "cell_type": "markdown",
   "id": "06888beb",
   "metadata": {},
   "source": [
    "To generate a random integer, $r$, where $a <= r <= b$, use\n",
    "<pre>\n",
    "    r = random.randint(a,b)\n",
    "</pre>\n",
    "So to generate a number between 1 and 6 (rolling a six-sided die):"
   ]
  },
  {
   "cell_type": "code",
   "execution_count": null,
   "id": "f2672006",
   "metadata": {},
   "outputs": [],
   "source": [
    "r = random.randint(1,6)\n",
    "print (r)"
   ]
  },
  {
   "cell_type": "markdown",
   "id": "f5fc6384",
   "metadata": {},
   "source": [
    "To generate a random float, $r$, where $a <= r <= b$, use\n",
    "<pre>\n",
    "r = random.uniform(a,b)\n",
    "</pre>"
   ]
  },
  {
   "cell_type": "code",
   "execution_count": null,
   "id": "c65f3783",
   "metadata": {},
   "outputs": [],
   "source": [
    "print(random.uniform(1,10))\n",
    "print(random.uniform(1,10))"
   ]
  },
  {
   "cell_type": "markdown",
   "id": "96c1c5d7",
   "metadata": {},
   "source": [
    "`random.random()` returns the next random number in the range \\[0.0, 1.0). The value \"1.0\" is exclusive and will not be returned as a possibility."
   ]
  },
  {
   "cell_type": "code",
   "execution_count": null,
   "id": "c2aa6a69",
   "metadata": {},
   "outputs": [],
   "source": [
    "print(random.random())\n",
    "print(random.random())"
   ]
  },
  {
   "cell_type": "markdown",
   "id": "4d05e040",
   "metadata": {},
   "source": [
    "To generate a random number from a Gaussian distribution, use\n",
    "<pre>\n",
    "random.gauss(<i>mu</i>, <i>sigma</i>)\n",
    "</pre>\n",
    "where <i>mu</i> is the mean and <i>sigma</i> is the standard deviation."
   ]
  },
  {
   "cell_type": "code",
   "execution_count": null,
   "id": "2add58d8",
   "metadata": {},
   "outputs": [],
   "source": [
    "print(random.gauss(20,5))\n",
    "print(random.gauss(20,5))"
   ]
  },
  {
   "cell_type": "markdown",
   "id": "a2ade926",
   "metadata": {},
   "source": [
    "To randomly select a value from an existing sequence, use `random.choice()`"
   ]
  },
  {
   "cell_type": "code",
   "execution_count": null,
   "id": "40f0f1a8",
   "metadata": {},
   "outputs": [],
   "source": [
    "acc_schools = [\"Duke\", \"Notre Dame\", \"UNC\", \"NCSU\", \"Wake Forest\", \"Clemson\"]\n",
    "print(random.choice(acc_schools))\n",
    "print(random.choice(acc_schools))"
   ]
  },
  {
   "cell_type": "markdown",
   "id": "f36cbb91",
   "metadata": {},
   "source": [
    "## Seeding\n",
    "Computers utilize pseudorandom number generator (PRNG) algorithms to \"create\" random numbers. In particular, Python uses the [Mersenne Twister PRNG](https://en.wikipedia.org/wiki/Mersenne_Twister) to generate these numbers.\n",
    "\n",
    "To effectively create random numbers, it is necessary to \"seed\" - establish a starting point - for the sequence of random numbers. Behind the scenes, Python automatically seeds its PRNG. However, we can also override this value by explicitly calling `random.seed()` ourselves.\n",
    "\n",
    "Several use cases when a seed should be set: (note - these all involve reproducibility)\n",
    "1. Software development - By using a seed when random numbers are generated, the system will have consistent behavior and output.\n",
    "2. Statistic analysis - By sharing the seed, others can replicate and verify results.\n",
    "3. Teaching simulation - Allows the students to see the same results (and possibly, odd results) for the material\n",
    "\n",
    "<div style=\"border: 3px solid black;padding: 10px; border-radius: 10px;\">\n",
    "<b>Fun fact #2:</b> One of the instructor's built a blackjack program for his 8th grade science fair project.  While testing the program, his mother noticed a pattern where the same cards appeared after the machine was just started; she could quickly build up a large bankroll by making the appropriate bets and plays. As mentioned, random numbers are really just pseudo random numbers for computers - there's a deterministic algorithm that produces them.  The key here is to use a random seed to change the starting point to an \"unguessable\" value.  Back then, the Applesoft Basic language didn't provide an automatic seed - one had to be explicitly passed to the function as a negative number.  To create the seed, the instructor put the blackjack program into an infinite loop and counted the number of times loop executed until the user hit the space key to start playing. Modern libraries utilize an automatic seed if one is not explicitly provided - either by using the current system clock or by using a special device /dev/random/ that collects entropy from the operating system based upon interrupts, network traffic, and other events.  Using the system clock alone as a seed can lead to issues as the range of possible values is finite - yes, it may be a large number of possibilities, but modern computers can \"brute-force\" those possibilities quickly.\n",
    "<p>Andy Weir wrote a short story - \"<a href='https://www.goodreads.com/en/book/show/49661162-randomize'>Randomize</a>\" - that looked at the financial issues casinos face when randomness can be predicted.\n",
    "</div>\n"
   ]
  },
  {
   "cell_type": "markdown",
   "id": "44b45d7d",
   "metadata": {},
   "source": [
    "## Cryptographic Uses\n",
    "To use random numbers for cryptographic purposes, you should use the [SystemRandom](https://docs.python.org/3/library/random.html#random.SystemRandom) class with the random module.  This generator uses the operating system's cryptographic secure PRNG. Other sources on the web will point to the [secrets module](https://docs.python.org/3/library/secrets.html#module-secrets).  However, secrets actually defers to SystemRandom.\n",
    "\n",
    "More details: [CSPRNG on Linux](https://web.archive.org/web/20220622170005/https://www.amossys.fr/fr/ressources/blog-technique/linux-csprng-architecture/)"
   ]
  },
  {
   "cell_type": "markdown",
   "id": "b2b5eb4c",
   "metadata": {},
   "source": [
    "![](images/ayn_random_XKCD.png)\n",
    "\n",
    "source: https://xkcd.com/1277/"
   ]
  },
  {
   "cell_type": "markdown",
   "id": "04adb4d0",
   "metadata": {},
   "source": [
    "## Exercises\n",
    "1. Write a function that simulates rolling an x-sided die.   `def roll_die(num_sides=6)`  \n",
    "2. Write a function named twenty that returns a random integer between 1 and 20.\n",
    "3. Write a program that let's the user play [Rock, Paper, Scissors](https://en.wikipedia.org/wiki/Rock_paper_scissors) against the computer.\n",
    "The user should be able enter the values of \"rock\", \"paper\", or \"scissors\". The computers choice should be randomly selected from that list. The output should follow this logic:\n",
    "   - If both selected the same item: \"It's a tie: both selected _itemName_.\"\n",
    "   - If one chooses rock, and the other scissors: \"Rock smashes scissors!\"\n",
    "   - If one chooses scissors, and the other paper: \"Scissors cuts paper!\"\n",
    "   - If one chooses paper, and the other rock: \"Paper covers rock!\"\n",
    "   - if the player wins, print \"You win!\"\n",
    "   - if the player loses, print \"You lose.\""
   ]
  }
 ],
 "metadata": {
  "kernelspec": {
   "display_name": "Python 3 (ipykernel)",
   "language": "python",
   "name": "python3"
  },
  "language_info": {
   "codemirror_mode": {
    "name": "ipython",
    "version": 3
   },
   "file_extension": ".py",
   "mimetype": "text/x-python",
   "name": "python",
   "nbconvert_exporter": "python",
   "pygments_lexer": "ipython3",
   "version": "3.10.4"
  }
 },
 "nbformat": 4,
 "nbformat_minor": 5
}
