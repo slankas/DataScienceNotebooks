{
 "cells": [
  {
   "cell_type": "markdown",
   "id": "5eb6c690",
   "metadata": {},
   "source": [
    "<div class=\"pagebreak\"></div>\n",
    "\n",
    "# Preconditions, Postconditions, Invariants, and Assertions\n",
    "While this title seems long, it is ultimately the same underlying principle at work in different ways - checking if a condition holds or not. \n",
    "\n",
    "Looking back to the original documentation we produced for an algorithm:\n",
    "* Inputs to the routine\n",
    "* Outputs from the routine\n",
    "* Pseudocode (steps in the routine)\n",
    "\n",
    "We can add two additional items: _preconditions_ to the routine and _postconditions_ of the routine.\n",
    "\n",
    "_Preconditions_ are conditions guaranteed to be true before the routine. These conditions\n",
    "include such things as inputs in appropriate ranges and files initialized and ready for\n",
    "input/output. _Preconditions_ are the client code’s obligations to the routine that it \n",
    "calls. For example, if we create a shape such as a circle or a square, the radius or \n",
    "side length must be a nonnegative number. As we write code, we should check that these\n",
    "preconditions hold. If not, an appropriate error handling technique is needed, such as\n",
    "logging the issue, returning an error code, or raising an exception.\n",
    "\n",
    "_Postconditions_ are the conditions(items) guaranteed to be true before control returns to the caller. These conditions are the routine’s/class’s obligations to the code that uses it. For example, if a routine adds an element to a list, a postcondition is that the list is not empty. Or, more strongly, the length of a list is one more than the length of that list when the routine started.\n",
    "\n",
    "_Invariants_ are a set of conditions(assumptions) that must always hold true during the life of a program (or, more narrowly, by the life of an object). You can consider this to be a combined precondition and postcondition - it must be valid before and after a call to a method. However, while executing a routine that changes the relevant state/attributes for the condition, the invariant may not necessarily be true. Invariants should hold during the object’s lifetime - from the end of its constructor to the end of its destructor. As an example, the radius of a circle must always be nonnegative. We also apply the term invariant to a sequence of operations. In this user, the invariant is the set of conditions that remain true during these operations.\n",
    "\n",
    "_Assertions_ are a series of statements used during development that allows a program to check itself as it runs. _Assertions_ are sanity checks that conditions hold true. We use _assertions_ to document assumptions in the code. Primarily, we use _assertions_ as a development/debugging tool - it is possible to turn off these checks completely. Do not use assert statements for necessary checks (data validation, authorization)."
   ]
  },
  {
   "cell_type": "markdown",
   "id": "875f6a3f",
   "metadata": {},
   "source": [
    "## Assertion Example\n",
    "Suppose we build an online stock market system and need to compute the purchase price of a stock. As part of the business rules, the company can offer incentives such as a discount on the transaction cost for special promotions such as new customer enticement.\n",
    "<pre>\n",
    "def compute_charge(num_shares, price_per_share, commission_charge, bonus_offer):\n",
    "    amount = num_shares * price_per_share + commission_charge - bonus_offer\n",
    "    return amount\n",
    "</pre>\n",
    "However, what happens if `bonus_offer > num_shares * price_per_share + commission_charge`? Do we owe the client money due to the client buying stocks?  In this situation, we need an assertion that the amount is positive.  We could also add another assertion that the `amount` is less than or equal to the <code>num_shares * price_per_share + commission_charge</code>. (This covers negative values passed in `bonus_offer`.)"
   ]
  },
  {
   "cell_type": "code",
   "execution_count": null,
   "id": "44f00e32",
   "metadata": {},
   "outputs": [],
   "source": [
    "def compute_charge(num_shares, price_per_share, commission_charge, bonus_offer):\n",
    "    amount = num_shares * price_per_share + commission_charge - bonus_offer\n",
    "    assert 0 <= amount <= num_shares * price_per_share + commission_charge\n",
    "    return amount"
   ]
  },
  {
   "cell_type": "code",
   "execution_count": null,
   "id": "5c6be75a",
   "metadata": {},
   "outputs": [],
   "source": [
    "compute_charge(100, 10.00, 7.95, 200.00)"
   ]
  },
  {
   "cell_type": "code",
   "execution_count": null,
   "id": "51cfa433",
   "metadata": {},
   "outputs": [],
   "source": [
    "compute_charge(100, 10.00, 7.95, -200.00)  # Will raise an AssertionError as the bonus offer is negative"
   ]
  },
  {
   "cell_type": "code",
   "execution_count": null,
   "id": "85e87ec8",
   "metadata": {},
   "outputs": [],
   "source": [
    "compute_charge(100, 10.00, 7.95, 1500.00)  # raises an assertion error as amount < 0"
   ]
  },
  {
   "cell_type": "markdown",
   "id": "584d1058",
   "metadata": {},
   "source": [
    "Fixing the last condition requires a check to be added to `compute_charge` that prevents a negative. For a negative bonus offer, we could choose among several different possibilities. We could add validation for each of the function's parameters.  We could also simply not choose to perform any validation as the call came from within our program."
   ]
  },
  {
   "cell_type": "code",
   "execution_count": null,
   "id": "87289fd0",
   "metadata": {},
   "outputs": [],
   "source": [
    "def compute_charge(num_shares, price_per_share, commission_charge, bonus_offer):\n",
    "    amount = num_shares * price_per_share + commission_charge - bonus_offer\n",
    "    if amount < 0:\n",
    "        amount = 0\n",
    "    assert 0 <= amount <= num_shares * price_per_share + commission_charge\n",
    "    return amount"
   ]
  },
  {
   "cell_type": "code",
   "execution_count": null,
   "id": "7f5c2ced",
   "metadata": {},
   "outputs": [],
   "source": [
    "compute_charge(100, 10.00, 7.95, 1500.00) "
   ]
  },
  {
   "cell_type": "markdown",
   "id": "5acd755a",
   "metadata": {},
   "source": [
    "## Syntax\n",
    "The assert syntax follows this format:\n",
    "<pre>\n",
    "    assert <i>expression</i>[, <i>message</i>]\n",
    "</pre>\n",
    "At a minimum, assert needs an expression that evaluates to True or False. The second portion is optional and provides an error message if the assertion fails.\n",
    "\n",
    "## Example\n",
    "Here's a slightly more involved example."
   ]
  },
  {
   "cell_type": "code",
   "execution_count": null,
   "id": "55247e93",
   "metadata": {},
   "outputs": [],
   "source": [
    "class Circle:\n",
    "    def __init__(self, radius):\n",
    "        if radius < 0:\n",
    "            raise ValueError(\"Radius cannot be a negative number\")\n",
    "        self.__radius = radius\n",
    "    \n",
    "    def compute_circumference(self):\n",
    "        assert self.__radius >= 0, \"Discovered negative radius\"\n",
    "        return 2 * self.__radius * 3.14159"
   ]
  },
  {
   "cell_type": "markdown",
   "id": "457e2fd6",
   "metadata": {},
   "source": [
    "At first glance, the assert in `compute_circumference` does not seem necessary.  However, a programmer could have manually changed a circle's radius after the circle's construction."
   ]
  },
  {
   "cell_type": "code",
   "execution_count": null,
   "id": "a0fe9402",
   "metadata": {},
   "outputs": [],
   "source": [
    "a = Circle(2.5)\n",
    "a._Circle__radius = -1.0\n",
    "a.compute_circumference()  # causes an AssertionError"
   ]
  },
  {
   "cell_type": "markdown",
   "id": "74164dc4",
   "metadata": {},
   "source": [
    "However, suppose a coworker changed the Circle class to add a method that allows a correction percentage that would modify a radius.  That correction percentage could be positive or negative.  The initial implementation could have been - "
   ]
  },
  {
   "cell_type": "code",
   "execution_count": null,
   "id": "512142a5",
   "metadata": {},
   "outputs": [],
   "source": [
    "class Circle:\n",
    "    def __init__(self, radius):\n",
    "        if radius < 0:\n",
    "            raise ValueError(\"Radius cannot be a negative number\")\n",
    "        self.__radius = radius\n",
    "    \n",
    "    def compute_circumference(self):\n",
    "        assert self.__radius >= 0, \"Discovered negative radius\"\n",
    "        return 2 * self.__radius * 3.14159\n",
    "    \n",
    "    def apply_correction(self, percent_change):\n",
    "        self.__radius *= percent_change"
   ]
  },
  {
   "cell_type": "code",
   "execution_count": null,
   "id": "738b68a2",
   "metadata": {},
   "outputs": [],
   "source": [
    "a = Circle(2.5)\n",
    "a.apply_correction(-.01)\n",
    "a.compute_circumference()"
   ]
  },
  {
   "cell_type": "markdown",
   "id": "425930a5",
   "metadata": {},
   "source": [
    "The coworker had not fully considered the potential side issues the change may have. While this is relatively simple, similar problems occur in much more complex situations. Using the `assert`, we at least have a sanity check. Our testing may or may not have found this particular situation.\n",
    "\n",
    "In looking at the `Circle` class, we applied name mangling to highlight that developers should not directly change the values. However, we can create a more robust situation by validating the radius whenever it is changed. In this solution, we establish a getter and setter property for radius. The radius setter always validates that its value is nonnegative."
   ]
  },
  {
   "cell_type": "code",
   "execution_count": null,
   "id": "d9829a0d",
   "metadata": {},
   "outputs": [],
   "source": [
    "class Circle:\n",
    "    def __init__(self, radius):\n",
    "        self.radius = radius\n",
    "    \n",
    "    @property\n",
    "    def radius(self):\n",
    "        return self.__radius\n",
    "    \n",
    "    @radius.setter\n",
    "    def radius(self, radius):\n",
    "        if radius < 0:\n",
    "            raise ValueError(\"Radius cannot be a negative number\")\n",
    "        self.__radius = radius\n",
    "    \n",
    "    def compute_circumference(self):\n",
    "        assert self.radius >= 0, \"Discovered negative radius\"\n",
    "        return 2 * self.radius * 3.14159\n",
    "    \n",
    "    def apply_correction(self, percent_change):\n",
    "        self.radius *= percent_change"
   ]
  },
  {
   "cell_type": "code",
   "execution_count": null,
   "id": "8d329ae0",
   "metadata": {},
   "outputs": [],
   "source": [
    "a = Circle(-3)                # raises a ValueError"
   ]
  },
  {
   "cell_type": "code",
   "execution_count": null,
   "id": "b0d7efd5",
   "metadata": {},
   "outputs": [],
   "source": [
    "b = Circle(3)\n",
    "b.apply_correction (-1.01)    # raises a ValueError"
   ]
  },
  {
   "cell_type": "markdown",
   "id": "fa76cd2e",
   "metadata": {},
   "source": [
    "## Summary\n",
    "Assertions are an underutilized tool in many programmers’ arsenal. By documenting assumptions, asserts can help programmers identify situations that violate those assumptions. Pay careful attention, though, when using assertions - they are not a mechanism for detecting run-time errors, as they can be globally disabled through the Python interpreter. Also, do not use asserts to implement application functionality (e.g., data validation)."
   ]
  },
  {
   "cell_type": "markdown",
   "id": "42e84544",
   "metadata": {},
   "source": [
    "## Exercises\n",
    "???  may need something more complex.  given them a class file that they need to change"
   ]
  },
  {
   "cell_type": "code",
   "execution_count": null,
   "id": "fcb3b3bc",
   "metadata": {},
   "outputs": [],
   "source": []
  }
 ],
 "metadata": {
  "kernelspec": {
   "display_name": "Python 3 (ipykernel)",
   "language": "python",
   "name": "python3"
  },
  "language_info": {
   "codemirror_mode": {
    "name": "ipython",
    "version": 3
   },
   "file_extension": ".py",
   "mimetype": "text/x-python",
   "name": "python",
   "nbconvert_exporter": "python",
   "pygments_lexer": "ipython3",
   "version": "3.10.4"
  }
 },
 "nbformat": 4,
 "nbformat_minor": 5
}
