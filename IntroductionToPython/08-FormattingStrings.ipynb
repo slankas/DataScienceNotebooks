{
 "cells": [
  {
   "cell_type": "markdown",
   "id": "6c815fb4",
   "metadata": {},
   "source": [
    "# Formatting Strings\n",
    "So far, we've been using string concatenation and multiple arguments to `print()` to format strings.  In this notebook, we will use [string interpolation](https://en.wikipedia.org/wiki/String_interpolation) to put values into strings with a variety of different formats. \n",
    "\n",
    "Python offers three different ways to format strings:\n",
    "- old style (all versions of Pythons) - see reference material if interested, not covered/tested\n",
    "- new style (Python 2.6 +)\n",
    "- f-strings (Python 3.6 +) - see reference material if interested, not covered/tested\n",
    "\n",
    "In this notebook, we are directly printing the results of the formatting, but we can also assign the results to a variable or use as an expression (e.g., as an argument to a function)."
   ]
  },
  {
   "cell_type": "markdown",
   "id": "3a94da08",
   "metadata": {},
   "source": [
    "## New style: {} and format()"
   ]
  },
  {
   "cell_type": "markdown",
   "id": "dcdb0336",
   "metadata": {},
   "source": [
    "This format uses the form of _format_string_.format(_data_). Within each string are one of more placeholder fields identified by curly braces `{}` that will be replaced by values.\n",
    "\n",
    "By default, the {} are replaced by data by matching order of the arguments to data - the indexing starts at zero.  Addtionally, we can also specify name arguments to the placeholders."
   ]
  },
  {
   "cell_type": "code",
   "execution_count": null,
   "id": "53f7e9af",
   "metadata": {},
   "outputs": [],
   "source": [
    "print(\"{}\".format(\"Hello World!\"))\n",
    "print(\"It was the {} of {}.\".format(\"best\",\"times\"))\n",
    "print(\"It was the {1} of {0}.\".format(\"times\", \"worst\"))\n",
    "print(\"It was the {time} of {arg2}.\\nIt was the {time} of {arg3} ...\".format(time='age',arg2='wisdom',arg3=\"foolishness\"))"
   ]
  },
  {
   "cell_type": "markdown",
   "id": "b9e0609e",
   "metadata": {},
   "source": [
    "We can also utilize a dictionary of key value pairs.  The `0` in the code specifies the positional argument."
   ]
  },
  {
   "cell_type": "code",
   "execution_count": null,
   "id": "98eba045",
   "metadata": {},
   "outputs": [],
   "source": [
    "d  = {'time':'age', 'arg2':'wisdom', 'arg3':'foolishness'}\n",
    "print(\"It was the {0[time]} of {0[arg2]}.\\nIt was the {0[time]} of {0[arg3]} ...\".format(d))"
   ]
  },
  {
   "cell_type": "markdown",
   "id": "d9ae1453",
   "metadata": {},
   "source": [
    "New style formatting uses the following syntax: `{:[fill][alignment][sign][minwidth][.][maxchars]type}`\n",
    "    \n",
    "- An initial colon (':').\n",
    "- An optional fill character (default ' ') to pad the value string if it’s shorter than minwidth.\n",
    "- An optional alignment character:\n",
    "  - '<' left (the default)\n",
    "  - '>' right\n",
    "  - '^' center\n",
    "- An optional sign for numbers. If `+` is specified, a plus symbol will be added to positive numbers.  Negative numbers always have a minus sign.\n",
    "- An optional minwidth. \n",
    "- An optional period ('.') to separate minwidth and maxchars if both are defined.  If only one is defined, assumed to be maxchars\n",
    "- An optional maxchars.  If this is the a float type, then this specifies the precision.\n",
    "- the type, which are the same as the old style\n",
    "\n",
    "\n",
    "| Type | Description |\n",
    "|------|:-------|\n",
    "| s   | string |\n",
    "| d   | integer |\n",
    "| x   | hexadecimal integer |\n",
    "| o   | octal integer |\n",
    "| f   | float |\n",
    "| e   | float in exponential format |\n",
    "| g   | decimal or exponential float |\n"
   ]
  },
  {
   "cell_type": "code",
   "execution_count": null,
   "id": "62866a4b",
   "metadata": {},
   "outputs": [],
   "source": [
    "alphabet = \"abcdefghijklmnopqrstuvwxyz\"\n",
    "print(\"123456789012345678901234567890\")\n",
    "print(\"{}\".format(alphabet))\n",
    "print(\"{:s}\".format(alphabet))\n",
    "print(\"{:X<30s}\".format(alphabet))\n",
    "print(\"{:X>30s}\".format(alphabet))\n",
    "print(\"{:X^30s}\".format(alphabet))\n",
    "print(\"{:30.5s}\".format(alphabet))\n",
    "print(\"{:>30.5s}\".format(alphabet))"
   ]
  },
  {
   "cell_type": "code",
   "execution_count": null,
   "id": "bfd46c03",
   "metadata": {},
   "outputs": [],
   "source": [
    "year = 1892\n",
    "print(\"123456789012345678901234567890\")\n",
    "print(\"{:d}\".format(year))\n",
    "print(\"{:20d}\".format(year))\n",
    "print(\"{:+20d}\".format(year))\n",
    "print(\"{:0>20d}\".format(year))  # can't specify minwidth and max chars as we could in the old-style\n",
    "print(\"{:0^8d}\".format(year))\n",
    "print(\"{:^20d}\".format(year))\n",
    "print(\"{:x}\".format(year))\n",
    "print(\"{:o}\".format(year))"
   ]
  },
  {
   "cell_type": "code",
   "execution_count": null,
   "id": "dd441095",
   "metadata": {},
   "outputs": [],
   "source": [
    "gain = 64.98712\n",
    "print(\"123456789012345678901234567890\")\n",
    "print(\"{:f}\".format( gain))\n",
    "print(\"{:20f}\".format( gain))\n",
    "print(\"{:+20f}\".format( gain))\n",
    "print(\"{:020f}\".format( gain))\n",
    "print(\"{:20.8f}\".format( gain))\n",
    "print(\"{:20.2f}\".format( gain))\n",
    "print(\"{:<20.6f}\".format( gain))"
   ]
  },
  {
   "cell_type": "markdown",
   "id": "a08f2965",
   "metadata": {},
   "source": [
    "Notice in the above example, the default justification is left, unless minwidth or the precision is specified where the numbers become right justified.\n",
    "\n",
    "Variables can also be placed into the formatting placeholder by surrounding them with `{}`.  See below where we have used w and d."
   ]
  },
  {
   "cell_type": "code",
   "execution_count": null,
   "id": "e305e744",
   "metadata": {},
   "outputs": [],
   "source": [
    "gain = 64.98712\n",
    "print(\"123456789012345678901234567890\")\n",
    "print(\"{:{w}.{d}f}\".format( gain, w=15,d=2))\n",
    "print(\"{:15.2f}\".format( gain))"
   ]
  },
  {
   "cell_type": "markdown",
   "id": "511526ad",
   "metadata": {},
   "source": [
    "## Exercises\n",
    "\n",
    "TODO: Replace this exercise.  \n",
    "\n",
    "1. Using the following form letter, express it as a multiline string.\n",
    "\n",
    "```\n",
    "Dear {salutation} {name},\n",
    "\n",
    "Thank you for your letter. We are sorry that our {product}\n",
    "{verbed} in your {room}. Please note that it should never\n",
    "be used in a {room}, especially near any {animals}.\n",
    "\n",
    "Send us your receipt and {amount} for shipping and handling.\n",
    "We will send you another {product} that, in our tests,\n",
    "is {percent}% less likely to have {verbed}.\n",
    "\n",
    "Thank you for your support.\n",
    "\n",
    "Sincerely,\n",
    "{spokesman}\n",
    "{job_title}\n",
    "```\n",
    "\n",
    "2. Next, assign variables for all the named placeholders in the string.\n",
    "3. Format and print the letter using new style strings.\n",
    "4. Write a script that defines a float variable and then prints out the number in the format of $\\*\\*\\*XX.XX where the leading asterisks are used to make the length of the output 10 characters and the precision is two digits.\n",
    "\n",
    "\n",
    "<sub><sup>1-4 Source: Introducing Python by Bill Lubanovic</sup></sub><br>\n"
   ]
  }
 ],
 "metadata": {
  "kernelspec": {
   "display_name": "Python 3 (ipykernel)",
   "language": "python",
   "name": "python3"
  },
  "language_info": {
   "codemirror_mode": {
    "name": "ipython",
    "version": 3
   },
   "file_extension": ".py",
   "mimetype": "text/x-python",
   "name": "python",
   "nbconvert_exporter": "python",
   "pygments_lexer": "ipython3",
   "version": "3.8.10"
  }
 },
 "nbformat": 4,
 "nbformat_minor": 5
}
