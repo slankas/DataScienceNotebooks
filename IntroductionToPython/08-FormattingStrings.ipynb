{
 "cells": [
  {
   "cell_type": "markdown",
   "id": "6c815fb4",
   "metadata": {},
   "source": [
    "<div class=\"pagebreak\"></div>\n",
    "\n",
    "# Formatting Strings\n",
    "Before this notebook, we used string concatenation and multiple arguments to print() to format strings. Now, we will use [string interpolation](https://en.wikipedia.org/wiki/String_interpolation) to put values into strings in various formats.\n",
    "\n",
    "Python offers three different ways to format strings:\n",
    "- old style (all versions of Pythons) - see reference material if interested, not covered/tested\n",
    "- new style (Python 2.6 +)\n",
    "- f-strings (Python 3.6 +) - see reference material if interested, not covered/tested\n",
    "\n",
    "The f-string style provides an easy convenience to put variables into strings but at the cost of requiring a literal (hard-coded) value to be used as the format string in the code.  This limitation makes it harder to develop international-based applications.\n",
    "\n",
    "This notebook directly prints the formatting results, but the formatted string could be assigned to a variable or used as an expression (e.g., as an argument to a function)."
   ]
  },
  {
   "cell_type": "markdown",
   "id": "3a94da08",
   "metadata": {},
   "source": [
    "## New style: {} and format()"
   ]
  },
  {
   "cell_type": "markdown",
   "id": "dcdb0336",
   "metadata": {},
   "source": [
    "This format uses the form of _format_string_.format(_data_). Within each string are one or more placeholder fields identified by curly braces `{}` that values will replace.\n",
    "\n",
    "By default, the {} are replaced by data by matching order of the arguments to data - the indexing starts at zero.  Addtionally, we can also specify name arguments to the placeholders."
   ]
  },
  {
   "cell_type": "code",
   "execution_count": null,
   "id": "53f7e9af",
   "metadata": {},
   "outputs": [],
   "source": [
    "print(\"{}\".format(\"Hello World!\"))\n",
    "print(\"It was the {} of {}.\".format(\"best\",\"times\"))\n",
    "print(\"It was the {1} of {0}.\".format(\"times\", \"worst\"))\n",
    "print(\"It was the {time} of {arg2}.\\nIt was the {time} of {arg3} ...\".format(time='age',arg2='wisdom',arg3=\"foolishness\"))"
   ]
  },
  {
   "cell_type": "markdown",
   "id": "b9e0609e",
   "metadata": {},
   "source": [
    "We can also utilize a dictionary of key value pairs.  The `0` in the code specifies the positional argument."
   ]
  },
  {
   "cell_type": "code",
   "execution_count": null,
   "id": "98eba045",
   "metadata": {},
   "outputs": [],
   "source": [
    "d  = {'time':'age', 'arg2':'wisdom', 'arg3':'foolishness'}\n",
    "print(\"It was the {0[time]} of {0[arg2]}.\\nIt was the {0[time]} of {0[arg3]} ...\".format(d))"
   ]
  },
  {
   "cell_type": "markdown",
   "id": "d9ae1453",
   "metadata": {},
   "source": [
    "To format the values placed into the strings, you will need to apply special formatting codes.  These codes follow this syntax: `{:[fill][alignment][sign][minwidth][.][maxchars]type}`\n",
    "    \n",
    "- An initial colon (':').\n",
    "- An optional fill character (default ' ') to pad the value string if it is shorter than minwidth.\n",
    "- An optional alignment character:\n",
    "  - '<' left (the default)\n",
    "  - '>' right\n",
    "  - '^' center\n",
    "- An optional sign for numbers. If `+` is specified, a plus symbol will be added to positive numbers.  Negative numbers always have a minus sign.\n",
    "- An optional minwidth. \n",
    "- An optional period ('.') to separate minwidth and maxchars if both values are defined.  If only one is defined, maxchars is assumed.\n",
    "- An optional maxchars.  If this is a float type, then this specifies the precision.\n",
    "- the type, which values are the same as the old style\n",
    "\n",
    "\n",
    "| Type | Description |\n",
    "|------|:-------|\n",
    "| s   | string |\n",
    "| d   | integer |\n",
    "| x   | hexadecimal integer |\n",
    "| o   | octal integer |\n",
    "| f   | float |\n",
    "| e   | float in exponential format |\n",
    "| g   | decimal or exponential float |\n"
   ]
  },
  {
   "cell_type": "code",
   "execution_count": null,
   "id": "62866a4b",
   "metadata": {},
   "outputs": [],
   "source": [
    "alphabet = \"abcdefghijklmnopqrstuvwxyz\"\n",
    "print(\"123456789012345678901234567890\")\n",
    "print(\"{}\".format(alphabet))\n",
    "print(\"{:s}\".format(alphabet))\n",
    "print(\"{:X<30s}\".format(alphabet))\n",
    "print(\"{:X>30s}\".format(alphabet))\n",
    "print(\"{:X^30s}\".format(alphabet))\n",
    "print(\"{:30.5s}\".format(alphabet))\n",
    "print(\"{:>30.5s}\".format(alphabet))"
   ]
  },
  {
   "cell_type": "code",
   "execution_count": null,
   "id": "bfd46c03",
   "metadata": {},
   "outputs": [],
   "source": [
    "year = 1892\n",
    "print(\"123456789012345678901234567890\")\n",
    "print(\"{:d}\".format(year))\n",
    "print(\"{:20d}\".format(year))\n",
    "print(\"{:+20d}\".format(year))\n",
    "print(\"{:0>20d}\".format(year))  # can't specify minwidth and max chars as we could in the old-style\n",
    "print(\"{:0^8d}\".format(year))\n",
    "print(\"{:^20d}\".format(year))\n",
    "print(\"{:x}\".format(year))\n",
    "print(\"{:o}\".format(year))"
   ]
  },
  {
   "cell_type": "code",
   "execution_count": null,
   "id": "dd441095",
   "metadata": {},
   "outputs": [],
   "source": [
    "gain = 64.98712\n",
    "print(\"123456789012345678901234567890\")\n",
    "print(\"{:f}\".format( gain))\n",
    "print(\"{:20f}\".format( gain))\n",
    "print(\"{:+20f}\".format( gain))\n",
    "print(\"{:020f}\".format( gain))\n",
    "print(\"{:20.8f}\".format( gain))\n",
    "print(\"{:20.2f}\".format( gain))\n",
    "print(\"{:<20.6f}\".format( gain))"
   ]
  },
  {
   "cell_type": "markdown",
   "id": "a08f2965",
   "metadata": {},
   "source": [
    "Notice in the above example, the default justification is left, unless minwidth or the precision is specified where the numbers become right justified.\n",
    "\n",
    "You can use variables in the formatting placeholder by surrounding them with `{}`.  See below where we have used w and d."
   ]
  },
  {
   "cell_type": "code",
   "execution_count": null,
   "id": "e305e744",
   "metadata": {},
   "outputs": [],
   "source": [
    "gain = 64.98712\n",
    "print(\"123456789012345678901234567890\")\n",
    "print(\"{:{w}.{d}f}\".format( gain, w=15,d=2))\n",
    "print(\"{:15.2f}\".format( gain))"
   ]
  },
  {
   "cell_type": "markdown",
   "id": "511526ad",
   "metadata": {},
   "source": [
    "## Exercises\n",
    "\n",
    "1. Develop a business format letter with the following specifications:\n",
    "   - It should be in a function `produce_letter` that takes any arguments needed to produce your letter.\n",
    "   - The function should return a formatted string.\n",
    "   - The string should be a multi-line string. \n",
    "   - You should perform at least 5 formatting substitutions.\n",
    "\n",
    "\n",
    "2. Write a script that defines a float variable and then prints out the number in the format of \\\\$\\*\\*\\*XX.XX, where the leading asterisks are used to make the length of the output 10 characters and the precision is two digits.\n",
    "\n",
    "\n",
    "3. Write a function with the following declaration - <code>def print_receipt(subtotal, tax_rate, tip_rate)</code><br>That prints the following:\n",
    "```\n",
    "    Subtotal: $     10.00\n",
    "         Tax: $      0.50\n",
    "         Tip: $      2.00\n",
    "               ==========\n",
    "       Total: $     12.50\n",
    "```\n",
    "with the call: `print_receipt(10.00, .05, .2)`\n",
    "<br>\n",
    "Use formatting for all of the numbers and equal signs."
   ]
  }
 ],
 "metadata": {
  "kernelspec": {
   "display_name": "Python 3 (ipykernel)",
   "language": "python",
   "name": "python3"
  },
  "language_info": {
   "codemirror_mode": {
    "name": "ipython",
    "version": 3
   },
   "file_extension": ".py",
   "mimetype": "text/x-python",
   "name": "python",
   "nbconvert_exporter": "python",
   "pygments_lexer": "ipython3",
   "version": "3.10.4"
  }
 },
 "nbformat": 4,
 "nbformat_minor": 5
}
