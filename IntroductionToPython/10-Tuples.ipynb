{
 "cells": [
  {
   "cell_type": "markdown",
   "id": "163d5de3",
   "metadata": {},
   "source": [
    "<div class=\"pagebreak\"></div>\n",
    "\n",
    "# Tuples\n",
    "Tuples are sequences of values just like a list - the most significant difference is that tuples are immutable while lists are mutable.  In other words, we cannot modify the sequence of values - any change creates a new tuple object.  \n",
    "\n",
    "Unlike lists, tuples are hashable, so we can use them as keys within a dictionary (to be covered in a later notebook).\n",
    "\n",
    "Tuple indexing, slicing, and comparison perform the same as they do for lists.\n",
    "\n",
    "To create a tuple, use a sequence of values separated by a comma. Although not necessary, the Python convention is to enclose tuples in parentheses to make the identification of tuples easier while reading code.\n",
    "\n",
    "Also, as you can see below, both the interpreter and `print()` output parenthesis when displaying tuples."
   ]
  },
  {
   "cell_type": "code",
   "execution_count": 1,
   "id": "b2591d9d",
   "metadata": {},
   "outputs": [
    {
     "data": {
      "text/plain": [
       "(1, 2, 3, 5, 7, 11, 13, 17, 19)"
      ]
     },
     "execution_count": 1,
     "metadata": {},
     "output_type": "execute_result"
    }
   ],
   "source": [
    "primes = 1,2,3,5,7,11,13,17,19   # not preferred, use paranthesis\n",
    "primes"
   ]
  },
  {
   "cell_type": "code",
   "execution_count": 2,
   "id": "75b7467a",
   "metadata": {},
   "outputs": [
    {
     "name": "stdout",
     "output_type": "stream",
     "text": [
      "('Duke', 'Notre Dame', 'UNC', 'NCSU', 'Wake Forest', 'Clemson')\n"
     ]
    }
   ],
   "source": [
    "acc_schools = (\"Duke\", \"Notre Dame\", \"UNC\", \"NCSU\", \"Wake Forest\", \"Clemson\")\n",
    "print(acc_schools)"
   ]
  },
  {
   "cell_type": "code",
   "execution_count": 3,
   "id": "566790a2",
   "metadata": {},
   "outputs": [
    {
     "name": "stdout",
     "output_type": "stream",
     "text": [
      "(1, 2, 3, 5, 7, 11, 13, 17, 19, 23)\n"
     ]
    }
   ],
   "source": [
    "primes = primes + tuple([23])\n",
    "print(primes)"
   ]
  },
  {
   "cell_type": "markdown",
   "id": "70fbe79d",
   "metadata": {},
   "source": [
    "A tuple can also be created using the built-in `tuple()` function. "
   ]
  },
  {
   "cell_type": "code",
   "execution_count": 4,
   "id": "37d87560",
   "metadata": {},
   "outputs": [
    {
     "data": {
      "text/plain": [
       "('Death', 'Destruction', 'Pestilence', 'Famine')"
      ]
     },
     "execution_count": 4,
     "metadata": {},
     "output_type": "execute_result"
    }
   ],
   "source": [
    "four_horseman = ['Death','Destruction','Pestilence','Famine']\n",
    "tuple(four_horseman)"
   ]
  },
  {
   "cell_type": "markdown",
   "id": "afdc4a1e",
   "metadata": {},
   "source": [
    "## Combining Tuples `+`"
   ]
  },
  {
   "cell_type": "markdown",
   "id": "63c8f24b",
   "metadata": {},
   "source": [
    "Just as we use `+` to concatenate strings and lists, we can also combine tuples with this operator"
   ]
  },
  {
   "cell_type": "code",
   "execution_count": 5,
   "id": "ad6d2bf2",
   "metadata": {},
   "outputs": [
    {
     "data": {
      "text/plain": [
       "('Death', 'Destruction', 'Pestilence', 'Famine')"
      ]
     },
     "execution_count": 5,
     "metadata": {},
     "output_type": "execute_result"
    }
   ],
   "source": [
    "('Death','Destruction','Pestilence') + ('Famine',)"
   ]
  },
  {
   "cell_type": "markdown",
   "id": "124d8e01",
   "metadata": {},
   "source": [
    "Notice that we had to use a comma `,` with nothing after it so that the Python interpreter parses the second expression as a tuple. See what happens without the comma -"
   ]
  },
  {
   "cell_type": "code",
   "execution_count": 6,
   "id": "8ec1efce",
   "metadata": {},
   "outputs": [
    {
     "ename": "TypeError",
     "evalue": "can only concatenate tuple (not \"str\") to tuple",
     "output_type": "error",
     "traceback": [
      "\u001b[0;31m---------------------------------------------------------------------------\u001b[0m",
      "\u001b[0;31mTypeError\u001b[0m                                 Traceback (most recent call last)",
      "Input \u001b[0;32mIn [6]\u001b[0m, in \u001b[0;36m<cell line: 1>\u001b[0;34m()\u001b[0m\n\u001b[0;32m----> 1\u001b[0m \u001b[43m(\u001b[49m\u001b[38;5;124;43m'\u001b[39;49m\u001b[38;5;124;43mDeath\u001b[39;49m\u001b[38;5;124;43m'\u001b[39;49m\u001b[43m,\u001b[49m\u001b[38;5;124;43m'\u001b[39;49m\u001b[38;5;124;43mDestruction\u001b[39;49m\u001b[38;5;124;43m'\u001b[39;49m\u001b[43m,\u001b[49m\u001b[38;5;124;43m'\u001b[39;49m\u001b[38;5;124;43mPestilence\u001b[39;49m\u001b[38;5;124;43m'\u001b[39;49m\u001b[43m)\u001b[49m\u001b[43m \u001b[49m\u001b[38;5;241;43m+\u001b[39;49m\u001b[43m \u001b[49m\u001b[43m(\u001b[49m\u001b[38;5;124;43m'\u001b[39;49m\u001b[38;5;124;43mFamine\u001b[39;49m\u001b[38;5;124;43m'\u001b[39;49m\u001b[43m)\u001b[49m\n",
      "\u001b[0;31mTypeError\u001b[0m: can only concatenate tuple (not \"str\") to tuple"
     ]
    }
   ],
   "source": [
    "('Death','Destruction','Pestilence') + ('Famine')         #Raises a TypeError"
   ]
  },
  {
   "cell_type": "markdown",
   "id": "53f96e26",
   "metadata": {},
   "source": [
    "As you can see, Python used the parenthesis to help determine the precedence order and considered the second expression a string."
   ]
  },
  {
   "cell_type": "markdown",
   "id": "c1b5c7bb",
   "metadata": {},
   "source": [
    "## Length\n",
    "We use the built-in function `len()` to count the number of items in the tuple."
   ]
  },
  {
   "cell_type": "code",
   "execution_count": 7,
   "id": "6927fb8e",
   "metadata": {},
   "outputs": [
    {
     "data": {
      "text/plain": [
       "10"
      ]
     },
     "execution_count": 7,
     "metadata": {},
     "output_type": "execute_result"
    }
   ],
   "source": [
    "len(primes)"
   ]
  },
  {
   "cell_type": "markdown",
   "id": "1f5a773d",
   "metadata": {},
   "source": [
    "The `tuple` class has far fewer methods than the `list` class - only `count()` and `index()`, which function similarly between the two types. Why do you think fewer methods exist for tuples?\n",
    "\n",
    "## Indexing"
   ]
  },
  {
   "cell_type": "code",
   "execution_count": null,
   "id": "7a0beadc",
   "metadata": {},
   "outputs": [],
   "source": [
    "print(acc_schools[4])\n",
    "acc_schools[4] = \"test\""
   ]
  },
  {
   "cell_type": "markdown",
   "id": "c6c34d40",
   "metadata": {},
   "source": [
    "## Tuple assignment\n",
    "\n",
    "Python allows multiple assignments to variables on the left side of an assignment statement. For example, using a tuple or list on the left-hand side of the assignment operator, you can assign more than one variable at a time. We saw this example earlier with the `divmod()` function that returns a tuple of the quotient and remainder."
   ]
  },
  {
   "cell_type": "code",
   "execution_count": 8,
   "id": "676c8c1b",
   "metadata": {},
   "outputs": [
    {
     "name": "stdout",
     "output_type": "stream",
     "text": [
      "quotient=3, remainder=1\n"
     ]
    }
   ],
   "source": [
    "quotient, remainder = divmod(10,3)         # paranthesis are optial for tuples.\n",
    "print(\"quotient={:d}, remainder={:d}\".format(quotient,remainder))"
   ]
  },
  {
   "cell_type": "markdown",
   "id": "efd8d190",
   "metadata": {},
   "source": [
    "Formally, this is called [parallel assignment](https://en.wikipedia.org/wiki/Assignment_(computer_science)#Parallel_assignment).  More commonly, this is known as tuple unpacking in Python.\n",
    "\n",
    "In addition to allowing multiple return variables from a function, a clever usage of tuple assignment is swapping the value of two variables simultaneously. Many other languages require a temporary variable."
   ]
  },
  {
   "cell_type": "code",
   "execution_count": 9,
   "id": "98fe5235",
   "metadata": {},
   "outputs": [
    {
     "name": "stdout",
     "output_type": "stream",
     "text": [
      "a=7, b=5\n",
      "a=5, b=7\n"
     ]
    }
   ],
   "source": [
    "a = 5\n",
    "b = 7\n",
    "a, b = b, a\n",
    "print(\"a={:d}, b={:d}\".format(a,b))\n",
    "\n",
    "# for other languages without parallel assignment\n",
    "swap = a\n",
    "a = b\n",
    "b = swap\n",
    "print(\"a={:d}, b={:d}\".format(a,b))\n"
   ]
  },
  {
   "cell_type": "markdown",
   "id": "11822ac8",
   "metadata": {},
   "source": [
    "Both sides of the assignment are tuples in `a, b = b, a`. The Python interpreter evaluates the expressions on the right-hand side of the assignment operator from left to right. Once the interpreter evaluates those expressions, the interpreter makes the assignments to the tuple of variables on the left-hand side. The length of both tuples must be equal.\n",
    "\n",
    "Technically, the right side can contain any sequence, even a string.\n",
    "\n",
    "For example, we can split an email address into two parts using the '@' symbol to split the string."
   ]
  },
  {
   "cell_type": "code",
   "execution_count": null,
   "id": "a6d57339",
   "metadata": {},
   "outputs": [],
   "source": [
    "email = \"administrator@thedomain.com\"\n",
    "(name, domain) = email.split('@')\n",
    "print(\"name={:s}, domain={:s}\".format(name,domain))"
   ]
  },
  {
   "cell_type": "markdown",
   "id": "9feb7589",
   "metadata": {},
   "source": [
    "## Sequences Redux \n",
    "So far, we have seen three types of sequences - strings, lists, and tuples. In some cases, it is possible to use the types interchangeably (albeit less so with strings than lists and tuples).\n",
    "\n",
    "So how do we choose when to use a particular sequence type?\n",
    "- Strings are the most limited as a sequence of characters and immutable.  If you are just representing text, they are the perfect choice.  However, if you need to change the characters in a string, then a list of characters might work.\n",
    "- Lists tend to be used more often than tuples as they are mutable.\n",
    "- It is generally simpler to create a tuple than a list in return statements.\n",
    "- If you need to use a sequence as a dictionary key, you have to use an immutable type (string, tuple)\n",
    "- If you pass arguments to a function, tuples can reduce the possibility of unwanted side effects as they are immutable. If the function changes the tuple (which creates a new tuple), the caller still references the original tuple when the function exits.\n"
   ]
  },
  {
   "cell_type": "markdown",
   "id": "063830d7",
   "metadata": {},
   "source": [
    "## Exercises\n",
    "1. Given the following tuple assigned to the variable `data` - ('AAPL', 157.96, 88_140_000). Assign the items to three variables(symbol, price, and volume) and print the values.\n",
    "\n",
    "2. Test if the stock symbol \"BAC\" is in the data tuple.\n",
    "\n",
    "3. Create a new tuple of the 3rd to 5th elements using the following tuple.<br>\n",
    "   ```\n",
    "   acc_schools = (\"Duke\", \"Notre Dame\", \"UNC\", \"NCSU\", \"Wake Forest\", \"Clemson\")\n",
    "   ```"
   ]
  },
  {
   "cell_type": "code",
   "execution_count": null,
   "id": "a9a82c62",
   "metadata": {},
   "outputs": [],
   "source": []
  }
 ],
 "metadata": {
  "kernelspec": {
   "display_name": "Python 3 (ipykernel)",
   "language": "python",
   "name": "python3"
  },
  "language_info": {
   "codemirror_mode": {
    "name": "ipython",
    "version": 3
   },
   "file_extension": ".py",
   "mimetype": "text/x-python",
   "name": "python",
   "nbconvert_exporter": "python",
   "pygments_lexer": "ipython3",
   "version": "3.10.4"
  }
 },
 "nbformat": 4,
 "nbformat_minor": 5
}
