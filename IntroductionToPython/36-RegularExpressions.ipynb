{
 "cells": [
  {
   "cell_type": "markdown",
   "id": "c8a9a53c",
   "metadata": {},
   "source": [
    "<div class=\"pagebreak\"></div>\n",
    "\n",
    "# Finite Automata and Regular Expressions\n",
    "\n",
    "In this notebook, we will look at two closely related concepts: finite automata and regular expressions.\n",
    "\n",
    "Finite automata (FA) are an abstract concept, but often have real-world counterparts. FA contain a number of states that a given system may have.  Among the different states exist transitions that allow the system to move from one state to another.\n",
    "\n",
    "One example is the traffic lights at a intersection. Below we have Main Street intersecting with First Avenue. Two sets of traffic lights - $L_A$ and $L_B$ exist.  Behind the scenes, four states exist for this \"system\".  $S_0$ allows traffic on First Avenue to have the right of way.  If a transition occurs - $\\overline{T_A}$ - either from a sensor or timer), then the system to move state $S_1$ where the light becomes yellow.  After a timer finishes, the system then moves to $S_2$."
   ]
  },
  {
   "cell_type": "markdown",
   "id": "df66c146",
   "metadata": {},
   "source": [
    "![](https://github.com/slankas/DataScienceNotebooks/blob/main/IntroductionToPython/images/TrafficLights.png?raw=true)"
   ]
  },
  {
   "cell_type": "markdown",
   "id": "d6233160",
   "metadata": {},
   "source": [
    "Formally, a finite automata is a 5-tuple $(S,\\Sigma,\\delta,s_0,A)$ where\n",
    "- $S$ is a finite set of states.  $s$ is a particular state. $s \\in S$\n",
    "- $\\Sigma$ is a finite set of symbols (i.e., the alphabet). $x$ is an input symbol.  $x \\in \\Sigma$\n",
    "- $\\delta$ : $ S \\times \\Sigma \\rightarrow S$ is the transition function. The inputs to this function are the current state $s$ and the current input symbol $x$, the result is the resulting state $s_n$.  \n",
    "- $s_0$ is the starting state for the finite automata.\n",
    "- $A$ is the set of accepting states for the automata.  If the automata is in one of these states after reading all of the input, then the automata outputs \"yes\" and accepts the input.  If the automata is not in one of these states after consuming the input, the output is \"no\" and the input is rejected.   $A \\subseteq S$"
   ]
  },
  {
   "cell_type": "markdown",
   "id": "87b15d3c",
   "metadata": {},
   "source": [
    "[`wc`](https://web.archive.org/web/20220609090706/https://ss64.com/bash/wc.html) is Linux/Unix command line program that can provide counts of the number of characters, words, and newlines within a file.\n",
    "\n",
    "One way that we can represent the logic within this program is through a finite automata.  In this scenario, we have two states - is the program currently processing a characters inside a word or outside (not in) a word. Three groups of characters exist: $C_N$ - a new line, $C_{notword}$ - a character that cannot form a word (e.g., space or tab), and $C_{word}$ - characters that can be part of a word. "
   ]
  },
  {
   "cell_type": "markdown",
   "id": "2ab48a5f",
   "metadata": {},
   "source": [
    "![](https://github.com/slankas/DataScienceNotebooks/blob/main/IntroductionToPython/images/wordcount.png?raw=true)"
   ]
  },
  {
   "cell_type": "markdown",
   "id": "0dee609f",
   "metadata": {},
   "source": [
    "If the system is in the \"not in a word\" state and sees\n",
    "- $C_N$: increment the character and new line counts, stay in \"not in a word\" state\n",
    "- $C_{notword}$: increment the character count,  stay in \"not in a word\" state\n",
    "- $C_{word}$: increments the character and word counts, move to the word state\n",
    "\n",
    "If the system is in the \"word\" state and sees\n",
    "- $C_N$: increment the character and new line counts, move to the \"not in a word\" state\n",
    "- $C_{notword}$: increment the character count,  move to \"not in a word\" state\n",
    "- $C_{word}$: increments the character count, stay in the word state"
   ]
  },
  {
   "cell_type": "markdown",
   "id": "5c6f4422",
   "metadata": {},
   "source": [
    "Other real world examples include vending machines (tracking coins received), elevators (current location, requested floors), and combination locks.\n",
    "\n",
    "We can also use FA to model web applications.  We can consider the current page of a web application to be a \"state\".  Transitions, then are the movements we take in moving from one page to another page.  As with the wc example, we can augment the transitions to perform different activities.\n",
    "\n",
    "Based upon the theoretical concepts of finite automata, we have [regular expressions](https://en.wikipedia.org/wiki/Regular_expression).  Through a powerful notational grammar, regular expressions can find simple and complex text patterns. We'll also see at the end of this notebook how we can go between finite automata and regular expressions."
   ]
  },
  {
   "cell_type": "markdown",
   "id": "31aa97af",
   "metadata": {},
   "source": [
    "In the Strings notebook, we learned how to to perform basic searches for text within Strings.\n",
    "\n",
    "For example -"
   ]
  },
  {
   "cell_type": "code",
   "execution_count": null,
   "id": "14d28ba2",
   "metadata": {},
   "outputs": [],
   "source": [
    "line = \"can we search for the specified value in the string?\"\n",
    "print(\"value\" in line)\n",
    "print(line.find(\"value\"))"
   ]
  },
  {
   "cell_type": "markdown",
   "id": "9a26e1ec",
   "metadata": {},
   "source": [
    "Quite often, though, we will want to search patterns of text rather than specific text strings.  These patterns include things like phone numbers, email addresses, URLs, and zip codes.  Suppose you were told to find all email address on a large number of web pages.  How could you perform the search?\n",
    "\n",
    "Regular expressions are sequences of character patterns matched against a string.  We can use regular expressions to test for the presence of a pattern, extract the matched text, or replace text with another pattern.\n",
    "Practically, we use regular expressions for several tasks:\n",
    "- Extracting data from unstructured text\n",
    "- Validating web forms and other sources of input data before processing\n",
    "- Searching for protected information such as social security numbers in documents.\n",
    "- Cleaning data\n",
    "- Syntax or other keyword highlighting\n",
    "\n",
    "Commonly, we refer to regular expressions as \"regexes\".  \n",
    "\n",
    "To use regular expressions with Python, import the `re` module"
   ]
  },
  {
   "cell_type": "code",
   "execution_count": null,
   "id": "5289f456",
   "metadata": {},
   "outputs": [],
   "source": [
    "import re"
   ]
  },
  {
   "cell_type": "markdown",
   "id": "e013d0de",
   "metadata": {},
   "source": [
    "As an initial example, we will repeat the previous search"
   ]
  },
  {
   "cell_type": "code",
   "execution_count": null,
   "id": "ae32baa1",
   "metadata": {},
   "outputs": [],
   "source": [
    "line = \"can we search for the specified value in the string?\"\n",
    "m = re.search('value',line)\n",
    "print(\"Type returned:\",type(m))\n",
    "print(\"Value matched:\",m.group())\n",
    "print(\"String tested:\",m.string)\n",
    "print(\"Regular Expression:\",m.re)\n",
    "print(\"Start position of the match:\",m.start())\n",
    "print(\"End position of the match:\",m.end())"
   ]
  },
  {
   "cell_type": "markdown",
   "id": "785227e7",
   "metadata": {},
   "source": [
    "As you can see in the example, the regular expression search returns more information than just a Boolean. The return type is a [Match](https://docs.python.org/3/library/re.html#match-objects) object.  `m.group()` provides the value that matched the regular expression.\n",
    "\n",
    "The basic approach regular expressions following search for a string:\n",
    "1. Take the first character of the regular expression (pattern).\n",
    "2. Starting scanning a string from the start to the end.  When the first character from the string matches, start consuming characters from both the string and the regular expression.\n",
    "3. If the pattern has been consumed (everything has matched between it and the portion of the string being evaluated), then a successful match has occurred and the Matched object is returned.\n",
    "4. If the pattern was not consumed, then the process is reset and the search continues after the next character from step #2.\n",
    "\n",
    "\n",
    "Without any special metacharacters, sequences of characters match just the sequence. For example \"abc\" matches any substring of \"abc\" in a string using the `re.search()` method. The example above uses this sequencing pattern. However, we will create much more complex patterns that can repeat characters, alternate characters, choose characters from sets of characters, and more.\n"
   ]
  },
  {
   "cell_type": "markdown",
   "id": "8374bf82",
   "metadata": {},
   "source": [
    "## Basic Methods\n",
    "Four primary methods exist for regular expressions: [more details](https://docs.python.org/3/library/re.html#functions)\n",
    "- `search()` returns the first match of a regular expression with a string.\n",
    "- `findall()` returns a list of all the substrings that matched the regular expression in order of their occurrence. \n",
    "- `split()` splits a string at points where the pattern occurs and returns a list of the resulting pieces\n",
    "- `sub()` replaces matched patterns with a replacement string.\n",
    "\n",
    "### search\n",
    "As previously shown, search returns the first match of a regular expression with a string."
   ]
  },
  {
   "cell_type": "code",
   "execution_count": null,
   "id": "256324a2",
   "metadata": {},
   "outputs": [],
   "source": [
    "line = \"It was the best of times, it was the worst of times, it was the age of wisdom\"\n",
    "m = re.search(\"was\",line)\n",
    "if m:\n",
    "    print(m.start(),m.group())"
   ]
  },
  {
   "cell_type": "markdown",
   "id": "9192211c",
   "metadata": {},
   "source": [
    "It is not possible to specify a starting index with `re.search()`.  We either need to alter the search string to remove the initial match or use alternative mechanism to find all of the matches."
   ]
  },
  {
   "cell_type": "markdown",
   "id": "25f94e37",
   "metadata": {},
   "source": [
    "### findall\n",
    "`findall()` returns a list of a substrings that matched the pattern within the string."
   ]
  },
  {
   "cell_type": "code",
   "execution_count": null,
   "id": "5119e6da",
   "metadata": {},
   "outputs": [],
   "source": [
    "result = re.findall(\"was\",line)\n",
    "print(type(result))\n",
    "print(result)"
   ]
  },
  {
   "cell_type": "markdown",
   "id": "9d355299",
   "metadata": {},
   "source": [
    "Unfortunately, the `findall()` method only returns a list of strings. If we need more details, Python offers a similar method, `finditer()` that returns the \"findall\" result as an iterable where each element is a `Match` object."
   ]
  },
  {
   "cell_type": "code",
   "execution_count": null,
   "id": "457334f8",
   "metadata": {},
   "outputs": [],
   "source": [
    "for m in re.finditer(\"was\",line):\n",
    "    print(m.start(), m.group())"
   ]
  },
  {
   "cell_type": "markdown",
   "id": "308118a5",
   "metadata": {},
   "source": [
    "### split\n",
    "`split()` allows us to split a string by a particular pattern.  Before in the `string.split()`, we could only split by another string. (Just pretend we have a more complex example.)\n"
   ]
  },
  {
   "cell_type": "code",
   "execution_count": null,
   "id": "2d234ca5",
   "metadata": {},
   "outputs": [],
   "source": [
    "result = re.split(\"was\",line)\n",
    "print(type(result))\n",
    "print(result)"
   ]
  },
  {
   "cell_type": "markdown",
   "id": "b96141d3",
   "metadata": {},
   "source": [
    "### sub\n",
    "`sub()` allows us to replace patterns with different values"
   ]
  },
  {
   "cell_type": "code",
   "execution_count": null,
   "id": "45352ea3",
   "metadata": {},
   "outputs": [],
   "source": [
    "result = re.sub(\"was\",\"is\",line)\n",
    "print(result)"
   ]
  },
  {
   "cell_type": "markdown",
   "id": "c7075796",
   "metadata": {},
   "source": [
    "## Patterns\n",
    "As alluded to in a prior code example, we intentionally used simple patterns to demonstrate the basic tasks (methods) that we can perform with regular expressions.  With that understanding, we will now start to tackle creating more complex patterns with regular expressions. In many ways, regular expressions are a language themselves, although not as powerful as Python or other general purpose programming languages.\n",
    "\n",
    "\n",
    "### Metacharacters\n",
    "Typically, regular expressions contain special characters that function as operators or other special instructions.\n",
    "\n",
    "|Metacharacter|Purpose|\n",
    "|:--------:|:------|\n",
    "|[ ] | Defines a custom character class |\n",
    "| { } | Used to define quantifiers for a range of a subpattern to repeat |\n",
    "| ( ) | Defines a grouping which allow us to extract multiple parts out of a string at once |\n",
    "| \\  | Used to escape metacharacters as well as to use pre-defined character classes |\n",
    "| *  | Matches zero or more occurrences of the previous character or grouping |\n",
    "| +  | Matches one or more occurrences of the previous character or grouping |\n",
    "| ?  | Matches zero or one occurrence of the previous character or grouping|\n",
    "| .  | Matches any character |\n",
    "| \\| | Or symbol |\n",
    "| ^  | Matches the start of the string |\n",
    "| $  | Matches the end of the string |\n",
    "\n",
    "As we go through the following sections, we see how these various metacharacters are applied in regular expressions."
   ]
  },
  {
   "cell_type": "markdown",
   "id": "fbe8be0d",
   "metadata": {},
   "source": [
    "### Predefined Character Classes\n",
    "Python defines a number of predefined character classes for our convenience.  Notice that for each of these groups, the \"not\" (inverse) class is also defined.\n",
    "\n",
    "| Character Class | Matches\n",
    "|:---------------:|:-------|\n",
    "|\\\\d| A single digit (e.g., 0-9) Includes Unicode Characters in the 'Number, Decimal Digit' Category)\n",
    "|\\\\D| A single character that is not a digit\n",
    "|\\\\w| Any word character (i.e., alphanumeric)\n",
    "|\\\\W| Any non-word (non-alphanumeric) character\n",
    "|\\\\s| Any whitespace character (space, tab, newline, etc.)\n",
    "|\\\\S| Any non-whitespace character.\n",
    "|\\\\b| A word word boundary (i.e., the start or end of a word).  \n",
    "|\\\\B| A non-word boundary"
   ]
  },
  {
   "cell_type": "code",
   "execution_count": null,
   "id": "0341e4ad",
   "metadata": {},
   "outputs": [],
   "source": [
    "# The special characters are the arabic representation for 9 and 2.  \n",
    "# The regular expression matches any sequence of continuous digits (one or more)\n",
    "m = re.search(\"\\d+\",\"Here are some non ASCII digits ٩٢.  Where they found?\")\n",
    "print(m)\n",
    "\n",
    "# This regular expression returns all continuous nondigit strings.\n",
    "print(re.findall(\"\\D+\",\"Here are some non ASCII digits ٩٢.  Where they found?\"))"
   ]
  },
  {
   "cell_type": "markdown",
   "id": "7c7d1474",
   "metadata": {},
   "source": [
    "As `\\b` is a [Python escape sequence](https://web.archive.org/web/20220407023205/https://linuxconfig.org/list-of-python-escape-sequence-characters-with-examples), we have to escape the backslash (`\\`) first or use a raw string. "
   ]
  },
  {
   "cell_type": "code",
   "execution_count": null,
   "id": "1db964fe",
   "metadata": {},
   "outputs": [],
   "source": [
    "#finds the string \"here\" where it is a complete word.\n",
    "print(re.findall(\"\\\\bhere\\\\b\",\"here are some non ASCII digits ٩٢.  Where they found? here they are there\"))\n",
    "\n",
    "# using the iteration and a raw string\n",
    "for m in re.finditer(r\"\\bhere\\b\",\"here are some non ASCII digits ٩٢.  Where they found? here they are there\"):\n",
    "    print(m.start(), m.group())"
   ]
  },
  {
   "cell_type": "markdown",
   "id": "b1adc6e0",
   "metadata": {},
   "source": [
    "### Custom Character Classes\n",
    "The metacharacters `[` and `]` allow use to define custom character classes, which are sets of characters to use in a pattern.  For example, `[aeiouy]` specifies the lowercase vowel characters."
   ]
  },
  {
   "cell_type": "code",
   "execution_count": null,
   "id": "5dd09cbf",
   "metadata": {},
   "outputs": [],
   "source": [
    "line = \"It was the best of times, it was the worst of times, it was the age of wisdom\"\n",
    "result = re.sub(\"[aeiouy]\",\"\",line)\n",
    "print(result)"
   ]
  },
  {
   "cell_type": "markdown",
   "id": "a7643ca5",
   "metadata": {},
   "source": [
    "Within `[]`, we can list characters individually or specify a range of characters by specifying the start character, a `-`, and then the end character. The range uses the ordering specified by the Unicode character set. You can specify multiple ranges.  The behavior is different than the basic pattern of just sequences - we are stating match any one of the characters in this set, not the sequence of those characters.\n",
    "\n",
    "Examples:\n",
    "- `[abc]` matches any of the characters a, b, or c.\n",
    "- `[a-z]` matches all lowercase ASCII letters\n",
    "- `[0-9]` matches all ASCII digits\n",
    "- `[0123456789]` also matches all ASCII digits (semantically equivalent to `[0-9]`)\n",
    "- `[a-zA-Z]` matches all ASCII letters"
   ]
  },
  {
   "cell_type": "code",
   "execution_count": null,
   "id": "c4ce0380",
   "metadata": {},
   "outputs": [],
   "source": [
    "for m in re.finditer(\"[a-zA-Z]\",\"T3w^#s\"):\n",
    "    print(m.start(), m.group())"
   ]
  },
  {
   "cell_type": "markdown",
   "id": "1d491991",
   "metadata": {},
   "source": [
    "With the exception of `\\`, `^`, and `]`, metacharacters are not active inside of custom character classes. I.e., you can include the other metacharacters without escaping them. `^` is only active if the first character."
   ]
  },
  {
   "cell_type": "code",
   "execution_count": null,
   "id": "311f7032",
   "metadata": {},
   "outputs": [],
   "source": [
    "# Demonstrates the need to escape \\ and ], but not the other metacharacters\n",
    "for m in re.finditer(\"[a-z$A-Z^[\\]]\",\"T[3w^#s$]\"):\n",
    "    print(m.start(), m.group())"
   ]
  },
  {
   "cell_type": "markdown",
   "id": "ce7010ed",
   "metadata": {},
   "source": [
    "You can also negate (complement) a character class by starting the regular expression with `^`.  For example, [^abc] matches any character except 'a', 'b', or 'c'.  If `^` is included in any other position than the first, then the symbol does not have any special meaning and just matches the character '^'."
   ]
  },
  {
   "cell_type": "code",
   "execution_count": null,
   "id": "e39298a1",
   "metadata": {},
   "outputs": [],
   "source": [
    "# Demonstrates negating/complementing the previous example\n",
    "for m in re.finditer(\"[^a-z$A-Z^[\\]]\",\"T[3w^#s$]\"):\n",
    "    print(m.start(), m.group())"
   ]
  },
  {
   "cell_type": "markdown",
   "id": "a69d0894",
   "metadata": {},
   "source": [
    "### Quantifiers\n",
    "Creating patterns one character at a time can quickly become cumbersome. Fortunately, with regular expressions, we multiple ways to specify how many times a character (or an expression) should repeat.\n",
    "\n",
    "The `*` quantifier specifies that the expression should repeat.  As an example, consider finding names within a string. One possibility would by to find an uppercase character followed by zero or more lower cases characters.  We can define that regular expression as `[A-Z][a-z]*`."
   ]
  },
  {
   "cell_type": "code",
   "execution_count": null,
   "id": "a84624f1",
   "metadata": {},
   "outputs": [],
   "source": [
    "for m in re.finditer(\"[A-Z][a-z]*\",\"Sally sells seashells at Sandy Beach. I like her inventory.\"):\n",
    "    print(m.start(), m.group())"
   ]
  },
  {
   "cell_type": "markdown",
   "id": "b4266057",
   "metadata": {},
   "source": [
    "By using the `+` operator, we specify that the character (or expression) repeats one or more times."
   ]
  },
  {
   "cell_type": "code",
   "execution_count": null,
   "id": "218b5c12",
   "metadata": {},
   "outputs": [],
   "source": [
    "for m in re.finditer(\"[A-Z][a-z]+\",\"Sally sells seashells at Sandy Beach. I like her inventory.\"):\n",
    "    print(m.start(), m.group())"
   ]
  },
  {
   "cell_type": "markdown",
   "id": "cfdad61a",
   "metadata": {},
   "source": [
    "The `?` operator specifies that the previous character (or expression) should have zero or one occurrences.\n",
    "\n",
    "In the following example, we make the uppercase letter optional, so this regular expression will find any words consisting of an optional uppercase ASCII letter followed by one ore more lowercase ASCII letters.\n"
   ]
  },
  {
   "cell_type": "code",
   "execution_count": null,
   "id": "903abb5a",
   "metadata": {},
   "outputs": [],
   "source": [
    "for m in re.finditer(\"[A-Z]?[a-z]+\",\"Sally sells seashells at Sandy Beach. I like her inventory.\"):\n",
    "    print(m.start(), m.group())"
   ]
  },
  {
   "cell_type": "markdown",
   "id": "a72d66ec",
   "metadata": {},
   "source": [
    "The `*` and `+` by default are greedy characters - they attempt to consume as many matching characters as possible.  You can add the `?` operator after them to match as few characters as possible."
   ]
  },
  {
   "cell_type": "code",
   "execution_count": null,
   "id": "9093e167",
   "metadata": {},
   "outputs": [],
   "source": [
    "for m in re.finditer(\"[A-Z][a-z]+?\",\"Sally sells seashells at Sandy Beach. I like her inventory.\"):\n",
    "    print(m.start(), m.group())"
   ]
  },
  {
   "cell_type": "markdown",
   "id": "6076aef4",
   "metadata": {},
   "source": [
    "With `{ }`, we can specify the number of times a character should repeat - either a fixed number or as a range from a minimum number of occurrences to a maximum number of occurrences.\n",
    "\n",
    "For example, to match US Zip Codes, use `[0-9]{5}`.  We'll also apply a word boundary to avoid partial word matches."
   ]
  },
  {
   "cell_type": "code",
   "execution_count": null,
   "id": "6c59086b",
   "metadata": {},
   "outputs": [],
   "source": [
    "for m in re.finditer(r\"\\b[0-9]{5}\\b\",\"1234 12345 123456\"):\n",
    "    print(m.start(), m.group())"
   ]
  },
  {
   "cell_type": "markdown",
   "id": "4bcb5c9f",
   "metadata": {},
   "source": [
    "To match patterns with a range length, we can use `{m, n}`.  For example, finding words between 4 and 6 characters in length (and, again, using the word boundary to avoid partial matches):"
   ]
  },
  {
   "cell_type": "code",
   "execution_count": null,
   "id": "f1fccf2e",
   "metadata": {},
   "outputs": [],
   "source": [
    "for m in re.finditer(r\"\\b\\w{4,6}\\b\",\"Sally sells seashells at Sandy Beach. I like her inventory.\"):\n",
    "    print(m.start(), m.group())"
   ]
  },
  {
   "cell_type": "markdown",
   "id": "ed992717",
   "metadata": {},
   "source": [
    "### Other pattens\n",
    "- `abc`  matches the literal value \"abc\"\n",
    "- `(expr)` matches the literal value within `expr`, but this also allows us to apply quantifiers to the expressions.  \n",
    "- `expr1|expr2` matches `expr1` or `expr2`\n",
    "- `^` matches the start of string\n",
    "- `$` matches the end of string"
   ]
  },
  {
   "cell_type": "code",
   "execution_count": null,
   "id": "2063122a",
   "metadata": {},
   "outputs": [],
   "source": [
    "# demonstrates sequencing.  any vowel followed by ll\n",
    "for m in re.finditer(\"[aeiouy]ll\",\"Sally sells seashells at Sandy Beach. I like her inventory.\"):\n",
    "    print(m.start(), m.group())\n"
   ]
  },
  {
   "cell_type": "code",
   "execution_count": null,
   "id": "714726be",
   "metadata": {},
   "outputs": [],
   "source": [
    "# find repeating patterns of \"ab\"\n",
    "for m in re.finditer(\"(ab)+\",\"Sally abababab abba aaabbbaaa aaaa bababab\"):\n",
    "    print(m.start(), m.group())\n"
   ]
  },
  {
   "cell_type": "code",
   "execution_count": null,
   "id": "b52b1694",
   "metadata": {},
   "outputs": [],
   "source": [
    "# test that a string is 6-10 characters in length and only consists of \"word\" characters\n",
    "test_strings = [\"hello\", \"python\", \"crumble\",\"superfragilistic\"]\n",
    "for word in test_strings:\n",
    "    m = re.search(\"^\\w{6,10}$\",word)\n",
    "    if m:\n",
    "        print(m.start(),m.group())\n",
    "    else:\n",
    "        print(\"No match:\",word)"
   ]
  },
  {
   "cell_type": "code",
   "execution_count": null,
   "id": "86c2055f",
   "metadata": {},
   "outputs": [],
   "source": [
    "colors=\"red|blue|green|yellow|white|black|purple\"\n",
    "for m in re.finditer(colors,\"The little red corvette drove fast down the black asphalt.\"):\n",
    "    print(m.start(), m.group())"
   ]
  },
  {
   "cell_type": "markdown",
   "id": "097bed04",
   "metadata": {},
   "source": [
    "## Flags\n",
    "You can specify several different [flags](https://docs.python.org/3/library/re.html#flags) to change how regular expressions function. \n",
    "\n",
    "Most notably, `re.ASCII` limits the predefined classes to ASCII characters only rather than the full set of Unicode characters.  `re.IGNORECASE` makes the regular expression pattern match case insensitive."
   ]
  },
  {
   "cell_type": "code",
   "execution_count": null,
   "id": "973db289",
   "metadata": {},
   "outputs": [],
   "source": [
    "colors=\"red|blue|green|yellow|white|black|purple\"\n",
    "for m in re.finditer(colors,\"The little RED corvette drove fast down the BlacK asphalt.\",flags=re.IGNORECASE):\n",
    "    print(m.start(), m.group())"
   ]
  },
  {
   "cell_type": "code",
   "execution_count": null,
   "id": "2d9c12ba",
   "metadata": {},
   "outputs": [],
   "source": [
    "# The special characters are the arabic representation for 9 and 2.  \n",
    "# The regular expression matches any sequence of continuous digits (one or more).\n",
    "# However, we are limiting the character set now to just ASCII\n",
    "m = re.search(\"\\d+\",\"Here are some non ASCII digits ٩٢.  Where they found?\",flags=re.ASCII)\n",
    "print(m)\n",
    "m = re.search(\"\\d+\",\"Here are some  ASCII digits 123.  Where they found?\",flags=re.ASCII)\n",
    "print(m)\n"
   ]
  },
  {
   "cell_type": "markdown",
   "id": "611a20d0",
   "metadata": {},
   "source": [
    "## Compiling\n",
    "Behind the scenes, Python compiles regular expressions and caches those results. However, by pre-compiling your regular expression, you minimize that overhead cost when the time comes to use the regular expression.  To compile a regular expression, use `re.compile()`.  You can then use use the same methods as before."
   ]
  },
  {
   "cell_type": "code",
   "execution_count": null,
   "id": "8bc16c6b",
   "metadata": {},
   "outputs": [],
   "source": [
    "pattern = re.compile(\"red|blue|green|yellow|white|black|purple\",flags=re.IGNORECASE)\n",
    "for m in pattern.finditer(\"The little RED corvette drove fast down the BlacK asphalt.\"):\n",
    "    print(m.start(), m.group())"
   ]
  },
  {
   "cell_type": "markdown",
   "id": "0d8b49a7",
   "metadata": {},
   "source": [
    "## Capturing Group Values\n",
    "In addition to group parts of regular expression, we can use groups to extract information from different portions of the matched string.\n",
    "Use the `group()` method, we can pass an argument to specify which group number to return.  Groups are numbered from left to right starting at 1.  Group `0` returns the entire match"
   ]
  },
  {
   "cell_type": "code",
   "execution_count": null,
   "id": "fe593550",
   "metadata": {},
   "outputs": [],
   "source": [
    "phone_pattern = re.compile(\"\\((\\d\\d\\d)\\)(\\d\\d\\d)-(\\d\\d\\d\\d)\")  # matches a US Phone number formatted (xxx)xxx-xxxx\n",
    "m = phone_pattern.search(\"My phone number is (919)867-5309 and my name is Jenny\")\n",
    "if m:\n",
    "    print(m.group())   # entire substring matched\n",
    "    print(m.group(1))  # area code\n",
    "    print(m.group(2))  # exchange\n",
    "    print(m.group(3))  # line number"
   ]
  },
  {
   "cell_type": "markdown",
   "id": "921bf203",
   "metadata": {},
   "source": [
    "For a more complicated regular expression, the following URL matches an email address:"
   ]
  },
  {
   "cell_type": "code",
   "execution_count": null,
   "id": "ce8587b9",
   "metadata": {},
   "outputs": [],
   "source": [
    "urlpattern=re.compile(\"([a-zA-Z0-9.!#$%&'*+/=?^_`{|}~-]+)@([a-zA-Z0-9]([a-zA-Z0-9-]{0,61}[a-zA-Z0-9])?(\\.[a-zA-Z0-9]([a-zA-Z0-9-]{0,61}[a-zA-Z0-9])?)*)\",flags=re.IGNORECASE)\n",
    "m = urlpattern.search(\"from: clark.kent@superheros.org <Clark Kent>\")\n",
    "if m:\n",
    "    print(m.group())   # entire substring matched\n",
    "    print(m.group(1))  # \"name\"\n",
    "    print(m.group(2))  # domain\n"
   ]
  },
  {
   "cell_type": "markdown",
   "id": "e51ae345",
   "metadata": {},
   "source": [
    "## Replacing substrings\n",
    "\n",
    "Earlier, we should an example of using a regular expression to perform matching and then replacing with a string.  Here's a similar example, but compiling the regular expression first."
   ]
  },
  {
   "cell_type": "code",
   "execution_count": null,
   "id": "64e5838f",
   "metadata": {},
   "outputs": [],
   "source": [
    "colors=\"red|blue|green|yellow|white|black|purple\"\n",
    "color_pattern = re.compile(colors)\n",
    "line = color_pattern.sub(\"some color\",\"The little red corvette drove fast down the black asphalt.\")\n",
    "print(line)"
   ]
  },
  {
   "cell_type": "markdown",
   "id": "6a312d45",
   "metadata": {},
   "source": [
    "By using groups, we can make more complex substitutions. With the replacement string, the Python interpreter processes any backslash escape sequences - this includes the standard escapes such as `\\t` and `n` for tab and newline. However, we can also create \"backreferences\" that corresponding to grouping that was match.  These references start with a a backslash `\\` and then the number of the corresponding group from the regular expression. In the following example, we block out a portion of the phone number"
   ]
  },
  {
   "cell_type": "code",
   "execution_count": null,
   "id": "e53d6619",
   "metadata": {},
   "outputs": [],
   "source": [
    "phone_pattern = re.compile(\"\\((\\d\\d\\d)\\)(\\d\\d\\d)-(\\d\\d\\d\\d)\")  # matches a US Phone number formatted (xxx)xxx-xxxx\n",
    "line = phone_pattern.sub(r\"(\\1)XXX-\\2\",\"My phone number is (919)867-5309 and my name is Jenny\")\n",
    "print(line)"
   ]
  },
  {
   "cell_type": "markdown",
   "id": "77bcb2f7",
   "metadata": {},
   "source": [
    "These notebooks make use of [markdown](https://www.markdownguide.org/) to provide formatting such as underlines, italics, tables, etc.  In markdown, using an underscore signifies to put a phrase in italics. This examples searches for such phrases (e.g., '\\_hello\\_') and converts the underscores to the html equivalent."
   ]
  },
  {
   "cell_type": "code",
   "execution_count": null,
   "id": "63e3d027",
   "metadata": {},
   "outputs": [],
   "source": [
    "p = re.compile('_(.*)_')\n",
    "p.sub(r'<i>\\1</i>','Tom Clancy\\'s book, _The Hunt for Red October_, launched a massive and lucarative career.')"
   ]
  },
  {
   "cell_type": "markdown",
   "id": "83198dd2",
   "metadata": {},
   "source": [
    "## Regular Expressions and Finite Automata\n",
    "As alluded at the start of this notebook, regular expressions and finite automata in most situations can handle equivalent patterns.  Some of the extended features in different regular expression versions go beyond what automata can necessarily process.\n",
    "\n",
    "The following automata simple matches the given letter `a`.  Assume any character that's not `a` goes immediately to an error state not shown on the diagram:\n",
    "\n",
    "![](https://github.com/slankas/DataScienceNotebooks/blob/main/IntroductionToPython/images/automata/a.png?raw=true)"
   ]
  },
  {
   "cell_type": "markdown",
   "id": "7cfbf9d6",
   "metadata": {},
   "source": [
    "With this notation, we start at state `0`. If an `a` is seen, we transition to state `1`. The double circle represents an acceptance state. If more than one `a` is seen, we transition to state `2` and remain there - no path exists to return back to an acceptance state.\n",
    "\n",
    "The follow finite automata represents the regular expression `abc`. \n",
    "\n",
    "![](https://github.com/slankas/DataScienceNotebooks/blob/main/IntroductionToPython/images/automata/abc.png?raw=true)"
   ]
  },
  {
   "cell_type": "markdown",
   "id": "fee686c3",
   "metadata": {},
   "source": [
    "As before, we start in state `0`.  If an `a` is seen, we transition to `3`.  Any other characters from the starting state cause the transition to state `4`, which functions as the error state and consumes all further input.  From state `3`, we transition to state `2` if we see a `b` and then from state `2` to state `1` (acceptance) if a `c` follows that `b`.  Any other characters or more input sends us into the error state (`4`).\n",
    "\n",
    "The next diagram represents the regular expression `a+`.  We have to see at least one `a`.  Any further `a` stay in the acceptance state.  Any characters not present send the system to an unrepresented error state."
   ]
  },
  {
   "cell_type": "markdown",
   "id": "c04cc471",
   "metadata": {},
   "source": [
    "![](https://github.com/slankas/DataScienceNotebooks/blob/main/IntroductionToPython/images/automata/aplus.png?raw=true)"
   ]
  },
  {
   "cell_type": "markdown",
   "id": "3b7b504a",
   "metadata": {},
   "source": [
    "In this final example, we show the finite automata for `(ab)*`.  As before, we start at state `0`.  However this state also functions as the acceptance state as we are looking for `ab` repeated zero or more times. From this state, `a` transitions to state `1`. Then from state `1`, `b` transitions back to state `0`. Any unexpected output sends the system to `2` which consumes all further input."
   ]
  },
  {
   "cell_type": "markdown",
   "id": "00a8b64c",
   "metadata": {},
   "source": [
    "![](https://github.com/slankas/DataScienceNotebooks/blob/main/IntroductionToPython/images/automata/abstar.png?raw=true)\n",
    "\n",
    "These examples were generated at\n",
    "https://ivanzuzak.info/noam/webapps/fsm_simulator/"
   ]
  },
  {
   "cell_type": "markdown",
   "id": "17f87055",
   "metadata": {},
   "source": [
    "## Resources\n",
    "A wealth of information exists for regular expressions as well as online tools to validate them.\n",
    "\n",
    "Python Documentation: \n",
    "- https://docs.python.org/3/library/re.html  \n",
    "- https://docs.python.org/3/howto/regex.html\n",
    "\n",
    "Several websites with tutorials, sample regular expressions, and online testers\n",
    "- https://regex101.com/\n",
    "- https://www.regextester.com/\n",
    "- https://www.regular-expressions.info/\n",
    "- https://www.freeformatter.com/regex-tester.html\n",
    "\n",
    "Books:\n",
    "- _Regular Expressions Cookbook_ by Jan Goyvaerts and Steven Levithan: [O'Reilly](https://learning.oreilly.com/library/view/regular-expressions-cookbook/9781449327453/) [Amazon](https://www.amazon.com/Regular-Expressions-Cookbook-Solutions-Programming/dp/1449319432)\n",
    "- _Introducing Regular Expressions_ by Michael Fitzgerald: [O'Reilly](https://learning.oreilly.com/library/view/introducing-regular-expressions/9781449338879/) [Amazon](https://www.amazon.com/Introducing-Regular-Expressions-Step-Step/dp/1449392687)"
   ]
  },
  {
   "cell_type": "markdown",
   "id": "592da1dc",
   "metadata": {},
   "source": [
    "## Exercises\n",
    "1. A typing mistakes of those who learned typing on actual typewriters is to use two spaces after a period. With modern, proportionally-spaced fonts, this spacing is no longer needed.  Write a function `eliminate_spaces(value)` that condenses any multiple spaces into a single space and then returns the resulting value. \"  test   \" returns \" test \".  \"Once   upon a    time\" returns \"Once upon a time\".  You must use a regular expression within the method.\n",
    "\n",
    "2. Write a function 'extract_urls(text)' that returns all URLs from the parameter. The urls should be in the format of `http[s]://value1.domain`.  The `value1` can repeat one or more times.  `domain` must be lowercase ASCII Letters (e.g., a-z) and have between 2 and 6 characters in length.  (Note: This last rule is just a convenience.  The complete list of top level domain names is available at http://www.iana.org/domains/root/db)\n",
    "\n",
    "3. Write a function `convert_date_format(text)` that converts a string (representing a date) in the format of \"yyyy-mm-dd\" to \"dd-mm-yyyy\".  You should use group to extract the values.\n",
    "\n",
    "4. Write a function `extract_ticker_symbols(text)` that returns a set of all ticker symbols from a string.  A ticker string must meet these conditions: 1) Be uppercase ASCII letter (A-Z).  2) Between 1 and 5 characters in length.  3) have a word boundary at the start and the end. \n",
    "\n",
    "5. Write a function `extract_adverbs(text)` that finds all words ending in \"ly\".  The return value should be a list of tuples.  Each tuple should have the start position, end position and the word  (in that order)."
   ]
  },
  {
   "cell_type": "code",
   "execution_count": null,
   "id": "2825365f",
   "metadata": {},
   "outputs": [],
   "source": []
  }
 ],
 "metadata": {
  "kernelspec": {
   "display_name": "Python 3 (ipykernel)",
   "language": "python",
   "name": "python3"
  },
  "language_info": {
   "codemirror_mode": {
    "name": "ipython",
    "version": 3
   },
   "file_extension": ".py",
   "mimetype": "text/x-python",
   "name": "python",
   "nbconvert_exporter": "python",
   "pygments_lexer": "ipython3",
   "version": "3.10.4"
  }
 },
 "nbformat": 4,
 "nbformat_minor": 5
}
