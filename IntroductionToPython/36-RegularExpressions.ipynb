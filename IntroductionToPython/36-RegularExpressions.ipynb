{
 "cells": [
  {
   "cell_type": "markdown",
   "id": "c8a9a53c",
   "metadata": {},
   "source": [
    "<div class=\"pagebreak\"></div>\n",
    "\n",
    "# Finite Automata and Regular Expressions\n",
    "\n",
    "In this notebook, we will look at two closely related concepts: finite automata and regular expressions.\n",
    "\n",
    "Finite automata (FA) are an abstract concept, but often have real-world counterparts. FA contain a number of states that a given system may have.  Between the different states exist transitions that allow the system to move from one system to another.\n",
    "\n",
    "One example is the traffic lights at a intersection. Below we have Main Street intersecting with First Avenue. There are two sets of traffic lights - $L_A$ and $L_B$.  Behind the scenes, four states exist.  $S_0$ allows traffic on First Avenue to have the right of way.  If a transition occurs - $\\overline{T_A}$ - either from a sensor or timer), then the system to move state $S_1$ where the light becomes yellow.  After a timer, the system then moves to $S_2$."
   ]
  },
  {
   "cell_type": "markdown",
   "id": "df66c146",
   "metadata": {},
   "source": [
    "![](images/TrafficLights.png)"
   ]
  },
  {
   "cell_type": "markdown",
   "id": "d6233160",
   "metadata": {},
   "source": [
    "Formally, a finite automata is a 5-tuple $(S,\\Sigma,\\delta,s_0,A)$ where\n",
    "- $S$ is a finite set of states.  $s$ is a particular state. $s \\in S$\n",
    "- $\\Sigma$ is a finite set of symbols (i.e., the alphabet). $x$ is an input symbol.  $x \\in \\Sigma$\n",
    "- $\\delta$ : $ S \\times \\Sigma \\rightarrow S$ is the transition function. The inputs to this function are the current state $s$ and the current input symbol $x$, the result is the resulting state $s_n$.  \n",
    "- $s_0$ is the starting state for the finite automata.\n",
    "- $A$ is the set of accepting states for the automata.  If the automata is in one of these states after reading all of the input, then the automata outputs \"yes\" and accepts the input.  If the automata is not in one of these states after consuming the input, the output is \"no\" and the input is rejected.   $A \\subseteq S$"
   ]
  },
  {
   "cell_type": "markdown",
   "id": "87b15d3c",
   "metadata": {},
   "source": [
    "[`wc`](https://web.archive.org/web/20220609090706/https://ss64.com/bash/wc.html) is Linux/Unix command line program that can provide counts of the number of characters, words, and newlines within a file.\n",
    "\n",
    "One way that we can represent the logic within this program is through a finite automata.  In this scenario, we have two states - is the program currently processing a characters inside a word or outside (not in) a word. Three groups of characters exist: $C_N$ - a new line, $C_{notword}$ - a character that cannot form a word (e.g., space or tab), and $C_{word}$ - characters that can be part of a word. "
   ]
  },
  {
   "cell_type": "markdown",
   "id": "2ab48a5f",
   "metadata": {},
   "source": [
    "![](images/wordcount.png)"
   ]
  },
  {
   "cell_type": "markdown",
   "id": "0dee609f",
   "metadata": {},
   "source": [
    "If the system is in the \"not in a word\" state and sees\n",
    "- $C_N$: increment the character and new line counts, stay in \"not in a word\" state\n",
    "- $C_{notword}$: increment the character count,  stay in \"not in a word\" state\n",
    "- $C_{word}$: increments the character and word counts, move to the word state\n",
    "\n",
    "If the system is in the \"word\" state and sees\n",
    "- $C_N$: increment the character and new line counts, move to the \"not in a word\" state\n",
    "- $C_{notword}$: increment the character count,  move to \"not in a word\" state\n",
    "- $C_{word}$: increments the character count, stay in the word state"
   ]
  },
  {
   "cell_type": "markdown",
   "id": "5c6f4422",
   "metadata": {},
   "source": [
    "Other real world examples include vending machines (tracking coins received), elevators (current location, requested floors), and combination locks.\n",
    "\n",
    "We can also use FA to model web applications.  We can consider the current page of a web application to be a \"state\".  Transitions, then are the movements we take in moving from one page to another page.  As with the wc example, we can augment the transitions to perform different activities.\n",
    "\n",
    "Based upon the theoretical concepts of finite automata, we have [regular expressions](https://en.wikipedia.org/wiki/Regular_expression).  Through a powerful notational grammar, regular expressions can find simple and complex text patterns. We'll also see at the end of this notebook how we can go between finite automata and regular expressions."
   ]
  },
  {
   "cell_type": "markdown",
   "id": "31aa97af",
   "metadata": {},
   "source": [
    "In the Strings notebook(TODO add reference), we learned how to to perform basic searches for text within Strings.\n",
    "\n",
    "For example"
   ]
  },
  {
   "cell_type": "code",
   "execution_count": 7,
   "id": "14d28ba2",
   "metadata": {},
   "outputs": [
    {
     "name": "stdout",
     "output_type": "stream",
     "text": [
      "True\n",
      "32\n"
     ]
    }
   ],
   "source": [
    "line = \"can we search for the specified value in the string?\"\n",
    "print(\"value\" in line)\n",
    "print(line.find(\"value\"))"
   ]
  },
  {
   "cell_type": "markdown",
   "id": "9a26e1ec",
   "metadata": {},
   "source": [
    "Quite often, though, we will want to search patterns of text rather than specific text strings.  These patterns include things like phone numbers, email addresses, URLs, and zip codes.  Suppose you were told to find all email address on a large number of web pages.  How could you perform the search?\n",
    "\n",
    "Regular expressions are sequences of character patterns matched against a string.  We can use regular expressions to test for the presence of a pattern, extract the matched text, or replace text with another pattern.\n",
    "Practically, we use regular expressions for several tasks:\n",
    "- Extracting data from unstructured text\n",
    "- Validating web forms and other sources of input data before processing\n",
    "- Searching for protected information such as social security numbers in documents.\n",
    "- Cleaning data\n",
    "\n",
    "Commonly, we'll refer to regular expressions as \"regexes\".  \n",
    "\n",
    "To use regular expressions with Python, import the `re` module"
   ]
  },
  {
   "cell_type": "code",
   "execution_count": 1,
   "id": "5289f456",
   "metadata": {},
   "outputs": [],
   "source": [
    "import re"
   ]
  },
  {
   "cell_type": "code",
   "execution_count": null,
   "id": "ae32baa1",
   "metadata": {},
   "outputs": [],
   "source": [
    "give an example with search."
   ]
  },
  {
   "cell_type": "markdown",
   "id": "785227e7",
   "metadata": {},
   "source": [
    "The basic approach regular expresssions have \n",
    "- the search proceeds through a string from the start to the end, stoppping at the first match\n",
    "- it then trys to match the pattern, consuming both characters from the string as as well items from the regex pattern.\n",
    "- if the pattern is successfully consumed (everything has matched), then the overall match has occurred and we can get the matched string from the process."
   ]
  },
  {
   "cell_type": "markdown",
   "id": "611a20d0",
   "metadata": {},
   "source": [
    "## Basic Functions\n",
    "\n",
    "### search\n",
    "\n",
    "### findall\n",
    "\n",
    "### split\n",
    "\n",
    "## Metacharacters, Character Classes, and Quantifiers\n",
    "\n",
    "### metacharacters\n",
    "\n",
    "### Predefined characters classes\n",
    "\n",
    "### custom Characters classes\n",
    "\n",
    "### quantifiers\n",
    "- *\n",
    "- +\n",
    "- ?\n",
    "- { }. \n",
    "\n",
    "## Flags\n",
    "\n",
    "## Replacing substrings\n",
    "\n",
    "## Capturing substrings in a match"
   ]
  },
  {
   "cell_type": "code",
   "execution_count": null,
   "id": "8bc16c6b",
   "metadata": {},
   "outputs": [],
   "source": []
  },
  {
   "cell_type": "code",
   "execution_count": null,
   "id": "753921e3",
   "metadata": {},
   "outputs": [],
   "source": []
  },
  {
   "cell_type": "markdown",
   "id": "17f87055",
   "metadata": {},
   "source": [
    "## Resources\n",
    "\n",
    "Python Docs: https://docs.python.org/3/library/re.html   https://docs.python.org/3/howto/regex.html\n",
    "\n",
    "\n",
    "https://regex101.com/\n",
    "\n",
    "https://www.regextester.com/\n",
    "\n",
    "https://www.regular-expressions.info/\n",
    "\n",
    "https://www.freeformatter.com/regex-tester.html\n",
    "\n",
    "\n",
    "good overview: https://geekflare.com/regular-expression-tester/\n",
    "\n",
    "short intro: https://learning.oreilly.com/library/view/an-introduction-to/9781492082569/\n",
    "\n",
    "Regular Expressions Cookbook: https://learning.oreilly.com/library/view/regular-expressions-cookbook/9781449327453/ch01.html\n",
    "Introducing Regulare Expressions: https://learning.oreilly.com/library/view/introducing-regular-expressions/9781449338879/index.html"
   ]
  },
  {
   "cell_type": "markdown",
   "id": "592da1dc",
   "metadata": {},
   "source": [
    "## Expressions"
   ]
  }
 ],
 "metadata": {
  "kernelspec": {
   "display_name": "Python 3 (ipykernel)",
   "language": "python",
   "name": "python3"
  },
  "language_info": {
   "codemirror_mode": {
    "name": "ipython",
    "version": 3
   },
   "file_extension": ".py",
   "mimetype": "text/x-python",
   "name": "python",
   "nbconvert_exporter": "python",
   "pygments_lexer": "ipython3",
   "version": "3.10.4"
  }
 },
 "nbformat": 4,
 "nbformat_minor": 5
}
