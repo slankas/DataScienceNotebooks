{
 "cells": [
  {
   "cell_type": "markdown",
   "id": "0939a46f",
   "metadata": {},
   "source": [
    "# JSON\n",
    "JavaScript Object Notation (JSON) has become one of the most widely used data interchange formats on the Internet data.  JSON is also the record format used by some popular database management systems (DBMS) such as [Elasticsearch](https://www.elastic.co/) and [MongoDB](https://www.mongodb.com).  Relational DBMSs such as PostgreSQL and Oracle DB also now offer JSON data type with support to query and index embedded fields.\n",
    "\n",
    "Informally, the home page for JSON on the internet is at [https://json.org](https://json.org).  The format has also been formalized as a [standard](https://datatracker.ietf.org/doc/html/rfc8259).\n",
    "\n",
    "JSON is text format, derived from object literals of JavaScript.  Fortunately for us, these literals are nearly identical to those used by Python.\n",
    "\n",
    "\n",
    "JSON contains four \"basic\" types (strings, numbers, Booleans, and null) and two structured types (objects \\[dictionaries\\] and arrays \\[lists\\]).  \n",
    "\n",
    "Strings follow the same definition as in Python - sequences of zero or more Unicode characters, except the literals use a double quote.  Booleans are identical, except `true` and `false` are not capitalized. Rather than using `None`, JSON uses `null`.\n",
    "\n",
    "The followig example demonstrates a possible phone book entry:\n",
    "<pre>\n",
    "{\n",
    "\t\"name\": \"Bruce Wayne\",\n",
    "\t\"address\": {\n",
    "\t\t\"street\": \"101 Wayne Manor Drive\",\n",
    "\t\t\"city\": \"Gotham\",\n",
    "\t\t\"state\": \"NJ\",\n",
    "\t\t\"zipCode\": \"12345-6789\"\n",
    "\t},\n",
    "\t\"occupation\": \"CEO\",\n",
    "\t\"alias\": \"Batman\",\n",
    "\t\"phone\": [\"212-234-5544\", \"212-456-8734\"]\n",
    "}\n",
    "</pre>\n",
    "\n",
    "Because of the relative similarity between JSON and Python's literals, parsing JSON is straight-forward within Python and creates the corresponding built-in objects as expected.  As part of its \"[batteries included](https://peps.python.org/pep-0206/)\" philosophy, Python has built-in support for JSON in its standard library within the [JSON](https://docs.python.org/3/library/json.html) module."
   ]
  },
  {
   "cell_type": "markdown",
   "id": "74fd837a",
   "metadata": {},
   "source": [
    "## Parsing JSON\n",
    "To parse a json string, use `json.loads()`"
   ]
  },
  {
   "cell_type": "code",
   "execution_count": null,
   "id": "c32ba8b9",
   "metadata": {},
   "outputs": [],
   "source": [
    "import json\n",
    "\n",
    "entry='''\n",
    "{\n",
    "\t\"name\": \"Bruce Wayne\",\n",
    "\t\"address\": {\n",
    "\t\t\"street\": \"101 Wayne Manor Drive\",\n",
    "\t\t\"city\": \"Gotham\",\n",
    "\t\t\"state\": \"NJ\",\n",
    "\t\t\"zipCode\": \"12345-6789\"\n",
    "\t},\n",
    "\t\"occupation\": \"CEO\",\n",
    "\t\"alias\": \"Batman\",\n",
    "\t\"phone\": [\"212-234-5544\", \"212-456-8734\"]\n",
    "}\n",
    "'''\n",
    "data = json.loads(entry)"
   ]
  },
  {
   "cell_type": "code",
   "execution_count": null,
   "id": "2c718a7f",
   "metadata": {},
   "outputs": [],
   "source": [
    "print(data)\n",
    "print(\"Name:\",data[\"name\"])\n",
    "print(\"First phone number:\",data[\"phone\"][0])"
   ]
  },
  {
   "cell_type": "markdown",
   "id": "b97d251d",
   "metadata": {},
   "source": [
    "## Serializing a Python Object to JSON\n",
    "To convert a python object to JSON, use `json.dumps()`"
   ]
  },
  {
   "cell_type": "code",
   "execution_count": null,
   "id": "96829483",
   "metadata": {},
   "outputs": [],
   "source": [
    "output = json.dumps(data)"
   ]
  },
  {
   "cell_type": "markdown",
   "id": "eeffec60",
   "metadata": {},
   "source": [
    "You can also pretty-print the output:"
   ]
  },
  {
   "cell_type": "code",
   "execution_count": null,
   "id": "c80498de",
   "metadata": {},
   "outputs": [],
   "source": [
    "print(json.dumps(data, sort_keys=True, indent=4))"
   ]
  },
  {
   "cell_type": "markdown",
   "id": "4e94f2df",
   "metadata": {},
   "source": [
    "## JSON and Files\n",
    "To read and write from files, the json module has the functions `load()` and `dump()`.  Refer to the [documentation]((https://docs.python.org/3/library/json.html) or use the online help for more information"
   ]
  },
  {
   "cell_type": "code",
   "execution_count": null,
   "id": "5e2219c7",
   "metadata": {},
   "outputs": [],
   "source": [
    "help(json.load)"
   ]
  },
  {
   "cell_type": "markdown",
   "id": "769d8a11",
   "metadata": {},
   "source": [
    "Note: [https://jsonlint.com](https://jsonlint.com) provides a nice interface to validate JSON."
   ]
  },
  {
   "cell_type": "code",
   "execution_count": null,
   "id": "0979ea1b",
   "metadata": {},
   "outputs": [],
   "source": [
    "## Case Study: Stock Quotes, REST, and JSON\n",
    "\n",
    "\n",
    "\n"
   ]
  },
  {
   "cell_type": "code",
   "execution_count": null,
   "id": "6244b20b",
   "metadata": {},
   "outputs": [],
   "source": [
    "import json\n",
    "from urllib.request import urlopen\n",
    "    \n",
    "stockSymbol = \"GOOGL\"\n",
    "url = \"https://query1.finance.yahoo.com/v7/finance/quote?symbols={}\".format(stockSymbol)\n",
    "try:\n",
    "    response = urlopen(url)\n",
    "    contents = response.read()\n",
    "    data = json.loads(contents)\n",
    "\n",
    "    print(\"{:s} current market price: ${:0.2f}\".format(data[\"quoteResponse\"][\"result\"][0][\"symbol\"],\n",
    "                                                       data[\"quoteResponse\"][\"result\"][0][\"regularMarketPrice\"]))\n",
    "except BaseException as err:\n",
    "    print(\"Unexpected {}, {}\".format(err,type(err)))\n",
    "\n"
   ]
  },
  {
   "cell_type": "code",
   "execution_count": null,
   "id": "91ece8fa",
   "metadata": {},
   "outputs": [],
   "source": [
    "https://github.com/ranaroussi/yfinance\n",
    "    \n",
    "\n",
    "https://www.yahoofinanceapi.com/\n",
    "In looking at the whois data for this, the site is registered through a russian DNS regsistrar.\n",
    "\n",
    "yfapi.net - aws "
   ]
  },
  {
   "cell_type": "markdown",
   "id": "1a636b7d",
   "metadata": {},
   "source": [
    "## Exercises\n"
   ]
  },
  {
   "cell_type": "code",
   "execution_count": null,
   "id": "eb506245",
   "metadata": {},
   "outputs": [],
   "source": []
  }
 ],
 "metadata": {
  "kernelspec": {
   "display_name": "Python 3 (ipykernel)",
   "language": "python",
   "name": "python3"
  },
  "language_info": {
   "codemirror_mode": {
    "name": "ipython",
    "version": 3
   },
   "file_extension": ".py",
   "mimetype": "text/x-python",
   "name": "python",
   "nbconvert_exporter": "python",
   "pygments_lexer": "ipython3",
   "version": "3.8.10"
  }
 },
 "nbformat": 4,
 "nbformat_minor": 5
}
