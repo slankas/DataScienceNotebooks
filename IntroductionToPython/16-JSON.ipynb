{
 "cells": [
  {
   "cell_type": "markdown",
   "id": "0939a46f",
   "metadata": {},
   "source": [
    "<div class=\"pagebreak\"></div>\n",
    "\n",
    "# JSON\n",
    "JavaScript Object Notation (JSON) has become one of the Internet's most widely used data interchange formats. JSON is also the record format used by popular database management systems (DBMS) such as [Elasticsearch](https://www.elastic.co/) and [MongoDB](https://www.mongodb.com).  In addition, relational DBMSs such as PostgreSQL and Oracle DB now offer a JSON data type with support to query and index embedded fields.\n",
    "\n",
    "Informally, the home page for JSON on the Internet is at [https://json.org](https://json.org).  The Internet Engineering Task Force has also formalized JSON as a [standard](https://datatracker.ietf.org/doc/html/rfc8259).\n",
    "\n",
    "JSON is a text-based format derived from object literals of JavaScript.  Fortunately, these literals are nearly identical to those used by Python.\n",
    "\n",
    "\n",
    "JSON contains four \"basic\" types (strings, numbers, Booleans, and null) and two structured types (objects \\[dictionaries\\] and arrays \\[lists\\]).  \n",
    "\n",
    "Strings follow the same definition as in Python - sequences of zero or more Unicode characters, except the literals use a double quote.  Booleans are identical, except `true` and `false` are not capitalized. Rather than using `None`, JSON uses `null`.\n",
    "\n",
    "The following example demonstrates a possible phone book entry:\n",
    "<pre>\n",
    "{\n",
    "\t\"name\": \"Bruce Wayne\",\n",
    "\t\"address\": {\n",
    "\t\t\"street\": \"101 Wayne Manor Drive\",\n",
    "\t\t\"city\": \"Gotham\",\n",
    "\t\t\"state\": \"NJ\",\n",
    "\t\t\"zipCode\": \"12345-6789\"\n",
    "\t},\n",
    "\t\"occupation\": \"CEO\",\n",
    "\t\"alias\": \"Batman\",\n",
    "\t\"phone\": [\"212-234-5544\", \"212-456-8734\"]\n",
    "}\n",
    "</pre>\n",
    "\n",
    "Because of the relative similarity between JSON and Python's literals, parsing JSON is straightforward within Python and creates the corresponding built-in objects as expected.  As part of its \"[batteries included](https://peps.python.org/pep-0206/)\" philosophy, Python has built-in support for JSON in its standard library within the [JSON](https://docs.python.org/3/library/json.html) module."
   ]
  },
  {
   "cell_type": "markdown",
   "id": "74fd837a",
   "metadata": {},
   "source": [
    "## Parsing JSON\n",
    "To parse a json string, use `json.loads()`"
   ]
  },
  {
   "cell_type": "code",
   "execution_count": 1,
   "id": "c32ba8b9",
   "metadata": {},
   "outputs": [],
   "source": [
    "import json\n",
    "\n",
    "entry='''\n",
    "{\n",
    "    \"name\": \"Bruce Wayne\",\n",
    "    \"address\": {\n",
    "        \"street\": \"101 Wayne Manor Drive\",\n",
    "        \"city\": \"Gotham\",\n",
    "        \"state\": \"NJ\",\n",
    "        \"zipCode\": \"12345-6789\"\n",
    "    },\n",
    "\t\"occupation\": \"CEO\",\n",
    "\t\"alias\": \"Batman\",\n",
    "\t\"phone\": [\"212-234-5544\", \"212-456-8734\"]\n",
    "}\n",
    "'''\n",
    "data = json.loads(entry)"
   ]
  },
  {
   "cell_type": "code",
   "execution_count": 2,
   "id": "2c718a7f",
   "metadata": {},
   "outputs": [
    {
     "name": "stdout",
     "output_type": "stream",
     "text": [
      "{'name': 'Bruce Wayne', 'address': {'street': '101 Wayne Manor Drive', 'city': 'Gotham', 'state': 'NJ', 'zipCode': '12345-6789'}, 'occupation': 'CEO', 'alias': 'Batman', 'phone': ['212-234-5544', '212-456-8734']}\n",
      "Name: Bruce Wayne\n",
      "First phone number: 212-234-5544\n"
     ]
    }
   ],
   "source": [
    "print(data)\n",
    "print(\"Name:\",data[\"name\"])\n",
    "print(\"First phone number:\",data[\"phone\"][0])"
   ]
  },
  {
   "cell_type": "markdown",
   "id": "b97d251d",
   "metadata": {},
   "source": [
    "## Serializing a Python Object to JSON\n",
    "To convert a python object to JSON, use `json.dumps()`"
   ]
  },
  {
   "cell_type": "code",
   "execution_count": 4,
   "id": "96829483",
   "metadata": {},
   "outputs": [
    {
     "name": "stdout",
     "output_type": "stream",
     "text": [
      "{\"name\": \"Bruce Wayne\", \"address\": {\"street\": \"101 Wayne Manor Drive\", \"city\": \"Gotham\", \"state\": \"NJ\", \"zipCode\": \"12345-6789\"}, \"occupation\": \"CEO\", \"alias\": \"Batman\", \"phone\": [\"212-234-5544\", \"212-456-8734\"]}\n"
     ]
    }
   ],
   "source": [
    "output = json.dumps(data)\n",
    "print(output)"
   ]
  },
  {
   "cell_type": "markdown",
   "id": "eeffec60",
   "metadata": {},
   "source": [
    "You can also pretty-print the output:"
   ]
  },
  {
   "cell_type": "code",
   "execution_count": 5,
   "id": "c80498de",
   "metadata": {},
   "outputs": [
    {
     "name": "stdout",
     "output_type": "stream",
     "text": [
      "{\n",
      "    \"address\": {\n",
      "        \"city\": \"Gotham\",\n",
      "        \"state\": \"NJ\",\n",
      "        \"street\": \"101 Wayne Manor Drive\",\n",
      "        \"zipCode\": \"12345-6789\"\n",
      "    },\n",
      "    \"alias\": \"Batman\",\n",
      "    \"name\": \"Bruce Wayne\",\n",
      "    \"occupation\": \"CEO\",\n",
      "    \"phone\": [\n",
      "        \"212-234-5544\",\n",
      "        \"212-456-8734\"\n",
      "    ]\n",
      "}\n"
     ]
    }
   ],
   "source": [
    "print(json.dumps(data, sort_keys=True, indent=4))"
   ]
  },
  {
   "cell_type": "markdown",
   "id": "4e94f2df",
   "metadata": {},
   "source": [
    "## JSON and Files\n",
    "To read and write JSON from/to files, the [json](https://docs.python.org/3/library/json.html) module has the functions `load()` and `dump()`.  Refer to the [documentation](https://docs.python.org/3/library/json.html) or use the online help for more information"
   ]
  },
  {
   "cell_type": "code",
   "execution_count": null,
   "id": "5e2219c7",
   "metadata": {},
   "outputs": [],
   "source": [
    "help(json.load)"
   ]
  },
  {
   "cell_type": "markdown",
   "id": "769d8a11",
   "metadata": {},
   "source": [
    "Note: [https://jsonlint.com](https://jsonlint.com) provides an excellent  interface to validate JSON."
   ]
  },
  {
   "cell_type": "markdown",
   "id": "43e8d9d5",
   "metadata": {},
   "source": [
    "## Case Study: Stock Quotes, REST, and JSON\n",
    "Yahoo Finance has long published a series of APIs that allow developers and other systems to access stock market data. At one point, Yahoo sold subscription access to these APIs. However, they have since shut down their service, but their APIs are still directly accessible. While a service still appears available from Yahoo, a Russian company actually provides that service. The DNS registration records demonstrate this. You can run `whois yahoofinanceapi.com` from a terminal window (shel session) to see the details.  \n",
    "\n",
    "While the following is not legal advice, currently, in the United States, it is permissible to access publicly available websites to scrape data, provided no authorization is required. https://en.wikipedia.org/wiki/HiQ_Labs_v._LinkedIn\n",
    "\n",
    "The following code block demonstrates accessing the Yahoo Finance API to retrieve a stock quote. After displaying the price and market time in [ISO-8601 format](https://en.wikipedia.org/wiki/ISO_8601), the code block prints the complete JSON response."
   ]
  },
  {
   "cell_type": "code",
   "execution_count": null,
   "id": "6244b20b",
   "metadata": {},
   "outputs": [],
   "source": [
    "import json\n",
    "import datetime\n",
    "from urllib.request import urlopen\n",
    "    \n",
    "stockSymbol = \"BAC\"\n",
    "url = \"https://query1.finance.yahoo.com/v7/finance/quote?symbols={}\".format(stockSymbol)\n",
    "try:\n",
    "    response = urlopen(url)\n",
    "    contents = response.read()\n",
    "    data = json.loads(contents)\n",
    "    \n",
    "    dt = datetime.datetime.utcfromtimestamp(data[\"quoteResponse\"][\"result\"][0][\"regularMarketTime\"])\n",
    "\n",
    "    print(\"{:s} latest market price: ${:0.2f} at {:s}\".format(data[\"quoteResponse\"][\"result\"][0][\"symbol\"],\n",
    "                                                       data[\"quoteResponse\"][\"result\"][0][\"regularMarketPrice\"],\n",
    "                                                       dt.isoformat()))\n",
    "    \n",
    "    print(json.dumps(data, sort_keys=True, indent=4))\n",
    "except BaseException as err:\n",
    "    print(\"Unexpected {}, {}\".format(err,type(err)))\n",
    "\n"
   ]
  },
  {
   "cell_type": "markdown",
   "id": "e5971188",
   "metadata": {},
   "source": [
    "Several developers have also written APIs to access stock market data from Yahoo.  These APIs provide a more abstract view of the data:\n",
    "- https://github.com/ranaroussi/yfinance\n",
    "- https://github.com/dpguthrie/yahooquery\n",
    "    \n",
    "Several alternative API providers exist for market data as well: \n",
    "- https://www.alphavantage.co/\n",
    "- https://polygon.io/\n",
    "- https://finnhub.io/pricing\n",
    "- and more ...\n",
    "\n",
    "Developers will regularly encounter this type of a task - researching how best to access specific data. Many trade-offs and risks exist."
   ]
  },
  {
   "cell_type": "markdown",
   "id": "1a636b7d",
   "metadata": {},
   "source": [
    "## Exercise\n",
    "1. Flatten the contents of the following list into a file. The file's first row should be the column headers separated by tabs. Each row is a record. Separate fields by tabs; separate records by newlines. Assume each record has the same format. The order of columns does not matter. For nested fields, you prefix the column name with the parent field name (e.g., zipCode is address.zipCode) in the column header.\n",
    "<pre>\n",
    "entries='''\n",
    "[\n",
    "{\n",
    "    \"name\": \"Bruce Wayne\",\n",
    "    \"address\": {\n",
    "        \"street\": \"101 Wayne Manor Drive\",\n",
    "        \"city\": \"Gotham\",\n",
    "        \"state\": \"NJ\",\n",
    "        \"zipCode\": \"12345-6789\"\n",
    "    },\n",
    "\t\"occupation\": \"CEO\",\n",
    "\t\"alias\": \"Batman\",\n",
    "\t\"phone\": \"212-234-5544\"\n",
    "},\n",
    "{\n",
    "    \"name\": \"Clark Kent\",\n",
    "    \"address\": {\n",
    "        \"street\": \"154 5th Avenue\",\n",
    "        \"city\": \"New York City\",\n",
    "        \"state\": \"NY\",\n",
    "        \"zipCode\": \"1221-6789\"\n",
    "    },\n",
    "\t\"occupation\": \"Reporter\",\n",
    "\t\"alias\": \"Superman\",\n",
    "\t\"phone\": \"212-359-4444\"\n",
    "}\n",
    "]\n",
    "'''\n",
    "</pre>\n",
    "Expected output:\n",
    "<pre>\n",
    "name\\taddress.street\\taddress.city\\taddress.state\\taddress.zipCode\\toccupation\\talias\\tphone\n",
    "Bruce Wayne\\t101 Wayne Manor Drive\\tGotham\\tNJ\\t12345-6789\\tCEO\\tBatman\\t212-234-5544\n",
    "Clark Kent\\t154 5th Avenue\\tNew York City\\tNY\\t1221-6789\\tReporter\\tSuperman\\t212-359-4444\n",
    "</pre>\n",
    "Hints:\n",
    "You must recursively traverse the JSON structure (the dictionary with Python) to figure out the columns.\n",
    "Then using those columns, recursive access data elements.  You can test for types with <code>type(<i>var_name</i>) is <i>type_name</i></code>."
   ]
  },
  {
   "cell_type": "code",
   "execution_count": null,
   "id": "f7fc3833",
   "metadata": {},
   "outputs": [],
   "source": []
  }
 ],
 "metadata": {
  "kernelspec": {
   "display_name": "Python 3 (ipykernel)",
   "language": "python",
   "name": "python3"
  },
  "language_info": {
   "codemirror_mode": {
    "name": "ipython",
    "version": 3
   },
   "file_extension": ".py",
   "mimetype": "text/x-python",
   "name": "python",
   "nbconvert_exporter": "python",
   "pygments_lexer": "ipython3",
   "version": "3.10.4"
  }
 },
 "nbformat": 4,
 "nbformat_minor": 5
}
