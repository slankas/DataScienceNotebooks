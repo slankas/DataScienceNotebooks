{
 "cells": [
  {
   "cell_type": "markdown",
   "id": "c2baf029",
   "metadata": {},
   "source": [
    "<div class=\"pagebreak\"></div>\n",
    "\n",
    "# Comprehensions\n",
    "\n",
    "Python has a bit of [syntactic sugar](https://en.wikipedia.org/wiki/Syntactic_sugar) to help create lists, sets, and dictionaries.\n",
    "\n",
    "While technically not needed, comprehensions allow to create lists from other sequences in a clean and concise manner."
   ]
  },
  {
   "cell_type": "markdown",
   "id": "a02431bd",
   "metadata": {},
   "source": [
    "## List Comprehension\n",
    "The typical example to show list comprehensions is first build a list utilizing a for-loop.  For example, is we want to produce a list from 1 to 10, we can use the following code:"
   ]
  },
  {
   "cell_type": "code",
   "execution_count": null,
   "id": "fbccb5c8",
   "metadata": {},
   "outputs": [],
   "source": [
    "numbers = []\n",
    "for x in range(1,11):\n",
    "    numbers.append(x)\n",
    "print(numbers)"
   ]
  },
  {
   "cell_type": "markdown",
   "id": "33377d96",
   "metadata": {},
   "source": [
    "With list comprehensions, we can concisely put this into a single line of code:"
   ]
  },
  {
   "cell_type": "code",
   "execution_count": null,
   "id": "88c443bd",
   "metadata": {},
   "outputs": [],
   "source": [
    "numbers = [ number for number in range(1,11)]\n",
    "print(numbers)"
   ]
  },
  {
   "cell_type": "markdown",
   "id": "44eafa26",
   "metadata": {},
   "source": [
    "List comprehensions follow this initial pattern:\n",
    "<pre>\n",
    "[<i>expression</i> for <i>item</i> in <i>iterable</i>]\n",
    "</pre>\n",
    "which is equivalent to following for loop\n",
    "<pre>\n",
    "values = []\n",
    "for <i>item</i> in <i>iterable</i>:\n",
    "    values.append(<i>expression</i>)\n",
    "</pre>\n",
    "With comprehensions, we can also provide filtering capability by adding a condition to the comprehension.  These list comprehensions will have this pattern:\n",
    "<pre>\n",
    "[<i>expression</i> for <i>item</i> in <i>iterable</i> if <i>condition</i>]\n",
    "</pre>\n",
    "For example, if we only wanted the square of even numbers between 1 and 10:"
   ]
  },
  {
   "cell_type": "code",
   "execution_count": null,
   "id": "66717eb0",
   "metadata": {},
   "outputs": [],
   "source": [
    "numbers = [ number**2 for number in range(1,11) if number % 2 == 0]\n",
    "print(numbers)"
   ]
  },
  {
   "cell_type": "markdown",
   "id": "5f9eda0a",
   "metadata": {},
   "source": [
    "The corresponding for loop for the filter would have this format:\n",
    "<pre>\n",
    "values = []\n",
    "for <i>item</i> in <i>iterable</i>:\n",
    "    if <i>condition</i>:\n",
    "        values.append(<i>expression</i>)\n",
    "</pre>"
   ]
  },
  {
   "cell_type": "code",
   "execution_count": null,
   "id": "cf6518b5",
   "metadata": {},
   "outputs": [],
   "source": [
    "values = []\n",
    "for x in range(1,11):\n",
    "    if x % 2 == 0:\n",
    "        values.append(x**2)\n",
    "print(values)"
   ]
  },
  {
   "cell_type": "markdown",
   "id": "5dd1e937",
   "metadata": {},
   "source": [
    "You can also create lists of lists by using a list comprehension as the _expression_. This is called nested comprehensions."
   ]
  },
  {
   "cell_type": "code",
   "execution_count": null,
   "id": "fa186ea4",
   "metadata": {},
   "outputs": [],
   "source": [
    "[[ number * y for number in range(0,9)] for y in range(1,4)]"
   ]
  },
  {
   "cell_type": "markdown",
   "id": "ce4c8ab4",
   "metadata": {},
   "source": [
    "## Set Comprehensions\n",
    "Set comprehensions function in the same manner as list comprehension, except that we use curly brackets at the start and the end.\n",
    "\n",
    "The two formats are - \n",
    "<pre>\n",
    "{<i>expression</i> for <i>item</i> in <i>iterable</i>}\n",
    "{<i>expression</i> for <i>item</i> in <i>iterable</i> if <i>condition</i>}\n",
    "</pre>"
   ]
  },
  {
   "cell_type": "code",
   "execution_count": null,
   "id": "ad9085e7",
   "metadata": {},
   "outputs": [],
   "source": [
    "modular_numbers = { number % 5 for number in range(1,100)}\n",
    "print(modular_numbers)"
   ]
  },
  {
   "cell_type": "markdown",
   "id": "fb2b0b59",
   "metadata": {},
   "source": [
    "## Dictionary Comprehensions\n",
    "Dictionary comprehensions function the same as list and set comprehension, they just have a slightly more complex syntax as we need to store both the key and the value.  Dictionary comprehensions follow one of these two formats:\n",
    "<pre>\n",
    "{<i>key_expression</i> : <i>value_expression</i> for <i>item</i> in <i>iterable</i>}\n",
    "{<i>key_expression</i> : <i>value_expression</i> for <i>item</i> in <i>iterable</i> if <i>condition</i>}\n",
    "</pre>\n",
    "For example to count all of the different characters in a string:"
   ]
  },
  {
   "cell_type": "code",
   "execution_count": null,
   "id": "bdf15ad9",
   "metadata": {},
   "outputs": [],
   "source": [
    "s = \"the quick brown fox jumps over the lazy dog\"\n",
    "counts = { letter: s.count(letter) for letter in set(s)} \n",
    "print(counts)"
   ]
  },
  {
   "cell_type": "markdown",
   "id": "551e790e",
   "metadata": {},
   "source": [
    "The `set(s)` was used so that each character count was only computed once.  As the string is an iterable/sequence, `set(s)` converts it into a set of the distinct characters in the string s.  What's the length of `set(s)` versus `list(s)`. Write some code to determine the answer."
   ]
  },
  {
   "cell_type": "code",
   "execution_count": null,
   "id": "0eed2764",
   "metadata": {},
   "outputs": [],
   "source": [
    "set(s)"
   ]
  },
  {
   "cell_type": "markdown",
   "id": "c226237e",
   "metadata": {},
   "source": [
    "As another example, this comprehension will revert the keys and values in a dictionary.  As many of the values are not unique, we will have less entries in the new dictionary."
   ]
  },
  {
   "cell_type": "code",
   "execution_count": 18,
   "id": "24768a9e",
   "metadata": {},
   "outputs": [
    {
     "name": "stdout",
     "output_type": "stream",
     "text": [
      "{2: 't', 1: 'f', 3: 'e', 8: ' ', 4: 'o'}\n"
     ]
    }
   ],
   "source": [
    "flipped = { value : key for key, value in counts.items()}\n",
    "print(flipped)"
   ]
  },
  {
   "cell_type": "markdown",
   "id": "1468d515",
   "metadata": {},
   "source": [
    "## Maps and Filters\n",
    "While not directly used by name, comprehensions use two key capabilities found a functional programming paradigm: map and filter.\n",
    "\n",
    "Mapping is the process of transforming a single value into another value either by applying an expression or calling a function with the original value. In the second example, `x**2` serves as _map_.  Applying a map along will result in a list having the same number of elements as before, although it is not necessary for the resulting values to have the same type as the original. For example, a map can convert a list of numbers to a list of strings."
   ]
  },
  {
   "cell_type": "code",
   "execution_count": 20,
   "id": "e71c3f51",
   "metadata": {},
   "outputs": [
    {
     "name": "stdout",
     "output_type": "stream",
     "text": [
      "['5', '6', '7.023', '3.14']\n"
     ]
    }
   ],
   "source": [
    "nlist = [5,6,7.023,3.14,]\n",
    "alist = [str(n) for n in nlist]\n",
    "print(alist)"
   ]
  },
  {
   "cell_type": "markdown",
   "id": "61b020ad",
   "metadata": {},
   "source": [
    "Filtering is the process of selecting only certain elements that match a condition.  Comprehensions perform this with their <code>if</code> <i>condition</i> clauses.  Typically, the resulting list will have fewer elements than the original iterable being filtered.  In the second code example, `if number % 2 == 0` serves as a _filter_."
   ]
  },
  {
   "cell_type": "markdown",
   "id": "ec743796",
   "metadata": {},
   "source": [
    "## Notes\n",
    "1. Only mutable types (lists, sets, and dictionaries) have comprehensions.  \n",
    "2. While comprehensions are a power tool, it does become easier to write code that's difficult to read - especially with nested comprehension.  A key tenet in programming is to produce code that can be maintained - this requires that the code be readable and understood both by yourself and by others.  Using for-loops to created nested loops will most like be more easily understood."
   ]
  },
  {
   "cell_type": "markdown",
   "id": "1fbf734b",
   "metadata": {},
   "source": [
    "## Exercises\n",
    "1. Write a list comprehension that create a list of tuples.  Each tuple's first element is the numbers 10,20,30,40,50,60,70,80,90,100.  The second value of the tuple is the first number squared"
   ]
  },
  {
   "cell_type": "markdown",
   "id": "2506db99",
   "metadata": {},
   "source": [
    "2. Write a list comprehension that creates a list of numbers from 1 to 30 that are multiples of 3 and divisible by 2"
   ]
  }
 ],
 "metadata": {
  "kernelspec": {
   "display_name": "Python 3 (ipykernel)",
   "language": "python",
   "name": "python3"
  },
  "language_info": {
   "codemirror_mode": {
    "name": "ipython",
    "version": 3
   },
   "file_extension": ".py",
   "mimetype": "text/x-python",
   "name": "python",
   "nbconvert_exporter": "python",
   "pygments_lexer": "ipython3",
   "version": "3.10.4"
  }
 },
 "nbformat": 4,
 "nbformat_minor": 5
}
