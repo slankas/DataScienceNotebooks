{
 "cells": [
  {
   "cell_type": "markdown",
   "id": "a59b416e",
   "metadata": {},
   "source": [
    "# Files\n",
    "\n",
    "Files are one of the most ubiquitous abstractions for computers.  As users, we constantly interact with files to store our documents and other data.  We organize these files into directories (folders).  Directories can contain subdirectories to provde a hierarchical structure of various contents.  \n",
    "\n",
    "As with other programming languages, Python provides a rich set of functionality to interact with files and directories. Interacting with files will also be necessary to allow us to persist data. So far, we have just used variables that hold data in the computer's memory - such data will be lost when the program terminates.  By storing data in files, the information is placed (stored/persisted) on [secondary storage devices](https://en.wikipedia.org/wiki/Computer_data_storage#Secondary_storage) such as hard drives and USB sticks. \n",
    "\n",
    "We'll also use files to share data with other individuals and systems.  Such data is usually defined in common formats such as tab-delimited, comma-separated values(CSV), and JavaScript Object Notation(JSON).\n"
   ]
  },
  {
   "cell_type": "markdown",
   "id": "fe92acfc",
   "metadata": {},
   "source": [
    "## Working with Files\n",
    "Generally to read or write files, you'll follow these steps.\n",
    "1. Open the file \n",
    "2. Read or write to the file\n",
    "3. Close the file once your are finished.\n",
    "\n",
    "To open a file, use the built-in function [open()](https://docs.python.org/3/library/functions.html#open)\n",
    "\n",
    "```\n",
    "f = open(filename, mode)\n",
    "```\n",
    "`open()` returns a file object.  By default, a file is opened for reading as containing text. i.e., mode='r'.  "
   ]
  },
  {
   "cell_type": "markdown",
   "id": "660a02b1",
   "metadata": {},
   "source": [
    "This table contains the different modes that may be specified:\n",
    "\n",
    "| Character | Meaning\n",
    "| :--------:|:-------|\n",
    "'r'| open for reading (default)\n",
    "'w'| open for writing, truncating the file first\n",
    "'x'| open for exclusive creation, failing if the file already exists\n",
    "'a'| open for writing, appending to the end of file if it exists\n",
    "'b'| binary mode.  Specify in conjunction 'r','w','x', or 'a'\n",
    "'t'| text mode (default). Specify in conjunction 'r','w','x', or 'a'\n",
    "'+'| open for updating (reading and writing).  Rarely used. See [open()](https://docs.python.org/3/library/functions.html#open)\n"
   ]
  },
  {
   "cell_type": "markdown",
   "id": "cc692667",
   "metadata": {},
   "source": [
    "Read or write data to the file as necessary\n",
    "\n",
    "Finally, call `close()` to notify the operating system and interpreter that we are done with the file and can then release any allocated resources.\n",
    "```\n",
    "f.close()\n",
    "```"
   ]
  },
  {
   "cell_type": "markdown",
   "id": "f5a151d5",
   "metadata": {},
   "source": [
    "## Text Files\n",
    "### Creating a new text file\n",
    "The following code block opens a file called \"text.txt\" in the current directory for writing text.  The code block then shows 2 different ways of putting a string into the file."
   ]
  },
  {
   "cell_type": "code",
   "execution_count": null,
   "id": "4e8d09ef",
   "metadata": {},
   "outputs": [],
   "source": [
    "f = open(\"test.txt\", \"wt\")\n",
    "print('String message, print built-function, but specify the file', file=f)\n",
    "f.write('Another message, uses the write method of the file object')\n",
    "f.write(\"test\")\n",
    "f.close()"
   ]
  },
  {
   "cell_type": "markdown",
   "id": "95614440",
   "metadata": {},
   "source": [
    "If you examine the file in a text editor, you'll notice the file contains:\n",
    "```\n",
    "String message, print built-function, but specify the file\n",
    "Another message, uses the write method of the file objecttest\n",
    "```\n",
    "By default, `print()` adds a newline at the end of each call unless you specify a different value in the `end` parameter.\n",
    "\n",
    "The `write()` method does not add any new line characters - you will need to manually add these as needed."
   ]
  },
  {
   "cell_type": "markdown",
   "id": "367741f4",
   "metadata": {},
   "source": [
    "### Reading a text file\n",
    "To read a text file, we can use several different methods\n",
    "- `read()`\n",
    "- `readline()`\n",
    "- `readlines()`\n",
    "- an iterator\n",
    "\n",
    "`read()` with no arguments will read the entire contents of the file into a string.  As such, you'll need to be careful with large files as you may exhaust the available memory in the computer.  "
   ]
  },
  {
   "cell_type": "code",
   "execution_count": null,
   "id": "ddeba94a",
   "metadata": {},
   "outputs": [],
   "source": [
    "f = open(\"test.txt\", \"rt\")\n",
    "contents = f.read()\n",
    "f.close()\n",
    "print(contents)"
   ]
  },
  {
   "cell_type": "markdown",
   "id": "72760fb7",
   "metadata": {},
   "source": [
    "To limit the number of characters read from the file in one method call, you can specify the maximum number of characters to read at a time."
   ]
  },
  {
   "cell_type": "code",
   "execution_count": null,
   "id": "eacaaeee",
   "metadata": {},
   "outputs": [],
   "source": [
    "f = open(\"test.txt\", \"rt\")\n",
    "numCharacters = 20\n",
    "message = \"\"\n",
    "while True:\n",
    "    text = f.read(numCharacters)\n",
    "    if not text:    #string is empty, nothing else to read in the file\n",
    "        break\n",
    "    print(text,end=\"###\")\n",
    "    message += text\n",
    "f.close()\n",
    "print(\"\\n\\nNow, dispay the message:\")\n",
    "print(message)"
   ]
  },
  {
   "cell_type": "markdown",
   "id": "813b7de1",
   "metadata": {},
   "source": [
    "`readline()` will read a line at a time, returning the contents in a string.  If the end of the file is reached, an empty string is returned.  If a blank line exists, a string with a newline character is returned."
   ]
  },
  {
   "cell_type": "code",
   "execution_count": null,
   "id": "42223071",
   "metadata": {},
   "outputs": [],
   "source": [
    "f = open(\"test.txt\", \"rt\")\n",
    "while True:\n",
    "    line = f.readline()\n",
    "    if not line:    #string is empty, nothing else to read in the file\n",
    "        break\n",
    "    print(line)\n",
    "f.close()"
   ]
  },
  {
   "cell_type": "markdown",
   "id": "f49bf77b",
   "metadata": {},
   "source": [
    "Notice that in the above output, the newlines stored in the file are kept in the returned string.  If they were simply stripped from the return value, it would not be possible to distinquish between an empty line and the end of the file."
   ]
  },
  {
   "cell_type": "markdown",
   "id": "c8f34ef1",
   "metadata": {},
   "source": [
    "`readlines()` will read the entire contents of the file at once placing and return a list containing each line in a string."
   ]
  },
  {
   "cell_type": "code",
   "execution_count": null,
   "id": "6efaa458",
   "metadata": {},
   "outputs": [],
   "source": [
    "f = open(\"test.txt\", \"rt\")\n",
    "lines = f.readlines()\n",
    "f.close()\n",
    "for line in lines:\n",
    "    print(line.strip())  ## stripe the newline character from the end of string \n"
   ]
  },
  {
   "cell_type": "markdown",
   "id": "778e0eed",
   "metadata": {},
   "source": [
    "Probably the most conventional way to ready a text file in Python is to use an iterator:"
   ]
  },
  {
   "cell_type": "code",
   "execution_count": null,
   "id": "2e13d9fe",
   "metadata": {},
   "outputs": [],
   "source": [
    "f = open(\"test.txt\", \"rt\")\n",
    "for line in f:\n",
    "    print(line.strip())\n",
    "f.close()"
   ]
  },
  {
   "cell_type": "markdown",
   "id": "756947b5",
   "metadata": {},
   "source": [
    "While we noted that not specifying a limit to the `read()` can lead to memory issues, the other methods may have issues as well depending upon the presence of new line characters to split apart the data read."
   ]
  },
  {
   "cell_type": "markdown",
   "id": "f11fc5cc",
   "metadata": {},
   "source": [
    "## Closing Files Automatically\n",
    "Unlike other programming languages, Python will close a file once it is no longer referenced (e.g., the file was opened in a function and the function has ended).  However, closing a file still serves two important purposes:\n",
    "1. Forces any remaining writes to be completed / \"flushed\" to the file.\n",
    "2. Clears any resources allocated to managing the open file\n",
    "\n",
    "Python utilizes context managers to automatically take action when a code block is entered and/or exited by defining `__enter__()` or `__exit__()` methods on an object. Using objects defined with context managers can then take the form: \n",
    "<pre>\n",
    "with <i>expression</i> as <i>variable</i>:\n",
    "    <i>code block</i>\n",
    "</pre>\n"
   ]
  },
  {
   "cell_type": "code",
   "execution_count": null,
   "id": "dec66b69",
   "metadata": {},
   "outputs": [],
   "source": [
    "with open(\"test.txt\") as f:\n",
    "    for line in f:\n",
    "        print(line.strip())"
   ]
  },
  {
   "cell_type": "markdown",
   "id": "14a2be3a",
   "metadata": {},
   "source": [
    "## Binary Files\n",
    "During this course, we'll primary use text files, but binary files are constantly used - images, videos, executables, specialized data files, etc.\n",
    "\n",
    "To read and write data to binary files, we will manipulate binary data through [bytes](https://docs.python.org/3/library/stdtypes.html#bytes-objects) and [bytearray](https://docs.python.org/3/library/stdtypes.html#bytearray-objects) objects.  Other APIs have been written on top of these types to provide richer capabilities.\n",
    "\n",
    "Literals can also be defined with byte strings. "
   ]
  },
  {
   "cell_type": "markdown",
   "id": "94d1a7e5",
   "metadata": {},
   "source": [
    "### Binary Example: IP Addresses\n",
    "\n",
    "The following code fragment resolves a domain name into an IP address.  As you visit various websites on the Internet, the computer performs this resolution such that it can send your request to the appropriate server.\n",
    "\n",
    "In this example, `socket.gethostbyname()` returns a string representation of the IP address.  For IPv4, address are composed of 4 parts, each with the value between 0 and 255.  So, each value is contained in a single byte and an IPv4 address can be represented with 4 bytes.  (IPv6 addresses are are represented by 8 bytes.)   After printing out the value, the code converts it to bytes, which is an immutable sequence of byte values similar to a tuple. As such, we can index with slices just as we can with other python sequences such as strings and lists.\n",
    "\n",
    "When displaying byte string literals, Python will display an ASCII value if a number can be converted to a printable ASCII character otherwise, it displays the number as a hexadecimal value. Recall in one of the earlier notebooks, we presented the built-in function `chr()` to convert a number to the corresponding ASCII(Unicode) character."
   ]
  },
  {
   "cell_type": "code",
   "execution_count": null,
   "id": "135d06c0",
   "metadata": {},
   "outputs": [],
   "source": [
    "import socket\n",
    "addr = socket.gethostbyname('wsj.com')\n",
    "print(addr1)\n",
    "ba = socket.inet_aton(addr1)\n",
    "print(ba)\n",
    "print(ba[-1])\n",
    "print(chr(ba[0]), chr(ba[1]), chr(ba[2]), chr(ba[3]))"
   ]
  },
  {
   "cell_type": "markdown",
   "id": "1a795bee",
   "metadata": {},
   "source": [
    "### Writing to a Binary File"
   ]
  },
  {
   "cell_type": "code",
   "execution_count": null,
   "id": "ef7fc410",
   "metadata": {},
   "outputs": [],
   "source": [
    "with open(\"test_binary.dat\", 'wb') as f:\n",
    "    f.write(ba)"
   ]
  },
  {
   "cell_type": "markdown",
   "id": "33f6ceba",
   "metadata": {},
   "source": [
    "### Reading from a Binary File"
   ]
  },
  {
   "cell_type": "code",
   "execution_count": null,
   "id": "0b2db7d7",
   "metadata": {},
   "outputs": [],
   "source": [
    "with open(\"test_binary.dat\", 'rb') as f:\n",
    "    ip_address = f.read()\n",
    "print(ip_address)\n",
    "print(type(ip_address))\n",
    "print(socket.inet_ntoa(ip_address))    # convert the byte array to a string representation"
   ]
  },
  {
   "cell_type": "markdown",
   "id": "69a23ec6",
   "metadata": {},
   "source": [
    "## File Operations\n",
    "Python offers a variety of operations on files. "
   ]
  },
  {
   "cell_type": "markdown",
   "id": "f8b1594f",
   "metadata": {},
   "source": [
    "### Existence\n",
    "To see whether or not a given file or directory exists, call `os.path.exists()` with the name to check."
   ]
  },
  {
   "cell_type": "code",
   "execution_count": null,
   "id": "293ba1a1",
   "metadata": {},
   "outputs": [],
   "source": [
    "import os\n",
    "print(\"test_binary.dat\",os.path.exists(\"test_binary.dat\"))\n",
    "print(\"binary.dat\",os.path.exists(\"binary.dat\"))\n",
    "print(\".\",os.path.exists(\".\"))        # current directory\n",
    "print(\"..\",os.path.exists(\"..\"))      # parent directory"
   ]
  },
  {
   "cell_type": "markdown",
   "id": "0a5f5f9f",
   "metadata": {},
   "source": [
    "### Checking Filetype\n",
    "Use `os.path.isdile()` to return a Boolean on whether or the argument is a file.\n",
    "\n",
    "Use `os.path.isdir()` to return a Boolean on whether or the argument is a directory."
   ]
  },
  {
   "cell_type": "code",
   "execution_count": null,
   "id": "da3861df",
   "metadata": {},
   "outputs": [],
   "source": [
    "print(\"isfile: test_binary.dat\", os.path.isfile(\"test_binary.dat\"))\n",
    "print(\"isdir: test_binary.dat\", os.path.isdir(\"test_binary.dat\"))"
   ]
  },
  {
   "cell_type": "markdown",
   "id": "b0ef70d4",
   "metadata": {},
   "source": [
    "### Deleting Files\n",
    "To delete a file, use `os.remove()`."
   ]
  },
  {
   "cell_type": "code",
   "execution_count": null,
   "id": "1f0f889c",
   "metadata": {},
   "outputs": [],
   "source": [
    "os.remove(\"test_binary.dat\")\n",
    "os.path.exists(\"test_binary.dat\")"
   ]
  },
  {
   "cell_type": "markdown",
   "id": "641f7c13",
   "metadata": {},
   "source": [
    "## directory operations\n",
    "- mkdir\n",
    "- rmdir\n",
    "- listdir\n",
    "- change current dur"
   ]
  },
  {
   "cell_type": "markdown",
   "id": "fbe9a3df",
   "metadata": {},
   "source": [
    "For other file and directory operations look at the [os](https://docs.python.org/3/library/os.html#module-os) module."
   ]
  },
  {
   "cell_type": "markdown",
   "id": "aa074dc1",
   "metadata": {},
   "source": [
    "## Pathnames\n",
    "\n",
    "relative / absolute\n",
    "\n",
    "- abspath\n",
    "os.path.join()\n",
    "\n",
    "size of a file: https://www.geeksforgeeks.org/how-to-get-file-size-in-python/\n",
    "\n",
    "Pathlib\n",
    "from pathlib import Path\n",
    "\n",
    "Path(r'd:/file.jpg').stat()\n",
    "file=Path(r'd:/file.jpg').stat().st_size\n",
    "print(\"Size of file is :\", file, \"bytes\")"
   ]
  },
  {
   "cell_type": "code",
   "execution_count": null,
   "id": "e9da5722",
   "metadata": {},
   "outputs": [],
   "source": []
  },
  {
   "cell_type": "markdown",
   "id": "acffdebb",
   "metadata": {},
   "source": [
    "Outline:\n",
    "\n",
    "- directory / file representation\n",
    "\n",
    "- Issus\n",
    "  - line endings\n",
    "  - character encodings"
   ]
  },
  {
   "cell_type": "code",
   "execution_count": null,
   "id": "3f2ccb81",
   "metadata": {},
   "outputs": [],
   "source": []
  },
  {
   "cell_type": "code",
   "execution_count": null,
   "id": "baf6275c",
   "metadata": {},
   "outputs": [],
   "source": []
  },
  {
   "cell_type": "markdown",
   "id": "657883e3",
   "metadata": {},
   "source": [
    "Support for files is defined with Python's [io](https://docs.python.org/3/library/io.html) module"
   ]
  },
  {
   "cell_type": "markdown",
   "id": "89cdc1af",
   "metadata": {},
   "source": [
    "##  Tricky Issues\n",
    "\n",
    "### Newline Characters\n",
    "One of the common issues when dealing with text files is that different platforms use different characters to signify a new line.  One Linux and MacOS, newlines are represented with just the bytecode `0x0a <LF> \\n` while on Windows, `0x0d0a <CR><LF> \\r\\n` represents a new line. \n",
    "\n",
    "Within Python 3, the `open()` function has a parameter `newline` which controls how newlines are processed when reading in text files.  By defualt, universal newlines are enabled.  In this mode, lines can end with `\\n`, `\\r`, or `\\r\\n`.  Python will translate all of these to `\\n` before returning a value to caller.   \n",
    "\n",
    "When writing output to a file, any `\\n` characters are translated to tthe system default line separator, `os.linesep`, as the output is sent to a file.\n",
    "\n",
    "For both reading and writing, there are additional modes to force behavior if required.\n",
    "\n",
    "## Encodings\n",
    "\n",
    "\n",
    "TEXT FROM python docs --- change ---\n",
    "\n",
    "encoding is the name of the encoding used to decode or encode the file. This should only be used in text mode. The default encoding is platform dependent (whatever locale.getpreferredencoding() returns), but any text encoding supported by Python can be used. See the codecs module for the list of supported encodings."
   ]
  },
  {
   "cell_type": "code",
   "execution_count": null,
   "id": "5e4941f1",
   "metadata": {},
   "outputs": [],
   "source": [
    "import locale\n",
    "locale.getpreferredencoding() "
   ]
  },
  {
   "cell_type": "markdown",
   "id": "db0a2b21",
   "metadata": {},
   "source": [
    "## Exercises \n",
    "- recursively list all files and directories...  This may be a good topic for a lecture ...\n",
    "\n",
    "- print the size of files in a directory\n",
    "\n",
    "- write a method with two parameters: filename and countdown.  Countdown is a positve integer.  Using a range function, write a file that looks like 10 9 8 7 6 5 4 3 2 1 BlastOff\n",
    "- write a method that reads the file produced in the previous exercise.  it will read all of the numbers and produce their sum, printing the result to the console."
   ]
  }
 ],
 "metadata": {
  "kernelspec": {
   "display_name": "Python 3 (ipykernel)",
   "language": "python",
   "name": "python3"
  },
  "language_info": {
   "codemirror_mode": {
    "name": "ipython",
    "version": 3
   },
   "file_extension": ".py",
   "mimetype": "text/x-python",
   "name": "python",
   "nbconvert_exporter": "python",
   "pygments_lexer": "ipython3",
   "version": "3.8.10"
  }
 },
 "nbformat": 4,
 "nbformat_minor": 5
}
