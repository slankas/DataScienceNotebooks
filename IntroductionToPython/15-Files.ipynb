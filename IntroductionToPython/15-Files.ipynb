{
 "cells": [
  {
   "cell_type": "markdown",
   "id": "a59b416e",
   "metadata": {},
   "source": [
    "# Files\n",
    "\n",
    "Files are one of the most ubiquitous abstractions for computers.  As users, we constantly interact with files to store our documents and other data.  We organize these files into directories (folders).  Directories can contain subdirectories to provide a hierarchical structure of various contents.  \n",
    "\n",
    "As with other programming languages, Python provides a rich set of functionality to interact with files and directories. Interacting with files will also be necessary to allow us to persist data. So far, we have just used variables that hold data in the computer's memory - such data will be lost when the program terminates.  By storing data in files, the information is placed (stored/persisted) on [secondary storage devices](https://en.wikipedia.org/wiki/Computer_data_storage#Secondary_storage) such as hard drives and USB sticks. \n",
    "\n",
    "We'll also use files to share data with other individuals and systems.  Such data is usually defined in common formats such as tab-delimited, comma-separated values(CSV), and JavaScript Object Notation(JSON).\n",
    "\n",
    "Python's view of files and directories is largely based from the Unix/Linux operating system variants.  [Overview of the Unix File System](https://web.archive.org/web/20210419161551/https://homepages.uc.edu/~thomam/Intro_Unix_Text/File_System.html)\n",
    "\n",
    "Support for files is defined with Python's [io](https://docs.python.org/3/library/io.html) module\n"
   ]
  },
  {
   "cell_type": "markdown",
   "id": "fe92acfc",
   "metadata": {},
   "source": [
    "## Working with Files\n",
    "Generally to read or write files, you'll follow these steps.\n",
    "1. Open the file \n",
    "2. Read or write to the file\n",
    "3. Close the file once your are finished.\n",
    "\n",
    "To open a file, use the built-in function [open()](https://docs.python.org/3/library/functions.html#open)\n",
    "\n",
    "```\n",
    "f = open(filename, mode)\n",
    "```\n",
    "`open()` returns a file object.  By default, a file is opened for reading as containing text. i.e., mode='r'.  "
   ]
  },
  {
   "cell_type": "markdown",
   "id": "660a02b1",
   "metadata": {},
   "source": [
    "This table contains the different modes that may be specified:\n",
    "\n",
    "| Character | Meaning\n",
    "| :--------:|:-------|\n",
    "'r'| open for reading (default)\n",
    "'w'| open for writing, truncating the file first\n",
    "'x'| open for exclusive creation, failing if the file already exists\n",
    "'a'| open for writing, appending to the end of file if it exists\n",
    "'b'| binary mode.  Specify in conjunction 'r','w','x', or 'a'\n",
    "'t'| text mode (default). Specify in conjunction 'r','w','x', or 'a'\n",
    "'+'| open for updating (reading and writing).  Rarely used. See [open()](https://docs.python.org/3/library/functions.html#open)\n"
   ]
  },
  {
   "cell_type": "markdown",
   "id": "cc692667",
   "metadata": {},
   "source": [
    "Read or write data to the file as necessary\n",
    "\n",
    "Finally, call `close()` to notify the operating system and interpreter that we are done with the file and can then release any allocated resources.\n",
    "```\n",
    "f.close()\n",
    "```"
   ]
  },
  {
   "cell_type": "markdown",
   "id": "f5a151d5",
   "metadata": {},
   "source": [
    "## Text Files\n",
    "### Creating a new text file\n",
    "The following code block opens a file called \"text.txt\" in the current directory for writing text.  The code block then shows 2 different ways of putting a string into the file."
   ]
  },
  {
   "cell_type": "code",
   "execution_count": null,
   "id": "4e8d09ef",
   "metadata": {},
   "outputs": [],
   "source": [
    "f = open(\"test.txt\", \"wt\")\n",
    "print('String message, print built-function, but specify the file', file=f)\n",
    "f.write('Another message, uses the write method of the file object')\n",
    "f.write(\"test\")\n",
    "f.close()"
   ]
  },
  {
   "cell_type": "markdown",
   "id": "95614440",
   "metadata": {},
   "source": [
    "If you examine the file in a text editor, you'll notice the file contains:\n",
    "```\n",
    "String message, print built-function, but specify the file\n",
    "Another message, uses the write method of the file objecttest\n",
    "```\n",
    "By default, `print()` adds a newline at the end of each call unless you specify a different value in the `end` parameter.\n",
    "\n",
    "The `write()` method does not add any new line characters - you will need to manually add these as needed."
   ]
  },
  {
   "cell_type": "markdown",
   "id": "367741f4",
   "metadata": {},
   "source": [
    "### Reading a text file\n",
    "To read a text file, we can use several different methods\n",
    "- `read()`\n",
    "- `readline()`\n",
    "- `readlines()`\n",
    "- an iterator\n",
    "\n",
    "`read()` with no arguments will read the entire contents of the file into a string.  As such, you'll need to be careful with large files as you may exhaust the available memory in the computer.  "
   ]
  },
  {
   "cell_type": "code",
   "execution_count": null,
   "id": "ddeba94a",
   "metadata": {},
   "outputs": [],
   "source": [
    "f = open(\"test.txt\", \"rt\")\n",
    "contents = f.read()\n",
    "f.close()\n",
    "print(contents)"
   ]
  },
  {
   "cell_type": "markdown",
   "id": "72760fb7",
   "metadata": {},
   "source": [
    "To limit the number of characters read from the file in one method call, you can specify the maximum number of characters to read at a time."
   ]
  },
  {
   "cell_type": "code",
   "execution_count": null,
   "id": "eacaaeee",
   "metadata": {},
   "outputs": [],
   "source": [
    "f = open(\"test.txt\", \"rt\")\n",
    "numCharacters = 20\n",
    "message = \"\"\n",
    "while True:\n",
    "    text = f.read(numCharacters)\n",
    "    if not text:    #string is empty, nothing else to read in the file\n",
    "        break\n",
    "    print(text,end=\"###\")\n",
    "    message += text\n",
    "f.close()\n",
    "print(\"\\n\\nNow, dispay the message:\")\n",
    "print(message)"
   ]
  },
  {
   "cell_type": "markdown",
   "id": "813b7de1",
   "metadata": {},
   "source": [
    "`readline()` will read a line at a time, returning the contents in a string.  If the end of the file is reached, an empty string is returned.  If a blank line exists, a string with a newline character is returned."
   ]
  },
  {
   "cell_type": "code",
   "execution_count": null,
   "id": "42223071",
   "metadata": {},
   "outputs": [],
   "source": [
    "f = open(\"test.txt\", \"rt\")\n",
    "while True:\n",
    "    line = f.readline()\n",
    "    if not line:    #string is empty, nothing else to read in the file\n",
    "        break\n",
    "    print(line)\n",
    "f.close()"
   ]
  },
  {
   "cell_type": "markdown",
   "id": "f49bf77b",
   "metadata": {},
   "source": [
    "Notice that in the above output, the newlines stored in the file are kept in the returned string.  If they were simply stripped from the return value, it would not be possible to distinguish between an empty line and the end of the file."
   ]
  },
  {
   "cell_type": "markdown",
   "id": "c8f34ef1",
   "metadata": {},
   "source": [
    "`readlines()` will read the entire contents of the file at once placing and return a list containing each line in a string."
   ]
  },
  {
   "cell_type": "code",
   "execution_count": null,
   "id": "6efaa458",
   "metadata": {},
   "outputs": [],
   "source": [
    "f = open(\"test.txt\", \"rt\")\n",
    "lines = f.readlines()\n",
    "f.close()\n",
    "for line in lines:\n",
    "    print(line.strip())  ## stripe the newline character from the end of string \n"
   ]
  },
  {
   "cell_type": "markdown",
   "id": "778e0eed",
   "metadata": {},
   "source": [
    "Probably the most conventional way to ready a text file in Python is to use an iterator:"
   ]
  },
  {
   "cell_type": "code",
   "execution_count": null,
   "id": "2e13d9fe",
   "metadata": {},
   "outputs": [],
   "source": [
    "f = open(\"test.txt\", \"rt\")\n",
    "for line in f:\n",
    "    print(line.strip())\n",
    "f.close()"
   ]
  },
  {
   "cell_type": "markdown",
   "id": "f905779c",
   "metadata": {},
   "source": [
    "While we noted that not specifying a limit to the `read()` can lead to memory issues, the other methods may have issues as well depending upon the presence of new line characters to split apart the data read."
   ]
  },
  {
   "cell_type": "markdown",
   "id": "f11fc5cc",
   "metadata": {},
   "source": [
    "## Closing Files Automatically\n",
    "Unlike other programming languages, Python will close a file once it is no longer referenced (e.g., the file was opened in a function and the function has ended).  However, closing a file still serves two important purposes:\n",
    "1. Forces any remaining writes to be completed / \"flushed\" to the file.\n",
    "2. Clears any resources allocated to managing the open file\n",
    "\n",
    "Python utilizes context managers to automatically take action when a code block is entered and/or exited by defining `__enter__()` or `__exit__()` methods on an object. Using objects defined with context managers can then take the form: \n",
    "<pre>\n",
    "with <i>expression</i> as <i>variable</i>:\n",
    "    <i>code block</i>\n",
    "</pre>\n"
   ]
  },
  {
   "cell_type": "code",
   "execution_count": null,
   "id": "dec66b69",
   "metadata": {},
   "outputs": [],
   "source": [
    "with open(\"test.txt\") as f:\n",
    "    for line in f:\n",
    "        print(line.strip())"
   ]
  },
  {
   "cell_type": "markdown",
   "id": "14a2be3a",
   "metadata": {},
   "source": [
    "## Binary Files\n",
    "During this course, we'll primary use text files, but binary files are constantly used - images, videos, executables, specialized data files, etc.\n",
    "\n",
    "To read and write data to binary files, we will manipulate binary data through [bytes](https://docs.python.org/3/library/stdtypes.html#bytes-objects) and [bytearray](https://docs.python.org/3/library/stdtypes.html#bytearray-objects) objects.  Other APIs have been written on top of these types to provide richer capabilities.\n",
    "\n",
    "Literals can also be defined with byte strings. "
   ]
  },
  {
   "cell_type": "markdown",
   "id": "94d1a7e5",
   "metadata": {},
   "source": [
    "### Binary Example: IP Addresses\n",
    "\n",
    "The following code fragment resolves a domain name into an IP address.  As you visit various websites on the Internet, the computer performs this resolution such that it can send your request to the appropriate server.\n",
    "\n",
    "In this example, `socket.gethostbyname()` returns a string representation of the IP address.  For IPv4, address are composed of 4 parts, each with the value between 0 and 255.  So, each value is contained in a single byte and an IPv4 address can be represented with 4 bytes.  (IPv6 addresses are are represented by 8 bytes.)   After printing out the value, the code converts it to bytes, which is an immutable sequence of byte values similar to a tuple. As such, we can index with slices just as we can with other python sequences such as strings and lists.\n",
    "\n",
    "When displaying byte string literals, Python will display an ASCII value if a number can be converted to a printable ASCII character otherwise, it displays the number as a hexadecimal value. Recall in one of the earlier notebooks, we presented the built-in function `chr()` to convert a number to the corresponding ASCII(Unicode) character."
   ]
  },
  {
   "cell_type": "code",
   "execution_count": null,
   "id": "135d06c0",
   "metadata": {},
   "outputs": [],
   "source": [
    "import socket\n",
    "addr = socket.gethostbyname('wsj.com')\n",
    "print(addr)\n",
    "ba = socket.inet_aton(addr)\n",
    "print(ba)\n",
    "print(ba[-1])\n",
    "print(chr(ba[0]), chr(ba[1]), chr(ba[2]), chr(ba[3]))"
   ]
  },
  {
   "cell_type": "markdown",
   "id": "1a795bee",
   "metadata": {},
   "source": [
    "### Writing to a Binary File"
   ]
  },
  {
   "cell_type": "code",
   "execution_count": null,
   "id": "ef7fc410",
   "metadata": {},
   "outputs": [],
   "source": [
    "with open(\"test_binary.dat\", 'wb') as f:\n",
    "    f.write(ba)"
   ]
  },
  {
   "cell_type": "markdown",
   "id": "33f6ceba",
   "metadata": {},
   "source": [
    "### Reading from a Binary File"
   ]
  },
  {
   "cell_type": "code",
   "execution_count": null,
   "id": "0b2db7d7",
   "metadata": {},
   "outputs": [],
   "source": [
    "with open(\"test_binary.dat\", 'rb') as f:\n",
    "    ip_address = f.read()\n",
    "print(ip_address)\n",
    "print(type(ip_address))\n",
    "print(socket.inet_ntoa(ip_address))    # convert the byte array to a string representation"
   ]
  },
  {
   "cell_type": "markdown",
   "id": "69a23ec6",
   "metadata": {},
   "source": [
    "## File Operations\n",
    "Python offers a variety of operations on files. "
   ]
  },
  {
   "cell_type": "markdown",
   "id": "f8b1594f",
   "metadata": {},
   "source": [
    "### Existence\n",
    "To see whether or not a given file or directory exists, call `os.path.exists()` with the name to check."
   ]
  },
  {
   "cell_type": "code",
   "execution_count": null,
   "id": "293ba1a1",
   "metadata": {},
   "outputs": [],
   "source": [
    "import os\n",
    "print(\"test_binary.dat\",os.path.exists(\"test_binary.dat\"))\n",
    "print(\"binary.dat\",os.path.exists(\"binary.dat\"))\n",
    "print(\".\",os.path.exists(\".\"))        # current directory\n",
    "print(\"..\",os.path.exists(\"..\"))      # parent directory"
   ]
  },
  {
   "cell_type": "markdown",
   "id": "0a5f5f9f",
   "metadata": {},
   "source": [
    "### Checking Filetype\n",
    "Use `os.path.isfile()` to return a Boolean on whether or the argument is a file.\n",
    "\n",
    "Use `os.path.isdir()` to return a Boolean on whether or the argument is a directory."
   ]
  },
  {
   "cell_type": "code",
   "execution_count": null,
   "id": "da3861df",
   "metadata": {},
   "outputs": [],
   "source": [
    "print(\"isfile: test_binary.dat\", os.path.isfile(\"test_binary.dat\"))\n",
    "print(\"isdir: test_binary.dat\", os.path.isdir(\"test_binary.dat\"))"
   ]
  },
  {
   "cell_type": "markdown",
   "id": "b0ef70d4",
   "metadata": {},
   "source": [
    "### Deleting Files\n",
    "To delete a file, use `os.remove()`."
   ]
  },
  {
   "cell_type": "code",
   "execution_count": null,
   "id": "1f0f889c",
   "metadata": {},
   "outputs": [],
   "source": [
    "os.remove(\"test_binary.dat\")\n",
    "os.path.exists(\"test_binary.dat\")"
   ]
  },
  {
   "cell_type": "markdown",
   "id": "022de68a",
   "metadata": {},
   "source": [
    "### File Information: stat\n",
    "To get details (Unix/Linux calls \"status\"), call `os.stat()`.  This returns an object with various fields to represent the permissions on the file, the file's type, size, owner, group, and various time stamps. \n",
    "\n",
    "[stat documentation](https://docs.python.org/3/library/os.html#os.stat)"
   ]
  },
  {
   "cell_type": "code",
   "execution_count": null,
   "id": "d1cda02e",
   "metadata": {},
   "outputs": [],
   "source": [
    "stat_obj = os.stat('.')\n",
    "print(stat_obj)"
   ]
  },
  {
   "cell_type": "markdown",
   "id": "649eefe7",
   "metadata": {},
   "source": [
    "Initially, that result looks very esoteric, but once we break down a few of the fields, it makes more sense.\n",
    "\n",
    "The `st_mode` contains the file type and permissions associated with the file.  Using `ls -l` we see this data represented with a string that looks like '-rwxr-xr-x'.  This first character specifies the type: '-' for files and 'd' for directories.  The next 9 characters represent the permissions for the user, group, and world in terms of read, write, and execute.  Typically, st_mode makes more sense in it's octal representation."
   ]
  },
  {
   "cell_type": "code",
   "execution_count": null,
   "id": "c1d63006",
   "metadata": {},
   "outputs": [],
   "source": [
    "print(oct(stat_obj.st_mode))"
   ]
  },
  {
   "cell_type": "markdown",
   "id": "2df4e38c",
   "metadata": {},
   "source": [
    "The first number represents the file type.  You'll see 40 for a directory and 100 for a file.  The last three numbers correspond to the owner, group, and world permission using a bit representation for read, write, and execute. 111 in binary equals 7 in octal.  101 = 5 in octal, so only read and execute permissions are present.  100 = 4 in octal, so only read.\n",
    "\n",
    "st_size is the number of bytes to contain the file's contents.\n",
    "\n",
    "st_atime, st_mtime, st_ctime represent when the file was last accessed, modified, and created.  These are specified in seconds. To convert to a date and time, they present the number of seconds since Unix epoch which is midnight on January 1st, 1970.  While this fact seems really esoteric, this is a very common base representation for dates and times.  Fortunately, as with other languages, Python provides APIs to perform the necessary conversion into a datetime object."
   ]
  },
  {
   "cell_type": "code",
   "execution_count": null,
   "id": "8d028e43",
   "metadata": {},
   "outputs": [],
   "source": [
    "import datetime\n",
    "accessed_dt = datetime.datetime.utcfromtimestamp(stat_obj.st_atime)\n",
    "print(accessed_dt.isoformat())"
   ]
  },
  {
   "cell_type": "markdown",
   "id": "930fb9e5",
   "metadata": {},
   "source": [
    "## Directory Operations\n",
    "As with files, Python supports a wide variety operations on directories: "
   ]
  },
  {
   "cell_type": "markdown",
   "id": "a7aa62cc",
   "metadata": {},
   "source": [
    "### Create Directory\n",
    "Use `os.mkdir()` to create a new directory "
   ]
  },
  {
   "cell_type": "code",
   "execution_count": null,
   "id": "655ecf20",
   "metadata": {},
   "outputs": [],
   "source": [
    "os.mkdir('newDir')"
   ]
  },
  {
   "cell_type": "markdown",
   "id": "4c76e051",
   "metadata": {},
   "source": [
    "## List Directory Contents\n",
    "Use `os.listdir()` list the contents of a directory.  This returns a list of file names (strings) within that directory."
   ]
  },
  {
   "cell_type": "code",
   "execution_count": null,
   "id": "6ff6dec4",
   "metadata": {},
   "outputs": [],
   "source": [
    "os.listdir('newDir')"
   ]
  },
  {
   "cell_type": "code",
   "execution_count": null,
   "id": "51c165ed",
   "metadata": {},
   "outputs": [],
   "source": [
    "os.listdir('.')"
   ]
  },
  {
   "cell_type": "code",
   "execution_count": null,
   "id": "e21b73f0",
   "metadata": {},
   "outputs": [],
   "source": [
    "# now, make a subdirectory in newDir\n",
    "os.mkdir('newDir/newSubDir')\n",
    "os.listdir('newDir')"
   ]
  },
  {
   "cell_type": "code",
   "execution_count": null,
   "id": "159f7b93",
   "metadata": {},
   "outputs": [],
   "source": [
    "with open(\"newDir/newSubDir/dickens.txt\", 'w') as f:\n",
    "    f.write('It was the best of times,\\n, it was the worst of times.\\n')"
   ]
  },
  {
   "cell_type": "code",
   "execution_count": null,
   "id": "6e4fde8c",
   "metadata": {},
   "outputs": [],
   "source": [
    "os.listdir('newDir/newSubDir')"
   ]
  },
  {
   "cell_type": "markdown",
   "id": "151430c8",
   "metadata": {},
   "source": [
    "### Delete Directory\n",
    "To delete a directory, use `os.rmdir()`.  However, the directory must be empty before it can be deleted.  You cannot use `os.remove()` to delete a directory, only a file."
   ]
  },
  {
   "cell_type": "code",
   "execution_count": null,
   "id": "5bac0a8b",
   "metadata": {},
   "outputs": [],
   "source": [
    "# this will cause an error as remove can't be used on directory\n",
    "os.remove('newDir/newSubDir')"
   ]
  },
  {
   "cell_type": "code",
   "execution_count": null,
   "id": "ba973db5",
   "metadata": {},
   "outputs": [],
   "source": [
    "# this will cause an error as the directory is not empty\n",
    "os.rmdir('newDir/newSubDir')"
   ]
  },
  {
   "cell_type": "markdown",
   "id": "b91d921c",
   "metadata": {},
   "source": [
    "Fix the following code block to delete the text file created above first."
   ]
  },
  {
   "cell_type": "code",
   "execution_count": null,
   "id": "1132ef06",
   "metadata": {},
   "outputs": [],
   "source": [
    "# add a method call here\n",
    "\n",
    "# the following two lines of code are correct\n",
    "os.rmdir('newDir/newSubDir')\n",
    "os.path.exists('newDir/newSub')"
   ]
  },
  {
   "cell_type": "markdown",
   "id": "da403b73",
   "metadata": {},
   "source": [
    "### Change the Current Working Directory\n",
    "Use `os.chdir()` to change the current working directory."
   ]
  },
  {
   "cell_type": "code",
   "execution_count": null,
   "id": "d0c2e967",
   "metadata": {},
   "outputs": [],
   "source": [
    "os.chdir('newDir')"
   ]
  },
  {
   "cell_type": "markdown",
   "id": "c5916c35",
   "metadata": {},
   "source": [
    "Now, enter the method call to list the contents of the current directory"
   ]
  },
  {
   "cell_type": "code",
   "execution_count": null,
   "id": "3d3f7824",
   "metadata": {},
   "outputs": [],
   "source": []
  },
  {
   "cell_type": "markdown",
   "id": "fbe9a3df",
   "metadata": {},
   "source": [
    "For other file and directory operations, look at the [os](https://docs.python.org/3/library/os.html#module-os) module."
   ]
  },
  {
   "cell_type": "code",
   "execution_count": null,
   "id": "463cda19",
   "metadata": {},
   "outputs": [],
   "source": [
    "os.chdir('..')  # move the current directory back to our starting point"
   ]
  },
  {
   "cell_type": "markdown",
   "id": "a091ca77",
   "metadata": {},
   "source": [
    "## Pathnames\n",
    "Most computers use a hierarchical file system. As such,  we have a current working directory based upon where our shell session is currently at.  Other times, that working directory is based upon setting when an executable is started.  At the command-line, you can print the working directory with `pwd`.  With Python, we get the current working directory with "
   ]
  },
  {
   "cell_type": "code",
   "execution_count": null,
   "id": "de10f850",
   "metadata": {},
   "outputs": [],
   "source": [
    "os.getcwd()"
   ]
  },
  {
   "cell_type": "markdown",
   "id": "54378660",
   "metadata": {},
   "source": [
    "Within Jupyter Notebooks, we can also call out to the operating system:"
   ]
  },
  {
   "cell_type": "code",
   "execution_count": null,
   "id": "8c33d7bf",
   "metadata": {},
   "outputs": [],
   "source": [
    "!pwd"
   ]
  },
  {
   "cell_type": "markdown",
   "id": "c22a83c6",
   "metadata": {},
   "source": [
    "Throughout this notebook (and in most of file/directory operation commands), we passed a directory name or file name as arguments into the various function calls. As we specify those names, we can  either specify *absolute* or *relative* pathnames.  *Absolute* pathnames start from the root (top) directory - these pathnames will start with a `/`. *Relative* pathnames start from the current directory.  As we should in a code block above `.` refers to the current directory and `..` refers to its parents.  \n",
    "\n",
    "To separate directories, most systems use a forward slash `/`. The exception is Windows, which uses a backward slash `\\`.  The reasoning dates back to the early days of MS-DOS in the 1980s.  The '/' was used to specify command line arguments whereas Unix typically uses a dash '-'.  Windows is slowly coming around.  Within PowerShell, you can specify names with a `/`, it will just convert it to `\\`.  "
   ]
  },
  {
   "cell_type": "markdown",
   "id": "15c84899",
   "metadata": {},
   "source": [
    "### Finding Absolute Pathnames\n",
    "From a relative pathname, we can find the absolute pathname with `os.path.abspath()`"
   ]
  },
  {
   "cell_type": "code",
   "execution_count": null,
   "id": "43fddc93",
   "metadata": {},
   "outputs": [],
   "source": [
    "os.path.abspath('.')"
   ]
  },
  {
   "cell_type": "markdown",
   "id": "c54cbbae",
   "metadata": {},
   "source": [
    "### Creating Pathnames\n",
    "We can build a pathname from several parts(i.e., strings) by using `os.path.join()`.  This function combines names with the proper path separation character for the current operating system."
   ]
  },
  {
   "cell_type": "code",
   "execution_count": null,
   "id": "0d7c0080",
   "metadata": {},
   "outputs": [],
   "source": [
    "os.path.join('stuff','foo','bar.txt')"
   ]
  },
  {
   "cell_type": "markdown",
   "id": "77c04267",
   "metadata": {},
   "source": [
    "## Pathlib\n",
    "In Python 3.4, the language developers added the `pathlib` module.  This provides an alternative to the `os` module presented in this notebook.\n",
    "\n",
    "The primary change has been in the introduction of a `Path` class to treat files and directories as an object with methods that we call from that object rather than using strings and calling functions under `os`.  \n",
    "\n",
    "[Further details](https://docs.python.org/3/library/pathlib.html)  The very bottom of that page shows the correspondence between the two approaches."
   ]
  },
  {
   "cell_type": "markdown",
   "id": "89cdc1af",
   "metadata": {},
   "source": [
    "##  Tricky Issues\n",
    "\n",
    "### Newline Characters\n",
    "One of the common issues when dealing with text files is that different platforms use different characters to signify a new line.  One Linux and MacOS, newlines are represented with just the bytecode `0x0a <LF> \\n` while on Windows, `0x0d0a <CR><LF> \\r\\n` represents a new line. \n",
    "\n",
    "Within Python 3, the `open()` function has a parameter `newline` which controls how newlines are processed when reading in text files.  By default, universal newlines are enabled.  In this mode, lines can end with `\\n`, `\\r`, or `\\r\\n`.  Python will translate all of these to `\\n` before returning a value to caller.   \n",
    "\n",
    "When writing output to a file, any `\\n` characters are translated to tthe system default line separator, `os.linesep`, as the output is sent to a file.\n",
    "\n",
    "For both reading and writing, there are additional modes to force behavior if required.\n",
    "\n",
    "### Encodings\n",
    "Often times, text files can be created with different encodings to represent how text is stored for special characters (i.e., any characters that aren't ASCII).  By default, Python uses UTF-8 to encode files.   However, you may run across files stored in a different encoding (yes, Windows strikes again ...).  You'll need to figure out what the encoding and then open the file with by specifying the encoding argument to `open()` with the right value"
   ]
  },
  {
   "cell_type": "code",
   "execution_count": null,
   "id": "06d1c901",
   "metadata": {},
   "outputs": [],
   "source": [
    "with open(\"data/PakistanSuicideAttacks.csv\") as f:\n",
    "    for line in f:\n",
    "        print(line.strip())"
   ]
  },
  {
   "cell_type": "markdown",
   "id": "e1628781",
   "metadata": {},
   "source": [
    "We can use the chardet module to detect the type."
   ]
  },
  {
   "cell_type": "code",
   "execution_count": null,
   "id": "2180d86d",
   "metadata": {},
   "outputs": [],
   "source": [
    "import chardet\n",
    "with open(\"data/PakistanSuicideAttacks.csv\", 'rb') as rawdata:\n",
    "    result = chardet.detect(rawdata.read(100000))\n",
    "print(result)"
   ]
  },
  {
   "cell_type": "code",
   "execution_count": null,
   "id": "9c542099",
   "metadata": {},
   "outputs": [],
   "source": [
    "with open(\"data/PakistanSuicideAttacks.csv\",encoding='Windows-1252') as f:\n",
    "    for line in f:\n",
    "        print(line.strip())"
   ]
  },
  {
   "cell_type": "markdown",
   "id": "609dff1e",
   "metadata": {},
   "source": [
    "### Preferred Encoding \n",
    "To see the preferred enconding for our current platform / operating system, we can use the `locale` module and `getprefferredencoding()`"
   ]
  },
  {
   "cell_type": "code",
   "execution_count": null,
   "id": "5e4941f1",
   "metadata": {},
   "outputs": [],
   "source": [
    "import locale\n",
    "locale.getpreferredencoding() "
   ]
  },
  {
   "cell_type": "markdown",
   "id": "2cf6d245",
   "metadata": {},
   "source": [
    "## File Case Study: DJIA Returns and Statistics\n",
    "The following code reads a file containing the returns for the Dow Jones Industrial Average (DJIA) from 1886 to mid-2022.  The data in the file is stored in a [comma-separated values](https://en.wikipedia.org/wiki/Comma-separated_values) (CSV) format. In this format, data is separated by commas and records by newlines. Optionally, a header row may be present with the field names.\n",
    "<pre>\n",
    "Year,Return\n",
    "2022,-8.6\n",
    "2021,18.73\n",
    "2020,7.25\n",
    "2019,22.34\n",
    "2018,-5.63\n",
    "</pre>\n",
    "This file format is relatively common despite some of the flaws, non-standard versions, and flawed parsers (Microsoft Excel) that exist. The format is especially problematic with fields containing commas or newlines.\n",
    "\n",
    "Python does contain a [csv module](https://docs.python.org/3/library/csv.html) that you should use rather than trying to parse records yourself.  Another option for many data science related projects is to use the `read_csv()` function in [pandas](https://pandas.pydata.org/) - this toolset will be covered in later notebooks.\n",
    "\n",
    "To track the data, this implementation uses two [parallel arrays](https://en.wikipedia.org/wiki/Parallel_array) to track the data.  This approach is not best practice and, generally discouraged.  As practice, you should try to re-write this code using a dictionary where the key is the year and the value is the percentage return.\n",
    "\n",
    "The code below computes many descriptive statistics.  Try creating functions for these.  The functions should have a single parameter that is a list(sequence) of values. You should look also look at computing the [first quartile, third quartile, and quartile range](https://en.wikipedia.org/wiki/Interquartile_range)."
   ]
  },
  {
   "cell_type": "markdown",
   "id": "25e5149f",
   "metadata": {},
   "source": [
    "### Read and Parse the File"
   ]
  },
  {
   "cell_type": "code",
   "execution_count": null,
   "id": "76452f61",
   "metadata": {},
   "outputs": [],
   "source": [
    "returns = []\n",
    "years   = []\n",
    "with open(\"data/djia_returns_1886_2022.csv\") as f:\n",
    "    headerline = f.readline()\n",
    "    for line in f:\n",
    "        split_line = line.strip().split(\",\")\n",
    "        years.append(int(split_line[0]))\n",
    "        returns.append(float(split_line[1]))"
   ]
  },
  {
   "cell_type": "markdown",
   "id": "6a8f992d",
   "metadata": {},
   "source": [
    "### Computing Descriptive Statistics"
   ]
  },
  {
   "cell_type": "code",
   "execution_count": null,
   "id": "8c6c6b28",
   "metadata": {},
   "outputs": [],
   "source": [
    "returns_sorted = sorted(returns)\n",
    "total = sum(returns)\n",
    "mean  = total / len(returns)\n",
    "median = returns_sorted[len(returns)//2] if len(returns_sorted)%2 == 1 else (returns_sorted[len(returns)//2] + returns_sorted[1 +len(returns)//2])/2\n",
    "print (\"Mean(average):\",mean)\n",
    "print (\"Median:\",median)\n",
    "print (\"Min:\", returns_sorted[0])\n",
    "print (\"Max:\", returns_sorted[-1])\n",
    "print (\"Range:\", returns_sorted[-1] - returns_sorted[0] )"
   ]
  },
  {
   "cell_type": "code",
   "execution_count": null,
   "id": "3d14de93",
   "metadata": {},
   "outputs": [],
   "source": [
    "dif = 0\n",
    "for x in returns:\n",
    "    dif += (mean-x)**2\n",
    "population_variance = dif/len(returns)\n",
    "std_dev = population_variance**.5\n",
    "print (\"Population Variance:\", population_variance)\n",
    "print (\"Population Standard Deviation:\",std_dev) "
   ]
  },
  {
   "cell_type": "markdown",
   "id": "762e30a0",
   "metadata": {},
   "source": [
    "### Basic Analysis\n",
    "There are many questions we can ask of this data.  For instance, when did the DJIA have its best return?  worst return?"
   ]
  },
  {
   "cell_type": "code",
   "execution_count": null,
   "id": "99c72a31",
   "metadata": {},
   "outputs": [],
   "source": [
    "max_year_index = returns.index(returns_sorted[-1])\n",
    "print(\"Best year:\", years[max_year_index])\n",
    "print(\"Worst year:\", years[returns.index(returns_sorted[0])])"
   ]
  },
  {
   "cell_type": "markdown",
   "id": "9545aa1a",
   "metadata": {},
   "source": [
    "### Distribution\n",
    "Here we'll bring in a visualization library, [seaborn](https://seaborn.pydata.org/), to see the distribution of returns using a histogram. "
   ]
  },
  {
   "cell_type": "code",
   "execution_count": null,
   "id": "294f49da",
   "metadata": {},
   "outputs": [],
   "source": [
    "import seaborn as sns\n",
    "axes = sns.histplot(returns,bins=20)\n",
    "axes.set_title(\"Distribution of the DJIA Annual Returns: 1886-2022\")\n",
    "axes.set(xlabel='Percentage Return', ylabel='Count')"
   ]
  },
  {
   "cell_type": "markdown",
   "id": "47aa489f",
   "metadata": {},
   "source": [
    "It's not difficult to create visualizations when you can re-use code modules developed by others.  Probably the hardest part with many visualizations is simply getting data into the expected data format for the library."
   ]
  },
  {
   "cell_type": "markdown",
   "id": "2fb3309a",
   "metadata": {},
   "source": [
    "### Demonstration of the Central Limit Theorem for $\\bar{y}$\n",
    "The Central Limit Theorem(CLT) is one of the fundamental concepts in statistics.  CLT can be stated as \n",
    "\n",
    "\n",
    "Let $\\bar{y}$ denote the sample mean computed from a random sample of $n$ measurements from a population having a mean, $\\mu$, and standard deviation, $\\sigma$. \n",
    "Let $\\mu_\\bar{y}$ and $\\sigma_\\bar{y}$ denote the mean and standard deviation of the sampling distribution of $\\bar{y}$. Then\n",
    "1. $\\mu_\\bar{y} = \\mu$\n",
    "2. $\\sigma_\\bar{y} = \\sigma / \\sqrt{n}$\n",
    "3. As $n$ grows large, the sampling distribution becomes more normal.\n",
    "4. When the population distribution is normal, the sample distribution of $\\bar{y}$ is exactly normal for any sample size $n$.\n",
    "\n",
    "The following code block picks $n$ values from the population of DJIA returns.  It then computes the mean of that sample.  That process is repeated 5000 times.  Then the mean and standard deviation of the sample means are computed.  We then compare those to the population mean and the expected standard deviation from the CLT."
   ]
  },
  {
   "cell_type": "code",
   "execution_count": null,
   "id": "bd33f97c",
   "metadata": {},
   "outputs": [],
   "source": [
    "import random\n",
    "random.seed(42)   # apply a seed so that the result is reproducible.  If not present, defaults to current time  \n",
    "\n",
    "sample_means = []\n",
    "n = 25\n",
    "for y in range(5000):\n",
    "    picked = []\n",
    "    for x in range(n):\n",
    "        picked.append(returns[random.randrange(0,len(returns))])\n",
    "    sample_means.append(sum(picked)/len(picked))\n",
    "    \n",
    "sample_mean = sum(sample_means)/len(sample_means)\n",
    "\n",
    "dif_sample = 0\n",
    "for x in sample_means:\n",
    "    dif_sample += (sample_mean-x)**2\n",
    "sample_variance = dif_sample/(len(sample_means)-1)\n",
    "sample_std_dev = sample_variance**.5\n",
    "est_std_dev = std_dev / (n**.5)\n",
    "\n",
    "print(\"Population Mean:\",mean)\n",
    "print(\"Sample mean: \", sample_mean)\n",
    "print(\"Sample Standard Deviation:\",sample_std_dev) \n",
    "print(\"Estimated Standard Deviation:\", est_std_dev)    \n",
    "    \n",
    "axes = sns.histplot(sample_means,bins=20)\n",
    "axes.set_title(\"Mean of Random Sample Returns, n=\"+str(n))\n",
    "axes.set(xlabel='Mean(sample)', ylabel='Count')"
   ]
  },
  {
   "cell_type": "markdown",
   "id": "528fd97a",
   "metadata": {},
   "source": [
    "### Distribution of Gaussian Random Values\n",
    "This final code block pulls 5,000 random values from a Gaussian distribution where the mean and standard deviation are defined from the DJIA return values. [Documentation for random.gauss()](https://docs.python.org/3/library/random.html#random.gauss)"
   ]
  },
  {
   "cell_type": "code",
   "execution_count": null,
   "id": "74215e82",
   "metadata": {},
   "outputs": [],
   "source": [
    "random_values = []\n",
    "for x in range(5000):\n",
    "    random_values.append(random.gauss(mean, std_dev))\n",
    "axes = sns.histplot(random_values,bins=20)\n",
    "axes.set_title(\"Distribution of Gaussian Random Values\")\n",
    "axes.set(xlabel='Random Value', ylabel='Count')"
   ]
  },
  {
   "cell_type": "markdown",
   "id": "02949aa6",
   "metadata": {},
   "source": [
    "## Exercises \n",
    "1. For the current working directory, print each of the files on a separate line.  Each line should start with the size of that file in bytes, followed by a tab character, and then the name of the file. Subdirectories should not be displayed. After all of the lines have been, print a blank line and then this line: \n",
    "<pre>\n",
    "Directory size: XXXX\n",
    "</pre>\n",
    "where XXX is the total of all of the file sizes (excluding subdirectories).  The listing should be in sorted order of the files.\n",
    "\n",
    "2. Write a method with two parameters: filename and countdown.  Countdown is a positive integer.  Using a range function, write a file that looks like 10 9 8 7 6 5 4 3 2 1---BlastOff\n",
    "\n",
    "3. Write a method with one parameter - filename. The function reads a file produced by the function in the previous exercise.  it will read all of the numbers and produce their sum, printing the result to the console.\n",
    "4. Given then stocks in x files, which stock had the largest monetary day gain, which had the biggest % change (gain or loss).  which has performed the best since it's inception?"
   ]
  },
  {
   "cell_type": "code",
   "execution_count": null,
   "id": "43f3f31b",
   "metadata": {},
   "outputs": [],
   "source": []
  }
 ],
 "metadata": {
  "kernelspec": {
   "display_name": "Python 3 (ipykernel)",
   "language": "python",
   "name": "python3"
  },
  "language_info": {
   "codemirror_mode": {
    "name": "ipython",
    "version": 3
   },
   "file_extension": ".py",
   "mimetype": "text/x-python",
   "name": "python",
   "nbconvert_exporter": "python",
   "pygments_lexer": "ipython3",
   "version": "3.8.10"
  }
 },
 "nbformat": 4,
 "nbformat_minor": 5
}
