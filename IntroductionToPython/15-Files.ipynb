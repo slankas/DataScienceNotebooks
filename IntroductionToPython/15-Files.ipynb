{
 "cells": [
  {
   "cell_type": "markdown",
   "id": "a59b416e",
   "metadata": {},
   "source": [
    "<div class=\"pagebreak\"></div>\n",
    "\n",
    "# Files\n",
    "\n",
    "Files are one of the most ubiquitous abstractions for computers.  As users, we constantly interact with files to store our documents and other data.  We organize these files into directories (folders).  Directories can contain subdirectories to provide a hierarchical structure of various contents.  \n",
    "\n",
    "As with other programming languages, Python provides a rich set of functionality to interact with files and directories. Interacting with files will also be necessary to allow us to persist data. So far, we have just used variables that hold data in the computer's memory - such data will be lost when the program terminates.  By storing data in files, the information is placed (stored/persisted) on [secondary storage devices](https://en.wikipedia.org/wiki/Computer_data_storage#Secondary_storage) such as hard drives and USB sticks. \n",
    "\n",
    "We'll also use files to share data with other individuals and systems.  Such data is usually defined in common formats such as tab-delimited, comma-separated values(CSV), and JavaScript Object Notation(JSON).\n",
    "\n",
    "Python's view of files and directories is largely based from the Unix/Linux operating system variants.  [Overview of the Unix File System](https://web.archive.org/web/20210419161551/https://homepages.uc.edu/~thomam/Intro_Unix_Text/File_System.html)<br>\n",
    "(You should be familiar with all of the material on the \"Overview of the Unix File System\" page.\n",
    "\n",
    "Support for files is defined with Python's [io](https://docs.python.org/3/library/io.html) module\n"
   ]
  },
  {
   "cell_type": "markdown",
   "id": "fe92acfc",
   "metadata": {},
   "source": [
    "## Working with Files\n",
    "Generally to read or write files, you'll follow these steps.\n",
    "1. Open the file \n",
    "2. Read or write to the file\n",
    "3. Close the file once your are finished.\n",
    "\n",
    "Step1:<br>\n",
    "To open a file, use the built-in function [open()](https://docs.python.org/3/library/functions.html#open)\n",
    "\n",
    "```\n",
    "f = open(filename, mode)\n",
    "```\n",
    "`open()` returns a file object.  By default, a file is opened for reading as text file. i.e., mode='rt'.  "
   ]
  },
  {
   "cell_type": "markdown",
   "id": "660a02b1",
   "metadata": {},
   "source": [
    "This table contains the different modes that may be specified:\n",
    "\n",
    "| Character | Meaning\n",
    "| :--------:|:-------|\n",
    "'r'| open for reading (default)\n",
    "'w'| open for writing, truncating the file first\n",
    "'x'| open for exclusive creation, failing if the file already exists\n",
    "'a'| open for writing, appending to the end of file if it exists\n",
    "'b'| binary mode.  Specify in conjunction with 'r', 'w', 'x', or 'a'\n",
    "'t'| text mode (default). Specify in conjunction with 'r', 'w', 'x', or 'a'\n",
    "'+'| open for updating (reading and writing).  Rarely used. See [open()](https://docs.python.org/3/library/functions.html#open)\n"
   ]
  },
  {
   "cell_type": "markdown",
   "id": "cc692667",
   "metadata": {},
   "source": [
    "Step 2:<br>\n",
    "Read or write data to the file as necessary\n",
    "\n",
    "Step 3:<br>\n",
    "Finally, call `close()` to notify the operating system and interpreter that we are done with the file. The operating system can then release any allocated resources.\n",
    "```\n",
    "f.close()\n",
    "```"
   ]
  },
  {
   "cell_type": "markdown",
   "id": "f5a151d5",
   "metadata": {},
   "source": [
    "## Text Files\n",
    "Python views text files as a continuous stream of a stream data. By default, Python assumes the text data is represented with Unicode and stored within UTF-8 encoded files  \n",
    "\n",
    "### Creating a new text file\n",
    "The following code block opens a file called \"text.txt\" in the current directory for writing text.  The code block then shows 2 different ways of putting a string into the file. Finally, the last line closes the file."
   ]
  },
  {
   "cell_type": "code",
   "execution_count": null,
   "id": "4e8d09ef",
   "metadata": {},
   "outputs": [],
   "source": [
    "f = open(\"test.txt\", \"wt\")\n",
    "print('String message, print built-function, but specify the file', file=f)\n",
    "f.write('Another message, uses the write method of the file object')\n",
    "f.write(\"test\")\n",
    "f.close()"
   ]
  },
  {
   "cell_type": "markdown",
   "id": "95614440",
   "metadata": {},
   "source": [
    "If you examine the file in a text editor, you'll notice the file contains:\n",
    "```\n",
    "String message, print built-function, but specify the file\n",
    "Another message, uses the write method of the file objecttest\n",
    "```\n",
    "By default, `print()` adds a newline at the end of each call unless you specify a different value in the `end` parameter.\n",
    "\n",
    "The `write()` method does not add any newline characters - you will need to manually add newlines as needed."
   ]
  },
  {
   "cell_type": "markdown",
   "id": "367741f4",
   "metadata": {},
   "source": [
    "### Reading a text file\n",
    "To read a text file, we can use several different methods\n",
    "- `read()`\n",
    "- `readline()`\n",
    "- `readlines()`\n",
    "- an iterator\n",
    "\n",
    "`read()` with no arguments will read the entire contents of the file into a string.  As such, you'll need to be careful with large files as you may exhaust the available memory in the computer.  "
   ]
  },
  {
   "cell_type": "code",
   "execution_count": null,
   "id": "ddeba94a",
   "metadata": {},
   "outputs": [],
   "source": [
    "f = open(\"test.txt\", \"rt\")\n",
    "contents = f.read()\n",
    "f.close()\n",
    "print(contents)"
   ]
  },
  {
   "cell_type": "markdown",
   "id": "72760fb7",
   "metadata": {},
   "source": [
    "To limit the number of characters read from the file in one method call, you can specify the maximum number of characters to read at a time."
   ]
  },
  {
   "cell_type": "code",
   "execution_count": null,
   "id": "eacaaeee",
   "metadata": {},
   "outputs": [],
   "source": [
    "f = open(\"test.txt\", \"rt\")\n",
    "numCharacters = 20\n",
    "message = \"\"\n",
    "while True:\n",
    "    text = f.read(numCharacters)\n",
    "    if not text:    #string is empty, nothing else to read in the file\n",
    "        break\n",
    "    print(text,end=\"###\")\n",
    "    message += text\n",
    "f.close()\n",
    "print(\"\\n\\nNow, dispay the message:\")\n",
    "print(message)"
   ]
  },
  {
   "cell_type": "markdown",
   "id": "813b7de1",
   "metadata": {},
   "source": [
    "`readline()` will read a line at a time, returning the contents in a string. Any newline characters at the end of the line are kept in the returned string. If the end of the file is reached, an empty string is returned.  If a blank line exists, a string with a newline character is returned. This behavior allows for a string variable to be used a boolean in a condition check. If the string is non-empty (even just a newline), the string evaluates to true.  If the string is empty, the string evaluates to false in a condition check."
   ]
  },
  {
   "cell_type": "code",
   "execution_count": null,
   "id": "42223071",
   "metadata": {},
   "outputs": [],
   "source": [
    "f = open(\"test.txt\", \"rt\")\n",
    "while True:\n",
    "    line = f.readline()\n",
    "    if not line:    #string is empty, nothing else to read in the file\n",
    "        break\n",
    "    print(line)\n",
    "f.close()"
   ]
  },
  {
   "cell_type": "markdown",
   "id": "f49bf77b",
   "metadata": {},
   "source": [
    "Notice that in the above output, the newlines stored in the file are kept in the returned string.  If they were simply stripped from the return value, it would not be possible to distinguish between an empty line and the end of the file."
   ]
  },
  {
   "cell_type": "markdown",
   "id": "c8f34ef1",
   "metadata": {},
   "source": [
    "`readlines()` will read the entire contents of the file at once, returning a list where each element is a line from the file. Newline characters are not removed automatically."
   ]
  },
  {
   "cell_type": "code",
   "execution_count": null,
   "id": "6efaa458",
   "metadata": {},
   "outputs": [],
   "source": [
    "f = open(\"test.txt\", \"rt\")\n",
    "lines = f.readlines()\n",
    "f.close()\n",
    "for line in lines:\n",
    "    print(line.strip())    # stripe the newline character from the end of string \n"
   ]
  },
  {
   "cell_type": "markdown",
   "id": "778e0eed",
   "metadata": {},
   "source": [
    "Probably the most conventional way to ready a text file in Python is to use an iterator:"
   ]
  },
  {
   "cell_type": "code",
   "execution_count": null,
   "id": "2e13d9fe",
   "metadata": {},
   "outputs": [],
   "source": [
    "f = open(\"test.txt\", \"rt\")\n",
    "for line in f:\n",
    "    print(line.strip())\n",
    "f.close()"
   ]
  },
  {
   "cell_type": "markdown",
   "id": "f905779c",
   "metadata": {},
   "source": [
    "As before, this method keeps newline characters in the returned string.\n",
    "\n",
    "While we noted that not specifying a limit to the `read()` can lead to memory issues, the other methods may have issues as well depending upon the presence of new line characters to split apart the data read."
   ]
  },
  {
   "cell_type": "markdown",
   "id": "f11fc5cc",
   "metadata": {},
   "source": [
    "## Closing Files Automatically\n",
    "Unlike other programming languages, Python will close a file once it is no longer referenced (e.g., the file was opened in a function and the function has ended).  However, closing a file still serves two important purposes:\n",
    "1. Forces any remaining writes to be completed and \"flushed\" to the file.  \"Flushing\" forces any internal buffers used by the Python Interpreter to send any remaining data to the operating system to be stored. For performance reasons, Python and other programming languages will use buffers when reading and writing data; the buffers require less calls to the operating system to manipulate files.\n",
    "2. Clears any resources allocated to managing the open file\n",
    "\n",
    "Utilizing the `with` statement, Python relies upon context managers to automatically take action when a code block is entered and and then exited by automatically calling special methods `__enter__()` and `__exit__()`.\n",
    "\n",
    "Using objects defined with context managers can then take the form: \n",
    "<pre>\n",
    "with <i>expression</i> as <i>variable</i>:\n",
    "    <i>code block</i>\n",
    "</pre>\n"
   ]
  },
  {
   "cell_type": "code",
   "execution_count": null,
   "id": "dec66b69",
   "metadata": {},
   "outputs": [],
   "source": [
    "with open(\"test.txt\") as f:\n",
    "    for line in f:\n",
    "        print(line.strip())"
   ]
  },
  {
   "cell_type": "markdown",
   "id": "19237797",
   "metadata": {},
   "source": [
    "Behind the scenes, Python basically uses this equivalent code sequence:"
   ]
  },
  {
   "cell_type": "code",
   "execution_count": null,
   "id": "5c3feeef",
   "metadata": {},
   "outputs": [],
   "source": [
    "f = open(\"test.txt\")\n",
    "f.__enter__()\n",
    "for line in f:\n",
    "    print(line.strip())\n",
    "f.__exit__()             # closes the file"
   ]
  },
  {
   "cell_type": "markdown",
   "id": "14a2be3a",
   "metadata": {},
   "source": [
    "## Binary Files\n",
    "During this course, we'll primary use text files, but binary files are constantly used - images, videos, executables, specialized data files, etc. - in computer systems.\n",
    "\n",
    "To read and write data to binary files, we can use [bytes](https://docs.python.org/3/library/stdtypes.html#bytes-objects) and [bytearray](https://docs.python.org/3/library/stdtypes.html#bytearray-objects) objects.  Other APIs have been written on top of these types to provide richer capabilities.\n",
    "\n",
    "Literals can also be defined with byte strings. "
   ]
  },
  {
   "cell_type": "markdown",
   "id": "94d1a7e5",
   "metadata": {},
   "source": [
    "### Binary Example: IP Addresses\n",
    "\n",
    "The following code fragment resolves a domain name into an IP address.  As you visit various websites on the Internet, the computer performs this resolution such that it can send your request to the appropriate server.\n",
    "\n",
    "In this example, `socket.gethostbyname()` returns a string representation of the IP address.  For IPv4, address are composed of 4 parts, each with the value between 0 and 255.  So, each value is contained in a single byte and an IPv4 address can be represented with 4 bytes.  (IPv6 addresses are represented by 8 bytes.)   After printing out the value, the code converts it to bytes, which is an immutable sequence of byte values similar to a string. As such, we can uses indexes and slices just as we can with strings, tuples, and lists.\n",
    "\n",
    "When displaying byte string literals, Python will display an ASCII value if a number can be converted to a printable ASCII character otherwise, it displays the number as a hexadecimal value. Recall in one of the earlier notebooks, we presented the built-in function `chr()` to convert a number to the corresponding Unicode character. (ASCII characters are the same as the first 127 characters of Unicode.)"
   ]
  },
  {
   "cell_type": "code",
   "execution_count": null,
   "id": "135d06c0",
   "metadata": {},
   "outputs": [],
   "source": [
    "import socket\n",
    "addr = socket.gethostbyname('wsj.com')\n",
    "print(addr)\n",
    "ba = socket.inet_aton(addr)\n",
    "print(ba)\n",
    "print(ba[-1])\n",
    "print(chr(ba[0]), chr(ba[1]), chr(ba[2]), chr(ba[3]))"
   ]
  },
  {
   "cell_type": "markdown",
   "id": "1a795bee",
   "metadata": {},
   "source": [
    "### Writing to a Binary File"
   ]
  },
  {
   "cell_type": "code",
   "execution_count": null,
   "id": "ef7fc410",
   "metadata": {},
   "outputs": [],
   "source": [
    "with open(\"test_binary.dat\", 'wb') as f:\n",
    "    f.write(ba)"
   ]
  },
  {
   "cell_type": "markdown",
   "id": "33f6ceba",
   "metadata": {},
   "source": [
    "### Reading from a Binary File"
   ]
  },
  {
   "cell_type": "code",
   "execution_count": null,
   "id": "0b2db7d7",
   "metadata": {},
   "outputs": [],
   "source": [
    "with open(\"test_binary.dat\", 'rb') as f:\n",
    "    ip_address = f.read()\n",
    "print(ip_address)\n",
    "print(type(ip_address))\n",
    "print(socket.inet_ntoa(ip_address))    # convert the byte array to a string representation"
   ]
  },
  {
   "cell_type": "markdown",
   "id": "89cdc1af",
   "metadata": {},
   "source": [
    "##  Tricky Issues\n",
    "\n",
    "### Newline Characters\n",
    "One of the common issues when dealing with text files is that different platforms use different characters to signify a new line.  On Linux and MacOS, newlines are represented with just the bytecode `0x0a <LF> \\n` while on Windows, `0x0d0a <CR><LF> \\r\\n` represents a new line. \n",
    "\n",
    "Within Python 3, the `open()` function has a parameter `newline` which controls how newlines are processed when reading in text files.  By default, universal newlines are enabled.  In this mode, lines can end with `\\n`, `\\r`, or `\\r\\n`.  Python will translate all of these to `\\n` before returning a value to caller.   \n",
    "\n",
    "When writing output to a file, any `\\n` characters are translated to the system default line separator, `os.linesep`, as the output is sent to a file.\n",
    "\n",
    "For both reading and writing, there are additional modes to force how newlines are handled if required.\n",
    "\n",
    "### Encodings\n",
    "Often times, text files can be created with different encodings to represent how text is stored for special characters (i.e., any characters that aren't ASCII).  By default, Python uses UTF-8 to encode files.   However, you may run across files stored in a different encoding (yes, Windows strikes again ...).  You'll need to figure out what the encoding and then open the file with by specifying the encoding argument to `open()` with the right value"
   ]
  },
  {
   "cell_type": "code",
   "execution_count": null,
   "id": "06d1c901",
   "metadata": {},
   "outputs": [],
   "source": [
    "with open(\"data/PakistanSuicideAttacks.csv\") as f:\n",
    "    for line in f:\n",
    "        print(line.strip())"
   ]
  },
  {
   "cell_type": "markdown",
   "id": "e1628781",
   "metadata": {},
   "source": [
    "We can use the `chardet` module to detect the type."
   ]
  },
  {
   "cell_type": "code",
   "execution_count": null,
   "id": "2180d86d",
   "metadata": {},
   "outputs": [],
   "source": [
    "import chardet\n",
    "with open(\"data/PakistanSuicideAttacks.csv\", 'rb') as rawdata:\n",
    "    result = chardet.detect(rawdata.read(100000))\n",
    "print(result)"
   ]
  },
  {
   "cell_type": "code",
   "execution_count": null,
   "id": "9c542099",
   "metadata": {},
   "outputs": [],
   "source": [
    "with open(\"data/PakistanSuicideAttacks.csv\",encoding='Windows-1252') as f:\n",
    "    for line in f:\n",
    "        print(line.strip())"
   ]
  },
  {
   "cell_type": "markdown",
   "id": "609dff1e",
   "metadata": {},
   "source": [
    "### Preferred Encoding \n",
    "To see the preferred enconding for our current platform / operating system, we can use the `locale` module and `getprefferredencoding()`"
   ]
  },
  {
   "cell_type": "code",
   "execution_count": null,
   "id": "5e4941f1",
   "metadata": {},
   "outputs": [],
   "source": [
    "import locale\n",
    "locale.getpreferredencoding() "
   ]
  },
  {
   "cell_type": "markdown",
   "id": "2cf6d245",
   "metadata": {},
   "source": [
    "## File Case Study: DJIA Returns and Statistics\n",
    "The following code reads a file containing the returns for the Dow Jones Industrial Average (DJIA) from 1886 to mid-2022.  The data in the file is stored in a [comma-separated values](https://en.wikipedia.org/wiki/Comma-separated_values) (CSV) format. In this format, data is separated by commas and records by newlines. Optionally, a header row may be present with the field names.\n",
    "<pre>\n",
    "Year,Return\n",
    "2022,-8.6\n",
    "2021,18.73\n",
    "2020,7.25\n",
    "2019,22.34\n",
    "2018,-5.63\n",
    "</pre>\n",
    "This file format is relatively common despite some of the flaws, non-standard versions, and flawed parsers (Microsoft Excel) that exist. The format is especially problematic with fields containing commas or newlines.\n",
    "\n",
    "Python does contain a [csv module](https://docs.python.org/3/library/csv.html) that you should use rather than trying to parse records yourself.  Another option for many data science related projects is to use the `read_csv()` function in [pandas](https://pandas.pydata.org/) - this toolset will be covered in later notebooks.  Both of these existing capabilities handle many of the more challenging situations (dealing with strings containing commas and newlines) when parsing CSV files.\n",
    "\n",
    "To track the data, this implementation uses two [parallel arrays](https://en.wikipedia.org/wiki/Parallel_array) to track the data.  This approach is not best practice and, generally discouraged.  As practice, you should rewrite this code using a dictionary where the key is the year and the value is the percentage return.\n",
    "\n",
    "The code below computes many descriptive statistics.  Try creating functions for these.  The functions should have a single parameter that is a list(sequence) of values. You should look also look at computing the [first quartile, third quartile, and quartile range](https://en.wikipedia.org/wiki/Interquartile_range)."
   ]
  },
  {
   "cell_type": "markdown",
   "id": "25e5149f",
   "metadata": {},
   "source": [
    "### Read and Parse the File"
   ]
  },
  {
   "cell_type": "code",
   "execution_count": null,
   "id": "76452f61",
   "metadata": {},
   "outputs": [],
   "source": [
    "returns = []\n",
    "years   = []\n",
    "with open(\"data/djia_returns_1886_2022.csv\") as f:\n",
    "    headerline = f.readline()\n",
    "    for line in f:\n",
    "        split_line = line.strip().split(\",\")\n",
    "        years.append(int(split_line[0]))\n",
    "        returns.append(float(split_line[1]))"
   ]
  },
  {
   "cell_type": "markdown",
   "id": "6a8f992d",
   "metadata": {},
   "source": [
    "### Computing Descriptive Statistics"
   ]
  },
  {
   "cell_type": "code",
   "execution_count": null,
   "id": "8c6c6b28",
   "metadata": {},
   "outputs": [],
   "source": [
    "returns_sorted = sorted(returns)\n",
    "total = sum(returns)\n",
    "mean  = total / len(returns)\n",
    "median = returns_sorted[len(returns)//2] if len(returns_sorted)%2 == 1 else (returns_sorted[len(returns)//2] + returns_sorted[1 +len(returns)//2])/2\n",
    "print (\"Mean(average):\",mean)\n",
    "print (\"Median:\",median)\n",
    "print (\"Min:\", returns_sorted[0])\n",
    "print (\"Max:\", returns_sorted[-1])\n",
    "print (\"Range:\", returns_sorted[-1] - returns_sorted[0] )"
   ]
  },
  {
   "cell_type": "code",
   "execution_count": null,
   "id": "3d14de93",
   "metadata": {},
   "outputs": [],
   "source": [
    "dif = 0\n",
    "for x in returns:\n",
    "    dif += (mean-x)**2\n",
    "population_variance = dif/len(returns)\n",
    "std_dev = population_variance**.5\n",
    "print (\"Population Variance:\", population_variance)\n",
    "print (\"Population Standard Deviation:\",std_dev) "
   ]
  },
  {
   "cell_type": "markdown",
   "id": "762e30a0",
   "metadata": {},
   "source": [
    "### Basic Analysis\n",
    "There are many questions we can ask of this data.  For instance, when did the DJIA have its best return?  worst return?"
   ]
  },
  {
   "cell_type": "code",
   "execution_count": null,
   "id": "99c72a31",
   "metadata": {},
   "outputs": [],
   "source": [
    "max_year_index = returns.index(returns_sorted[-1])\n",
    "print(\"Best year:\", years[max_year_index])\n",
    "print(\"Worst year:\", years[returns.index(returns_sorted[0])])"
   ]
  },
  {
   "cell_type": "markdown",
   "id": "9545aa1a",
   "metadata": {},
   "source": [
    "### Distribution\n",
    "Here we'll bring in a visualization library, [seaborn](https://seaborn.pydata.org/), to see the distribution of returns using a histogram. "
   ]
  },
  {
   "cell_type": "code",
   "execution_count": null,
   "id": "294f49da",
   "metadata": {},
   "outputs": [],
   "source": [
    "import seaborn as sns\n",
    "axes = sns.histplot(returns,bins=20)\n",
    "axes.set_title(\"Distribution of the DJIA Annual Returns: 1886-2022\")\n",
    "axes.set(xlabel='Percentage Return', ylabel='Count')"
   ]
  },
  {
   "cell_type": "markdown",
   "id": "47aa489f",
   "metadata": {},
   "source": [
    "It's not difficult to create visualizations when you can re-use code modules developed by others.  Probably the hardest part with many visualizations is simply getting data into the expected data format for the library."
   ]
  },
  {
   "cell_type": "markdown",
   "id": "2fb3309a",
   "metadata": {},
   "source": [
    "### Demonstration of the Central Limit Theorem for $\\bar{y}$\n",
    "The Central Limit Theorem(CLT) is one of the fundamental concepts in statistics.  CLT can be stated as \n",
    "\n",
    "\n",
    "Let $\\bar{y}$ denote the sample mean computed from a random sample of $n$ measurements from a population having a mean, $\\mu$, and standard deviation, $\\sigma$. \n",
    "Let $\\mu_\\bar{y}$ and $\\sigma_\\bar{y}$ denote the mean and standard deviation of the sampling distribution of $\\bar{y}$. Then\n",
    "1. $\\mu_\\bar{y} = \\mu$\n",
    "2. $\\sigma_\\bar{y} = \\sigma / \\sqrt{n}$\n",
    "3. As $n$ grows large, the sampling distribution becomes more normal.\n",
    "4. When the population distribution is normal, the sample distribution of $\\bar{y}$ is exactly normal for any sample size $n$.\n",
    "\n",
    "The following code block picks $n$ values from the population of DJIA returns.  It then computes the mean of that sample.  That process is repeated 5000 times.  Then the mean and standard deviation of the sample means are computed.  We then compare those to the population mean and the expected standard deviation from the CLT."
   ]
  },
  {
   "cell_type": "code",
   "execution_count": null,
   "id": "bd33f97c",
   "metadata": {},
   "outputs": [],
   "source": [
    "import random\n",
    "random.seed(42)   # apply a seed so that the result is reproducible.  If not present, defaults to current time  \n",
    "\n",
    "sample_means = []\n",
    "n = 25\n",
    "for y in range(5000):\n",
    "    picked = []\n",
    "    for x in range(n):\n",
    "        picked.append(returns[random.randrange(0,len(returns))])\n",
    "    sample_means.append(sum(picked)/len(picked))\n",
    "    \n",
    "sample_mean = sum(sample_means)/len(sample_means)\n",
    "\n",
    "dif_sample = 0\n",
    "for x in sample_means:\n",
    "    dif_sample += (sample_mean-x)**2\n",
    "sample_variance = dif_sample/(len(sample_means)-1)\n",
    "sample_std_dev = sample_variance**.5\n",
    "est_std_dev = std_dev / (n**.5)\n",
    "\n",
    "print(\"Population Mean:\",mean)\n",
    "print(\"Sample mean: \", sample_mean)\n",
    "print(\"Sample Standard Deviation:\",sample_std_dev) \n",
    "print(\"Estimated Standard Deviation:\", est_std_dev)    \n",
    "    \n",
    "axes = sns.histplot(sample_means,bins=20)\n",
    "axes.set_title(\"Mean of Random Sample Returns, n=\"+str(n))\n",
    "axes.set(xlabel='Mean(sample)', ylabel='Count')"
   ]
  },
  {
   "cell_type": "markdown",
   "id": "528fd97a",
   "metadata": {},
   "source": [
    "### Distribution of Gaussian Random Values\n",
    "This final code block pulls 5,000 random values from a Gaussian distribution where the mean and standard deviation are defined from the DJIA return values. [Documentation for random.gauss()](https://docs.python.org/3/library/random.html#random.gauss)"
   ]
  },
  {
   "cell_type": "code",
   "execution_count": null,
   "id": "74215e82",
   "metadata": {},
   "outputs": [],
   "source": [
    "random_values = []\n",
    "for x in range(5000):\n",
    "    random_values.append(random.gauss(mean, std_dev))\n",
    "axes = sns.histplot(random_values,bins=20)\n",
    "axes.set_title(\"Distribution of Gaussian Random Values\")\n",
    "axes.set(xlabel='Random Value', ylabel='Count')"
   ]
  },
  {
   "cell_type": "markdown",
   "id": "02949aa6",
   "metadata": {},
   "source": [
    "## Exercises \n",
    "1. Write a method named `blastoff` with two parameters: filename and countdown.  Countdown is a positive integer.  Using a range function, write a file that looks like 10 9 8 7 6 5 4 3 2 1---BlastOff\n",
    "\n",
    "2. Write a method names `sum_blastoff_file` with one parameter - filename. The function reads a file produced by the function in the previous exercise.  it will read all of the numbers and produce their sum, printing the result to the console.\n",
    "\n",
    "3. Given then stocks in x files, which stock had the largest monetary day gain, which had the biggest % change (gain or loss).  which has performed the best since it's inception?\n",
    "\n",
    "TODO NEED to CREATE THIS FILE"
   ]
  },
  {
   "cell_type": "code",
   "execution_count": null,
   "id": "43f3f31b",
   "metadata": {},
   "outputs": [],
   "source": []
  }
 ],
 "metadata": {
  "kernelspec": {
   "display_name": "Python 3 (ipykernel)",
   "language": "python",
   "name": "python3"
  },
  "language_info": {
   "codemirror_mode": {
    "name": "ipython",
    "version": 3
   },
   "file_extension": ".py",
   "mimetype": "text/x-python",
   "name": "python",
   "nbconvert_exporter": "python",
   "pygments_lexer": "ipython3",
   "version": "3.10.4"
  }
 },
 "nbformat": 4,
 "nbformat_minor": 5
}
