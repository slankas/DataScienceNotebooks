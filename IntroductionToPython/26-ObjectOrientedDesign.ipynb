{
 "cells": [
  {
   "cell_type": "markdown",
   "id": "584173a4",
   "metadata": {},
   "source": [
    "<div class=\"pagebreak\"></div>\n",
    "\n",
    "# Object-Oriented Design\n"
   ]
  },
  {
   "cell_type": "code",
   "execution_count": null,
   "id": "1d1d1602",
   "metadata": {},
   "outputs": [],
   "source": []
  },
  {
   "cell_type": "markdown",
   "id": "e4248b33",
   "metadata": {},
   "source": [
    "## Principles\n",
    "\n",
    "### Abstraction\n",
    "Focusing on essential properties rather than inner details.\n",
    "\n",
    "\n",
    "Abstraction\n",
    "Abstraction: Focusing on essential properties rather than inner details.\n",
    "• A distancing between ideas and details.\n",
    "• We have been using Java Class Library objects without knowing how they work. (The object’s internals are like a black box.)\n",
    "• When creating our own new class, we are abstracting the functionality of the class for client programs Abstraction of Point:\n",
    "• You understand its external behavior.\n",
    "• You do not need to understand its inner details\n",
    "\n",
    "\n",
    "### Encapsulation\n",
    "bundling toget of data and related functions.  Contains information hiding\n",
    "\n",
    " Encapsulation – Hiding the implementation details of an object from the clients of the object.\n",
    "\n",
    "### Inheritance\n",
    "\n",
    "\n",
    "### Polymorphism\n"
   ]
  },
  {
   "cell_type": "markdown",
   "id": "bf1348b2",
   "metadata": {},
   "source": [
    "\n",
    "\n",
    "We've written relative small programs so far, but as you write larger programs you'll need to do ore design and planning work upfront.\n",
    "\n",
    "\n",
    "CRC cards\n",
    "\n",
    "design heuristics for finding things\n",
    "\n",
    "Determine the Classes\n",
    "• “Just as a noun is a person, place, or thing, so is an object.”\n",
    "• Begin by noting the nouns in the problem statement.\n",
    "• These nouns give us a good starting point for considering possible classes. – Not all nouns will become classes\n",
    "– Not all classes will correspond to nouns of problem statement.\n",
    "Determine Responsibilities of Each Class\n",
    "• “As the nouns indicate classes, the verbs of the problem statement help determine class responsibil- ities.”\n",
    "• Consider:\n",
    "– What service does the class provide?\n",
    "– What is each class’s responsibility?\n",
    "– What are the actions and behaviors of each class? – What attributes/fields?\n",
    "\n",
    "OO Design Considerations • Cohesion - The extent to which the code for a class represents a single abstraction.\n",
    "• Coupling - The degree to which one part of a program depends on another.\n",
    "\n",
    "A class should be cohesive, representing only one abstraction.\n",
    "•A class should avoid unnecessary coupling. •Related data and behavior should be in the same class."
   ]
  },
  {
   "cell_type": "markdown",
   "id": "0b29a832",
   "metadata": {},
   "source": [
    "Class Invariant – An assertion about an object’s state that is true for the lifetime of the object.\n",
    "\n",
    "\n"
   ]
  },
  {
   "cell_type": "code",
   "execution_count": null,
   "id": "3b9ddf93",
   "metadata": {},
   "outputs": [],
   "source": [
    "Software Design\n",
    "• Goal: decide the structure of the software and the hardware configurations that support it • How individual classes and software components work together in the software system\n",
    "• Software Artifacts: design documents, class diagrams, other UML diagrams"
   ]
  },
  {
   "cell_type": "markdown",
   "id": "9eb1aba3",
   "metadata": {},
   "source": [
    "UML Diagrams\n",
    "• UML: Unified Modeling Language\n",
    "– Models object-oriented software\n",
    "– Convergence from three earlier modeling languages ∗ OMT (James Rumbaugh)\n",
    "∗ OOSE (Ivar Jacobson)\n",
    "∗ Booch (Grady Booch)\n",
    "• Overseen by the Object Mentor Group (OMG): (www. omg.org)\n",
    "• Access modifiers\n",
    "– - or red square: private – + or green circle: public\n",
    "        \n",
    "        \n",
    "Class design best practices.    (I do like how she's included coupling and cohesion ...)        \n",
    "        \n",
    "• “Classes should be immutable unless there’s a very good reason to make them mutable... If a class cannot be made immutable, limit it’s mutability as much as possible.” - Joshua Bloch\n",
    "• Classes should have cohesion\n",
    "– The extent to which the code for a class represents a single abstraction – Allows for reusability of the class in other programs\n",
    "– For example\n",
    "∗ The Book class represents only things a book can do and knows. ∗ A Book should not perform console input and output\n",
    "• Classes should not have unnecessary dependencies\n",
    "– Coupling is the degree to which one part of a program depends on another – Related data and behavior should be in the same place (same class)\n",
    "        "
   ]
  },
  {
   "cell_type": "code",
   "execution_count": null,
   "id": "9965d52e",
   "metadata": {},
   "outputs": [],
   "source": [
    "## Aggregation composition\n",
    "\n",
    "has a"
   ]
  },
  {
   "cell_type": "code",
   "execution_count": null,
   "id": "d0787b12",
   "metadata": {},
   "outputs": [],
   "source": [
    "person - student\n",
    "      \\- employee\n",
    "    \n",
    "    \n",
    "    \n",
    "bankAccount(accountNumber, customer, balance, transactions).  Savings, checking, moneymarket\n",
    "\n",
    "transaction (id, status, datetime)\n",
    "- deposit :  check cash ach           checking: routing, account#, check#\n",
    "- withdrawels - check / ATM\n",
    "- transfers (source, dest, amount) "
   ]
  },
  {
   "cell_type": "code",
   "execution_count": null,
   "id": "5e6f9cde",
   "metadata": {},
   "outputs": [],
   "source": []
  }
 ],
 "metadata": {
  "kernelspec": {
   "display_name": "Python 3 (ipykernel)",
   "language": "python",
   "name": "python3"
  },
  "language_info": {
   "codemirror_mode": {
    "name": "ipython",
    "version": 3
   },
   "file_extension": ".py",
   "mimetype": "text/x-python",
   "name": "python",
   "nbconvert_exporter": "python",
   "pygments_lexer": "ipython3",
   "version": "3.10.4"
  }
 },
 "nbformat": 4,
 "nbformat_minor": 5
}
