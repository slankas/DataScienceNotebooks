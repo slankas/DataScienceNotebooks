{
 "cells": [
  {
   "cell_type": "markdown",
   "id": "163d5de3",
   "metadata": {},
   "source": [
    "# Tuples\n",
    "Tuples are sequences of values just like a list - the biggest difference is that tuples are immutable while lists are mutable.  In other words, we can not modify the sequence of values - any change creates a new tuple object.  \n",
    "\n",
    "Unlike lists, tuples are hashable so we can use them as keys within a dictionary (to be covered) in a later notebook.\n",
    "\n",
    "Tuple indexing, slicing, and comparison function identically to lists.\n",
    "\n",
    "To create a tuple, use a sequence of values separated by a comma.  Although not neccessary, the Python convention is to enclose tuples in parentheses. (Makes identification of tuples easier while reading code).  \n",
    "\n",
    "Also, as you can see below, both the interpreter and `print()` output parenthesis when displaying lists."
   ]
  },
  {
   "cell_type": "code",
   "execution_count": null,
   "id": "b2591d9d",
   "metadata": {},
   "outputs": [],
   "source": [
    "primes = 1,2,3,5,7,11,13,17,19\n",
    "primes"
   ]
  },
  {
   "cell_type": "code",
   "execution_count": null,
   "id": "75b7467a",
   "metadata": {},
   "outputs": [],
   "source": [
    "acc_schools = (\"Duke\", \"Notre Dame\", \"UNC\", \"NCSU\", \"Wake Forest\", \"Clemson\")\n",
    "print(acc_schools)"
   ]
  },
  {
   "cell_type": "code",
   "execution_count": null,
   "id": "566790a2",
   "metadata": {},
   "outputs": [],
   "source": [
    "primes = primes + tuple([24])\n",
    "print(primes)"
   ]
  },
  {
   "cell_type": "markdown",
   "id": "70fbe79d",
   "metadata": {},
   "source": [
    "A tuple can also be created using the built-in `tuple()` function. "
   ]
  },
  {
   "cell_type": "code",
   "execution_count": null,
   "id": "37d87560",
   "metadata": {},
   "outputs": [],
   "source": [
    "four_horseman = ['Death','Destruction','Pestilence','Famine']\n",
    "tuple(four_horseman)"
   ]
  },
  {
   "cell_type": "markdown",
   "id": "afdc4a1e",
   "metadata": {},
   "source": [
    "# Combining Tuples `+`"
   ]
  },
  {
   "cell_type": "markdown",
   "id": "63c8f24b",
   "metadata": {},
   "source": [
    "Just as we use `+` to concatenate strings and lists, we can also combine tuples with this operator"
   ]
  },
  {
   "cell_type": "code",
   "execution_count": null,
   "id": "ad6d2bf2",
   "metadata": {},
   "outputs": [],
   "source": [
    "('Death','Destruction','Pestilence') + ('Famine',)"
   ]
  },
  {
   "cell_type": "markdown",
   "id": "124d8e01",
   "metadata": {},
   "source": [
    "Notice that we had to use a comma `,` with nothing after it so that the Python would intepret the second expression as a tuple.  See what happens without the comma - "
   ]
  },
  {
   "cell_type": "code",
   "execution_count": null,
   "id": "8ec1efce",
   "metadata": {},
   "outputs": [],
   "source": [
    "('Death','Destruction','Pestilence') + ('Famine')"
   ]
  },
  {
   "cell_type": "markdown",
   "id": "53f96e26",
   "metadata": {},
   "source": [
    "As you can see, Python used the parenthesis to help determine the precedence order and considered the second expression a string."
   ]
  },
  {
   "cell_type": "markdown",
   "id": "c1b5c7bb",
   "metadata": {},
   "source": [
    "## Length\n",
    "We use the built-in function `len()` to count the number of items in the tuple."
   ]
  },
  {
   "cell_type": "code",
   "execution_count": null,
   "id": "6927fb8e",
   "metadata": {},
   "outputs": [],
   "source": [
    "len(primes)"
   ]
  },
  {
   "cell_type": "markdown",
   "id": "1f5a773d",
   "metadata": {},
   "source": [
    "The `tuple` class has far fewer methods than `list` - just `count()` and `index()` which function the same between the two types.\n",
    "\n",
    "## Indexing"
   ]
  },
  {
   "cell_type": "code",
   "execution_count": null,
   "id": "7a0beadc",
   "metadata": {},
   "outputs": [],
   "source": [
    "print(acc_schools[4])\n",
    "acc_schools[4] = \"test\""
   ]
  },
  {
   "cell_type": "markdown",
   "id": "c6c34d40",
   "metadata": {},
   "source": [
    "## Tuple assignment\n",
    "\n",
    "Python is one a of a growing number of languages that allow for multiple assignments to variables on the left side of an assignment statement.  By using a sequence such as a tuple or list on the left hand side, you can assign more than one variable at a time.  We saw an example of this earlier with the `divmod()` function that returns a tuple of the quotient and remainder."
   ]
  },
  {
   "cell_type": "code",
   "execution_count": null,
   "id": "676c8c1b",
   "metadata": {},
   "outputs": [],
   "source": [
    "quotient, remainder = divmod(10,3)\n",
    "print(f\"{quotient=}, {remainder=}\")"
   ]
  },
  {
   "cell_type": "markdown",
   "id": "efd8d190",
   "metadata": {},
   "source": [
    "Formally, this is called [parallel assignment](https://en.wikipedia.org/wiki/Assignment_(computer_science)#Parallel_assignment).\n",
    "\n",
    "In addition to allowing multiple return variables from a function, an ingenious use of tuple assignment is to swap the value of two variables in a single time. Many other languages require a temporary variable."
   ]
  },
  {
   "cell_type": "code",
   "execution_count": null,
   "id": "98fe5235",
   "metadata": {},
   "outputs": [],
   "source": [
    "a = 5\n",
    "b = 7\n",
    "a, b = b, a\n",
    "print(f\"{a=}, {b=}\")\n",
    "\n",
    "# for other languages without parallel assignment\n",
    "swap = a\n",
    "a = b\n",
    "b = swap\n",
    "print(f\"{a=}, {b=}\")"
   ]
  },
  {
   "cell_type": "markdown",
   "id": "11822ac8",
   "metadata": {},
   "source": [
    "In `a, b = b, a`, both sides of the assignment are tuples.  The right side is a tuple of expressions which is evaluated completedly before any assignments are made to the tuples of variables on the left.  The sizes of both tuples must be the same.\n",
    "\n",
    "Technically, the right side can contain any kind of a sequence.  As an example, we can split an email address into two parts by using the '@' symbol.\n",
    "\n",
    "More generally, the right side can be any kind of sequence (string, list, or tuple). For example, to split an email address into a user name and a domain, you could write: >>> addr = monty@python.org >>> uname, domain = addr.split(@)"
   ]
  },
  {
   "cell_type": "code",
   "execution_count": null,
   "id": "a6d57339",
   "metadata": {},
   "outputs": [],
   "source": [
    "email = \"administrator@thedomain.com\"\n",
    "(name, domain) = email.split('@')\n",
    "print(f\"{name=}, {domain=}\")"
   ]
  },
  {
   "cell_type": "markdown",
   "id": "9feb7589",
   "metadata": {},
   "source": [
    "## Sequences Redux \n",
    "So far we have seen three different types of sequences - strings, lists, and tuples. In some cases, it is possible to use the tpyes interchangeably (albeit less so with strings as compared to lists and tuples).\n",
    "\n",
    "So how do we choose when to use a particular sequence type?\n",
    "- Strings are the most limited as they are sequence of characters and immutable.  If you are just representing text, they are the perfect choice.  However, if you need to change the characters in a string, then a list of characters might work.\n",
    "- Lists tend to be used more often than tuples as they are mutable.\n",
    "- In return statements, it is generally simpler to create a tuple than a list.\n",
    "- If you need to use a sequence as a dictionary key, you have to use an immutable type (string,tuple)\n",
    "- If you are passing arguments to a function, using tuples can reduce to possibility of unwanted side effects as they can not be modified and their values remain unchanged to the caller.\n"
   ]
  },
  {
   "cell_type": "markdown",
   "id": "063830d7",
   "metadata": {},
   "source": [
    "## Exercises\n",
    "1. Given the following tuple ('AAPL', 157.96, 88_140_000) assign the items to three variables and then print the values\n",
    "\n",
    "2. Test if the stock symbol \"BAC\" is in the data tuple.\n",
    "\n",
    "3. Using the following tuple, create a new tuple of the 3rd to 5th elements.<br>\n",
    "```\n",
    "acc_schools = (\"Duke\", \"Notre Dame\", \"UNC\", \"NCSU\", \"Wake Forest\", \"Clemson\")\n",
    "```"
   ]
  }
 ],
 "metadata": {
  "kernelspec": {
   "display_name": "Python 3 (ipykernel)",
   "language": "python",
   "name": "python3"
  },
  "language_info": {
   "codemirror_mode": {
    "name": "ipython",
    "version": 3
   },
   "file_extension": ".py",
   "mimetype": "text/x-python",
   "name": "python",
   "nbconvert_exporter": "python",
   "pygments_lexer": "ipython3",
   "version": "3.8.10"
  }
 },
 "nbformat": 4,
 "nbformat_minor": 5
}
