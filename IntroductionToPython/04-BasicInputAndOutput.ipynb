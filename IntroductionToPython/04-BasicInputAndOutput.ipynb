{
 "cells": [
  {
   "cell_type": "markdown",
   "id": "3b317941",
   "metadata": {},
   "source": [
    "# Basic Input and Output\n",
    "Programs that don't alter their input based upon any type of input are really quite boring - they'll just keep doing the same thing, time and time again.  A program's usefulness increases exponentially with the input the code can receive and process.\n",
    "\n",
    "With the exception of the code presented in first module, we have not received any input.  If we need to change the behavior of the program, we need to change the program.  \n",
    "\n",
    "In this Python notebook, we'll present a basic mechanism to get input from the console (aka the user's keyboard). From a technical standpoint, this is considered \"standard input\" / \"stdin\", which we'll examine later in this course."
   ]
  },
  {
   "cell_type": "markdown",
   "id": "659cc084",
   "metadata": {},
   "source": [
    "## Input\n",
    "As programs often require users to provide data, we can get input from the user through using Python's built-in function ```input()```.     \n",
    "\n",
    "[Python documentation for input](https://docs.python.org/3/library/functions.html#input)\n",
    "\n",
    "```input()``` takes an optional argument, which is the prompt to the user.  This prompt is written to the console / screen (\"standard output\" / \"stdout\") without a trailing newline.  ```input()``` will pause the program execution and wait for the user to enter a value and then type the enter key.  The return character is stripped from the result.  The result is of type string.\n",
    "\n"
   ]
  },
  {
   "cell_type": "code",
   "execution_count": null,
   "id": "bffc7c05",
   "metadata": {},
   "outputs": [],
   "source": [
    "print(\"Hello, my name is Hal 9000.\")\n",
    "name = input(\"What is your name?\")\n",
    "print(\"It is nice to meet you,\", name)"
   ]
  },
  {
   "cell_type": "code",
   "execution_count": null,
   "id": "7faffdfd",
   "metadata": {},
   "outputs": [],
   "source": [
    "print(\"Enter two numbers to add (try 1968 and 2001):\")\n",
    "num_1 = input(\"first number: \")\n",
    "num_2 = input(\"second number: \")\n",
    "print(num_1 + num_2)"
   ]
  },
  {
   "cell_type": "markdown",
   "id": "91907181",
   "metadata": {},
   "source": [
    "whoa...   That wasn't the result we expected.  I thought adding 1968 and 2001 would be 3969....\n",
    "\n",
    "_Remember_, ```input()``` always returns a string.  To use the input value as a number value, we need to convert it using ```int()``` or ```float()``` as presented in the previous notebook."
   ]
  },
  {
   "cell_type": "code",
   "execution_count": null,
   "id": "858864e6",
   "metadata": {},
   "outputs": [],
   "source": [
    "print(\"Enter two numbers to add:\")\n",
    "string_1 = input(\"first number: \")\n",
    "num_1 = int(string_1)\n",
    "num_2 = int(input(\"second number: \"))\n",
    "print(num_1 + num_2)"
   ]
  },
  {
   "cell_type": "markdown",
   "id": "aba64685",
   "metadata": {},
   "source": [
    "Much better.  \n",
    "\n",
    "One thing to notice is that in the first input value, we first assigned the value to a variable containing a string, and then converted that to another variable containing an int.  For the second input value, we directly converted the input string to an integer without using an intermediary value.  \n",
    "\n",
    "Beginners might find the first pattern more comforting as one can see more explicitly what occurs (and it's also a little easier when debugging programs to see values.  We'll discuss debugging when we discuss IDEs (specifically Visual Studio Code).  However, most advanced programmers will tend to use the second pattern as the code is shorter.\n",
    "\n",
    "Now what occurs if we ask the user to enter a number, but they enter a string instead?"
   ]
  },
  {
   "cell_type": "code",
   "execution_count": null,
   "id": "139fa83c",
   "metadata": {},
   "outputs": [],
   "source": [
    "year = int(input(\"Enter the year your were born: \"))"
   ]
  },
  {
   "cell_type": "markdown",
   "id": "ec115a53",
   "metadata": {},
   "source": [
    "As we saw, in the previous notebook, we receive a \"ValueError\".  In later modules, we learn how to proved more robust error handling mechanisms."
   ]
  },
  {
   "cell_type": "markdown",
   "id": "c28a1ac3",
   "metadata": {},
   "source": [
    "## Output\n",
    "The primary method we use to print output to the console for a user to see is through the ```print()``` method."
   ]
  },
  {
   "cell_type": "code",
   "execution_count": null,
   "id": "58557dbd",
   "metadata": {},
   "outputs": [],
   "source": [
    "help(print)"
   ]
  },
  {
   "cell_type": "markdown",
   "id": "2e04b83a",
   "metadata": {},
   "source": [
    "While all our examples with ```print()``` have used a single argument, we can pass multiple variables and literal values to the function.  Additionally, we can override defaults for the separator value used between passed values, the string appended after the last value, where the output goes (sys.stdout) and whether or not flush - forcibly make the stream write the passed output values."
   ]
  },
  {
   "cell_type": "code",
   "execution_count": null,
   "id": "5ddcb552",
   "metadata": {},
   "outputs": [],
   "source": [
    "print(1,2,3,4,5,sep=':')"
   ]
  },
  {
   "cell_type": "markdown",
   "id": "abbefa29",
   "metadata": {},
   "source": [
    "## Readability\n",
    "Programmers use a number of different conventions to improve code readability.  You have already seen how descriptive variable names can make their purpose clear.\n",
    "\n",
    "### Docstrings\n",
    "Docstrings are strings contained within triple double quotes.  Ideally, these should be written for all public modules, functions, classes, and methods.  We'll also use them at the top of each script file to explain to that script's purpose. \n",
    "[Documentation Strings](https://peps.python.org/pep-0008/#documentation-strings)\n",
    "\n",
    "```\"\"\"Provides a simple mortgage calculator to compute the payment for a 30-year fixed mortgage\"\"\"```\n",
    "\n",
    "IDEs, other programming environments, and Python's ```help()``` function use the contents of these docstrings.\n",
    "\n",
    "### Comments\n",
    "As with most other programming languages, Python allows comments in be placed in comments. \n",
    "\n",
    "Comments start with a ```#``` and go to the end of the line.  Python ignores the anything in a comments.\n",
    "\n",
    "Use comments to \n",
    "- explain code\n",
    "- make code more readable\n",
    "- clarifying constants\n",
    "- prevent executing lines (place a ```#``` before any code in the line) while manually testing code\n",
    "- as a placemarker for a \"To Do\" item\n"
   ]
  },
  {
   "cell_type": "code",
   "execution_count": null,
   "id": "e2793f6b",
   "metadata": {},
   "outputs": [],
   "source": [
    "seconds_per_day = 86400   #  60 seconds/minute * 60 minutes/hour * 24 hours/day\n",
    "\n",
    "# Demonstrates that the type returned by input() is a string\n",
    "# Try using 1968 and 2001.  While we might expect 3969 to be return 19682001 will be printed\n",
    "print(\"Enter two numbers to add:\")\n",
    "num_1 = input(\"first number: \")\n",
    "num_2 = input(\"second number: \")\n",
    "print(num_1 + num_2)\n",
    "print(type(num_1))"
   ]
  },
  {
   "cell_type": "markdown",
   "id": "ff8673c3",
   "metadata": {},
   "source": [
    "[Best Practices for Writing Code Comments](https://stackoverflow.blog/2021/12/23/best-practices-for-writing-code-comments/)"
   ]
  },
  {
   "cell_type": "markdown",
   "id": "3e8db136",
   "metadata": {},
   "source": [
    "### Whitespace\n",
    "To separate logical blocks of code, you can use blank lines, which Python ignores.  Additionally, you can use space characters before and after operators, keywords, and variables to make code easier to read.\n",
    "\n",
    "### Splitting Lengthy Statements\n",
    "[By convention](https://peps.python.org/pep-0008/#maximum-line-length), the maximum suggested length for python lines of code is 79 characters. This allows for several files to be opened side by side as well as using code review tools that present two versions in adjacent comments.  Some teams may chose to adopt a longer standard.\n",
    "\n",
    "To spread a length statement over several lines, end each line that needs to be continued with a ```\\```.\n",
    "\n",
    "Function and method calls can also be split after the commas in the arguments."
   ]
  },
  {
   "cell_type": "code",
   "execution_count": null,
   "id": "4944d0c2",
   "metadata": {},
   "outputs": [],
   "source": [
    "sum_of_numbers = 1 + \\\n",
    "                 2 + \\\n",
    "                 3 + \\\n",
    "                 4 + \\\n",
    "                 5\n",
    "print(\"Here is the sum of numbers -\",\n",
    "      sum_of_numbers)"
   ]
  },
  {
   "cell_type": "markdown",
   "id": "12f63fc3",
   "metadata": {},
   "source": [
    "## Case Study: Systematic Investment Plan Calculator\n",
    "\n",
    "In the second notebook, we presented a design process with the goal to produce these parts of a design:\n",
    "* Inputs to the routine\n",
    "* Outputs from the routine\n",
    "* Pseudocode (steps in the routine).\n",
    "\n",
    "The design process followed Seven Steps:[1]\n",
    "![](images/sevensteps.png)"
   ]
  },
  {
   "cell_type": "markdown",
   "id": "17ce0d7b",
   "metadata": {},
   "source": [
    "Now let's take a look at that process for creating a systematic investment plan (SIP) calculator. A SIP is an investment product offered by many mutual fund companies. Investors put a fixed amount of money into the SIP periodically (e.g., monthly) to help promote financial discipline as well as a form of dollar cost averaging.\n",
    "\n",
    "\n",
    "$ FV = P \\times \\dfrac{(1+i)^n - 1}{i} \\times (1 +i) $  \n",
    "\n",
    "- $FV$ is the future value\n",
    "- $P$ is the amount invested at the start of every payment interval\n",
    "- $i$ is the periodic interest rate; for a monthly payment, take the (Annual Rate)/12\n",
    "- $n$ is the number of payments\n",
    "\n",
    "So our goal is to develop a calculator in which the users enters investment amount, number of payments, and periodic interest rate.  The calculator then produces the future value amount and displays to the users.  \n",
    "\n",
    "Step 1: We open up the calculator app on our smartphone and calculate the future value of $\\$100$ payments made for 360 months assuming and annual return of $7%$ (historical average of the DJIA).  Periodic rate = .07/12 = 0.00583.  \n",
    "\n",
    "$ 100 * ((1+0.00583)^{360} -1 )/.00583 * (1+0.00583) = 122,708.50$\n",
    "\n",
    "Step 2: Document our steps\n",
    "1. Get the payment amount\n",
    "2. Get the number of payments\n",
    "3. Get the annual interest rate\n",
    "4. Convert the annual interest rate into our periodic investment rate (monthly)\n",
    "5. Calculate the future value\n",
    "6. Display the result to the user\n",
    "\n",
    "Step 3: Generalize our steps\n",
    "We're pretty much done already here, just list the inputs and outputs - the steps are pretty much the same.\n",
    "- Inputs: payment amount, number of payments, and annual interest rate.  \n",
    "- Outputs future value."
   ]
  },
  {
   "cell_type": "markdown",
   "id": "6b1cec3a",
   "metadata": {},
   "source": [
    "Step 4: Manually test our generic process.  \n",
    "\n",
    "As you start this step, look to develop a set of cases that will thoroughly test your process. Start with the expected inputs.  For this problem, payments could be a reasonable amount to save every month. Yes, this depends on your income.  Let's choose $100.  For the number of payments, assume we are saving for retirement.  This is going to vary by age, let's use 30 years. Investing sales pitches like to use these longer time frames as they demonstrate the time value of money and the power of compound interest.  For the interest rate, we chose 7% as it's the historical average of the DJIA.  Compute the amount.\n",
    "\n",
    "Now look to find interesting test cases (i.e., different numbers for inputs) that could discover potential problems.  One approach could be to look at the boundary values.  Often for numbers, this will occur around 0.  So use -1,0,1 for the interest rates as possibilities.  At the same, you will also need to consider whether or not two test cases are basically equivalent. Do we expect to see a difference between 1% and 7%?  Probably not.  \n",
    "\n",
    "Looking at the boundaries is more formally called \"boundary value analysis\".  People widely recognize that values at the extreme  ends of the input possibilities tend to cause more errors.  Zero also tends to be problematic.\n",
    "\n",
    "- [Challenge of Flying Below Sea Level](https://avgeekery.com/challenge-flying-sea-level/)\n",
    "- [Division by Zero on a Navy Ship](https://web.archive.org/web/20171001212153/https://www.wired.com/1998/07/sunk-by-windows-nt/)\n",
    "\n",
    "Considering two input values to be \"equivalent\" is called \"equivalence partitioning\" and is a method use to reduce the total number of test cases to a more manageable number.  As interests rates are floats, does it makes sense to exhaustive test all possible values?  .01, .02, .03, .031, .032, .03201, .032001    No - there's no value add to exhaustiving enumerating these values.  Let's do a couple and do something with more potential.\n",
    "\n",
    "What happens if we use -0.01 as the interest rate?  Calculation returns \\$31,087.00 - seems plausible.\n",
    "\n",
    "What happens with 0?  Oops, we just divided by zero.  Good thing we are not on that navy ship suffering the [blue screen of death](https://en.wikipedia.org/wiki/Blue_screen_of_death).\n",
    "\n",
    "Step 5: Code\n",
    "\n",
    "Step 6: Test\n",
    "\n",
    "Step 7: Debug\n",
    "\n",
    "In the following code blocks we'll run through the process of converting our pseudocode into code, testing, and making fixes.  These three steps are inherently iterative."
   ]
  },
  {
   "cell_type": "markdown",
   "id": "7fae6fae",
   "metadata": {},
   "source": [
    "As you begin to write code, you should not attempt to write the entire process at once.  Rather, write a few steps, test those, and make any changes to get that smaller piece of code working.  Then continue to write more of the steps for your process."
   ]
  },
  {
   "cell_type": "code",
   "execution_count": null,
   "id": "972e0f52",
   "metadata": {},
   "outputs": [],
   "source": [
    "payment = input(\"Enter the periodic payment: \")\n",
    "annual_rate = input(\"Enter the annual rate: \")\n",
    "periodic_rate = annual_rate / 12\n",
    "print(periodic_rate)"
   ]
  },
  {
   "cell_type": "markdown",
   "id": "aa7734cc",
   "metadata": {},
   "source": [
    "Oops, we forgot to convert our input values (which are strings) to floats"
   ]
  },
  {
   "cell_type": "code",
   "execution_count": null,
   "id": "ad0a56e2",
   "metadata": {},
   "outputs": [],
   "source": [
    "payment = float(input(\"Enter the periodic payment: \"))\n",
    "annual_rate = float(input(\"Enter the annual rate: \"))\n",
    "periodic_rate = annual_rate / 12\n",
    "print(periodic_rate)"
   ]
  },
  {
   "cell_type": "markdown",
   "id": "45a9445c",
   "metadata": {},
   "source": [
    "Good.  That's working now"
   ]
  },
  {
   "cell_type": "code",
   "execution_count": null,
   "id": "e6f6b504",
   "metadata": {},
   "outputs": [],
   "source": [
    "payment = float(input(\"Enter the periodic payment: \"))\n",
    "num_payments = int(inpt(\"Enter the number of payments: \"))\n",
    "periodic_rate = float(input(\"Enter the annual rate: \"))/12\n",
    "\n",
    "future_value = payment *  ((1+periodic_rate)^360 -1)/periodic_rate * (1+periodic_rate)\n",
    "print(future_value)"
   ]
  },
  {
   "cell_type": "markdown",
   "id": "acd3477b",
   "metadata": {},
   "source": [
    "sigh,  misspelled `input`"
   ]
  },
  {
   "cell_type": "code",
   "execution_count": null,
   "id": "7bc59be5",
   "metadata": {},
   "outputs": [],
   "source": [
    "payment = float(input(\"Enter the periodic payment: \"))\n",
    "num_payments = int(input(\"Enter the number of payments: \"))\n",
    "periodic_rate = float(input(\"Enter the annual rate: \"))/12\n",
    "\n",
    "future_value = payment *  ((1+periodic_rate)^360 -1)/periodic_rate * (1+periodic_rate)\n",
    "print(future_value)"
   ]
  },
  {
   "cell_type": "markdown",
   "id": "8ae4cd6f",
   "metadata": {},
   "source": [
    "`^` is not the correct operator for exponention.  Geez,  that's what it is for Visual Basic.  *looks through past notebooks*.  Oh that's right, `**` is the exponention operator in Python."
   ]
  },
  {
   "cell_type": "code",
   "execution_count": null,
   "id": "fe562d79",
   "metadata": {},
   "outputs": [],
   "source": [
    "payment = float(input(\"Enter the periodic payment: \"))\n",
    "num_payments = int(input(\"Enter the number of payments: \"))\n",
    "periodic_rate = float(input(\"Enter the annual rate: \"))/12\n",
    "\n",
    "future_value = payment *  ((1+periodic_rate)**360 -1)/periodic_rate * (1+periodic_rate)\n",
    "print(future_value)"
   ]
  },
  {
   "cell_type": "markdown",
   "id": "ce672645",
   "metadata": {},
   "source": [
    "That's looking good, but can we format the output better?  (String formatting is presented in a few more notebooks)"
   ]
  },
  {
   "cell_type": "code",
   "execution_count": null,
   "id": "0ee6981f",
   "metadata": {},
   "outputs": [],
   "source": [
    "payment = float(input(\"Enter the periodic payment: \"))\n",
    "num_payments = int(input(\"Enter the number of payments: \"))\n",
    "periodic_rate = float(input(\"Enter the annual rate: \"))/12\n",
    "\n",
    "future_value = payment *  ((1+periodic_rate)**360 -1)/periodic_rate * (1+periodic_rate)\n",
    "print(\"Future value: ${:,.2f}\".format(future_value))"
   ]
  },
  {
   "cell_type": "markdown",
   "id": "c05207f5",
   "metadata": {},
   "source": [
    "Now, try some more test cases.  What happens with a large interest rate?  We **want** to be rich after all.                   "
   ]
  },
  {
   "cell_type": "code",
   "execution_count": null,
   "id": "1389f6ce",
   "metadata": {
    "scrolled": true
   },
   "outputs": [],
   "source": [
    "payment = float(input(\"Enter the periodic payment: \"))\n",
    "num_payments = int(input(\"Enter the number of payments: \"))\n",
    "periodic_rate = float(input(\"Enter the annual rate: \"))/12\n",
    "\n",
    "future_value = payment *  ((1+periodic_rate)**360 -1)/periodic_rate * (1+periodic_rate)\n",
    "print(\"Future value: ${:,.2f}\".format(future_value))"
   ]
  },
  {
   "cell_type": "markdown",
   "id": "18ba5cb3",
   "metadata": {},
   "source": [
    "We received an overflow error as our number was too large for Python to represent as a float number.  You should try 0 for the interest as well.  That will cause a division by zero error.  Don't worry about these cases now.  In later notebooks, we'll examine how to make our code more robust through input validation and exception handling.  Conveniently in the next notebook, we discuss making decisions in our code with the `if` statement. If we had that now, we could test if the interest rate equals zero and then compute the future value as the number of payments * payment amount."
   ]
  },
  {
   "cell_type": "markdown",
   "id": "61092144",
   "metadata": {},
   "source": [
    "Reflecting on the above example, we assumed the periods were months.  How could you generalize that?  What changes would need to be made?"
   ]
  },
  {
   "cell_type": "markdown",
   "id": "283daca7",
   "metadata": {},
   "source": [
    "## Exercises\n",
    "1) What's wrong with this code?\n",
    "```\n",
    "interest_rate = input(\"Enter an interest rate\")\n",
    "print(\"On 1000 dollars, you will owe \", 1000 * interest_rate)\n",
    "```\n",
    "\n",
    "2) Using the formula for compound interest.  Have the user enter the initial principal, interest rate, and number of years.  Assume the interest is compounded monthly."
   ]
  },
  {
   "cell_type": "markdown",
   "id": "6a63a86e",
   "metadata": {},
   "source": [
    "3) Write a program to determine the monthly payment for a 30 year mortgage for an initial principal amount and interest rate that the user specifies.\n",
    "\n",
    "$ A = P \\times \\dfrac{r(1+r)^n}{(1+r)^n - 1} $  \n",
    "\n",
    "- $A$ is the periodic amortization payment\n",
    "- $P$ is the principal amount borrowed\n",
    "- $r$ is the rate of interest expressed as a fraction; for a monthly payment, take the (Annual Rate)/12\n",
    "- $n$ is the number of payments; for monthly payments over 30 years, 12 months x 30 years = 360 payments.\n",
    "\n",
    "[Formula](https://en.wikipedia.org/wiki/Mortgage_loan#Principal_and_interest)"
   ]
  },
  {
   "cell_type": "markdown",
   "id": "47067e49",
   "metadata": {},
   "source": [
    "4) Correct the issues in the following cell:"
   ]
  },
  {
   "cell_type": "markdown",
   "id": "61674eea",
   "metadata": {},
   "source": [
    "## References\n",
    "[1] Andrew D. Hilton, Genevieve M. Lipp, and Susan H. Rodger. 2019. _Translation from Problem to Code in Seven Steps_. In Proceedings of the ACM Conference on Global Computing Education (CompEd '19). Association for Computing Machinery, New York, NY, USA, 78–84. https://doi-org.prox.lib.ncsu.edu/10.1145/3300115.3309508"
   ]
  }
 ],
 "metadata": {
  "kernelspec": {
   "display_name": "Python 3 (ipykernel)",
   "language": "python",
   "name": "python3"
  },
  "language_info": {
   "codemirror_mode": {
    "name": "ipython",
    "version": 3
   },
   "file_extension": ".py",
   "mimetype": "text/x-python",
   "name": "python",
   "nbconvert_exporter": "python",
   "pygments_lexer": "ipython3",
   "version": "3.8.10"
  }
 },
 "nbformat": 4,
 "nbformat_minor": 5
}
