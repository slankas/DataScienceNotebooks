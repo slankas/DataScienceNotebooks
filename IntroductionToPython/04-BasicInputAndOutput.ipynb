{
 "cells": [
  {
   "cell_type": "markdown",
   "id": "3b317941",
   "metadata": {},
   "source": [
    "<div class=\"pagebreak\"></div>\n",
    "\n",
    "# Basic Input and Output\n",
    "Programs that do not alter their processing based upon different inputs are boring - they do the same thing repeatedly.  A program's usefulness increases exponentially with the information the code can receive and process.\n",
    "\n",
    "Except for the code presented in the first notebook, we have not received any input. Therefore, if we needed to change the program's behavior, we had to change the program. \n",
    "\n",
    "This Python notebook presents the principal mechanism to receive input from the console (aka the user's keyboard)."
   ]
  },
  {
   "cell_type": "markdown",
   "id": "659cc084",
   "metadata": {},
   "source": [
    "## Input\n",
    "As programs often require users to provide data, we can receive input from the user using Python's built-in function `input()`.     \n",
    "\n",
    "[Python documentation for input](https://docs.python.org/3/library/functions.html#input)\n",
    "\n",
    "`input()` takes an optional argument, which is the prompt to the user. The Python interpreter writes this prompt to the console (screen, terminal session, shell window) without a trailing newline.  `input()` pauses the program execution and waits for the user to enter a value and then type the enter key.  The function strips the newline character and returns the value as a string type."
   ]
  },
  {
   "cell_type": "code",
   "execution_count": null,
   "id": "bffc7c05",
   "metadata": {},
   "outputs": [],
   "source": [
    "print(\"Hello, my name is Hal 9000.\")\n",
    "name = input(\"What is your name?\")\n",
    "print(\"It is nice to meet you,\", name)"
   ]
  },
  {
   "cell_type": "code",
   "execution_count": null,
   "id": "7faffdfd",
   "metadata": {},
   "outputs": [],
   "source": [
    "print(\"Enter two numbers to add (try 1968 and 2001):\")\n",
    "num_1 = input(\"first number: \")\n",
    "num_2 = input(\"second number: \")\n",
    "print(num_1 + num_2)"
   ]
  },
  {
   "cell_type": "markdown",
   "id": "91907181",
   "metadata": {},
   "source": [
    "Whoa, that was not the expected result.  I thought adding 1968 and 2001 would be 3969.\n",
    "\n",
    "_Remember_, `input()` always returns a string. Therefore, to use the input value as a number value, we need to convert it using `int()` or `float()`, as presented in the previous notebook."
   ]
  },
  {
   "cell_type": "code",
   "execution_count": null,
   "id": "858864e6",
   "metadata": {},
   "outputs": [],
   "source": [
    "print(\"Enter two numbers to add:\")\n",
    "string_1 = input(\"first number: \")\n",
    "num_1 = int(string_1)\n",
    "num_2 = int(input(\"second number: \"))\n",
    "print(num_1 + num_2)"
   ]
  },
  {
   "cell_type": "markdown",
   "id": "aba64685",
   "metadata": {},
   "source": [
    "Much better.  \n",
    "\n",
    "Note that for the first input value, we assigned the string value to a variable and then converted that variable to another variable containing an integer value. Then for the second input value, we immediately converted the return value from the `input()` function to an integer value without using an intermediary variable. The function calls were nested. As the interpreter evaluates nested functions, the interpreter evaluates the innermost function first.\n",
    "\n",
    "Beginners might find the first pattern more comforting as one can see more explicitly what occurs (and it is also a little easier when debugging programs to see values. We will discuss debugging when we discuss IDEs (specifically Visual Studio Code). However, advanced programmers usually prefer the second pattern as the code is more concise.\n",
    "\n",
    "What occurs if we ask the user to enter a number, but the user does not enter a valid integer?"
   ]
  },
  {
   "cell_type": "code",
   "execution_count": null,
   "id": "139fa83c",
   "metadata": {},
   "outputs": [],
   "source": [
    "year = int(input(\"Enter the year your were born: \"))   # Enter \"two thousand\", raises \"ValueError\""
   ]
  },
  {
   "cell_type": "markdown",
   "id": "9aa04962",
   "metadata": {},
   "source": [
    "As seen in the previous notebook, we receive a \"ValueError\". We will learn to create more robust error handling mechanisms in later modules."
   ]
  },
  {
   "cell_type": "markdown",
   "id": "c28a1ac3",
   "metadata": {},
   "source": [
    "## Output\n",
    "The primary method we use to print output to the console for a user to see is the `print()` function."
   ]
  },
  {
   "cell_type": "code",
   "execution_count": 2,
   "id": "58557dbd",
   "metadata": {},
   "outputs": [
    {
     "name": "stdout",
     "output_type": "stream",
     "text": [
      "Help on built-in function print in module builtins:\n",
      "\n",
      "print(...)\n",
      "    print(value, ..., sep=' ', end='\\n', file=sys.stdout, flush=False)\n",
      "    \n",
      "    Prints the values to a stream, or to sys.stdout by default.\n",
      "    Optional keyword arguments:\n",
      "    file:  a file-like object (stream); defaults to the current sys.stdout.\n",
      "    sep:   string inserted between values, default a space.\n",
      "    end:   string appended after the last value, default a newline.\n",
      "    flush: whether to forcibly flush the stream.\n",
      "\n"
     ]
    }
   ],
   "source": [
    "help(print)"
   ]
  },
  {
   "cell_type": "markdown",
   "id": "2e04b83a",
   "metadata": {},
   "source": [
    "While all our examples with ```print()``` have used a single argument, we can pass multiple variables and literal values to the function.  Additionally, we can override defaults for the separator value between values, the string appended after the last value, and where the output goes."
   ]
  },
  {
   "cell_type": "code",
   "execution_count": 1,
   "id": "5ddcb552",
   "metadata": {},
   "outputs": [
    {
     "name": "stdout",
     "output_type": "stream",
     "text": [
      "1:2:3:4:5\n"
     ]
    }
   ],
   "source": [
    "print(1,2,3,4,5,sep=':')"
   ]
  },
  {
   "cell_type": "code",
   "execution_count": 3,
   "id": "588c4eac",
   "metadata": {},
   "outputs": [
    {
     "name": "stdout",
     "output_type": "stream",
     "text": [
      "HelloWorld\n"
     ]
    }
   ],
   "source": [
    "print(\"Hello\",end=\"\")\n",
    "print(\"World\")"
   ]
  },
  {
   "cell_type": "markdown",
   "id": "fa99ff62",
   "metadata": {},
   "source": [
    "## Readability\n",
    "Programmers use many different conventions to improve code readability. For example, you have already seen how descriptive variable names can clarify their purpose.\n",
    "\n",
    "### Docstrings\n",
    "> A docstring is a string literal that occurs as the first statement in a module, function, class, or method definition.\n",
    "\n",
    "[Documentation Strings](https://peps.python.org/pep-0257/#what-is-a-docstring)\n",
    "\n",
    "The interpreter assigns the literal to a special attribute, `__doc__` of that object. IDEs, other programming environments, and Python's `help()` function use the contents of these docstrings to provide information to their users.\n",
    "\n",
    "The following code block defines a new function with a docstring. We then call the function, call the help() function, and then print the value of the `__doc__` attribute. (We describe functions in more detail in a couple of notebooks.)"
   ]
  },
  {
   "cell_type": "code",
   "execution_count": 14,
   "id": "8f63c081",
   "metadata": {},
   "outputs": [
    {
     "name": "stdout",
     "output_type": "stream",
     "text": [
      "536.8216230121398\n",
      "-------------------------\n",
      "Help on function calculate_mortgage_payment in module __main__:\n",
      "\n",
      "calculate_mortgage_payment(principal, interest_rate)\n",
      "    Provides a simple mortgage calculator to compute the monthly payment for a 30-year fixed mortgage\n",
      "\n",
      "-------------------------\n",
      "Provides a simple mortgage calculator to compute the monthly payment for a 30-year fixed mortgage\n"
     ]
    }
   ],
   "source": [
    "def calculate_mortgage_payment(principal, interest_rate):\n",
    "    \"\"\"Provides a simple mortgage calculator to compute the monthly payment for a 30-year fixed mortgage\"\"\"\n",
    "    \n",
    "    rate = interest_rate / 12\n",
    "    num_payments = 360\n",
    "    payment = principal * ( rate * (1+rate)**num_payments ) / ( (1+rate)**num_payments -1)\n",
    "    return payment\n",
    "\n",
    "print(calculate_mortgage_payment(100000,.05))\n",
    "print(\"-------------------------\")\n",
    "help(calculate_mortgage_payment)\n",
    "print(\"-------------------------\")\n",
    "print(calculate_mortgage_payment.__doc__)"
   ]
  },
  {
   "cell_type": "markdown",
   "id": "abbefa29",
   "metadata": {},
   "source": [
    "### Comments\n",
    "As with most other programming languages, Python allows code comments. \n",
    "\n",
    "Comments start with a `#` and go to the end of the line.  The Python interpreter ignores a comment's content.\n",
    "\n",
    "Use comments to \n",
    "- explain code\n",
    "- make code more readable\n",
    "- clarify constants and variables\n",
    "- prevent executing lines (place a `#` before any code in the line) while manually testing code\n",
    "- as a place marker for a \"To Do\" item"
   ]
  },
  {
   "cell_type": "code",
   "execution_count": null,
   "id": "e2793f6b",
   "metadata": {},
   "outputs": [],
   "source": [
    "seconds_per_day = 86400   #  60 seconds/minute * 60 minutes/hour * 24 hours/day\n",
    "\n",
    "# Demonstrates that the type returned by input() is a string\n",
    "# Try using 1968 and 2001.  While we might expect 3969 to be return 19682001 will be printed\n",
    "print(\"Enter two numbers to add:\")\n",
    "num_1 = input(\"first number: \")\n",
    "num_2 = input(\"second number: \")\n",
    "print(num_1 + num_2)\n",
    "print(type(num_1))"
   ]
  },
  {
   "cell_type": "markdown",
   "id": "ff8673c3",
   "metadata": {},
   "source": [
    "[Best Practices for Writing Code Comments](https://stackoverflow.blog/2021/12/23/best-practices-for-writing-code-comments/)"
   ]
  },
  {
   "cell_type": "markdown",
   "id": "3e8db136",
   "metadata": {},
   "source": [
    "### Whitespace\n",
    "To separate logical blocks of code, you can use blank lines, which the Python interpreter ignores.  Additionally, you can use space characters before and after operators, keywords, and variables to make code easier to read.\n",
    "\n",
    "### Splitting Lengthy Statements\n",
    "[By convention](https://peps.python.org/pep-0008/#maximum-line-length), the maximum suggested length for python lines of code is 79 characters. With this length, programmers can place two code editing windows side by side. This length also supports code review tools that present two versions in adjacent columns/windows. Some teams may choose to adopt a longer standard.\n",
    "\n",
    "To split a longer statement over two or more lines, place a `\\` at the end of the line to continue the statement on the next line.\n",
    "\n",
    "Programmers can also place arguments into different lines in function and method calls after a comma."
   ]
  },
  {
   "cell_type": "code",
   "execution_count": null,
   "id": "4944d0c2",
   "metadata": {},
   "outputs": [],
   "source": [
    "sum_of_numbers = 1 + \\\n",
    "                 2 + \\\n",
    "                 3 + \\\n",
    "                 4 + \\\n",
    "                 5\n",
    "print(\"Here is the sum of numbers -\",\n",
    "      sum_of_numbers)"
   ]
  },
  {
   "cell_type": "markdown",
   "id": "12f63fc3",
   "metadata": {},
   "source": [
    "## Case Study: Systematic Investment Plan Calculator\n",
    "\n",
    "Earlier, we presented a design process to produce these parts of a design:\n",
    "* Inputs to the routine\n",
    "* Outputs from the routine\n",
    "* Pseudocode (steps in the routine).\n",
    "\n",
    "The design process followed Seven Steps:[1]\n",
    "![](images/sevensteps.png)"
   ]
  },
  {
   "cell_type": "markdown",
   "id": "6c459a86",
   "metadata": {},
   "source": [
    "We now follow that process for creating a systematic investment plan (SIP) calculator. A SIP is an investment product offered by many mutual fund companies. Investors periodically put a fixed amount of money into the SIP (e.g., monthly) to help promote financial discipline and provide dollar-cost averaging.\n",
    "\n",
    "\n",
    "$ FV = P \\times \\dfrac{(1+i)^n - 1}{i} \\times (1 +i) $  \n",
    "\n",
    "- $FV$ is the future value\n",
    "- $P$ is the amount invested at the start of every payment interval\n",
    "- $i$ is the periodic interest rate; for a monthly payment, take the (Annual Rate)/12\n",
    "- $n$ is the number of payments\n",
    "\n",
    "So our goal is to develop a calculator in which the user enters an investment amount, the number of payments, and a periodic interest rate.  The calculator then produces the future value amount and displays that amount.\n",
    "\n",
    "### Step 1: Work an Instance Manually\n",
    "We open up the calculator app on our smartphone and calculate the future value of $\\$100$ payments made for 360 months, assuming an annual return of $7%$ (historical average of the DJIA).  Periodic rate = .07/12 = 0.00583.  \n",
    "\n",
    "$ 100 * ((1+0.00583)^{360} -1 )/.00583 * (1+0.00583) = 122,708.50$"
   ]
  },
  {
   "cell_type": "markdown",
   "id": "17ce0d7b",
   "metadata": {},
   "source": [
    "### Step 2: Document the steps\n",
    "1. Get the payment amount\n",
    "2. Get the number of payments\n",
    "3. Get the annual interest rate\n",
    "4. Convert the annual interest rate into our periodic investment rate (monthly)\n",
    "5. Calculate the future value\n",
    "6. Display the result to the user\n",
    "\n",
    "### Step 3: Generalize our steps\n",
    "We need to add the inputs and outputs - the steps are pretty much the same as we had already made the initial steps generic by getting the values rather than using fixed values.\n",
    "\n",
    "- Inputs: payment amount, number of payments, and annual interest rate.  \n",
    "- Outputs future value."
   ]
  },
  {
   "cell_type": "markdown",
   "id": "cd5d67d8",
   "metadata": {},
   "source": [
    "### Step 4: Manually test our generic process\n",
    "As you start this step, look to develop a set of cases that will thoroughly test your process. Start with the expected inputs. For this problem, payments could be a reasonable amount to save every month. Yes, this depends on your income. Assume $100. For the number of payments, assume we are saving for retirement. Assume 30 years. Investment sales pitches use more extended time frames as they demonstrate the time value of money and the power of compound interest. For the interest rate, we can use 7% as that value is the historical average of the DJIA. Compute the future value.\n",
    "\n",
    "Now create test cases (i.e., different input numbers) that could discover potential problems. One approach could be to look at the boundary values. Often for numbers, this will occur around 0. So use -1,0,1 for the interest rate possibilities. At the same, you will also need to consider if two test cases are equivalent. For example, can we expect an execution difference between 1% and 7%? Probably not.\n",
    "\n",
    "Looking at the boundaries is more formally called \"boundary value analysis\".  People widely recognize that values at the extreme  ends of the input possibilities tend to cause more errors.  Zero also tends to be problematic.\n",
    "\n",
    "Examples of issues with zeros in real systems:\n",
    "- [Challenge of Flying Below Sea Level](https://avgeekery.com/challenge-flying-sea-level/)\n",
    "- [Division by Zero on a Navy Ship](https://web.archive.org/web/20171001212153/https://www.wired.com/1998/07/sunk-by-windows-nt/)\n",
    "\n",
    "Considering two input values to be “equivalent” is called “equivalence partitioning” and is used to reduce the total number of test cases to a more manageable number. As interest rates are floating-point numbers, does it make sense to test all possible values? .01, .02, .03, .031, .032, .03201, .032001. No value-add exists to enumerate these values exhaustively. Perform a couple and do something with more potential to find problems.\n",
    "\n",
    "What happens if we use -0.01 as the interest rate?  Calculation returns $\\$$31,087.00 - seems plausible.\n",
    "\n",
    "What happens with 0?  Oops, we just divided by zero.  Good thing we are not on that navy ship suffering the [blue screen of death](https://en.wikipedia.org/wiki/Blue_screen_of_death)."
   ]
  },
  {
   "cell_type": "markdown",
   "id": "5f957e89",
   "metadata": {},
   "source": [
    "### Algorithm to Code\n",
    "We focus on converting our algorithm to code in the last three steps. As the Seven Steps diagram indicates, these steps are an iterative process. Further, it is not necessary to complete all of a particular step before moving on to the next step. For example, you may want to convert parts of the algorithm first to code, validate that code, make any necessary changes(debug), and repeat this process until the code reflects the entire algorithm."
   ]
  },
  {
   "cell_type": "markdown",
   "id": "47e46266",
   "metadata": {},
   "source": [
    "### Step 5: Code\n",
    "In this step, we convert our pseudocode into Python statements. Ideally, this step should be straightforward, as each documented step should convert into an equivalent line of code. For example, “Get the payment amount” implies an `input()` function call with a prompt alerting the user to enter the payment amount."
   ]
  },
  {
   "cell_type": "markdown",
   "id": "56f8e942",
   "metadata": {},
   "source": [
    "### Step 6: Test\n",
    "In this step, we execute our source code to validate our program works correctly. Often we can repeat the same test cases we used in Step 4. More advanced programmers will first write automated test cases to validate their code."
   ]
  },
  {
   "cell_type": "markdown",
   "id": "7fb8b0f2",
   "metadata": {},
   "source": [
    "### Step 7: Debug\n",
    "Debugging is the process of fixing issues found in your code. These issues belong to different error categories: syntactic, runtime, and semantic.\n",
    "\n",
    "_Syntactic errors_ occur when we do not follow the formal grammar defined by the programming language. For example, we forget to include parenthesis around calls to a function."
   ]
  },
  {
   "cell_type": "code",
   "execution_count": 2,
   "id": "458ba6f7",
   "metadata": {},
   "outputs": [
    {
     "ename": "SyntaxError",
     "evalue": "Missing parentheses in call to 'print'. Did you mean print(...)? (1189891764.py, line 1)",
     "output_type": "error",
     "traceback": [
      "\u001b[0;36m  Input \u001b[0;32mIn [2]\u001b[0;36m\u001b[0m\n\u001b[0;31m    print \"This causes a syntax\" error..\u001b[0m\n\u001b[0m    ^\u001b[0m\n\u001b[0;31mSyntaxError\u001b[0m\u001b[0;31m:\u001b[0m Missing parentheses in call to 'print'. Did you mean print(...)?\n"
     ]
    }
   ],
   "source": [
    "print \"This causes a syntax\" error.."
   ]
  },
  {
   "cell_type": "markdown",
   "id": "8d58447d",
   "metadata": {},
   "source": [
    "These issues are generally the easiest to solve. The interpreter immediately stops the program execution and reports the error. Fix the code block and re-execute."
   ]
  },
  {
   "cell_type": "code",
   "execution_count": null,
   "id": "9ca3316b",
   "metadata": {},
   "outputs": [],
   "source": [
    "print(\"Now this code runs correctly.\")"
   ]
  },
  {
   "cell_type": "markdown",
   "id": "b3706d61",
   "metadata": {},
   "source": [
    "_Runtime errors_ occur when the Python interpreter executes legally syntactic code, but there is some issue with the code, and the interpreter cannot continue normal execution. Examples of runtime errors include not defining variables before use and division by zero. The interpreter indicates these errors with the presence of a “Traceback” - statement sequences and function calls that led to the error. These errors may or may not be easy to fix. Sometimes the variable not being defined is just a typo. Other times, we need to see how the particular condition that led to that error arose.\n",
    "\n",
    "_Semantic errors_ (_logic errors_) occur when the program executes without issues but produces the wrong result. These issues usually arise due to a logical mistake. Completely understanding all of the different possible inputs a program may process and how our code reacts to those inputs can be challenging. Our minds can only track so many possibilities simultaneously. Other times we may be using code or services that others developed; that code may react in unexpected ways."
   ]
  },
  {
   "cell_type": "markdown",
   "id": "3ec563f6",
   "metadata": {},
   "source": [
    "As you find and fix issues, several strategies exist:\n",
    "\n",
    "**Replicate:** In more complex situations, replicating a particular issue can be a challenge in and of itself. However, replication is an essential task. Once you replicate an issue, you can understand the inputs and other ancillary factors that led to the problem.\n",
    "\n",
    "**Read:** Read your source code. Walk through it mentally.  Does the code execute the way you intended? \n",
    "\n",
    "**Run:** Execute your code. Step through your code with a debugger or add print statements to the code to print the program's current state. Experiment with running slightly different code versions to see what occurs. This strategy is not to randomly try random things (e.g., throwing something at a wall until it sticks) but rather to systematically investigate an issue.\n",
    "\n",
    "**Reflect:** Reflect on the issue.  What is the interpreter telling you?  How could the code and inputs cause the issue?  If you recently made a change, did that change have any impact? With this strategy, you should develop \"educated guesses\" about what may be the cause. Then look to see how you can test to validate or eliminate those possibilities.\n",
    "\n",
    "**\"Ask a Friend\":** Try explaining your code and issues to a fellow student or coworker. Sometimes, this process lets you find the issue on your own in a moment of \"oh duh, that is what happened\". If not, the other person may have some good ideas to investigate.\n",
    "\n",
    "**Pause:** Sometimes, the best approach is to step back. Grab a beverage and take a break.  \n",
    "\n",
    "**Research:** Do you have enough problem domain knowledge to understand the problem and implement a solution?\n",
    "\n",
    "**Step Back:** If you have a prior code version, revert to that. Or maybe delete recently added code. Get back to a working program. Then re-think the problem. Take some notes. Then add code back into, testing as you proceed.\n",
    "\n",
    "Unfortunately, no magical solution exists to make someone an expert debugger - it takes experience. One of the choices made in these notebooks has been demonstrating software issues(defects) that can arise. By seeing these issues and correcting these issues, you are more prepared to handle issues in your code."
   ]
  },
  {
   "cell_type": "markdown",
   "id": "b7b94ecf",
   "metadata": {},
   "source": [
    "The term debugging dates back to 1878 with a letter Thomas Edison wrote to Theodore Puskas[2]:\n",
    ">\n",
    ">Bugs' -- as such little faults and difficulties are called -- show themselves and months of intense watching, study and labor are requisite before commercial success or failure is certainly reached.\n",
    ">\n",
    " \n",
    "In 1947, operators found a moth trapped in a relay in the Mark II Computer at Harvard University:<br>\n",
    "![](images/mothMarkII_1947.jpeg)\n",
    "<br>Caption: The First \"Computer Bug\" [Source](https://www.history.navy.mil/our-collections/photography/numerical-list-of-images/nhhc-series/nh-series/NH-96000/NH-96566-KN.html)\n"
   ]
  },
  {
   "cell_type": "markdown",
   "id": "7fae6fae",
   "metadata": {},
   "source": [
    "### \"Executing\" Steps 5, 6, and 7 \n",
    "In the following code blocks, we follow the process of converting our pseudocode into code, testing, and making fixes.  These three steps are inherently iterative.\n",
    "\n",
    "As you begin to write code, you should not attempt to write the entire process at once.  Instead, write a few steps, test those, and make any changes to get that smaller piece of code working.  Then continue to write more of the steps for your process."
   ]
  },
  {
   "cell_type": "code",
   "execution_count": null,
   "id": "972e0f52",
   "metadata": {},
   "outputs": [],
   "source": [
    "payment = input(\"Enter the periodic payment: \")\n",
    "annual_rate = input(\"Enter the annual rate: \")\n",
    "periodic_rate = annual_rate / 12\n",
    "print(periodic_rate)"
   ]
  },
  {
   "cell_type": "markdown",
   "id": "aa7734cc",
   "metadata": {},
   "source": [
    "Oops, we forgot to convert our input values (which are strings) to floats."
   ]
  },
  {
   "cell_type": "code",
   "execution_count": null,
   "id": "ad0a56e2",
   "metadata": {},
   "outputs": [],
   "source": [
    "payment = float(input(\"Enter the periodic payment: \"))\n",
    "annual_rate = float(input(\"Enter the annual rate: \"))\n",
    "periodic_rate = annual_rate / 12\n",
    "print(periodic_rate)"
   ]
  },
  {
   "cell_type": "markdown",
   "id": "45a9445c",
   "metadata": {},
   "source": [
    "Good.  That works now."
   ]
  },
  {
   "cell_type": "code",
   "execution_count": null,
   "id": "e6f6b504",
   "metadata": {},
   "outputs": [],
   "source": [
    "payment = float(input(\"Enter the periodic payment: \"))\n",
    "num_payments = int(inpt(\"Enter the number of payments: \"))\n",
    "periodic_rate = float(input(\"Enter the annual rate: \"))/12\n",
    "\n",
    "future_value = payment *  ((1 + periodic_rate)^360 - 1)/periodic_rate * (1 + periodic_rate)\n",
    "print(future_value)"
   ]
  },
  {
   "cell_type": "markdown",
   "id": "acd3477b",
   "metadata": {},
   "source": [
    "sigh,  misspelled `input`."
   ]
  },
  {
   "cell_type": "code",
   "execution_count": null,
   "id": "7bc59be5",
   "metadata": {},
   "outputs": [],
   "source": [
    "payment = float(input(\"Enter the periodic payment: \"))\n",
    "num_payments = int(input(\"Enter the number of payments: \"))\n",
    "periodic_rate = float(input(\"Enter the annual rate: \"))/12\n",
    "\n",
    "future_value = payment *  ((1 + periodic_rate)^360 - 1)/periodic_rate * (1 + periodic_rate)\n",
    "print(future_value)"
   ]
  },
  {
   "cell_type": "markdown",
   "id": "8ae4cd6f",
   "metadata": {},
   "source": [
    "`^` is not the correct symbol for the exponent operator.  Geez,  Visual Basic uses that.  *looks through past notebooks*.  Oh yeah, `**` is the exponent operator in Python."
   ]
  },
  {
   "cell_type": "code",
   "execution_count": null,
   "id": "fe562d79",
   "metadata": {},
   "outputs": [],
   "source": [
    "payment = float(input(\"Enter the periodic payment: \"))\n",
    "num_payments = int(input(\"Enter the number of payments: \"))\n",
    "periodic_rate = float(input(\"Enter the annual rate: \"))/12\n",
    "\n",
    "future_value = payment *  ((1+periodic_rate)**360 -1)/periodic_rate * (1+periodic_rate)\n",
    "print(future_value)"
   ]
  },
  {
   "cell_type": "markdown",
   "id": "ce672645",
   "metadata": {},
   "source": [
    "Looks good, but can we format the output better?  (A later notebook presents string formatting.)"
   ]
  },
  {
   "cell_type": "code",
   "execution_count": null,
   "id": "0ee6981f",
   "metadata": {},
   "outputs": [],
   "source": [
    "payment = float(input(\"Enter the periodic payment: \"))\n",
    "num_payments = int(input(\"Enter the number of payments: \"))\n",
    "periodic_rate = float(input(\"Enter the annual rate: \"))/12\n",
    "\n",
    "future_value = payment *  ((1+periodic_rate)**360 -1)/periodic_rate * (1+periodic_rate)\n",
    "print(\"Future value: ${:,.2f}\".format(future_value))"
   ]
  },
  {
   "cell_type": "markdown",
   "id": "c05207f5",
   "metadata": {},
   "source": [
    "Now, try some more test cases.  What happens with a large interest rate?  We **want** to be rich after all.                   "
   ]
  },
  {
   "cell_type": "code",
   "execution_count": null,
   "id": "1389f6ce",
   "metadata": {
    "scrolled": true
   },
   "outputs": [],
   "source": [
    "payment = float(input(\"Enter the periodic payment: \"))\n",
    "num_payments = int(input(\"Enter the number of payments: \"))\n",
    "periodic_rate = float(input(\"Enter the annual rate: \"))/12\n",
    "\n",
    "future_value = payment *  ((1+periodic_rate)**360 -1)/periodic_rate * (1+periodic_rate)\n",
    "print(\"Future value: ${:,.2f}\".format(future_value))"
   ]
  },
  {
   "cell_type": "markdown",
   "id": "18ba5cb3",
   "metadata": {},
   "source": [
    "We received an overflow error as our number was too large for Python to represent as a float number. You should try 0 for the interest rate, which causes a division by zero error. Do not worry about fixing these test cases now. In later notebooks, we examine how to make our code more robust through input validation and exception handling. Conveniently in the next notebook, we discuss making decisions in our code with the `if` statement. The `if` statement would allow us to test if the interest rate equals zero and then compute the future value as the number of payments * payment amount."
   ]
  },
  {
   "cell_type": "markdown",
   "id": "61092144",
   "metadata": {},
   "source": [
    "Reflecting on the above example, we assumed the periods were months.  How could you generalize that?  What changes would you make?\n",
    "\n",
    "[Step through the code at PytonTutor](https://pythontutor.com/render.html#code=payment%20%3D%20float%28input%28%22Enter%20the%20periodic%20payment%3A%20%22%29%29%0Anum_payments%20%3D%20int%28input%28%22Enter%20the%20number%20of%20payments%3A%20%22%29%29%0Aperiodic_rate%20%3D%20float%28input%28%22Enter%20the%20annual%20rate%3A%20%22%29%29/12%0A%0Afuture_value%20%3D%20payment%20*%20%20%28%281%2Bperiodic_rate%29**360%20-1%29/periodic_rate%20*%20%281%2Bperiodic_rate%29%0Aprint%28%22Future%20value%3A%20%24%7B%3A,.2f%7D%22.format%28future_value%29%29&cumulative=false&curInstr=0&heapPrimitives=nevernest&mode=display&origin=opt-frontend.js&py=3&rawInputLstJSON=%5B%22100%22,%2230%22,%220.08%22%5D&textReferences=false)"
   ]
  },
  {
   "cell_type": "markdown",
   "id": "6a63a86e",
   "metadata": {},
   "source": [
    "## Exercises\n",
    "1. What is wrong with this code?  Make the appropriate changes to run the code correctly.\n",
    "```\n",
    "interest_rate = input(\"Enter an interest rate\")\n",
    "print(\"On 1000 dollars, you will owe \", 1000 * interest_rate)\n",
    "```\n",
    "\n",
    "2. Using [periodic compounding](https://en.wikipedia.org/wiki/Compound_interest#Periodic_compounding), compute the future value of an investment. Have the user enter the initial principal, the interest rate, and the number of years. Assume the interest compounds monthly. This exercise extends a previous exercise with user inputs rather than inputs placed directly into the code.\n",
    "\n",
    "3. Write a program to determine the monthly payment for a 30-year mortgage for an initial principal amount and interest rate that the user specifies: [Formula](https://en.wikipedia.org/wiki/Mortgage_loan#Principal_and_interest)\n",
    "\n",
    "  $ A = P \\times \\dfrac{r(1+r)^n}{(1+r)^n - 1} $  \n",
    "\n",
    "- $A$ is the periodic amortization (monthly) payment\n",
    "- $P$ is the principal amount borrowed\n",
    "- $r$ is the rate of interest expressed as a fraction; for a monthly payment, take the (Annual Rate)/12\n",
    "- $n$ is the number of payments; for monthly payments over 30 years, 12 months x 30 years = 360 payments."
   ]
  },
  {
   "cell_type": "markdown",
   "id": "61674eea",
   "metadata": {},
   "source": [
    "## References\n",
    "[1] Andrew D. Hilton, Genevieve M. Lipp, and Susan H. Rodger. 2019. _Translation from Problem to Code in Seven Steps_. In Proceedings of the ACM Conference on Global Computing Education (CompEd '19). Association for Computing Machinery, New York, NY, USA, 78–84. https://doi-org.prox.lib.ncsu.edu/10.1145/3300115.3309508\n",
    "<br>\n",
    "[2] https://www.computerworld.com/article/2515435/moth-in-the-machine--debugging-the-origins-of--bug-.html"
   ]
  }
 ],
 "metadata": {
  "kernelspec": {
   "display_name": "Python 3 (ipykernel)",
   "language": "python",
   "name": "python3"
  },
  "language_info": {
   "codemirror_mode": {
    "name": "ipython",
    "version": 3
   },
   "file_extension": ".py",
   "mimetype": "text/x-python",
   "name": "python",
   "nbconvert_exporter": "python",
   "pygments_lexer": "ipython3",
   "version": "3.10.4"
  }
 },
 "nbformat": 4,
 "nbformat_minor": 5
}
