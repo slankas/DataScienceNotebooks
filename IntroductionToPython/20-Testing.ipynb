{
 "cells": [
  {
   "cell_type": "markdown",
   "id": "b8a91051",
   "metadata": {},
   "source": [
    "# Testing\n",
    "\n",
    "We perform testing to increase confidence that our programs work correctly and that those programs meet our customer's expectations. We call this type of testing _functional testing_ as it ensures that the code functions correctly. While it sounds trite, the importance of software testing cannot be overstated.  Software and computer systems permeate our daily lives.  Unless you are reading these words from a dead tree off the grid somewhere, you are either working with a computer system or benefitting from a product (electricity) controlled by a computer system. Not only can software defects waste time as we work through the issues, those defects can lead monetary loss (both direct and indirect) as well as possibly deaths.  \n",
    "\n",
    "Testing directly improves the product quality which in turn leads to higher customer satisfaction with systems.  Imagine using a computer that crashed on a regular basis.  How long would you continue to use that system.  Testing also decreases product development costs as finding and fixing defects sooner to the time when they are introduced into the system costs lest money to fix.\n",
    "\n",
    "Yes, initially, you can get away with manually testing your software as your write code.  (And in some ways, this is necessary - build a little, test that those parts work, and build some more.  Rinse, Lather, Repeat.). However, eventually you will have significant maintainability issues. As you make changes, how do you ensure those changes did not break something?\n",
    "\n",
    "Prior to the early 2000's, most software and system testing was a manual process.  Individuals wrote test scripts that were then executed.  Some unit test cases were built, but largely executed manually.  Since then, testing has been become automated (although not universally).  \n",
    "\n",
    "Several advantages to automated testing:\n",
    "1. Cost-savings.  These test cases can be run repetitively.  Yes, a higher upfront costs exists to develop test cases, but that is more of a one time expense.  Over the lifetime of a project, these test cases can now be executed thousands at time.\n",
    "2. Faster development timeframes.  As enhancements are made to system, existing test cases can be executed to ensure the existing functionality still works.  (regression testing)\n",
    "3. Immediate feedback\n",
    "4. Automation of test cases development.  Fuzzing - https://owasp.org/www-community/Fuzzing\n",
    "5. Automated testing is to foundation to continuous integration, continuous delivery, and other modern [DevOps practices](https://about.gitlab.com/topics/devops/).\n",
    "6. Oh...  by the way, the automated grading of your program submissions - that's all unit tests.\n",
    "\n",
    "\n",
    "This notebook will focus on verification of the code we have been developing - primarily this involves unit testing of the code we write. Generally speaking, unit tests check that the software produces the correct output based upon a specific input.  We compare actual and expected results to determine if an error occurred.  In terms of what exactly is a \"unit\", we consider this to be any portion of code that can be executed in isolation.  We can call functions and execute them, so functions are units. However, we cannot call specific lines within a function, so they are smaller than a unit.  As we get into classes, we will find that they have many pieces that can be tested in isolation. However, we can treat clases as units for testing.  \n",
    "\n",
    "This notebook will walk through developing test cases that can be run on an automated basis. Our overarching goal is two-fold:\n",
    "1. Deliver high-quality products to our customers\n",
    "2. Reduce costs as much as possible.\n",
    "\n",
    "We will use Python's built-in testing framework, `unittest`.  This framework provides capabilities to organize test cases, to execute code to setup any pre-conditions that may necessary to perform tests, and then code to remove any artifacts of the testing process.  The test cases work by making assertions about the code - generally does this result match some expected value. An assertion is a statement of fact<sup>[*](https://www.lexico.com/en/definition/assertion)</sup>. As such, if that assertion does not hold, either our assumption is incorrect or the code produced an incorrect value.\n",
    "\n",
    "[unittest documentation](https://docs.python.org/3/library/unittest.html)"
   ]
  },
  {
   "cell_type": "markdown",
   "id": "1f7bc372",
   "metadata": {},
   "source": [
    "## Case Study: Bond Valuation\n",
    "To develop some code to test, we will implement several functions to compute varies yield values for bonds.  \n",
    "\n",
    "A bond represents a type of corporate debt.  A corporation issues a bond with a fixed principal that will be paid to the bond owner at maturity along with fixed interest payments along the way.  For instance, a corporation can issue a $\\$$1,000 bond with 10$\\%$ annual interest with a maturity of 10 years.  If an investor holds on to this bond, he or she wil receive $\\$$2,000 over the lifetime (10 payments of $\\$$100 plus $\\$1,000 at the end).\n",
    "\n",
    "One valuation to examine is the bond yield.  $bond yield = \\frac{annual coupon payment}{bond price} $  where the $annual coupon payment = face value * coupon rate$\n",
    "\n",
    "We can then define a function to implement the bond yield."
   ]
  },
  {
   "cell_type": "code",
   "execution_count": 52,
   "id": "d67d2cf0",
   "metadata": {},
   "outputs": [],
   "source": [
    "def compute_bond_yield(bond_price, face_value, coupon_rate):\n",
    "    annual_coupon_payment = face_value * coupon_rate\n",
    "    bond_yield = annual_coupon_payment / face_value         # used face_value instead of bond price\n",
    "    return bond_yield"
   ]
  },
  {
   "cell_type": "code",
   "execution_count": 26,
   "id": "1591e10f",
   "metadata": {},
   "outputs": [
    {
     "data": {
      "text/plain": [
       "0.05"
      ]
     },
     "execution_count": 26,
     "metadata": {},
     "output_type": "execute_result"
    }
   ],
   "source": [
    "compute_bond_yield(970,1000,0.05)"
   ]
  },
  {
   "cell_type": "markdown",
   "id": "14c14097",
   "metadata": {},
   "source": [
    "The result looks correct, but is it really?  Ideally, we want to ensure that the output matches are expectation.  If we plug those numbers into a bond yield calculater,  we see that the result is actually 0.0515 \n",
    "\n",
    "To help find issues like this, we need to write unit tests.  In fact, we can actually write these tests firsts and then build the function.  We know our functions then work when they pass the test cases.\n",
    "\n",
    "To use the `unittest` module, we will first need to import that module and then write test cases. As with exceptions, we will need to extend a pre-existing class and then add methods to that class.  The approach will follow this outline:"
   ]
  },
  {
   "cell_type": "markdown",
   "id": "6f92aec4",
   "metadata": {},
   "source": [
    "<code>\n",
    "    \n",
    "import unittest\n",
    "\n",
    "class Test<i>Name</i>(unittest.TestCase):\n",
    "    def setUp(self):\n",
    "        pass\n",
    "\n",
    "    def tearDown(self):\n",
    "        pass\n",
    "\n",
    "    def test_<i>name_1</i>(self):\n",
    "        ...\n",
    "    \n",
    "    def test_<i>name_2</i>(self):\n",
    "        ...\n",
    "    \n",
    "    def test_<i>name_n</i>(self):\n",
    "        ...\n",
    "    \n",
    "</code>  "
   ]
  },
  {
   "cell_type": "markdown",
   "id": "7b8f106f",
   "metadata": {},
   "source": [
    "Generally, you will want to clearly identify code that contains test cases. As such, it makes sense to start the class names for the unit test with \"Test\".  Similarly, we will also want to give descriptive names to the individual methods. Many testing frameworks assume methods starting with `test_` are test cases.  We can also add docstrings for the methods to provide a more detailed description into the output.\n",
    "\n",
    "The `setup()` methods is called before each test method. Use this capability to allocate any resources or setup any conditions necessary to execute the test cases. You can also define a `setupClass()` method that runs once before any tests are executed in the class [more details](https://docs.python.org/3/library/unittest.html#unittest.TestCase.setUpClass). \n",
    "\n",
    "The `tearDown()` method is called after each test method, regardless of any exceptions.  Use method to release any allocated resources or move the system state back before the test cases executed. `tearDownClass()` also exists which executes after all of the tests in the class have executed.\n",
    "\n",
    "It was not necessary to define `setup()` and `tearDown()` in these examples - the default behavior for both does nothing.\n",
    "\n",
    "\n",
    "From within a Python program, we can execute the defined test cases with the following method call:\n",
    "<code>\n",
    "    \n",
    "    unittest.main(argv=['unittest','Test<i>Name</i>'], verbosity=2, exit=False)\n",
    "\n",
    "</code>\n",
    "\n",
    "The 'TestName' can be removed to execute any test cases that have been loaded by the interpreter.\n",
    "\n",
    "From the command-line, we can execute\n",
    "`python -m unittest TestName`\n",
    "\n",
    "To discover all possible tests cases and run those, use \n",
    "`python -m unittest discover`\n",
    "\n",
    "So, now that we have seen the outline as to what needs to occur, let us write some actual test cases."
   ]
  },
  {
   "cell_type": "code",
   "execution_count": 77,
   "id": "427ae785",
   "metadata": {},
   "outputs": [],
   "source": [
    "class TestBondYield(unittest.TestCase):\n",
    "    \"Validates compute_bond_yield\"\n",
    "    def setUp(self):\n",
    "        pass\n",
    "    def tearDown(self):\n",
    "        pass\n",
    "    \n",
    "    def test_bond_yield_5_percent(self):\n",
    "        \"Validate that the computed bond yield approximates 0.0515\"\n",
    "        bond_yield = compute_bond_yield(970, 1000, 0.05)\n",
    "        self.assertAlmostEqual(bond_yield, 0.0515, places=4)\n",
    "        \n",
    "    def test_bond_yield_0_percent(self):\n",
    "        \"Validate that the computed bond yield equals 0 for 0%\"\n",
    "        bond_yield = compute_bond_yield(970, 1000, 0.00)\n",
    "        self.assertEqual(bond_yield, 0.0)        "
   ]
  },
  {
   "cell_type": "code",
   "execution_count": 78,
   "id": "f849f247",
   "metadata": {},
   "outputs": [
    {
     "name": "stderr",
     "output_type": "stream",
     "text": [
      "test_bond_yield_0_percent (__main__.TestBondYield)\n",
      "Validate that the computed bond yield equals 0 for 0% ... ok\n",
      "test_bond_yield_5_percent (__main__.TestBondYield)\n",
      "Validate that the computed bond yield approximates 0.0515 ... ok\n",
      "\n",
      "----------------------------------------------------------------------\n",
      "Ran 2 tests in 0.006s\n",
      "\n",
      "OK\n"
     ]
    },
    {
     "data": {
      "text/plain": [
       "<unittest.main.TestProgram at 0x7fad9c5edf00>"
      ]
     },
     "execution_count": 78,
     "metadata": {},
     "output_type": "execute_result"
    }
   ],
   "source": [
    "unittest.main(argv=['unittest','TestBondYield'], verbosity=2, exit=False)"
   ]
  },
  {
   "cell_type": "markdown",
   "id": "ac7f9507",
   "metadata": {},
   "source": [
    "One of the tests passed, while the other test failed. We know need to debug the code to see what occured.  Since, this a relatively small code, we can employ the debug strategy of \"read\" and then \"run\".  As we read the source code, does it match up with the forumula?  No.  We can also set through it manually (either with a debugger or using a memory diagram / tracing approach).  \n",
    "\n",
    "Let's correct the code and then re-run the test."
   ]
  },
  {
   "cell_type": "code",
   "execution_count": 55,
   "id": "3dae21a2",
   "metadata": {},
   "outputs": [],
   "source": [
    "def compute_bond_yield(bond_price, face_value, coupon_rate):\n",
    "    annual_coupon_payment = face_value * coupon_rate\n",
    "    bond_yield = annual_coupon_payment / bond_price\n",
    "    return bond_yield"
   ]
  },
  {
   "cell_type": "code",
   "execution_count": 56,
   "id": "b0be897a",
   "metadata": {},
   "outputs": [
    {
     "name": "stderr",
     "output_type": "stream",
     "text": [
      "test_bond_yield_0_percent (__main__.TestBondYield)\n",
      "Validate that the computed bond yield equals 0 for 0% ... ok\n",
      "test_bond_yield_5_percent (__main__.TestBondYield)\n",
      "Validate that the computed bond yield approximates 0.0515 ... ok\n",
      "\n",
      "----------------------------------------------------------------------\n",
      "Ran 2 tests in 0.002s\n",
      "\n",
      "OK\n"
     ]
    },
    {
     "data": {
      "text/plain": [
       "<unittest.main.TestProgram at 0x7fad9c5c0af0>"
      ]
     },
     "execution_count": 56,
     "metadata": {},
     "output_type": "execute_result"
    }
   ],
   "source": [
    "unittest.main(argv=['unittest','TestBondYield'], verbosity=2, exit=False)"
   ]
  },
  {
   "cell_type": "markdown",
   "id": "c50687e8",
   "metadata": {},
   "source": [
    "Another valuation for bonds is the yield to maturity(YTM).  This value is the speculative rate of a return given that an investor purchases a bond a given current market price and then holds the bond until marturity (thus, all interest payments and final payments are made).\n",
    "\n",
    "The YTM can be approximated with this formula: \n",
    "\n",
    "$ YTM = \\frac{C + \\frac{FV-PV}{t}}{\\frac{FV+PV}{2}} $\n",
    "where \n",
    "- $C$ – Interest/coupon payment\n",
    "- $FV$ – Face value of the security\n",
    "- $PV$ – Present value/price of the security\n",
    "- $t$ – How many years it takes the security to reach maturity"
   ]
  },
  {
   "cell_type": "code",
   "execution_count": 63,
   "id": "5b3f161a",
   "metadata": {},
   "outputs": [],
   "source": [
    "def calculate_yield_to_maturity(bond_price, face_value, coupon_rate, t):\n",
    "    c = coupon_rate * face_value\n",
    "    ytm = (c + (face_value - bond_price)/t) / ( (face_value+bond_price) /2 )\n",
    "    return ytm"
   ]
  },
  {
   "cell_type": "code",
   "execution_count": 75,
   "id": "38338baa",
   "metadata": {},
   "outputs": [
    {
     "name": "stdout",
     "output_type": "stream",
     "text": [
      "0.17647058823529413\n",
      "0.18532818532818532\n"
     ]
    }
   ],
   "source": [
    "print(compute_bond_yield(850,1000,0.15))\n",
    "print(calculate_yield_to_maturity(850,1000,0.15,7))"
   ]
  },
  {
   "cell_type": "markdown",
   "id": "529ce13e",
   "metadata": {},
   "source": [
    "We can then develop another set of test cases to test that function:"
   ]
  },
  {
   "cell_type": "code",
   "execution_count": 99,
   "id": "557cf605",
   "metadata": {},
   "outputs": [],
   "source": [
    "class TestBondYTM(unittest.TestCase):\n",
    "    def setUp(self):\n",
    "        pass\n",
    "    def tearDown(self):\n",
    "        pass\n",
    "    \n",
    "    def test_bond_ytm_5_per_10_year(self):\n",
    "        \"Validate that the computed bond yield approximates 0.0515\"\n",
    "        bond_yield = calculate_yield_to_maturity(970, 1000, 0.05,10)\n",
    "        self.assertAlmostEqual(bond_yield, 0.0538, places=4)\n",
    "  "
   ]
  },
  {
   "cell_type": "code",
   "execution_count": 100,
   "id": "6c964b70",
   "metadata": {},
   "outputs": [
    {
     "name": "stderr",
     "output_type": "stream",
     "text": [
      "test_bond_ytm_5_per_10_year (__main__.TestBondYTM)\n",
      "Validate that the computed bond yield approximates 0.0515 ... ok\n",
      "\n",
      "----------------------------------------------------------------------\n",
      "Ran 1 test in 0.001s\n",
      "\n",
      "OK\n"
     ]
    },
    {
     "data": {
      "text/plain": [
       "<unittest.main.TestProgram at 0x7fad5daf8340>"
      ]
     },
     "execution_count": 100,
     "metadata": {},
     "output_type": "execute_result"
    }
   ],
   "source": [
    "unittest.main(argv=['unittest','TestBondYTM'], verbosity=2, exit=False)"
   ]
  },
  {
   "cell_type": "markdown",
   "id": "7636608e",
   "metadata": {},
   "source": [
    "## Documenting Test Cases\n",
    "To document a test case, we generally define this information:\n",
    "- Unique Identifier\n",
    "- Test Inputs\n",
    "- Expected Results\n",
    "- Actual Results\n",
    "\n",
    "As you look at the source coode, you can see that the unittest cases pretty much have this information in them already. You should include an identifier in the docstring - this will help you locate test cases in larger projects and possibly provide some sort of hierarchical orgnization if you so choose.  \n",
    "\n",
    "If you do manually test code instead, you should keep track of your tests in a text file. That way, you at least have some reference as to how you tested the code before.  However, the *right* way to do this, is to create automated unit tests. The investment will be worth it.\n"
   ]
  },
  {
   "cell_type": "markdown",
   "id": "1ef4ce91",
   "metadata": {},
   "source": [
    "## Black Box vs White Box Testing"
   ]
  },
  {
   "cell_type": "markdown",
   "id": "612c49c5",
   "metadata": {
    "scrolled": true
   },
   "source": []
  },
  {
   "cell_type": "code",
   "execution_count": 8,
   "id": "71093c6f",
   "metadata": {},
   "outputs": [],
   "source": []
  },
  {
   "cell_type": "code",
   "execution_count": 10,
   "id": "2f40bbc1",
   "metadata": {},
   "outputs": [],
   "source": []
  },
  {
   "cell_type": "markdown",
   "id": "be857639",
   "metadata": {},
   "source": [
    "test Equivalence Classes\n",
    "- Input/output space is broken into different equivalence classes\n",
    "- Each equivalence class is tested\n",
    "- Tests are written to include “middle” input values from each of the possible classes – One test may consider multiple equivalence classes\n",
    "  -– One for each type of input/output\n",
    "  -- A test focuses on one equivalence class, but other values are needed for a full test. Those other values should be ”middle” values.\n",
    "  -- Helps further test requirements by considering groups of inputs/outputs\n"
   ]
  },
  {
   "cell_type": "markdown",
   "id": "b06b3cc9",
   "metadata": {},
   "source": [
    "Test Boundary Values\n",
    "Programmers tend to make mistakes at boundaries\n",
    "Want to test program boundaries and values to either side of the boundary\n",
    "\n",
    "(smallest, largest, change from negative to positive)\n"
   ]
  },
  {
   "cell_type": "markdown",
   "id": "65979587",
   "metadata": {},
   "source": [
    "white box\n",
    "\n",
    "code coverage\n",
    "- function/method\n",
    "- statement\n",
    "- edge\n",
    "- branch\n",
    "- condition. (predicate coverage)\n",
    "\n"
   ]
  },
  {
   "cell_type": "markdown",
   "id": "ce6dcb42",
   "metadata": {},
   "source": [
    "## Testing Strategies\n",
    "\n",
    "Testing Strategies\n",
    "• Test Requirements\n",
    "• Test Equivalence Classes • Test Boundary Values\n",
    "• Test All Paths\n",
    "• Test Exceptions\n",
    "\n",
    "Reword all of the following and bring in more - testing strategy / developing test cases\n",
    "\n",
    "1. Think about size. When a test involves a collection such as a list, string, dictionary, or file, you need to do the following:\n",
    "  1. Test the empty collection.\n",
    "  2. Test a collection with one item in it.\n",
    "  3. Test a general case with several items.\n",
    "  4. Test the smallest interesting case, such as sorting a list containing two values.\n",
    "\n",
    "2. Think about dichotomies. A dichotomy is a contrast between two things. Examples of dichotomies are empty/full, even/odd, positive/negative, and alphabetic/nonalphabetic. If a function deals with two or more different categories or situations, make sure you test all of them.\n",
    "3. Think about boundaries. If a function behaves differently around a particular boundary or threshold, test exactly that boundary case.\n",
    "4. Think about order. If a function behaves differently when values appear in different orders, identify those orders and test each one of them. For the sorting example mentioned earlier, you’ll want one test case where the items are in order and one where they are not.\n",
    "\n",
    "Paul Gries, Jennifer Campbell, and Jason Montojo. 2017. Practical Programming: An Introduction to Computer Science Using Python 3.6 (3rd. ed.). Pragmatic Bookshelf.\n",
    "\n",
    "-----------\n",
    "Whittaker’s book (Whittaker 2009) includes many examples of guidelines that can be used in test-case design. Some of the most general guidelines that he suggests are:\n",
    "\n",
    "Choose inputs that force the system to generate all error messages:\n",
    "Design inputs that cause input buffers to overflow.\n",
    "Repeat the same input or series of inputs numerous times.\n",
    "Force invalid outputs to be generated.\n",
    "Force computation results to be too large or too small.\n",
    "\n",
    "------\n",
    "\n"
   ]
  },
  {
   "cell_type": "code",
   "execution_count": null,
   "id": "935ae525",
   "metadata": {},
   "outputs": [],
   "source": []
  },
  {
   "cell_type": "code",
   "execution_count": null,
   "id": "12186a72",
   "metadata": {},
   "outputs": [],
   "source": [
    "How much to test?\n",
    "Brooks’ Rule of Thumb for Scheduling a Software Project6\n",
    "• 1/3 design\n",
    "• 1/6 coding\n",
    "• 1/2 testing\n",
    "– 1/4 component testing (unit testing) – 1/4 system testing\n",
    "Testing Early and Often\n",
    "• Test early: start testing as soon as parts are implemented\n",
    "• Test often: running tests at every reasonable opportunity\n",
    "CSC116 Lecture Notes: Dr. Jessica Young Schmidt\n",
    "  6F. P. Brooks, Jr., The Mythical Man-Month: Essays on Software Engineering, Anniversary Edition, Boston: Addison-Wesley, 1995.\n"
   ]
  },
  {
   "cell_type": "code",
   "execution_count": null,
   "id": "5c793a15",
   "metadata": {},
   "outputs": [],
   "source": []
  },
  {
   "cell_type": "markdown",
   "id": "6f9ee2bd",
   "metadata": {},
   "source": [
    "`unittest` is not the only test framework available for Python.  We choose the framework as it is included in Python's standard library.  The framework also matches up similarly to the popular JUnit framework for Java.\n",
    "\n",
    "Other frameworks to examine: \n",
    "- Pytest: https://docs.pytest.org/\n",
    "- Hypothesis: https://hypothesis.readthedocs.io/"
   ]
  },
  {
   "cell_type": "markdown",
   "id": "23ad39ce",
   "metadata": {},
   "source": [
    "## Exercises\n"
   ]
  },
  {
   "cell_type": "markdown",
   "id": "ff8d2913",
   "metadata": {},
   "source": [
    "<pre>\n"
   ]
  }
 ],
 "metadata": {
  "kernelspec": {
   "display_name": "Python 3 (ipykernel)",
   "language": "python",
   "name": "python3"
  },
  "language_info": {
   "codemirror_mode": {
    "name": "ipython",
    "version": 3
   },
   "file_extension": ".py",
   "mimetype": "text/x-python",
   "name": "python",
   "nbconvert_exporter": "python",
   "pygments_lexer": "ipython3",
   "version": "3.10.4"
  }
 },
 "nbformat": 4,
 "nbformat_minor": 5
}
