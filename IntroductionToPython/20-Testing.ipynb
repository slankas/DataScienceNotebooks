{
 "cells": [
  {
   "cell_type": "markdown",
   "id": "b8a91051",
   "metadata": {},
   "source": [
    "# Testing\n",
    "\n",
    "We perform testing to increase confidence that our programs work correctly and that those programs meet our customer's expectations. We call this type of testing functional testing as it ensures that the code functions correctly. While it sounds trite, one cannot overstate the importance of software testing. Software and computer systems permeate our daily lives; the correct functionality of those systems is paramount to our safety and well-being. Unless you are reading these words from a dead tree off the grid somewhere, you are either working with a computer system or benefiting from a product (electricity) controlled by a computer system. Not only can software defects waste time as we work through the issues, but those defects can lead to monetary loss (both direct and indirect) and possibly death.  \n",
    "\n",
    "Testing directly improves product quality, leading to higher customer satisfaction with systems. For example, imagine using a computer that crashes regularly. How long would you continue to use that system? Testing also decreases product development costs, as finding and fixing defects sooner to when they first appear in the system costs less money to fix.\n",
    "\n",
    "Yes, you can initially get away with manually testing your software as you write code. (In some ways, this is necessary - build a little, test that those parts work, and build some more. Rinse, Lather, Repeat.). However, eventually, you will have significant maintainability issues. As you make changes, how do you ensure those changes do not break something?\n",
    "\n",
    "Before the early 2000s, most software and system testing was a manual process. Individuals wrote test scripts that others manually followed. Some developers built unit test cases but then executed those test cases manually. Since then, testing has become predominantly automated (although not universally). \n",
    "\n",
    "Several advantages to automated testing:\n",
    "1. Cost-savings.  These test cases can be run repetitively. Yes, higher upfront costs exist to develop test cases, but that is a one-time expense. Over the lifetime of a project, test cases can be executed thousands of times.\n",
    "2. Faster development timeframes.  As developers make enhancements to a system, existing test cases can be executed to ensure the existing functionality works. (regression testing)\n",
    "3. Immediate feedback\n",
    "4. Automation of test case development.  Fuzzing - https://owasp.org/www-community/Fuzzing\n",
    "5. Automated testing is foundational to continuous integration, continuous delivery, and other modern [DevOps practices](https://about.gitlab.com/topics/devops/).\n",
    "6. Oh ...  by the way, the automated grading of your program submissions - that's all unit tests.\n",
    "\n",
    "This notebook focuses on verification of the code we have been developing - primarily this\n",
    "involves unit testing of the code we write. Generally speaking, unit tests check that the software produces the correct output based on a specific input. We compare actual and expected results to determine if an error occurred. We consider a \"unit\" to be any portion of code testable in isolation. We can call functions and execute them, so functions are units. However, we cannot call specific lines within a function, so they are smaller than a unit. As we examine classes shortly, we can test many of the class components in isolation and, thus, treat classes as units for testing.\n",
    "\n",
    "The primary structure of functional tests is relatively consistent. As these tests check that the system produces the correct output for a given input, functions tests following this outline:\n",
    "1. Define inputs\n",
    "2. Identify the expected output\n",
    "3. Perform any system preparation to execute the test\n",
    "4. Execute the test\n",
    "5. Get the actual output\n",
    "6. Compare the actual output against the expected output to see if the two match.\n",
    "\n",
    "This notebook walks through developing test cases to execute on an automated basis. Our overarching goal is two-fold:\n",
    "1. Deliver high-quality products to our customers\n",
    "2. Reduce costs as much as possible.\n",
    "\n",
    "We will use Python's built-in testing framework, `unittest`. This framework provides capabilities to organize test cases, execute code, establish any pre-conditions necessary to perform tests, execute the tests, and remove any artifacts of the testing process. The test cases work by making assertions about the code - does this result match some expected value? An assertion is a statement of fact<sup>[*](https://www.lexico.com/en/definition/assertion)</sup>. As such, if an assertion fails, our assumption is incorrect, or the code produces an incorrect value.\n",
    "\n",
    "[unittest documentation](https://docs.python.org/3/library/unittest.html)"
   ]
  },
  {
   "cell_type": "markdown",
   "id": "1f7bc372",
   "metadata": {},
   "source": [
    "## Case Study: Bond Valuation\n",
    "We will implement several functions to compute various bond yield values to produce some code to test.\n",
    "\n",
    "A bond represents a type of corporate debt. A corporation issues a bond with a fixed principal that will be paid to the bond owner at maturity and fixed interest payments at set times. For instance, a corporation can issue a $\\$$1,000 bond with 10$\\%$ annual interest with a maturity of 10 years. Investors holding on to this bond receive $\\$$2,000 over the lifetime (10 payments of $\\$$100 plus $\\$1,000 at the end).\n",
    "\n",
    "One valuation to examine is the bond yield.  $bond yield = \\frac{annual~coupon~payment}{bond~price} $  where the $annual~coupon~payment = face~value * coupon~rate$\n",
    "\n",
    "We can then define a function to implement the bond yield."
   ]
  },
  {
   "cell_type": "code",
   "execution_count": null,
   "id": "d67d2cf0",
   "metadata": {},
   "outputs": [],
   "source": [
    "def compute_bond_yield(bond_price, face_value, coupon_rate):\n",
    "    annual_coupon_payment = face_value * coupon_rate\n",
    "    bond_yield = annual_coupon_payment / face_value         # used face_value instead of bond price\n",
    "    return bond_yield"
   ]
  },
  {
   "cell_type": "code",
   "execution_count": null,
   "id": "1591e10f",
   "metadata": {},
   "outputs": [],
   "source": [
    "compute_bond_yield(970,1000,0.05)"
   ]
  },
  {
   "cell_type": "markdown",
   "id": "14c14097",
   "metadata": {},
   "source": [
    "The result looks correct, but is it really? Ideally, we want to ensure that the output matches the expected. However, if we plug those numbers into a bond yield calculator, we see that the result should be 0.0515.\n",
    "\n",
    "To help find issues like this, we need to write unit tests. We can write these tests firsts and then build the function. We know our functions then work when they pass the test cases.\n",
    "\n",
    "To use the `unittest` module, we will first need to import that module and then write test cases. As with exceptions, we will need to extend a pre-existing class and then add methods to that class.  The approach will follow this outline:"
   ]
  },
  {
   "cell_type": "markdown",
   "id": "6f92aec4",
   "metadata": {},
   "source": [
    "<code>\n",
    "    \n",
    "import unittest\n",
    "\n",
    "class Test<i>Name</i>(unittest.TestCase):\n",
    "    def setUp(self):\n",
    "        pass\n",
    "\n",
    "    def tearDown(self):\n",
    "        pass\n",
    "\n",
    "    def test_<i>name_1</i>(self):\n",
    "        ...\n",
    "    \n",
    "    def test_<i>name_2</i>(self):\n",
    "        ...\n",
    "    \n",
    "    def test_<i>name_n</i>(self):\n",
    "        ...\n",
    "    \n",
    "</code>  "
   ]
  },
  {
   "cell_type": "markdown",
   "id": "7b8f106f",
   "metadata": {},
   "source": [
    "Generally, you will want to identify code that contains test cases unmistakably. As such, it makes sense to start the class names for the unit test with \"Test\".  Similarly, we will also want to give descriptive names to the individual methods. Many testing frameworks assume that methods starting with `test_` are test cases.  We can also add docstrings to the methods to provide a more detailed description of the test.\n",
    "\n",
    "The framework calls the `setup()` method before each test method. Use this capability to allocate resources or set up conditions necessary to execute the test cases.  You can also define a `setupClass()` method that runs once before executing any tests in the class ([more details](https://docs.python.org/3/library/unittest.html#unittest.TestCase.setUpClass)). \n",
    "\n",
    "The `tearDown()` method is called after each test method, regardless of any exceptions.  Use this method to release any allocated resources or move the system state back before the test case executed. `tearDownClass()` also exists - this executes after all of the tests in the class have been executed.\n",
    "\n",
    "It was not necessary to define `setup()` and `tearDown()` in these examples - the default behavior for both does nothing.\n",
    "\n",
    "\n",
    "From within a Python program, we can execute the defined test cases with the following method call:\n",
    "<code>\n",
    "    \n",
    "    unittest.main(argv=['unittest','Test<i>Name</i>'], verbosity=2, exit=False)\n",
    "\n",
    "</code>\n",
    "\n",
    "Remove the 'Test</i>Name</i>' element to execute all test cases that have been loaded by the interpreter.\n",
    "\n",
    "From the command line, we can execute\n",
    "`python -m unittest TestName`\n",
    "\n",
    "To discover all possible tests cases and run those, use \n",
    "`python -m unittest discover`\n",
    "\n",
    "Following the test outline, we will write some test cases for the `compute_bond_yield()` function."
   ]
  },
  {
   "cell_type": "code",
   "execution_count": null,
   "id": "427ae785",
   "metadata": {},
   "outputs": [],
   "source": [
    "class TestBondYield(unittest.TestCase):\n",
    "    \"Validates compute_bond_yield\"\n",
    "    def setUp(self):\n",
    "        pass\n",
    "    def tearDown(self):\n",
    "        pass\n",
    "    \n",
    "    def test_bond_yield_5_percent(self):\n",
    "        \"Validate that the computed bond yield approximates 0.0515\"\n",
    "        bond_yield = compute_bond_yield(970, 1000, 0.05)\n",
    "        self.assertAlmostEqual(bond_yield, 0.0515, places=4)\n",
    "        \n",
    "    def test_bond_yield_0_percent(self):\n",
    "        \"Validate that the computed bond yield equals 0 for 0%\"\n",
    "        bond_yield = compute_bond_yield(970, 1000, 0.00)\n",
    "        self.assertEqual(bond_yield, 0.0)        "
   ]
  },
  {
   "cell_type": "code",
   "execution_count": null,
   "id": "f849f247",
   "metadata": {},
   "outputs": [],
   "source": [
    "unittest.main(argv=['unittest','TestBondYield'], verbosity=2, exit=False)"
   ]
  },
  {
   "cell_type": "markdown",
   "id": "ac7f9507",
   "metadata": {},
   "source": [
    "One of the tests passed, while the other test failed. We now need to debug the code to see what occurred. Since this is a relatively small amount of code, we can employ the debug strategy of \"read\" and then \"run\". As we read the source code, does it match up with the formula?  No.  We can also step through the code manually (either with a debugger or using a memory diagram/tracing approach).  \n",
    "\n",
    "Let's correct the code and then re-run the test."
   ]
  },
  {
   "cell_type": "code",
   "execution_count": null,
   "id": "3dae21a2",
   "metadata": {},
   "outputs": [],
   "source": [
    "def compute_bond_yield(bond_price, face_value, coupon_rate):\n",
    "    annual_coupon_payment = face_value * coupon_rate\n",
    "    bond_yield = annual_coupon_payment / bond_price\n",
    "    return bond_yield"
   ]
  },
  {
   "cell_type": "code",
   "execution_count": null,
   "id": "b0be897a",
   "metadata": {},
   "outputs": [],
   "source": [
    "unittest.main(argv=['unittest','TestBondYield'], verbosity=2, exit=False)"
   ]
  },
  {
   "cell_type": "markdown",
   "id": "c50687e8",
   "metadata": {},
   "source": [
    "Another valuation for bonds is the yield to maturity(YTM).  This value is the speculative rate of a return given that an investor purchases a bond a given current market price and then holds the bond until marturity (thus, all interest payments and final payments are made).\n",
    "\n",
    "The YTM can be approximated with this formula: \n",
    "\n",
    "$ YTM = \\frac{C + \\frac{FV-PV}{t}}{\\frac{FV+PV}{2}} $\n",
    "where \n",
    "- $C$ – Interest/coupon payment\n",
    "- $FV$ – Face value of the security\n",
    "- $PV$ – Present value/price of the security\n",
    "- $t$ – How many years it takes the security to reach maturity"
   ]
  },
  {
   "cell_type": "code",
   "execution_count": null,
   "id": "5b3f161a",
   "metadata": {},
   "outputs": [],
   "source": [
    "def calculate_yield_to_maturity(bond_price, face_value, coupon_rate, t):\n",
    "    c = coupon_rate * face_value\n",
    "    ytm = (c + (face_value - bond_price)/t) / ( (face_value+bond_price) /2 )\n",
    "    return ytm"
   ]
  },
  {
   "cell_type": "code",
   "execution_count": null,
   "id": "38338baa",
   "metadata": {},
   "outputs": [],
   "source": [
    "print(compute_bond_yield(850,1000,0.15))\n",
    "print(calculate_yield_to_maturity(850,1000,0.15,7))"
   ]
  },
  {
   "cell_type": "markdown",
   "id": "529ce13e",
   "metadata": {},
   "source": [
    "We can then develop another set of test cases to test that function:"
   ]
  },
  {
   "cell_type": "code",
   "execution_count": null,
   "id": "557cf605",
   "metadata": {},
   "outputs": [],
   "source": [
    "class TestBondYTM(unittest.TestCase):\n",
    "    def setUp(self):\n",
    "        pass\n",
    "    def tearDown(self):\n",
    "        pass\n",
    "    \n",
    "    def test_bond_ytm_5_per_10_year(self):\n",
    "        \"Validate that the computed bond yield approximates 0.0515\"\n",
    "        bond_yield = calculate_yield_to_maturity(970, 1000, 0.05,10)\n",
    "        self.assertAlmostEqual(bond_yield, 0.0538, places=4)\n",
    "  "
   ]
  },
  {
   "cell_type": "code",
   "execution_count": null,
   "id": "6c964b70",
   "metadata": {},
   "outputs": [],
   "source": [
    "unittest.main(argv=['unittest','TestBondYTM'], verbosity=2, exit=False)"
   ]
  },
  {
   "cell_type": "markdown",
   "id": "7636608e",
   "metadata": {},
   "source": [
    "## Documenting Test Cases\n",
    "To document a test case, we generally define this information:\n",
    "- Unique Identifier\n",
    "- Test Inputs\n",
    "- Expected Results\n",
    "- Actual Results\n",
    "\n",
    "As you look at the source code, you can see that the `unittest` classes have this information in them already. You should include an identifier in the docstring - this will help you locate test cases in larger projects and possibly provide a hierarchical organization if desired.\n",
    "\n",
    "If you do manually test code instead, you should keep track of your tests in a text file. That way, you at least have some reference to how you previously tested the code. However, the *right* way to do this is to create automated unit tests. The investment will be worth it."
   ]
  },
  {
   "cell_type": "markdown",
   "id": "1ef4ce91",
   "metadata": {},
   "source": [
    "## Black Box and White Box Testing\n",
    "\n",
    "As we approach functional testing, we can develop test cases based on two approaches: black box and white box. In the black box approach, we do not have any access to the underlying source code - we need to consider the test cases solely based upon the inputs and the corresponding outputs. In contrast, the white box approach assumes that the test developers can see the code and then develop code specific to test paths, conditions, and branches that the code can follow. For unit testing, developers will combine these approaches to build test cases. For user acceptance testing, test cases follow a black-box approach as the users/testers do not have insight into the underlying pinnings as to how a system works."
   ]
  },
  {
   "cell_type": "markdown",
   "id": "0d81ca20",
   "metadata": {},
   "source": [
    "Revisiting the definition of software testing from the [Software Engineering Body of Knowledge](http://www.swebok.org):\n",
    "> Software testing consists of the dynamic verification that a program provides expected behaviors on a finite set of test cases, suitably selected from the usually infinite execution domain.\n",
    "\n",
    "The definition presents several interesting ideas:  \n",
    "1. The input set quite often can be infinite.  Even for the simple examples above, we have endless input values - use different values in the decimal places for the parameters to the functions.  \n",
    "2. We need to choose (create) test cases that are \"suitably selected\".  In other words, what test cases are most likely to find potential issues, represent the range of input values, and execute all of the code."
   ]
  },
  {
   "cell_type": "markdown",
   "id": "bf4c3408",
   "metadata": {},
   "source": [
    "### Black Box Testing: Equivalence Classes\n",
    "One strategy for black box testing is to divide the input values into different equivalence classes.\n",
    "\n",
    "For example, U.S. zip codes are five digits long and must conatin only numbers.. So we can divide this into the following classes:\n",
    "- a string less than five characters in length (invalid)\n",
    "- a string more than five characters in length (invalid)\n",
    "- a string that is five characters long but has non-numeric characters present  (invalid)\n",
    "- a string that is five characters long with only digits 0-9 present. (valid)\n",
    "\n",
    "Using these four classes, we assume inputs within each class are equivalent to each other. E.g., testing \"\" and \"123\" will be the same.  Similarly, no value exists for testing the 10,000 valid possibilities beyond just one example."
   ]
  },
  {
   "cell_type": "markdown",
   "id": "be857639",
   "metadata": {},
   "source": [
    "As we use equivalence classes to create test cases, we \n",
    "1. Determine if there are any specified limits and conditions for input values.\n",
    "2. Break in the input space into different classes to create partitions:\n",
    "   1. If the input space is specified as a range condition, then three classes are created: below the range (invalid), in the range (valid), and above the range (invalid).  For example, if the condition is an individual's age must be between 18 and 65, the classes are below 18, 18 to 65, and above 65.\n",
    "   2. If the input space is a given input, we have at least two classes:  valid input and invalid inputs.  Depending upon the type (e.g., numbers), we may have more classes for the invalid inputs.\n",
    "   3. C.\tIf we look at membership within a collection, we have two equivalence classes: the member exists or the member does not exist.\n",
    "   4. For Boolean values, we have two classes: `True` and `False`.\n",
    "3. Write a test case that tests each range's \"middle\" input values."
   ]
  },
  {
   "cell_type": "markdown",
   "id": "ef2a57a4",
   "metadata": {},
   "source": [
    "Examples:\n",
    "- We could have a business rule that stock symbols must be between 1 and 5 characters in length.  With these, we would create equivalence classes looking at strings that are 0, 3, and 7 characters in length.\n",
    "- Based on temperature and pressure, elements and other substances exist in one of three states - solid, liquid, and gas. Therefore, we would define equivalence classes for the input ranges to test each state.\n",
    "- The following table presents the 2022 U.S. Federal Tax Brackets:\n",
    "  | Income  | Tax   |\n",
    "  |---------|:------|\n",
    "  | <= $\\$$10,275 | 10% of the taxable income |\n",
    "  | > $\\$$10,275 and <= $\\$$41,775  | $\\$$1,027.50 plus 12% of the excess over $\\$$10,275 |\n",
    "  | > $\\$$41,775 and <= $\\$$89,075  | $\\$$4,807.50 plus 22% of the excess over $\\$$41,775 |\n",
    "  | > $\\$$89,075 and <= $\\$$170,050\t| $\\$$15,213.50 plus 24% of the excess over $\\$$89,075|  \n",
    "  | > $\\$$170,050 and <= $\\$$215,950 | $\\$$34,647.50 plus 32% of the the excess over $\\$$170,050 |\n",
    "  | > $\\$$215,950 and <= $\\$$539,900 | $\\$$49,335.50 plus 35% of the excess over $\\$$215,950 |\n",
    "  | > $\\$$539,900 |\t$\\$$162,718 plus 37% of the excess over $539,900\n",
    "  \n",
    "  We would use seven equivalence classes to create test cases with these tax brackets. We choose a value in the middle of each range to represent that test case."
   ]
  },
  {
   "cell_type": "markdown",
   "id": "b06b3cc9",
   "metadata": {},
   "source": [
    "### Black Box Testing: Boundary Value Analysis\n",
    "Boundary value analysis (boundary testing) is another black box testing strategy that complements equivalence classes. Programmers often make mistakes at the boundaries of input ranges. For example, they may use just a less than `<` comparison operator rather than a less than equals `<=` comparison operator. As such, we create test cases that are just below the boundary, on the boundary, and just above the boundary. \n",
    "\n",
    "For testing the US Federal tax brackets, we would use: \n",
    "  $\\$$10,274, $\\$$10,275, $\\$$10,276, $\\$$41,774, $\\$$41,775, $\\$$41,776, $\\$$89,074, $\\$$89,075, $\\$$89,076,\n",
    "  $\\$$170,049, $\\$$170,050, $\\$$170,051, $\\$$215,949, $\\$$215,950, $\\$$215,951, $\\$$539,899, $\\$$539,900, and\n",
    "  $\\$$539,901.  \n",
    "\n",
    "Whew,  no one ever said U.S. Federal Taxes were easy.  As a side note, payroll is a surprisingly challenging problem domain. Systems have to deal with various employee types, salaries, and pay mechanisms, but they  also have to consider benefits (e.g., 401k) and taxes (country, state, local).\n",
    "\n",
    "Another example would be looking at the states (solid, liquid, and gas). At less than 0 degrees Celsius, water becomes solid. Between 0 degrees Celsius and 100 degrees Celsius, water exists as a liquid. Above 100 degrees Celsius, water becomes a gas. So now, we have -1, 0, 1, 99, 100, and 101 as boundary possibilities.\n",
    "\n",
    "\n",
    "As numbers go from negative to positive (-1, 0, -1) is another good location for boundary testing.\n",
    "\n",
    "For collections, we would look at if the collection was empty or a single member.\n",
    "\n",
    "For lists, look at the starting and ending indexes.\n",
    "  \n"
   ]
  },
  {
   "cell_type": "markdown",
   "id": "7bba9eb4",
   "metadata": {},
   "source": [
    "### White Box Testing: Coverage \n",
    "With white box testing, developers examine the source to create test cases. The immediate advantage is the ability to look at the different conditionals within the code and write specific test cases against those conditionals. More importantly, the primary consideration with white box testing is test coverage - having a set of test cases that execute all possible code. To determine how much of the code does execute, we look at several different levels of test coverage:\n",
    "- statement\n",
    "- decision (branch)\n",
    "- paths\n",
    "\n",
    "To help define and understand these coverage concepts, consider the following function `calculate_price()`:"
   ]
  },
  {
   "cell_type": "code",
   "execution_count": null,
   "id": "97479feb",
   "metadata": {},
   "outputs": [],
   "source": [
    "def calculate_price(stock_price, num_items, discount):\n",
    "    quantity_discount = 0.0\n",
    "    result = 0.0\n",
    "\n",
    "    if num_items >= 5:\n",
    "        quantity_discount = 10;\n",
    "    elif num_items >= 10:          #ordering mistake deliberately placed in code\n",
    "        quantity_discount = 15;\n",
    "    else:\n",
    "        quantity_discount = 0\n",
    "\n",
    "    if discount > quantity_discount:\n",
    "        quantity_discount = discount\n",
    "\n",
    "    result = stock_price/100.0 * (100-quantity_discountquant) * num_items;\n",
    "\n",
    "    return result;"
   ]
  },
  {
   "cell_type": "markdown",
   "id": "feae3b9d",
   "metadata": {},
   "source": [
    "From this code, we can create a [control-flow graph](https://en.wikipedia.org/wiki/Control-flow_graph), which is a graphical representation of the paths that execution may take through a program. Each node represents a block - a piece of code - that executes as a single unit. The edges represent decisions (or jumps with iteration) in the control flow. The primary difference between a control-flow graph and a flowchart is that the decision node is combined with the predecessor node (if there is only one) as both execute as a unit. "
   ]
  },
  {
   "cell_type": "markdown",
   "id": "08d1cd33",
   "metadata": {},
   "source": [
    "![](https://github.com/slankas/DataScienceNotebooks/blob/main/IntroductionToPython/images/calculate_price_label.png?raw=true)"
   ]
  },
  {
   "cell_type": "markdown",
   "id": "2551c4ce",
   "metadata": {},
   "source": [
    "For full statement coverage, each node must execute. The function does not use the parameter `stock_price` in any conditionals, so we can keep that value constant. We need to use three different values (0, 5, 10) of `num_items` to execute the first set of conditionals. Then we need at least one of the test cases (or a new one) where the discount value is higher than the computed quantity discount. When we test `num_items` =10, we will set `discount` = 20.\n",
    "\n",
    "However, after walking through the test case of num_items = 10, we realize that the conditional in node \"2\" never evaluates to `True`. After executing the three test cases, we can see through coverage analysis that node \"4\" never executes.  Hence, we can see that a logic error exists.  The statement coverage metric is 87.5% (7/8).\n",
    "- For `num_items` = 0 and `discount` = 0, we execute nodes 1, 2, 5, 6, 8\n",
    "- For `num_items` = 5 and `discount` = 0, we execute nodes 1, 3, 6, 8\n",
    "- For `num_items` =10 and `discount` = 20, we execute nodes 1, 2, 5, 6, 7, 8"
   ]
  },
  {
   "cell_type": "markdown",
   "id": "07f591f2",
   "metadata": {},
   "source": [
    "Decision coverage requires executing all of the possible outcomes of decisions within the program. Using the control-flow graph, this requires traversing each edge in the graph. Using the same set of test cases:\n",
    "- For `num_items` = 0 and `discount` = 0, we follow edges B, D, G, I\n",
    "- For `num_items` = 5 and `discount` = 0, we follow edges A, E, I\n",
    "- For `num_items` =10 and `discount` = 20, we follow edges B, D, G, H, J\n",
    "\n",
    "As before, no possibility exists to follow edges C and F. The branch coverage metric is 80% (8/10)."
   ]
  },
  {
   "cell_type": "markdown",
   "id": "0728870b",
   "metadata": {},
   "source": [
    "Path coverage requires the test cases to follow all possible paths through the control flow graph.  \n",
    "For paths, we have six possibilities.  \n",
    "- A E H J\n",
    "- A E I\n",
    "- B C F H J\n",
    "- B C F I\n",
    "- B D G H J\n",
    "- B D G I\n",
    "\n",
    "One way to compute the total number of paths is to examine the \"independent\" conditionals within the program.  In this example, our first conditional had three possibilities, while the second conditional had two possibilities. $ 2 * 3 = 6 $ \n",
    "\n",
    "The number of paths can grow to become very large. For example, the U.S. Federal Tax Bracket has seven initial possibilities assuming we only looked at just the income. Four independent `if` statements within a function creates $2^4(16)$ possibilities. As you can see, getting to 100% path coverage can become overwhelming with nontrivial code.\n",
    "\n",
    "Also, realize that these coverage metrics can be misleading. One test case alone (`num_items` =10 and `discount` = 20) executes 6 of 8 nodes (statements) and 5 of 10 edges (decisions/branches). Assuming, we corrected the code to order the conditionals correctly in the first check:\n",
    "<pre>\n",
    "    if num_items >= 10:\n",
    "        quantity_discount = 15;\n",
    "    elif num_items >= 5:       \n",
    "        quantity_discount = 10;\n",
    "    else:\n",
    "        quantity_discount = 0    \n",
    "</pre>\n",
    "Our three test cases would then have 100% statement and 100% decision coverage. Assuming we add another three test cases to get to 100% path coverage, it may still be possible to have issues with the code.  What happens when the `discount` is greater than or equal to 100?  Are we giving away products as well as handing out money?\n",
    "    \n",
    "Additionally, coverage tools only evaluate whether or not code executes - they do not evaluate whether a test case is beneficial. As a result, you can have test cases that execute quite a bit of code but do not perform worthwhile tests or have meaningful assertions. Combining both black box test strategies and white box strategies helps to overcome such gaps in test cases."
   ]
  },
  {
   "cell_type": "markdown",
   "id": "4cbf488d",
   "metadata": {},
   "source": [
    "## Testing Strategies\n",
    "\n",
    "Many different strategies exist for developing test cases. Paul Gries, Jennifer Campbell, and Jason Montojo presented these strategies:\n",
    "\n",
    "1. Think about size. When a test involves a collection such as a list, string, dictionary, or file, you need to do the following:\n",
    "  1. Test the empty collection.\n",
    "  2. Test a collection with one item in it.\n",
    "  3. Test a general case with several items.\n",
    "  4. Test the smallest interesting case, such as sorting a list containing two values.\n",
    "\n",
    "2. Think about dichotomies. A dichotomy is a contrast between two things. Examples of dichotomies are empty/full, even/odd, positive/negative, and alphabetic/nonalphabetic. If a function deals with two or more different categories or situations, make sure you test all of them.\n",
    "3. Think about boundaries. If a function behaves differently around a particular boundary or threshold, test exactly that boundary case.\n",
    "4. Think about order. If a function behaves differently when values appear in different orders, identify those orders and test each one of them. For the sorting example mentioned earlier, you’ll want one test case where the items are in order and one where they are not.\n",
    "\n",
    "Source: Paul Gries, Jennifer Campbell, and Jason Montojo. 2017. _Practical Programming: An Introduction to Computer Science Using Python 3.6 (3rd. ed.)_. Pragmatic Bookshelf."
   ]
  },
  {
   "cell_type": "markdown",
   "id": "af09eb29",
   "metadata": {},
   "source": [
    "Andrew Hunt and David Thomas created an acronym: CORRECT\n",
    "- Conformance: Does the value conform to an expected format?\n",
    "- Ordering: Is the set of values ordered or unordered as appropriate?\n",
    "- Range: Is the value within reasonable minimum and maximum values?\n",
    "- Reference: Does the code reference anything external that is not under the direct control of the code itself?\n",
    "- Existence: Does the value exist (is it non-null, nonzero, present in a set, and so on)?\n",
    "- Cardinality: Are there exactly enough values?\n",
    "- Time (absolute and relative): Is everything happening in order? At the right time? In time?\n",
    "\n",
    "Source: Andrew Hunt and David Thomas. 2003. _Pragmatic Unit Testing in Java with JUnit_. The Pragmatic Programmers."
   ]
  },
  {
   "cell_type": "markdown",
   "id": "ce6dcb42",
   "metadata": {},
   "source": [
    "Some additional guidelines to consider:\n",
    "- Choose inputs to force the system to generate all error messages\n",
    "- Choose inputs to force the system to raise exceptions\n",
    "- Test both the \"happy\" paths as well as as the negative times\n",
    "- Execute APIs with different orderings\n",
    "- Look for inputs that may cause overflow issues.  Use extremely large or small values."
   ]
  },
  {
   "cell_type": "markdown",
   "id": "898b4455",
   "metadata": {},
   "source": [
    "<div style=\"border: 3px solid black;padding: 10px; border-radius: 10px;\">\n",
    "    <b>Testing Miss:</b>\n",
    "One of the testing misses that one of the authors witnessed looked at checking the 401k deductions that \n",
    "individual could make.  By law, this value is limited to $\\$$27,000 for individuals over the age of 50.  While running the code in production, the process failed as one employee (the company CEO) reached the limit on the first paycheck of year.\n",
    "</div>"
   ]
  },
  {
   "cell_type": "markdown",
   "id": "ca57afb2",
   "metadata": {},
   "source": [
    "## How Much Testing?\n",
    "Writing a comprehensive test suite is a time-consuming effort. Unfortunately, how much testing is required is project dependent. Much depends upon the confidence needed that the code is correct. Little testing may be necessary for throw-away code that may be used once or to evaluate a particular design choice. For code used in mission(business) critical systems, much more confidence is needed that the code is correct; therefore, you need to build more test cases. Ideally, you should aim for 100% decision coverage. Testing is an investment that will save you time and resources. You should be able to find issues sooner and confidently make future code changes without breaking existing functionality.\n",
    "\n",
    "Very little exists in the literature (academic papers and books) for guidelines.  Fred Books, in his seminal book, _The Mythical Man-Month: Essays on Software Engineering_, presented this schedule breakdown:\n",
    "- 1/3 design\n",
    "- 1/6 coding\n",
    "- 1/2 testing (broken down evenly between unit testing and system testing)\n",
    "\n",
    "Source: F. P. Brooks, Jr., _The Mythical Man-Month: Essays on Software Engineering_, Anniversary Edition, Boston: Addison-Wesley, 1995."
   ]
  },
  {
   "cell_type": "markdown",
   "id": "4e3ce27c",
   "metadata": {},
   "source": [
    "Final thoughts:\n",
    "- Test early: start testing as soon as parts are implemented\n",
    "- Test often: running tests at every reasonable opportunity"
   ]
  },
  {
   "cell_type": "markdown",
   "id": "6f9ee2bd",
   "metadata": {},
   "source": [
    "## Other Testing Frameworks\n",
    "\n",
    "`unittest` is not the only test framework available for Python. Python's standard library contains `unittest`.  The framework also matches up similarly to the widely-used JUnit framework for Java.\n",
    "\n",
    "Other frameworks to examine: \n",
    "- Pytest: https://docs.pytest.org/\n",
    "- Hypothesis: https://hypothesis.readthedocs.io/"
   ]
  },
  {
   "cell_type": "markdown",
   "id": "23ad39ce",
   "metadata": {},
   "source": [
    "## Exercises\n",
    "1. For the following problem, determine the equivalence classes and provide a representative value:  For orders below $\\$$100,000 no discount is available.  For orders up to $\\$$200,000, a discount of 10%.  For orders up to $\\$$350,000, a discount of 15% is available.  For orders over $\\$$350,000, a 20% is offered.  \n",
    "1. For the values in the previous problem, what order values are needed to test the boundary conditions?\n",
    "1. What are the boundary values to test for the individual's 's age must be between 18 and 65?\n",
    "1. Write the function `compute_price(order_total)` and create a `unittest` class for both the boundary conditions and equivalence classes.\n",
    "1. Write a function `strip_digits(str)` that removes any digits from the string parameter and then returns the result. Write a `unittest` class for the function.  You should test the following conditions:\n",
    "   - empty string\n",
    "   - string with no digits present\n",
    "   - string with only digits present\n",
    "   - string with a mixture of digits and other characters.\n",
    "   \n",
    "1. Given the following function, `median(l)`, which returns the median value for the items in a list, create a `unittest` class that has 100% statement coverage and 100% decision coverage.  How many paths are possible?"
   ]
  },
  {
   "cell_type": "code",
   "execution_count": null,
   "id": "5aa1f247",
   "metadata": {},
   "outputs": [],
   "source": [
    "def median(l):\n",
    "    \"\"\"Finds the median value of the list\"\"\"\n",
    "    if l:\n",
    "        result = 0\n",
    "        s_list = sorted(l)\n",
    "        if len(s_list) % 2 == 1:\n",
    "            result = s_list[len(s_list)//2] \n",
    "        else:\n",
    "            print(len(s_list)//2)\n",
    "            result = (s_list[len(s_list)//2 - 1] + s_list[len(s_list)//2])/2\n",
    "        return result\n",
    "    else:\n",
    "        raise ValueError(\"list empty\")"
   ]
  },
  {
   "cell_type": "markdown",
   "id": "946c005f",
   "metadata": {},
   "source": [
    "![](https://github.com/slankas/DataScienceNotebooks/blob/main/IntroductionToPython/images/median.png?raw=true)"
   ]
  },
  {
   "cell_type": "markdown",
   "id": "ff8d2913",
   "metadata": {},
   "source": [
    "<pre>\n"
   ]
  }
 ],
 "metadata": {
  "kernelspec": {
   "display_name": "Python 3 (ipykernel)",
   "language": "python",
   "name": "python3"
  },
  "language_info": {
   "codemirror_mode": {
    "name": "ipython",
    "version": 3
   },
   "file_extension": ".py",
   "mimetype": "text/x-python",
   "name": "python",
   "nbconvert_exporter": "python",
   "pygments_lexer": "ipython3",
   "version": "3.10.4"
  }
 },
 "nbformat": 4,
 "nbformat_minor": 5
}
