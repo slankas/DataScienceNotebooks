{
 "cells": [
  {
   "cell_type": "markdown",
   "id": "b8a91051",
   "metadata": {},
   "source": [
    "# Automated Testing\n",
    "\n",
    "We perform testing to increase confidence that our programs work correctly and that those programs meet our customer's expectations.\n",
    "\n",
    "Yes, initially, you can get away with manually testing your software as your write code.  (And in some ways, this is necessary - build a little, test that those parts work, and build some more.  Rinse, Lather, Repeat.). However, eventually you will have significant maintainability issues. As you make changes, how do you ensure those changes did not break something?\n",
    "\n",
    "Prior to the early 2000's, most software and system testing was a manual process.  Individuals wrote test scripts that were then executed.  Some unit test cases were built, but largely executed manually.  Since then, testing has been become automated (although not universally).  \n",
    "\n",
    "Several advantages to automated testing:\n",
    "1. Cost-savings.  These test cases can be run repetitively.  Yes, a higher upfront costs exists to develop test cases, but that's more of a one time expense.  Over the lifetime of a project, these test cases can now be executed thousands at time.\n",
    "2. Faster development timeframes.  As enhancements are made to system, existing test cases can be executed to ensure the existing functionality still works.  (regression testing)\n",
    "3. Immediate feedback\n",
    "4. Automation of test cases development.  Fuzzing - https://owasp.org/www-community/Fuzzing\n",
    "5. Automated testing is to foundation to continuous integration, continuous delivery, and other modern [DevOps practices](https://about.gitlab.com/topics/devops/).\n",
    "6. Oh...  by the way, the automated grading of your program submissions - that's all unit tests."
   ]
  },
  {
   "cell_type": "markdown",
   "id": "1f7bc372",
   "metadata": {},
   "source": [
    "look at bond yield calculator"
   ]
  },
  {
   "cell_type": "markdown",
   "id": "5fc2b0b4",
   "metadata": {},
   "source": [
    "## Test Case: Boiling Point\n",
    "\n",
    "\n",
    "\n",
    "\n",
    "Source: https://www.omnicalculator.com/chemistry/boiling-point-altitude   https://chemistrycalc.com/chemistry/boiling-point-altitude-calculator/\n",
    "        "
   ]
  },
  {
   "cell_type": "code",
   "execution_count": 19,
   "id": "dc9e89ea",
   "metadata": {},
   "outputs": [
    {
     "name": "stdout",
     "output_type": "stream",
     "text": [
      "193.6036626958313\n"
     ]
    }
   ],
   "source": [
    "import math\n",
    "\n",
    "def compute_boiling_point(altitude_meters):\n",
    "    if (altitude_meters < 0):\n",
    "        raise ValueError(\"Altitude cannot be negative\")\n",
    "        \n",
    "    altitude = altitude_meters * 3.28084\n",
    "    pressure = 29.921 * (1 - 0.0000068753 * altitude)**5.2559\n",
    "    boiling_point = 49.161 * math.log(pressure) + 44.932\n",
    "    return boiling_point\n",
    "\n",
    "print (boiling_point)"
   ]
  },
  {
   "cell_type": "code",
   "execution_count": 17,
   "id": "e1aabc78",
   "metadata": {},
   "outputs": [
    {
     "name": "stderr",
     "output_type": "stream",
     "text": [
      "test_altitude_zero (__main__.TestBoiling) ... ok\n",
      "\n",
      "----------------------------------------------------------------------\n",
      "Ran 1 test in 0.002s\n",
      "\n",
      "OK\n"
     ]
    },
    {
     "name": "stdout",
     "output_type": "stream",
     "text": [
      "212.00863642795116\n"
     ]
    },
    {
     "data": {
      "text/plain": [
       "<unittest.main.TestProgram at 0x1101b1720>"
      ]
     },
     "execution_count": 17,
     "metadata": {},
     "output_type": "execute_result"
    }
   ],
   "source": [
    "import unittest\n",
    "\n",
    "class TestBoiling(unittest.TestCase):\n",
    "    def setUp(self):\n",
    "        pass\n",
    "\n",
    "    def tearDown(self):\n",
    "        pass\n",
    "\n",
    "        \n",
    "    def test_altitude_zero(self):\n",
    "        bp = compute_boiling_point(0)\n",
    "        print(bp)\n",
    "        self.assertAlmostEqual(212,bp,1)\n",
    "        \n",
    "        \n"
   ]
  },
  {
   "cell_type": "code",
   "execution_count": null,
   "id": "ea3e3223",
   "metadata": {},
   "outputs": [],
   "source": [
    "## what is a test case  ...\n",
    "Test Case Information\n",
    "• Unique Identifier\n",
    "• Test Inputs\n",
    "• Expected Results\n",
    "• Actual Results"
   ]
  },
  {
   "cell_type": "code",
   "execution_count": null,
   "id": "eeb53010",
   "metadata": {},
   "outputs": [],
   "source": []
  },
  {
   "cell_type": "code",
   "execution_count": null,
   "id": "25da62dd",
   "metadata": {
    "scrolled": true
   },
   "outputs": [],
   "source": [
    "Other packages to explore\n",
    "https://docs.pytest.org/\n",
    "https://hypothesis.readthedocs.io/"
   ]
  },
  {
   "cell_type": "code",
   "execution_count": 8,
   "id": "71093c6f",
   "metadata": {},
   "outputs": [],
   "source": [
    "import unittest"
   ]
  },
  {
   "cell_type": "code",
   "execution_count": 10,
   "id": "2f40bbc1",
   "metadata": {},
   "outputs": [],
   "source": [
    "unittest.main??"
   ]
  },
  {
   "cell_type": "markdown",
   "id": "ce6dcb42",
   "metadata": {},
   "source": [
    "Reword all of the following and bring in more - testing strategy / developing test cases\n",
    "\n",
    "1. Think about size. When a test involves a collection such as a list, string, dictionary, or file, you need to do the following:\n",
    "  1. Test the empty collection.\n",
    "  2. Test a collection with one item in it.\n",
    "  3. Test a general case with several items.\n",
    "  4. Test the smallest interesting case, such as sorting a list containing two values.\n",
    "\n",
    "2. Think about dichotomies. A dichotomy is a contrast between two things. Examples of dichotomies are empty/full, even/odd, positive/negative, and alphabetic/nonalphabetic. If a function deals with two or more different categories or situations, make sure you test all of them.\n",
    "3. Think about boundaries. If a function behaves differently around a particular boundary or threshold, test exactly that boundary case.\n",
    "4. Think about order. If a function behaves differently when values appear in different orders, identify those orders and test each one of them. For the sorting example mentioned earlier, you’ll want one test case where the items are in order and one where they are not.\n",
    "\n",
    "Paul Gries, Jennifer Campbell, and Jason Montojo. 2017. Practical Programming: An Introduction to Computer Science Using Python 3.6 (3rd. ed.). Pragmatic Bookshelf.\n",
    "\n",
    "-----------\n",
    "Whittaker’s book (Whittaker 2009) includes many examples of guidelines that can be used in test-case design. Some of the most general guidelines that he suggests are:\n",
    "\n",
    "Choose inputs that force the system to generate all error messages:\n",
    "Design inputs that cause input buffers to overflow.\n",
    "Repeat the same input or series of inputs numerous times.\n",
    "Force invalid outputs to be generated.\n",
    "Force computation results to be too large or too small.\n",
    "\n",
    "------\n",
    "\n"
   ]
  },
  {
   "cell_type": "code",
   "execution_count": null,
   "id": "d8d3ab6d",
   "metadata": {},
   "outputs": [],
   "source": [
    "test Equivalence Classes\n",
    "• Input/output space is broken into different equivalence classes\n",
    "• Each equivalence class is tested\n",
    "• Tests are written to include “middle” input values from each of the possible classes – One test may consider multiple equivalence classes\n",
    "– One for each type of input/output\n",
    "• A test focuses on one equivalence class, but other values are needed for a full test. Those other values should be ”middle” values.\n",
    "• Helps further test requirements by considering groups of inputs/outputs\n"
   ]
  },
  {
   "cell_type": "code",
   "execution_count": null,
   "id": "7a63b99a",
   "metadata": {},
   "outputs": [],
   "source": [
    "Test Boundary Values\n",
    "Programmers tend to make mistakes at boundaries\n",
    "Want to test program boundaries and values to either side of the boundary\n",
    "\n",
    "(smallest, largest, change from negative to positive)\n"
   ]
  },
  {
   "cell_type": "code",
   "execution_count": null,
   "id": "935ae525",
   "metadata": {},
   "outputs": [],
   "source": [
    "Testing Strategies\n",
    "• Test Requirements\n",
    "• Test Equivalence Classes • Test Boundary Values\n",
    "• Test All Paths\n",
    "• Test Exceptions"
   ]
  },
  {
   "cell_type": "code",
   "execution_count": null,
   "id": "17f969ba",
   "metadata": {},
   "outputs": [],
   "source": [
    "code coverage\n",
    "- function/method\n",
    "- statement\n",
    "- edge\n",
    "- branch\n",
    "- condition. (predicate coverage)\n",
    "\n"
   ]
  },
  {
   "cell_type": "code",
   "execution_count": null,
   "id": "12186a72",
   "metadata": {},
   "outputs": [],
   "source": [
    "How much to test?\n",
    "Brooks’ Rule of Thumb for Scheduling a Software Project6\n",
    "• 1/3 design\n",
    "• 1/6 coding\n",
    "• 1/2 testing\n",
    "– 1/4 component testing (unit testing) – 1/4 system testing\n",
    "Testing Early and Often\n",
    "• Test early: start testing as soon as parts are implemented\n",
    "• Test often: running tests at every reasonable opportunity\n",
    "CSC116 Lecture Notes: Dr. Jessica Young Schmidt\n",
    "  6F. P. Brooks, Jr., The Mythical Man-Month: Essays on Software Engineering, Anniversary Edition, Boston: Addison-Wesley, 1995.\n"
   ]
  },
  {
   "cell_type": "code",
   "execution_count": null,
   "id": "5c793a15",
   "metadata": {},
   "outputs": [],
   "source": []
  },
  {
   "cell_type": "code",
   "execution_count": null,
   "id": "0a57d07f",
   "metadata": {},
   "outputs": [],
   "source": []
  },
  {
   "cell_type": "code",
   "execution_count": null,
   "id": "d227d6ea",
   "metadata": {},
   "outputs": [],
   "source": []
  },
  {
   "cell_type": "markdown",
   "id": "ff8d2913",
   "metadata": {},
   "source": [
    "<pre>\n"
   ]
  }
 ],
 "metadata": {
  "kernelspec": {
   "display_name": "Python 3 (ipykernel)",
   "language": "python",
   "name": "python3"
  },
  "language_info": {
   "codemirror_mode": {
    "name": "ipython",
    "version": 3
   },
   "file_extension": ".py",
   "mimetype": "text/x-python",
   "name": "python",
   "nbconvert_exporter": "python",
   "pygments_lexer": "ipython3",
   "version": "3.10.4"
  }
 },
 "nbformat": 4,
 "nbformat_minor": 5
}
