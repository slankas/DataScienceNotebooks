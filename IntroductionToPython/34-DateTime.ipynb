{
 "cells": [
  {
   "cell_type": "markdown",
   "id": "113c98ed",
   "metadata": {},
   "source": [
    "<div class=\"pagebreak\"></div>\n",
    "\n",
    "# Dates and Times\n",
    "Dates and times exist in a vast number of different applications. At a very minimum, log messages have datetime values to show when an event occurred.    \n",
    "\n",
    "Datetime representation and functionality seems to be a problem with straightforward solutions, but underneath the surface, implementing datetime correctly has been surprisingly difficult to get correct.  \n",
    "\n",
    "One problem stems from how we represent dates in our daily lives -\n",
    "- October 5, 2005\n",
    "- Oct. 5, 2005\n",
    "- 5 Oct 2005\n",
    "- 5/10/2005\n",
    "- 10/5/2005\n",
    "- 20051005\n",
    "\n",
    "So many formats?  Which comes first - the day or the month?  do we start counting at 0 or at 1?   What about time zones?  Does  Arizona still not follow daylight savings time? Can't confuse coyotes. When did the cows in Indiana start following daylight savings time? Then there's leap years that occur every 4 years, except at the century mark, unless divisible by 400...  Then there's leap seconds.  When are those applied?  When was the last one applied?  Most of western civilization follows the Gregorian calendar, but what about dates prior to its introduction in 1582?  What do other civilizations use? \n",
    "\n",
    "Most computer systems now track datetime based upon [Unix Epoch](https://en.wikipedia.org/wiki/Unix_time), which is the number of seconds since January 1st, 1970 at 00:00:00 UTC.   Some implementations will also use even finer grained representations such as milliseconds and nano seconds. Due to the size of most computer systems when this approach was adopted, the datetime type was track with a signed 32 bit integer which limits the acceptable date range from Dec 13, 1901 to January 19, 20238.  Using a 64 bit numbers in modern system means these limits are no longer a practical concern.  \n",
    "\n",
    "Web page to see the current Epoch time and perform conversions: [https://currentmillis.com/](https://currentmillis.com/)\n",
    "\n",
    "For string representations of dates and times, you should strive to follow [ISO 8601](https://en.wikipedia.org/wiki/ISO_8601).  The format expresses dates and times from largest unit to the smallest unit. Python's datetime module uses the following format for ISO (though several alternatives exist): 2005-10-05T22:40:32.123456  (YYYYMMDDTHHmmSS.ssssss) where\n",
    "- YYYY: 4 digit year\n",
    "- MM: 2 digit month from 01 to 12\n",
    "- DD: 2 digit day from 01 to 31\n",
    "- T: separate of the date and time portions.  Time portions can also be separated by :\n",
    "- HH: 2 digit hours from 00 to 23\n",
    "- mm: 2 digit minutes from 00 to 59\n",
    "- SS: 2 digit seconds from 00 to 59\n",
    "- sssuuu: 3 digits for milliseconds and 3 digits for microsecods."
   ]
  },
  {
   "cell_type": "markdown",
   "id": "ba53f756",
   "metadata": {},
   "source": [
    "## The `datetime` Module\n",
    "Python's `datetime` module provides functionality to support date and times.  The module defines four primary classes:\n",
    "- `date`: represents just dates\n",
    "- `time`: represents time, but no dates.\n",
    "- `datetime`: represents the date and time together\n",
    "- `timedelta`: used for the difference/interval between dates and/or times"
   ]
  },
  {
   "cell_type": "code",
   "execution_count": null,
   "id": "5c6ae3ad",
   "metadata": {},
   "outputs": [],
   "source": [
    "import datetime as dt"
   ]
  },
  {
   "cell_type": "code",
   "execution_count": null,
   "id": "edff1e9f",
   "metadata": {},
   "outputs": [],
   "source": [
    "# run a command to see what's available within the datetime/dt module\n"
   ]
  },
  {
   "cell_type": "markdown",
   "id": "aa32bd78",
   "metadata": {},
   "source": [
    "In the output, you should have seen at least the four main classes listed. Ideally, you can see the online information available from within Python on these classes."
   ]
  },
  {
   "cell_type": "markdown",
   "id": "58a1defb",
   "metadata": {},
   "source": [
    "### `date`\n",
    "\n",
    "Several different methods exist to create a date object:"
   ]
  },
  {
   "cell_type": "code",
   "execution_count": null,
   "id": "acff57ff",
   "metadata": {},
   "outputs": [],
   "source": [
    "from datetime import date\n",
    "\n",
    "# From the current date\n",
    "today = date.today()\n",
    "print(today)\n",
    "\n",
    "# From a specific year, month and date\n",
    "someday = date(2005,10,5)\n",
    "print(someday)\n",
    "\n",
    "# From Unix epoch time value\n",
    "anotherday = date.fromtimestamp(1656549504)\n",
    "print(anotherday)\n",
    "\n",
    "# From an isoformat string\n",
    "aday = date.fromisoformat(\"2021-12-02\")\n",
    "print(aday)\n",
    "\n",
    "# from the number of days since January 1st, 0001.\n",
    "oday = date.fromordinal(738340)\n",
    "print(oday)\n",
    "\n",
    "# Show the min and max values possibles for date\n",
    "print(\"Minimum date:\",date.min)\n",
    "print(\"Maximum date:\",date.max)"
   ]
  },
  {
   "cell_type": "markdown",
   "id": "754b7715",
   "metadata": {},
   "source": [
    "The `date` object supports the comparison operators: ==, !=, <, <=, >=, >\n",
    "\n",
    "You can also also substract two date objects to get a `timedelta` object representing the difference between dates."
   ]
  },
  {
   "cell_type": "code",
   "execution_count": null,
   "id": "18512c49",
   "metadata": {},
   "outputs": [],
   "source": [
    "x = today-oday\n",
    "print(type(x))\n",
    "print(x)"
   ]
  },
  {
   "cell_type": "markdown",
   "id": "e1dd01f5",
   "metadata": {},
   "source": [
    "### `time`\n",
    "\n",
    "The `time` object represents time.  As with the `date` object, we have several ways to contruct a `time` object."
   ]
  },
  {
   "cell_type": "code",
   "execution_count": null,
   "id": "496a090e",
   "metadata": {},
   "outputs": [],
   "source": [
    "from datetime import time\n",
    "\n",
    "# from the current datetime, extract the time portion \n",
    "#(can do this with any datetime object)\n",
    "t = dt.datetime.now().time()\n",
    "print(type(t))\n",
    "print(\"Current time:\",t)\n",
    "\n",
    "# from a specific time\n",
    "spec_time = time(23,4,30)\n",
    "print(spec_time)\n",
    "\n",
    "# from a specific time, using microseconds\n",
    "spec_time = time(11,5,24,123456)\n",
    "print(spec_time)\n",
    "\n",
    "# display the minimum and maximum values\n",
    "print(\"Minimum time:\", time.min)\n",
    "print(\"Maximum time:\", time.max)\n",
    "\n",
    "# Access the time attributes\n",
    "print(\"hour:\", t.hour)\n",
    "print(\"minute:\", t.minute)\n",
    "print(\"second:\", t.second)\n",
    "print(\"microsecond:\", t.microsecond)"
   ]
  },
  {
   "cell_type": "markdown",
   "id": "89faa0bc",
   "metadata": {},
   "source": [
    "The `time` object supports the comparison operators: ==, !=, <, <=, >=, >\n",
    "\n",
    "The `time` object does not support the subtraction operator.\n",
    "\n",
    "The `time` object does support timezones, which will cover as part of `datetime`."
   ]
  },
  {
   "cell_type": "markdown",
   "id": "16acdecf",
   "metadata": {},
   "source": [
    "### `datetime`\n",
    "The `datetime` class inherites from the `date` class, adding the capabilities to also represent time."
   ]
  },
  {
   "cell_type": "code",
   "execution_count": null,
   "id": "b66b0f4e",
   "metadata": {},
   "outputs": [],
   "source": [
    "# main constructor from\n",
    "a = dt.datetime(2014, 11, 28, 17, 10, 30, 342380)\n",
    "print(\"year =\", a.year)\n",
    "print(\"month =\", a.month)\n",
    "print(\"hour =\", a.hour)\n",
    "print(\"minute =\", a.minute)\n",
    "print(\"timestamp =\", a.timestamp())\n",
    "print()\n",
    "\n",
    "# create datetime from the current date and time\n",
    "now = dt.datetime.now()\n",
    "utcnow = dt.datetime.utcnow()\n",
    "print(now.isoformat())\n",
    "print(utcnow.isoformat())\n",
    "print()\n",
    "\n",
    "# Construct date from an iso formatted string\n",
    "iso = dt.datetime.fromisoformat(\"2022-06-30T20:19:56+05:00\")\n",
    "print(iso.isoformat())"
   ]
  },
  {
   "cell_type": "markdown",
   "id": "2f7a9743",
   "metadata": {},
   "source": [
    "If you notice in the above code that the datetime objects do not have an associated timezone unless you explicitly specify one.  While `datetime.now()` returns the current time in the local timezone, the datetime object is not aware of that timezone by default.  Python considers calls these two types of datetime objects as aware and naive.  Aware datetime objects include timezone information.  Naive objects do not have timezone information.  Aware objects can unambiguously define a specific moment in time and can be computed relative to aware datetime objects.  A naive datetime object has neither of those two properties - the exact meaning of is left to the program.  The lesson - always use timezones when you work with datetime objects. \n",
    "\n",
    "The following code returns the local timezone as a `datetime.timezone` object."
   ]
  },
  {
   "cell_type": "code",
   "execution_count": null,
   "id": "b73b51c8",
   "metadata": {},
   "outputs": [],
   "source": [
    "LOCAL_TIMEZONE = dt.datetime.now().astimezone().tzinfo\n",
    "print(\"Time Zone:\",LOCAL_TIMEZONE)\n",
    "print(\"Type:\",type(LOCAL_TIMEZONE))"
   ]
  },
  {
   "cell_type": "markdown",
   "id": "e310fa87",
   "metadata": {},
   "source": [
    "Recommended approach to creating UTC current datetime objects:"
   ]
  },
  {
   "cell_type": "code",
   "execution_count": null,
   "id": "1a4d006b",
   "metadata": {},
   "outputs": [],
   "source": [
    "utc = dt.datetime.now(dt.timezone.utc)\n",
    "print(utc)"
   ]
  },
  {
   "cell_type": "markdown",
   "id": "d187258f",
   "metadata": {},
   "source": [
    "The next block defines a function that converts a datetime to a specific timezone."
   ]
  },
  {
   "cell_type": "code",
   "execution_count": null,
   "id": "78a5a601",
   "metadata": {},
   "outputs": [],
   "source": [
    "def utc_to_timezone(utc_dt,time_zone=None):\n",
    "    \"\"\"Converts a datetime assumed to be in UTC timezone to a specifc time zone. \n",
    "       If the timezone is not defined, then the local timezone is assumed.\"\"\"\n",
    "    return utc_dt.replace(tzinfo=dt.timezone.utc).astimezone(tz=time_zone)"
   ]
  },
  {
   "cell_type": "code",
   "execution_count": null,
   "id": "37db34df",
   "metadata": {},
   "outputs": [],
   "source": [
    "# get the current time and convert to the local timezone.\n",
    "print(utc_to_timezone(dt.datetime.utcnow()))"
   ]
  },
  {
   "cell_type": "markdown",
   "id": "b3788b61",
   "metadata": {},
   "source": [
    "In the following code, we'll use the zoneinfo package which was added to the Standard Library in 3.9.\n",
    "\n",
    "With this module, we can instantiate timezone objects based upon a [time zone name](https://en.wikipedia.org/wiki/List_of_tz_database_time_zones) - the available ones for Python can be found through `zoneinfo.available_timezones()`"
   ]
  },
  {
   "cell_type": "code",
   "execution_count": null,
   "id": "da4d564e",
   "metadata": {},
   "outputs": [],
   "source": [
    "import zoneinfo\n",
    "\n",
    "# produces a set of timezone names\n",
    "zones = zoneinfo.available_timezones()\n",
    "\n",
    "# convert the curent datetime to Hong Kong's timezone\n",
    "hk_tz = zoneinfo.ZoneInfo('HongKong')\n",
    "print(utc_to_timezone(dt.datetime.utcnow(),hk_tz))"
   ]
  },
  {
   "cell_type": "markdown",
   "id": "6734ec9f",
   "metadata": {},
   "source": [
    "## Date and Time Arithmetic\n",
    "TODO: need more"
   ]
  },
  {
   "cell_type": "code",
   "execution_count": null,
   "id": "5567e682",
   "metadata": {},
   "outputs": [],
   "source": [
    "t4 = dt.datetime(year = 2018, month = 7, day = 12, hour = 7, minute = 9, second = 33)\n",
    "t5 = dt.datetime(year = 2019, month = 6, day = 10, hour = 5, minute = 55, second = 13)\n",
    "t6 = t4 - t5\n",
    "print(\"t6 =\", t6)\n",
    "\n",
    "t4 = dt.datetime(year = 2018, month = 12, day = 31, hour = 23, minute = 0, second = 33)\n",
    "t5 = dt.datetime(year = 2019, month = 1, day = 31, hour = 1, minute = 0, second = 13)\n",
    "t6 = t4 - t5\n",
    "print(\"t6 =\", t6)"
   ]
  },
  {
   "cell_type": "markdown",
   "id": "2db3307c",
   "metadata": {},
   "source": [
    "## Formatting and Parsing\n",
    "As with with many other programming languages, Python allows you to define custom formats to display date & time as well as to parse strings for those custom formats.\n",
    "\n",
    "Use the `strftime` function to convert datetime into a specific formatted string.  The format string defines a series of format codes that correspond to the different parts of a date as well as different ways to display that part."
   ]
  },
  {
   "cell_type": "code",
   "execution_count": null,
   "id": "ec0f4a6c",
   "metadata": {},
   "outputs": [],
   "source": [
    "utcnow = dt.datetime.utcnow().replace(tzinfo=dt.timezone.utc)\n",
    "print(utcnow.strftime(\"%m/%d/%Y, %H:%M:%S %Z\"))"
   ]
  },
  {
   "cell_type": "markdown",
   "id": "01cf225c",
   "metadata": {},
   "source": [
    "<table class=\"docutils align-default\">\n",
    "<colgroup>\n",
    "<col style=\"width: 15%\">\n",
    "<col style=\"width: 43%\">\n",
    "<col style=\"width: 32%\">\n",
    "<col style=\"width: 9%\">\n",
    "</colgroup>\n",
    "<thead>\n",
    "<tr class=\"row-odd\"><th class=\"head\"><p>Directive</p></th>\n",
    "<th class=\"head\"><p>Meaning</p></th>\n",
    "<th class=\"head\"><p>Example</p></th>\n",
    "<th class=\"head\"><p>Notes</p></th>\n",
    "</tr>\n",
    "</thead>\n",
    "<tbody>\n",
    "<tr class=\"row-odd\"><td><p><code class=\"docutils literal notranslate\"><span class=\"pre\">%y</span></code></p></td>\n",
    "<td><p>Year without century as a\n",
    "zero-padded decimal number.</p></td>\n",
    "<td><p>00, 01, …, 99</p></td>\n",
    "<td><p>(9)</p></td>\n",
    "</tr>\n",
    "<tr class=\"row-even\"><td><p><code class=\"docutils literal notranslate\"><span class=\"pre\">%Y</span></code></p></td>\n",
    "<td><p>Year with century as a decimal\n",
    "number.</p></td>\n",
    "<td><p>0001, 0002, …, 2013,\n",
    "2014, …, 9998, 9999</p></td>\n",
    "<td><p>(2)</p></td>\n",
    "</tr>\n",
    "<tr class=\"row-even\"><td><p><code class=\"docutils literal notranslate\"><span class=\"pre\">%b</span></code></p></td>\n",
    "<td><p>Month as locale’s abbreviated\n",
    "name.</p></td>\n",
    "<td><div class=\"line-block\">\n",
    "<div class=\"line\">Jan, Feb, …, Dec\n",
    "(en_US);</div>\n",
    "<div class=\"line\">Jan, Feb, …, Dez\n",
    "(de_DE)</div>\n",
    "</div>\n",
    "</td>\n",
    "<td><p>(1)</p></td>\n",
    "</tr>\n",
    "<tr class=\"row-odd\"><td><p><code class=\"docutils literal notranslate\"><span class=\"pre\">%B</span></code></p></td>\n",
    "<td><p>Month as locale’s full name.</p></td>\n",
    "<td><div class=\"line-block\">\n",
    "<div class=\"line\">January, February,\n",
    "…, December (en_US);</div>\n",
    "<div class=\"line\">Januar, Februar, …,\n",
    "Dezember (de_DE)</div>\n",
    "</div>\n",
    "</td>\n",
    "<td><p>(1)</p></td>\n",
    "</tr>\n",
    "<tr class=\"row-even\"><td><p><code class=\"docutils literal notranslate\"><span class=\"pre\">%m</span></code></p></td>\n",
    "<td><p>Month as a zero-padded\n",
    "decimal number.</p></td>\n",
    "<td><p>01, 02, …, 12</p></td>\n",
    "<td><p>(9)</p></td>\n",
    "</tr>\n",
    "\n",
    "<tr class=\"row-odd\"><td><p><code class=\"docutils literal notranslate\"><span class=\"pre\">%d</span></code></p></td>\n",
    "<td><p>Day of the month as a\n",
    "zero-padded decimal number.</p></td>\n",
    "<td><p>01, 02, …, 31</p></td>\n",
    "<td><p>(9)</p></td>\n",
    "</tr>\n",
    "<tr class=\"row-odd\"><td><p><code class=\"docutils literal notranslate\"><span class=\"pre\">%H</span></code></p></td>\n",
    "<td><p>Hour (24-hour clock) as a\n",
    "zero-padded decimal number.</p></td>\n",
    "<td><p>00, 01, …, 23</p></td>\n",
    "<td><p>(9)</p></td>\n",
    "</tr>\n",
    "<tr class=\"row-even\"><td><p><code class=\"docutils literal notranslate\"><span class=\"pre\">%I</span></code></p></td>\n",
    "<td><p>Hour (12-hour clock) as a\n",
    "zero-padded decimal number.</p></td>\n",
    "<td><p>01, 02, …, 12</p></td>\n",
    "<td><p>(9)</p></td>\n",
    "</tr>\n",
    "<tr class=\"row-odd\"><td><p><code class=\"docutils literal notranslate\"><span class=\"pre\">%p</span></code></p></td>\n",
    "<td><p>Locale’s equivalent of either\n",
    "AM or PM.</p></td>\n",
    "<td><div class=\"line-block\">\n",
    "<div class=\"line\">AM, PM (en_US);</div>\n",
    "<div class=\"line\">am, pm (de_DE)</div>\n",
    "</div>\n",
    "</td>\n",
    "<td><p>(1),\n",
    "(3)</p></td>\n",
    "</tr>\n",
    "<tr class=\"row-even\"><td><p><code class=\"docutils literal notranslate\"><span class=\"pre\">%M</span></code></p></td>\n",
    "<td><p>Minute as a zero-padded\n",
    "decimal number.</p></td>\n",
    "<td><p>00, 01, …, 59</p></td>\n",
    "<td><p>(9)</p></td>\n",
    "</tr>\n",
    "<tr class=\"row-odd\"><td><p><code class=\"docutils literal notranslate\"><span class=\"pre\">%S</span></code></p></td>\n",
    "<td><p>Second as a zero-padded\n",
    "decimal number.</p></td>\n",
    "<td><p>00, 01, …, 59</p></td>\n",
    "<td><p>(4),\n",
    "(9)</p></td>\n",
    "</tr>\n",
    "<tr class=\"row-odd\"><td><p><code class=\"docutils literal notranslate\"><span class=\"pre\">%z</span></code></p></td>\n",
    "<td><p>UTC offset in the form\n",
    "<code class=\"docutils literal notranslate\"><span class=\"pre\">±HHMM[SS[.ffffff]]</span></code> (empty\n",
    "string if the object is\n",
    "naive).</p></td>\n",
    "<td><p>(empty), +0000,\n",
    "-0400, +1030,\n",
    "+063415,\n",
    "-030712.345216</p></td>\n",
    "<td><p>(6)</p></td>\n",
    "</tr>\n",
    "<tr class=\"row-even\"><td><p><code class=\"docutils literal notranslate\"><span class=\"pre\">%Z</span></code></p></td>\n",
    "<td><p>Time zone name (empty string\n",
    "if the object is naive).</p></td>\n",
    "<td><p>(empty), UTC, GMT</p></td>\n",
    "<td><p>(6)</p></td>\n",
    "</tr>\n",
    "<tr class=\"row-odd\"><td><p><code class=\"docutils literal notranslate\"><span class=\"pre\">%%</span></code></p></td>\n",
    "<td><p>A literal <code class=\"docutils literal notranslate\"><span class=\"pre\">'%'</span></code> character.</p></td>\n",
    "<td><p>%</p></td>\n",
    "<td></td>\n",
    "</tr>\n",
    "</tbody>\n",
    "</table>\n",
    "Source: <a href='https://docs.python.org/3/library/datetime.html#strftime-and-strptime-format-codes'>https://docs.python.org/3/library/datetime.html#strftime-and-strptime-format-codes</a>\n",
    "<br> The above table only shows the more commonly used formats.  These codes were adopted from the 1989 C Standard."
   ]
  },
  {
   "cell_type": "markdown",
   "id": "4ac359d8",
   "metadata": {},
   "source": [
    "Similarly, we can use `strptime` to parse datetime objects from a string."
   ]
  },
  {
   "cell_type": "code",
   "execution_count": null,
   "id": "94c60a8f",
   "metadata": {},
   "outputs": [],
   "source": [
    "str = '07/01/2022, 12:20:04 UTC'\n",
    "mydate = dt.datetime.strptime(str,\"%m/%d/%Y, %H:%M:%S %Z\")\n",
    "print(mydate, mydate.tzinfo)    ## Notice that mydate is not an aware datetime"
   ]
  },
  {
   "cell_type": "markdown",
   "id": "2bc26f08",
   "metadata": {},
   "source": [
    "## Pendulum\n",
    "Several other developers and groups have written alternate libraries for datetime functionality within Python\n",
    "\n",
    "[Pendulum](https://pendulum.eustace.io/) is a drop-in replacement for the datetime library. Besides have a cleaner API, the Pendulum library creates timezone aware objects by default."
   ]
  },
  {
   "cell_type": "code",
   "execution_count": null,
   "id": "d0b38e58",
   "metadata": {},
   "outputs": [],
   "source": [
    "import pendulum\n",
    "now = pendulum.now()\n",
    "print(now)\n",
    "print(now.timezone)\n",
    "print(pendulum.now('UTC'))"
   ]
  },
  {
   "cell_type": "markdown",
   "id": "b0458fe0",
   "metadata": {},
   "source": [
    "Using the method resolution order function `mro()`, we can see the inheritance hierarchy and notice that pendulum's classes extend Python's `datetime` objects."
   ]
  },
  {
   "cell_type": "code",
   "execution_count": null,
   "id": "1943fe34",
   "metadata": {},
   "outputs": [],
   "source": [
    "print(now.__class__.mro())\n",
    "print()\n",
    "print(now.timezone.__class__.mro())"
   ]
  },
  {
   "cell_type": "code",
   "execution_count": null,
   "id": "c7726956",
   "metadata": {},
   "outputs": [],
   "source": [
    "# Converting to iso8601 format\n",
    "print(now.to_iso8601_string())\n",
    "\n",
    "# Date arithimetic \n",
    "print(now.add(days=2))\n",
    "\n",
    "# Definining a duration\n",
    "dur = pendulum.duration(days=10, hours=5)\n",
    "print(dur)\n",
    "print(\"dur.weeks:\",dur.weeks)\n",
    "print(\"dur.days:\",dur.days)\n",
    "print(\"dur.hours:\",dur.hours)\n",
    "print(dur.in_hours())\n",
    "print(dur.in_words(locale=\"zh\"))\n",
    "\n",
    "#Using the duration in datetime arithmetic\n",
    "print(now - dur)\n",
    "\n",
    "# A period is the difference between 2 datetime instances.\n",
    "# it maintains a reference to those datetimes\n",
    "period = now - now.subtract(days=3)\n",
    "print(period)\n",
    "print(period.in_seconds())\n",
    "print(period.in_days())\n",
    "print(now - period - period)"
   ]
  },
  {
   "cell_type": "markdown",
   "id": "b80cf786",
   "metadata": {},
   "source": [
    "Pendulum also supports an alternative format to convert datetimes to objects.  This format approach is used with many other languages and libraries.\n",
    "\n",
    "[Further details and available tokens](https://github.com/sdispater/pendulum/blob/master/docs/docs/string_formatting.md)"
   ]
  },
  {
   "cell_type": "code",
   "execution_count": null,
   "id": "672e2259",
   "metadata": {},
   "outputs": [],
   "source": [
    "now = pendulum.now()\n",
    "print(now)\n",
    "now.format('YYYY-MM-DD HH:mm:ssZ')"
   ]
  },
  {
   "cell_type": "code",
   "execution_count": null,
   "id": "0b394d8c",
   "metadata": {},
   "outputs": [],
   "source": [
    "parsed = pendulum.from_format('2022-07-01 08:44:39-04:00','YYYY-MM-DD HH:mm:ssZ')\n",
    "print(parsed)"
   ]
  },
  {
   "cell_type": "markdown",
   "id": "1cca8bfe",
   "metadata": {},
   "source": [
    "[Arrow](https://arrow.readthedocs.io/en/latest/) is another popular alternative to Python's datetime module."
   ]
  },
  {
   "cell_type": "markdown",
   "id": "fb11c9f4",
   "metadata": {},
   "source": [
    "## Best Practices\n",
    "Generally speaking, you should process datetimes with the UTC timezone and then display datetimes to users in their local timezone (and show that timezone). For web applications, the timezone conversion should occur within the client's browser.\n",
    "\n",
    "Storing datetimes can be a bit more complicated. For dates that have already occurred, UTC with the timezone offset is the most appropriate.  For datetimes that occur in the future, the situation is not necessarily unambiguous - the problem arises when changes are made to timezone rules after a datetime has been saved. [Saving datetimes for the future](https://web.archive.org/web/20220623083001/http://www.creativedeletion.com/2015/03/19/persisting_future_datetimes.html) You'll want to store the timezone name in addition to the datetime in UTC/offset.  By having the timezone name, you can check if the offset has subsequently changed. Provided you can map the event location back to a timezone, the event location suffices.\n",
    "\n",
    "For data science applications, most datetimes will have occurred in the past so storing those dates with the relevant timezone is appropriate.  That relevant timezone is where the record occurred (or where the given user was). However, you will also want to create additional features for either visualization or machine learning purposes.  This includes such things as -\n",
    "- day of the week\n",
    "- weekend flag\n",
    "- holiday flag\n",
    "- local date and time\n",
    "- local hour\n",
    "- time before an event\n",
    "\n",
    "And last, but certainly not least, use a library to process dates and times."
   ]
  },
  {
   "cell_type": "markdown",
   "id": "87615964",
   "metadata": {},
   "source": [
    "## Studying the Python Source Code\n",
    "- immutable, uses `__new__` not `__init__`\n",
    "- validates parameters \n",
    "  - must be integers which the call to `_index()` enforces\n",
    "  - in the appropriate ranges. days in month is checked\n",
    "- offset the days_in_months array to make indexing faster\n",
    "- hash computation is lazily initialized\n",
    "- docstrings\n",
    "- property methods\n",
    "- chain constructors w/ the class factory methods\n",
    "- sanity check of assert in \\_days_in_month. The month check should have already occured in the prior code.\n",
    "- type checking in `__sub__`\n",
    "Source: https://github.com/python/cpython/blob/main/Lib/datetime.py\n",
    "Note: the following code is not complete.."
   ]
  },
  {
   "cell_type": "code",
   "execution_count": null,
   "id": "ad74df12",
   "metadata": {},
   "outputs": [],
   "source": [
    "from operator import index as _index\n",
    "class date:\n",
    "    \"\"\"Concrete date type.\n",
    "    Constructors:\n",
    "    __new__()\n",
    "    fromtimestamp()\n",
    "    today()\n",
    "    fromordinal()\n",
    "    Operators:\n",
    "    __repr__, __str__\n",
    "    __eq__, __le__, __lt__, __ge__, __gt__, __hash__\n",
    "    __add__, __radd__, __sub__ (add/radd only with timedelta arg)\n",
    "    Methods:\n",
    "    timetuple(), toordinal(), weekday(),  isoweekday(), isocalendar(), isoformat()\n",
    "    ctime(), strftime()\n",
    "    Properties (readonly):\n",
    "    year, month, day\n",
    "    \"\"\"\n",
    "    __slots__ = '_year', '_month', '_day', '_hashcode'\n",
    "\n",
    "    def __new__(cls, year, month=None, day=None):\n",
    "        \"\"\"Constructor.\n",
    "        Arguments:\n",
    "        year, month, day (required, base 1)\n",
    "        \"\"\"\n",
    "        ### removed \"pickle code\" ...\n",
    "        year, month, day = _check_date_fields(year, month, day)\n",
    "        self = object.__new__(cls)\n",
    "        self._year = year\n",
    "        self._month = month\n",
    "        self._day = day\n",
    "        self._hashcode = -1\n",
    "        return self\n",
    "\n",
    "    # Additional constructors\n",
    "    @classmethod\n",
    "    def fromtimestamp(cls, t):\n",
    "        \"Construct a date from a POSIX timestamp (like time.time()).\"\n",
    "        y, m, d, hh, mm, ss, weekday, jday, dst = _time.localtime(t)\n",
    "        return cls(y, m, d)\n",
    "\n",
    "    @classmethod\n",
    "    def today(cls):\n",
    "        \"Construct a date from time.time().\"\n",
    "        t = _time.time()\n",
    "        return cls.fromtimestamp(t)\n",
    "    \n",
    "    \n",
    "    def isoformat(self):\n",
    "        \"\"\"Return the date formatted according to ISO.  This is 'YYYY-MM-DD'.\"\"\"\n",
    "        return \"%04d-%02d-%02d\" % (self._year, self._month, self._day)\n",
    "        \n",
    "    # Read-only field accessors\n",
    "    @property\n",
    "    def year(self):\n",
    "        \"\"\"year (1-9999)\"\"\"\n",
    "        return self._year   \n",
    "        \n",
    "    def __sub__(self, other):\n",
    "        \"\"\"Subtract two dates, or a date and a timedelta.\"\"\"\n",
    "        if isinstance(other, timedelta):\n",
    "            return self + timedelta(-other.days)\n",
    "        if isinstance(other, date):\n",
    "            days1 = self.toordinal()\n",
    "            days2 = other.toordinal()\n",
    "            return timedelta(days1 - days2)\n",
    "        return NotImplemented\n",
    "\n",
    "    def __hash__(self):\n",
    "        \"Hash.\"\n",
    "        if self._hashcode == -1:\n",
    "            self._hashcode = hash(self._getstate())\n",
    "        return self._hashcode\n",
    "        \n",
    "    def _getstate(self):\n",
    "        yhi, ylo = divmod(self._year, 256)\n",
    "        return bytes([yhi, ylo, self._month, self._day])\n",
    "        \n",
    "def _check_date_fields(year, month, day):\n",
    "    year = _index(year)\n",
    "    month = _index(month)\n",
    "    day = _index(day)\n",
    "    if not MINYEAR <= year <= MAXYEAR:\n",
    "        raise ValueError('year must be in %d..%d' % (MINYEAR, MAXYEAR), year)\n",
    "    if not 1 <= month <= 12:\n",
    "        raise ValueError('month must be in 1..12', month)\n",
    "    dim = _days_in_month(year, month)\n",
    "    if not 1 <= day <= dim:\n",
    "        raise ValueError('day must be in 1..%d' % dim, day)\n",
    "        \n",
    "def _is_leap(year):\n",
    "    \"year -> 1 if leap year, else 0.\"\n",
    "    return year % 4 == 0 and (year % 100 != 0 or year % 400 == 0)\n",
    "\n",
    "# -1 is a placeholder for indexing purposes.\n",
    "_DAYS_IN_MONTH = [-1, 31, 28, 31, 30, 31, 30, 31, 31, 30, 31, 30, 31]\n",
    "\n",
    "def _days_in_month(year, month):\n",
    "    \"year, month -> number of days in that month in that year.\"\n",
    "    assert 1 <= month <= 12, month\n",
    "    if month == 2 and _is_leap(year):\n",
    "        return 29\n",
    "    return _DAYS_IN_MONTH[month]"
   ]
  },
  {
   "cell_type": "markdown",
   "id": "3677e4e5",
   "metadata": {},
   "source": [
    "## Exercises\n",
    "TODO"
   ]
  },
  {
   "cell_type": "code",
   "execution_count": null,
   "id": "5fff64a9",
   "metadata": {},
   "outputs": [],
   "source": []
  }
 ],
 "metadata": {
  "kernelspec": {
   "display_name": "Python 3 (ipykernel)",
   "language": "python",
   "name": "python3"
  },
  "language_info": {
   "codemirror_mode": {
    "name": "ipython",
    "version": 3
   },
   "file_extension": ".py",
   "mimetype": "text/x-python",
   "name": "python",
   "nbconvert_exporter": "python",
   "pygments_lexer": "ipython3",
   "version": "3.10.4"
  }
 },
 "nbformat": 4,
 "nbformat_minor": 5
}
