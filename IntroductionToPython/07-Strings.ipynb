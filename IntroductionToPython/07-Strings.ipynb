{
 "cells": [
  {
   "cell_type": "markdown",
   "id": "c4541d9b",
   "metadata": {},
   "source": [
    "<div class=\"pagebreak\"></div>\n",
    "\n",
    "# Strings\n",
    "Programmers constantly deal with text - reading it, processing it, and writing it.  Think of the last few times that you used your computer or smartphone.  How much did you deal with text versus numbers?  User names, messages, stock symbols, etc.\n",
    "\n",
    "To be an effective programmer, you must understand how to use, manipulate, and format strings.\n",
    "\n",
    "In Python 3, strings are now a sequence of Unicode characters. Unicode is an international standard to provide consistent encoding and representation of text.  Python 2 used ASCII for the character set instead. The ASCII standard provided a representation for 128 characters (only 95 of these were printable - the other 33 were control codes).  In most situations, this difference is insignificant as the first 127 characters of Unicode overlap with ASCII. However, if you ever deal with non-English characters, Unicode and the UTF-8 encoding to store and transmit those characters becomes critical. By default, UTF-8 is the encoding for Python files. \n",
    "\n",
    "- [Online Table of Unicode Characters](https://www.rapidtables.com/code/text/unicode-characters.html)\n",
    "- [ASCII](https://www.rapidtables.com/code/text/ascii-table.html)  \n",
    "- [Wikipedia: Unicode](https://en.wikipedia.org/wiki/Unicode)\n",
    "- [Wikipedia: ASCII](https://en.wikipedia.org/wiki/ASCII)\n",
    "- [Wikipedia: UTF-8](https://en.wikipedia.org/wiki/UTF-8)\n",
    "\n",
    "The Unicode 14.0 standard, published in September 2021, defines 144,697 characters.\n",
    "\n",
    "Sample Unicode characters: (Notice in the subsequent two code blocks that Unicode characters can be represented by their actual symbol or an escape sequence such as \\\\u20ac."
   ]
  },
  {
   "cell_type": "code",
   "execution_count": null,
   "id": "1328f6e7",
   "metadata": {
    "scrolled": true
   },
   "outputs": [],
   "source": [
    "print('\\u20ac')  # euro\n",
    "print('\\u2603')  # snowman"
   ]
  },
  {
   "cell_type": "markdown",
   "id": "d3305cb0",
   "metadata": {},
   "source": [
    "We can also convert Unicode characters to and from numbers with the `ord()` and `chr()` built-in functions."
   ]
  },
  {
   "cell_type": "code",
   "execution_count": null,
   "id": "0573a36c",
   "metadata": {},
   "outputs": [],
   "source": [
    "print('A to #:',ord('A'))\n",
    "print('65 to Unicode:',chr(65))\n",
    "print('Unicode to #:',ord('☃'))\n",
    "print('9731 to Unicode',chr(9731))"
   ]
  },
  {
   "cell_type": "markdown",
   "id": "136f4465",
   "metadata": {},
   "source": [
    "Try calling `ord()` with more than one character, such as the string 'hello', to see what occurs."
   ]
  },
  {
   "cell_type": "code",
   "execution_count": null,
   "id": "1029a692",
   "metadata": {},
   "outputs": [],
   "source": [
    "# make the call and see the resulting error."
   ]
  },
  {
   "cell_type": "markdown",
   "id": "e5ca0a27",
   "metadata": {},
   "source": [
    "Like Java, strings in Python are immutable &#10142; you can not change their value once defined; any alteration creates a new string object. However, in C and C++, string values can be altered."
   ]
  },
  {
   "cell_type": "markdown",
   "id": "d234b183",
   "metadata": {},
   "source": [
    "## Creating Strings\n",
    "You have already seen three different methods for creating strings through these notebooks:\n",
    "1. Literals\n",
    "2. Converting from other types with `str()`\n",
    "3. `input()`\n",
    "\n",
    "For literals, you can use either single quotes or double quotes.  What you use should be based upon any project team standards and convenience for creating strings if they contain quotes or double quotes."
   ]
  },
  {
   "cell_type": "code",
   "execution_count": null,
   "id": "1fe5b46d",
   "metadata": {},
   "outputs": [],
   "source": [
    "print('Charles')\n",
    "print(\"Dickens\")\n",
    "print(\"Charles Dickens's book, the Tale of Two Cities, is ... \")\n",
    "print('Charles Dickens\\'s book, the Tale of Two Cities, is ... ')"
   ]
  },
  {
   "cell_type": "markdown",
   "id": "5ad93425",
   "metadata": {},
   "source": [
    "In the last example, notice that we escaped the ' in the middle of the string by using a backslash `\\`. We can also escape double qoutes with `\\\"`."
   ]
  },
  {
   "cell_type": "code",
   "execution_count": null,
   "id": "d035cff0",
   "metadata": {},
   "outputs": [],
   "source": [
    "print(\"How do you pronouce the word \\\"tomato\\\"?\")"
   ]
  },
  {
   "cell_type": "markdown",
   "id": "143d45ec",
   "metadata": {},
   "source": [
    "Common escape sequences:\n",
    "\n",
    "|Escape<br>Sequence|Result|\n",
    "|:----|:---|\n",
    "|`\\n` | newline character |\n",
    "|`\\t` | tab  (used to align text) |\n",
    "|` \\\\ ` | \\ |\n",
    "|`\\'` | '|\n",
    "|`\\\"` | \" |"
   ]
  },
  {
   "cell_type": "code",
   "execution_count": null,
   "id": "5d3d48d9",
   "metadata": {},
   "outputs": [],
   "source": [
    "print(\"It was the best of times,\\nit was the worst of times,\\nit was the age of wisdom,\\nit was the age of foolishness...\")"
   ]
  },
  {
   "cell_type": "markdown",
   "id": "3facbf6c",
   "metadata": {},
   "source": [
    "We can also create string literals with three single quotes(`'''`) or three double quotes(`\"\"\"`) rather than just `'` or `\"`.  While triple quotes can be used for short strings, they are most commonly used to create multiline strings.  We've already seen this with some of the docstrings  in earlier notebooks."
   ]
  },
  {
   "cell_type": "code",
   "execution_count": null,
   "id": "55207820",
   "metadata": {},
   "outputs": [],
   "source": [
    "# line continuation so we can start the string on the next line. \n",
    "# Note: no characters can occur after the \"\\\" in a line\n",
    "opening = \\\n",
    "\"\"\"It was the best of times,\n",
    "it was the worst of times,\n",
    "it was the age of wisdom,\n",
    "it was the age of foolishness...\"\"\"\n",
    "print(opening)"
   ]
  },
  {
   "cell_type": "markdown",
   "id": "727bc71a",
   "metadata": {},
   "source": [
    "Triple quote strings are also convenient if you need to include single quotes or double quotes."
   ]
  },
  {
   "cell_type": "code",
   "execution_count": null,
   "id": "dc985b28",
   "metadata": {},
   "outputs": [],
   "source": [
    "print(\"\"\"John's book stated \"Programming is fun!\" \"\"\")  # syntax error with 4 quotes in a row. try removing the space"
   ]
  },
  {
   "cell_type": "markdown",
   "id": "4eb0e0c7",
   "metadata": {},
   "source": [
    "Use `str()` to convert another type into a string.\n",
    "\n",
    "In the last line of the following block, we return the value of `b` rather than printing it to show the output difference from the previous line. If the last line of a code block is a value, Jupyter considers this a return value and displays it automatically."
   ]
  },
  {
   "cell_type": "code",
   "execution_count": null,
   "id": "22d01e74",
   "metadata": {},
   "outputs": [],
   "source": [
    "print(type(1842))\n",
    "x = str(1842)\n",
    "print(type(x))\n",
    "print(x)\n",
    "print(type(None))\n",
    "y = str(None)\n",
    "print(type(y))\n",
    "print(y)\n",
    "b = str(True)\n",
    "print(type(b))\n",
    "print(b)\n",
    "b"
   ]
  },
  {
   "cell_type": "markdown",
   "id": "32e5f64b",
   "metadata": {},
   "source": [
    "Using `input()` to get a string value from the user:"
   ]
  },
  {
   "cell_type": "code",
   "execution_count": null,
   "id": "cd465185",
   "metadata": {},
   "outputs": [],
   "source": [
    "x = input(\"Enter something: \")\n",
    "x"
   ]
  },
  {
   "cell_type": "markdown",
   "id": "3a2bec86",
   "metadata": {},
   "source": [
    "## Concatenation\n",
    "We can concatenate (combine) two strings together with `+`"
   ]
  },
  {
   "cell_type": "code",
   "execution_count": null,
   "id": "af56e504",
   "metadata": {},
   "outputs": [],
   "source": [
    "\"Duck\" + \"Duck\" + \"Go\""
   ]
  },
  {
   "cell_type": "markdown",
   "id": "9fbec444",
   "metadata": {},
   "source": [
    "We also concatenate literal strings by placing one immediately after another string:"
   ]
  },
  {
   "cell_type": "code",
   "execution_count": null,
   "id": "1cd00d10",
   "metadata": {},
   "outputs": [],
   "source": [
    "\"test\"'test'\"\"\"test\"\"\""
   ]
  },
  {
   "cell_type": "markdown",
   "id": "1e908211",
   "metadata": {},
   "source": [
    "Python does not automatically insert spaces or other characters when concatenating strings.\n",
    "\n",
    "## Duplication\n",
    "We can make multiple copies of a string with `*` followed by an integer."
   ]
  },
  {
   "cell_type": "code",
   "execution_count": null,
   "id": "6fcbc775",
   "metadata": {},
   "outputs": [],
   "source": [
    "print(\"test\" * 5)\n",
    "a = 2\n",
    "s = \"test\"\n",
    "print(s * a)"
   ]
  },
  {
   "cell_type": "markdown",
   "id": "d8ff1b36",
   "metadata": {},
   "source": [
    "## Length\n",
    "Use `len(str)` to get the length of a string."
   ]
  },
  {
   "cell_type": "code",
   "execution_count": null,
   "id": "932de289",
   "metadata": {},
   "outputs": [],
   "source": [
    "len(\"test\"*5)"
   ]
  },
  {
   "cell_type": "markdown",
   "id": "985b9480",
   "metadata": {},
   "source": [
    "## Accessing a Single Character\n",
    "To get a single character, we can use square brackets with the character offset inside the bracket.  The offset starts at 0 (the leftmost character) and goes to the length of the string minus one."
   ]
  },
  {
   "cell_type": "code",
   "execution_count": null,
   "id": "7118bd27",
   "metadata": {},
   "outputs": [],
   "source": [
    "digits = \"0123456789\"\n",
    "print(digits[0])\n",
    "print(digits[9])"
   ]
  },
  {
   "cell_type": "markdown",
   "id": "61fddfec",
   "metadata": {},
   "source": [
    "You can also index characters with negative integers. For example, -1 specifies the rightmost character (same as length -1), and -2 specifies the one before."
   ]
  },
  {
   "cell_type": "code",
   "execution_count": null,
   "id": "c8fd0f40",
   "metadata": {},
   "outputs": [],
   "source": [
    "print(digits[-1])\n",
    "print(digits[-2])\n",
    "print(digits[-10])\n",
    "print(digits[-len(digits)])"
   ]
  },
  {
   "cell_type": "markdown",
   "id": "97746888",
   "metadata": {},
   "source": [
    "If you attempt to access a character outside of a length of the string, you will receive an IndexError:"
   ]
  },
  {
   "cell_type": "code",
   "execution_count": null,
   "id": "8315679f",
   "metadata": {},
   "outputs": [],
   "source": [
    "print(digits[10])"
   ]
  },
  {
   "cell_type": "markdown",
   "id": "e3607957",
   "metadata": {},
   "source": [
    "Notice that we can not use this access method to change characters in a string - the string is immutable!"
   ]
  },
  {
   "cell_type": "code",
   "execution_count": null,
   "id": "481d7cc1",
   "metadata": {},
   "outputs": [],
   "source": [
    "digits[5] = 'A'"
   ]
  },
  {
   "cell_type": "markdown",
   "id": "0fc1777a",
   "metadata": {},
   "source": [
    "## Slicing for Substrings\n",
    "In addition to representing text, strings are the first example of sequences in these notebooks. (Lists and tuples are sequences as well.)\n",
    "\n",
    "As mentioned above, strings are sequences of Unicode characters.  The methods used below to manipulate strings apply to lists as tuples.\n",
    "\n",
    "We can extract parts of a string (a _substring_) by using a _slice_. A slice is a range of index numbers separated by a colon within square brackets.\n",
    "\n",
    "| Slice | Description\n",
    "|---:|:-----\n",
    "|[:]| extracts the entire sequence from start to end\n",
    "|[_start_:] | specifies the sequence from the _start_ to the end\n",
    "|[ : _end_ ]| specifies the sequence from the beginning to the _end_ offset - 1 \n",
    "|[ _start_ : _end_ ] | specifies the sequence from the _start_ to the _end_ offset -1 \n",
    "|[ _start_ : _end_ : _step_] | specifies the sequence from the _start_ to the _end_ offset -1, skipping characters by _step_\n"
   ]
  },
  {
   "cell_type": "markdown",
   "id": "965d6304",
   "metadata": {},
   "source": [
    "The following image summarizes how we use indexes and slices:<br> \n",
    "![](images/string-slicing.png)\n",
    "\n",
    "<sub><sup>Source: https://www.faceprep.in/python/string-slicing-in-python/</sup></sub>"
   ]
  },
  {
   "cell_type": "code",
   "execution_count": null,
   "id": "d2a0d07e",
   "metadata": {},
   "outputs": [],
   "source": [
    "opening_line = \"It was the best of times\"\n",
    "print(len(opening_line))\n",
    "print(opening_line[:])\n",
    "print(opening_line[19:])\n",
    "print(opening_line[:2])\n",
    "print(opening_line[3:6])\n",
    "print(opening_line[1:10:2])"
   ]
  },
  {
   "cell_type": "markdown",
   "id": "8df3f551",
   "metadata": {},
   "source": [
    "Try repeating the above code by using 'abcdefghijklmnopqrstuvwxyz' as the value for `opening_line`."
   ]
  },
  {
   "cell_type": "markdown",
   "id": "907dd516",
   "metadata": {},
   "source": [
    "As with accessing characters, we can also use negative offsets with slices.  We can also combine positive and negative values."
   ]
  },
  {
   "cell_type": "code",
   "execution_count": null,
   "id": "fff6b99d",
   "metadata": {},
   "outputs": [],
   "source": [
    "digits = \"0123456789\"\n",
    "print(digits[-3:])\n",
    "print(digits[:-6])\n",
    "print(digits[-6:-3])\n",
    "print(digits[-6:9])\n",
    "print(digits[-10:-1:2])"
   ]
  },
  {
   "cell_type": "markdown",
   "id": "ee8d6f61",
   "metadata": {},
   "source": [
    "The Python interpreter returns an empty string if you specify a slice where the start offset occurs after the end offset."
   ]
  },
  {
   "cell_type": "code",
   "execution_count": null,
   "id": "19fc6070",
   "metadata": {},
   "outputs": [],
   "source": [
    "digits[5:1]"
   ]
  },
  {
   "cell_type": "markdown",
   "id": "01b6776d",
   "metadata": {},
   "source": [
    "Unlike accessing characters, if we specify an index out of the valid range, the minimum or maximum value is used in its place."
   ]
  },
  {
   "cell_type": "code",
   "execution_count": null,
   "id": "254b4d61",
   "metadata": {},
   "outputs": [],
   "source": [
    "digits[0:15]"
   ]
  },
  {
   "cell_type": "code",
   "execution_count": null,
   "id": "dea39153",
   "metadata": {},
   "outputs": [],
   "source": [
    "digits[-12:]"
   ]
  },
  {
   "cell_type": "markdown",
   "id": "1180a701",
   "metadata": {},
   "source": [
    "## Splitting Strings\n",
    "To split a string into multiple strings based upon some separator within that string, you can call the method `split()`.  (Notice, we called `split()` a method rather than a function as it belongs to an object of type string.)  As shown in the below example, `split(' ')` creates a list of the character sequences separated by a space."
   ]
  },
  {
   "cell_type": "code",
   "execution_count": null,
   "id": "9c37430d",
   "metadata": {},
   "outputs": [],
   "source": [
    "opening_line = \"It was the best of times.\"\n",
    "word_list = opening_line.split(' ')\n",
    "print(word_list)\n",
    "print(type(word_list))"
   ]
  },
  {
   "cell_type": "code",
   "execution_count": null,
   "id": "1e02b562",
   "metadata": {},
   "outputs": [],
   "source": [
    "opening_line.split('e')      #splitting on the character e"
   ]
  },
  {
   "cell_type": "code",
   "execution_count": null,
   "id": "7f438b92",
   "metadata": {},
   "outputs": [],
   "source": [
    "opening_line.split('the')    #splitting on the string 'the'"
   ]
  },
  {
   "cell_type": "markdown",
   "id": "3826d5dd",
   "metadata": {},
   "source": [
    "Not specifying a separator will split the string based on whitespace, including spaces, tabs, and newlines."
   ]
  },
  {
   "cell_type": "code",
   "execution_count": null,
   "id": "cfb79461",
   "metadata": {},
   "outputs": [],
   "source": [
    "s = \"This is a\\ntest\\tof splitting whitespace.\"\n",
    "print(s)\n",
    "s.split()"
   ]
  },
  {
   "cell_type": "markdown",
   "id": "ac6e654d",
   "metadata": {},
   "source": [
    "## Joining Strings\n",
    "Use the method `join()` to combine a list of strings into a single string.  Rather than belonging to the `list` class, `join()` belongs to the `str` (string) class. From a design point of view, this makes sense for `join()` to belong to `str` as we use a string as the value between the combined strings."
   ]
  },
  {
   "cell_type": "code",
   "execution_count": null,
   "id": "2720f495",
   "metadata": {},
   "outputs": [],
   "source": [
    "split_list = ['This', 'is', 'a', 'test', 'of', 'joining', 'strings']\n",
    "print(\"\".join(split_list))\n",
    "print(\":\".join(split_list))\n",
    "print(\", \".join(split_list))"
   ]
  },
  {
   "cell_type": "markdown",
   "id": "322dc1fb",
   "metadata": {},
   "source": [
    "## Search and Replace\n",
    "Python contains multiple ways to find if one string contains another.\n",
    "\n",
    "First, you can use the `in` operator, which returns `True` or `False`."
   ]
  },
  {
   "cell_type": "code",
   "execution_count": null,
   "id": "536d901f",
   "metadata": {},
   "outputs": [],
   "source": [
    "line = \"can we search for the specified value in the string?\"\n",
    "\"value\" in line"
   ]
  },
  {
   "cell_type": "markdown",
   "id": "eb6d9c45",
   "metadata": {},
   "source": [
    "We can also use `find()` or `index()` to get the position where the string starts within another string.  These two functions are the same, except `find()` returns -1 if the substring is not found, while `index()` raises an exception(`ValueError`) if the substring is not present. As Python can use negative numbers to index characters in a string, we would need to check the return value prior to using it explicitly.  By using `index()`, we ignore checking the return value and rely upon exception processing to handle the case where the substring does not exist. \n",
    "\n",
    "Both methods also allow you to limit the search based on the starting and, possibly, ending positions."
   ]
  },
  {
   "cell_type": "code",
   "execution_count": null,
   "id": "5572fe72",
   "metadata": {},
   "outputs": [],
   "source": [
    "help(line.index)\n",
    "print(line.index(\"the\"))"
   ]
  },
  {
   "cell_type": "markdown",
   "id": "2174adfc",
   "metadata": {},
   "source": [
    "To find the last occurence of a substring within a string, you can use `rfind()` and `rindex()`."
   ]
  },
  {
   "cell_type": "code",
   "execution_count": null,
   "id": "c2669adc",
   "metadata": {},
   "outputs": [],
   "source": [
    "print(line.rfind(\"the\"))"
   ]
  },
  {
   "cell_type": "markdown",
   "id": "99472a47",
   "metadata": {},
   "source": [
    "The string class also offers a simple mechanism to search for values in the string and replace them with a different string, returning a new string.\n",
    "\n",
    "<code>string.replace('<i>searchValue</i>','<i>replaceValue</i>')</code>"
   ]
  },
  {
   "cell_type": "code",
   "execution_count": null,
   "id": "065f4231",
   "metadata": {},
   "outputs": [],
   "source": [
    "s = \"hello, how are you?\"\n",
    "s.replace('o',\"xxx\")"
   ]
  },
  {
   "cell_type": "code",
   "execution_count": null,
   "id": "6812eb2d",
   "metadata": {},
   "outputs": [],
   "source": [
    "s.replace('how','test')"
   ]
  },
  {
   "cell_type": "code",
   "execution_count": null,
   "id": "6fb5679e",
   "metadata": {},
   "outputs": [],
   "source": [
    "# demonstrating that s.replace() returns a new object reference/id\n",
    "print(id(s))\n",
    "t = s.replace(\",\", \" -\")\n",
    "print(t)\n",
    "print(id(t))"
   ]
  },
  {
   "cell_type": "markdown",
   "id": "da7d01ce",
   "metadata": {},
   "source": [
    "## Striping Characters\n",
    "We can also remove any whitespace (' ','\\t','\\n') from the start and/or end of a string.  Quite often, programmers will perform this task to \"clean up\" any text a user may enter.\n",
    "\n",
    "- `string.strip()` removes whitespace from the start and end\n",
    "- `string.lstrip()` removes whitespace from the start\n",
    "- `string.rstrip()` removes whitespace from the end"
   ]
  },
  {
   "cell_type": "code",
   "execution_count": null,
   "id": "fa9ee5f6",
   "metadata": {},
   "outputs": [],
   "source": [
    "s = \"  Hitchhiker's Guide to the Galaxy  \"\n",
    "s"
   ]
  },
  {
   "cell_type": "code",
   "execution_count": null,
   "id": "12ee84db",
   "metadata": {},
   "outputs": [],
   "source": [
    "s.strip()"
   ]
  },
  {
   "cell_type": "code",
   "execution_count": null,
   "id": "cb539953",
   "metadata": {},
   "outputs": [],
   "source": [
    "s.lstrip()"
   ]
  },
  {
   "cell_type": "code",
   "execution_count": null,
   "id": "19c50e7a",
   "metadata": {},
   "outputs": [],
   "source": [
    "s.rstrip()"
   ]
  },
  {
   "cell_type": "markdown",
   "id": "a225f110",
   "metadata": {},
   "source": [
    "Python doesn't limit the striping capabilities to whitespace. You can also specify a string argument that would strip any character in that string."
   ]
  },
  {
   "cell_type": "code",
   "execution_count": null,
   "id": "d0e19f51",
   "metadata": {},
   "outputs": [],
   "source": [
    "s.strip(' Hi')"
   ]
  },
  {
   "cell_type": "markdown",
   "id": "d9958f9e",
   "metadata": {},
   "source": [
    "Of course, you can use a single character as the argument."
   ]
  },
  {
   "cell_type": "code",
   "execution_count": null,
   "id": "49cc3ca2",
   "metadata": {},
   "outputs": [],
   "source": [
    "s = '!!Are you crazy?!!'\n",
    "s.strip('!')"
   ]
  },
  {
   "cell_type": "markdown",
   "id": "1a73e5c8",
   "metadata": {},
   "source": [
    "## Changing Case\n",
    "Python also has several string methods to change the case of a string."
   ]
  },
  {
   "cell_type": "code",
   "execution_count": null,
   "id": "59c5cf26",
   "metadata": {},
   "outputs": [],
   "source": [
    "line = \"a tale of two cities\""
   ]
  },
  {
   "cell_type": "markdown",
   "id": "b7dd0a8e",
   "metadata": {},
   "source": [
    "Capitalize the first word:"
   ]
  },
  {
   "cell_type": "code",
   "execution_count": null,
   "id": "448674de",
   "metadata": {},
   "outputs": [],
   "source": [
    "line.capitalize()"
   ]
  },
  {
   "cell_type": "markdown",
   "id": "3b1019a3",
   "metadata": {},
   "source": [
    "Capitalize all of the words:"
   ]
  },
  {
   "cell_type": "code",
   "execution_count": null,
   "id": "927d8d19",
   "metadata": {},
   "outputs": [],
   "source": [
    "line.title()"
   ]
  },
  {
   "cell_type": "markdown",
   "id": "29694d79",
   "metadata": {},
   "source": [
    "Convert all characters to uppercase:"
   ]
  },
  {
   "cell_type": "code",
   "execution_count": null,
   "id": "ce8e4a97",
   "metadata": {},
   "outputs": [],
   "source": [
    "line.upper()"
   ]
  },
  {
   "cell_type": "markdown",
   "id": "73362ff3",
   "metadata": {},
   "source": [
    "Convert all characters to lower case:"
   ]
  },
  {
   "cell_type": "code",
   "execution_count": null,
   "id": "121cc2d3",
   "metadata": {},
   "outputs": [],
   "source": [
    "'A Tale Of Two Cities'.lower()"
   ]
  },
  {
   "cell_type": "markdown",
   "id": "48563cd5",
   "metadata": {},
   "source": [
    "## Aligning Strings\n",
    "Python also offers a way to align a string within a given number of characters (by default, a space).  You can specify a fill character in the optional second argument."
   ]
  },
  {
   "cell_type": "code",
   "execution_count": null,
   "id": "528a1db5",
   "metadata": {},
   "outputs": [],
   "source": [
    "line = 'A tale of two cities'\n",
    "line.center(50)   # center the string within 50 spaces"
   ]
  },
  {
   "cell_type": "code",
   "execution_count": null,
   "id": "a7dd25f7",
   "metadata": {},
   "outputs": [],
   "source": [
    "line.center(50,'-')"
   ]
  },
  {
   "cell_type": "code",
   "execution_count": null,
   "id": "86a1fa41",
   "metadata": {},
   "outputs": [],
   "source": [
    "line.ljust(50)    # left justify the string within 50 spaces"
   ]
  },
  {
   "cell_type": "code",
   "execution_count": null,
   "id": "d2dd068f",
   "metadata": {},
   "outputs": [],
   "source": [
    "line.rjust(50)    # right justify the string within 50 spaces"
   ]
  },
  {
   "cell_type": "markdown",
   "id": "941b0afe",
   "metadata": {},
   "source": [
    "## String comparisons\n",
    "Strings use the same comparison operators as numbers use. In addition, Python compares strings in a lexicographic order (dictionary order) where uppercase letters have smaller values than lowercase letters."
   ]
  },
  {
   "cell_type": "code",
   "execution_count": null,
   "id": "76421e35",
   "metadata": {},
   "outputs": [],
   "source": [
    "a = \"alpha\"\n",
    "b = \"alp\" +\"ha\"\n",
    "c = \"test\""
   ]
  },
  {
   "cell_type": "code",
   "execution_count": null,
   "id": "ef5fee78",
   "metadata": {},
   "outputs": [],
   "source": [
    "print(\"a <  b\",a < b)\n",
    "print(\"a <= b\", a <= b)\n",
    "print(\"a >= b\", a >= b)\n",
    "print(\"a >  b\", a > b)\n",
    "print(\"a == b\", a == b)\n",
    "print(\"a <  c\", a < c)\n",
    "print(\"a == c\", a == c)\n",
    "print(\"a >  c\", a > c)"
   ]
  },
  {
   "cell_type": "markdown",
   "id": "3cce5758",
   "metadata": {},
   "source": [
    "## Exercises\n",
    "\n",
    "1. How would you get more information about the `ord()` built-in function?\n",
    "2. How would you get more information about the `center()` method that belongs to the `str` class\n",
    "3. Create a string literal for the value after the colon and assign it to the variable `test`: Let's go run now!\n",
    "4. Create a multiline string literal for one of the verses of [Row, Row, Row Your Boat](https://en.wikipedia.org/wiki/Row,_Row,_Row_Your_Boat)\n",
    "5. Create a variable called `excited` that has the following string repeated 10 times: \"I'm so excited!\\n\"\n",
    "6. How long is the string in the variable `excited`? Use a function to get the answer\n",
    "7. Using code, what is the first letter of `excited`?  The last letter? \n",
    "8. Get a string (a substring) from `excited` with the last 9 characters.\n",
    "9. Get a substring from `excited` starting at the first position(0), but skip every 17th character. What is unusual about this result?\n",
    "10. Split the following string by dashes:<br>```a = \"20220502-https://python.org-200-127.0.0.1\"```\n",
    "11. You have just arrived at a dystopian society that does not believe in vowels.  Write a function to remove any vowels from a string and return a result.  For some reason, they don't mind y's.\n",
    "12. Capitalize each word in the following string:<br>```book_title = 'the hitchhiker\\'s guide to the galaxy'```\n",
    "13. Given the following string, extract the portion after the colon and convert it to an integer variable.\n",
    "```\n",
    "line = 'Conference Attendance:14000'\n",
    "```\n",
    "Use `find()` and string slicing to extract the string.<br>\n",
    "14. Repeat 13, but use `split()`.\n",
    "\n",
    "If you'd like more practice, look at some of the functions not covered in the exercises.  Try comparing different strings."
   ]
  }
 ],
 "metadata": {
  "kernelspec": {
   "display_name": "Python 3 (ipykernel)",
   "language": "python",
   "name": "python3"
  },
  "language_info": {
   "codemirror_mode": {
    "name": "ipython",
    "version": 3
   },
   "file_extension": ".py",
   "mimetype": "text/x-python",
   "name": "python",
   "nbconvert_exporter": "python",
   "pygments_lexer": "ipython3",
   "version": "3.10.4"
  }
 },
 "nbformat": 4,
 "nbformat_minor": 5
}
