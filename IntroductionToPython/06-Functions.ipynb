{
 "cells": [
  {
   "cell_type": "markdown",
   "id": "f60bd491",
   "metadata": {},
   "source": [
    "# Functions\n",
    "Most of the Python code that you have seen and written in these notebooks have been small fragments.  In some cases, these fragments can produce interesting and useful results such as computing compound interest.  However, it does not make any sense to constantly copy and paste these fragments into other programs.  Fortunately, Python provides a mechanism to organize these code blocks into a cohesive unit - the function.  We've already seen and used many of the built-in Python functions (`int`, `float`, `print`, `input`, `type`, `help`, `dir`), now we'll develop our own in this notebook.\n",
    "\n",
    "Functions are a named, reusable block of code.  They can take any number of parameters to send data into the function.  Functions can then return any number of results back to the calling block.\n",
    "\n",
    "As you use functions within your program, two fundamental concepts exist:\n",
    "1. Defining (declaring) the function.  This provides the function's definition: the name, parameters, and functionality.  In many other programming languages, you'll need to explicitly state the function's return type.\n",
    "2. Calling the function.  As we call (execute) a function, we pass a specific list of arguments to be used as the values for a function's parameters.\n"
   ]
  },
  {
   "cell_type": "markdown",
   "id": "f28a0fe5",
   "metadata": {},
   "source": [
    "## Defining\n",
    "A function is defined with the keyword `def`, followed by its name, zero or more parameters defined within parenthesis, a colon, and then an indented code block.\n",
    "\n",
    "Calling a user-defined function is the same as calling a built-in function - simply use the name followed by a parenthesis enclosing any arguments."
   ]
  },
  {
   "cell_type": "code",
   "execution_count": null,
   "id": "8af3308e",
   "metadata": {},
   "outputs": [],
   "source": [
    "def say_hello():\n",
    "    print(\"Hello World!\")\n",
    "    \n",
    "say_hello()"
   ]
  },
  {
   "cell_type": "code",
   "execution_count": null,
   "id": "abba16c8",
   "metadata": {},
   "outputs": [],
   "source": [
    "def say_greeting(name):\n",
    "    print(\"Hello\",name,\"- it is nice to meet you\")\n",
    "    \n",
    "say_greeting(\"Steve\")"
   ]
  },
  {
   "cell_type": "markdown",
   "id": "ccc9f09e",
   "metadata": {},
   "source": [
    "Not passing a required parameter causes a \"TypeError\"."
   ]
  },
  {
   "cell_type": "code",
   "execution_count": null,
   "id": "d537eea2",
   "metadata": {
    "scrolled": true
   },
   "outputs": [],
   "source": [
    "say_greeting()"
   ]
  },
  {
   "cell_type": "markdown",
   "id": "f02a3f79",
   "metadata": {},
   "source": [
    "## Arguments vs. Parameters\n",
    "Colloquially, arguments and parameters are used interchangeably. However, a slight distinction exists between the two. _Parameters_ are the variables defined for use with a function as part of its declaration. _Arguments_ are the values passed to a particular function when it is called.\n",
    "\n",
    "In the above example, \"name\" is a parameter and \"Steve\" is an argument."
   ]
  },
  {
   "cell_type": "markdown",
   "id": "530f3e7b",
   "metadata": {},
   "source": [
    "## Function naming rules\n",
    "Function names follow the same rules as variables:\n",
    "\n",
    "- can only contain lowercase letters (a-z), uppercase letters (A-Z), digits (0-9), and an underscore(_)\n",
    "- can not begin with a digit\n",
    "- can not be one of Python's reserved keywords.\n",
    "\n",
    "Function names are case sensitive.\n",
    "\n",
    "Similarly, you should create meaningful names that communicate the purpose of the function.\n",
    "\n",
    "Python's naming conventions have underscores separating words versus using camelCase present in other languages like Java.\n"
   ]
  },
  {
   "cell_type": "code",
   "execution_count": null,
   "id": "81cc72ba",
   "metadata": {
    "scrolled": true
   },
   "outputs": [],
   "source": [
    "print (False == None)\n",
    "x = None\n",
    "print (x is None)\n",
    "print (x is not None)\n",
    "print(type(None))"
   ]
  },
  {
   "cell_type": "code",
   "execution_count": null,
   "id": "8e328c2c",
   "metadata": {},
   "outputs": [],
   "source": [
    "def add_numbers(a, b):\n",
    "    return a+b\n",
    "print(add_numbers(5,6))\n",
    "print(add_numbers(1968,2001))"
   ]
  },
  {
   "cell_type": "markdown",
   "id": "7401305e",
   "metadata": {},
   "source": [
    "## Returning Values\n",
    "To return a value from a function, use the `return` keyword followed by the appropriate value or variable. \n",
    "\n",
    "If the function exits (reaches the bottom of the function) without a return value, `None` is explicitly returned. \n",
    "\n",
    "The `None` keyword is used to define a null value (or no value at all).  None is not the same as 0, False, or an empty string.  None does have its own type of \"NoneType\".  "
   ]
  },
  {
   "cell_type": "markdown",
   "id": "83542332",
   "metadata": {},
   "source": [
    "## Parameters\n",
    "Python offers a number a several conveniences when defining and passing arguments.\n",
    "\n",
    "First, we can can match arguments to parameters when they are called simply by their order:"
   ]
  },
  {
   "cell_type": "code",
   "execution_count": null,
   "id": "9ff8d967",
   "metadata": {},
   "outputs": [],
   "source": [
    "def print_message(owner, color, object):\n",
    "    print(owner,\"has a\",color, object)\n",
    "    \n",
    "print_message(\"John\",\"grey\",\"car\")\n",
    "print_message(\"Pat\", \"light green\",\"car\")"
   ]
  },
  {
   "cell_type": "markdown",
   "id": "99dfbb95",
   "metadata": {},
   "source": [
    "Second, we can match arguments to parameters by the names of the corresponding parameter.  This is called _keyword arguments_."
   ]
  },
  {
   "cell_type": "code",
   "execution_count": null,
   "id": "d64799f0",
   "metadata": {},
   "outputs": [],
   "source": [
    "print_message(object=\"phone\",owner=\"Joseph\", color=\"red\")"
   ]
  },
  {
   "cell_type": "markdown",
   "id": "350e55c8",
   "metadata": {},
   "source": [
    "Third, we can mix and match positional vs keyword arguments.  Any positional arguments must come first."
   ]
  },
  {
   "cell_type": "code",
   "execution_count": null,
   "id": "f074364e",
   "metadata": {
    "scrolled": true
   },
   "outputs": [],
   "source": [
    "print_message(\"Joseph\", object=\"phone\", color=\"red\")"
   ]
  },
  {
   "cell_type": "code",
   "execution_count": null,
   "id": "283981ba",
   "metadata": {},
   "outputs": [],
   "source": [
    "print_message(object=\"phone\", color=\"red\",\"Joseph\")"
   ]
  },
  {
   "cell_type": "markdown",
   "id": "a35b6bd1",
   "metadata": {},
   "source": [
    "Fourth, we can specify default parameter values:"
   ]
  },
  {
   "cell_type": "code",
   "execution_count": null,
   "id": "5af948a6",
   "metadata": {},
   "outputs": [],
   "source": [
    "def print_message(owner, color='black', object='phone'):\n",
    "    print(owner,\"has a\",color, object)\n",
    "    \n",
    "print_message('John')\n",
    "print_message('John', object=\"car\")\n",
    "print_message('John', 'red','pen')"
   ]
  },
  {
   "cell_type": "code",
   "execution_count": null,
   "id": "1fc3cf54",
   "metadata": {},
   "outputs": [],
   "source": [
    "def play_golf(outlook=\"overcast\", windy=False, humidity=\"normal\"):\n",
    "    if outlook == \"rainy\":\n",
    "        if windy:\n",
    "            return False\n",
    "        else:\n",
    "            return True\n",
    "    elif outlook == \"overcast\":\n",
    "        return True\n",
    "    elif outlook == \"sunny\":\n",
    "        if humidity == \"high\":\n",
    "            return False\n",
    "        elif humidity == \"normal\":\n",
    "            return True\n",
    "        else:\n",
    "            print(\"Undefined humidity: \"+humidity)\n",
    "    else:\n",
    "        print(\"Undefined outlook: \"+outlook)\n",
    "        return False"
   ]
  },
  {
   "cell_type": "markdown",
   "id": "57a3225e",
   "metadata": {},
   "source": [
    "Now, practice making different calls to the above function?  How many different paths are there to get an answer?"
   ]
  },
  {
   "cell_type": "code",
   "execution_count": null,
   "id": "c14960bc",
   "metadata": {},
   "outputs": [],
   "source": [
    "print(play_golf())\n",
    "print(play_golf(\"sunny\"))"
   ]
  },
  {
   "cell_type": "markdown",
   "id": "0e9a7474",
   "metadata": {},
   "source": [
    "We can represent the logic in the above method as a decision tree:\n",
    "![](images/playgolf.png)"
   ]
  },
  {
   "cell_type": "markdown",
   "id": "bb84d2c1",
   "metadata": {},
   "source": [
    "Finally, Python also has two methods to handle situations in which the number of parameters is not known.  A `*` can be used to gather requirements into a list while `**` can be used to gather pairs of arguments into dictionary. We'll explore both of these possibilities in later notebooks"
   ]
  },
  {
   "cell_type": "markdown",
   "id": "28c176a7",
   "metadata": {},
   "source": [
    "## Docstrings and Providing Function Documentation\n",
    "We can provide documentation for a function by using a docstring at the start of a function.  Remember that docstrings are strings contained within triple double quotes.\n",
    "\n",
    "With these docstrings, other programmers can see information on your function and more effectively use it."
   ]
  },
  {
   "cell_type": "code",
   "execution_count": null,
   "id": "b0d5dad4",
   "metadata": {},
   "outputs": [],
   "source": [
    "def multiple(a,b):\n",
    "    \"\"\"Returns the result of multiplying a and b \"\"\"\n",
    "    return a * b;\n",
    "\n",
    "help(multiple)"
   ]
  },
  {
   "cell_type": "markdown",
   "id": "6b607ee8",
   "metadata": {},
   "source": [
    "Internally, Python treats defined functions as objects.  As we stated at the start of this module, everything is object in Python.  That means that everything has some properties (state) and some methods/functions (behavior).\n",
    "\n",
    "Function docstrings are automatically assigned to the property `__doc__`"
   ]
  },
  {
   "cell_type": "code",
   "execution_count": null,
   "id": "db3091bb",
   "metadata": {},
   "outputs": [],
   "source": [
    "print (multiple.__doc__)"
   ]
  },
  {
   "cell_type": "markdown",
   "id": "2f0e7319",
   "metadata": {},
   "source": [
    "The single-line docstring shown above suffices for simple or self-obvious methods.  However, for more complicated situations, we should provide additional details.  For this class, we'll follow the [Google Style DocStrings](https://sphinxcontrib-napoleon.readthedocs.io/en/latest/example_google.html)"
   ]
  },
  {
   "cell_type": "code",
   "execution_count": null,
   "id": "828eef29",
   "metadata": {},
   "outputs": [],
   "source": [
    "def play_golf(outlook=\"overcast\", windy=False, humidity=\"normal\"):\n",
    "    \"\"\"\n",
    "    play_golf determines whether or not a golfer should play \n",
    "    golf based upon the current weather conditions.\n",
    "    \n",
    "    Args:\n",
    "       outlook (str): Is the weather going to be \"sunny\", \"overcast\", or \"rainy\"?\n",
    "       windy (bool): Is it going to be windy?  True/False\n",
    "       humidity (str): Is the humidity \"high\" or \"normal\"\n",
    "\n",
    "    Returns:\n",
    "    True if the individual should play golf.  False if not\n",
    "    \"\"\"\n",
    "    \n",
    "    if outlook == \"rainy\":\n",
    "        if windy:\n",
    "            return False\n",
    "        else:\n",
    "            return True\n",
    "    elif outlook == \"overcast\":\n",
    "        return True\n",
    "    elif outlook == \"sunny\":\n",
    "        if humidity == \"high\":\n",
    "            return False\n",
    "        elif humidity == \"normal\":\n",
    "            return True\n",
    "        else:\n",
    "            print(\"Undefined humidity: \"+humidity)\n",
    "    else:\n",
    "        print(\"Undefined outlook: \"+outlook)\n",
    "        return False"
   ]
  },
  {
   "cell_type": "code",
   "execution_count": null,
   "id": "53c2270e",
   "metadata": {},
   "outputs": [],
   "source": [
    "help (play_golf)"
   ]
  },
  {
   "cell_type": "markdown",
   "id": "d8968684",
   "metadata": {},
   "source": [
    "## Namespaces and Scope\n",
    "As you declare functions and use variables, you create identifiers that refer to those objects (functions, parameters, and variables).  A `namespace` is a dictionary of symbolic names and the objects referred to by those names.  For example, \"play_golf\" is a name that refers to a specific function.\n",
    "\n",
    "Python contains four types of namespaces: \n",
    "1. Built-in.  Contains the names and references for all of Python's built-in objects (which includes functions!). \n",
    "2. Global. Contains any names defined at the main level of a program.  This namespace is automatically created when the Python interpreter starts and exists until the interpreter terminates. The variables we create outside of functions, and the functions we have created so far belong to this namespace.\n",
    "3. Local - refers to the namespace when a function is called.\n",
    "4. Enclosing - We'll see in later notebooks, that it is possible to create functions within classes as well as functions within functions.  In these situations, we will have an enclosing namespace.\n",
    "\n",
    "\n",
    "![](images/namespace.png)\n",
    "\n",
    "\n",
    "The scope of a name is the region of the program in which it is valid.\n",
    "\n",
    "So in looking at the following example, a and f both belong to the global namespace and can be referenced in the function _f_ as well as the main level of the program. `param1` and `b` only exist within the local namespace of _f_."
   ]
  },
  {
   "cell_type": "code",
   "execution_count": null,
   "id": "2a43895a",
   "metadata": {},
   "outputs": [],
   "source": [
    "a = 10 \n",
    "\n",
    "def f(param1): \n",
    "    a = 20\n",
    "    b = 5\n",
    "    print(\"1:\",param1)\n",
    "    print(\"2:\", a)\n",
    "    \n",
    "def g():\n",
    "    print(\"3:\",a)\n",
    "\n",
    "f(5)\n",
    "g()\n",
    "print(\"4:\",a)\n",
    "print(\"5:\",b)"
   ]
  },
  {
   "cell_type": "markdown",
   "id": "5f061c07",
   "metadata": {},
   "source": [
    "Besides `b` not being defined in the above example.  Another thing to note is the value of `a` on line 3. Within _f_, we effectively declared a new variable for `a` that just exists for _f_.  In _g_, we are able to reference a global variable, but not change its value.\n",
    "\n",
    "In this next example, we use the `global` keyword such that we can explicitly access and use a global variable within a function."
   ]
  },
  {
   "cell_type": "code",
   "execution_count": null,
   "id": "cad39060",
   "metadata": {},
   "outputs": [],
   "source": [
    "a = 10 \n",
    "\n",
    "def f(param1): \n",
    "    global a\n",
    "    a = 20\n",
    "    print(\"1:\",param1)\n",
    "    print(\"2:\", a)\n",
    "\n",
    "f(5)\n",
    "print(\"3:\",a)"
   ]
  },
  {
   "cell_type": "markdown",
   "id": "f0fbec74",
   "metadata": {},
   "source": [
    "If you ever want to look at the contents of a given namespace, you can use one of these following approaches:\n",
    "- dir(\\_\\_builtins\\_\\_)\n",
    "- globals()\n",
    "- locals()\n",
    "\n",
    "Try out each of these in the cell below:"
   ]
  },
  {
   "cell_type": "code",
   "execution_count": null,
   "id": "cfb10990",
   "metadata": {
    "scrolled": false
   },
   "outputs": [],
   "source": [
    "dir(__builtins__)"
   ]
  },
  {
   "cell_type": "markdown",
   "id": "3c543ec6",
   "metadata": {},
   "source": [
    "## Passing Arguments: By Object Reference\n",
    "As everything is an object in Python, the language passes a reference to an object when it is used as an argument to a function. From a performance perspective, it would be costly to make complete copies of complex or large objects.\n",
    "\n",
    "This means that if we pass any objects that are mutable, it is possible that the function could change their internal state (e.g., add an element to a list).  As we write functions, we need to avoid unintended side effects on objects passed to us or manipulate global variables.  \n",
    "\n",
    "In this next code block, `id()` returns the identity of an object.  This identity is a unique integer.  When val is assigned 12, a new object is created and assigned to that parameter. `a` was unchanged as it is an immutable type. "
   ]
  },
  {
   "cell_type": "code",
   "execution_count": null,
   "id": "87d05ad8",
   "metadata": {},
   "outputs": [],
   "source": [
    "a = 10\n",
    "def changeImmutableParameter(val):\n",
    "    print(\"function called with \"+str(val))\n",
    "    print(id(val))\n",
    "    val = 12\n",
    "    print(id(val))\n",
    "    print(\"val is now \" +str(val))\n",
    "\n",
    "changeImmutableParameter(a)\n",
    "print(a)\n",
    "print(id(a))"
   ]
  },
  {
   "cell_type": "markdown",
   "id": "5cb2a442",
   "metadata": {},
   "source": [
    "If you [search the Internet](https://www.google.com/search?q=call+by+reference+vs+call+by+value%20python), you'll see a number of different justifications as to whether or not Python uses \"call by value\" or \"call by reference\".\n",
    "\n",
    "\"Call by value\"  evaluates the arguments and passes their actual values to the called function.[1]\n",
    "\n",
    "In \"call by reference\", the caller passes a reference (pointer) to the storage address of the actual parameter.[1]\n",
    "\n",
    "In some other languages, programmers can also pass the address of the actual variable to the function as well, which will then give the function an alias to that location.  Python (nor Java) does not provides access to the address of a variable which in turn just refer to objects \"somewhere in memory\".\n",
    "\n",
    "Others will say that Python is call by value when passing immutable objects (integers, floats, strings, tuples, etc.) because any changes made to those parameters within the function are not reflected back to the calling function.  Then they will say for mutable objects (lists, dictionaries - we'll cover this soon) that can be changed, that Python is \"call by reference\".  This is a fundamental misunderstanding and an incorrect interpretation.  In both cases, the reference to the object has been passed.\n",
    "\n",
    "(This digression seems overly fastidious, but it's a common interview question - the advice here is to not answer value/reference, but rather to explain how Python passes arguments by sending object references.)\n"
   ]
  },
  {
   "cell_type": "markdown",
   "id": "d73b6f42",
   "metadata": {},
   "source": [
    "## Case Study: Revisiting the System Investment Calculator\n",
    "\n",
    "Now let's go back to the process for creating a systematic investment plan (SIP) calculator as presented in a prior notebook. A SIP is an investment product offered by many mutual fund companies. Investors put a fixed amount of money into the SIP periodically (e.g., monthly) to help promote financial discipline as well as a form of dollar cost averaging.\n",
    "\n",
    "$ FV = P \\times \\dfrac{(1+i)^n - 1}{i} \\times (1 +i) $  \n",
    "\n",
    "- $FV$ is the future value\n",
    "- $P$ is the amount invested at the start of every payment interval\n",
    "- $i$ is the periodic interest rate; for a monthly payment, take the (Annual Rate)/12\n",
    "- $n$ is the number of payments\n",
    "\n",
    "Now, let's create a function to compute this value.  The function needs to have three arguments - $P$, $i$, and $n$.  The function then returns the future value of the investment.  "
   ]
  },
  {
   "cell_type": "code",
   "execution_count": null,
   "id": "a73fff9a",
   "metadata": {},
   "outputs": [],
   "source": [
    "def compute_sip_future_value(payment, periodic_interest_rate, num_payments):\n",
    "    return payment * \\\n",
    "           ((1 + periodic_interest_rate)**num_payments)/periodic_interest_rate *\\\n",
    "           (1 + periodic_interest_rate)"
   ]
  },
  {
   "cell_type": "code",
   "execution_count": null,
   "id": "b092a259",
   "metadata": {},
   "outputs": [],
   "source": [
    "# invest $100 monthly for 30 years at 10% interest\n",
    "compute_sip_future_value(100, .10/12,30*12)"
   ]
  },
  {
   "cell_type": "markdown",
   "id": "62931265",
   "metadata": {},
   "source": [
    "Couple notes:\n",
    "1. The function only computes and returns the future value. The function has no responsibility to get the input parameters or display the results.  With computer programming / software development, this is known as the [single-responsibility principle]\n",
    "(https://en.wikipedia.org/wiki/Single-responsibility_principle).\n",
    "2. By placing this capability into a function, we've now provided an easy-to-use abstraction of computing future values for ourselves."
   ]
  },
  {
   "cell_type": "markdown",
   "id": "7670c15d",
   "metadata": {},
   "source": [
    "## Exercises\n",
    "\n",
    "1) Using the formula for compound interest, write a function to compute the result.  The function should take three parameters: the initial principal, interest rate, and number of years.  Assume the interest is compounded monthly.\n",
    "\n",
    "2) Repeat exercise 1, but add an optional parameter that determines is interest is compound monthly or yearly.  You may use a Boolean flag or a string.\n",
    "\n",
    "3) Using the formula to compute monthly payments for a loan, write a function to compute those payment amounts.\n",
    "\n",
    "$ A = P \\times \\dfrac{r(1+r)^n}{(1+r)^n - 1} $  \n",
    "\n",
    "- $A$ is the periodic amortization payment\n",
    "- $P$ is the principal amount borrowed\n",
    "- $r$ is the rate of interest expressed as a fraction; for a monthly payment, take the (Annual Rate)/12\n",
    "- $n$ is the number of payments; for monthly payments over 30 years, 12 months x 30 years = 360 payments.\n",
    "\n",
    "Think about what parameters should be passed.\n",
    "\n",
    "For both of these exercises, call your functions with different arguments and print the results.\n",
    "\n",
    "4) While the standard unit of measurement for mass is the kilogram, many different units exists for measuring mass (and weight).  Create a function called convert_mass that has three parameters: _value_ - the number for the current mass, _current_ - the unit currently used for the mass, _target_ the unit to convert the mass into.  The function should return the number for the current mass expressed in the _target_ unit.  Use the following values values for the possible _current_ and _target_ units. \n",
    "\n",
    "Unit Name | Kilograms\n",
    ":---------| --------:\n",
    "Kilogram  |      1.0\n",
    "Pound     | 0.453592\n",
    "Stone     | 6.35029\n",
    "Jin       | 0.5\n",
    "Seer      | 1.25\n",
    "Gram      | 0.001\n",
    "Oka       | 1.2829\n",
    "\n",
    "```convert_mass(10,\"Jin\",\"Pound\")``` returns approximately 11.023  "
   ]
  },
  {
   "cell_type": "markdown",
   "id": "63a52f2b",
   "metadata": {},
   "source": [
    "## References\n",
    "[1] Alfred V. Aho, Ravi Sethi, and Jeffrey D. Ullman. 1986. _Compilers: principles, techniques, and tools_. Addison-Wesley Longman Publishing Co., Inc., USA."
   ]
  },
  {
   "cell_type": "code",
   "execution_count": null,
   "id": "cc559e0f",
   "metadata": {},
   "outputs": [],
   "source": []
  }
 ],
 "metadata": {
  "kernelspec": {
   "display_name": "Python 3 (ipykernel)",
   "language": "python",
   "name": "python3"
  },
  "language_info": {
   "codemirror_mode": {
    "name": "ipython",
    "version": 3
   },
   "file_extension": ".py",
   "mimetype": "text/x-python",
   "name": "python",
   "nbconvert_exporter": "python",
   "pygments_lexer": "ipython3",
   "version": "3.10.4"
  }
 },
 "nbformat": 4,
 "nbformat_minor": 5
}
