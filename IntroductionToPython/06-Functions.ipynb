{
 "cells": [
  {
   "cell_type": "markdown",
   "id": "f60bd491",
   "metadata": {},
   "source": [
    "<div class=\"pagebreak\"></div>\n",
    "\n",
    "# Functions\n",
    "Most of the Python code you have seen and written in these notebooks has been small fragments. In some cases, these fragments can produce interesting and useful results, such as computing compound interest. However, it does not make sense to copy and paste these fragments into other programs constantly. Fortunately, Python provides a mechanism to organize these code blocks into a cohesive unit - the function.  These notebooks have used many built-in Python functions (`int`, `float`, `print`, `input`, `type`, `help`, `dir`); now, we will develop custom functions in this notebook.\n",
    "\n",
    "Functions are named reusable code blocks.  They can take any number of parameters to send data into the function.  Functions can then return any number of results to the calling block.\n",
    "\n",
    "As you use functions within your programs, two fundamental concepts exist:\n",
    "1. Defining (declaring) the function.  This provides the function's definition: the name, parameters, and functionality.  In many other programming languages, you need to state the functionʼs return type and parameter types explicitly.\n",
    "2. Calling the function.  As we call (execute) a function, we pass a specific list of arguments as the values for a function's parameters.\n"
   ]
  },
  {
   "cell_type": "markdown",
   "id": "f28a0fe5",
   "metadata": {},
   "source": [
    "## Defining\n",
    "We declare a function with the keyword `def`, followed by its name, zero or more parameters specified within parenthesis, a colon, and then an indented code block.  The syntax -\n",
    "<pre>\n",
    "def <i>function_name</i>(<i>parameter</i>):\n",
    "    <i>block</i>\n",
    "</pre>\n",
    "\n",
    "Calling a user-defined function is the same as calling a built-in function - use the name followed by a parenthesis enclosing any arguments."
   ]
  },
  {
   "cell_type": "code",
   "execution_count": null,
   "id": "8af3308e",
   "metadata": {},
   "outputs": [],
   "source": [
    "def say_hello():\n",
    "    print(\"Hello World!\")\n",
    "    \n",
    "say_hello()"
   ]
  },
  {
   "cell_type": "code",
   "execution_count": null,
   "id": "abba16c8",
   "metadata": {},
   "outputs": [],
   "source": [
    "def say_greeting(name):\n",
    "    print(\"Hello\",name,\"- it is nice to meet you\")\n",
    "    \n",
    "say_greeting(\"Steve\")"
   ]
  },
  {
   "cell_type": "markdown",
   "id": "ccc9f09e",
   "metadata": {},
   "source": [
    "If a function lists one or more parameters in its definition, you must pass the required number of corresponding arguments. Not passing a required argument causes a \"TypeError\"."
   ]
  },
  {
   "cell_type": "code",
   "execution_count": null,
   "id": "d537eea2",
   "metadata": {
    "scrolled": true
   },
   "outputs": [],
   "source": [
    "say_greeting()      # raises a TypeError"
   ]
  },
  {
   "cell_type": "markdown",
   "id": "f02a3f79",
   "metadata": {},
   "source": [
    "## Arguments vs. Parameters\n",
    "Colloquially, programmers use the terms arguments and parameters interchangeably. However, a slight distinction exists between the two. _Parameters_ are the variables defined for use within a function as part of its declaration. _Arguments_ are the values passed to a particular function when a statement calls that function.\n",
    "\n",
    "In the above example, \"name\" is a parameter and \"Steve\" is an argument."
   ]
  },
  {
   "cell_type": "markdown",
   "id": "530f3e7b",
   "metadata": {},
   "source": [
    "## Function naming rules\n",
    "Function names follow the same rules as variables:\n",
    "\n",
    "- can only contain lowercase letters (a-z), uppercase letters (A-Z), digits (0-9), and an underscore(_)\n",
    "- cannot begin with a digit\n",
    "- cannot be one of Python's reserved keywords.\n",
    "\n",
    "Function names are case-sensitive.\n",
    "\n",
    "Just as with variable names, you should create meaningful names that communicate the purpose of the function.\n",
    "\n",
    "Python's naming conventions use underscores separating words versus using camelCase present in other languages like Java."
   ]
  },
  {
   "cell_type": "code",
   "execution_count": null,
   "id": "8e328c2c",
   "metadata": {},
   "outputs": [],
   "source": [
    "def add_numbers(a, b):\n",
    "    return a + b\n",
    "\n",
    "print(add_numbers(5, 6))\n",
    "print(add_numbers(1968, 2001))"
   ]
  },
  {
   "cell_type": "markdown",
   "id": "7401305e",
   "metadata": {},
   "source": [
    "## Returning Values\n",
    "Use the `return` keyword followed by the appropriate value or variable to return a value from a function.\n",
    "\n",
    "The Python interpreter implicitly returns `None` if the function exits (reaches the bottom of the function) without a return value.\n",
    "\n",
    "The `None` keyword defines a null value (or no value at all).  None is not the same as 0, False, or an empty string.  None has a type of \"NoneType\".  "
   ]
  },
  {
   "cell_type": "code",
   "execution_count": null,
   "id": "81cc72ba",
   "metadata": {
    "scrolled": true
   },
   "outputs": [],
   "source": [
    "print (False == None)\n",
    "x = None\n",
    "print (x is None)       # test if x is the type \"None\"\n",
    "print (x is not None)\n",
    "print(type(None))"
   ]
  },
  {
   "cell_type": "code",
   "execution_count": null,
   "id": "773a5836",
   "metadata": {},
   "outputs": [],
   "source": [
    "def print_add_numbers(a, b):\n",
    "    print(a + b)\n",
    "    \n",
    "x = print_add_numbers(4,5)\n",
    "print(type(x))"
   ]
  },
  {
   "cell_type": "markdown",
   "id": "83542332",
   "metadata": {},
   "source": [
    "## Parameters\n",
    "Python has several conveniences when defining parameters and passing arguments.\n",
    "\n",
    "First, we can match arguments to parameters when they are called simply by their order:"
   ]
  },
  {
   "cell_type": "code",
   "execution_count": null,
   "id": "9ff8d967",
   "metadata": {},
   "outputs": [],
   "source": [
    "def print_message(owner, color, thing):\n",
    "    print(owner,\"has a\",color, thing)\n",
    "    \n",
    "print_message(\"John\",\"grey\",\"car\")\n",
    "print_message(\"Pat\", \"light green\",\"car\")"
   ]
  },
  {
   "cell_type": "markdown",
   "id": "99dfbb95",
   "metadata": {},
   "source": [
    "Second, we can match arguments to parameters by the names of the corresponding parameter.  These are _keyword arguments_."
   ]
  },
  {
   "cell_type": "code",
   "execution_count": null,
   "id": "d64799f0",
   "metadata": {},
   "outputs": [],
   "source": [
    "print_message(thing=\"phone\",owner=\"Joseph\", color=\"red\")"
   ]
  },
  {
   "cell_type": "markdown",
   "id": "350e55c8",
   "metadata": {},
   "source": [
    "Third, we can mix and match positional and keyword arguments.  Any positional arguments must come first."
   ]
  },
  {
   "cell_type": "code",
   "execution_count": null,
   "id": "f074364e",
   "metadata": {
    "scrolled": true
   },
   "outputs": [],
   "source": [
    "print_message(\"Joseph\", thing=\"phone\", color=\"red\")"
   ]
  },
  {
   "cell_type": "code",
   "execution_count": null,
   "id": "283981ba",
   "metadata": {},
   "outputs": [],
   "source": [
    "print_message(thing=\"phone\", color=\"red\",\"Joseph\")   # Raises a syntax error."
   ]
  },
  {
   "cell_type": "markdown",
   "id": "a35b6bd1",
   "metadata": {},
   "source": [
    "Fourth, we can specify default parameter values:"
   ]
  },
  {
   "cell_type": "code",
   "execution_count": null,
   "id": "5af948a6",
   "metadata": {},
   "outputs": [],
   "source": [
    "def print_message(owner, color='black', thing='phone'):\n",
    "    print(owner,\"has a\",color, thing)\n",
    "    \n",
    "print_message('John')\n",
    "print_message('John', thing=\"car\")\n",
    "print_message('John', 'red','pen')"
   ]
  },
  {
   "cell_type": "markdown",
   "id": "57a3225e",
   "metadata": {},
   "source": [
    "Now, practice making different calls to the following function.  How many different paths are there to get an answer?"
   ]
  },
  {
   "cell_type": "code",
   "execution_count": null,
   "id": "1fc3cf54",
   "metadata": {},
   "outputs": [],
   "source": [
    "def play_golf(outlook=\"overcast\", windy=False, humidity=\"normal\"):\n",
    "    if outlook == \"rainy\":\n",
    "        if windy:\n",
    "            return False\n",
    "        else:\n",
    "            return True\n",
    "    elif outlook == \"overcast\":\n",
    "        return True\n",
    "    elif outlook == \"sunny\":\n",
    "        if humidity == \"high\":\n",
    "            return False\n",
    "        elif humidity == \"normal\":\n",
    "            return True\n",
    "        else:\n",
    "            print(\"Undefined humidity: \"+humidity)\n",
    "    else:\n",
    "        print(\"Undefined outlook: \"+outlook)"
   ]
  },
  {
   "cell_type": "code",
   "execution_count": null,
   "id": "c14960bc",
   "metadata": {},
   "outputs": [],
   "source": [
    "print(play_golf())\n",
    "print(play_golf(\"sunny\"))"
   ]
  },
  {
   "cell_type": "markdown",
   "id": "0e9a7474",
   "metadata": {},
   "source": [
    "We can represent the logic in the above method as a decision tree:\n",
    "![](images/playgolf.png)\n",
    "\n",
    "By counting the number of leaf nodes (those with an oval / no children),  we get the number of different paths. This number is the minimum number of test cases needed to test the function.\n",
    "\n",
    "Complete the decision matrix: (Fill in the missing blanks.)\n",
    "\n",
    "| outlook | windy | humidity | decision|\n",
    "| ------- | ------| ---------| --------|\n",
    "|         |       |          |  true   |\n",
    "| rainy   |       |          |  true   |\n",
    "| rainy   |       |          |  false  |\n",
    "| sunny   |       |          |  true   |\n",
    "| sunny   |       |          |  false  |"
   ]
  },
  {
   "cell_type": "markdown",
   "id": "bb84d2c1",
   "metadata": {},
   "source": [
    "Finally, Python has two capabilities to handle situations where the number of parameters is unknown.  A `*` can be used to gather requirements into a list, while `**` can be used to collect pairs of arguments into a dictionary. We will explore both of these possibilities in later notebooks."
   ]
  },
  {
   "cell_type": "markdown",
   "id": "28c176a7",
   "metadata": {},
   "source": [
    "## Docstrings and Providing Function Documentation\n",
    "We can provide documentation for a function by using a docstring at the start of a function.  Remember that docstrings are strings contained right after the function definition line.\n",
    "\n",
    "With docstrings, other programmers can see information on your function, including an overall description, any parameters, and the return value."
   ]
  },
  {
   "cell_type": "code",
   "execution_count": null,
   "id": "b0d5dad4",
   "metadata": {},
   "outputs": [],
   "source": [
    "def multiple(a,b):\n",
    "    \"\"\"Returns the result of multiplying a and b \"\"\"\n",
    "    return a * b;\n",
    "\n",
    "help(multiple)"
   ]
  },
  {
   "cell_type": "markdown",
   "id": "6b607ee8",
   "metadata": {},
   "source": [
    "Internally, Python treats defined functions as objects. Everything is an object in Python - even functions. Everything has some properties (state) and some methods/functions (behavior).\n",
    "\n",
    "The interpreter automatically assigns function docstrings to the property `__doc__`."
   ]
  },
  {
   "cell_type": "code",
   "execution_count": null,
   "id": "db3091bb",
   "metadata": {},
   "outputs": [],
   "source": [
    "print (multiple.__doc__)"
   ]
  },
  {
   "cell_type": "markdown",
   "id": "2f0e7319",
   "metadata": {},
   "source": [
    "The single-line docstring shown above suffices for simple or self-obvious methods.  However, for more complicated situations, we should provide additional details.  For this class, we will use [Google Style DocStrings](https://sphinxcontrib-napoleon.readthedocs.io/en/latest/example_google.html)."
   ]
  },
  {
   "cell_type": "code",
   "execution_count": null,
   "id": "828eef29",
   "metadata": {},
   "outputs": [],
   "source": [
    "def play_golf(outlook=\"overcast\", windy=False, humidity=\"normal\"):\n",
    "    \"\"\"\n",
    "    play_golf determines whether or not a golfer should play \n",
    "    golf based on the current weather conditions.\n",
    "    \n",
    "    Args:\n",
    "       outlook (str): Is the weather going to be \"sunny\", \"overcast\", or \"rainy\"?\n",
    "       windy (bool): Is it going to be windy?  True/False\n",
    "       humidity (str): Is the humidity \"high\" or \"normal\"\n",
    "\n",
    "    Returns:\n",
    "    True if the individual should play golf.  False if not\n",
    "    \"\"\"\n",
    "    \n",
    "    if outlook == \"rainy\":\n",
    "        if windy:\n",
    "            return False\n",
    "        else:\n",
    "            return True\n",
    "    elif outlook == \"overcast\":\n",
    "        return True\n",
    "    elif outlook == \"sunny\":\n",
    "        if humidity == \"high\":\n",
    "            return False\n",
    "        elif humidity == \"normal\":\n",
    "            return True\n",
    "        else:\n",
    "            print(\"Undefined humidity: \"+humidity)\n",
    "    else:\n",
    "        print(\"Undefined outlook: \"+outlook)\n",
    "        return False"
   ]
  },
  {
   "cell_type": "code",
   "execution_count": null,
   "id": "53c2270e",
   "metadata": {},
   "outputs": [],
   "source": [
    "help (play_golf)"
   ]
  },
  {
   "cell_type": "markdown",
   "id": "d8968684",
   "metadata": {},
   "source": [
    "## Namespaces and Scope\n",
    "As you declare functions and use variables, you create identifiers that refer to those objects (functions, parameters, and variables).  A `namespace` is a dictionary of symbolic names and the objects referred to by those names.  For example, \"play_golf\" is a name that refers to a specific function.\n",
    "\n",
    "Python contains four types of namespaces: \n",
    "1. Built-in.  Contains the names and references for Python's built-in objects (which includes functions!). \n",
    "2. Global. Contains any names defined at the main level of a program. The Python interpreter automatically creates this namespace when it starts. The variables we create outside of functions, and the functions we have created so far belong to this namespace.\n",
    "3. Enclosing - As later notebooks demonstrate, developers can create functions created within classes and within other functions. In these situations, the interpreter creates an enclosing namespace.\n",
    "4. Local - The interpreter creates this namespace when a function is called. When the function exists, the interpreter destroys the corresponding namespace.\n",
    "\n",
    "\n",
    "![](images/namespace.png)\n",
    "\n",
    "\n",
    "The scope of a name is the region of the program in which it is valid.\n",
    "\n",
    "Consider the following example:"
   ]
  },
  {
   "cell_type": "code",
   "execution_count": null,
   "id": "2a43895a",
   "metadata": {},
   "outputs": [],
   "source": [
    "a = 10 \n",
    "\n",
    "def f(param1): \n",
    "    a = 20\n",
    "    b = 15\n",
    "    print(\"1:\",param1)\n",
    "    print(\"2:\", a)\n",
    "    \n",
    "def g():\n",
    "    print(\"3:\",a)\n",
    "\n",
    "f(5)\n",
    "g()\n",
    "print(\"4:\",a)\n",
    "print(\"5:\",b)      # raises a name error"
   ]
  },
  {
   "cell_type": "markdown",
   "id": "5f061c07",
   "metadata": {},
   "source": [
    "[Execute this code on PythonTutor](https://pythontutor.com/render.html#code=a%20%3D%2010%20%0A%0Adef%20f%28param1%29%3A%20%0A%20%20%20%20a%20%3D%2020%0A%20%20%20%20b%20%3D%2015%0A%20%20%20%20print%28%221%3A%22,%20param1%29%0A%20%20%20%20print%28%222%3A%22,%20a%29%0A%20%20%20%20%0Adef%20g%28%29%3A%0A%20%20%20%20print%28%223%3A%22,%20a%29%0A%0Af%285%29%0Ag%28%29%0Aprint%28%224%3A%22,%20a%29%0Aprint%28%225%22,%20b%29&cumulative=false&curInstr=0&heapPrimitives=true&mode=display&origin=opt-frontend.js&py=3&rawInputLstJSON=%5B%5D&textReferences=false)\n",
    "\n",
    "Code Explanation:\n",
    "- Line 1: Defines a variable `a` in the global namespace.\n",
    "- Line 3: Defines a function `f` in the global namespace.\n",
    "- Line 9: Defines a function `g` in the global namespace.\n",
    "- Line 12: Calls the function `f` with the argument 5. Creates a local namespace, adds `param1` to that namespace\n",
    "  - Line 4: defines a new variable `a` in the local names space, value = 20\n",
    "  - Line 5: defines a new variable `b` in the local names space, value = 5\n",
    "  - Line 8: `f` returns `None` as there was not an explicit return. Local namespace destroyed\n",
    "- Line 13: Calls the function `g`.  Creates a local namespace\n",
    "  - Line 10: As `a` does not belong to the local namespace, the interpreter searches the enclosing namespaces for the variable. Found in the global namespace, the interpreter prints 10.\n",
    "  - Line 11: `g` returns `None` as there was not an explicit return. Local namespace destroyed.\n",
    "- Line 14: prints 10 from the variable stored in the global namespace.\n",
    "- Line 15: raises a \"NameError\" as `b` is undefined.\n",
    "\n",
    "The use of `a` in the two functions might be a little confusing. No special keywords are needed if we access a variable within an enclosing namespace. If we define a variable with the same name, we create a local variable.\n",
    "\n",
    "Use the above link to step through this code line by line to help visualize what occurs.\n",
    "\n",
    "In the following example, we use the `global` keyword to explicitly access and use a global variable within a function."
   ]
  },
  {
   "cell_type": "code",
   "execution_count": null,
   "id": "cad39060",
   "metadata": {},
   "outputs": [],
   "source": [
    "a = 10 \n",
    "\n",
    "def f(param1): \n",
    "    global a\n",
    "    a = 20\n",
    "    print(\"1:\",param1)\n",
    "    print(\"2:\", a)\n",
    "\n",
    "f(5)\n",
    "print(\"3:\",a)"
   ]
  },
  {
   "cell_type": "markdown",
   "id": "f0fbec74",
   "metadata": {},
   "source": [
    "[Execute this code on PythonTutor](https://pythontutor.com/render.html#code=a%20%3D%2010%20%0A%0Adef%20f%28param1%29%3A%20%0A%20%20%20%20global%20a%0A%20%20%20%20a%20%3D%2020%0A%20%20%20%20print%28%221%3A%22,param1%29%0A%20%20%20%20print%28%222%3A%22,%20a%29%0A%0Af%285%29%0Aprint%28%223%3A%22,a%29&cumulative=false&curInstr=0&heapPrimitives=true&mode=display&origin=opt-frontend.js&py=3&rawInputLstJSON=%5B%5D&textReferences=false)\n",
    "\n",
    "If you ever want to look at the contents of a given namespace, you can use:\n",
    "- dir(\\_\\_builtins\\_\\_)\n",
    "- globals()\n",
    "- locals()\n",
    "\n",
    "Try out each of these in the cell below:"
   ]
  },
  {
   "cell_type": "code",
   "execution_count": null,
   "id": "cfb10990",
   "metadata": {},
   "outputs": [],
   "source": [
    "dir(__builtins__)"
   ]
  },
  {
   "cell_type": "markdown",
   "id": "ab4bd52b",
   "metadata": {},
   "source": [
    "## The LEGB Rule\n",
    "While not explicitly mentioned in the Python literature, The LEGB Rule is a mnemonic for how the Python interpreter searches the various namespaces for a particular item. As you can see from the diagram above with how namespaces enclose each other, the interpreter searches the namespaces in the following order:\n",
    "1. Local\n",
    "2. Enclosing\n",
    "3. Global\n",
    "4. Built-in"
   ]
  },
  {
   "cell_type": "markdown",
   "id": "3c543ec6",
   "metadata": {},
   "source": [
    "## Passing Arguments: By Object Reference\n",
    "As everything is an object in Python, the language passes a reference to an object when that object is an argument to a function. From a performance perspective, making complete copies of complex or large objects would be costly.\n",
    "\n",
    "If we pass a mutable object to a function, that function could change the object's properties (e.g., add an element to a list).  As we write functions, we need to avoid unintended side effects on objects passed to us or manipulate global variables.  \n",
    "\n",
    "In this next code block, the built-in function `id()` returns the identity of an object.  This identity is a unique integer.  When val is assigned 12, a new object is created and assigned to that parameter. `a` was unchanged as it is an immutable type. "
   ]
  },
  {
   "cell_type": "code",
   "execution_count": null,
   "id": "87d05ad8",
   "metadata": {},
   "outputs": [],
   "source": [
    "a = 10\n",
    "print(\"Line 2:\",id(a))\n",
    "\n",
    "def changeImmutableParameter(val):\n",
    "    print(\"Line 5: function called with \"+str(val))\n",
    "    print(\"Line 6:\", id(val))\n",
    "    val = 12\n",
    "    print(\"Line 8:\", id(val))\n",
    "    print(\"Line 9: val is now \" + str(val))\n",
    "\n",
    "changeImmutableParameter(a)\n",
    "print(\"Line 12:\", a)\n",
    "print(\"Line 13:\", id(a))"
   ]
  },
  {
   "cell_type": "markdown",
   "id": "5cb2a442",
   "metadata": {},
   "source": [
    "If you [search the Internet](https://www.google.com/search?q=call+by+reference+vs+call+by+value%20python), you will see several different justifications as to whether or not Python uses \"call by value\" or \"call by reference\".\n",
    "\n",
    "\"Call by value\"  evaluates the arguments and passes their actual values to the called function.[1]\n",
    "\n",
    "In \"call by reference\", the caller passes a reference (pointer) to the storage address of the actual parameter.[1]\n",
    "\n",
    "In some other languages, programmers can also pass the address of the actual variable to the function, giving the function an alias to that location.  Python (nor Java) does not provide this capability.\n",
    "\n",
    "Others will say that Python is \"call by value\" when passing immutable objects (integers, floats, strings, tuples, etc.) because any changes made to those parameters within the function are not reflected in the calling function.  Then they will say for mutable objects (lists, dictionaries,etc.), that Python is \"call by reference\".  These statements are fundamental misunderstandings and incorrect interpretations.  In both cases, the reference to the object has been passed.\n",
    "\n",
    "(This digression may seem overly fastidious, but interviewers often ask how different languages pass parameters. The advice here is not to answer value/reference but rather to explain how Python passes arguments by sending object references.) "
   ]
  },
  {
   "cell_type": "markdown",
   "id": "d73b6f42",
   "metadata": {},
   "source": [
    "## Case Study: Revisiting the System Investment Calculator\n",
    "\n",
    "Now, revisit the process for creating a systematic investment plan (SIP) calculator as presented in a prior notebook. A SIP is an investment product offered by many mutual fund companies. Investors put a fixed amount of money into the SIP periodically (e.g., monthly) to help promote financial discipline and provide dollar cost averaging.\n",
    "\n",
    "    $ FV = P \\times \\dfrac{(1+i)^n - 1}{i} \\times (1 +i) $  \n",
    "\n",
    "- $FV$ is the future value\n",
    "- $P$ is the amount invested at the start of every payment interval\n",
    "- $i$ is the periodic interest rate; for a monthly payment, take the (Annual Rate)/12\n",
    "- $n$ is the number of payments\n",
    "\n",
    "Now, create a function to compute this value.  The function needs to have three arguments - $P$, $i$, and $n$.  The function then returns the future value of the investment.  "
   ]
  },
  {
   "cell_type": "code",
   "execution_count": null,
   "id": "a73fff9a",
   "metadata": {},
   "outputs": [],
   "source": [
    "def compute_sip_future_value(payment, periodic_interest_rate, num_payments):\n",
    "    return payment * \\\n",
    "           ((1 + periodic_interest_rate)**num_payments)/periodic_interest_rate *\\\n",
    "           (1 + periodic_interest_rate)"
   ]
  },
  {
   "cell_type": "code",
   "execution_count": null,
   "id": "b092a259",
   "metadata": {},
   "outputs": [],
   "source": [
    "# invest $100 monthly for 30 years at 10% interest\n",
    "compute_sip_future_value(100, .10/12,30*12)"
   ]
  },
  {
   "cell_type": "markdown",
   "id": "62931265",
   "metadata": {},
   "source": [
    "Notes:\n",
    "1. The function only computes and returns the future value. The function has no responsibility to get the input parameters or display the results.  With computer programming / software development, this is known as the [single-responsibility principle](https://en.wikipedia.org/wiki/Single-responsibility_principle).\n",
    "2. By placing this capability into a function, we now provide an easy-to-use abstraction of computing future values for ourselves. We no longer have to concern ourselves with the exact details and steps of the process."
   ]
  },
  {
   "cell_type": "markdown",
   "id": "7670c15d",
   "metadata": {},
   "source": [
    "## Exercises\n",
    "\n",
    "1. Using the formula for compound interest, write a function named compute_compound_interest to compute and return the result.  The function should take three parameters (in this order): the initial principal, the interest rate, and the number of years.  Assume the interest is compounded monthly.\n",
    "\n",
    "2. Repeat exercise 1, but add an optional parameter that determines the number of periods annually.  The default should be 12.\n",
    "\n",
    "3. Using the formula to compute monthly payments for a loan, write a function named compute_monthly_payments to compute those payment amounts.  The function should take the following parameters: principal, interest_rate, and number_of_payments.\n",
    "\n",
    "    $ A = P \\times \\dfrac{r(1+r)^n}{(1+r)^n - 1} $  \n",
    "\n",
    "- $A$ is the periodic amortization payment\n",
    "- $P$ is the principal amount borrowed\n",
    "- $r$ is the rate of interest expressed as a fraction; for a monthly payment, take the (Annual Rate)/12\n",
    "- $n$ is the number of payments; for monthly payments over 30 years, 12 months x 30 years = 360 payments.\n",
    "\n",
    "4. While the standard unit of measurement for mass is the kilogram, many different units exist for measuring mass (and weight).  Create a function called convert_mass with three parameters: _value_ - the number for the current mass, _current_ - the unit currently used for the mass, and _target_ - the unit to convert the mass for the result.  The function should return the number for the current mass expressed in the _target_ unit.  Use the following conversion tables for the possible _current_ and _target_ units. \n",
    "\n",
    "Unit Name | Kilograms\n",
    ":---------| --------:\n",
    "Kilogram  |      1.0\n",
    "Pound     | 0.453592\n",
    "Stone     | 6.35029\n",
    "Jin       | 0.5\n",
    "Seer      | 1.25\n",
    "Gram      | 0.001\n",
    "Oka       | 1.2829\n",
    "\n",
    "```convert_mass(10,\"Jin\",\"Pound\")``` returns approximately 11.023  "
   ]
  },
  {
   "cell_type": "markdown",
   "id": "63a52f2b",
   "metadata": {},
   "source": [
    "## References\n",
    "[1] Alfred V. Aho, Ravi Sethi, and Jeffrey D. Ullman. 1986. _Compilers: principles, techniques, and tools_. Addison-Wesley Longman Publishing Co., Inc., USA."
   ]
  },
  {
   "cell_type": "code",
   "execution_count": null,
   "id": "cc559e0f",
   "metadata": {},
   "outputs": [],
   "source": []
  }
 ],
 "metadata": {
  "kernelspec": {
   "display_name": "Python 3 (ipykernel)",
   "language": "python",
   "name": "python3"
  },
  "language_info": {
   "codemirror_mode": {
    "name": "ipython",
    "version": 3
   },
   "file_extension": ".py",
   "mimetype": "text/x-python",
   "name": "python",
   "nbconvert_exporter": "python",
   "pygments_lexer": "ipython3",
   "version": "3.10.4"
  }
 },
 "nbformat": 4,
 "nbformat_minor": 5
}
