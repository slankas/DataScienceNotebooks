{
 "cells": [
  {
   "cell_type": "markdown",
   "id": "6c815fb4",
   "metadata": {},
   "source": [
    "# Formatting Strings\n",
    "So far, we've been using string concatenation and multiple arguments to `print()` to format strings.  In this notebook, we will use both [printf style formatting](https://en.wikipedia.org/wiki/Printf_format_string) and [string interpolation](https://en.wikipedia.org/wiki/String_interpolation) to put values into strings with a variety of different formats. \n",
    "\n",
    "Python offers three different ways to format strings:\n",
    "- old style (all versions of Pythons)\n",
    "- new style (Python 2.6 +)\n",
    "- f-strings (Python 3.6 +)\n",
    "\n",
    "In this notebook, we are directly printing the results of the formatting, but we can also assign the results to a variable or use as an expression (e.g., as an argument to a function)."
   ]
  },
  {
   "cell_type": "markdown",
   "id": "75c6e523",
   "metadata": {},
   "source": [
    "## Old style: %\n",
    "This format uses the form of _format_string_ % data.  Within each string are one of more placeholder fields that will be replaced by values after the `%` operator.  \n",
    "\n",
    "Note: The book _Introducing Python_ does considers this formatting to be string interpolation as the format strings contain placeholders.  Others strictly require expressions to be supported to be considered true string interpoloation (which exists in f-strings).\n",
    "\n",
    "While development and support of Python 2 has ended, the old style formatting will remain in Python for the forseeable future.\n",
    "\n",
    "Placeholders follow this format: `%[flags][minWidth][.maxchars]type`\n",
    "\n",
    "The square brackets indicate an optional component.\n",
    "\n",
    "| Type | Description |\n",
    "|------|:-------|\n",
    "| %s   | string |\n",
    "| %d   | integer |\n",
    "| %x   | hexadecimal integer |\n",
    "| %o   | octal integer |\n",
    "| %f   | float |\n",
    "| %e   | float in exponential format |\n",
    "| %g   | decimal or exponential float |\n",
    "| %%   | the character % |\n",
    "\n",
    "\n",
    "For the optional components - \n",
    "\n",
    "The flags have the possible options\n",
    "- `-` left aligns the output of the placeholder.\n",
    "- `+` Prepends a plus for positive signed-numeric types\n",
    "- `0` will prepend zeros for numeric types if the width is present\n",
    "\n",
    "The minwidth is the minimum size of the placeholder.\n",
    "\n",
    "If the type is a string, _.maxchars_ specifies how many characters to print from the data value.<br>\n",
    "If the type is a float, _.maxchars_ specifies the precision - the number of digits after the decimal point.\n",
    "If the type is an integer, _.maxchars_ specifies the length of the integer to print. zeros will be prepended if the number is less than that length.\n"
   ]
  },
  {
   "cell_type": "code",
   "execution_count": null,
   "id": "56a6ba09",
   "metadata": {},
   "outputs": [],
   "source": [
    "alphabet = \"abcdefghijklmnopqrstuvwxyz\"\n",
    "print(\"123456789012345678901234567890\")\n",
    "print(\"%s\" % alphabet)\n",
    "print(\"%.5s\" % alphabet)\n",
    "print(\"%30.5s\" % alphabet)\n",
    "print(\"%-30.5s\" % alphabet)"
   ]
  },
  {
   "cell_type": "code",
   "execution_count": null,
   "id": "d70221b6",
   "metadata": {},
   "outputs": [],
   "source": [
    "year = 1892\n",
    "print(\"123456789012345678901234567890\")\n",
    "print(\"%d\" % year)\n",
    "print(\"%20d\" % year)\n",
    "print(\"%+20d\" % year)\n",
    "print(\"%020d\" % year)\n",
    "print(\"%20.8d\" % year)\n",
    "print(\"%-20d\" % year)\n",
    "print(\"%x\" % year)\n",
    "print(\"%o\" % year)"
   ]
  },
  {
   "cell_type": "code",
   "execution_count": null,
   "id": "1368d69d",
   "metadata": {},
   "outputs": [],
   "source": [
    "gain = 64.98712\n",
    "print(\"123456789012345678901234567890\")\n",
    "print(\"%f\" % gain)\n",
    "print(\"%20f\" % gain)\n",
    "print(\"%+20f\" % gain)\n",
    "print(\"%020f\" % gain)\n",
    "print(\"%20.8f\" % gain)\n",
    "print(\"%20.2f\" % gain)\n",
    "print(\"%-20f\" % gain)\n"
   ]
  },
  {
   "cell_type": "code",
   "execution_count": null,
   "id": "f042cebe",
   "metadata": {},
   "outputs": [],
   "source": [
    "gain = 604132421.988\n",
    "print(\"123456789012345678901234567890\")\n",
    "print(\"%e\" % gain)\n",
    "print(\"%20e\" % gain)\n",
    "print(\"%+20e\" % gain)\n",
    "print(\"%020e\" % gain)\n",
    "print(\"%20.8e\" % gain)\n",
    "print(\"%20.2e\" % gain)\n",
    "print(\"%-20e\" % gain)\n",
    "print(\"%20.12e\" % gain)"
   ]
  },
  {
   "cell_type": "markdown",
   "id": "2df6e353",
   "metadata": {},
   "source": [
    "Of course, we can include other content within these strings"
   ]
  },
  {
   "cell_type": "code",
   "execution_count": null,
   "id": "99fb569b",
   "metadata": {},
   "outputs": [],
   "source": [
    "print(\"In %d, Duke University moved to Durham, North Carolina.\" % 1892)"
   ]
  },
  {
   "cell_type": "markdown",
   "id": "7f7eafe3",
   "metadata": {},
   "source": [
    "You can also specify multiple placeholders within a string.  The values will put inside of a tuple (which you will see in Notebook 3d).  For right now, you just need to know that tuples are bound by paranthesis with values separated inside by commas"
   ]
  },
  {
   "cell_type": "code",
   "execution_count": null,
   "id": "ada72d8b",
   "metadata": {},
   "outputs": [],
   "source": [
    "year = 1838\n",
    "school = \"Duke University\"\n",
    "city = \"Trinity, North Carolina\"\n",
    "print(\"In %d, %s was founded in %s.\" % (year,school,city))\n",
    "year = 1842\n",
    "school = \"the University of Notre Dame\"\n",
    "city = \"South Bend, Indiana\"\n",
    "print(\"In %d, %s was founded in %s.\" % (year,school,city))"
   ]
  },
  {
   "cell_type": "markdown",
   "id": "3a94da08",
   "metadata": {},
   "source": [
    "## New style: {} and format()"
   ]
  },
  {
   "cell_type": "markdown",
   "id": "dcdb0336",
   "metadata": {},
   "source": [
    "This format uses the form of _format_string_.format(_data_). Within each string are one of more placeholder fields identified by curly braces `{}` that will be replaced by values.\n",
    "\n",
    "By default, the {} are replaced by data by matching order of the arguments to data - the indexing starts at zero.  Addtionally, we can also specify name arguments to the placeholders."
   ]
  },
  {
   "cell_type": "code",
   "execution_count": null,
   "id": "53f7e9af",
   "metadata": {},
   "outputs": [],
   "source": [
    "print(\"{}\".format(\"Hello World!\"))\n",
    "print(\"It was the {} of {}.\".format(\"best\",\"times\"))\n",
    "print(\"It was the {1} of {0}.\".format(\"times\", \"worst\"))\n",
    "print(\"It was the {time} of {arg2}.\\nIt was the {time} of {arg3} ...\".format(time='age',arg2='wisdom',arg3=\"foolishness\"))"
   ]
  },
  {
   "cell_type": "markdown",
   "id": "b9e0609e",
   "metadata": {},
   "source": [
    "We can also utilize a dictionary of key value pairs.  The `0` in the code specifies the positional argument."
   ]
  },
  {
   "cell_type": "code",
   "execution_count": null,
   "id": "98eba045",
   "metadata": {},
   "outputs": [],
   "source": [
    "d  = {'time':'age', 'arg2':'wisdom', 'arg3':'foolishness'}\n",
    "print(\"It was the {0[time]} of {0[arg2]}.\\nIt was the {0[time]} of {0[arg3]} ...\".format(d))"
   ]
  },
  {
   "cell_type": "markdown",
   "id": "d9ae1453",
   "metadata": {},
   "source": [
    "New style formatting uses the following syntax: `{:[fill][alignment][sign][minwidth][.][maxchars]type}`\n",
    "    \n",
    "- An initial colon (':').\n",
    "- An optional fill character (default ' ') to pad the value string if it’s shorter than minwidth.\n",
    "- An optional alignment character:\n",
    "  - '<' left (the default)\n",
    "  - '>' right\n",
    "  - '^' center\n",
    "- An optional sign for numbers. If `+` is specified, a plus symbol will be added to positive numbers.  Negative numbers always have a minus sign.\n",
    "- An optional minwidth. \n",
    "- An optional period ('.') to separate minwidth and maxchars if both are defined.  If only one is defined, assumed to be maxchars\n",
    "- An optional maxchars.  If this is the a float type, then this specifies the precision.\n",
    "- the type, which are the same as the old style"
   ]
  },
  {
   "cell_type": "code",
   "execution_count": null,
   "id": "62866a4b",
   "metadata": {},
   "outputs": [],
   "source": [
    "alphabet = \"abcdefghijklmnopqrstuvwxyz\"\n",
    "print(\"123456789012345678901234567890\")\n",
    "print(\"{}\".format(alphabet))\n",
    "print(\"{:s}\".format(alphabet))\n",
    "print(\"{:X<30s}\".format(alphabet))\n",
    "print(\"{:X>30s}\".format(alphabet))\n",
    "print(\"{:X^30s}\".format(alphabet))\n",
    "print(\"{:30.5s}\".format(alphabet))\n",
    "print(\"{:>30.5s}\".format(alphabet))"
   ]
  },
  {
   "cell_type": "code",
   "execution_count": null,
   "id": "bfd46c03",
   "metadata": {},
   "outputs": [],
   "source": [
    "year = 1892\n",
    "print(\"123456789012345678901234567890\")\n",
    "print(\"{:d}\".format(year))\n",
    "print(\"{:20d}\".format(year))\n",
    "print(\"{:+20d}\".format(year))\n",
    "print(\"{:0>20d}\".format(year))  # can't specify minwidth and max chars as we could in the old-style\n",
    "print(\"{:0^8d}\".format(year))\n",
    "print(\"{:^20d}\".format(year))\n",
    "print(\"{:x}\".format(year))\n",
    "print(\"{:o}\".format(year))"
   ]
  },
  {
   "cell_type": "code",
   "execution_count": null,
   "id": "dd441095",
   "metadata": {},
   "outputs": [],
   "source": [
    "gain = 64.98712\n",
    "print(\"123456789012345678901234567890\")\n",
    "print(\"{:f}\".format( gain))\n",
    "print(\"{:20f}\".format( gain))\n",
    "print(\"{:+20f}\".format( gain))\n",
    "print(\"{:020f}\".format( gain))\n",
    "print(\"{:20.8f}\".format( gain))\n",
    "print(\"{:20.2f}\".format( gain))\n",
    "print(\"{:<20.6f}\".format( gain))"
   ]
  },
  {
   "cell_type": "markdown",
   "id": "a08f2965",
   "metadata": {},
   "source": [
    "Notice in the above example, the defualt justification is left, unless minwidth or the precision is specified where the numbers become right justified."
   ]
  },
  {
   "cell_type": "markdown",
   "id": "64ad0e90",
   "metadata": {},
   "source": [
    "## f-strings"
   ]
  },
  {
   "cell_type": "markdown",
   "id": "38602ad9",
   "metadata": {},
   "source": [
    "Appearing in Python3.6, f-strings are now the recommended approach to format strings. (Although, if you are using the `gettext` module to create localized string for different countries, you'll want to  use the \"new style\" method from the previous section.\n",
    "\n",
    "To create an f-string:\n",
    "- place the letter `f` or `F` immediately before the start of a string literal\n",
    "- use variable names or expressions within curly braces to interpolate their values into the string.\n",
    "\n",
    "f-strings use the same formatting language as the new-style formatting, just use a `:` after the variable name or expression."
   ]
  },
  {
   "cell_type": "code",
   "execution_count": null,
   "id": "afdbe5ca",
   "metadata": {},
   "outputs": [],
   "source": [
    "year = 1838\n",
    "move_year = 1892\n",
    "school = \"Duke University\"\n",
    "city = \"Trinity, North Carolina\"\n",
    "print(f\"In {year}, {school} was founded in {city}. {move_year-year} years later, {school} moved to Durham.\")"
   ]
  },
  {
   "cell_type": "markdown",
   "id": "5ad04ad7",
   "metadata": {},
   "source": [
    "As of Python 3.8, there's also a useful shortcut to display variable names in the output.  Just add `=` after ther variable name or expression."
   ]
  },
  {
   "cell_type": "code",
   "execution_count": null,
   "id": "401ed74e",
   "metadata": {},
   "outputs": [],
   "source": [
    "year = 1838\n",
    "move_year = 1892\n",
    "school = \"Duke University\"\n",
    "city = \"Trinity, North Carolina\"\n",
    "print(f\"In {year=}, {school=} was founded in {city}. {move_year-year=} years later, {school} moved to Durham.\")"
   ]
  },
  {
   "cell_type": "code",
   "execution_count": null,
   "id": "a95dbeb8",
   "metadata": {},
   "outputs": [],
   "source": [
    "year = 1892\n",
    "print(\"123456789012345678901234567890\")\n",
    "print(f\"{year:+20d}\")\n",
    "print(f\"{year=:+20d}\")"
   ]
  },
  {
   "cell_type": "markdown",
   "id": "511526ad",
   "metadata": {},
   "source": [
    "## Exercises\n",
    "1. Using the following form letter, express it as a multiline string.\n",
    "\n",
    "```\n",
    "Dear {salutation} {name},\n",
    "\n",
    "Thank you for your letter. We are sorry that our {product}\n",
    "{verbed} in your {room}. Please note that it should never\n",
    "be used in a {room}, especially near any {animals}.\n",
    "\n",
    "Send us your receipt and {amount} for shipping and handling.\n",
    "We will send you another {product} that, in our tests,\n",
    "is {percent}% less likely to have {verbed}.\n",
    "\n",
    "Thank you for your support.\n",
    "\n",
    "Sincerely,\n",
    "{spokesman}\n",
    "{job_title}\n",
    "```\n",
    "\n",
    "2. Next, assign variables for all the named placeholders in the string.\n",
    "3. Format and print the letter using new style strings.\n",
    "4. Format and print the letter using f-strings.  You'll need to create a new f-string for the letter.\n",
    "5. Write a script that defines a float variable and then prints out the number in the format of $\\*\\*\\*XX.XX where the leading asterisks are used to make the length of the output 10 characters and the precision is two digits.\n",
    "\n",
    "\n",
    "<sub><sup>1-4 Source: Introducing Python by Bill Lubanovic</sup></sub><br>\n"
   ]
  },
  {
   "cell_type": "code",
   "execution_count": null,
   "id": "cb8a41ed",
   "metadata": {},
   "outputs": [],
   "source": []
  }
 ],
 "metadata": {
  "kernelspec": {
   "display_name": "Python 3 (ipykernel)",
   "language": "python",
   "name": "python3"
  },
  "language_info": {
   "codemirror_mode": {
    "name": "ipython",
    "version": 3
   },
   "file_extension": ".py",
   "mimetype": "text/x-python",
   "name": "python",
   "nbconvert_exporter": "python",
   "pygments_lexer": "ipython3",
   "version": "3.8.10"
  }
 },
 "nbformat": 4,
 "nbformat_minor": 5
}
