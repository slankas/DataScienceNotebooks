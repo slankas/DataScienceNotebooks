{
 "cells": [
  {
   "cell_type": "markdown",
   "id": "c8a080ef",
   "metadata": {},
   "source": [
    "# Dictionaries\n",
    "Dictionaries are unordered collections of key-value pairs.  Generally, we use strings for keys, but keys can be any immutable type.  (The primary immutable types we have seen so far are strings, ints, floats, and tuples).  Values can be over any type - including other dictionaries and lists.\n",
    "\n",
    "Keys must be unique.  If we attempt to put in another key-value pair where the key already exists, the value is overwritten with the new value.\n",
    "\n",
    "Programmers use dictionaries (i.e., [associative arrays](https://en.wikipedia.org/wiki/Associative_array)) quite frequently. Sometimes, it's just to translate from one value to another such as the stock symbol to stock names that shown in this notebook or may a word in English to its counterpart in another language.    We could also have a dictionary where the key is the class name and the values are the list of students within that class.  Another possibility would be to map HTTP response status code to their description like the information at https://developer.mozilla.org/en-US/docs/Web/HTTP/Status. Retailers often use [SKUs](https://en.wikipedia.org/wiki/Stock_keeping_unit) to track products and inventory.  The SKU could be the key while the value may actually be another dictionary keeping track of a series of properties the retailer needs for each product: name, purchase_price, selling_price, inventory_count, ...\n",
    "\n",
    "Just as with other objects, we have different ways of creating dictionaries - literals with `{}` and the `dict()` function.\n",
    "\n",
    "## Literals\n",
    "With literals, we can either create an empty dictionary or use a sequence of key-value pairs to initially populate a dictionary."
   ]
  },
  {
   "cell_type": "code",
   "execution_count": null,
   "id": "4b72d793",
   "metadata": {},
   "outputs": [],
   "source": [
    "empty_dict = {}\n",
    "empty_dict"
   ]
  },
  {
   "cell_type": "code",
   "execution_count": null,
   "id": "bf68c4e7",
   "metadata": {},
   "outputs": [],
   "source": [
    "stocks = { \"AXP\"  : \"American Express\",\n",
    "           \"AMGN\" : \"Amgen\",\n",
    "           \"AAPL\" : \"Apple\",\n",
    "           \"BA\"   : \"Boeing\"}\n",
    "print(stocks)"
   ]
  },
  {
   "cell_type": "markdown",
   "id": "8290da39",
   "metadata": {},
   "source": [
    "As a side note, we intentionally used extra whitespace while creating the dictionary to make the code easier to read. We code have typed it in several diferent ways:\n",
    "```\n",
    "stocks = {'AXP': 'American Express', 'AMGN': 'Amgen', 'AAPL': 'Apple', 'BA': 'Boeing'}\n",
    "```\n",
    "```\n",
    "stocks = { \"AXP\" : \"American Express\", \"AMGN\" : \"Amgen\",\n",
    "           \"AAPL\" : \"Apple\",\n",
    "           \"BA\" : \"Boeing\"}\n",
    "```"
   ]
  },
  {
   "cell_type": "markdown",
   "id": "afd80529",
   "metadata": {},
   "source": [
    "## dict() function\n",
    "With the built-in dict function, we can create list from key value pairs specified as arguments or from two value sequences."
   ]
  },
  {
   "cell_type": "code",
   "execution_count": null,
   "id": "19c241d1",
   "metadata": {},
   "outputs": [],
   "source": [
    "more_stocks = dict(CAT='Caterpillar', CVX='Chevron', CSCO='Cisco', KO='Coca-Cola')\n",
    "more_stocks"
   ]
  },
  {
   "cell_type": "markdown",
   "id": "7c55ea86",
   "metadata": {},
   "source": [
    "With this named argument method, arguments must follow the naming rules for variables: no spaces, no reserved words, starts with a letter or underscore.\n",
    "\n",
    "And then for converting from two-value sequences:"
   ]
  },
  {
   "cell_type": "code",
   "execution_count": null,
   "id": "a4879873",
   "metadata": {},
   "outputs": [],
   "source": [
    "from_list_of_list = dict([ ['DIS', 'Walt Disney Co'], ['DOW', 'Dow'], ['GS', 'Goldman Sacs'], ['HD', 'Home Depot'] ])\n",
    "from_list_of_list"
   ]
  },
  {
   "cell_type": "code",
   "execution_count": null,
   "id": "1a710df6",
   "metadata": {},
   "outputs": [],
   "source": [
    "from_list_of_tuples = dict([ ('HON', 'Honeywell'), ('IBM', 'International Business Machine Corp'), ('INTC', 'Intel'), \n",
    "                             ('JNJ', 'Johnson & Johnson'), ('JPM', 'JP Morgan Chase'), ('MCD', 'McDonald\\'s')])\n",
    "from_list_of_tuples"
   ]
  },
  {
   "cell_type": "code",
   "execution_count": null,
   "id": "e7785696",
   "metadata": {},
   "outputs": [],
   "source": [
    "from_tuple_of_tuples = dict( ( ('MMM','3M Corp'), ('MRK', 'Merck'), ('MSFT', 'Microsoft'), \n",
    "                               ('NKE', 'Nike'), ('PG', 'Proctor and Gamble') ) )"
   ]
  },
  {
   "cell_type": "code",
   "execution_count": null,
   "id": "7973d697",
   "metadata": {},
   "outputs": [],
   "source": [
    "from_tuple_of_mixed = dict(( ['CRM', 'Saleforce'], ['TRV', 'Travelers'], ('VZ', 'Verizon'), ('V','Visa') )  )"
   ]
  },
  {
   "cell_type": "markdown",
   "id": "c0060c6e",
   "metadata": {},
   "source": [
    "## Combining Dictionaries\n",
    "Python has two different ways to combine dictionaries.\n",
    "\n",
    "First, we can use `{**a, **b}` operator."
   ]
  },
  {
   "cell_type": "code",
   "execution_count": null,
   "id": "aa183ef2",
   "metadata": {},
   "outputs": [],
   "source": [
    "combined = { **from_tuple_of_tuples, **from_tuple_of_mixed}\n",
    "combined"
   ]
  },
  {
   "cell_type": "markdown",
   "id": "eed13a4f",
   "metadata": {},
   "source": [
    "Or, we can can the `.update()` method.  If both dictionaries contain the same key, the value from the dictionary in the argument will be kept."
   ]
  },
  {
   "cell_type": "code",
   "execution_count": null,
   "id": "bcf47363",
   "metadata": {},
   "outputs": [],
   "source": [
    "more_stocks.update(from_list_of_list)\n",
    "more_stocks.update(from_list_of_tuples)\n",
    "more_stocks"
   ]
  },
  {
   "cell_type": "code",
   "execution_count": null,
   "id": "ccddb8b2",
   "metadata": {},
   "outputs": [],
   "source": [
    "stocks.update(combined)\n",
    "stocks.update(more_stocks)\n",
    "stocks"
   ]
  },
  {
   "cell_type": "markdown",
   "id": "c835a16a",
   "metadata": {},
   "source": [
    "## Number of Entries / Length\n",
    "Use `len()` to get the size of (number of entries in) a dictionary."
   ]
  },
  {
   "cell_type": "code",
   "execution_count": null,
   "id": "1a2a4214",
   "metadata": {},
   "outputs": [],
   "source": [
    "len(stocks)"
   ]
  },
  {
   "cell_type": "markdown",
   "id": "942e02c7",
   "metadata": {},
   "source": [
    "hmmm...  looks like we are missing a few items from this dictionary."
   ]
  },
  {
   "cell_type": "markdown",
   "id": "4f3bb216",
   "metadata": {},
   "source": [
    "## Adding, Changing, and Deleting Keys\n",
    "We can add and change keys by using `[]` operator.\n"
   ]
  },
  {
   "cell_type": "code",
   "execution_count": null,
   "id": "5558f8c5",
   "metadata": {},
   "outputs": [],
   "source": [
    "stocks['UNH'] = 'UnitedHealth Group Inc'\n",
    "stocks['WBA'] = 'Walgreens Boot Alliance, Inc'\n",
    "stocks['WMT'] = 'Wally World'\n",
    "len(stocks)"
   ]
  },
  {
   "cell_type": "markdown",
   "id": "7437daf2",
   "metadata": {},
   "source": [
    "We've got the thirty stocks of the Dow Jones Industrial Average now, but we should correct Walmart's name."
   ]
  },
  {
   "cell_type": "code",
   "execution_count": null,
   "id": "526640e5",
   "metadata": {},
   "outputs": [],
   "source": [
    "print(stocks['WMT'])\n",
    "stocks['WMT'] = 'Walmart Inc'\n",
    "print(stocks['WMT'])"
   ]
  },
  {
   "cell_type": "code",
   "execution_count": null,
   "id": "44baa17f",
   "metadata": {},
   "outputs": [],
   "source": [
    "stocks['TSLA'] = 'Tesla, Inc'\n",
    "stocks['TWTR'] = 'Twitter Inc'"
   ]
  },
  {
   "cell_type": "markdown",
   "id": "a2b338df",
   "metadata": {},
   "source": [
    "Whoa, how did those last two sneak in?  What's Elon Musk doing now?\n",
    "\n",
    "We can delete an entry in a dictionry with `del`"
   ]
  },
  {
   "cell_type": "code",
   "execution_count": null,
   "id": "b9f3ae7b",
   "metadata": {},
   "outputs": [],
   "source": [
    "del stocks['TWTR']"
   ]
  },
  {
   "cell_type": "markdown",
   "id": "1e79a127",
   "metadata": {},
   "source": [
    "We can also get an item's value and remove that entry at the same time with `pop()`."
   ]
  },
  {
   "cell_type": "code",
   "execution_count": null,
   "id": "4ec17a8e",
   "metadata": {},
   "outputs": [],
   "source": [
    "name = stocks.pop('TSLA')\n",
    "print(name)\n",
    "print(len(stocks))"
   ]
  },
  {
   "cell_type": "markdown",
   "id": "8dbf0cfb",
   "metadata": {},
   "source": [
    "TODO: TALK ABOUT KEYS BEING UNIQUE.  both with UPDATEING AND COMBINING"
   ]
  },
  {
   "cell_type": "markdown",
   "id": "b52e0fa8",
   "metadata": {},
   "source": [
    "## Getting an item by key\n",
    "We've already seen how to access an item by `[key]`, but we can also get the value with `get()`"
   ]
  },
  {
   "cell_type": "code",
   "execution_count": null,
   "id": "75092c50",
   "metadata": {},
   "outputs": [],
   "source": [
    "print(stocks['WBA'])\n",
    "print(stocks.get('UNH'))"
   ]
  },
  {
   "cell_type": "markdown",
   "id": "6de00cc2",
   "metadata": {},
   "source": [
    "With `get()`, we can specify a default value if the key doesn't exist in the dictionary"
   ]
  },
  {
   "cell_type": "code",
   "execution_count": null,
   "id": "346ee556",
   "metadata": {},
   "outputs": [],
   "source": [
    "stocks.get('BAC','Unknown stock symbol')"
   ]
  },
  {
   "cell_type": "markdown",
   "id": "d7d54f04",
   "metadata": {},
   "source": [
    "The optional / default value comes in handy if we are counting items - such as the number of times various words appear in a document.  In this case, the key is the word and the value is occurence count.  As we update the count, if the word hasn't already been seen already, we can use a value of `0`."
   ]
  },
  {
   "cell_type": "code",
   "execution_count": null,
   "id": "84b40a4a",
   "metadata": {},
   "outputs": [],
   "source": [
    "word_counts = {}\n",
    "word = 'test'\n",
    "word_counts[word] = word_counts.get(word,0) + 1\n",
    "print(word_counts)"
   ]
  },
  {
   "cell_type": "markdown",
   "id": "fbc4680b",
   "metadata": {},
   "source": [
    "## Getting all Keys\n",
    "Use the `keys()` method to get an iterable view of all of the keys in a dictionary.  Prior to Python 3, this used to return a list, but now returns a type of `dict_keys`.  We can convert that to a list with `list()`.  The advantage of the `dict_keys()` is that it does not necessarily create a list (which takes time and memory) with large dictionaries."
   ]
  },
  {
   "cell_type": "code",
   "execution_count": null,
   "id": "84395dcf",
   "metadata": {},
   "outputs": [],
   "source": [
    "symbols = stocks.keys()\n",
    "print(type(symbols))\n",
    "print(symbols)\n",
    "symbol_list = list(symbols)\n",
    "print(symbol_list)"
   ]
  },
  {
   "cell_type": "markdown",
   "id": "32bba78d",
   "metadata": {},
   "source": [
    "## Getting all Values\n",
    "Similarly, use `values()` to get an iterable view of all of the values in a dictionary."
   ]
  },
  {
   "cell_type": "code",
   "execution_count": null,
   "id": "72103116",
   "metadata": {},
   "outputs": [],
   "source": [
    "names = stocks.values()\n",
    "print(type(names))\n",
    "print(names)\n",
    "name_list = list(names)\n",
    "print(name_list)"
   ]
  },
  {
   "cell_type": "markdown",
   "id": "a533d30f",
   "metadata": {},
   "source": [
    "## Getting all Key-Value Pairs\n",
    "To get both the keys and values together as iterable view, use `items()`.  Just as with `keys()` and `values()`, this now returns a type of `dict_items`.  Each item is a tuple consisting of the key and then value."
   ]
  },
  {
   "cell_type": "code",
   "execution_count": null,
   "id": "06e54d37",
   "metadata": {},
   "outputs": [],
   "source": [
    "stocks.items()"
   ]
  },
  {
   "cell_type": "markdown",
   "id": "c276b351",
   "metadata": {},
   "source": [
    "## Iterating \n",
    "Using the `keys()`, `values()`, or `items()` method, we can iterate over the keys, values, or key value pairs (as a tuple) witin a dictionary."
   ]
  },
  {
   "cell_type": "code",
   "execution_count": null,
   "id": "370d5e1f",
   "metadata": {},
   "outputs": [],
   "source": [
    "some_stocks = {'AXP': 'American Express', 'AMGN': 'Amgen', 'AAPL': 'Apple'}\n",
    "for symbol in some_stocks.keys():\n",
    "    print(symbol,end=':')\n",
    "print()\n",
    "# notice that we have a fencepost loop issue - code was to demonstrate iterating, \n",
    "# we could have called join() from a separator string\n",
    "\":\".join(some_stocks.keys())"
   ]
  },
  {
   "cell_type": "code",
   "execution_count": null,
   "id": "464c8343",
   "metadata": {},
   "outputs": [],
   "source": [
    "for symbol in some_stocks.values():\n",
    "    print(symbol,end=':')\n",
    "print()"
   ]
  },
  {
   "cell_type": "code",
   "execution_count": null,
   "id": "ab79a97a",
   "metadata": {},
   "outputs": [],
   "source": [
    "for item in some_stocks.items():\n",
    "    print(item[0], item[1])"
   ]
  },
  {
   "cell_type": "code",
   "execution_count": null,
   "id": "f51686f8",
   "metadata": {},
   "outputs": [],
   "source": [
    "for symbol, name in some_stocks.items():\n",
    "    print(\"%s:%s\" % (symbol,name))"
   ]
  },
  {
   "cell_type": "markdown",
   "id": "1f8ce059",
   "metadata": {},
   "source": [
    "## Deleting all entries\n",
    "To delete (remove) all entries from the dictionary, use `clear()`"
   ]
  },
  {
   "cell_type": "code",
   "execution_count": null,
   "id": "6f438990",
   "metadata": {},
   "outputs": [],
   "source": [
    "some_stocks = {'AXP': 'American Express', 'AMGN': 'Amgen', 'AAPL': 'Apple'}\n",
    "print(len(some_stocks))\n",
    "some_stocks.clear()\n",
    "print(len(some_stocks))\n",
    "print(some_stocks)"
   ]
  },
  {
   "cell_type": "markdown",
   "id": "8a80ffca",
   "metadata": {},
   "source": [
    "You can also assign an empty dictionary to the variable.  However, if you have two variables that refer to the same table, the other variable still has a reference to the original dictionary."
   ]
  },
  {
   "cell_type": "code",
   "execution_count": null,
   "id": "751ead97",
   "metadata": {},
   "outputs": [],
   "source": [
    "some_stocks = {'AXP': 'American Express', 'AMGN': 'Amgen', 'AAPL': 'Apple'}\n",
    "stocks_dict = some_stocks\n",
    "print (some_stocks)\n",
    "\n",
    "some_stocks = {}\n",
    "print(some_stocks)\n",
    "print(stocks_dict)"
   ]
  },
  {
   "cell_type": "markdown",
   "id": "e747cf87",
   "metadata": {},
   "source": [
    "## Checking if a key exists\n",
    "You can check if a key exists by using the `in` operator."
   ]
  },
  {
   "cell_type": "code",
   "execution_count": null,
   "id": "97702a87",
   "metadata": {},
   "outputs": [],
   "source": [
    "'IBM' in stocks_dict"
   ]
  },
  {
   "cell_type": "markdown",
   "id": "d5dfa4ea",
   "metadata": {},
   "source": [
    "## Assignment\n",
    "We can use `=` to have multiple variables refer to the same dictionary as we demonstrated a few cells back.  Just realize, that any operation on one of those varaibles, effects them all as they refer to the same underlying dictionary object."
   ]
  },
  {
   "cell_type": "markdown",
   "id": "f6470a01",
   "metadata": {},
   "source": [
    "Let's give `stocks` to a more descriptive name."
   ]
  },
  {
   "cell_type": "code",
   "execution_count": null,
   "id": "28bca0fc",
   "metadata": {},
   "outputs": [],
   "source": [
    "dow_stocks = stocks"
   ]
  },
  {
   "cell_type": "markdown",
   "id": "fc8e5644",
   "metadata": {},
   "source": [
    "However, note that `dow_stocks` and `stocks` still refer to the same object(dictionary):"
   ]
  },
  {
   "cell_type": "code",
   "execution_count": null,
   "id": "eec31976",
   "metadata": {},
   "outputs": [],
   "source": [
    "print(id(stocks))\n",
    "print(id(dow_stocks))"
   ]
  },
  {
   "cell_type": "code",
   "execution_count": null,
   "id": "bccf28d1",
   "metadata": {},
   "outputs": [],
   "source": [
    "s1 = {'AXP': 'American Express', 'AMGN': 'Amgen', 'AAPL': 'Apple'}\n",
    "s2 = s1\n",
    "s2['IBM'] = \"International Business Machines\"\n",
    "print(s1)\n",
    "s1.clear()\n",
    "print(s2)"
   ]
  },
  {
   "cell_type": "markdown",
   "id": "0085f9c2",
   "metadata": {},
   "source": [
    "## Copying\n",
    "To copy a dictionary to a new object, we can use the `copy()` method.  This creates a shallow copy in which the references themselve are copied, but not necessarily the objects that those references point to.  In our simple dictionaries that notebook has used, we will not see the problem as strings are immutable, but if you store mutable objects than this can be an issue.\n"
   ]
  },
  {
   "cell_type": "code",
   "execution_count": null,
   "id": "b3fa81eb",
   "metadata": {},
   "outputs": [],
   "source": [
    "s1 = {'AXP': 'American Express', 'AMGN': 'Amgen', 'AAPL': 'Apple'}\n",
    "s2 = s1.copy()\n",
    "s2['IBM'] = \"International Business Machines\"\n",
    "print(s1)\n",
    "print(s2)\n",
    "s1.clear()\n",
    "print(s1)\n",
    "print(s2)"
   ]
  },
  {
   "cell_type": "markdown",
   "id": "589dff95",
   "metadata": {},
   "source": [
    "If you are storing mutable objects (e.g., a list or another dictionary), than you may need to use a deep copy."
   ]
  },
  {
   "cell_type": "code",
   "execution_count": null,
   "id": "b67afbcd",
   "metadata": {},
   "outputs": [],
   "source": [
    "import copy\n",
    "s1 = {'A': {'AX': 'American Express', 'AMGN': 'Amgen', 'AAPL': 'Apple'}}\n",
    "s2 = copy.deepcopy(s1)\n",
    "s2['A']['AA']='Alcoa Corp'\n",
    "print(s1)\n",
    "print(s2)"
   ]
  },
  {
   "cell_type": "markdown",
   "id": "8bfbd9eb",
   "metadata": {},
   "source": [
    "In the above example, we have a dictionary of dictionaries.\n",
    "\n",
    "So `s2['A']` refers to a dictionary(stocks that begin with the letter 'A'), then `s2['A']['AA']` refers to an entry in that \"sub\" dictionary.  As that entry does not exist yet, it is created and assigned the value of 'Alcoa Corp'.\n",
    "\n",
    "In the following cell, print out all of the dictionary for the stock symbols beginning with 'A' - i.e., just that dictionary that the key 'A' points to.  Then print out the value for 'AX'"
   ]
  },
  {
   "cell_type": "code",
   "execution_count": null,
   "id": "9592d837",
   "metadata": {},
   "outputs": [],
   "source": []
  },
  {
   "cell_type": "markdown",
   "id": "519df2eb",
   "metadata": {},
   "source": [
    "## Comparing\n",
    "Unlike some of the other built-in data types that hold multiple values (e.g., lists and tuples), we can only test dictionaries for equality with `==` and `!=`. "
   ]
  },
  {
   "cell_type": "code",
   "execution_count": null,
   "id": "d9f841bf",
   "metadata": {},
   "outputs": [],
   "source": [
    "s1 = {'AXP': 'American Express', 'AMGN': 'Amgen', 'AAPL': 'Apple'}\n",
    "s2 = s1.copy()\n",
    "print (s1 == s2)\n",
    "s2['AA'] = 'Alcoa Corp'\n",
    "print (s1 != s2)\n",
    "print (s1 != s1)"
   ]
  },
  {
   "cell_type": "markdown",
   "id": "b3c718c4",
   "metadata": {},
   "source": [
    "## Sorting\n",
    "To sort dictionaries, we first need to ask what needs to be sorted?\n",
    "\n",
    "To just get a list of the sorted values, we need to get all of the values and then use the builtin function `sorted()` just as we had done for lists. \n",
    "\n",
    "[Python's Guide for Sorting](https://docs.python.org/3/howto/sorting.html)"
   ]
  },
  {
   "cell_type": "code",
   "execution_count": null,
   "id": "bcb37b82",
   "metadata": {},
   "outputs": [],
   "source": [
    "stock_prices = {'PG': 141.96, 'AXP': 154.42, 'AAPL': 137.13,'CSCO':43.49, 'HD':289.24}\n",
    "print(stock_prices)\n",
    "print(sorted(stock_prices.values()))\n",
    "print(sorted(stock_prices.values(),reverse=True))"
   ]
  },
  {
   "cell_type": "markdown",
   "id": "ac790887",
   "metadata": {},
   "source": [
    "To sort by values, but produce a list of the corresponding keys, we will need to \n",
    "pass a function as the \"key\" argument.  (Later notebooks will discuss passing functions in more detail)"
   ]
  },
  {
   "cell_type": "code",
   "execution_count": null,
   "id": "bdc7a6bb",
   "metadata": {},
   "outputs": [],
   "source": [
    "sorted(stock_prices,key=stock_prices.get)"
   ]
  },
  {
   "cell_type": "markdown",
   "id": "1f893030",
   "metadata": {},
   "source": [
    "To understand the previous command and what occurred, try running just `sorted(stock_prices)`.\n",
    "\n",
    "We can also produce a list of tuples, where each tuple is a key-value pair.  As shown above, to get the key-value pairs, call `item()` on the dictionary:"
   ]
  },
  {
   "cell_type": "code",
   "execution_count": null,
   "id": "e4168d79",
   "metadata": {},
   "outputs": [],
   "source": [
    "print (stock_prices.items())\n",
    "items = stock_prices.items()\n",
    "sorted(items)"
   ]
  },
  {
   "cell_type": "markdown",
   "id": "623ad1e5",
   "metadata": {},
   "source": [
    "By default, sorted uses the first item in sequence.  Similar behavior to sorting dictionary, it just uses the key.\n",
    "\n",
    "To sort by the second entry in tuple, we need to specify a function to the key argument"
   ]
  },
  {
   "cell_type": "code",
   "execution_count": null,
   "id": "39a37e17",
   "metadata": {},
   "outputs": [],
   "source": [
    "def sortAtSecondPosition(x):\n",
    "    return x[1]"
   ]
  },
  {
   "cell_type": "code",
   "execution_count": null,
   "id": "182a1bc7",
   "metadata": {},
   "outputs": [],
   "source": [
    "sorted(stock_prices.items(), key=sortAtSecondPosition)"
   ]
  },
  {
   "cell_type": "markdown",
   "id": "fb82c16e",
   "metadata": {},
   "source": [
    "Python provides a special capability to create small, anonmyous functions.  While these functions can take any number of arguments, they can consist of only a single expression\n",
    "```\n",
    "lambda p1{,pX}: expression\n",
    "```\n",
    "the ```{,pX}``` signifies the portion may repeat zero or more times."
   ]
  },
  {
   "cell_type": "code",
   "execution_count": null,
   "id": "0f9cb51d",
   "metadata": {},
   "outputs": [],
   "source": [
    "sorted(stock_prices.items(), key=lambda x: x[1])"
   ]
  },
  {
   "cell_type": "markdown",
   "id": "0d7dfefe",
   "metadata": {},
   "source": [
    "## Nesting different data structures\n",
    "Most of the dictionaries shown in this notebook have been straightforward key-value pairs of strings.  However, realize that we can create arbitrarily complex data structures by nesting additional data structures as entries.\n",
    "\n",
    "Lists can continue other lists, but that can also contain dictionaries for each entry.\n",
    "\n",
    "Dictionaries can have lists as values and, also, other dictionaries as those values.  For example, to manage the organizational hierarchy for a company, we could have $n$-nested dictionary, where $n$ is the number of levels in the company's hierarchy. The keys in the nested dictionary are the direct reports of an individual."
   ]
  },
  {
   "cell_type": "markdown",
   "id": "b7714294",
   "metadata": {},
   "source": [
    "## Case Study: ????\n",
    "TODO"
   ]
  },
  {
   "cell_type": "markdown",
   "id": "760fbe95",
   "metadata": {},
   "source": [
    "## Exercises\n",
    "1. What's wrong with this code?\n"
   ]
  },
  {
   "cell_type": "code",
   "execution_count": null,
   "id": "bece1b50",
   "metadata": {},
   "outputs": [],
   "source": [
    "from_tuple_of_tuples = dict( ('MCD', 'McDonald\\'s'), ('MRK', 'Merck'), ('MSFT', 'Microsoft'), \n",
    "                               ('NKE', 'Nike'), ('PG', 'Proctor and Gamble')  )"
   ]
  },
  {
   "cell_type": "code",
   "execution_count": null,
   "id": "7db836f9",
   "metadata": {},
   "outputs": [],
   "source": [
    "from_tuple_of_tuples"
   ]
  },
  {
   "cell_type": "markdown",
   "id": "37581f3b",
   "metadata": {},
   "source": [
    "2. Does the following work?\n",
    "update with three arguments ..\n",
    "\n",
    "3. Create an dictionary maps [top level domain names](https://en.wikipedia.org/wiki/List_of_Internet_top-level_domains) into their description.  Include at least 3 entries.\n",
    "\n",
    "4. Now add another entry into your dictionary.\n",
    "\n",
    "5. now delete one of the first entries you created from your dictionary\n",
    "\n",
    "6. Iterate through your dictionary printing the domain name and the corresponding description.\n",
    "7. Create a dictionary where the keys are the numbers 1 to 10 and the values are the square of the corresponding key.\n",
    "8. Find the minimum and maximum values in a dictionary\n",
    "9. for a given list of keys, delete from the dictionary.\n",
    "10. How could we check if a given value exists in the dictionary? How expensive is this operation? How could you measure it?\n",
    "\n",
    "10. Physical money comes in many different denominations.  Write a function that for a given amount returns a dictionary containing the the smallest number of bills and coins that add up to that number.  You should not have any entries in the dictionary that are \"0\".    The possible denominations are 100.00, 50.00, 20.00, 10.00, 5.00, 2.00, 1.00, 0.25, 0.10, 0.05, and 0.01. "
   ]
  },
  {
   "cell_type": "markdown",
   "id": "449807cb",
   "metadata": {},
   "source": [
    "11. Write a method to create a text-based horizontal histogram.  You should have the following function signature:\n",
    "```\n",
    "def create_histogram(data, title, sort=False, max_table_width=70, max_label_width=10):\n",
    "```\n",
    "\n",
    "So the following - \n",
    "```\n",
    "data = { \"apples\": 58, \"pears\": 10, \"grapes\":35, \"pineapple\":70}\n",
    "create_histogram(data,\"Number of Fruits in Basket\", max_table_width=80, max_label_width=7)\n",
    "```\n",
    "produces\n",
    "```\n",
    "                           Number of Fruits in Basket                           \n",
    "\n",
    " apples │*********************************************************** 58\n",
    "  pears │********** 10\n",
    " grapes │************************************ 35\n",
    "pineapp │************************************************************************ 70\n",
    "        └───────────────────────────────────┰───────────────────────────────────┐\n",
    "        0                                  35                                  70\n",
    "```\n",
    "Then\n",
    "```\n",
    "create_histogram(data,\"Number of Fruits in Basket\", sort=True, max_table_width=85, max_label_width=7)\n",
    "```\n",
    "produces\n",
    "```\n",
    "                              Number of Fruits in Basket                             \n",
    "\n",
    "  pears │*********** 10\n",
    " grapes │************************************** 35\n",
    " apples │*************************************************************** 58\n",
    "pineapp │***************************************************************************** 70\n",
    "        └─────────────────────────────────────┰──────────────────────────────────────┐\n",
    "        0                                    35                                     70\n",
    "```\n",
    "\n",
    "[Unicode Characters: Box Drawing](https://web.archive.org/web/20220403113744/https://jrgraphix.net/r/Unicode/2500-257F\n",
    "\n",
    "Assume all values are positive.  As you start this problem, break into down into sub-problems and solve those individually.  Create a little success for yourself.  For example, how would you produce the row labels along the left hand side?  What other sub-problems exist?  What should you tackle next?\n",
    "\n",
    "This exercise brings together many different topics: functions, default parameters, math operations, variables, string methods, string formatting iteration, dictionaries"
   ]
  },
  {
   "cell_type": "code",
   "execution_count": null,
   "id": "71ec48eb",
   "metadata": {},
   "outputs": [],
   "source": [
    "def create_histogram(data, title, sort=False, max_table_width=70, max_label_width=10):\n",
    "    max_data_value = int(max(data.values()))\n",
    "    mid_data_value = max_data_value//2\n",
    "    max_bar_length = max_table_width - max_label_width -1\n",
    "    offset = max_bar_length % 2      #if bar length is odd, we need a bit more space on the last tick to avoid off by 1\n",
    "\n",
    "    print(title.center(max_table_width)+\"\\n\")\n",
    "\n",
    "    items = sorted(data, key=data.get) if sort else data.keys()\n",
    "    \n",
    "    for item in items:\n",
    "        print(\"{:>{w}.{w}} \\u2502\".format(item,w=max_label_width),end='')\n",
    "        value = data[item]\n",
    "        bar_length = int(value / max_data_value * max_bar_length)\n",
    "        print(\"*\"*bar_length, value)\n",
    "        \n",
    "    print(\" \"*(max_label_width+1) + \"\\u2514\" + \"\\u2500\"*(max_bar_length//2-1) + \"\\u2530\" +\n",
    "         \"\\u2500\"*(max_bar_length//2 + offset -1)   + \n",
    "          \"\\u2510\" )\n",
    "    print(\" \"*(max_label_width+1) + \"0\"+\"{:>{w}d}\".format(mid_data_value,w=max_bar_length//2) + \n",
    "          \"{:>{w}d}\".format(max_data_value, w= max_bar_length//2+offset))"
   ]
  },
  {
   "cell_type": "code",
   "execution_count": null,
   "id": "981d3c17",
   "metadata": {},
   "outputs": [],
   "source": [
    "data = { \"apples\": 58, \"pears\": 10, \"grapes\":35, \"pineapple\":70}\n",
    "create_histogram(data,\"Number of Fruits in Basket\", sort=True, max_table_width=80, max_label_width=7)"
   ]
  },
  {
   "cell_type": "code",
   "execution_count": null,
   "id": "a36f25f5",
   "metadata": {},
   "outputs": [],
   "source": [
    " print(\"{:>27d}\".format(25))"
   ]
  },
  {
   "cell_type": "code",
   "execution_count": null,
   "id": "5d5a3f48",
   "metadata": {},
   "outputs": [],
   "source": [
    "data['apples']"
   ]
  },
  {
   "cell_type": "code",
   "execution_count": null,
   "id": "9f6f6ce1",
   "metadata": {},
   "outputs": [],
   "source": [
    "max_value = \n",
    "max_value"
   ]
  },
  {
   "cell_type": "code",
   "execution_count": null,
   "id": "ba72d07f",
   "metadata": {},
   "outputs": [],
   "source": []
  },
  {
   "cell_type": "code",
   "execution_count": null,
   "id": "401168dc",
   "metadata": {},
   "outputs": [],
   "source": [
    "max_value\n",
    " "
   ]
  },
  {
   "cell_type": "code",
   "execution_count": null,
   "id": "332f4b5b",
   "metadata": {},
   "outputs": [],
   "source": []
  }
 ],
 "metadata": {
  "kernelspec": {
   "display_name": "Python 3 (ipykernel)",
   "language": "python",
   "name": "python3"
  },
  "language_info": {
   "codemirror_mode": {
    "name": "ipython",
    "version": 3
   },
   "file_extension": ".py",
   "mimetype": "text/x-python",
   "name": "python",
   "nbconvert_exporter": "python",
   "pygments_lexer": "ipython3",
   "version": "3.10.4"
  }
 },
 "nbformat": 4,
 "nbformat_minor": 5
}
