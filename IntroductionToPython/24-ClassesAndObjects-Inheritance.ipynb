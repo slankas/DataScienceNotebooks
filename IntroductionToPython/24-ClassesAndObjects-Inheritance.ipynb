{
 "cells": [
  {
   "cell_type": "markdown",
   "id": "30aa7b5c",
   "metadata": {},
   "source": [
    "<div class=\"pagebreak\"></div>\n",
    "\n",
    "# Classes: Inheritance\n",
    "With inheritance, we can create a new class by extending an existing class. The new class inherits the existing class's attributes and methods (the members). We can then add attributes and/or methods. We can also modify existing attributes and methods to change functionality.\n",
    "\n",
    "As we look around the world, we can find many instances of hierarchy in which specialized classes exist.  For example, the animal taxonomy serves to classify animals into different classes ([taxonomic ranks](https://en.wikipedia.org/wiki/Taxonomic_rank) based upon the different attributes that animals possess. Planes, cars, and trains are specialized cases of vehicles.  Circles, triangles, and rectangles are specialized cases of shapes. You can also view these examples using the phrase \"<i>is-a</i>\".  A train is a vehicle.  A circle is a shape. A dog is a mammal.\n",
    "\n",
    "In object-oriented programming, inheritance creates this \"_is-a_\" relationship among classes. We build a new class from an existing class. The existing (original) class is called a parent, superclass, or base class. The superclass is the more general class. The new class is called a child, subclass, or derived class. This new class is the more specialized class. The subclass becomes specialized by adding attributes and/or methods. The subclass can also become more specialized by modifying the existing state or behavior. \n",
    "\n",
    "\n",
    "In the previous notebook, we defined a BankAccount.  However, many different types of bank accounts exist: checking, savings, money market, brokerage, etc.  We also have transactions that can belong to those accounts.  Again, though, we have different transactions types: deposit, withdrawal, transfer, purchase, etc.  Then under deposit transactions, we have additional specialties: check, cash, ACH, etc.  Similar specialties will also exist for the other transaction types.\n",
    "\n",
    "As another example, consider different types of employees within a corporation. Corporations can have hourly employees, paid a fixed amount per hour and a specific multiplier for specialty shifts (holiday, weekend, nights). Corporations also can have salaried employees who earn a particular amount per pay period and commission employees who make a base salary per pay period plus a percentage of the gross sales they generate.\n",
    "\n",
    "The below diagram is a Unified Modeling Language(UML) class diagram. These diagrams document classes, their relationships to each other, and each class's members (attribute and methods). Each box represents a class. The top line contains that class name. The second area in the box contains the attributes, and the third area contains the methods.\n",
    "\n",
    "![](images/EmployeeClassHierarchy.png)"
   ]
  },
  {
   "cell_type": "markdown",
   "id": "a46c3c10",
   "metadata": {},
   "source": [
    "Objects of the `Employee` class have three attributes - an ID, a name, and a job title - and no methods are defined. The `HourlyEmployee` class extends the `Employee` class by adding attributes for the employee's hourly rate and the hours that the employee worked during the current pay period. The `HourlyEmployee` also adds behavior - a method to compute their pay. The `SalariedEmployee` class extends the `Employee` class by adding an attribute for the employee's periodic salary amount. For example, if an employee earns $\\$$120,000 annually and is paid twice a month, the periodic pay would be $\\$$5,000. The `SalariedEmployee` class also defines a method to compute pay, but this differs from the HourlyEmployee's behavior. `CommissionedEmployee` inherits the behavior and attributes of `SalariedEmployee` but adds an attribute to track their sales over the past pay period. Their pay calculation will \"override\" the `SalariedEmployee` class's pay calculation as they receive a salary plus a percentage of their gross sales."
   ]
  },
  {
   "cell_type": "markdown",
   "id": "c696bf2e",
   "metadata": {},
   "source": [
    "The following code cell defines the `Employee` class which will be the superclass for the three other employee classes.  This code should be familiar based on the previous notebook. This code does create a `calculate_pay()` method, but any call to that will raise an exception. By defining a method here, we establish that any subclass must implement a `calculate_pay()` method."
   ]
  },
  {
   "cell_type": "code",
   "execution_count": null,
   "id": "3cf47068",
   "metadata": {},
   "outputs": [],
   "source": [
    "class Employee:\n",
    "    \"\"\"Employee\"\"\"\n",
    "    __id = 100  # must change name otherwise a recursive overflow error occurs\n",
    "    \n",
    "    def __init__(self, name, job_title):\n",
    "        self.__id = Employee.__id\n",
    "        Employee.__id += 1\n",
    "        self.__name = name\n",
    "        self.__job_title = job_title\n",
    "        \n",
    "    def __str__(self):\n",
    "        return \"ID #{:d}: {:s}({:s}, {:s})\".format(self.id,self.name, self.job_title, self.employee_type)\n",
    "    \n",
    "    def __repr__(self):\n",
    "        return str({ \"id\": self.id, \"name\": self.name, \"job_title\":self.job_title })\n",
    "    \n",
    "    @property\n",
    "    def id(self):\n",
    "        return self.__id\n",
    "\n",
    "    @property\n",
    "    def name(self):\n",
    "        return self.__name\n",
    "    \n",
    "    @property\n",
    "    def job_title(self):\n",
    "        return self.__job_title\n",
    "    \n",
    "    \n",
    "    @job_title.setter\n",
    "    def job_title(self, new_title):\n",
    "        self.__job_title = new_title\n",
    "    \n",
    "    @property\n",
    "    def employee_type(self):\n",
    "        return \"unknown\"\n",
    "        \n",
    "    \n",
    "    def calculate_pay(self):\n",
    "        raise  NotImplementedError(\"Employee subclasses must implement calculate_pay()\")"
   ]
  },
  {
   "cell_type": "markdown",
   "id": "a47e13a6",
   "metadata": {},
   "source": [
    "Some sample code to perform ad-hoc testing that the class works."
   ]
  },
  {
   "cell_type": "code",
   "execution_count": null,
   "id": "e63be7be",
   "metadata": {},
   "outputs": [],
   "source": [
    "a = Employee(\"Steve\",\"Programmer\")\n",
    "b = Employee(\"Christine\",\"Project Manager\")\n",
    "print(a)\n",
    "repr(b)"
   ]
  },
  {
   "cell_type": "markdown",
   "id": "7d1abdc3",
   "metadata": {},
   "source": [
    "Now, define a more robust set of unit tests for `Employee`."
   ]
  },
  {
   "cell_type": "code",
   "execution_count": null,
   "id": "e6aa872a",
   "metadata": {},
   "outputs": [],
   "source": [
    "import unittest\n",
    "\n",
    "class TestEmployee(unittest.TestCase):\n",
    "    def setUp(self):\n",
    "        Employee._Employee__id = 100\n",
    "        \n",
    "    def test_create(self):\n",
    "        import ast\n",
    "        \n",
    "        a = Employee(\"Steve\",\"Programmer\")\n",
    "        b = Employee(\"Christine\",\"Project Manager\")\n",
    "        self.assertNotEqual(a.id,b.id,\"IDs are not unique\")\n",
    "        self.assertEqual(a.name,\"Steve\")\n",
    "        self.assertEqual(b.name,\"Christine\")\n",
    "        self.assertEqual(a.job_title,\"Programmer\")\n",
    "        self.assertEqual(b.job_title,\"Project Manager\")\n",
    "        self.assertEqual(str(a),\"ID #100: Steve(Programmer, unknown)\")\n",
    "        self.assertEqual(ast.literal_eval(repr(b)),{'id': 101, 'name': 'Christine', 'job_title': 'Project Manager'})\n",
    "        \n",
    "    def test_calculate_pay_not_implemented(self):\n",
    "        a = Employee(\"Steve\",\"Programmer\")\n",
    "        with self.assertRaises(Exception) as context:\n",
    "            a.calculate_pay()\n",
    "        \n",
    "        self.assertTrue(type(context.exception) == NotImplementedError)\n",
    "        self.assertTrue(\"must implement\" in context.exception.args[0])\n",
    "        \n",
    "    def test_change_job_title(self):\n",
    "        a = Employee(\"Steve\",\"Programmer\")\n",
    "        a.job_title = 'Senior Programmer'\n",
    "        self.assertEqual(a.job_title,'Senior Programmer')\n",
    "        self.assertEqual(str(a),\"ID #100: Steve(Senior Programmer, unknown)\")\n",
    "        \n",
    "unittest.main(argv=['unittest','TestEmployee'], verbosity=2, exit=False)"
   ]
  },
  {
   "cell_type": "markdown",
   "id": "75503610",
   "metadata": {},
   "source": [
    "At this point, we have implemented our base `Employee` class and have a robust set of test cases for it.\n",
    "\n",
    "Next, let's look at defining the `HourlyEmployee` class. The following code block adds a few new details:\n",
    "1. We define `HourlyEmployee` as a subclass of `Employee`. Subclasses are defined similarly to other classes, except we add the parent class name inside of parenthesis at the end.  Syntax -\n",
    "   <pre>\n",
    "   class <i>ClassName</i>(<i>ParentClassName</i>):\n",
    "   </pre>\n",
    "2. In the initializer, we make a call to the parent class with `super()`.  As we have defined `__init__` in the child class, the interpreter does not automatically call the corresponding method in the parent class is not automatically called. Therefore, we explicitly call the initializer with reference to the superclass (`super()`). This call ensures our code performs the steps to initialize the base `Employee` type properly.  The `__init__` method then continues with setting the attributes specific to instances of `HourlyEmployee`.\n",
    "3. Note that in the initializer, we explicitly set `__hours_worked` to `None`. This statement defines that attribute. In `calculate_pay()`, we add a sanity check to our code to ensure `hours_worked` has a valid value with the `assert` statement.  Programmers can place a conditional expression within an `assert` statement. If the expression evaluates to `True`, processing continues normally. If the expression evaluates to `False`, the interpreter raises an exception.\n",
    "4. The `HourlyEmployee` class adds additional methods to support the `hourly_rate` and `hours_worked` attributes.\n",
    "5. In addition to the `__init__` method, the `HourlyEmployee` class also overrides the methods for `employee_type` and `calculate_pay`.  By overriding methods, objects of type `HourlyEmployee` will use the behavior for the methods defined within  `HourlyEmployee` itself. Any behavior defined in the parent class will not be performed unless explicitly called through the `super()` reference.\n",
    "6. Notice that the `HourlyEmployee` class did not change the `__str__` or `__repr__` methods.  In the test code in the following block, notice that when the `__str__` method gets the employee type, it calls the method based on the actual class. i.e., an instance of `Employee` returns \"unknown\" while an instance of `HourlyEmployee` returns \"hourly\"."
   ]
  },
  {
   "cell_type": "code",
   "execution_count": null,
   "id": "dbd8a170",
   "metadata": {},
   "outputs": [],
   "source": [
    "from decimal import Decimal\n",
    "\n",
    "class HourlyEmployee(Employee):\n",
    "    \"\"\"Hourly Employee\"\"\"\n",
    "    \n",
    "    \n",
    "    def __init__(self, name, job_title,hourly_rate):\n",
    "        super().__init__(name,job_title)\n",
    "        self.__hourly_rate = Decimal(hourly_rate)\n",
    "        self.__hours_worked = None        \n",
    "        \n",
    "    @property\n",
    "    def employee_type(self):\n",
    "        return \"hourly\"\n",
    "        \n",
    "    @property\n",
    "    def hourly_rate(self):\n",
    "        return self.__hourly_rate\n",
    "    \n",
    "    \n",
    "    @hourly_rate.setter\n",
    "    def hourly_rate(self, new_rate):\n",
    "        self.__hourly_rate= new_rate        \n",
    "        \n",
    "\n",
    "    @property\n",
    "    def hours_worked(self):\n",
    "        return self.__hours_worked\n",
    "    \n",
    "    \n",
    "    @hours_worked.setter\n",
    "    def hours_worked(self, new_hours):\n",
    "        self.__hours_worked = Decimal(new_hours)               \n",
    "        \n",
    "    def calculate_pay(self):\n",
    "        assert type(self.hours_worked) is Decimal, \"Hours worked not established\"\n",
    "        hours = self.hours_worked\n",
    "        overtime_hours = Decimal(0)\n",
    "        if hours > 40:\n",
    "            overtime_hours = hours - Decimal(40.0)\n",
    "            hours = Decimal(40.0)\n",
    "        return hours * self.hourly_rate + overtime_hours * self.hourly_rate* Decimal(1.5)"
   ]
  },
  {
   "cell_type": "markdown",
   "id": "32a38ad0",
   "metadata": {},
   "source": [
    "Run some code to see how the `HourlyEmployee` class works."
   ]
  },
  {
   "cell_type": "code",
   "execution_count": null,
   "id": "01ef50ce",
   "metadata": {},
   "outputs": [],
   "source": [
    "c = HourlyEmployee(\"Max\",\"System Administrator\",\"54.76\")\n",
    "print(c)\n",
    "print(c.name)\n",
    "print(c.hours_worked)\n",
    "print(c.calculate_pay())   # will cause an assertion error as hours_worked not set."
   ]
  },
  {
   "cell_type": "markdown",
   "id": "f1894be6",
   "metadata": {},
   "source": [
    "Now define some additional test cases. First, we check that the parent functionality still works.\n",
    "We also check that the `calculate_pay()` method checks that hours_worked has a valid numerical value. We also check several equivalence  classes for `hours_worked` in `compute_pay()` to cover amounts < 40 hours, amounts equal to 40 hours, and amounts greater than 60 hours. Finally, we check that the employee type value is correct for the different types."
   ]
  },
  {
   "cell_type": "code",
   "execution_count": null,
   "id": "69e23d68",
   "metadata": {},
   "outputs": [],
   "source": [
    "import unittest\n",
    "\n",
    "class TestHourlyEmployee(unittest.TestCase):\n",
    "    def setUp(self):\n",
    "        Employee._Employee__id = 100\n",
    "        \n",
    "    def test_create(self):\n",
    "        a = HourlyEmployee(\"Max\",\"System Administrator\",65.0)\n",
    "        self.assertEqual(a.name,\"Max\")\n",
    "        self.assertEqual(a.job_title,\"System Administrator\")\n",
    "        self.assertEqual(str(a),\"ID #100: Max(System Administrator, hourly)\")\n",
    "\n",
    "    def test_compute_pay_no_hours(self):\n",
    "        a = HourlyEmployee(\"Max\",\"System Administrator\",65.0)\n",
    "        with self.assertRaises(Exception) as context:\n",
    "            a.calculate_pay()\n",
    "        \n",
    "        self.assertTrue(type(context.exception) in [TypeError,AssertionError])\n",
    "\n",
    "    def test_compute_pay(self):\n",
    "        a = HourlyEmployee(\"Max\",\"System Administrator\",65.0)\n",
    "        a.hours_worked = 20\n",
    "        self.assertEqual(a.calculate_pay(), Decimal(1300.0), \"Pay not correct\")\n",
    "        a.hours_worked = 40\n",
    "        self.assertEqual(a.calculate_pay(), Decimal(2600.0), \"Pay not correct\")\n",
    "        a.hours_worked = 60\n",
    "        self.assertEqual(a.calculate_pay(), Decimal(4550.0), \"Pay not correct\")\n",
    "\n",
    "        \n",
    "    def test_compute_pay_with_overtime(self):\n",
    "        a = HourlyEmployee(\"Max\",\"System Administrator\",65.0)\n",
    "        \n",
    "    def test_employee_types(self):\n",
    "        a = HourlyEmployee(\"Max\",\"System Administrator\",65.0)\n",
    "        b = Employee(\"Cindy\", \"Sales Manager\")\n",
    "        self.assertEqual(a.employee_type,\"hourly\")\n",
    "        self.assertNotEqual(a.employee_type,b.employee_type)\n",
    "        \n",
    "unittest.main(argv=['unittest','TestHourlyEmployee'], verbosity=2, exit=False)"
   ]
  },
  {
   "cell_type": "markdown",
   "id": "03f756c0",
   "metadata": {},
   "source": [
    "## Multiple Inheritance\n",
    "Multiple inheritance is the ability of a class to inherit from two or more superclasses. \n",
    "\n",
    "The primary drawback to multiple inheritance is the diamond problem. In the below diagram, suppose classes A, B, and C have all defined a particular method while D has not. Then, when that method is called on an object of class D, which version of the method is used? A's? B's? C's?\n",
    "\n",
    "![](images/DiamondProblem.png)\n",
    "\n",
    "Python solves this problem by defining a specific method resolution order. When looking for a method or attribute, Python performs the following search: the object itself, the object's class, the first parent class, the second parent class, the n<sup>th</sup> parent class, and then those parent's in order.\n",
    "\n",
    "For example, consider the following set of classes:"
   ]
  },
  {
   "cell_type": "code",
   "execution_count": null,
   "id": "3d510ee4",
   "metadata": {},
   "outputs": [],
   "source": [
    "class Employee:\n",
    "    def beverage(self): return \"water\"\n",
    "    def skill(self):    return \"Works hard\"\n",
    "\n",
    "class Programmer(Employee):\n",
    "    def skill(self):    return \"Writes Code\"\n",
    "\n",
    "class Statistician(Employee):\n",
    "    def skill(self):    return \"statistical analysis\"\n",
    "    \n",
    "class StoryTeller(Employee):\n",
    "    def beverage(self): return \"beer\"\n",
    "    def skill(self):    return \"tells stories\"\n",
    "    \n",
    "class ComputationalDataScientist(Programmer,Statistician):\n",
    "    def beverage(self): return \"Mountain Dew\"\n",
    "\n",
    "class StatisticalAnalyst(Statistician, Programmer):\n",
    "    def beverage(self): return \"tea\"\n",
    "\n",
    "class Presenter(StoryTeller, Programmer, Statistician):\n",
    "    pass\n"
   ]
  },
  {
   "cell_type": "code",
   "execution_count": null,
   "id": "a8e5bdcc",
   "metadata": {},
   "outputs": [],
   "source": [
    "print(\"Skills - \")\n",
    "print(\"ComputationalDataScientist:\", ComputationalDataScientist().skill())\n",
    "print(\"StatisticalAnalyst:\", StatisticalAnalyst().skill())\n",
    "print(\"Presenter:\", Presenter().skill())\n",
    "print(\"\\Beverages - \")\n",
    "print(\"ComputationalDataScientist:\", ComputationalDataScientist().beverage())\n",
    "print(\"StatisticalAnalyst:\", StatisticalAnalyst().beverage())\n",
    "print(\"Presenter:\", Presenter().beverage())"
   ]
  },
  {
   "cell_type": "markdown",
   "id": "323f4a2f",
   "metadata": {},
   "source": [
    "Each Python class contains a method `mro()` that returns the list of classes to search to find a particular attribute or method for an object of that class."
   ]
  },
  {
   "cell_type": "code",
   "execution_count": null,
   "id": "f0da888a",
   "metadata": {},
   "outputs": [],
   "source": [
    "ComputationalDataScientist.mro()"
   ]
  },
  {
   "cell_type": "markdown",
   "id": "febc864c",
   "metadata": {},
   "source": [
    "As we look for a skill for a `ComputationalDataScientist`, the interpreter checks these class definitions\n",
    "1. The object itself  \n",
    "2. The object's class   (class and static methods)\n",
    "3. The class's first parent class - `Programmer`\n",
    "4. The class's second parent class - `Statistician`\n",
    "5. It then continuex checking the parent's superclasses in a similar order.\n",
    "\n",
    "Finding the `skill()` implementation for `StatisticalAnalyst` follows the same logic, but its first parent class is `Statistician` and then `Programmer`.\n",
    "\n",
    "`Presenter` shows that we could inherit from 3 parent classes."
   ]
  },
  {
   "cell_type": "code",
   "execution_count": null,
   "id": "97c8b20a",
   "metadata": {},
   "outputs": [],
   "source": [
    "Presenter.mro()"
   ]
  },
  {
   "cell_type": "markdown",
   "id": "8b2d6922",
   "metadata": {},
   "source": [
    "## Polymorphism and Duck Typing\n",
    "Polymorphism is the ability to call a specific method (send a message) to an object without knowing the receiving object's actual type. If the receiving object implements that method then it can respond appropriately. If the receiving object does not implement that method, then a runtime exception is generated.\n",
    "\n",
    "The `Employee` class demonstrates polymorphism within the `__str__` method. That method calls the `employee_type()` method without knowing the exact underlying type of self. The multiple inheritance example demonstrates polymorphism as well.\n",
    "\n",
    "With Polymorphism, Python programmers can apply the same operation(method call) to different types - just as long as the method's name and the number of arguments exist with the receiving type's definition. This behavior is sometimes called [duck typing](https://en.wikipedia.org/wiki/Duck_typing).\n",
    "\n",
    "Polymorphism allows methods of the same name to have predictable behavior but allows the underlying class to define the specific behavior independently."
   ]
  },
  {
   "cell_type": "markdown",
   "id": "424f99a8",
   "metadata": {},
   "source": [
    "## Mixins \n",
    "A popular use case for multiple inheritance is to inherit from a particular class (a \"mixin\") that defines well-established methods and attributes (features).  Usually, only one feature exists in a \"mixin\" class.  This class does not share methods with any other parent class - this avoids the diamond problem.  The inheritance from \"mixins\" is not an \"is a\" relationship, but rather \"has behavior\".\n",
    "\n",
    "The methods in \"mixin\" classes are typically \"side\" tasks - sometimes generic in nature, such as logging or type conversions. However, the methods can also be specific to the problem domain, adding shared functionality to different classes. For example, a charting library could have mixins to deal with colors and legends.\n",
    "\n",
    "The below example creates `DumpAttributeMixin` to print an object's attributes."
   ]
  },
  {
   "cell_type": "code",
   "execution_count": null,
   "id": "e4aea6db",
   "metadata": {},
   "outputs": [],
   "source": [
    "class DumpAttributeMixin:\n",
    "    def dump(self):\n",
    "        import pprint\n",
    "        pprint.pprint(vars(self))\n",
    "        \n",
    "class HourlyDumpEmployee(HourlyEmployee, DumpAttributeMixin):\n",
    "    pass\n",
    "\n",
    "c = HourlyDumpEmployee(\"Max\",\"System Administrator\",\"54.76\")\n",
    "c.dump()"
   ]
  },
  {
   "cell_type": "markdown",
   "id": "5ca92dfb",
   "metadata": {},
   "source": [
    "## Note\n",
    "In Python, all objects implicitly inherit from the class `object` if a parent class is not explicitly  defined. This implicit inheritance is `object` appears as the last item in the `mro()` calls above. This inheritance hierarchy allows for shared behavior defined among all created objects in Python - such as the ability to get the string representation."
   ]
  },
  {
   "cell_type": "code",
   "execution_count": null,
   "id": "fc919c13",
   "metadata": {},
   "outputs": [],
   "source": [
    "help(object)"
   ]
  },
  {
   "cell_type": "markdown",
   "id": "bd25927f",
   "metadata": {},
   "source": [
    "## Exercises\n",
    "1. Complete the Salaried and Commissioned Employee classes. Commissioned employees earn 5% of their sales. Salary should be set when constructing the classes."
   ]
  },
  {
   "cell_type": "code",
   "execution_count": null,
   "id": "91829998",
   "metadata": {},
   "outputs": [],
   "source": []
  }
 ],
 "metadata": {
  "kernelspec": {
   "display_name": "Python 3 (ipykernel)",
   "language": "python",
   "name": "python3"
  },
  "language_info": {
   "codemirror_mode": {
    "name": "ipython",
    "version": 3
   },
   "file_extension": ".py",
   "mimetype": "text/x-python",
   "name": "python",
   "nbconvert_exporter": "python",
   "pygments_lexer": "ipython3",
   "version": "3.10.4"
  }
 },
 "nbformat": 4,
 "nbformat_minor": 5
}
