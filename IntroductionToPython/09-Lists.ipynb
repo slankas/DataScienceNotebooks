{
 "cells": [
  {
   "cell_type": "markdown",
   "id": "599c2bf6",
   "metadata": {},
   "source": [
    "<div class=\"pagebreak\"></div>\n",
    "\n",
    "# Lists\n",
    "\n",
    "In our lives, we regularly use lists - things to buy, stuff to do, etc.  As we use those lists, we add items to them, we remove items from them, and we change items.  \n",
    "\n",
    "Python provides a list data type. Lists are ordered sequences of items. Unlike arrays in other programming languages, lists can contain items of different types.\n",
    "\n",
    "To define a list, use a comma separated list of zero or more values between square brackets."
   ]
  },
  {
   "cell_type": "code",
   "execution_count": null,
   "id": "b588c00c",
   "metadata": {},
   "outputs": [],
   "source": [
    "empty_list = []\n",
    "another_empty_list = list()\n",
    "primes = [1,2,3,5,7,11,13,17,19]\n",
    "acc_schools = [\"Duke\", \"Notre Dame\", \"UNC\", \"NCSU\", \"Wake Forest\", \"Clemson\"]\n",
    "mixed_list = [ \"school\", 1842, \"test\", \"April\", 5.4]"
   ]
  },
  {
   "cell_type": "markdown",
   "id": "f60a7a0c",
   "metadata": {},
   "source": [
    "Unlike numbers and strings, lists are mutable objects.  That is, we can add and remove items from a list and we still have the same reference to the list."
   ]
  },
  {
   "cell_type": "markdown",
   "id": "ba457361",
   "metadata": {},
   "source": [
    "## Indexing and Slicing\n",
    "\n",
    "As lists are sequences, we can use the same operations that we used on strings for getting the length, indexing, and slicing."
   ]
  },
  {
   "cell_type": "code",
   "execution_count": null,
   "id": "0b25b448",
   "metadata": {},
   "outputs": [],
   "source": [
    "print(\"len(acc_schools):\", len(acc_schools))"
   ]
  },
  {
   "cell_type": "code",
   "execution_count": null,
   "id": "53e7e256",
   "metadata": {},
   "outputs": [],
   "source": [
    "print(\"acc_schools[0]:\",acc_schools[0])\n",
    "print(\"acc_schools[-1]:\",acc_schools[-1])"
   ]
  },
  {
   "cell_type": "code",
   "execution_count": null,
   "id": "3e9c9d81",
   "metadata": {},
   "outputs": [],
   "source": [
    "print(\"acc_schools[:3]:\",acc_schools[:3])"
   ]
  },
  {
   "cell_type": "markdown",
   "id": "48a822d4",
   "metadata": {},
   "source": [
    "## Adding to a list\n",
    "The `+` operation (concatenation), creates a new list.  To use concatenation, we must use another list"
   ]
  },
  {
   "cell_type": "code",
   "execution_count": null,
   "id": "f9e1d3c1",
   "metadata": {},
   "outputs": [],
   "source": [
    "print(id(acc_schools))\n",
    "new_list = acc_schools + [\"Miami\"]\n",
    "print(new_list)\n",
    "print(id(new_list))"
   ]
  },
  {
   "cell_type": "code",
   "execution_count": null,
   "id": "2d898e69",
   "metadata": {},
   "outputs": [],
   "source": [
    "new_list = acc_schools + \"Virginia\"       # Raises a TypeError"
   ]
  },
  {
   "cell_type": "markdown",
   "id": "fd02872b",
   "metadata": {},
   "source": [
    "Calling the `append()` method will add item to the end of the existng list."
   ]
  },
  {
   "cell_type": "code",
   "execution_count": null,
   "id": "378b90ee",
   "metadata": {},
   "outputs": [],
   "source": [
    "new_list.append(\"Virginia\")\n",
    "print(new_list)\n",
    "print(id(new_list))"
   ]
  },
  {
   "cell_type": "markdown",
   "id": "61834e06",
   "metadata": {},
   "source": [
    "As you can see from that the IDs, new_list is still the same object, but we have added \"Virginia\" to the list by using `append()`.  However, the list contenation using `+` produced a new object.\n",
    "\n",
    "You can also add items to a list with the `extend()` method.  This will treat the argument as a sequence and add iterate through the sequence, adding each item to the list.\n",
    "\n",
    "Try adding Pittsburgh to `new_list` using `extend()`:"
   ]
  },
  {
   "cell_type": "code",
   "execution_count": null,
   "id": "176bbda3",
   "metadata": {},
   "outputs": [],
   "source": [
    "# Add \"Pittsburgh\" to new list and print the result\n",
    "\n",
    "print(new_list)"
   ]
  },
  {
   "cell_type": "markdown",
   "id": "33555398",
   "metadata": {},
   "source": [
    "Was the result what you expected?\n",
    "\n",
    "If `'P', 'i', 't', 't', 's', 'b', 'u', 'r', 'g', 'h'` was added, remember that strings are sequences, so `extend` iterated through the sequence, adding each element to new_list.\n",
    "\n",
    "To use `extend()`, put the term into a list and then make the call."
   ]
  },
  {
   "cell_type": "code",
   "execution_count": null,
   "id": "83bb7dae",
   "metadata": {},
   "outputs": [],
   "source": [
    "# Add \"Pittsburgh\" to new list and print the result\n",
    "\n",
    "print(new_list)"
   ]
  },
  {
   "cell_type": "markdown",
   "id": "204d6b35",
   "metadata": {},
   "source": [
    "What happens if a list was passed to `append()`?"
   ]
  },
  {
   "cell_type": "code",
   "execution_count": null,
   "id": "0b4ef220",
   "metadata": {},
   "outputs": [],
   "source": [
    "new_list.append([\"Florida State\"])\n",
    "print(new_list)"
   ]
  },
  {
   "cell_type": "markdown",
   "id": "1908eec0",
   "metadata": {},
   "source": [
    "The last element should be a list itself now.  Collection objects such as lists can be nested within each other."
   ]
  },
  {
   "cell_type": "markdown",
   "id": "ca817395",
   "metadata": {},
   "source": [
    "Use <code>insert(<i>index</i>, <i>value</i>)</code> to put an item at a specific index in the list.\n",
    "\n",
    "For practice, insert \"Miami\" at the start of the `acc_schools` list."
   ]
  },
  {
   "cell_type": "code",
   "execution_count": null,
   "id": "789ceaf1",
   "metadata": {},
   "outputs": [],
   "source": [
    "# add a line of code to put Miami at the start of the acc_schools list\n",
    "\n",
    "print(acc_schools)"
   ]
  },
  {
   "cell_type": "markdown",
   "id": "328fa615",
   "metadata": {},
   "source": [
    "Now, put \"Pittburgh\" into the list at the 6th position (i.e., between \"NCSU\" and \"Wake Forest\").  Remember indexes start at zero."
   ]
  },
  {
   "cell_type": "code",
   "execution_count": null,
   "id": "763955e7",
   "metadata": {},
   "outputs": [],
   "source": [
    "# add a line of code to put Pittsburgh at the 6th position\n",
    "\n",
    "print(acc_schools)"
   ]
  },
  {
   "cell_type": "markdown",
   "id": "882512c0",
   "metadata": {},
   "source": [
    "## Removing from a list\n",
    "\n",
    "* <code><i>list</i>.pop()</code> removes an item from the end of the list, returning that value\n",
    "* <code><i>list</i>.popleft()</code> removes an item from the start of the list, returning that value\n",
    "* <code>del <i>list</i>[<i>index</i>]</code> removes an item at the specified index"
   ]
  },
  {
   "cell_type": "code",
   "execution_count": null,
   "id": "dfb1a2bb",
   "metadata": {},
   "outputs": [],
   "source": [
    "last = acc_schools.pop()      # Removes the last element\n",
    "first = acc_schools.pop(0)    # Removes the first element\n",
    "print(first)\n",
    "print(last)\n",
    "print(acc_schools)"
   ]
  },
  {
   "cell_type": "markdown",
   "id": "613dd2e2",
   "metadata": {},
   "source": [
    "Use <code><i>list</i>.remove(<i>value</i>)</code> to remove a specific value from the list.  Only the first found match is removed. No value is returned.  The method raises a ValueError if there is no such item."
   ]
  },
  {
   "cell_type": "markdown",
   "id": "766bc049",
   "metadata": {},
   "source": [
    "Remove \"UNC\" from acc_schools:"
   ]
  },
  {
   "cell_type": "code",
   "execution_count": null,
   "id": "6e594fdc",
   "metadata": {},
   "outputs": [],
   "source": [
    "# Add the line remove the value \"UNC\"\n",
    "\n",
    "print(acc_schools)"
   ]
  },
  {
   "cell_type": "markdown",
   "id": "e8ae40fc",
   "metadata": {},
   "source": [
    "To empty a list, use `clear()`"
   ]
  },
  {
   "cell_type": "code",
   "execution_count": null,
   "id": "1689c588",
   "metadata": {},
   "outputs": [],
   "source": [
    "acc_schools.clear()\n",
    "print(acc_schools)"
   ]
  },
  {
   "cell_type": "markdown",
   "id": "0ecc15e6",
   "metadata": {},
   "source": [
    "## Searching for Values\n",
    "To count the number of times a value exists in a list, use `count()`"
   ]
  },
  {
   "cell_type": "code",
   "execution_count": null,
   "id": "0819a66a",
   "metadata": {},
   "outputs": [],
   "source": [
    "acc_schools = [\"Duke\", \"Notre Dame\", \"UNC\", \"NCSU\", \"Wake Forest\", \"Clemson\",\"Duke\"]\n",
    "acc_schools.count(\"Duke\")"
   ]
  },
  {
   "cell_type": "markdown",
   "id": "035f5177",
   "metadata": {},
   "source": [
    "To test if a value exists in a list use the `in` operator"
   ]
  },
  {
   "cell_type": "code",
   "execution_count": null,
   "id": "4ca9e10f",
   "metadata": {},
   "outputs": [],
   "source": [
    "print(\"ND\" in acc_schools)"
   ]
  },
  {
   "cell_type": "code",
   "execution_count": null,
   "id": "ffcb7aaf",
   "metadata": {},
   "outputs": [],
   "source": [
    "school = \"NCSU\"\n",
    "print(school in acc_schools)"
   ]
  },
  {
   "cell_type": "markdown",
   "id": "4ded971f",
   "metadata": {},
   "source": [
    "To find the first index where an item occurs in a list, use `index()`.  The method raises a ValueError if the value does not exist in the list. Optionally, you can specify start and end indexes to limit the search."
   ]
  },
  {
   "cell_type": "code",
   "execution_count": null,
   "id": "74079902",
   "metadata": {},
   "outputs": [],
   "source": [
    "acc_schools.index(\"Duke\")"
   ]
  },
  {
   "cell_type": "code",
   "execution_count": null,
   "id": "0d12ab0e",
   "metadata": {},
   "outputs": [],
   "source": [
    "acc_schools.index(\"Duke\",1,len(acc_schools))    # starts checking at the second element in the list"
   ]
  },
  {
   "cell_type": "code",
   "execution_count": null,
   "id": "27b32946",
   "metadata": {},
   "outputs": [],
   "source": [
    "acc_schools.index(\"Duke\",2,5)           # Raises a ValueError - Duke isn't in the specified raange of the list"
   ]
  },
  {
   "cell_type": "markdown",
   "id": "a7bd3c9d",
   "metadata": {},
   "source": [
    "## Sorting\n",
    "To sort a list, use the `sort()` methods which puts the order into lexigraphical order.  Add the argument `reverse=True` to sort in reverse order"
   ]
  },
  {
   "cell_type": "code",
   "execution_count": null,
   "id": "fdaf9d98",
   "metadata": {},
   "outputs": [],
   "source": [
    "acc_schools.sort()\n",
    "print(acc_schools)"
   ]
  },
  {
   "cell_type": "markdown",
   "id": "7e87cc9f",
   "metadata": {},
   "source": [
    "Now sort the list in descending order."
   ]
  },
  {
   "cell_type": "code",
   "execution_count": null,
   "id": "b4b031e7",
   "metadata": {},
   "outputs": [],
   "source": [
    "# Sort acc_schools in descending order by adding the necessary statement\n",
    "\n",
    "print(acc_schools)"
   ]
  },
  {
   "cell_type": "markdown",
   "id": "12ccbce6",
   "metadata": {},
   "source": [
    "Python offers a built-in function `sorted()` to sort iterables such as lists.  This returns a new list.  You can add the argument `reverse=True` to sort in descending order if needed."
   ]
  },
  {
   "cell_type": "code",
   "execution_count": null,
   "id": "b27c44ce",
   "metadata": {},
   "outputs": [],
   "source": [
    "sorted_schools = sorted(acc_schools)\n",
    "sorted_schools"
   ]
  },
  {
   "cell_type": "markdown",
   "id": "28b8ad39",
   "metadata": {},
   "source": [
    "Use the `id()` function to show that acc_schools and sorted_schools are two different objects"
   ]
  },
  {
   "cell_type": "code",
   "execution_count": null,
   "id": "722a7b93",
   "metadata": {},
   "outputs": [],
   "source": [
    "# print the id values for acc_schools and sorted schools\n"
   ]
  },
  {
   "cell_type": "markdown",
   "id": "66d4cd3d",
   "metadata": {},
   "source": [
    "Now try to pass a string to `sorted()`.  What was the result?  Why did this happen?"
   ]
  },
  {
   "cell_type": "code",
   "execution_count": null,
   "id": "0d0b497b",
   "metadata": {},
   "outputs": [],
   "source": [
    "x = sorted(\"hello\")\n",
    "print(x)"
   ]
  },
  {
   "cell_type": "markdown",
   "id": "9e65f578",
   "metadata": {},
   "source": [
    "A string is a sequence, so `sorted` processed that sequence of items into sorted order.\n",
    "\n",
    "What happens you try to sort a list that has a mixture of different types?  Try sorting `mixed_listed` that we defined earlier."
   ]
  },
  {
   "cell_type": "code",
   "execution_count": null,
   "id": "eeba1c24",
   "metadata": {},
   "outputs": [],
   "source": [
    "# Add code to sort mixed_list\n"
   ]
  },
  {
   "cell_type": "markdown",
   "id": "85914a8c",
   "metadata": {},
   "source": [
    "## Reversing\n",
    "To reverse the current order of a list, use `reverse()`"
   ]
  },
  {
   "cell_type": "code",
   "execution_count": null,
   "id": "2b7a9fee",
   "metadata": {},
   "outputs": [],
   "source": [
    "acc_schools.reverse()\n",
    "acc_schools"
   ]
  },
  {
   "cell_type": "markdown",
   "id": "00861fa4",
   "metadata": {},
   "source": [
    "## Copying\n",
    "To perform a shallow copy of a list, use `copy()`.  With a shallow copy, we have a new list object with the same contents as the current list. However, those contents are the same - in other words, only the references have been copied into the new list.\n",
    "\n",
    "This is the same as using the slice operation: _list_ `[:]`"
   ]
  },
  {
   "cell_type": "markdown",
   "id": "0815a401",
   "metadata": {},
   "source": [
    "new_list = acc_schools.copy()"
   ]
  },
  {
   "cell_type": "markdown",
   "id": "af463339",
   "metadata": {},
   "source": [
    "We can also perform a deepcopy of a list.  A deep copy will construct a new list and then recursively create new copies off all of the original contents and place those into the new list.  (We'll cover recursion in more detail in later notebooks.)\n",
    "\n",
    "To perform a deep copy, we'll need to import the `copy` module and then call the `deepcopy()` function within that module."
   ]
  },
  {
   "cell_type": "code",
   "execution_count": null,
   "id": "f9161f01",
   "metadata": {},
   "outputs": [],
   "source": [
    "import copy\n",
    "new_list = copy.deepcopy(acc_schools)"
   ]
  },
  {
   "cell_type": "markdown",
   "id": "24da9863",
   "metadata": {},
   "source": [
    "## Comparing\n",
    "Comparing two lists using boolean comparison operators (`<`,`<=`,`==`,`>=`,`>`) uses a lexicographical ordering. Initially, the first item of each of the two lists is compared.  If they differ, then this difference is the outcome. Otherwise, the next items in each list is compared and so forth.  If all items of the two lists are equal, then the lists are equal.  Then if one list is shorter than the other after comparing elements up to that point, then that list is considered smaller."
   ]
  },
  {
   "cell_type": "code",
   "execution_count": null,
   "id": "0f537343",
   "metadata": {},
   "outputs": [],
   "source": [
    "a = [\"one\", \"two\"]\n",
    "b = [\"one\", \"two\"]\n",
    "c = [\"one\", \"alpha\", \"two\"]\n",
    "d = [\"two\", 3, \"one\"]\n",
    "e = [\"one\", \"two\", \"three\"]\n",
    "\n",
    "print(\"a <  b:\", a < b)\n",
    "print(\"a >  b:\", a > b)\n",
    "print(\"a == b:\", a == b)\n",
    "print(\"c <  a:\", c < a)\n",
    "print(\"c >  a:\", c > a)\n",
    "print(\"a <  d:\", a < d)\n",
    "print(\"a >  d:\", a > d)\n",
    "print(\"b <  c:\", b < c)\n",
    "print(\"b <  e:\", b < e)\n"
   ]
  },
  {
   "cell_type": "markdown",
   "id": "2605e4c6",
   "metadata": {},
   "source": [
    "Lists can also be used as an expression in `if` statements.  A non-empty list resolves to `True` and an empty list resolves to `False`."
   ]
  },
  {
   "cell_type": "code",
   "execution_count": null,
   "id": "854b3f34",
   "metadata": {},
   "outputs": [],
   "source": [
    "a = [\"one\", \"two\"]\n",
    "e = []\n",
    "if a:\n",
    "    print(\"a was not an empty list\")\n",
    "else:\n",
    "    print(\"a was an empty list\")\n",
    "    \n",
    "if e:\n",
    "    print(\"e was not empty list\")\n",
    "else:\n",
    "    print(\"e was an empty list\")"
   ]
  },
  {
   "cell_type": "markdown",
   "id": "b4aa2102",
   "metadata": {},
   "source": [
    "## Converting"
   ]
  },
  {
   "cell_type": "markdown",
   "id": "f4704912",
   "metadata": {},
   "source": [
    "We can directly convert a list to a boolean value with the built-in function `bool()`:"
   ]
  },
  {
   "cell_type": "code",
   "execution_count": null,
   "id": "1b95f974",
   "metadata": {},
   "outputs": [],
   "source": [
    "print(bool(a))\n",
    "print(bool(e))"
   ]
  },
  {
   "cell_type": "markdown",
   "id": "7ece40ec",
   "metadata": {},
   "source": [
    "To convert a list to a string, use the `join()` method from the string class."
   ]
  },
  {
   "cell_type": "code",
   "execution_count": null,
   "id": "a69d69ee",
   "metadata": {},
   "outputs": [],
   "source": [
    "acc_string = ':'.join(acc_schools)\n",
    "print(acc_string)"
   ]
  },
  {
   "cell_type": "markdown",
   "id": "64560f82",
   "metadata": {},
   "source": [
    "What happens if you try to join a list that contains a mix of different types or a list that does not contain strings?  Try below with `mixed_list` or `primes`"
   ]
  },
  {
   "cell_type": "code",
   "execution_count": null,
   "id": "d3adb0c9",
   "metadata": {},
   "outputs": [],
   "source": [
    "# add code to join mixed_list or primes\n",
    "\n"
   ]
  },
  {
   "cell_type": "markdown",
   "id": "27897b03",
   "metadata": {},
   "source": [
    "## Nested Lists\n",
    "In Python, we can nest lists - that is create a list of lists.  This is roughly comparable to creating multi-dimensional arrays in other programming languages. A common use case for this is to create matrix as a representation for specific data.\n",
    "\n",
    "For example, we could create a partially-completed tic-tac-toe board:"
   ]
  },
  {
   "cell_type": "code",
   "execution_count": null,
   "id": "1b4c0780",
   "metadata": {},
   "outputs": [],
   "source": [
    "board = [ [\"X\", \" \", \" \"],\n",
    "          [\" \", \"O\", \" \"],\n",
    "          [\" \", \"O\", \"X\"]]\n"
   ]
  },
  {
   "cell_type": "code",
   "execution_count": null,
   "id": "d0c576f4",
   "metadata": {},
   "outputs": [],
   "source": [
    "rows = len(board)       # the number of elements of top list equals the number of rows\n",
    "cols = len(board[0])    # the number of elements of a nested list equals the number of columns\n",
    "\n",
    "# print the board\n",
    "print(\"board: \")\n",
    "print(\" \",board[0])\n",
    "print(\" \",board[1])\n",
    "print(\" \",board[2])\n",
    "    \n",
    "# Accessing parts of the board\n",
    "print(\"Top right corner:\", board[0][2])\n",
    "print(\"Top left corner:\", board[0][0])\n",
    "print(\"bottom middle:\", board[2][1])\n"
   ]
  },
  {
   "cell_type": "markdown",
   "id": "e04bb5fc",
   "metadata": {},
   "source": [
    "While the above example shows a list of list of strings, realize that creating nested data structures can be arbitrarily.  For example, we could represent a [sudoku](https://en.wikipedia.org/wiki/Sudoku) board as a 9 by 9 matrix.  But then for each cell, we could hold a list of possible numbers that cell could possibly be assigned.\n",
    "\n",
    "![](images/suduko.png)"
   ]
  },
  {
   "cell_type": "markdown",
   "id": "c93e8115",
   "metadata": {},
   "source": [
    "## Exercises\n",
    "\n",
    "For the exercises 1 - 7, use the following list.  Use the Python functions and methods.\n",
    "`grades  = [87.6, 92.3, 84.5, 90.0, 86.0, 98.6]`\n",
    "\n",
    "1. How many elements are in the list?\n",
    "2. Provide two ways of getting the first element in the list.\n",
    "3. Provide two ways of getting the last element in the list\n",
    "4. Remove the first element from the list and return the value.\n",
    "5. Remove the last element from the list and return the value\n",
    "6. Concatenate this list to grades:  `[76.4, 99.2, 88.8]`\n",
    "7. Sort the list\n",
    "\n",
    "8. Write a short program that reads in a sentence from a user.  Then create a list of words (punctuation can be included as part of the words) by separating the words/characters by whitespace.  Then reverse the list. Finally, join the list back together into a single string with words separated by a colon `:` and print the resulting string.\n"
   ]
  }
 ],
 "metadata": {
  "kernelspec": {
   "display_name": "Python 3 (ipykernel)",
   "language": "python",
   "name": "python3"
  },
  "language_info": {
   "codemirror_mode": {
    "name": "ipython",
    "version": 3
   },
   "file_extension": ".py",
   "mimetype": "text/x-python",
   "name": "python",
   "nbconvert_exporter": "python",
   "pygments_lexer": "ipython3",
   "version": "3.10.4"
  }
 },
 "nbformat": 4,
 "nbformat_minor": 5
}
