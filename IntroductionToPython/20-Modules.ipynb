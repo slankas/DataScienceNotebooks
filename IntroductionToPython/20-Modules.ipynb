{
 "cells": [
  {
   "cell_type": "markdown",
   "id": "ac0f08c8",
   "metadata": {},
   "source": [
    "<div class=\"pagebreak\"></div>\n",
    "\n",
    "# Modules\n",
    "With the exception of existing classes and functions that we have used, everything that we have written so far has been put within a single file.  Now, we will look at how to package our code into multiple files.\n",
    "\n",
    "Just as functions provided an abstractions for a series of steps that performed a task, a module creates an abstraction of a group of related variables(data), functions, and classes. Modules are key abstraction for reusing code and functionality.\n"
   ]
  },
  {
   "cell_type": "markdown",
   "id": "9554ee4a",
   "metadata": {},
   "source": [
    "## Using Modules\n",
    "To use a module, use the following statement\n",
    "<code>import <i>moduleName</i></code> where moduleName is the name of an existing Python file (but without the .py extension) or a directory."
   ]
  },
  {
   "cell_type": "code",
   "execution_count": null,
   "id": "a95666b5",
   "metadata": {},
   "outputs": [],
   "source": [
    "import statistics\n",
    "\n",
    "statistics.stdev([10,5,12,3,6,4,11,4,8,5,6,7,8,6,5,6,7])"
   ]
  },
  {
   "cell_type": "markdown",
   "id": "acd5ac2d",
   "metadata": {},
   "source": [
    "You can also rename a module as you import it. This provides an alternate alias to refer to the module in the code."
   ]
  },
  {
   "cell_type": "code",
   "execution_count": null,
   "id": "34dc7b81",
   "metadata": {},
   "outputs": [],
   "source": [
    "import statistics as stat\n",
    "\n",
    "stat.stdev([10,5,12,3,6,4,11,4,8,5,6,7,8,6,5,6,7])"
   ]
  },
  {
   "cell_type": "markdown",
   "id": "e7010cdb",
   "metadata": {},
   "source": [
    "Why rename imported modules?\n",
    "- duplicate names\n",
    "- more mnemonic / following convention (Example: <code>import pandas as pd</code>\n",
    "- minimize typing\n",
    "\n",
    "You can also limit what you import from a module\n",
    "<code>from <i>moduleName</i> import <i>name</i></code>"
   ]
  },
  {
   "cell_type": "code",
   "execution_count": null,
   "id": "d8019ae7",
   "metadata": {},
   "outputs": [],
   "source": [
    "from statistics import mean\n",
    "\n",
    "mean([10,5,12,3,6,4,11,4,8,5,6,7,8,6,5,6,7])"
   ]
  },
  {
   "cell_type": "markdown",
   "id": "8164d4f4",
   "metadata": {},
   "source": [
    "To list all modules currently installed (including built-in modules):"
   ]
  },
  {
   "cell_type": "code",
   "execution_count": null,
   "id": "b8bfd98e",
   "metadata": {},
   "outputs": [],
   "source": [
    "help('modules')"
   ]
  },
  {
   "cell_type": "markdown",
   "id": "7d05680c",
   "metadata": {},
   "source": [
    "To see the help documentation for a specific module, pass it as a string to help"
   ]
  },
  {
   "cell_type": "code",
   "execution_count": null,
   "id": "d537eb5f",
   "metadata": {},
   "outputs": [],
   "source": [
    "help('numpy')"
   ]
  },
  {
   "cell_type": "markdown",
   "id": "0f53812c",
   "metadata": {},
   "source": [
    "## Packages \n",
    "Python allows modules to be organized by subdirectories into packages. The directory names form a hierarchy of names.\n",
    "\n",
    "Prior to Python 3.3, it was necessary to include a file named `__init__.py` in a directory for it to make it a Python package. The file can but used for any special initialization code for the package. The use of `__init__.py` is a common interview question.  Without the `__init__.py`, the package is considered an [implicit namespace package](https://peps.python.org/pep-0420/). The technical details between regular packages and implicit namespace packages are irrelevant for most use cases, but issues generally arise when the same package name is used in more than one location in the search path (see below on \"How imports works\") - [view more details].(https://web.archive.org/web/20220605062021/http://python-notes.curiousefficiency.org/en/latest/python_concepts/import_traps.html)  Note: these links are provided for informational purposes only.\n",
    "\n",
    "Typically, programmers use the terms \"modules\" and \"packages\" interchangeably."
   ]
  },
  {
   "cell_type": "markdown",
   "id": "442dabfc",
   "metadata": {},
   "source": [
    "### Installing other modules\n",
    "The de facto way to install additional modules and packages is to use [pip](https://docs.python.org/3/installing/index.html). \n",
    "\n",
    "Technically you can use the 'pip' command to install packages: <pre>pip install <i>packageName</i></pre>\n",
    "However, the recommended approach is to use call the Python interpreter and use the module name as the command line argument:\n",
    "<pre>\n",
    "    python -m pip install <i>packageName</i>\n",
    "</pre>\n",
    "By using the `python` executable, we ensure the package is installed into an appropriate environment.\n",
    "\n",
    "Similarly for Jupyter Notebooks:\n",
    "<pre>\n",
    "    import sys\n",
    "    !{sys.executable} -m pip install <i>packageName</i>\n",
    "</pre>\n",
    "For notebooks, you may have seen\n",
    "<pre>!pip install <i>packageName</i></pre>\n",
    "However, this will install the pacakage into the environment from which Jupyter was started, not the current environment.\n",
    "\n",
    "You should ensure <code>setuptools</code> and <code>wheel</code> are installed when using pip.  <code>wheel</code> can install pre-built packages into your environment if compatible. <code>setuptools</code> helps to handle the installation of other packages from source code. The following makes sure all are the latest version."
   ]
  },
  {
   "cell_type": "code",
   "execution_count": null,
   "id": "01a3b1d9",
   "metadata": {},
   "outputs": [],
   "source": [
    "import sys\n",
    "!{sys.executable} -m pip install --upgrade pip setuptools wheel"
   ]
  },
  {
   "cell_type": "markdown",
   "id": "838ef17f",
   "metadata": {},
   "source": [
    "### Commonly Used Modules / Packages\n",
    "Packages that have a URL with \"python.org\" are part of the includes modules distributed with the language and do not need to be installed.  [Python Standard Library](https://docs.python.org/3/library/)\n",
    "\n",
    "Package Name | Description | Import | URL\n",
    ":-----------|:----|:---|:------\n",
    "datetime | Supplies classes to represent and manipulate date and times| dt|https://docs.python.org/3/library/datetime.html\n",
    "json | Exposes APIs to load, parse, and write [JSON Objects](https://datatracker.ietf.org/doc/html/rfc7159.html). | |https://docs.python.org/3/library/json.html\n",
    "math | Variety of math functions for floats and integers | | https://docs.python.org/3/library/math.html\n",
    "matplotlib|  Comprehensive visualization library | mpl | https://matplotlib.org\n",
    "numpy  | Foundational package for scientific computing.  Supports multidimensional arrays and matrices| np | https://numpy.org\n",
    "pandas | Data analysis and manipulation tool. Core library to perform data science in Python | pd| https://pandas.pydata.org\n",
    "os | Provides access to common operating system functions. | | https://docs.python.org/3/library/os.html\n",
    "random | Implements random number generation for various distributions | |https://docs.python.org/3/library/random.html\n",
    "scipy  | Contains algorithms for optimization, integration, interpolation, eigenvalue problems, algebraic equations, differential equations, statistics and many other classes of problems| | https://scipy.org \n",
    "seaborn | visualizaion library built on top of matplotlib that provides attractive and informative statistical graphics |sns | https://seaborn.pydata.org\n",
    "statistics | Provides functions to calculate common statistics || https://docs.python.org/3/library/statistics.html\n",
    "sys | Provides access to variables and functions used by the Python interpreter | |https://docs.python.org/3/library/sys.html\n",
    "unittest | Unit testing framework that supports test automation || https://docs.python.org/3/library/sys.html\n",
    "\n",
    "The \"Import\" column contains the standard rename alias."
   ]
  },
  {
   "cell_type": "markdown",
   "id": "61e7e776",
   "metadata": {},
   "source": [
    "## Developing and using our own modules\n",
    "\n",
    "At the very simplest level, modules are just a text file that contains python code. \n",
    "\n",
    "For example, we could create our own statistics module. The code below exists in a file \"mystatistics.py\"\n",
    "<div style=\"border: 3px solid black;padding: 10px; border-radius: 10px;\">\n",
    "<code>\n",
    "\"\"\"mystatistics provides implementations of common descriptive statistical functions\n",
    "   - min\n",
    "   - max\n",
    "   - range\n",
    "   - mean\n",
    "   - median\n",
    "   - variance\n",
    "   - std_dev\n",
    "    \n",
    "   Each funtion takes a single list.  All contents of that should be a float or an integer\n",
    "\"\"\"\n",
    "\n",
    "def min(l):\n",
    "    \"\"\" returns the minimum value in the list.  Raises exception if empty\"\"\"\n",
    "    if l:\n",
    "        s_list = sorted(l)\n",
    "        return s_list[0]\n",
    "    else:\n",
    "        raise ValueError(\"list empty\")\n",
    "\n",
    "def max(l):\n",
    "    \"\"\" returns the maximum value in the list.  Raises exception if empty\"\"\"\n",
    "    if l:\n",
    "        s_list = sorted(l)\n",
    "        return s_list[-1]\n",
    "    else:\n",
    "        raise ValueError(\"list empty\")\n",
    "        \n",
    "def range(l):\n",
    "    \"\"\" returns the difference between the minimum and maximum value in the list.  Raises exception if empty\"\"\"\n",
    "    if l:\n",
    "        s_list = sorted(l)\n",
    "        return s_list[-1] - s_list[0]\n",
    "    else:\n",
    "        raise ValueError(\"list empty\")\n",
    "        \n",
    "        \n",
    "def mean(l):\n",
    "    \"\"\"computes the mean of the list\"\"\"\n",
    "    if l:\n",
    "        return sum(l)/len(l)\n",
    "    else:\n",
    "        raise ValueError(\"list empty\")\n",
    "\n",
    "def median(l):\n",
    "    \"\"\"Finds the median value of the list\"\"\"\n",
    "    if l:\n",
    "        s_list = sorted(l)\n",
    "        return s_list[len(s_list)//2] if len(s_list)%2 == 1 else (s_list[len(s_list)//2] +s_list[1 +len(s_list)//2])/2\n",
    "    else:\n",
    "        raise ValueError(\"list empty\")\n",
    "    \n",
    "def variance(l):\n",
    "    \"\"\"Calculates the population variance for the list\"\"\"\n",
    "    m   = mean(l)\n",
    "    dif = 0\n",
    "    for x in l:\n",
    "        dif += (m-x)**2\n",
    "    return dif/len(l)\n",
    "\n",
    "def std_dev(l):\n",
    "    \"\"\"Calculates the population standard deviation for list\"\"\"\n",
    "    return variance(l)**.5\n",
    "\n",
    "if \\_\\_name\\_\\_ == \"\\_\\_main\\_\\_\":\n",
    "    test_list = [10,12,14]\n",
    "    print(\"Min:\", min(test_list))\n",
    "    print(\"Max:\", max(test_list))\n",
    "    print(\"Range:\", range(test_list))\n",
    "    print(\"Mean:\", mean(test_list))\n",
    "    print(\"Median:\", median(test_list))\n",
    "    print(\"Variance:\", variance(test_list))\n",
    "    print(\"Std Dev:\", std_dev(test_list))\n",
    "</code>\n",
    "</div>"
   ]
  },
  {
   "cell_type": "markdown",
   "id": "72b09924",
   "metadata": {},
   "source": [
    "We can now use this module by importing it and then using the functions defined within it."
   ]
  },
  {
   "cell_type": "code",
   "execution_count": null,
   "id": "bde8bcac",
   "metadata": {},
   "outputs": [],
   "source": [
    "import mystatistics\n",
    "\n",
    "test_list = [10,12,14]\n",
    "print(\"Std Dev:\",  mystatistics.std_dev(test_list))"
   ]
  },
  {
   "cell_type": "markdown",
   "id": "4c097cba",
   "metadata": {},
   "source": [
    "## How Import Works ...\n",
    "When the Python interpreter executes the <code>import <i>moduleName</i></code> statement, it first checks to see whether or not that module has been previously imported. If it hasn't, then the interpreter will search a list of directories a file named <i>moduleName</i>.py.  This list is available in a Python variable `sys.path` and is created from the following sources:\n",
    "- the current working directory\n",
    "- the PYTHONPATH environment variable if it has been set\n",
    "- an installation-dependent list of directories (created at install time or when a virtual environment was created)"
   ]
  },
  {
   "cell_type": "code",
   "execution_count": null,
   "id": "5652d41d",
   "metadata": {},
   "outputs": [],
   "source": [
    "import sys\n",
    "print(sys.path)"
   ]
  },
  {
   "cell_type": "markdown",
   "id": "02f75e7c",
   "metadata": {},
   "source": [
    "Next, Python interpreter binds the results of that search to a name in the local scope.  This allows us to reference the module name, alias, or specific import item within our code.  The following code shows that the length of the local namespace has grown by one from the import of the PI variable:"
   ]
  },
  {
   "cell_type": "code",
   "execution_count": null,
   "id": "659cae15",
   "metadata": {},
   "outputs": [],
   "source": [
    "print(\"Local namespace size:\",len(locals()))\n",
    "from math import pi\n",
    "print(\"Local namespace size (after import of PI):\",len(locals()))"
   ]
  },
  {
   "cell_type": "markdown",
   "id": "7101d542",
   "metadata": {},
   "source": [
    "Then the Python interpreter executes the code within the <i>moduleName</i>.py name.  This will create any classes or functions defined within the file.  It will also execute any statements not contained within a class or function declaration.  This later piece is essential to allow the module to perform any necessary initialization steps prior to its use.\n",
    "\n",
    "The following code in a Python file\n",
    "<pre>\n",
    "if __name__ == \"__main__\":\n",
    "    <i>statements</i>\n",
    "</pre>\n",
    "checks to see whether or not the file has been started from the command line (through a command such as <code>python <i>moduleName</i>.py</code>. If it has, then the statements for that block will execute.  Otherwise, they are skipped.  This allows us to run the module as a main program, but then if the module is imported by other programs to skip running those steps. <code>if \\_\\_name\\_\\_ == \"\\_\\_main\\_\\_\":</code> is very common boilerplate code that you will see in a large number of Python files."
   ]
  },
  {
   "cell_type": "markdown",
   "id": "28d66ac2",
   "metadata": {},
   "source": [
    "## Module Docstrings\n",
    "To help other developers properly use your modules, you should use a docstring at the top of the file.  The docstring should list the purpose of the module and then list the classes, functions, exceptions, and any other items exported by the module with a short summary of each. [Docstring conventions](https://peps.python.org/pep-0257/#multi-line-docstrings)\n"
   ]
  },
  {
   "cell_type": "markdown",
   "id": "d385a0d3",
   "metadata": {},
   "source": [
    "## Best Practices\n",
    "Although certain modules are designed to export only names that follow certain patterns when you use <code>from <i>module</i> import *</code>, it is still considered bad practice. This statement imports all of the module's objects into your local namepace and it becomes difficult to determine what's what.  While having to type <code><i>module.</i></code> is a bit more tedious, it makes your code extremely clear as to where an object originated.\n",
    "\n",
    "As you create modules, you should only group things together that logically belong together.  Simply because you wrote two functions does not necessarily mean that they should be within the same module.  Quite often, \"utility\" packages will violate this principle.\n",
    "\n",
    "While you can distribute your own modules and packages by simply providing the source code to others, you should 'package\" these: [Overview of Packaging for Python](https://packaging.python.org/en/latest/overview/) [Tutorial](https://packaging.python.org/en/latest/tutorials/packaging-projects/)\n",
    "\n",
    "The Python interpreter will only ever load one copy of a module into your program - even if it is imported in multiple locations.  Thus any changes to that module can be reflected wherever that module is also used. As with anything else with Python (or really any programming language), such functionality can be useful or a curse. Programming languages expect developers to not behave maliciously such as in this code:"
   ]
  },
  {
   "cell_type": "code",
   "execution_count": null,
   "id": "642ac897",
   "metadata": {},
   "outputs": [],
   "source": [
    "import statistics\n",
    "\n",
    "def bad_programmer(l):\n",
    "    import random\n",
    "    return random.random()\n",
    "\n",
    "statistics.stdev = bad_programmer\n",
    "\n",
    "my_list = [10,5,12,3,6,4,11,4,8,5,6,7,8,6,5,6,7]\n",
    "print(\"Std dev:\",statistics.stdev(my_list))\n",
    "print(\"Std dev:\",statistics.stdev(my_list))\n",
    "# good luck tracking down that one!"
   ]
  },
  {
   "cell_type": "markdown",
   "id": "68683cce",
   "metadata": {},
   "source": [
    "## Exercise\n"
   ]
  }
 ],
 "metadata": {
  "kernelspec": {
   "display_name": "Python 3 (ipykernel)",
   "language": "python",
   "name": "python3"
  },
  "language_info": {
   "codemirror_mode": {
    "name": "ipython",
    "version": 3
   },
   "file_extension": ".py",
   "mimetype": "text/x-python",
   "name": "python",
   "nbconvert_exporter": "python",
   "pygments_lexer": "ipython3",
   "version": "3.10.4"
  }
 },
 "nbformat": 4,
 "nbformat_minor": 5
}
