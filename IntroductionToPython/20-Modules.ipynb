{
 "cells": [
  {
   "cell_type": "markdown",
   "id": "ac0f08c8",
   "metadata": {},
   "source": [
    "# Modules\n",
    "With the exception of existing classes and functions that we have used, everything that we have written so far has been put within a single file.  Now, we will look at how to package our code into multiple files.\n",
    "\n",
    "Just as functions provided an abstractions for a series of steps that performed a task, a module creates an abstraction of a group of related variables(data), functions, and classes.\n",
    "\n",
    "At the very simplest level, modules are just a text file that contains python code. \n",
    "\n",
    "\n",
    "key abstraction for reusing code and functionality\n",
    "\n",
    "\n",
    "pip install / githubs\n",
    "\n",
    "\n",
    "\n"
   ]
  },
  {
   "cell_type": "markdown",
   "id": "3042f3d1",
   "metadata": {},
   "source": [
    "## Using modules\n",
    "To use a module, use the following statement\n",
    "<code>import <i>moduleName</i></code> where moduleName is the name of an existing Python file, but without the .py extension.\n",
    "\n",
    "we can also organize our modules hierarchically by directories.   \n",
    "\n",
    "my recommendation on imports ...\n",
    "\n",
    "\n",
    "\n",
    "rewrite the following ....\n",
    "The __init__.py files are required to make Python treat directories containing the file as packages. This prevents directories with a common name, such as string, unintentionally hiding valid modules that occur later on the module search path. In the simplest case, __init__.py can just be an empty file, but it can also execute initialization code for the package \n",
    "\n",
    "\n",
    "import a module as another name.\n",
    "- duplicate names\n",
    "- more mnemonic / following convention\n",
    "-hate typing\n",
    "\n",
    "import pandas as pd\n",
    "\n",
    "import specific items inout our name space\n",
    "\n",
    "len(dir(__builtins__))\n",
    "\n",
    "\n",
    "from math import pi\n",
    "len(dir(__builtins__))\n",
    "\n",
    "\n",
    "\n",
    "a package is a subdirectory that contains python packages.  \n",
    "\n",
    "module search path\n",
    "import sys\n",
    "for place in sys.path:\n",
    "    print(place)\n",
    "   \n",
    "sys.path.insert(position, \"/my/path\")   # note: supports both absolute and relative paths\n",
    "\n",
    "\n",
    "\n",
    "if __name__ == \"__main__\":\n",
    "    print (\"I am the main program\")\n",
    "else:\n",
    "    print (\"being imported\")\n",
    "    \n"
   ]
  },
  {
   "cell_type": "code",
   "execution_count": null,
   "id": "bd21cf68",
   "metadata": {},
   "outputs": [],
   "source": [
    "docstrings for modules"
   ]
  },
  {
   "cell_type": "code",
   "execution_count": null,
   "id": "191f9d44",
   "metadata": {},
   "outputs": [],
   "source": [
    "namespaces and modules"
   ]
  },
  {
   "cell_type": "markdown",
   "id": "4cc826eb",
   "metadata": {},
   "source": [
    "Python expects you to be a fully grown adult, everyhting I learned in kindergarten \n",
    "\n",
    "Share everything.  Play fair.  Don't hit people.  Put things back where you found them.  Clean up your own mess.  Don't take things that aren't yours.\n",
    "\n",
    "by Robert Fulghum \n",
    "\n",
    "import math\n",
    "math.pi =2\n",
    "from math import pi\n",
    "pi\n",
    "\n",
    "\n",
    "There's only one copy of any module imported by your program, even if yo import it more thatn once.\n",
    "For better or worse, cna store global things ..   anything that imports the module can see it.\n",
    "\n",
    "\n",
    "\n",
    "\n"
   ]
  },
  {
   "cell_type": "code",
   "execution_count": null,
   "id": "113c69d3",
   "metadata": {},
   "outputs": [],
   "source": [
    "python's battaries included..  list standard modules that are useful\n",
    "\n"
   ]
  },
  {
   "cell_type": "code",
   "execution_count": null,
   "id": "0ef9ee91",
   "metadata": {},
   "outputs": [],
   "source": [
    "preparing a module/package for distibution\n",
    "setup.py, metata, build distibution file"
   ]
  },
  {
   "cell_type": "markdown",
   "id": "fb719184",
   "metadata": {},
   "source": [
    "best practice:\n",
    "    Although certain modules are designed to export only names that follow certain patterns when you use import *, it is still considered bad practice in production code.\n",
    "    \n",
    "only group things that logically belong together.. not just because you wrote them both.  \"utility\" packages break this principle"
   ]
  },
  {
   "cell_type": "code",
   "execution_count": null,
   "id": "b5a21f9a",
   "metadata": {},
   "outputs": [],
   "source": [
    "#Exercise\n",
    "\n",
    "Create a stats module"
   ]
  }
 ],
 "metadata": {
  "kernelspec": {
   "display_name": "Python 3 (ipykernel)",
   "language": "python",
   "name": "python3"
  },
  "language_info": {
   "codemirror_mode": {
    "name": "ipython",
    "version": 3
   },
   "file_extension": ".py",
   "mimetype": "text/x-python",
   "name": "python",
   "nbconvert_exporter": "python",
   "pygments_lexer": "ipython3",
   "version": "3.10.4"
  }
 },
 "nbformat": 4,
 "nbformat_minor": 5
}
