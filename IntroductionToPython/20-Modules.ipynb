{
 "cells": [
  {
   "cell_type": "markdown",
   "id": "ac0f08c8",
   "metadata": {},
   "source": [
    "# Modules\n",
    "With the exception of existing classes and functions that we have used, everything that we have written so far has been put within a single file.  Now, we will look at how to package our code into multiple files.\n",
    "\n",
    "Just as functions provided an abstractions for a series of steps that performed a task, a module creates an abstraction of a group of related variables(data), functions, and classes. Modules are key abstraction for reusing code and functionality.\n"
   ]
  },
  {
   "cell_type": "markdown",
   "id": "9554ee4a",
   "metadata": {},
   "source": [
    "## Using Modules\n",
    "To use a module, use the following statement\n",
    "<code>import <i>moduleName</i></code> where moduleName is the name of an existing Python file (but without the .py extension) or a directory."
   ]
  },
  {
   "cell_type": "code",
   "execution_count": 27,
   "id": "a95666b5",
   "metadata": {},
   "outputs": [
    {
     "data": {
      "text/plain": [
       "0.9774254733080276"
      ]
     },
     "execution_count": 27,
     "metadata": {},
     "output_type": "execute_result"
    }
   ],
   "source": [
    "import statistics\n",
    "\n",
    "statistics.stdev([10,5,12,3,6,4,11,4,8,5,6,7,8,6,5,6,7])"
   ]
  },
  {
   "cell_type": "markdown",
   "id": "acd5ac2d",
   "metadata": {},
   "source": [
    "You can also rename a module as you import it"
   ]
  },
  {
   "cell_type": "code",
   "execution_count": 28,
   "id": "34dc7b81",
   "metadata": {},
   "outputs": [
    {
     "data": {
      "text/plain": [
       "0.7733635779441584"
      ]
     },
     "execution_count": 28,
     "metadata": {},
     "output_type": "execute_result"
    }
   ],
   "source": [
    "import statistics as stat\n",
    "\n",
    "stat.stdev([10,5,12,3,6,4,11,4,8,5,6,7,8,6,5,6,7])"
   ]
  },
  {
   "cell_type": "markdown",
   "id": "e7010cdb",
   "metadata": {},
   "source": [
    "Why rename imported modules?\n",
    "- duplicate names\n",
    "- more mnemonic / following convention (Example: <code>import pandas as pd</code>\n",
    "- minimize typing\n",
    "\n",
    "You can also limit what you import from a module\n",
    "<code>from <i>moduleName</i> import <i>name</i></code>"
   ]
  },
  {
   "cell_type": "code",
   "execution_count": 29,
   "id": "d8019ae7",
   "metadata": {},
   "outputs": [
    {
     "data": {
      "text/plain": [
       "6.647058823529412"
      ]
     },
     "execution_count": 29,
     "metadata": {},
     "output_type": "execute_result"
    }
   ],
   "source": [
    "from statistics import mean\n",
    "\n",
    "mean([10,5,12,3,6,4,11,4,8,5,6,7,8,6,5,6,7])"
   ]
  },
  {
   "cell_type": "markdown",
   "id": "8164d4f4",
   "metadata": {},
   "source": [
    "To list all modules currently installed (including built-in modules):"
   ]
  },
  {
   "cell_type": "code",
   "execution_count": null,
   "id": "b8bfd98e",
   "metadata": {},
   "outputs": [],
   "source": [
    "help('modules')"
   ]
  },
  {
   "cell_type": "markdown",
   "id": "7d05680c",
   "metadata": {},
   "source": [
    "To see the help documentation for a specific module, pass it as a string to help"
   ]
  },
  {
   "cell_type": "code",
   "execution_count": null,
   "id": "d537eb5f",
   "metadata": {},
   "outputs": [],
   "source": [
    "help('numpy')"
   ]
  },
  {
   "cell_type": "markdown",
   "id": "0f53812c",
   "metadata": {},
   "source": [
    "## Packages \n",
    "Python allows modules to be organized by subdirectories into packages. The directory names form a hierarchy of names.\n",
    "\n",
    "Prior to Python 3.3, it was necessary to include a file named `__init__.py` in a directory for it to make it a Python package. Now if this file is present, it can contain initialization code.\n",
    "\n",
    "Typically, programmers do use the terms \"modules\" and \"packages\" interchangeably."
   ]
  },
  {
   "cell_type": "markdown",
   "id": "442dabfc",
   "metadata": {},
   "source": [
    "### Installing other modules\n",
    "The de facto way to install additional modules and packages is to use [pip](https://docs.python.org/3/installing/index.html). \n",
    "\n",
    "Technically you can use the 'pip' command to install packages: <pre>pip install <i>packageName</i></pre>.  However, the recommended approach is to use call the Python interpreter and use the module name as the command line argument:\n",
    "<pre>\n",
    "    python -m pip install <i>packageName</i>\n",
    "</pre>\n",
    "By using the `python` executable, we ensure the package is installed into an appropriate environment.\n",
    "\n",
    "Similarly for Jupyter Notebooks:\n",
    "<pre>\n",
    "    import sys\n",
    "    !{sys.executable} -m pip install <i>packageName</i>\n",
    "</pre>\n",
    "For notebooks, you may have seen\n",
    "<pre>!pip install <i>packageName</i></pre>\n",
    "However, this will install the pacakage into the environment from which Jupyter was started, not the current environment.\n",
    "\n",
    "You should ensure <code>setuptools</code> and <code>wheel</code> are installed when using pip.  <code>wheel</code> can install pre-built packages into your environment if compatible. <code>setuptools</code> helps to handle the installation of other packages from source code."
   ]
  },
  {
   "cell_type": "code",
   "execution_count": null,
   "id": "01a3b1d9",
   "metadata": {},
   "outputs": [],
   "source": [
    "import sys\n",
    "!{sys.executable} -m pip install setuptools wheel"
   ]
  },
  {
   "cell_type": "markdown",
   "id": "838ef17f",
   "metadata": {},
   "source": [
    "### Commonly Used Modules / Packages\n",
    "Packages that have a URL with \"python.org\" are part of the includes modules distributed with the language and do not need to be installed.  [Python Standard Library](https://docs.python.org/3/library/)\n",
    "\n",
    "Package Name | Description | Import | URL\n",
    ":-----------|:----|:---|:------\n",
    "datetime | Supplies classes to represent and manipulate date and times| dt|https://docs.python.org/3/library/datetime.html\n",
    "json | Exposes APIs to load, parse, and write [JSON Objects](https://datatracker.ietf.org/doc/html/rfc7159.html). | |https://docs.python.org/3/library/json.html\n",
    "math | Variety of math functions for floats and integers | | https://docs.python.org/3/library/math.html\n",
    "matplotlib|  Comprehensive visualization library | mpl | https://matplotlib.org\n",
    "numpy  | Foundational package for scientific computing.  Supports multidimensional arrays and matrices| np | https://numpy.org\n",
    "pandas | Data analysis and manipulation tool. Core library to perform data science in Python | pd| https://pandas.pydata.org\n",
    "os | Provides access to common operating system functions. | | https://docs.python.org/3/library/os.html\n",
    "random | Implements random number generation for various distributions | |https://docs.python.org/3/library/random.html\n",
    "scipy  | Contains algorithms for optimization, integration, interpolation, eigenvalue problems, algebraic equations, differential equations, statistics and many other classes of problems| | https://scipy.org \n",
    "seaborn | visualizaion library built on top of matplotlib that provides attractive and informative statistical graphics |sns | https://seaborn.pydata.org\n",
    "statistics | Provides functions to calculate common statistics || https://docs.python.org/3/library/statistics.html\n",
    "sys | Provides access to variables and functions used by the Python interpreter | |https://docs.python.org/3/library/sys.html\n",
    "unittest | Unit testing framework that supports test automation || https://docs.python.org/3/library/sys.html\n",
    "\n",
    "The \"Import\" column contains the standard rename value.\n",
    "\n",
    "To find modules and packages, Python searches directories in `sys.path` based upon their listed order."
   ]
  },
  {
   "cell_type": "code",
   "execution_count": null,
   "id": "046672de",
   "metadata": {},
   "outputs": [],
   "source": [
    "import sys\n",
    "print(sys.path)"
   ]
  },
  {
   "cell_type": "markdown",
   "id": "3042f3d1",
   "metadata": {},
   "source": [
    "## Developing and using our own modules\n",
    "\n",
    "\n",
    "At the very simplest level, modules are just a text file that contains python code. \n",
    "\n",
    "\n",
    "\n",
    "rewrite the following ....\n",
    "The __init__.py files are required to make Python treat directories containing the file as packages. This prevents directories with a common name, such as string, unintentionally hiding valid modules that occur later on the module search path. In the simplest case, __init__.py can just be an empty file, but it can also execute initialization code for the package \n",
    "\n",
    "\n",
    "\n",
    "len(dir(__builtins__))\n",
    "\n",
    "\n",
    "from math import pi\n",
    "len(dir(__builtins__))\n",
    "\n",
    "\n",
    "\n",
    "a package is a subdirectory that contains python packages.  \n",
    "\n",
    "module search path\n",
    "import sys\n",
    "for place in sys.path:\n",
    "    print(place)\n",
    "   \n",
    "sys.path.insert(position, \"/my/path\")   # note: supports both absolute and relative paths\n",
    "\n",
    "\n",
    "\n",
    "if __name__ == \"__main__\":\n",
    "    print (\"I am the main program\")\n",
    "else:\n",
    "    print (\"being imported\")\n",
    "    "
   ]
  },
  {
   "cell_type": "code",
   "execution_count": null,
   "id": "bd21cf68",
   "metadata": {},
   "outputs": [],
   "source": [
    "docstrings for modules"
   ]
  },
  {
   "cell_type": "code",
   "execution_count": null,
   "id": "191f9d44",
   "metadata": {},
   "outputs": [],
   "source": [
    "namespaces and modules"
   ]
  },
  {
   "cell_type": "markdown",
   "id": "4cc826eb",
   "metadata": {},
   "source": [
    "\n",
    "\n",
    "Python expects you to be a fully grown adult\n",
    "\n",
    ", everyhting I learned in kindergarten \n",
    "\n",
    "Share everything.  Play fair.  Don't hit people.  Put things back where you found them.  Clean up your own mess.  Don't take things that aren't yours.\n",
    "\n",
    "by Robert Fulghum \n",
    "\n",
    "import statistics\n",
    "\n",
    "def bad_programmer(l):\n",
    "    import random\n",
    "    return random.random()\n",
    "\n",
    "statistics.stdev = bad_programmer\n",
    "\n",
    "statistics.stdev([10,5,12,3,6,4,11,4,8,5,6,7,8,6,5,6,7])\n",
    "\n",
    "\n",
    "There's only one copy of any module imported by your program, even if yo import it more thatn once.\n",
    "For better or worse, cna store global things ..   anything that imports the module can see it.\n",
    "\n",
    "\n",
    "\n",
    "\n"
   ]
  },
  {
   "cell_type": "code",
   "execution_count": null,
   "id": "113c69d3",
   "metadata": {},
   "outputs": [],
   "source": [
    "python's battaries included..  list standard modules that are useful\n",
    "\n"
   ]
  },
  {
   "cell_type": "code",
   "execution_count": null,
   "id": "0ef9ee91",
   "metadata": {},
   "outputs": [],
   "source": [
    "preparing a module/package for distibution\n",
    "setup.py, metata, build distibution file"
   ]
  },
  {
   "cell_type": "markdown",
   "id": "fb719184",
   "metadata": {},
   "source": [
    "best practice:\n",
    "    Although certain modules are designed to export only names that follow certain patterns when you use import *, it is still considered bad practice in production code.\n",
    "    \n",
    "only group things that logically belong together.. not just because you wrote them both.  \"utility\" packages break this principle"
   ]
  },
  {
   "cell_type": "code",
   "execution_count": null,
   "id": "9ff94e68",
   "metadata": {},
   "outputs": [],
   "source": [
    "## Packages\n",
    "\n",
    "pip install / githubs\n",
    "\n",
    "\n",
    "import sys\n",
    "!{sys.executable} -m pip install -r ../requirements.txt\n",
    "\n"
   ]
  },
  {
   "cell_type": "code",
   "execution_count": null,
   "id": "b5a21f9a",
   "metadata": {},
   "outputs": [],
   "source": [
    "#Exercise\n",
    "\n",
    "Create a stats module"
   ]
  },
  {
   "cell_type": "code",
   "execution_count": null,
   "id": "e05363e9",
   "metadata": {},
   "outputs": [],
   "source": [
    "import sys\n",
    "!{sys.executable} -m pip freeze    /list"
   ]
  },
  {
   "cell_type": "code",
   "execution_count": null,
   "id": "3a7003f8",
   "metadata": {},
   "outputs": [],
   "source": []
  },
  {
   "cell_type": "code",
   "execution_count": null,
   "id": "7eebe227",
   "metadata": {},
   "outputs": [],
   "source": [
    "import sys\n",
    "!{sys.executable} -m pydoc modules"
   ]
  },
  {
   "cell_type": "code",
   "execution_count": null,
   "id": "f47cb632",
   "metadata": {},
   "outputs": [],
   "source": [
    "help(\"sklearn\")"
   ]
  },
  {
   "cell_type": "code",
   "execution_count": null,
   "id": "67fb1aec",
   "metadata": {},
   "outputs": [],
   "source": []
  }
 ],
 "metadata": {
  "kernelspec": {
   "display_name": "Python 3 (ipykernel)",
   "language": "python",
   "name": "python3"
  },
  "language_info": {
   "codemirror_mode": {
    "name": "ipython",
    "version": 3
   },
   "file_extension": ".py",
   "mimetype": "text/x-python",
   "name": "python",
   "nbconvert_exporter": "python",
   "pygments_lexer": "ipython3",
   "version": "3.10.4"
  }
 },
 "nbformat": 4,
 "nbformat_minor": 5
}
