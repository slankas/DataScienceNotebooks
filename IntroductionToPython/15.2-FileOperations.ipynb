{
 "cells": [
  {
   "cell_type": "markdown",
   "id": "a59b416e",
   "metadata": {},
   "source": [
    "<div class=\"pagebreak\"></div>\n",
    "\n",
    "# File Operations\n",
    "\n",
    "Pythonʼs view of files and directories derives from the Unix/Linux operating system variants.  [Overview of the Unix File System](https://web.archive.org/web/20210419161551/https://homepages.uc.edu/~thomam/Intro_Unix_Text/File_System.html)<br>\n",
    "(You should know the material on the \"Overview of the Unix File System\" page.)\n",
    "\n",
    "Python's [os](https://docs.python.org/3/library/os.html) module provides support for file operations and interacting with the operating system.\n",
    "\n",
    "Python's functionality largely mirrors that as provided by various command-line programs and the underlying standard C libraries upon which Python is implemented.\n"
   ]
  },
  {
   "cell_type": "markdown",
   "id": "f8b1594f",
   "metadata": {},
   "source": [
    "## Existence\n",
    "To see whether or not a given file or directory exists, call `os.path.exists()` with the name as the argument."
   ]
  },
  {
   "cell_type": "code",
   "execution_count": 2,
   "id": "293ba1a1",
   "metadata": {},
   "outputs": [
    {
     "name": "stdout",
     "output_type": "stream",
     "text": [
      "test_binary.dat False\n",
      "binary.dat False\n",
      ". True\n",
      ".. True\n"
     ]
    }
   ],
   "source": [
    "import os\n",
    "print(\"test_binary.dat\",os.path.exists(\"test_binary.dat\"))\n",
    "print(\"binary.dat\",os.path.exists(\"binary.dat\"))\n",
    "print(\".\",os.path.exists(\".\"))        # current directory\n",
    "print(\"..\",os.path.exists(\"..\"))      # parent directory"
   ]
  },
  {
   "cell_type": "markdown",
   "id": "0a5f5f9f",
   "metadata": {},
   "source": [
    "## Checking Filetype\n",
    "Use `os.path.isfile()` to return a Boolean on whether or the argument is a file.\n",
    "\n",
    "Use `os.path.isdir()` to return a Boolean on whether or the argument is a directory."
   ]
  },
  {
   "cell_type": "code",
   "execution_count": null,
   "id": "da3861df",
   "metadata": {},
   "outputs": [],
   "source": [
    "print(\"isfile: test_binary.dat\", os.path.isfile(\"test_binary.dat\"))\n",
    "print(\"isdir: test_binary.dat\", os.path.isdir(\"test_binary.dat\"))"
   ]
  },
  {
   "cell_type": "markdown",
   "id": "b0ef70d4",
   "metadata": {},
   "source": [
    "## Deleting Files\n",
    "To delete a file, use `os.remove()`."
   ]
  },
  {
   "cell_type": "code",
   "execution_count": 1,
   "id": "1f0f889c",
   "metadata": {},
   "outputs": [
    {
     "ename": "NameError",
     "evalue": "name 'os' is not defined",
     "output_type": "error",
     "traceback": [
      "\u001b[0;31m---------------------------------------------------------------------------\u001b[0m",
      "\u001b[0;31mNameError\u001b[0m                                 Traceback (most recent call last)",
      "Input \u001b[0;32mIn [1]\u001b[0m, in \u001b[0;36m<cell line: 1>\u001b[0;34m()\u001b[0m\n\u001b[0;32m----> 1\u001b[0m \u001b[43mos\u001b[49m\u001b[38;5;241m.\u001b[39mremove(\u001b[38;5;124m\"\u001b[39m\u001b[38;5;124mtest_binary.dat\u001b[39m\u001b[38;5;124m\"\u001b[39m)\n\u001b[1;32m      2\u001b[0m os\u001b[38;5;241m.\u001b[39mpath\u001b[38;5;241m.\u001b[39mexists(\u001b[38;5;124m\"\u001b[39m\u001b[38;5;124mtest_binary.dat\u001b[39m\u001b[38;5;124m\"\u001b[39m)\n",
      "\u001b[0;31mNameError\u001b[0m: name 'os' is not defined"
     ]
    }
   ],
   "source": [
    "os.remove(\"test_binary.dat\")\n",
    "os.path.exists(\"test_binary.dat\")   #verify that file was removed"
   ]
  },
  {
   "cell_type": "markdown",
   "id": "022de68a",
   "metadata": {},
   "source": [
    "## File Information: stat\n",
    "To get details (Unix/Linux calls \"status\"), call `os.stat()`.  This returns an object with various fields to represent the permissions on the file, the file's type, size, owner, group, and various timestamps. \n",
    "\n",
    "[stat documentation](https://docs.python.org/3/library/os.html#os.stat)"
   ]
  },
  {
   "cell_type": "code",
   "execution_count": 3,
   "id": "d1cda02e",
   "metadata": {},
   "outputs": [
    {
     "name": "stdout",
     "output_type": "stream",
     "text": [
      "os.stat_result(st_mode=16895, st_ino=112871465660973341, st_dev=44, st_nlink=1, st_uid=1000, st_gid=1000, st_size=4096, st_atime=1657207179, st_mtime=1657207179, st_ctime=1657207179)\n"
     ]
    }
   ],
   "source": [
    "stat_obj = os.stat('.')\n",
    "print(stat_obj)"
   ]
  },
  {
   "cell_type": "markdown",
   "id": "649eefe7",
   "metadata": {},
   "source": [
    "Initially, that result looks very esoteric, but once we break down a few of the fields, it makes more sense.\n",
    "\n",
    "The `st_mode` contains the file type and permissions associated with the file.  Using `ls -l`, we see this data represented with a string that looks like '-rwxr-xr-x'.  This first character specifies the type: '-' for files and 'd' for directories.  The next nine characters represent the user, group, and world permissions in terms of read, write, and execute.  Typically, st_mode makes more sense in its octal representation."
   ]
  },
  {
   "cell_type": "code",
   "execution_count": 4,
   "id": "c1d63006",
   "metadata": {},
   "outputs": [
    {
     "name": "stdout",
     "output_type": "stream",
     "text": [
      "0o40777\n"
     ]
    }
   ],
   "source": [
    "print(oct(stat_obj.st_mode))"
   ]
  },
  {
   "cell_type": "markdown",
   "id": "2df4e38c",
   "metadata": {},
   "source": [
    "The first number represents the file type.  You will see 40 for a directory and 100 for a file.  The last three numbers correspond to the owner, group, and world permissions using a bit representation for read, write, and execute. For example, 111 in binary equals 7 in octal - so read, write, and execute permssions are set for that group.  101 = 5 in octal, so only read and execute permissions are set.  100 = 4 in octal, so only read.\n",
    "\n",
    "For more explanation, see the \"Understanding and Modifying File Permissions\" section of [Overview of the Unix File System](https://web.archive.org/web/20210419161551/https://homepages.uc.edu/~thomam/Intro_Unix_Text/File_System.html).\n",
    "\n",
    "st_size is the number of bytes to contain the file's contents.\n",
    "\n",
    "st_atime, st_mtime, and st_ctime represent when the file was last accessed, modified, and created.  The times are specified in seconds. To convert to a date and time, they present the number of seconds since the Unix epoch, which is midnight on January 1st, 1970.  While this fact seems  esoteric, this is a ubiquitous representation of dates and times.  Fortunately, as with other languages, Python provides APIs to perform the necessary conversion into a datetime object."
   ]
  },
  {
   "cell_type": "code",
   "execution_count": 8,
   "id": "8d028e43",
   "metadata": {},
   "outputs": [
    {
     "name": "stdout",
     "output_type": "stream",
     "text": [
      "2022-07-07T15:19:39.897603+00:00\n"
     ]
    }
   ],
   "source": [
    "import datetime\n",
    "accessed_dt = datetime.datetime.utcfromtimestamp(stat_obj.st_atime).replace(tzinfo=datetime.timezone.utc)\n",
    "print(accessed_dt.isoformat())"
   ]
  },
  {
   "cell_type": "markdown",
   "id": "930fb9e5",
   "metadata": {},
   "source": [
    "## Directory Operations\n",
    "As with files, Python supports various directory operations."
   ]
  },
  {
   "cell_type": "markdown",
   "id": "a7aa62cc",
   "metadata": {},
   "source": [
    "### Create Directory\n",
    "Use `os.mkdir()` to create a new directory "
   ]
  },
  {
   "cell_type": "code",
   "execution_count": null,
   "id": "655ecf20",
   "metadata": {},
   "outputs": [],
   "source": [
    "os.mkdir('newDir')"
   ]
  },
  {
   "cell_type": "markdown",
   "id": "4c76e051",
   "metadata": {},
   "source": [
    "### List Directory Contents\n",
    "Use `os.listdir()` list the contents of a directory.  This method returns a list of file names (strings) within that directory."
   ]
  },
  {
   "cell_type": "code",
   "execution_count": null,
   "id": "6ff6dec4",
   "metadata": {},
   "outputs": [],
   "source": [
    "os.listdir('newDir')"
   ]
  },
  {
   "cell_type": "code",
   "execution_count": null,
   "id": "51c165ed",
   "metadata": {},
   "outputs": [],
   "source": [
    "os.listdir('.')"
   ]
  },
  {
   "cell_type": "code",
   "execution_count": null,
   "id": "e21b73f0",
   "metadata": {},
   "outputs": [],
   "source": [
    "# now, make a subdirectory in newDir\n",
    "os.mkdir('newDir/newSubDir')\n",
    "os.listdir('newDir')"
   ]
  },
  {
   "cell_type": "code",
   "execution_count": null,
   "id": "159f7b93",
   "metadata": {},
   "outputs": [],
   "source": [
    "with open(\"newDir/newSubDir/dickens.txt\", 'w') as f:\n",
    "    f.write('It was the best of times,\\n, it was the worst of times.\\n')"
   ]
  },
  {
   "cell_type": "code",
   "execution_count": null,
   "id": "6e4fde8c",
   "metadata": {},
   "outputs": [],
   "source": [
    "os.listdir('newDir/newSubDir')"
   ]
  },
  {
   "cell_type": "markdown",
   "id": "151430c8",
   "metadata": {},
   "source": [
    "### Delete Directory\n",
    "To delete a directory, use `os.rmdir()`.  However, the directory must be empty to be deleted – it cannot contain any other files or directories.  You cannot use `os.remove()` to delete a directory, only a file."
   ]
  },
  {
   "cell_type": "code",
   "execution_count": null,
   "id": "5bac0a8b",
   "metadata": {},
   "outputs": [],
   "source": [
    "# this will cause an error as remove can't be used on directory\n",
    "os.remove('newDir/newSubDir')"
   ]
  },
  {
   "cell_type": "code",
   "execution_count": null,
   "id": "ba973db5",
   "metadata": {},
   "outputs": [],
   "source": [
    "# this will cause an error as the directory is not empty\n",
    "os.rmdir('newDir/newSubDir')"
   ]
  },
  {
   "cell_type": "markdown",
   "id": "b91d921c",
   "metadata": {},
   "source": [
    "Fix the following code block to delete the text file created above first."
   ]
  },
  {
   "cell_type": "code",
   "execution_count": null,
   "id": "1132ef06",
   "metadata": {},
   "outputs": [],
   "source": [
    "# add a method call here\n",
    "\n",
    "# the following two lines of code are correct\n",
    "os.rmdir('newDir/newSubDir')\n",
    "os.path.exists('newDir/newSub')"
   ]
  },
  {
   "cell_type": "markdown",
   "id": "da403b73",
   "metadata": {},
   "source": [
    "### Change the Current Working Directory\n",
    "Use `os.chdir()` to change the current working directory."
   ]
  },
  {
   "cell_type": "code",
   "execution_count": null,
   "id": "d0c2e967",
   "metadata": {},
   "outputs": [],
   "source": [
    "os.chdir('newDir')"
   ]
  },
  {
   "cell_type": "markdown",
   "id": "c5916c35",
   "metadata": {},
   "source": [
    "Now, enter the method call to list the contents of the current directory"
   ]
  },
  {
   "cell_type": "code",
   "execution_count": null,
   "id": "3d3f7824",
   "metadata": {},
   "outputs": [],
   "source": []
  },
  {
   "cell_type": "markdown",
   "id": "fbe9a3df",
   "metadata": {},
   "source": [
    "For other file and directory operations, look at the [os](https://docs.python.org/3/library/os.html#module-os) module."
   ]
  },
  {
   "cell_type": "code",
   "execution_count": null,
   "id": "463cda19",
   "metadata": {},
   "outputs": [],
   "source": [
    "os.chdir('..')  # move the current directory back to our starting point"
   ]
  },
  {
   "cell_type": "markdown",
   "id": "a091ca77",
   "metadata": {},
   "source": [
    "## Pathnames\n",
    "Most computers use a hierarchical file system. As such, we have a current working directory based on our current shell session. Other times, a setting when an executable starts can establish the working directory. At the command line within the shell session), you can print the working directory with `pwd`.  With Python, we get the current working directory with "
   ]
  },
  {
   "cell_type": "code",
   "execution_count": null,
   "id": "de10f850",
   "metadata": {},
   "outputs": [],
   "source": [
    "os.getcwd()"
   ]
  },
  {
   "cell_type": "markdown",
   "id": "54378660",
   "metadata": {},
   "source": [
    "Within Jupyter Notebooks, we can also call out to the operating system:"
   ]
  },
  {
   "cell_type": "code",
   "execution_count": null,
   "id": "8c33d7bf",
   "metadata": {},
   "outputs": [],
   "source": [
    "!pwd"
   ]
  },
  {
   "cell_type": "markdown",
   "id": "c22a83c6",
   "metadata": {},
   "source": [
    "Throughout this notebook (and in most file/directory operation commands), we pass a directory name or file name as arguments into the various function calls. As we specify those names, we can  either specify *absolute* or *relative* pathnames.  *Absolute* pathnames start from the root (top) directory - these pathnames start with a `/`. *Relative* pathnames start from the current directory.  As demonstrated in this notebook's first code block, `.` refers to the current directory, and `..` refers to its parents.  \n",
    "\n",
    "To separate directories, most systems use a forward slash `/`. The exception is Windows, which uses a backward slash `\\`.  The reasoning dates back to the early days of MS-DOS in the 1980s.  The '/' was used to specify command line arguments, whereas Unix typically uses a dash `-`.  Windows is slowly migrating away from the `\\`.  Within PowerShell, you can specify names with a `/`, PowerShell converts it automatically to `\\`. Powershell uses `-` to specify arguments. This migration demonstrates how difficult it is to overcome an implemented decision."
   ]
  },
  {
   "cell_type": "markdown",
   "id": "15c84899",
   "metadata": {},
   "source": [
    "### Finding Absolute Pathnames\n",
    "From a relative pathname, we can determine the absolute pathname with `os.path.abspath()`"
   ]
  },
  {
   "cell_type": "code",
   "execution_count": null,
   "id": "43fddc93",
   "metadata": {},
   "outputs": [],
   "source": [
    "os.path.abspath('.')"
   ]
  },
  {
   "cell_type": "markdown",
   "id": "c54cbbae",
   "metadata": {},
   "source": [
    "### Creating Pathnames\n",
    "We can build a pathname from several parts(i.e., strings) by using `os.path.join()`.  This function combines names with the proper path separation character for the current operating system."
   ]
  },
  {
   "cell_type": "code",
   "execution_count": null,
   "id": "0d7c0080",
   "metadata": {},
   "outputs": [],
   "source": [
    "os.path.join('stuff','foo','bar.txt')"
   ]
  },
  {
   "cell_type": "markdown",
   "id": "77c04267",
   "metadata": {},
   "source": [
    "## Pathlib\n",
    "In Python 3.4, the language developers added the `pathlib` module.  This module provides an alternative to the `os` module presented in this notebook.\n",
    "\n",
    "The `pathlib` module introduced a `Path` class to treat files and directories as objects with methods we call from that object rather than strings and calling functions under `os`.  \n",
    "\n",
    "[Further details](https://docs.python.org/3/library/pathlib.html)  The very bottom of that page shows the correspondence between the two approaches."
   ]
  },
  {
   "cell_type": "markdown",
   "id": "02949aa6",
   "metadata": {},
   "source": [
    "## Exercise\n",
    "For the current working directory, print each of the files on a separate line.  Each line should start with the file size in bytes, followed by a tab character, and then the file's name. Do not display subdirectories. Sort this output by the file name. After all of the lines have been, print a blank line and then this line: \n",
    "<pre>\n",
    "Directory size: XXXX\n",
    "</pre>\n",
    "where XXX is the total of all the file sizes (excluding subdirectories). \n"
   ]
  }
 ],
 "metadata": {
  "kernelspec": {
   "display_name": "Python 3 (ipykernel)",
   "language": "python",
   "name": "python3"
  },
  "language_info": {
   "codemirror_mode": {
    "name": "ipython",
    "version": 3
   },
   "file_extension": ".py",
   "mimetype": "text/x-python",
   "name": "python",
   "nbconvert_exporter": "python",
   "pygments_lexer": "ipython3",
   "version": "3.10.4"
  }
 },
 "nbformat": 4,
 "nbformat_minor": 5
}
