{
 "cells": [
  {
   "cell_type": "markdown",
   "id": "c8f5e05a-c8c4-4d1e-986b-66f5ac12caad",
   "metadata": {},
   "source": [
    "<div class=\"pagebreak\"></div>\n",
    "\n",
    "# Preliminaries\n",
    "\n",
    "Congratulations on reaching this point where you can now view, edit and run [Jupyter Notebooks](https://jupyter.org/) within Jupyter Lab.\n",
    "\n",
    "The course uses Jupyter notebooks for lectures, code demonstrations, and exercises.  You should run these notebooks yourself. Do not be afraid to make changes, try different code snippets than what is provided, and experiment.\n",
    "\n",
    "The Jupyter environment follows a very familiar [user interface](https://en.wikipedia.org/wiki/WIMP_(computing)) pattern - the main difference is the ability to execute code within the different cells.  Jupyter notebooks are composed of a sequence of cells.  Each of those cells can either be programming code or [markdown](https://en.wikipedia.org/wiki/Markdown).  You will need to execute all of the code cells - primarily in order, but you can modify and repeat running cells.  With the markdown cells, we will provide content (e.g., this cell), instructions, or exercises to perform. \n",
    "\n",
    "A particular cell can be in one of two modes:\n",
    "1. Command\n",
    "2. Edit\n",
    "\n",
    "In either of these modes:\n",
    " * <span class=\"keys\"><kbd class=\"key-shift\">Shift</kbd><span>+</span><kbd class=\"key-enter\">Enter</kbd></span>  Run the current cell and select the cell below \n",
    " * <span class=\"keys\"><kbd class=\"key-alt\">Alt</kbd><span>+</span><kbd class=\"key-enter\">Enter</kbd></span>  Run the current cell and insert a cell below \n",
    " * <span class=\"keys\"><kbd class=\"key-shift\">Ctrl</kbd><span>+</span><kbd class=\"key-s\">s</kbd></span> Saves the current notebook  (<span class=\"keys\"><kbd class=\"key-shift\">Command(⌘)</kbd><span>+</span><kbd class=\"key-s\">s</kbd></span> on a Mac)\n",
    "\n",
    "In the command mode:\n",
    "* To see all shortcuts, type <kbd class=\"key-h\">H</kbd>\n",
    "* Switch to the edit mode by clicking the mouse on the cell or typing <kbd class=\"key-enter\">Enter</kbd>\n",
    "* Use the up and down arrow keys to move among the cells\n",
    "* Press <kbd class=\"key-a\">a</kbd> to insert a cell above the current one\n",
    "* Press <kbd class=\"key-b\">b</kbd> to insert a cell below the current one\n",
    "* To change the cell's type to markdown, press <kbd class=\"key-m\">m</kbd>\n",
    "* To change the cell's type to code, press <kbd class=\"key-y\">y</kbd>\n",
    "\n",
    "In the edit mode:\n",
    "* Press <kbd class=\"key-esc\">Esc</kbd> to go into the command mode\n",
    "* Press <kbd class=\"key-tab\">Tab</kbd> for code completion or indent"
   ]
  },
  {
   "cell_type": "markdown",
   "id": "41ca9643-f1a3-42d9-ad8e-b1e83b80da38",
   "metadata": {},
   "source": [
    "Displaying Line Numbers:<br>\n",
    "Jupyter can display line numbers by default.\n",
    "\n",
    "For JupyterLab,  from the \"Settings\" menu, select \"Advanced Settings Editor\". Next, select \"Notebook\" from along the left-hand side. Then click \"Show Line Numbers\".\n",
    "\n",
    "![](images/lineNumbers.png)\n",
    "<p>\n",
    "For \"classic\" Jupyter, select the \"View\" menu and then \"Toggle Line Numbers\".   \n",
    "<p>\n",
    "If you execute notebooks within VS Code, press <span class=\"keys\"><kbd class=\"key-shift\">Shift</kbd><span>+</span><kbd class=\"key-l\">l</kbd></span> while in command mode.  You can also press the Settings icon (the gear) in the upper right-hand corner and then \"Show Notebook Line Numbers\"."
   ]
  },
  {
   "cell_type": "markdown",
   "id": "6df4ba82",
   "metadata": {},
   "source": [
    "## Install Dependencies\n",
    "To ensure your Python environment has the required dependencies installed for these notebooks, execute the following cell."
   ]
  },
  {
   "cell_type": "code",
   "execution_count": null,
   "id": "1cadd1e9-913a-4a16-ada0-bb82637deea2",
   "metadata": {},
   "outputs": [],
   "source": [
    "import sys\n",
    "!{sys.executable} -m pip install --upgrade pip setuptools wheel\n",
    "!{sys.executable} -m pip install -r ../requirements.txt"
   ]
  },
  {
   "cell_type": "markdown",
   "id": "d6e6c4a9",
   "metadata": {},
   "source": [
    "The last cell's output depends upon whether you already have various modules installed.  \n",
    "\n",
    "The first line allows the script(program) utilize the `sys` module, which provides access to various parameters and settings used by the python interpreter.\n",
    "\n",
    "The second line ensures that the Python environment has the latest versions of the Python package manager(`pip`) and associated tools.\n",
    "\n",
    "The third line uses the current Python interpreter for the specific environment in which this Jupyter notebook executes.  The line then uses the `pip` module to install the latest version of the packages listed in the requirements.txt file.  (Programmers can also run `pip` as a command-line program.)  `pip` will install any dependencies required by those packages - so the output contains references to pandas, beautifulsoup4, soupsieve, and other libraries.\n",
    "\n",
    "For those familiar with Python, you may ask why not just execute `!pip install google`.  The short answer is that if the Python interpreter runs within a different virtual environment than the Jupyter server, pip will install the dependency in the wrong location. For more information, Jake VanderPlas describes this on [his blog in much greater detail](https://jakevdp.github.io/blog/2017/12/05/installing-python-packages-from-jupyter/). In addition,\n",
    "Jake VanderPlas has written an excellent book - _Python Data Science Handbook, 2nd Ed_ [O'Reilly](https://jakevdp.github.io/blog/2017/12/05/installing-python-packages-from-jupyter/) [Amazon](https://www.amazon.com/Python-Data-Science-Handbook-Essential-ebook/dp/B01N2JT3ST), which you may want to examine.\n",
    "\n",
    "As alternates for the pip install, either of these alternatives should work as well:\n",
    "\n",
    "`%pip install -r ../requirements.txt`\n",
    "\n",
    "`pip install -r ../requirements.txt`"
   ]
  },
  {
   "cell_type": "markdown",
   "id": "c630ca36-dc21-440b-b34c-dfc236d8037e",
   "metadata": {},
   "source": [
    "## Notebook Conventions\n",
    "For each notebook, run the code cells from top to bottom.\n",
    "\n",
    "We did design some of the notebook cells to cause errors when executed. Sometimes, these errors just display specific output for your awareness. Other times you should make corrections until the code runs correctly.  Some cells are blank for you to enter code.  \n",
    "\n",
    "Hyperlinks exist to outside resources throughout these notebooks. Unless explicitly mentioned, these links provide background information and are not essential.\n",
    "\n",
    "The terms Python and the Python Interpreter are used interchangeably."
   ]
  },
  {
   "cell_type": "markdown",
   "id": "926c8d9c",
   "metadata": {},
   "source": [
    "*Time to start learning Python ...* "
   ]
  }
 ],
 "metadata": {
  "kernelspec": {
   "display_name": "Python 3 (ipykernel)",
   "language": "python",
   "name": "python3"
  },
  "language_info": {
   "codemirror_mode": {
    "name": "ipython",
    "version": 3
   },
   "file_extension": ".py",
   "mimetype": "text/x-python",
   "name": "python",
   "nbconvert_exporter": "python",
   "pygments_lexer": "ipython3",
   "version": "3.10.4"
  }
 },
 "nbformat": 4,
 "nbformat_minor": 5
}
