{
 "cells": [
  {
   "cell_type": "markdown",
   "id": "451c809e",
   "metadata": {},
   "source": [
    "# Introduction\n",
    "\n",
    "Congratulations on making it to this point where you can now view, edit and run [Jupyter Notebooks](https://jupyter.org/).\n",
    "\n",
    "We'll use Jupyter Notebooks for lectures, code demonstrations, and exercises.  You should run these notebooks yourself. Don't be afraid to make changes, try different code snippets than what's provided, and experiment.\n",
    "\n",
    "The Jupyter environment follows a very familiar [user interface](https://en.wikipedia.org/wiki/WIMP_(computing)) pattern - the main difference is the ability to execute code within the different cells.  As you scroll through this notebook, you'll see that is composed of a particular sequence of cells.  Each of those cells, can either be code or [markdown](https://en.wikipedia.org/wiki/Markdown).  You will need to execute all of the code cells - primarily in order, but you can modify and repeat running cells.  With the markdown cells, we will provide content (e.g., this cell) or provide instructions or exercises to perform. \n",
    "\n",
    "A particular cell can be in one of two modes:\n",
    "1. Command - will have a blue border around the active/current cell.\n",
    "2. Edit - in this mode, you can change the content of the cells.  A green border is present.\n",
    "\n",
    "In either of these modes:\n",
    " * <span class=\"keys\"><kbd class=\"key-shift\">Shift</kbd><span>+</span><kbd class=\"key-enter\">Enter</kbd></span>  Run the current cell, and select the cell below \n",
    " * <span class=\"keys\"><kbd class=\"key-alt\">Alt</kbd><span>+</span><kbd class=\"key-enter\">Enter</kbd></span>  Run the current cell, and insert a cell below \n",
    " * <span class=\"keys\"><kbd class=\"key-shift\">Ctrl</kbd><span>+</span><kbd class=\"key-s\">s</kbd></span> Saves the current notebook  (<span class=\"keys\"><kbd class=\"key-shift\">Command(⌘)</kbd><span>+</span><kbd class=\"key-s\">s</kbd></span> on a Mac)\n",
    "\n",
    "In the command mode:\n",
    "* To see all shortcuts, type <kbd class=\"key-h\">H</kbd>\n",
    "* Switch to the edit mode by click the mouse on the cell or typing <kbd class=\"key-enter\">Enter</kbd>\n",
    "* Use the up and down arrow keys to move among the cells\n",
    "* Press <kbd class=\"key-a\">a</kbd> to insert a cell above the current one\n",
    "* Press <kbd class=\"key-b\">b</kbd> to insert a cell below the current one\n",
    "* To change the cell type to markdown, press <kbd class=\"key-m\">m</kbd>\n",
    "* To change the cell type to code, press <kbd class=\"key-y\">y</kbd>\n",
    "\n",
    "In the edit mode:\n",
    "* Press <kbd class=\"key-esc\">Esc</kbd> to go into the command mode\n",
    "* Press <kbd class=\"key-tab\">Tab</kbd> for code completion or indent\n"
   ]
  },
  {
   "cell_type": "markdown",
   "id": "6df4ba82",
   "metadata": {},
   "source": [
    "## Install Dependencies\n",
    "To ensure that all of the requires dependencies are installed for these notebooks, execute the following cell.\n"
   ]
  },
  {
   "cell_type": "code",
   "execution_count": 1,
   "id": "1cadd1e9-913a-4a16-ada0-bb82637deea2",
   "metadata": {
    "collapsed": true
   },
   "outputs": [
    {
     "name": "stdout",
     "output_type": "stream",
     "text": [
      "Requirement already satisfied: seaborn in /Users/jbslanka/classenv/lib/python3.10/site-packages (from -r ../requirements.txt (line 1)) (0.11.2)\n",
      "Collecting google\n",
      "  Downloading google-3.0.0-py2.py3-none-any.whl (45 kB)\n",
      "\u001b[2K     \u001b[90m━━━━━━━━━━━━━━━━━━━━━━━━━━━━━━━━━━━━━━━\u001b[0m \u001b[32m45.3/45.3 kB\u001b[0m \u001b[31m877.7 kB/s\u001b[0m eta \u001b[36m0:00:00\u001b[0m \u001b[36m0:00:01\u001b[0m\n",
      "\u001b[?25hCollecting scikit-learn\n",
      "  Downloading scikit_learn-1.1.1-cp310-cp310-macosx_12_0_arm64.whl (7.7 MB)\n",
      "\u001b[2K     \u001b[90m━━━━━━━━━━━━━━━━━━━━━━━━━━━━━━━━━━━━━━━━\u001b[0m \u001b[32m7.7/7.7 MB\u001b[0m \u001b[31m17.3 MB/s\u001b[0m eta \u001b[36m0:00:00\u001b[0m00:01\u001b[0m00:01\u001b[0m\n",
      "\u001b[?25hRequirement already satisfied: pandas>=0.23 in /Users/jbslanka/classenv/lib/python3.10/site-packages (from seaborn->-r ../requirements.txt (line 1)) (1.4.2)\n",
      "Requirement already satisfied: numpy>=1.15 in /Users/jbslanka/classenv/lib/python3.10/site-packages (from seaborn->-r ../requirements.txt (line 1)) (1.22.4)\n",
      "Requirement already satisfied: matplotlib>=2.2 in /Users/jbslanka/classenv/lib/python3.10/site-packages (from seaborn->-r ../requirements.txt (line 1)) (3.5.2)\n",
      "Requirement already satisfied: scipy>=1.0 in /Users/jbslanka/classenv/lib/python3.10/site-packages (from seaborn->-r ../requirements.txt (line 1)) (1.8.1)\n",
      "Requirement already satisfied: beautifulsoup4 in /Users/jbslanka/classenv/lib/python3.10/site-packages (from google->-r ../requirements.txt (line 2)) (4.11.1)\n",
      "Collecting threadpoolctl>=2.0.0\n",
      "  Downloading threadpoolctl-3.1.0-py3-none-any.whl (14 kB)\n",
      "Collecting joblib>=1.0.0\n",
      "  Downloading joblib-1.1.0-py2.py3-none-any.whl (306 kB)\n",
      "\u001b[2K     \u001b[90m━━━━━━━━━━━━━━━━━━━━━━━━━━━━━━━━━━━━━━\u001b[0m \u001b[32m307.0/307.0 kB\u001b[0m \u001b[31m10.3 MB/s\u001b[0m eta \u001b[36m0:00:00\u001b[0m\n",
      "\u001b[?25hRequirement already satisfied: kiwisolver>=1.0.1 in /Users/jbslanka/classenv/lib/python3.10/site-packages (from matplotlib>=2.2->seaborn->-r ../requirements.txt (line 1)) (1.4.2)\n",
      "Requirement already satisfied: fonttools>=4.22.0 in /Users/jbslanka/classenv/lib/python3.10/site-packages (from matplotlib>=2.2->seaborn->-r ../requirements.txt (line 1)) (4.33.3)\n",
      "Requirement already satisfied: python-dateutil>=2.7 in /Users/jbslanka/classenv/lib/python3.10/site-packages (from matplotlib>=2.2->seaborn->-r ../requirements.txt (line 1)) (2.8.2)\n",
      "Requirement already satisfied: packaging>=20.0 in /Users/jbslanka/classenv/lib/python3.10/site-packages (from matplotlib>=2.2->seaborn->-r ../requirements.txt (line 1)) (21.3)\n",
      "Requirement already satisfied: pillow>=6.2.0 in /Users/jbslanka/classenv/lib/python3.10/site-packages (from matplotlib>=2.2->seaborn->-r ../requirements.txt (line 1)) (9.1.1)\n",
      "Requirement already satisfied: cycler>=0.10 in /Users/jbslanka/classenv/lib/python3.10/site-packages (from matplotlib>=2.2->seaborn->-r ../requirements.txt (line 1)) (0.11.0)\n",
      "Requirement already satisfied: pyparsing>=2.2.1 in /Users/jbslanka/classenv/lib/python3.10/site-packages (from matplotlib>=2.2->seaborn->-r ../requirements.txt (line 1)) (3.0.9)\n",
      "Requirement already satisfied: pytz>=2020.1 in /Users/jbslanka/classenv/lib/python3.10/site-packages (from pandas>=0.23->seaborn->-r ../requirements.txt (line 1)) (2022.1)\n",
      "Requirement already satisfied: soupsieve>1.2 in /Users/jbslanka/classenv/lib/python3.10/site-packages (from beautifulsoup4->google->-r ../requirements.txt (line 2)) (2.3.2.post1)\n",
      "Requirement already satisfied: six>=1.5 in /Users/jbslanka/classenv/lib/python3.10/site-packages (from python-dateutil>=2.7->matplotlib>=2.2->seaborn->-r ../requirements.txt (line 1)) (1.16.0)\n",
      "Installing collected packages: threadpoolctl, joblib, scikit-learn, google\n",
      "Successfully installed google-3.0.0 joblib-1.1.0 scikit-learn-1.1.1 threadpoolctl-3.1.0\n"
     ]
    }
   ],
   "source": [
    "import sys\n",
    "!{sys.executable} -m pip install -r ../requirements.txt"
   ]
  },
  {
   "cell_type": "markdown",
   "id": "d6e6c4a9",
   "metadata": {},
   "source": [
    "The output of the previous cell depends whether or not you already have various modules installed.  \n",
    "\n",
    "The first line allows the script(program) utilize the 'sys' module, which provides access to various parameters and settings used by the python interpreter.  The corresponding Python documentation is available at <https://docs.python.org/3/library/sys.html> - do not worry if the contents of that page don't make much sense - we will explain the usages of various application program interfaces (APIs) as we go through this course.\n",
    "\n",
    "The second line uses the current Python interpreter for the specific environment in which this Jupyter notebook executes.  With that, the line then uses the \"pip\" module to install the latest version of the packages listed in the requirements.txt file.  (\"pip\" can also be executed as a command-line program.)  Any dependencies required by those packages will also be installed - this is why you may see output related to pandas, beautifulsoup4 and soupsieve.\n",
    "\n",
    "If you are already familiar with with Python, you may be asking why not just execute `!pip install google`.  The short answer is that if the Python interpreter runs within a different `venv` than what the Jupyter server does, the dependency will be installed into the wrong location.  Jake VanderPlas describes this on [his blog in much greater detail](https://jakevdp.github.io/blog/2017/12/05/installing-python-packages-from-jupyter/).  Jake VanderPlas has written an excellent book - _Python Data Science Handbook, 2nd Ed_ [O'Reilly](https://jakevdp.github.io/blog/2017/12/05/installing-python-packages-from-jupyter/) [Amazon](https://www.amazon.com/Python-Data-Science-Handbook-Essential-ebook/dp/B01N2JT3ST) which you may want to examine."
   ]
  },
  {
   "cell_type": "markdown",
   "id": "926c8d9c",
   "metadata": {},
   "source": [
    "*Time to start learning Python ...*"
   ]
  }
 ],
 "metadata": {
  "kernelspec": {
   "display_name": "Python 3 (ipykernel)",
   "language": "python",
   "name": "python3"
  },
  "language_info": {
   "codemirror_mode": {
    "name": "ipython",
    "version": 3
   },
   "file_extension": ".py",
   "mimetype": "text/x-python",
   "name": "python",
   "nbconvert_exporter": "python",
   "pygments_lexer": "ipython3",
   "version": "3.10.4"
  }
 },
 "nbformat": 4,
 "nbformat_minor": 5
}
