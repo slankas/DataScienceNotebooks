{
 "cells": [
  {
   "cell_type": "markdown",
   "id": "451c809e",
   "metadata": {},
   "source": [
    "# Introduction\n",
    "\n",
    "Congratulations on making it to this point where you can now view, edit and run [Jupyter Notebooks](https://jupyter.org/).\n",
    "\n",
    "We'll use Jupyter Notebooks for lectures, code demonstrations, and exercises.  You should run these notebooks yourself. Don't be afraid to make changes, try different code snippets than what's provided, and experiment.\n",
    "\n",
    "The Jupyter environment follows a very familiar [user interface](https://en.wikipedia.org/wiki/WIMP_(computing)) pattern - the main difference is the ability to execute code within the different cells.  As you scroll through this notebook, you'll see that is composed of a particular sequence of cells.  Each of those cells, can either be code or [markdown](https://en.wikipedia.org/wiki/Markdown).  You will need to execute all of the code cells - primarily in order, but you can modify and repeat running cells.  With the markdown cells, we will provide content (e.g., this cell) or provide instructions or exercises to perform. \n",
    "\n",
    "A particular cell can be in one of two modes:\n",
    "1. Command - will have a blue border around the active/current cell.\n",
    "2. Edit - in this mode, you can change the content of the cells.  A green border is present.\n",
    "\n",
    "In either of these modes:\n",
    " * <span class=\"keys\"><kbd class=\"key-shift\">Shift</kbd><span>+</span><kbd class=\"key-enter\">Enter</kbd></span>  Run the current cell, and select the cell below \n",
    " * <span class=\"keys\"><kbd class=\"key-alt\">Alt</kbd><span>+</span><kbd class=\"key-enter\">Enter</kbd></span>  Run the current cell, and insert a cell below \n",
    " * <span class=\"keys\"><kbd class=\"key-shift\">Ctrl</kbd><span>+</span><kbd class=\"key-s\">s</kbd></span> Saves the current notebook  (<span class=\"keys\"><kbd class=\"key-shift\">Command(⌘)</kbd><span>+</span><kbd class=\"key-s\">s</kbd></span> on a Mac)\n",
    "\n",
    "In the command mode:\n",
    "* To see all shortcuts, type <kbd class=\"key-h\">H</kbd>\n",
    "* Switch to the edit mode by click the mouse on the cell or typing <kbd class=\"key-enter\">Enter</kbd>\n",
    "* Use the up and down arrow keys to move among the cells\n",
    "* Press <kbd class=\"key-a\">a</kbd> to insert a cell above the current one\n",
    "* Press <kbd class=\"key-b\">b</kbd> to insert a cell below the current one\n",
    "* To change the cell type to markdown, press <kbd class=\"key-m\">m</kbd>\n",
    "* To change the cell type to code, press <kbd class=\"key-y\">y</kbd>\n",
    "\n",
    "In the edit mode:\n",
    "* Press <kbd class=\"key-esc\">Esc</kbd> to go into the command mode\n",
    "* Press <kbd class=\"key-tab\">Tab</kbd> for code completion or indent\n"
   ]
  },
  {
   "cell_type": "markdown",
   "id": "6df4ba82",
   "metadata": {},
   "source": [
    "## Install Dependencies\n",
    "To ensure that all of the requires dependencies are installed for these notebooks, execute the following cell.\n"
   ]
  },
  {
   "cell_type": "code",
   "execution_count": null,
   "id": "1cadd1e9-913a-4a16-ada0-bb82637deea2",
   "metadata": {},
   "outputs": [],
   "source": [
    "import sys\n",
    "!{sys.executable} -m pip install -r ../requirements.txt"
   ]
  },
  {
   "cell_type": "markdown",
   "id": "d6e6c4a9",
   "metadata": {},
   "source": [
    "The output of the previous cell depends whether or not you already have various modules installed.  \n",
    "\n",
    "The first line allows the script(program) utilize the 'sys' module, which provides access to various parameters and settings used by the python interpreter.  The corresponding Python documentation is available at <https://docs.python.org/3/library/sys.html> - do not worry if the contents of that page don't make much sense - we will explain the usages of various application program interfaces (APIs) as we go through this course.\n",
    "\n",
    "The second line uses the current Python interpreter for the specific environment in which this Jupyter notebook executes.  With that, the line then uses the \"pip\" module to install the latest version of the packages listed in the requirements.txt file.  (\"pip\" can also be executed as a command-line program.)  Any dependencies required by those packages will also be installed - this is why you may see output related to pandas, beautifulsoup4 and soupsieve.\n",
    "\n",
    "If you are already familiar with with Python, you may be asking why not just execute `!pip install google`.  The short answer is that if the Python interpreter runs within a different `venv` than what the Jupyter server does, the dependency will be installed into the wrong location.  Jake VanderPlas describes this on [his blog in much greater detail](https://jakevdp.github.io/blog/2017/12/05/installing-python-packages-from-jupyter/).  Jake VanderPlas has written an excellent book - _Python Data Science Handbook, 2nd Ed_ [O'Reilly](https://jakevdp.github.io/blog/2017/12/05/installing-python-packages-from-jupyter/) [Amazon](https://www.amazon.com/Python-Data-Science-Handbook-Essential-ebook/dp/B01N2JT3ST) which you may want to examine."
   ]
  },
  {
   "cell_type": "markdown",
   "id": "926c8d9c",
   "metadata": {},
   "source": [
    "*Time to start learning Python ...*"
   ]
  }
 ],
 "metadata": {
  "kernelspec": {
   "display_name": "Python 3 (ipykernel)",
   "language": "python",
   "name": "python3"
  },
  "language_info": {
   "codemirror_mode": {
    "name": "ipython",
    "version": 3
   },
   "file_extension": ".py",
   "mimetype": "text/x-python",
   "name": "python",
   "nbconvert_exporter": "python",
   "pygments_lexer": "ipython3",
   "version": "3.8.10"
  }
 },
 "nbformat": 4,
 "nbformat_minor": 5
}
