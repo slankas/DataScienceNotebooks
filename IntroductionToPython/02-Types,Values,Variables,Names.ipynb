{
 "cells": [
  {
   "attachments": {},
   "cell_type": "markdown",
   "id": "9da29614-ae27-4326-8e99-61aa95666451",
   "metadata": {},
   "source": [
    "<div class=\"pagebreak\"></div>\n",
    "\n",
    "# Data: Types, Values, Variables, and Names\n",
    "\n",
    "A computer program is a series of instructions that operate on data. To build effective programs, you will\n",
    "need to understand several basic building blocks and then how to combine and manipulate those blocks.\n",
    "\n",
    "Another way to look at programming is to consider Lego bricks.  \n",
    "![Legos](images/lego_bricks.jpg)\n",
    "<br><sub><sup>Source: https://commons.wikimedia.org/wiki/File:Lego_bricks.jpg</sup></sub>\n",
    "\n",
    "These bricks come in numerous shapes, sizes, and colors.  Anyone can quickly start combining them, and novices can produce complex models while following instructions.  However, Lego master builders can create truly novel models. They accomplish these builds by deeply understanding how the different pieces work together. They also spend a significant amount of time planning their builds - just as we do when we document the algorithmic approach in the first four steps of the \"Seven Steps\".\n",
    "\n",
    "Similarly, to become a proficient programmer, you must learn a core set of concepts (building blocks). These concepts are universal to many different programming languages; they just vary with slight differences in syntax.  (Syntax is the set of rules defining the structure of a computer language.)\n",
    "\n",
    "We will start our journey of learning these rules by looking at different ways of representing data.  \n",
    "\n",
    "To enable programs to process data, data is defined into different types that specify how data is stored within that type and how we can inspect and manipulate that data."
   ]
  },
  {
   "cell_type": "markdown",
   "id": "8a10554c-e2fe-48a0-9d5b-66e829856b97",
   "metadata": {},
   "source": [
    "## Objects\n",
    "\n",
    "Python manages all data as objects.  From a programming perspective, objects contain: \n",
    "- state (properties and values - things an object knows)\n",
    "- behavior (methods/ functions - things an object can do)\n",
    "- an identity (something that uniquely identifies that item).\n",
    "\n",
    "To help manage these objects, Python also tracks:\n",
    "- an object's type - this defines what an object can do, and the data it stores\n",
    "- a reference count that tracks how many other objects links to this object.\n",
    "\n",
    "Many other programming languages have the concept of a primitive type, which simply contains a particular value.\n",
    "\n",
    "Every object is associated with a particular type.  That type determines what state (information) an object can know and what methods (behavior) that object has.\n",
    "\n",
    "Practically, objects help us represent something. Initially, we will just use numbers and text. However, objects can also be more complicated data collections - such as a list of items. In later notebooks, we learn how to build custom object types (classes) to provide abstractions (models) of the world we are trying to represent in our programs."
   ]
  },
  {
   "cell_type": "markdown",
   "id": "fdf331ea-7435-4f4a-aa78-d4e3f012b92b",
   "metadata": {},
   "source": [
    "## Types\n",
    "\n",
    "The table below shows Python's built-in types.  While this list may seem overwhelming as a new programmer, we will use most of these regularly (the notebooks will not use the complex type and will only use the bytes and bytearray types infrequently).  Right now, just look at the different types of numbers (int and float) and the string type. The following notebook will cover these types more in-depth.  Ints, floats, and strings should feel very familiar to you as you interact with these values regularly - these types represent counts, money, tips, messages, etc.\n",
    "\n",
    "| **Name**       | **Type**  | **Mutable?** | **Examples**                                                                                               |\n",
    "|:---------------|:----------|:-------------|:-----------------------------------------------------------------------------------------------------------|\n",
    "| Boolean        | bool      | no           | True, False                                                                                                |\n",
    "| Integer        | int       | no           | 42, 17966, 17_966                                                                                          |\n",
    "| Floating point | float     | no           | 3.14159, 2.7e5                                                                                             |\n",
    "| Complex        | complex   | no           | 3j, 5+ 9j                                                                                                  |\n",
    "| Text string    | str       | no           | 'Duke',\"University\", '''a multiline string'''                                                              |\n",
    "| List           | list      | yes          | [\"Duke\", \"NC State\", \"Notre Dame\", \"UNC\"]                                                                  |\n",
    "| Tuple          | tuple     | no           | (2,5,8)                                                                                                    |\n",
    "| Bytes          | bytes     | no           | b'ab\\xff'                                                                                                  |\n",
    "| Byte array     | bytearray | yes          | bytearray(...)                                                                                             |\n",
    "| Set            | set       | yes          | set([1,2,3,5,7,11,13,19])                                                                                  |\n",
    "| Frozen set     | frozenset | no           | frozenset(['Elsa', 'Anna', 'Olaf'])                                                                        |\n",
    "| Dictionary     | dict      | yes          | {'Pratt' : 'School of Engineering', 'Fuqua' : 'School of Business', 'Sanford' : 'School of Public Policy'} |\n"
   ]
  },
  {
   "cell_type": "markdown",
   "id": "fbdb349c-d88d-4cb4-807f-2f3ddad91fb2",
   "metadata": {},
   "source": [
    "*Mutable* indicates if an object's properties (state) can be changed once that object has been created.  \n",
    "\n",
    "So, once we create a string or an integer, we can no longer change its value.  Any updates to the value result in a new object.\n",
    "\n",
    "As an analogy, consider a clear, sealed box.  You can peak at the contents, but you can touch or manipulate the contents of that box."
   ]
  },
  {
   "cell_type": "markdown",
   "id": "d23b1222",
   "metadata": {},
   "source": [
    "Within Python, a value can be expressed as a literal values or as a variables.  The preceding table shows literal values within the example column."
   ]
  },
  {
   "cell_type": "markdown",
   "id": "6bd65c5c-6ea1-4f7c-9334-ef6a5c136b60",
   "metadata": {},
   "source": [
    "## Variables\n",
    "\n",
    "A variable is a name that refers to a value (i.e., an object). Think of variables as a place to store data in the computer's memory.\n",
    "\n",
    "This code block declares three variables:"
   ]
  },
  {
   "cell_type": "code",
   "execution_count": null,
   "id": "48037187-6128-4085-a9b1-b9c678cf50db",
   "metadata": {},
   "outputs": [],
   "source": [
    "x = 6\n",
    "pi = 3.14159\n",
    "message = \"Hello World!\""
   ]
  },
  {
   "cell_type": "markdown",
   "id": "2b7d0e1b-e06a-4597-a6fa-5156b59a9eee",
   "metadata": {},
   "source": [
    "`x` holds an integer value, `pi` holds a floating-point value, and `message` holds a text string.  The equals sign (`=`) specifies an _assignment statement_. Programmers read these statements as\n",
    "- set `x` to the integer 6\n",
    "- set `p` to the float 3.14159\n",
    "- set `message` to the string \"Hello World!\"\n",
    "\n",
    "Those above statements created three variables - `x`, `pi`, and `message` - and assigned to them the value on the right side of the statement. These values on the right-hand side are objects of their respective types (int, float, and string)\n",
    "\n",
    "Unlike equations in algebra or other advanced mathematics, programming languages typically cannot solve an assignment statement, even though they may appear capable. Instead, the interpreter evaluates the right side of the ~~equals sign~~assignment operator and then assigns the result to a variable on the left side of the assignment operator.\n",
    "\n",
    "\n",
    "To get a current variable's type, we use the built-in function `type()`"
   ]
  },
  {
   "cell_type": "code",
   "execution_count": null,
   "id": "a08f3ce6-1b19-488e-afae-7a743b6dd6ef",
   "metadata": {},
   "outputs": [],
   "source": [
    "type(pi)"
   ]
  },
  {
   "cell_type": "markdown",
   "id": "4edba795",
   "metadata": {},
   "source": [
    "As an exercise, type in the code below to see what the other types are for `x` and `message` by replacing `pi` with those variable names.\n",
    "\n",
    "Try defining variables of the other types from the above table.  Use the following cells to experiment:"
   ]
  },
  {
   "cell_type": "code",
   "execution_count": null,
   "id": "59984dc0",
   "metadata": {},
   "outputs": [],
   "source": [
    "# enter code to see what the types of x and message\n"
   ]
  },
  {
   "cell_type": "code",
   "execution_count": null,
   "id": "73a68e6a",
   "metadata": {},
   "outputs": [],
   "source": [
    "# enter code to create other variables with different types from the types table.\n"
   ]
  },
  {
   "cell_type": "markdown",
   "id": "94279dcd-3306-4516-b541-e85815ec01fa",
   "metadata": {},
   "source": [
    "## Functions\n",
    "In computer programming, a function is a named, reusable block of code (series of statements) that performs some action or computation.  Functions can define any number of parameters to receive data from the calling code block.  Functions can then return a value (result) to the calling block.  Initially, we will just use Python's built-in functions, but we will develop our own functions to perform specific tasks.\n",
    "\n",
    "You can print out the current value of a variable with the built-in function `print()`.  Again, try printing the other variables once you execute this code block."
   ]
  },
  {
   "cell_type": "code",
   "execution_count": null,
   "id": "48b1baac-4636-4900-a0a4-93e9263b0a5f",
   "metadata": {},
   "outputs": [],
   "source": [
    "print(message)"
   ]
  },
  {
   "cell_type": "code",
   "execution_count": null,
   "id": "11b509d2",
   "metadata": {},
   "outputs": [],
   "source": [
    "# add some more print statements to display the values of the variables declared earlier in this notebook.\n"
   ]
  },
  {
   "cell_type": "markdown",
   "id": "038c1030-7248-4ac6-8153-4aa1208c9f3f",
   "metadata": {},
   "source": [
    "Before you run the following statement, think about how this notebook will respond.  "
   ]
  },
  {
   "cell_type": "code",
   "execution_count": null,
   "id": "521aaa50-625e-4d4e-acc1-c5311415bcbf",
   "metadata": {},
   "outputs": [],
   "source": [
    "print(msg)"
   ]
  },
  {
   "cell_type": "markdown",
   "id": "46e2223a-fcf2-4c9f-b15e-3d8a4b10f1fd",
   "metadata": {},
   "source": [
    "You should have received a \"NameError\" specifying that the variable named \"msg\" is not defined.  One of the challenges while programming is finding and correcting mistakes such as this.  \n",
    "\n",
    "Before we use a variable on the right-hand side of an assignment or in other statements, we must first define that variable by assigning a value to it."
   ]
  },
  {
   "cell_type": "markdown",
   "id": "370e69d1-4021-4c8a-be5d-b394184ac6a6",
   "metadata": {},
   "source": [
    "### Variable Naming Rules\n",
    "As you name a variable, you should create names that represent the purpose of that variable. The variable name must also follow these rules:\n",
    "- can only contain lowercase letters (a-z), uppercase letters (A-Z), digits (0-9), and an underscore(_)\n",
    "- cannot begin with a digit\n",
    "- cannot be one of Python's reserved keywords.\n",
    "\n",
    "Variable names are case-sensitive.\n",
    "\n",
    "By convention, variable names in Python are lowercase with words separated by underscores to improve readability:"
   ]
  },
  {
   "cell_type": "code",
   "execution_count": null,
   "id": "fc38d468",
   "metadata": {},
   "outputs": [],
   "source": [
    "num_seconds_per_hour = 3600"
   ]
  },
  {
   "cell_type": "markdown",
   "id": "14ea57e7",
   "metadata": {},
   "source": [
    "Use informative names for variables to assist yourself and others in reading your code.  What if we used\n",
    "`g = 3600` in the preceding code block?  Would you be able to figure out the purpose and meaning of `g`?  What happens if you revisit the code a year from now?"
   ]
  },
  {
   "cell_type": "markdown",
   "id": "f6bb9a99",
   "metadata": {},
   "source": [
    "To see the list of reserved keywords, execute the following statement:"
   ]
  },
  {
   "cell_type": "code",
   "execution_count": null,
   "id": "7589763e-4ae7-41f9-9eb7-3dc0f54a807f",
   "metadata": {},
   "outputs": [],
   "source": [
    "help(\"keywords\")"
   ]
  },
  {
   "cell_type": "markdown",
   "id": "28053138-3670-4741-949f-c2a01c10e80f",
   "metadata": {},
   "source": [
    "This output (the list of keywords) may not yet make sense, but by the end of the course, we will cover most of these keywords.\n",
    "\n",
    "To see more information about a particular keyword, type help(\"_keywordName_\").  Then, examine a couple of other keywords."
   ]
  },
  {
   "cell_type": "code",
   "execution_count": null,
   "id": "d66ff042-5b55-4473-ac3e-30785c22cbc1",
   "metadata": {
    "scrolled": true
   },
   "outputs": [],
   "source": [
    "help(\"for\")"
   ]
  },
  {
   "cell_type": "markdown",
   "id": "6d4bf0d5",
   "metadata": {},
   "source": [
    "## Statements\n",
    "The assignments and function calls are examples of statements - a unit of instruction to the computer to perform a specific action.  Programs are just a series of these statements."
   ]
  },
  {
   "attachments": {},
   "cell_type": "markdown",
   "id": "14363b83",
   "metadata": {},
   "source": [
    "## Objects Redux\n",
    "To revisit the start of this notebook, Python manages all data as objects.  As such, we typically have ways to inspect particular object's state as well as to execute methods on those objects.\n",
    "\n",
    "While the data shown in this notebook have relatively simple states (i.e., just the value of the integer, float, or string datatype), they do have behavior (additional methods) defined.\n",
    "\n",
    "Integer values are represented as [binary numbers](https://en.wikipedia.org/wiki/Binary_number#Counting_in_binary) within the computer's memory.  To see how long a particular representation is (i.e., how many zeros and ones are needed), we can call the ```bit_length()``` method on an integer. `bit_length()` is an example of object behavior."
   ]
  },
  {
   "cell_type": "code",
   "execution_count": null,
   "id": "047e77c2",
   "metadata": {},
   "outputs": [],
   "source": [
    "x = 65535\n",
    "x.bit_length()"
   ]
  },
  {
   "cell_type": "markdown",
   "id": "76d6b0e3",
   "metadata": {},
   "source": [
    "When you see a pattern such as <code><i>object_name.method</i>()</code> (e.g., `x.bit_length()`) that's using behavior associated with that object.  Programmers will read this as calling _method_name_ for _object_name_. Methods are the same as functions, except that they belong to a particular object.\n",
    "\n",
    "As with functions, we use predefined object types (classes) as well as writing our own.\n",
    "\n",
    "To see the available methods on an object, we use the built-in `dir()` function. You can call `dir()`  with a literal value, a type name, or a variable as the argument.  For example,\n",
    "```\n",
    "dir(65535)\n",
    "dir(int)\n",
    "dir(x)\n",
    "```\n",
    "will all return the same output."
   ]
  },
  {
   "cell_type": "code",
   "execution_count": null,
   "id": "7a264ffb",
   "metadata": {},
   "outputs": [],
   "source": [
    "dir(int)"
   ]
  },
  {
   "cell_type": "markdown",
   "id": "44ce419f",
   "metadata": {},
   "source": [
    "As you examine the output for `dir(int)`, notice many methods begin and end with double underscores.  Referred to as \"dunder\" methods, these methods serve as special functions within Python: initialize an object `__init__`, produce a string representation of an object `__str__`, or override built-in functions and operators (abs() `__abs__`, = `__eq__`, etc.) Normally, we do not directly call these methods but rather implicitly invoke them through other operations.\n",
    "\n",
    "For example, the following code uses `__abs__()` from the `int` class to get the absolute value."
   ]
  },
  {
   "cell_type": "code",
   "execution_count": null,
   "id": "da377bc4",
   "metadata": {},
   "outputs": [],
   "source": [
    "a = -50\n",
    "a = abs(a)\n",
    "print(a)"
   ]
  },
  {
   "cell_type": "markdown",
   "id": "88cd4993",
   "metadata": {},
   "source": [
    "## Getting Help\n",
    "To get help on a particular method, we can use the ```help()``` method.  Pass either an object reference or the type name along with the method name to that function."
   ]
  },
  {
   "cell_type": "code",
   "execution_count": null,
   "id": "b4f4960d",
   "metadata": {},
   "outputs": [],
   "source": [
    "help(int.bit_length)"
   ]
  },
  {
   "cell_type": "code",
   "execution_count": null,
   "id": "e842436c",
   "metadata": {},
   "outputs": [],
   "source": [
    "help(x.bit_length)"
   ]
  },
  {
   "cell_type": "markdown",
   "id": "76ee00f2",
   "metadata": {},
   "source": [
    "We can also just get help information on the data type itself."
   ]
  },
  {
   "cell_type": "code",
   "execution_count": null,
   "id": "f9a72edf",
   "metadata": {},
   "outputs": [],
   "source": [
    "help(int)"
   ]
  },
  {
   "cell_type": "markdown",
   "id": "93dcd91c",
   "metadata": {},
   "source": [
    "## Jupyter Notes\n",
    "Within the Jupyter environment, we can also access the help documentation with a `?` after an item:"
   ]
  },
  {
   "cell_type": "code",
   "execution_count": null,
   "id": "4eef853c",
   "metadata": {},
   "outputs": [],
   "source": [
    "int?"
   ]
  },
  {
   "cell_type": "markdown",
   "id": "eccae246",
   "metadata": {},
   "source": [
    "You can also see the relevant source code of the object by typing `??` after an item.  If the source code does not appear, the function or object is not directly implemented in Python but instead in C or C++."
   ]
  },
  {
   "cell_type": "code",
   "execution_count": null,
   "id": "32ff91ba",
   "metadata": {},
   "outputs": [],
   "source": [
    "int??"
   ]
  },
  {
   "cell_type": "markdown",
   "id": "bf6e2869",
   "metadata": {},
   "source": [
    "In Jupyter, as you type an object or function name, you can press the tab key to autocomplete the current term or see a pop-up list of possible choices.  After each of the items in the following code block, press the Tab key."
   ]
  },
  {
   "cell_type": "code",
   "execution_count": null,
   "id": "e6d37383",
   "metadata": {},
   "outputs": [],
   "source": [
    "a.bit_l\n",
    "a."
   ]
  },
  {
   "cell_type": "markdown",
   "id": "4220949f",
   "metadata": {},
   "source": [
    "One final note concerning Jupyter.  We have used a mixture of just using a variable by itself on the last line of a code block or printing that value.  If the last line of a code block returns a value, Jupyter automatically takes that return value and prints the value.  Simply typing a variable name by itself returns the value of that variable."
   ]
  },
  {
   "cell_type": "code",
   "execution_count": null,
   "id": "75079198",
   "metadata": {},
   "outputs": [],
   "source": [
    "a"
   ]
  },
  {
   "cell_type": "markdown",
   "id": "62394239",
   "metadata": {},
   "source": [
    "We have also explicitly printed the value by calling the `print()` function."
   ]
  },
  {
   "cell_type": "code",
   "execution_count": null,
   "id": "e1b4c4d9",
   "metadata": {},
   "outputs": [],
   "source": [
    "print(a)"
   ]
  },
  {
   "cell_type": "markdown",
   "id": "5cb20dd4",
   "metadata": {},
   "source": [
    "While the output has been the same  in these two examples, that does not always occur.\n",
    "\n",
    "If we just have a value by itself on a line and then another statement, Jupyter will not display the value.  The following code block does not show any value."
   ]
  },
  {
   "cell_type": "code",
   "execution_count": null,
   "id": "4b0fca39",
   "metadata": {},
   "outputs": [],
   "source": [
    "a\n",
    "x = 10 "
   ]
  }
 ],
 "metadata": {
  "kernelspec": {
   "display_name": "Python 3 (ipykernel)",
   "language": "python",
   "name": "python3"
  },
  "language_info": {
   "codemirror_mode": {
    "name": "ipython",
    "version": 3
   },
   "file_extension": ".py",
   "mimetype": "text/x-python",
   "name": "python",
   "nbconvert_exporter": "python",
   "pygments_lexer": "ipython3",
   "version": "3.10.4"
  }
 },
 "nbformat": 4,
 "nbformat_minor": 5
}
