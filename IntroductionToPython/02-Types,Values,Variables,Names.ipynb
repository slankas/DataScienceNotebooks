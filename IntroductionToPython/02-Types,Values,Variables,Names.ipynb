{
 "cells": [
  {
   "cell_type": "markdown",
   "id": "9da29614-ae27-4326-8e99-61aa95666451",
   "metadata": {},
   "source": [
    "# Data:Types, Values, Variables, and Names\n",
    "\n",
    "A computer program is a series of instructions that operate on data.  There are a number of building blocks you'll need to understand how to combine and manipulate to build effective programs.\n",
    "\n",
    "Another way to look at programming is to consider Lego bricks.  \n",
    "![Legos](images/lego_bricks.jpg)\n",
    "<sub><sup>Source: https://commons.wikimedia.org/wiki/File:Lego_bricks.jpg</sup></sub>\n",
    "\n",
    "These bricks come in a large number of shapes, sizes, and colors.  Anyone can quickly start combining them together and novices can produce complex models while following instructions.  However, Lego master builders can produce truly novel models. Part of how they accomplish these builds is by having a deep understanding of how all of the different pieces can work together.\n",
    "\n",
    "Similarly, to become a proficient programmer, you will need to learn a core set of concepts (building blocks). These concepts are largely universal to many different progamming languages, they just vary with slight differences in syntax.  (Syntax are the rules defining the structure of a computer language.)\n",
    "\n",
    "We will start our journey of learning these rules with looking at different ways of representing data.  \n",
    "\n",
    "To help computers understand how to process data, data is defined into different types that specify how data is stored within that type and then how we can inspect and manipulate that data."
   ]
  },
  {
   "cell_type": "markdown",
   "id": "8a10554c-e2fe-48a0-9d5b-66e829856b97",
   "metadata": {},
   "source": [
    "## Objects\n",
    "\n",
    "In Python, all data are managed as objects.  From a programming perspective, objects contain: \n",
    "- state (properties and values - things an object knows)\n",
    "- behavior (methods/ functions - things an object can do)\n",
    "- an identity (something that uniquely identifies that item).\n",
    "\n",
    "To help manage these objects, python also tracks:\n",
    "- an object's type - this defines what an object can do\n",
    "- a reference count that tracks how many references exist to that particular object.\n",
    "\n",
    "Many other programming langauges have the concept of a primitive type, which simply contains a particular value.\n",
    "\n",
    "Every object has a particular type that it is associated with.  That type determines what state (information) an object can know as well as what methods can be be called on that object."
   ]
  },
  {
   "cell_type": "markdown",
   "id": "fdf331ea-7435-4f4a-aa78-d4e3f012b92b",
   "metadata": {},
   "source": [
    "## Types\n",
    "The following table shows the basic types in Python:\n",
    "\n",
    "| **Name**       | **Type**  | **Mutable?** | **Examples**                                                                                               |\n",
    "|:---------------|:----------|:-------------|:-----------------------------------------------------------------------------------------------------------|\n",
    "| Boolean        | bool      | no           | True, False                                                                                                |\n",
    "| Integer        | int       | no           | 42, 17966, 17_966                                                                                          |\n",
    "| Floating point | float     | no           | 3.14159, 2.7e5                                                                                             |\n",
    "| Complex        | complex   | no           | 3j, 5+ 9j                                                                                                  |\n",
    "| Text string    | str       | no           | 'duke',\"University\", '''a multiline string'''                                                              |\n",
    "| List           | list      | yes          | [\"Duke\", \"NC State\", \"Notre Dame\", \"UNC\"]                                                                  |\n",
    "| Tuple          | tuple     | no           | (2,5,8)                                                                                                    |\n",
    "| Bytes          | bytes     | no           | b'ab\\xff'                                                                                                  |\n",
    "| ByteArray      | bytearray | yes          | bytearray(...)                                                                                             |\n",
    "| Set            | set       | yes          | set([1,2,3,5,7,11,13,19])                                                                                  |\n",
    "| Frozen set     | frozenset | no           | frozenset(['Elsa', 'Anna', 'Olaf'])                                                                        |\n",
    "| Dictionary     | dict      | yes          | {'Pratt' : 'School of Engineering', 'Fuqua' : 'School of Business', 'Sanford' : 'School of Public Policy'} |\n"
   ]
  },
  {
   "cell_type": "markdown",
   "id": "fbdb349c-d88d-4cb4-807f-2f3ddad91fb2",
   "metadata": {},
   "source": [
    "*Mutable* indicates whether or not an object of that type can be changed once that object has been created.  \n",
    "\n",
    "So, once we create a string or an integer, we can no longer change it's value.  Any updates to the value result in a new object being created.\n",
    "\n",
    "As an analogy, consider a clear, sealed box.  You can peak at the contents, but there's no way to change what's in that box."
   ]
  },
  {
   "cell_type": "markdown",
   "id": "d23b1222",
   "metadata": {},
   "source": [
    "Within Python, values can either be expressed as a literal value or as a variable.  The preceding table shows literal values within the example column."
   ]
  },
  {
   "cell_type": "markdown",
   "id": "6bd65c5c-6ea1-4f7c-9334-ef6a5c136b60",
   "metadata": {},
   "source": [
    "## Variables\n",
    "\n",
    "TODO:  NEED TO BE MORE PRECISE IN OUR LANGUAGE HERE...  START DISCUSSIING REFERENCES\n",
    "\n",
    "Variables are a named piece of the computer's memory that can hold a particular object.  Variables are places to store information/data.\n",
    "\n",
    "In this code block, we declare three variables:"
   ]
  },
  {
   "cell_type": "code",
   "execution_count": null,
   "id": "48037187-6128-4085-a9b1-b9c678cf50db",
   "metadata": {},
   "outputs": [],
   "source": [
    "x = 6\n",
    "pi = 3.14159\n",
    "message = \"Hello World!\""
   ]
  },
  {
   "cell_type": "markdown",
   "id": "2b7d0e1b-e06a-4597-a6fa-5156b59a9eee",
   "metadata": {},
   "source": [
    "x holds an integer value, pi holds a holds a floating point value, and message holds a text string.  The equals sign('=') specifies an **assignment statement**.\n",
    "\n",
    "Those above statements created three variables - x, pi, and message - and assigned to them the value on the right side of the statement. \n",
    "\n",
    "Unlike equations you may be used to solving in algebra or other advanced mathematics, programming languages typically do not have the capability to solve the equation even though it may appear capable of performing.  Instead, the right side of the equals sign is evaluated and then the result (an 'rvalue') is assigned to a variable (an 'lvalue') on the left side of the equation.\n",
    "\n",
    "\n",
    "To get a current variable's type, we can use a special function `type()`"
   ]
  },
  {
   "cell_type": "code",
   "execution_count": null,
   "id": "a08f3ce6-1b19-488e-afae-7a743b6dd6ef",
   "metadata": {},
   "outputs": [],
   "source": [
    "type(pi)"
   ]
  },
  {
   "cell_type": "markdown",
   "id": "4edba795",
   "metadata": {},
   "source": [
    "As an excercise, re-run the proceeding code block, but see what the other types are for ```x``` and ```message``` by replacing ```pi``` with those variable names.\n",
    "\n",
    "You should also try defining variables of the other types from the above table.  Use these following cells to experiment:"
   ]
  },
  {
   "cell_type": "code",
   "execution_count": null,
   "id": "59984dc0",
   "metadata": {},
   "outputs": [],
   "source": []
  },
  {
   "cell_type": "code",
   "execution_count": null,
   "id": "73a68e6a",
   "metadata": {},
   "outputs": [],
   "source": []
  },
  {
   "cell_type": "markdown",
   "id": "94279dcd-3306-4516-b541-e85815ec01fa",
   "metadata": {},
   "source": [
    "You can print out the current value of a variable with ```print()```.  Again, try printing the other variables once you execute this code block."
   ]
  },
  {
   "cell_type": "code",
   "execution_count": null,
   "id": "48b1baac-4636-4900-a0a4-93e9263b0a5f",
   "metadata": {},
   "outputs": [],
   "source": [
    "print(message)"
   ]
  },
  {
   "cell_type": "markdown",
   "id": "038c1030-7248-4ac6-8153-4aa1208c9f3f",
   "metadata": {},
   "source": [
    "Before you run the following statement, think about how this notebook will respond.  "
   ]
  },
  {
   "cell_type": "code",
   "execution_count": null,
   "id": "521aaa50-625e-4d4e-acc1-c5311415bcbf",
   "metadata": {},
   "outputs": [],
   "source": [
    "print(msg)"
   ]
  },
  {
   "cell_type": "markdown",
   "id": "46e2223a-fcf2-4c9f-b15e-3d8a4b10f1fd",
   "metadata": {},
   "source": [
    "You should have received a \"NameError\" specifying that variable named \"msg\" was not defined.  One of the key challenges while programming is to find and correct mistakes such as this.  "
   ]
  },
  {
   "cell_type": "markdown",
   "id": "370e69d1-4021-4c8a-be5d-b394184ac6a6",
   "metadata": {},
   "source": [
    "### Variable Naming Rules\n",
    "As you name a variable, you should create names that represent the purpose of that variable. The variable name must also follow these rules:\n",
    "- can only contain lowercase letters (a-z), uppercase letters (A-Z), digites (0-9), and an underscore(_)\n",
    "- can not begin with a digit\n",
    "- can not be one of Python's reserved keywords.\n",
    "\n",
    "Variable names are case sensitive.\n",
    "\n",
    "By convention, variable names in Python are lower case with words separate by underscores to improve readability:"
   ]
  },
  {
   "cell_type": "code",
   "execution_count": null,
   "id": "fc38d468",
   "metadata": {},
   "outputs": [],
   "source": [
    "num_seconds_per_hour = 3600"
   ]
  },
  {
   "cell_type": "markdown",
   "id": "14ea57e7",
   "metadata": {},
   "source": [
    "To assist yourself and others reading your code, make sure to use informative names for variables.  What if we used\n",
    "```\n",
    "g = 3600\n",
    "```\n",
    "in the preceding code block?  Would you be able to figure out the purpose and meaning of g?"
   ]
  },
  {
   "cell_type": "markdown",
   "id": "f6bb9a99",
   "metadata": {},
   "source": [
    "To see the list of reserved keywords, execute the following statement:"
   ]
  },
  {
   "cell_type": "code",
   "execution_count": null,
   "id": "7589763e-4ae7-41f9-9eb7-3dc0f54a807f",
   "metadata": {},
   "outputs": [],
   "source": [
    "help(\"keywords\")"
   ]
  },
  {
   "cell_type": "markdown",
   "id": "28053138-3670-4741-949f-c2a01c10e80f",
   "metadata": {},
   "source": [
    "To see more information about a particular keyword, type help(\"keywordName\").  Try looking a couple of different keywords.  \n",
    "\n",
    "Don't worry if the output (the list of keywords) does not yet make sense, we will cover most of these keywords in this class."
   ]
  },
  {
   "cell_type": "code",
   "execution_count": null,
   "id": "d66ff042-5b55-4473-ac3e-30785c22cbc1",
   "metadata": {
    "scrolled": true
   },
   "outputs": [],
   "source": [
    "help(\"for\")"
   ]
  },
  {
   "cell_type": "markdown",
   "id": "14363b83",
   "metadata": {},
   "source": [
    "## Objects Redux\n",
    "To circle back to the start of this notebook, we mentioned that all data in python are managed as objects.  As such, we typically have ways to inspect the state of a particular object as well as to execute methods on those objects.\n",
    "\n",
    "While the data types shown in this notebook have relatively simple states (ie, just the value of the integer, float, or string datatype).  These values do have additional behavior defined.\n",
    "\n",
    "Integer values are typically represented as [binary numbers](https://en.wikipedia.org/wiki/Binary_number) witin a computer's memory.  To see how long a particular representation is (i.e., how many zeros and ones are needed), we can call the ```bit_length()``` method on an integer."
   ]
  },
  {
   "cell_type": "code",
   "execution_count": null,
   "id": "047e77c2",
   "metadata": {},
   "outputs": [],
   "source": [
    "x = 65535\n",
    "x.bit_length()"
   ]
  },
  {
   "cell_type": "markdown",
   "id": "76d6b0e3",
   "metadata": {},
   "source": [
    "To see the available methods on an object, we use the built-in ```dir()``` method.  This can be called with a literal value, a type name, or a variable.  For example,\n",
    "```\n",
    "dir(x)\n",
    "dir(65535)\n",
    "dir(int)\n",
    "```\n",
    "will all return the same output."
   ]
  },
  {
   "cell_type": "code",
   "execution_count": null,
   "id": "7a264ffb",
   "metadata": {},
   "outputs": [],
   "source": [
    "dir(int)"
   ]
  },
  {
   "cell_type": "markdown",
   "id": "88cd4993",
   "metadata": {},
   "source": [
    "As you examine the output for ```dir(int)```, you'll notice a number of methods begin and end with double underscores.  Referred to as \"dunder\" methods, these methods serve either special functions within python(initialize an object ```__init__```, produce a string representation of an object ```__str__```,...) or override built-in functions and operators (abs() ```__abs__```, = ```__eq__```, etc.)\n",
    "\n",
    "To get help on a particular method, we can use the ```help()``` method.  For these, we'll need to pass either an object reference or the type name along with the method we want help for)"
   ]
  },
  {
   "cell_type": "code",
   "execution_count": null,
   "id": "b4f4960d",
   "metadata": {},
   "outputs": [],
   "source": [
    "help(int.bit_length)"
   ]
  },
  {
   "cell_type": "code",
   "execution_count": null,
   "id": "e842436c",
   "metadata": {},
   "outputs": [],
   "source": [
    "help(x.bit_length)"
   ]
  },
  {
   "cell_type": "markdown",
   "id": "76ee00f2",
   "metadata": {},
   "source": [
    "We can also just get help information on the data type itself."
   ]
  },
  {
   "cell_type": "code",
   "execution_count": null,
   "id": "f9a72edf",
   "metadata": {},
   "outputs": [],
   "source": [
    "help(int)"
   ]
  },
  {
   "cell_type": "markdown",
   "id": "6fbeaca9",
   "metadata": {},
   "source": [
    "## Review questions\n",
    "\n",
    "1. What  are the types of the following values?\n",
    "  1. 2.7128\n",
    "  2. 1838\n",
    "  3. \"1892\"\n",
    "  4. False\n",
    "2. Are the follow legal variable names? (yes /no)\n",
    "  1. a\n",
    "  2. _test\n",
    "  3. 912ara\n",
    "  4. area_919\n",
    "  5. pass\n",
    "3. What function is used to display a value?\n",
    "4. x and X are treated as the same variable identifier in Python.  (True/False)"
   ]
  }
 ],
 "metadata": {
  "kernelspec": {
   "display_name": "Python 3 (ipykernel)",
   "language": "python",
   "name": "python3"
  },
  "language_info": {
   "codemirror_mode": {
    "name": "ipython",
    "version": 3
   },
   "file_extension": ".py",
   "mimetype": "text/x-python",
   "name": "python",
   "nbconvert_exporter": "python",
   "pygments_lexer": "ipython3",
   "version": "3.8.10"
  }
 },
 "nbformat": 4,
 "nbformat_minor": 5
}
