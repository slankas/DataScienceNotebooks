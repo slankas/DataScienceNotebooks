{
 "cells": [
  {
   "cell_type": "markdown",
   "id": "9da29614-ae27-4326-8e99-61aa95666451",
   "metadata": {},
   "source": [
    "<div class=\"pagebreak\"></div>\n",
    "\n",
    "# Data:Types, Values, Variables, and Names\n",
    "\n",
    "A computer program is a series of instructions that operate on data. To build effective programs, you will need to understand\n",
    "a number of building blocks and then how to combine and manipulate those blocks.\n",
    "\n",
    "Another way to look at programming is to consider Lego bricks.  \n",
    "![Legos](images/lego_bricks.jpg)\n",
    "<br><sub><sup>Source: https://commons.wikimedia.org/wiki/File:Lego_bricks.jpg</sup></sub>\n",
    "\n",
    "These bricks come in a large number of shapes, sizes, and colors.  Anyone can quickly start combining them together and novices can produce complex models while following instructions.  However, Lego master builders can produce truly novel models. They accomplish these builds through a deep understanding of how all of the different pieces can work together. They also spend a significant amount of time planning out their builds - just as we do when we document the algorithmic approach in the first four steps of the \"Seven Steps\".\n",
    "\n",
    "Similarly, to become a proficient programmer, you will need to learn a core set of concepts (building blocks). These concepts are largely universal to many different progamming languages, they just vary with slight differences in syntax.  (Syntax are the rules defining the structure of a computer language.)\n",
    "\n",
    "We will start our journey of learning these rules with looking at different ways of representing data.  \n",
    "\n",
    "To help computers understand how to process data, data is defined into different types that specify how data is stored within that type and then how we can inspect and manipulate that data."
   ]
  },
  {
   "cell_type": "markdown",
   "id": "8a10554c-e2fe-48a0-9d5b-66e829856b97",
   "metadata": {},
   "source": [
    "## Objects\n",
    "\n",
    "In Python, all data are managed as objects.  From a programming perspective, objects contain: \n",
    "- state (properties and values - things an object knows)\n",
    "- behavior (methods/ functions - things an object can do)\n",
    "- an identity (something that uniquely identifies that item).\n",
    "\n",
    "To help manage these objects, Python also tracks:\n",
    "- an object's type - this defines what an object can do and data it stores\n",
    "- a reference count that tracks how many other objects links to this object.\n",
    "\n",
    "Many other programming languages have the concept of a primitive type, which simply contains a particular value.\n",
    "\n",
    "Every object has a particular type that it is associated with.  That type determines what state (information) an object can know as well as what methods can be be called on that object.\n",
    "\n",
    "Practically, objects help us represent something. Initially, we will just use numbers and text. Objects can also be more complicated data collections - such as a list of items. In later notebooks, we learn how to build our own object types (classes) to provide abstractions (models) of the world we are trying to represent in our programs."
   ]
  },
  {
   "cell_type": "markdown",
   "id": "fdf331ea-7435-4f4a-aa78-d4e3f012b92b",
   "metadata": {},
   "source": [
    "## Types\n",
    "\n",
    "The table below shows Python's built-in types.  While this list may seem overwhelming as a new programmer, we will use most of these  regularly (complex, bytes, and bytearray will not be used frequently int this material).  For right now, just look at the different types of numbers (int and float) and the string type. The next notebook will cover these types more in-depth.  Ints, floats, and strings should feel very familiar to you as you interact with these values regularly - it's money, tips, messages, etc.\n",
    "\n",
    "| **Name**       | **Type**  | **Mutable?** | **Examples**                                                                                               |\n",
    "|:---------------|:----------|:-------------|:-----------------------------------------------------------------------------------------------------------|\n",
    "| Boolean        | bool      | no           | True, False                                                                                                |\n",
    "| Integer        | int       | no           | 42, 17966, 17_966                                                                                          |\n",
    "| Floating point | float     | no           | 3.14159, 2.7e5                                                                                             |\n",
    "| Complex        | complex   | no           | 3j, 5+ 9j                                                                                                  |\n",
    "| Text string    | str       | no           | 'Duke',\"University\", '''a multiline string'''                                                              |\n",
    "| List           | list      | yes          | [\"Duke\", \"NC State\", \"Notre Dame\", \"UNC\"]                                                                  |\n",
    "| Tuple          | tuple     | no           | (2,5,8)                                                                                                    |\n",
    "| Bytes          | bytes     | no           | b'ab\\xff'                                                                                                  |\n",
    "| ByteArray      | bytearray | yes          | bytearray(...)                                                                                             |\n",
    "| Set            | set       | yes          | set([1,2,3,5,7,11,13,19])                                                                                  |\n",
    "| Frozen set     | frozenset | no           | frozenset(['Elsa', 'Anna', 'Olaf'])                                                                        |\n",
    "| Dictionary     | dict      | yes          | {'Pratt' : 'School of Engineering', 'Fuqua' : 'School of Business', 'Sanford' : 'School of Public Policy'} |\n"
   ]
  },
  {
   "cell_type": "markdown",
   "id": "fbdb349c-d88d-4cb4-807f-2f3ddad91fb2",
   "metadata": {},
   "source": [
    "*Mutable* indicates whether or not an object of that type can be changed once that object has been created.  \n",
    "\n",
    "So, once we create a string or an integer, we can no longer change it's value.  Any updates to the value result in a new object being created.\n",
    "\n",
    "As an analogy, consider a clear, sealed box.  You can peak at the contents, but there's no way to change what's in that box."
   ]
  },
  {
   "cell_type": "markdown",
   "id": "d23b1222",
   "metadata": {},
   "source": [
    "Within Python, values can either be expressed as a literal value or as a variable.  The preceding table shows literal values within the example column."
   ]
  },
  {
   "cell_type": "markdown",
   "id": "6bd65c5c-6ea1-4f7c-9334-ef6a5c136b60",
   "metadata": {},
   "source": [
    "## Variables\n",
    "\n",
    "Variables are a named piece of the computer's memory that can hold a particular object. Technically, variables just refer to that memory location as their value.  In a more abstract sense, variables in Python are places to store information/data of a particular type.\n",
    "\n",
    "This code block declares three variables:"
   ]
  },
  {
   "cell_type": "code",
   "execution_count": null,
   "id": "48037187-6128-4085-a9b1-b9c678cf50db",
   "metadata": {},
   "outputs": [],
   "source": [
    "x = 6\n",
    "pi = 3.14159\n",
    "message = \"Hello World!\""
   ]
  },
  {
   "cell_type": "markdown",
   "id": "2b7d0e1b-e06a-4597-a6fa-5156b59a9eee",
   "metadata": {},
   "source": [
    "`x` holds an integer value, `pi` holds a holds a floating point value, and `message` holds a text string.  The equals sign(`=`) specifies an _assignment statement_. Programmers read these statements as\n",
    "- set `x` to the integer 6\n",
    "- set `p` to the float 3.14159\n",
    "- set `message` to the string \"Hello World!\"\n",
    "\n",
    "Those above statements created three variables - `x`, `pi`, and `message` - and assigned to them the value on the right side of the statement. These values on the right hand side are objects of their respective types (int, float, and string)\n",
    "\n",
    "Unlike equations in algebra or other advanced mathematics, programming languages typically do not have the capability to solve the equation even though it may appear capable.  Instead, the right side of the equals sign is evaluated and then the result is assigned to a variable on the left side of the equation.\n",
    "\n",
    "\n",
    "To get a current variable's type, we can use a special function `type()`"
   ]
  },
  {
   "cell_type": "code",
   "execution_count": null,
   "id": "a08f3ce6-1b19-488e-afae-7a743b6dd6ef",
   "metadata": {},
   "outputs": [],
   "source": [
    "type(pi)"
   ]
  },
  {
   "cell_type": "markdown",
   "id": "4edba795",
   "metadata": {},
   "source": [
    "As an excercise, re-run the proceeding code block, but see what the other types are for ```x``` and ```message``` by replacing ```pi``` with those variable names.\n",
    "\n",
    "Try defining variables of the other types from the above table.  Use these following cells to experiment:"
   ]
  },
  {
   "cell_type": "code",
   "execution_count": null,
   "id": "59984dc0",
   "metadata": {},
   "outputs": [],
   "source": [
    "# enter code to see what the types of x and message\n"
   ]
  },
  {
   "cell_type": "code",
   "execution_count": null,
   "id": "73a68e6a",
   "metadata": {},
   "outputs": [],
   "source": [
    "# enter code to create other variables with different types from the types table.\n"
   ]
  },
  {
   "cell_type": "markdown",
   "id": "94279dcd-3306-4516-b541-e85815ec01fa",
   "metadata": {},
   "source": [
    "## Functions\n",
    "Functions are a named, reusable block of code.  They can take any number of parameters to send data into the function.  Functions can then return any number of results back to the calling block.  Initially, we will make use of Python's built-in functions, but we will develop our own functions to perform specific tasks.\n",
    "\n",
    "You can print out the current value of a variable with the built-in function ```print()```.  Again, try printing the other variables once you execute this code block."
   ]
  },
  {
   "cell_type": "code",
   "execution_count": null,
   "id": "48b1baac-4636-4900-a0a4-93e9263b0a5f",
   "metadata": {},
   "outputs": [],
   "source": [
    "print(message)"
   ]
  },
  {
   "cell_type": "code",
   "execution_count": null,
   "id": "11b509d2",
   "metadata": {},
   "outputs": [],
   "source": [
    "# add some more print statements to display the values of the variables declared earlier in this notebook.\n"
   ]
  },
  {
   "cell_type": "markdown",
   "id": "038c1030-7248-4ac6-8153-4aa1208c9f3f",
   "metadata": {},
   "source": [
    "Before you run the following statement, think about how this notebook will respond.  "
   ]
  },
  {
   "cell_type": "code",
   "execution_count": null,
   "id": "521aaa50-625e-4d4e-acc1-c5311415bcbf",
   "metadata": {},
   "outputs": [],
   "source": [
    "print(msg)"
   ]
  },
  {
   "cell_type": "markdown",
   "id": "46e2223a-fcf2-4c9f-b15e-3d8a4b10f1fd",
   "metadata": {},
   "source": [
    "You should have received a \"NameError\" specifying that variable named \"msg\" was not defined.  One of the key challenges while programming is to find and correct mistakes such as this.  \n",
    "\n",
    "Before we use a variable on the right hand side of an assignment or in other statements, we must first define that variable by assigning a value to it."
   ]
  },
  {
   "cell_type": "markdown",
   "id": "370e69d1-4021-4c8a-be5d-b394184ac6a6",
   "metadata": {},
   "source": [
    "### Variable Naming Rules\n",
    "As you name a variable, you should create names that represent the purpose of that variable. The variable name must also follow these rules:\n",
    "- can only contain lowercase letters (a-z), uppercase letters (A-Z), digits (0-9), and an underscore(_)\n",
    "- can not begin with a digit\n",
    "- can not be one of Python's reserved keywords.\n",
    "\n",
    "Variable names are case sensitive.\n",
    "\n",
    "By convention, variable names in Python are lower case with words separated by underscores to improve readability:"
   ]
  },
  {
   "cell_type": "code",
   "execution_count": null,
   "id": "fc38d468",
   "metadata": {},
   "outputs": [],
   "source": [
    "num_seconds_per_hour = 3600"
   ]
  },
  {
   "cell_type": "markdown",
   "id": "14ea57e7",
   "metadata": {},
   "source": [
    "To assist yourself and others reading your code, use informative names for variables.  What if we used\n",
    "```\n",
    "g = 3600\n",
    "```\n",
    "in the preceding code block?  Would you be able to figure out the purpose and meaning of `g`?  What happens if you came back to the code a year from now?"
   ]
  },
  {
   "cell_type": "markdown",
   "id": "f6bb9a99",
   "metadata": {},
   "source": [
    "To see the list of reserved keywords, execute the following statement:"
   ]
  },
  {
   "cell_type": "code",
   "execution_count": null,
   "id": "7589763e-4ae7-41f9-9eb7-3dc0f54a807f",
   "metadata": {},
   "outputs": [],
   "source": [
    "help(\"keywords\")"
   ]
  },
  {
   "cell_type": "markdown",
   "id": "28053138-3670-4741-949f-c2a01c10e80f",
   "metadata": {},
   "source": [
    "Don't worry if the output (the list of keywords) does not yet make sense, we will cover most of these keywords in this class.\n",
    "\n",
    "To see more information about a particular keyword, type help(\"_keywordName_\").  Try looking a couple of different keywords.  "
   ]
  },
  {
   "cell_type": "code",
   "execution_count": null,
   "id": "d66ff042-5b55-4473-ac3e-30785c22cbc1",
   "metadata": {
    "scrolled": true
   },
   "outputs": [],
   "source": [
    "help(\"for\")"
   ]
  },
  {
   "cell_type": "markdown",
   "id": "6d4bf0d5",
   "metadata": {},
   "source": [
    "## Statements\n",
    "The assignments and function calls are examples of statements - a unit of instruction to the computer to perform a specific action.  Programs are just a series of these statements."
   ]
  },
  {
   "cell_type": "markdown",
   "id": "14363b83",
   "metadata": {},
   "source": [
    "## Objects Redux\n",
    "To circle back to the start of this notebook, all data in Python are managed as objects.  As such, we typically have ways to inspect the state of a particular object as well as to execute methods on those objects.\n",
    "\n",
    "While the data shown in this notebook have relatively simple states (i.e., just the value of the integer, float, or string datatype), they do have additional behavior defined.\n",
    "\n",
    "Integer values are typically represented as [binary numbers](https://en.wikipedia.org/wiki/Binary_number#Counting_in_binary) within the computer's memory.  To see how long a particular representation is (i.e., how many zeros and ones are needed), we can call the ```bit_length()``` method on an integer. `bit_length()` is an example of object behavior."
   ]
  },
  {
   "cell_type": "code",
   "execution_count": null,
   "id": "047e77c2",
   "metadata": {},
   "outputs": [],
   "source": [
    "x = 65535\n",
    "x.bit_length()"
   ]
  },
  {
   "cell_type": "markdown",
   "id": "76d6b0e3",
   "metadata": {},
   "source": [
    "When you see a pattern such as <code><i>object_name.method</i>()</code> (e.g., `x.bit_length()`) that's using behavior associated with that object.  Programmers will read this as calling _method_name_ for _object_name_. Methods are pretty much the same thing as functions, except that they belong to a particular object.\n",
    "\n",
    "As with functions, we will use a number of predefined object types (classes) as well as writing our own.\n",
    "\n",
    "To see the available methods on an object, we use the built-in ```dir()``` function.  This can be called with a literal value, a type name, or a variable.  For example,\n",
    "```\n",
    "dir(65535)\n",
    "dir(int)\n",
    "dir(x)\n",
    "```\n",
    "will all return the same output."
   ]
  },
  {
   "cell_type": "code",
   "execution_count": null,
   "id": "7a264ffb",
   "metadata": {},
   "outputs": [],
   "source": [
    "dir(int)"
   ]
  },
  {
   "cell_type": "markdown",
   "id": "44ce419f",
   "metadata": {},
   "source": [
    "As you examine the output for ```dir(int)```, you'll notice a number of methods begin and end with double underscores.  Referred to as \"dunder\" methods, these methods serve as special functions within Python (initialize an object ```__init__```, produce a string representation of an object ```__str__```,...) or override built-in functions and operators (abs() ```__abs__```, = ```__eq__```, etc.) Normally, we do not directly call these methods, but rather implicitly invoked them through other operations.\n",
    "\n",
    "For example, the following code uses `__abs__()` from the `int` class to get the absolute value."
   ]
  },
  {
   "cell_type": "code",
   "execution_count": 2,
   "id": "da377bc4",
   "metadata": {},
   "outputs": [
    {
     "name": "stdout",
     "output_type": "stream",
     "text": [
      "50\n"
     ]
    }
   ],
   "source": [
    "a = -50\n",
    "a = abs(a)\n",
    "print(a)"
   ]
  },
  {
   "cell_type": "markdown",
   "id": "88cd4993",
   "metadata": {},
   "source": [
    "## Getting Help\n",
    "To get help on a particular method, we can use the ```help()``` method.  For these, we'll need to pass either an object reference or the type name along with the method we want help for)"
   ]
  },
  {
   "cell_type": "code",
   "execution_count": null,
   "id": "b4f4960d",
   "metadata": {},
   "outputs": [],
   "source": [
    "help(int.bit_length)"
   ]
  },
  {
   "cell_type": "code",
   "execution_count": null,
   "id": "e842436c",
   "metadata": {},
   "outputs": [],
   "source": [
    "help(x.bit_length)"
   ]
  },
  {
   "cell_type": "markdown",
   "id": "76ee00f2",
   "metadata": {},
   "source": [
    "We can also just get help information on the data type itself."
   ]
  },
  {
   "cell_type": "code",
   "execution_count": null,
   "id": "f9a72edf",
   "metadata": {},
   "outputs": [],
   "source": [
    "help(int)"
   ]
  },
  {
   "cell_type": "markdown",
   "id": "93dcd91c",
   "metadata": {},
   "source": [
    "## Jupyter Notes\n",
    "Within the Jupyter environment, we can also access the help documentation with a `?` after an item:"
   ]
  },
  {
   "cell_type": "code",
   "execution_count": 3,
   "id": "4eef853c",
   "metadata": {},
   "outputs": [],
   "source": [
    "int?"
   ]
  },
  {
   "cell_type": "markdown",
   "id": "eccae246",
   "metadata": {},
   "source": [
    "You can also see the relevant source code of the object by typing `??`.  If the source code does not appear that means the function or object is not directly implemented in Python, but rather in C or C++."
   ]
  },
  {
   "cell_type": "code",
   "execution_count": 11,
   "id": "32ff91ba",
   "metadata": {},
   "outputs": [],
   "source": [
    "int??"
   ]
  },
  {
   "cell_type": "markdown",
   "id": "bf6e2869",
   "metadata": {},
   "source": [
    "In Jupyter, as you type an object or function name, you can press the tab key to autocomplete the current term or see a pop-up list of possible choices.  After each of the items in the next code block, press the Tab key."
   ]
  },
  {
   "cell_type": "code",
   "execution_count": null,
   "id": "e6d37383",
   "metadata": {},
   "outputs": [],
   "source": [
    "a.bit_l\n",
    "a."
   ]
  },
  {
   "cell_type": "markdown",
   "id": "4220949f",
   "metadata": {},
   "source": [
    "One final note with regards to Jupyter.  We have used a mixture of just using a variable by itself on the last line of a code block or printing that value.  If the last line of a code block returns a value, Jupyter automatically takes that return value and prints the value.  Simply typing a variable name by itself, returns the value of that variable."
   ]
  },
  {
   "cell_type": "code",
   "execution_count": 14,
   "id": "75079198",
   "metadata": {},
   "outputs": [
    {
     "data": {
      "text/plain": [
       "50"
      ]
     },
     "execution_count": 14,
     "metadata": {},
     "output_type": "execute_result"
    }
   ],
   "source": [
    "a"
   ]
  },
  {
   "cell_type": "markdown",
   "id": "62394239",
   "metadata": {},
   "source": [
    "We have also explicitly printed the value calling the `print()` function."
   ]
  },
  {
   "cell_type": "code",
   "execution_count": 15,
   "id": "e1b4c4d9",
   "metadata": {},
   "outputs": [
    {
     "name": "stdout",
     "output_type": "stream",
     "text": [
      "50\n"
     ]
    }
   ],
   "source": [
    "print(a)"
   ]
  },
  {
   "cell_type": "markdown",
   "id": "5cb20dd4",
   "metadata": {},
   "source": [
    "While in these two examples, the output has been the same, that's not universally true.\n",
    "\n",
    "If we just have a value by itself on a line and then another statement, Jupyter will not display the value.  The next code block does not display any value."
   ]
  },
  {
   "cell_type": "code",
   "execution_count": 18,
   "id": "4b0fca39",
   "metadata": {},
   "outputs": [],
   "source": [
    "a\n",
    "x = 10 "
   ]
  }
 ],
 "metadata": {
  "kernelspec": {
   "display_name": "Python 3 (ipykernel)",
   "language": "python",
   "name": "python3"
  },
  "language_info": {
   "codemirror_mode": {
    "name": "ipython",
    "version": 3
   },
   "file_extension": ".py",
   "mimetype": "text/x-python",
   "name": "python",
   "nbconvert_exporter": "python",
   "pygments_lexer": "ipython3",
   "version": "3.10.4"
  }
 },
 "nbformat": 4,
 "nbformat_minor": 5
}
