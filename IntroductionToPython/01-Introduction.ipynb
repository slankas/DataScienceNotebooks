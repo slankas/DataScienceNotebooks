{
 "cells": [
  {
   "cell_type": "markdown",
   "id": "451c809e",
   "metadata": {},
   "source": [
    "<div class=\"pagebreak\"></div>\n",
    "\n",
    "# Introduction\n",
    "\n",
    "Effective programming combines problem-solving skills, domain knowledge, and programming skills; these notebooks will target each of these different areas.  The overall goal, though, is not necessarily to teach you Python but rather how you can solve problems and perform tasks with computer programs.\n",
    "\n",
    "A program is a series of instructions to carry out a specific task.  These tasks can run a large gamut of possibilities:\n",
    "- solving mathematical problems\n",
    "- processing images and text\n",
    "- playing video games\n",
    "- analyzing financial data\n",
    "- making decisions (which covers another range from answering simple yes/no questions to driving a car).\n",
    "\n",
    "Learning to program is not a passive activity.  You cannot simply just read documentation and these notebooks.  Becoming an effective programmer takes targeted practice, and that practice takes time.  These notebooks will present fundamental concepts, how Python implements those concepts, and then how you can solve real problems with those concepts. These notebooks contain a large amount of Python code. Not only should you run this code, but you should also make changes to the code and see what happens. Do not be afraid to make mistakes - try things! The computer does not care and will not make fun of you. You should complete the exercises at the end of each notebook. Yes, we provide many of the answers. However, you will learn more by attempting the exercises on your own. We have written these exercises to reinforce the concepts presented.\n",
    "\n",
    "The following notebook presents an approach to solving problems with programming.  The fundamental principle is understanding what occurs and how we can translate that into a series of steps.  And most importantly, plan how to implement that approach before you write any code. Once we have those steps, we can then write code.  As you perform this process, you should have a paper handy to take notes and record your thoughts.\n",
    "\n",
    "To start our journey to learn computer programming through Python, this notebook contains three separate programs to demonstrate some of the capabilities of computer programs and some fundamental concepts within computer science. As these are some of the first Python programs you might have seen, we provide detailed explanations. We do not expect that you will now be able to write equivalent programs."
   ]
  },
  {
   "cell_type": "markdown",
   "id": "6df4ba82",
   "metadata": {},
   "source": [
    "## Sample Program: The Wayback Machine\n",
    "\n",
    "The following program allows users to enter a particular web address (URL) and date. The program will then query the \"Wayback Machine\" hosted at https://archive.org/ to find a copy of that web address closest to the entered date and open the results in a new browser window."
   ]
  },
  {
   "cell_type": "code",
   "execution_count": 2,
   "id": "a8f0d274-4c3e-4403-bdf8-5e03da7cf508",
   "metadata": {},
   "outputs": [
    {
     "name": "stdout",
     "output_type": "stream",
     "text": [
      "Let's find an old website.\n",
      "Type a website URL: http://irishwildcat.com\n",
      "Type a year, month, and day, like 20140410: 20140410\n",
      "Found this copy:  http://web.archive.org/web/20140317220451/http://irishwildcat.com:80/\n",
      "It should appear in your browser now.\n"
     ]
    }
   ],
   "source": [
    "import webbrowser\n",
    "import json\n",
    "from urllib import request \n",
    "    \n",
    "print(\"Let's find an old website.\")\n",
    "site = input(\"Type a website URL: \")\n",
    "era = input(\"Type a year, month, and day, like 20140410: \")\n",
    "url = \"http://archive.org/wayback/available?url=%s&timestamp=%s\" % (site, era)\n",
    "response = request.urlopen(url)\n",
    "contents = response.read()\n",
    "data = json.loads(contents)\n",
    "try:\n",
    "    old_site_url = data[\"archived_snapshots\"][\"closest\"][\"url\"]\n",
    "    print(\"Found this copy: \", old_site_url)\n",
    "    print(\"It should appear in your browser now.\")\n",
    "    webbrowser.open(old_site_url)\n",
    "except:\n",
    "    print(\"Sorry, no luck accessing\", site)"
   ]
  },
  {
   "cell_type": "markdown",
   "id": "d0627c44",
   "metadata": {},
   "source": [
    "Source: _Introducing Python: Modern Computing in Simple Packages, 2nd Ed_, Bill Lubanovic [O'Reilly](https://learning.oreilly.com/library/view/introducing-python-2nd/9781492051374/) [Amazon](https://www.amazon.com/Introducing-Python-Modern-Computing-Packages-dp-1492051365/dp/1492051365)"
   ]
  },
  {
   "cell_type": "markdown",
   "id": "4d426c5a",
   "metadata": {},
   "source": [
    "While you may be new to programming, hopefully you can see how the previous code block worked.\n",
    "\n",
    "A few general notes:\n",
    "1. This code makes substantial use of existing modules and functions.  `webbrowser`, `json`, and `urllib` are modules - collection of code others have written that we can use in our code. One of the benefits of most programming languages is the libraries - both delivered as part of the programming platform (aka, \"standard libraries\") as well as those that others have written.  These libraries abstract many of the tasks to perform specific functionality and make doing those tasks much simpler than if we had to entirely write the system.\n",
    "2. Statements that look like _name_(_value_) are  function calls.  These function calls allow us to access code that has been previously written and performs a certain task.  \n",
    "3. Statements that look like _name_._name_(_value_) are also function calls, but these functions belong to modules."
   ]
  },
  {
   "cell_type": "markdown",
   "id": "dc8edee7",
   "metadata": {},
   "source": [
    "<br>Note: If you need to see line numbers, refer to the previous notebook for instructions to enable them.\n",
    "\n",
    "* Lines 1 and 2 let the program use the `webbrowser` and `json` libraries.  The `webbrowser` library allows the program to open a new browser window with a URL (line 16).  [JSON](https://www.json.org/) has become one of the standards for exchanging data through internet-based APIs. The course will cover JSON in more detail in later notebooks. The `json` library provides code to parse the JSON data format.\n",
    "* Line 3 allows us to use the `request` module from the `urllib` package.  A package is a just a group of related modules. As you can see from these first three lines, one of Python's advantages is the large number of included standard libraries and available 3<sup>rd</sup> party open-source libraries.\n",
    "* Line 5 prints a message to the console telling the user what the program will do\n",
    "* Line 6 allows the user to type in the URL for a particular website.  For this example, I used `http://irishwildcat.com`, an old blog no longer available on the Internet.\n",
    "* Line 7 gets a date in a particular format, starting with the year, month, and day.  This representation is based upon an international standard - [ISO-8601](https://en.wikipedia.org/wiki/ISO_8601) - for dates and times.\n",
    "* Line 8 creates a variable called `url` to point to a location on Wayback Machine at https://archive.org/\n",
    "* Line 9 opens a connection to that url on archive.org and places the result into the variable `response`.  It performs this by calling the `urlopen()` function within the `request` module.\n",
    "* Line 10 then reads the text output from that connection, setting the output into the variable `contents`\n",
    "* Line 11 converts the contents of the text variable (which contains a JSON object) to a Python dictionary.  A dictionary stores data in key-value pairs - we discuss this in much greater detail in a later notebook.\n",
    "* In lines 12-18, we execute a code block in a special region.  If a Python error occurs, the interpreter will detect the error and show the user the message in line 18.\n",
    "* Line 13 grabs a specific web address (URL) from the results of the Wayback Machine.\n",
    "* Line 14 prints that URL\n",
    "* Line 15 tells the user that we will open that URL in a new browser window.\n",
    "* Line 16 then opens a browser window with that URL. NOTE: this will not work in Google Colaboratory.\n",
    "\n",
    "Note: if you want to see the values of some of these intermediate values, you can edit the above source code and insert a line such as the following just after that variable is assigned (before line 12):\n",
    "```\n",
    "print(contents)\n",
    "```"
   ]
  },
  {
   "cell_type": "markdown",
   "id": "301f5964",
   "metadata": {},
   "source": [
    "## Sample Program: A Google Search\n",
    "In this section, the following Python statements will perform a Google search, access one of the pages, and print the extracted text from that page.\n",
    "\n",
    "First, we need to make available the functionality to perform the search:"
   ]
  },
  {
   "cell_type": "code",
   "execution_count": null,
   "id": "b1ea8800-d12c-4709-93ea-1d35d7645d14",
   "metadata": {},
   "outputs": [],
   "source": [
    "from googlesearch import search"
   ]
  },
  {
   "cell_type": "markdown",
   "id": "7fe4fc8a-b5f7-4360-a26a-c628de50c74e",
   "metadata": {},
   "source": [
    "To see help information about the `search()` method from the `googlesearch` module, you can call a built-in function `help()`:"
   ]
  },
  {
   "cell_type": "code",
   "execution_count": null,
   "id": "1fb06ddd",
   "metadata": {},
   "outputs": [],
   "source": [
    "help(search)"
   ]
  },
  {
   "cell_type": "markdown",
   "id": "8b0dc8df",
   "metadata": {},
   "source": [
    "Within a Jupyter notebook, we can also use a `?` after an item to see the help."
   ]
  },
  {
   "cell_type": "code",
   "execution_count": null,
   "id": "b0a0b774",
   "metadata": {},
   "outputs": [],
   "source": [
    "search?"
   ]
  },
  {
   "cell_type": "markdown",
   "id": "da6c4bfa",
   "metadata": {},
   "source": [
    "In the following cell, the program searches Google for the terms \"financial technology\". The program then converts that result into a built-in data structure called a list that holds a sequence of \"things/data\" in a particular order.\n",
    "\n",
    "As we call `search`, we pass four arguments:\n",
    "* query terms\n",
    "* num - number of  search results per page\n",
    "* stop - last result number to retrieve\n",
    "* pause - a time in seconds to wait between making requests to Google.\n"
   ]
  },
  {
   "cell_type": "code",
   "execution_count": null,
   "id": "b79f1e92-f0ff-4e3e-bcb4-e34d929f25a2",
   "metadata": {},
   "outputs": [],
   "source": [
    "search_results = list(search(\"financial technology\", num=10, stop=30, pause=2))"
   ]
  },
  {
   "cell_type": "markdown",
   "id": "7e7a7836",
   "metadata": {},
   "source": [
    "Note: if you receive the following error message, you need to make Python aware of the root certificates such that the Python interpreter can validate the secure connection to the web server that provides the search results:\n",
    "```\n",
    "URLError: <urlopen error [SSL: CERTIFICATE_VERIFY_FAILED] certificate verify failed: unable to get local issuer certificate (_ssl.c:997)>\n",
    "```\n",
    "On MacOS, open a terminal window and execute the following commands (assumes Python 3.10 is installed):\n",
    "```\n",
    "cd  /Applications/Python\\ 3.10\n",
    "./Install\\ Certificates.command\n",
    "```"
   ]
  },
  {
   "cell_type": "markdown",
   "id": "6190a14f",
   "metadata": {},
   "source": [
    "This next cell displays the documentation associated with the type of `search_results`."
   ]
  },
  {
   "cell_type": "code",
   "execution_count": null,
   "id": "c0a08dd2-a519-448f-91c8-83a54eccece8",
   "metadata": {},
   "outputs": [],
   "source": [
    "help(search_results)"
   ]
  },
  {
   "cell_type": "markdown",
   "id": "4cae1a28",
   "metadata": {},
   "source": [
    "The following code block prints the number of entries in the list `search_result` followed by the entry in the first position.  For largely historical reasons tied to what was a performance optimization, most programming languages start to count things at 0 and then go to length-1 for the last item. [Zero-Based Numbering](https://en.wikipedia.org/wiki/Zero-based_numbering)\n",
    "\n",
    "Try running the following block with different values for `0`.  What happens if `[0]` is removed?"
   ]
  },
  {
   "cell_type": "code",
   "execution_count": null,
   "id": "e5899cb8-8a42-44e4-8909-bd536128a0f3",
   "metadata": {},
   "outputs": [],
   "source": [
    "print(len(search_results))\n",
    "print(search_results[0])"
   ]
  },
  {
   "cell_type": "markdown",
   "id": "16e19889",
   "metadata": {},
   "source": [
    "This next code block takes that particular URL, opens a network connection to that URL, and then reads the results into the variable `mystr`.\n",
    "\n",
    "Then the code uses the BeautifulSoup library to parse the returned HTML document. The program then extracts all text content, placing the results in `text`."
   ]
  },
  {
   "cell_type": "code",
   "execution_count": null,
   "id": "13bc7b17-72a8-45c4-b7a3-12f30bd4f09f",
   "metadata": {},
   "outputs": [],
   "source": [
    "url = search_results[3]\n",
    "import urllib.request\n",
    "from bs4 import BeautifulSoup\n",
    "\n",
    "fp = urllib.request.urlopen(url)\n",
    "mybytes = fp.read()\n",
    "\n",
    "mystr = mybytes.decode(\"utf-8\")   # convert from bytes into a string representation\n",
    "fp.close()\n",
    "\n",
    "soup = BeautifulSoup(mystr)\n",
    "[s.extract() for s in soup(['style', 'script', '[document]', 'head', 'title'])]\n",
    "text = soup.getText(separator=\"\\n\")\n",
    "# break into lines and remove leading and trailing space on each\n",
    "lines = (line.strip() for line in text.splitlines())\n",
    "# break multi-headlines into a line each\n",
    "chunks = (phrase.strip() for line in lines for phrase in line.split(\"  \"))\n",
    "# drop blank lines\n",
    "text = '\\n'.join(chunk for chunk in chunks if chunk)\n",
    "\n",
    "print(text)"
   ]
  },
  {
   "cell_type": "markdown",
   "id": "259bbe35",
   "metadata": {},
   "source": [
    "Yes, the output is rather messy.  Part of the challenge with scraping websites is to figure out what to keep and how to combine the results effectively. With a text analysis task such as this, researchers look to see how we can effectively extract the relevant text and then find meaning in that text. \n",
    "\n",
    "Again, many different things occur in the previous text book.  Do not worry if it all does not make sense.  Part of these two code samples is to show you possible destinations on this coding journey that you have just started."
   ]
  },
  {
   "cell_type": "markdown",
   "id": "719596d2",
   "metadata": {},
   "source": [
    "## Sample Program: Traveling Salesperson and Solvability\n",
    "Fundamentally, computer science is concerned with asking if a particular problem can be solved and, if it is solvable, how expensive is a specific solution.\n",
    "\n",
    "One of the most well-studied problems in computer science is the [traveling salesperson problem](https://en.wikipedia.org/wiki/Travelling_salesman_problem).  Suppose a salesperson has to visit $n$  cities and return to that starting point.  What is the shortest route that visits each city exactly once?\n",
    "\n",
    "The brute-force method would be to try all possible [permutations](https://en.wikipedia.org/wiki/Permutation) of the city routes. With three cities, the following possibilities exist:\n",
    "- City 1, City 2, City 3\n",
    "- City 1, City 3, City 2\n",
    "- City 2, City 1, City 3\n",
    "- City 2, City 3, City 1\n",
    "- City 3, City 1, City 2\n",
    "- City 3, City 2, City 1\n",
    "\n",
    "How long would it take to search all the possibilities to find the optimal answer?\n",
    "\n",
    "$n!$ possible permutations exist.\n",
    "\n",
    "Assuming we can search one billion possibilities in a second, how much time is required to solve the problem for 20 cities? 100 cities?"
   ]
  },
  {
   "cell_type": "code",
   "execution_count": null,
   "id": "5eb0778c",
   "metadata": {},
   "outputs": [],
   "source": [
    "import math\n",
    "\n",
    "num_sec_in_day = 24 * 60 * 60\n",
    "num_tries_per_second = 1_000_000_000\n",
    "num_cities = 20\n",
    "num_route_permutations = math.factorial(num_cities)\n",
    "num_days = num_route_permutations // num_tries_per_second // num_sec_in_day\n",
    "print(f\"{num_days:,}\")"
   ]
  },
  {
   "cell_type": "markdown",
   "id": "16c923ab",
   "metadata": {},
   "source": [
    "Try running the above code block for different values for the number of cities. If you use a small value, the program prints zero as the code uses integral division `//` which discards the remainder (e.g., `5/2` has the result of `2`, not `2.5`).  For small values, take out `// num_sec_in_day` to see the number of seconds or alter the assumption of one billion tries per second. How could you convert the result to the number of years?  Try making these code changes in the above cell and re-running the cell. Part of being a computer scientist is to explore different possibilities.\n",
    "\n",
    "[You can also step through the code to see what occurs on each program step](https://pythontutor.com/render.html#code=import%20math%0A%0Anum_sec_in_day%20%3D%2024%20*%2060%20*%2060%0Anum_tries_per_second%20%3D%201_000_000_000%0Anum_cities%20%3D%2020%0Anum_route_permutations%20%3D%20math.factorial%28num_cities%29%0Anum_days%20%3D%20num_route_permutations%20//%20num_tries_per_second%20//%20num_sec_in_day%0Aprint%28f%22%7Bnum_days%3A,%7D%22%29&cumulative=false&curInstr=0&heapPrimitives=nevernest&mode=display&origin=opt-frontend.js&py=3&rawInputLstJSON=%5B%5D&textReferences=false).\n",
    "\n",
    "The traveling salesperson problem has direct applicability to real-life:\n",
    "- Creating routes on maps\n",
    "- Delivery schedules for companies such as Amazon, FedEx, and UPS."
   ]
  },
  {
   "cell_type": "markdown",
   "id": "8d7dc1ab",
   "metadata": {},
   "source": [
    "## What is a Program?\n",
    "As mentioned at the start of this notebook, a program is a series of instructions to carry out a specific task.\n",
    "As you ran through these different examples, you may have noticed a few commonalities.\n",
    "\n",
    "1. Each of these programs had some sort of input.  The first example asked for the input from the user. The other two had \"hard-coded\" inputs through the search terms and the number of cities.\n",
    "2. Each of the programs had some sort of output (result). \n",
    "3. All three had some form of sequence of commands with assignments, mathematical operations, or other statements.\n",
    "4. Each program used variables to hold information containing the current state of the program.\n",
    "5. Each program used existing libraries and functions to produce the desired functionality. One aspect of modern programming is not only learning the syntax (the rules) of a programming language, but learning how to find and use existing libraries. \n",
    "\n",
    "Additionally, as these notebooks will demonstrate, programs typically contain some form of conditional expression that determines if different blocks of code should execute. Finally, the last fundamental commonality is that programs will regularly have some form of repetition where an action (or sequence of actions) will repeated."
   ]
  },
  {
   "cell_type": "markdown",
   "id": "86a1bf48",
   "metadata": {},
   "source": [
    "## Abstraction and Encapsulation\n",
    "\n",
    "One of the keys to successful programming is to apply fundamental programming principles.  In this notebook, we have relied heavily upon two, abstraction and encapsulation, frequently appearing together. Abstraction seeks to distill a concept into its fundamental parts, while encapsulation hides the implementation's necessary and sometimes complex details. With abstraction, we focus on the outside view of an object or function, while encapsulation hides the exact details and steps to perform a specific task. For example, to query the Wayback Machine, many details were encapsulated by the `urllib` module. We did not have to concern ourselves with opening a network connection, following the HTTP protocol, and parsing the results. Instead, the `urllib` module handled those tasks with an abstracted (simplified) view to open a URL and read the response - the fundamental operations.\n",
    "\n",
    "We take advantage of abstraction, encapsulation, and other programming principles when we use existing classes, modules, and functions. As a result, we can solve real-life problems by focusing on the essential parts without understanding the precise implementation details. Throughout these notebooks, we will apply programming principles to model real-life systems, problems, and tasks."
   ]
  },
  {
   "cell_type": "markdown",
   "id": "32cbe661",
   "metadata": {},
   "source": [
    "## Python Documentation\n",
    "Python offers substantial documentation - both from within the interpreter with the `help()` function and online.\n",
    "\n",
    "The homepage for the Python documentation is at https://docs.python.org/3/   \n",
    "Visit that site and see what is available."
   ]
  }
 ],
 "metadata": {
  "kernelspec": {
   "display_name": "Python 3 (ipykernel)",
   "language": "python",
   "name": "python3"
  },
  "language_info": {
   "codemirror_mode": {
    "name": "ipython",
    "version": 3
   },
   "file_extension": ".py",
   "mimetype": "text/x-python",
   "name": "python",
   "nbconvert_exporter": "python",
   "pygments_lexer": "ipython3",
   "version": "3.10.4"
  },
  "vscode": {
   "interpreter": {
    "hash": "0f957281fc3781c316a9193433068c70453e544896b85fb65515914100b2495a"
   }
  }
 },
 "nbformat": 4,
 "nbformat_minor": 5
}
