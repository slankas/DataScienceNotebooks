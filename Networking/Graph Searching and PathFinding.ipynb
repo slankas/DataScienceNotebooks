{
 "cells": [
  {
   "cell_type": "code",
   "execution_count": 1,
   "metadata": {},
   "outputs": [],
   "source": [
    "import csv \n",
    "import sys\n",
    "\n",
    "from collections import defaultdict"
   ]
  },
  {
   "cell_type": "code",
   "execution_count": 2,
   "metadata": {},
   "outputs": [],
   "source": [
    "# Tests to see if we are running in the Google Colaboratory environment\n",
    "# If so, use an https URL to access the data.  Otherwise, load via the file path\n",
    "try:\n",
    "  import google.colab\n",
    "  data_file_prefix = \"https://raw.githubusercontent.com/slankas/DataScienceNotebooks/master/Networking/\"\n",
    "  import plotly.io as pio\n",
    "  pio.renderers.default = 'colab'\n",
    "except:\n",
    "  data_file_prefix = \"\""
   ]
  },
  {
   "cell_type": "code",
   "execution_count": 3,
   "metadata": {},
   "outputs": [],
   "source": [
    "# This class represents a directed graph using adjacency list representation\n",
    "# list of dictionary objects.  By default, adjacency list representation is directed \n",
    "class Graph:\n",
    "\n",
    "    def __init__(self):\n",
    "        self.graph = defaultdict(list)\n",
    " \n",
    "    def addEdge(self,u,v,w):\n",
    "        self.graph[u].append( { \"node\": v, \"weight\": w} )\n",
    " \n",
    "    # Function to print a BFS of graph\n",
    "    def BFS(self, s):\n",
    " \n",
    "        # Mark all the vertices as not visited\n",
    "        visited = defaultdict(bool)\n",
    " \n",
    "        # Create a queue for BFS\n",
    "        queue = []\n",
    " \n",
    "        # Mark the source node as visited and enqueue it\n",
    "        queue.append(s)\n",
    "        visited[s] = True\n",
    " \n",
    "        count = 0;\n",
    "        while queue:\n",
    "            # Dequeue a vertex from queue and print it\n",
    "            s = queue.pop(0)\n",
    "            count = count+1\n",
    "            print (str(count)+\": \"+s)\n",
    " \n",
    "            # Get all adjacent vertices of the dequeued vertex s. If a adjacent\n",
    "            # has not been visited, then enqueue it and mark visited \n",
    "            for i in self.graph[s]:\n",
    "                if visited[i[\"node\"]] == False:\n",
    "                    queue.append(i[\"node\"])\n",
    "                    visited[i[\"node\"]] = True\n",
    "                    \n",
    "                    \n",
    "    def DFSRecurse(self, v, visited):\n",
    " \n",
    "        # Mark the current node as visited\n",
    "        # and print it\n",
    "        visited[v] = True\n",
    "        print(v)\n",
    " \n",
    "        # Recur for all the vertices\n",
    "        # adjacent to this vertex\n",
    "        for neighbor in self.graph[v]:\n",
    "            if not visited[neighbor[\"node\"]]:\n",
    "                self.DFSRecurse(neighbor[\"node\"], visited)\n",
    " \n",
    "    # perform DFS traversal.\n",
    "    def DFS(self, s):\n",
    "        # Create a dictionary to store visited vertices\n",
    "        visited = defaultdict(bool)\n",
    " \n",
    "        self.DFSRecurse(s, visited)\n",
    "    \n",
    "        \n",
    "        "
   ]
  },
  {
   "cell_type": "code",
   "execution_count": 4,
   "metadata": {},
   "outputs": [],
   "source": [
    "g = Graph()\n",
    "\n",
    "with open(data_file_prefix+\"data/transportEdges.csv\", 'r' ) as theFile:\n",
    "    reader = csv.DictReader(theFile)\n",
    "    for line in reader:\n",
    "        g.addEdge(line[\"src\"],line[\"dst\"],line[\"cost\"])\n",
    "        g.addEdge(line[\"dst\"],line[\"src\"],line[\"cost\"])"
   ]
  },
  {
   "cell_type": "code",
   "execution_count": 5,
   "metadata": {},
   "outputs": [
    {
     "name": "stdout",
     "output_type": "stream",
     "text": [
      "Breadth-first traversal starting at 'Den Haag' \n",
      "1: Den Haag\n",
      "2: Amsterdam\n",
      "3: Rotterdam\n",
      "4: Hoek van Holland\n",
      "5: Gouda\n",
      "6: Utrecht\n",
      "7: Immingham\n",
      "8: Felixstowe\n",
      "9: Doncaster\n",
      "10: Ipswich\n",
      "11: London\n",
      "12: Colchester\n"
     ]
    }
   ],
   "source": [
    "print (\"Breadth-first traversal starting at 'Den Haag' \")\n",
    "g.BFS('Den Haag')"
   ]
  },
  {
   "cell_type": "code",
   "execution_count": 6,
   "metadata": {},
   "outputs": [
    {
     "name": "stdout",
     "output_type": "stream",
     "text": [
      "Depth-first traversal starting at 'Den Haag' \n",
      "Den Haag\n",
      "Amsterdam\n",
      "Utrecht\n",
      "Gouda\n",
      "Rotterdam\n",
      "Hoek van Holland\n",
      "Felixstowe\n",
      "Ipswich\n",
      "Colchester\n",
      "London\n",
      "Doncaster\n",
      "Immingham\n"
     ]
    }
   ],
   "source": [
    "print (\"Depth-first traversal starting at 'Den Haag' \")\n",
    "g.DFS('Den Haag')"
   ]
  },
  {
   "cell_type": "code",
   "execution_count": null,
   "metadata": {},
   "outputs": [],
   "source": []
  },
  {
   "cell_type": "code",
   "execution_count": null,
   "metadata": {},
   "outputs": [],
   "source": []
  }
 ],
 "metadata": {
  "kernelspec": {
   "display_name": "Python 3",
   "language": "python",
   "name": "python3"
  },
  "language_info": {
   "codemirror_mode": {
    "name": "ipython",
    "version": 3
   },
   "file_extension": ".py",
   "mimetype": "text/x-python",
   "name": "python",
   "nbconvert_exporter": "python",
   "pygments_lexer": "ipython3",
   "version": "3.8.5"
  }
 },
 "nbformat": 4,
 "nbformat_minor": 4
}
